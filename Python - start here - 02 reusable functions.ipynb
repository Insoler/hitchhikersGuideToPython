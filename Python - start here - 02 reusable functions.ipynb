{
 "cells": [
  {
   "cell_type": "markdown",
   "metadata": {},
   "source": [
    "# `Python`: Start Here\n",
    "## reusable functions\n",
    " <img src=\"pythonLogo.png\" height=\"20%\" width=\"20%\"/>"
   ]
  },
  {
   "cell_type": "markdown",
   "metadata": {},
   "source": [
    "## print() - function\n",
    "- prints values inside as 'strings'\n",
    "- each print() statement begins on a newline"
   ]
  },
  {
   "cell_type": "code",
   "execution_count": 20,
   "metadata": {},
   "outputs": [
    {
     "name": "stdout",
     "output_type": "stream",
     "text": [
      "string literal\n"
     ]
    }
   ],
   "source": [
    "print('string literal')"
   ]
  },
  {
   "cell_type": "code",
   "execution_count": 22,
   "metadata": {},
   "outputs": [
    {
     "name": "stdout",
     "output_type": "stream",
     "text": [
      "To be\n",
      "or not to be\n"
     ]
    }
   ],
   "source": [
    "# each print() statement begins a new line\n",
    "\n",
    "print('To be')\n",
    "print('or not to be')"
   ]
  },
  {
   "cell_type": "code",
   "execution_count": 24,
   "metadata": {},
   "outputs": [
    {
     "name": "stdout",
     "output_type": "stream",
     "text": [
      "2.718\n"
     ]
    }
   ],
   "source": [
    "print(2.718)"
   ]
  },
  {
   "cell_type": "code",
   "execution_count": 5,
   "metadata": {},
   "outputs": [
    {
     "name": "stdout",
     "output_type": "stream",
     "text": [
      "Every object will remain at rest or in uniform motion unless acted on by a net force.\n"
     ]
    }
   ],
   "source": [
    "newtonsFirstLaw = 'Every object will remain at rest or in uniform motion unless acted on by a net force.'\n",
    "\n",
    "print(newtonsFirstLaw)"
   ]
  },
  {
   "cell_type": "code",
   "execution_count": 23,
   "metadata": {},
   "outputs": [
    {
     "name": "stdout",
     "output_type": "stream",
     "text": [
      "42\n"
     ]
    },
    {
     "data": {
      "text/plain": [
       "NoneType"
      ]
     },
     "execution_count": 23,
     "metadata": {},
     "output_type": "execute_result"
    }
   ],
   "source": [
    "# a print() statement has type: None\n",
    "\n",
    "type(print(42))"
   ]
  },
  {
   "cell_type": "markdown",
   "metadata": {},
   "source": [
    "## print() formatting"
   ]
  },
  {
   "cell_type": "markdown",
   "metadata": {},
   "source": [
    "### print() - vs. interactive input\n",
    "\n"
   ]
  },
  {
   "cell_type": "markdown",
   "metadata": {},
   "source": [
    "##### print()\n",
    "- print() displays a 'string' output to the screen"
   ]
  },
  {
   "cell_type": "code",
   "execution_count": 52,
   "metadata": {},
   "outputs": [
    {
     "name": "stdout",
     "output_type": "stream",
     "text": [
      "42\n"
     ]
    }
   ],
   "source": [
    "print(42)"
   ]
  },
  {
   "cell_type": "markdown",
   "metadata": {},
   "source": [
    "##### Out[ ] - interactive output\n",
    "- entering values or variables will not manipulate the program\n",
    "- in interactive mode the last value or variable in sequence will be displayed as output"
   ]
  },
  {
   "cell_type": "code",
   "execution_count": 53,
   "metadata": {},
   "outputs": [
    {
     "data": {
      "text/plain": [
       "42"
      ]
     },
     "execution_count": 53,
     "metadata": {},
     "output_type": "execute_result"
    }
   ],
   "source": [
    "42"
   ]
  },
  {
   "cell_type": "code",
   "execution_count": 4,
   "metadata": {},
   "outputs": [
    {
     "data": {
      "text/plain": [
       "'Every action (force) has an equal and opposite reaction.'"
      ]
     },
     "execution_count": 4,
     "metadata": {},
     "output_type": "execute_result"
    }
   ],
   "source": [
    "2.718\n",
    "\n",
    "42\n",
    "\n",
    "PI = 3.14\n",
    "\n",
    "PI * 42\n",
    "\n",
    "newtonsThirdLaw = \"Every action (force) has an equal and opposite reaction.\"\n",
    "\n",
    "newtonsThirdLaw"
   ]
  },
  {
   "cell_type": "code",
   "execution_count": 56,
   "metadata": {},
   "outputs": [
    {
     "name": "stdout",
     "output_type": "stream",
     "text": [
      "A string output to the screen\n"
     ]
    }
   ],
   "source": [
    "# literals and variables will not be output if any print() statement follows \n",
    "\n",
    "newtonsThirdLaw\n",
    "\n",
    "print('A string output to the screen')"
   ]
  },
  {
   "cell_type": "markdown",
   "metadata": {},
   "source": [
    "## print(VALUE,VALUE,VALUE) - multiple values\n",
    "- print() can take multiple arguments\n",
    "- comma , separated values\n",
    "- output is separated by ' ' space\n",
    "- can combine different type() - unlike 1 argument print() - must be a 'string'"
   ]
  },
  {
   "cell_type": "code",
   "execution_count": 8,
   "metadata": {},
   "outputs": [
    {
     "name": "stdout",
     "output_type": "stream",
     "text": [
      "42 3.14 Thiry six\n"
     ]
    }
   ],
   "source": [
    "print(42,3.14,'Thiry six')"
   ]
  },
  {
   "cell_type": "code",
   "execution_count": 12,
   "metadata": {},
   "outputs": [
    {
     "name": "stdout",
     "output_type": "stream",
     "text": [
      "This is a sentence 3.14 42 **This is also a sentence with a number: 42**\n"
     ]
    }
   ],
   "source": [
    "stringA = 'This is a sentence'\n",
    "stringB = '3.14'\n",
    "integerA = 42\n",
    "\n",
    "print(stringA,stringB,integerA,'**This is'+' also a sentence with a number: ' + str(42) + '**')"
   ]
  },
  {
   "cell_type": "markdown",
   "metadata": {},
   "source": [
    "## escape characters \\ character"
   ]
  },
  {
   "cell_type": "markdown",
   "metadata": {},
   "source": [
    "### \\n - newline character\n",
    "- passed as a 'string'\n",
    "- creates a new line\n",
    "- counts as 1 character"
   ]
  },
  {
   "cell_type": "code",
   "execution_count": 21,
   "metadata": {},
   "outputs": [
    {
     "name": "stdout",
     "output_type": "stream",
     "text": [
      "This is a line.     \n",
      "This is a new line\n",
      "\n",
      "This is a line.     \n",
      " This is a new line\n"
     ]
    }
   ],
   "source": [
    "# space before \\n - does not effect the new line\n",
    "# \\n space after - effects the new line\n",
    "\n",
    "print('This is a line.     \\nThis is a new line')\n",
    "\n",
    "print()\n",
    "\n",
    "print('This is a line.     \\n This is a new line')"
   ]
  },
  {
   "cell_type": "code",
   "execution_count": 14,
   "metadata": {},
   "outputs": [
    {
     "name": "stdout",
     "output_type": "stream",
     "text": [
      "This is a line \n",
      " this is a new line \n",
      " this is another line\n"
     ]
    }
   ],
   "source": [
    "# \\n - newline character\n",
    "# print(argument, argument, argument) - multiple arguments\n",
    "# - still separated by ' ' space \n",
    "\n",
    "\n",
    "print('This is a line','\\n this is a new line','\\n this is another line')"
   ]
  },
  {
   "cell_type": "markdown",
   "metadata": {},
   "source": [
    "## print(argument, end = 'string') - end argument\n",
    "- 'string' passed to end = 'string' function\n",
    "- 'string' passed is deliminator - seperator between arguments"
   ]
  },
  {
   "cell_type": "code",
   "execution_count": 28,
   "metadata": {},
   "outputs": [
    {
     "name": "stdout",
     "output_type": "stream",
     "text": [
      "This is a line This is a new line\n"
     ]
    }
   ],
   "source": [
    "# two print() statements\n",
    "# first statement is directed to use ' ' space as diliminator\n",
    "# no \\n is automatically printed\n",
    "\n",
    "print('This is a line',end = ' ')\n",
    "print('This is a new line')"
   ]
  },
  {
   "cell_type": "code",
   "execution_count": 22,
   "metadata": {},
   "outputs": [
    {
     "name": "stdout",
     "output_type": "stream",
     "text": [
      "1 \n",
      "2 \n",
      "3"
     ]
    }
   ],
   "source": [
    "print('1','\\n2','\\n3',end='')"
   ]
  },
  {
   "cell_type": "markdown",
   "metadata": {},
   "source": [
    "## input() - function\n",
    "- takes a 'string' argument\n",
    "- displays a 'string' prompt\n",
    "- program waits for input\n",
    "- returns 'string' as input"
   ]
  },
  {
   "cell_type": "code",
   "execution_count": 3,
   "metadata": {},
   "outputs": [
    {
     "name": "stdout",
     "output_type": "stream",
     "text": [
      "Enter something: Alex\n"
     ]
    },
    {
     "data": {
      "text/plain": [
       "'Alex'"
      ]
     },
     "execution_count": 3,
     "metadata": {},
     "output_type": "execute_result"
    }
   ],
   "source": [
    "# input() - takes a 'string' as an argument\n",
    "\n",
    "input('Enter something: ')                    # value - returns a 'string'"
   ]
  },
  {
   "cell_type": "code",
   "execution_count": 5,
   "metadata": {},
   "outputs": [
    {
     "name": "stdout",
     "output_type": "stream",
     "text": [
      "Enter something: Alex\n",
      "Alex\n"
     ]
    }
   ],
   "source": [
    "# input can be passed directly as an argument\n",
    "\n",
    "print(input('Enter something: '))"
   ]
  },
  {
   "cell_type": "code",
   "execution_count": 6,
   "metadata": {},
   "outputs": [
    {
     "name": "stdout",
     "output_type": "stream",
     "text": [
      "Enter an alphanumeric combination: Alex@35235\n",
      "Alex@35235\n"
     ]
    }
   ],
   "source": [
    "# input() - can be assigned to a variable\n",
    "\n",
    "alphaNumericInput = input('Enter an alphanumeric combination: ')\n",
    "\n",
    "\n",
    "print(alphaNumericInput)"
   ]
  },
  {
   "cell_type": "code",
   "execution_count": 1,
   "metadata": {},
   "outputs": [
    {
     "name": "stdout",
     "output_type": "stream",
     "text": [
      "Enter an alphanumeric combination: 2863dferg\n",
      "Identification number: 2863dferg\n"
     ]
    }
   ],
   "source": [
    "# input() - can be assigned to a variable\n",
    "\n",
    "alphaNumericInput = input('Enter an alphanumeric combination: ')\n",
    "\n",
    "\n",
    "print('Identification number:',alphaNumericInput)"
   ]
  },
  {
   "cell_type": "code",
   "execution_count": 7,
   "metadata": {},
   "outputs": [
    {
     "name": "stdout",
     "output_type": "stream",
     "text": [
      "Enter an alphanumeric combination: Alex23425\n",
      "Alex23425\n"
     ]
    }
   ],
   "source": [
    "# input() - argument can be passed a 'string' variable\n",
    "# input() - can be assigned to a variable\n",
    "\n",
    "inputMessage = 'Enter an alphanumeric combination: '\n",
    "\n",
    "alphaNumericInput = input(inputMessage)\n",
    "\n",
    "\n",
    "print(alphaNumericInput)"
   ]
  },
  {
   "cell_type": "markdown",
   "metadata": {},
   "source": [
    "## # comments\n",
    "- # followed by any characters\n",
    "- not interpreted and left as comment"
   ]
  },
  {
   "cell_type": "code",
   "execution_count": 50,
   "metadata": {},
   "outputs": [
    {
     "name": "stdout",
     "output_type": "stream",
     "text": [
      "This script has comments\n"
     ]
    }
   ],
   "source": [
    "# comments can have thier own line\n",
    "\n",
    "print('This script has comments')        # can follow a line\n",
    "\n",
    "\n",
    "# print('This statement is visible')     # can be used to 'comment' out code - so it is not executed"
   ]
  },
  {
   "cell_type": "markdown",
   "metadata": {},
   "source": [
    "## type() - function\n",
    "returns the type of a value"
   ]
  },
  {
   "cell_type": "code",
   "execution_count": 3,
   "metadata": {},
   "outputs": [
    {
     "data": {
      "text/plain": [
       "int"
      ]
     },
     "execution_count": 3,
     "metadata": {},
     "output_type": "execute_result"
    }
   ],
   "source": [
    "type(42)"
   ]
  },
  {
   "cell_type": "code",
   "execution_count": 2,
   "metadata": {},
   "outputs": [
    {
     "name": "stdout",
     "output_type": "stream",
     "text": [
      "<class 'str'>\n"
     ]
    }
   ],
   "source": [
    "print(type('onomatopoeia'))"
   ]
  },
  {
   "cell_type": "markdown",
   "metadata": {},
   "source": [
    "# type casting\n",
    "changes the type of an object"
   ]
  },
  {
   "cell_type": "markdown",
   "metadata": {},
   "source": [
    "#### str()\n",
    "#### int()\n",
    "#### float()"
   ]
  },
  {
   "cell_type": "code",
   "execution_count": 4,
   "metadata": {},
   "outputs": [
    {
     "name": "stdout",
     "output_type": "stream",
     "text": [
      "<class 'str'>\n"
     ]
    }
   ],
   "source": [
    "stringCasted = str(42)\n",
    "\n",
    "print(type(stringCasted))"
   ]
  },
  {
   "cell_type": "code",
   "execution_count": 14,
   "metadata": {},
   "outputs": [
    {
     "name": "stdout",
     "output_type": "stream",
     "text": [
      "<class 'int'>\n"
     ]
    }
   ],
   "source": [
    "intCasted = int(3.14)\n",
    "\n",
    "print(type(intCasted))\n",
    "\n",
    "# can not accept 'string' as argument\n",
    "# ValueError: invalid literal for int() with base 10: 's'"
   ]
  },
  {
   "cell_type": "code",
   "execution_count": 10,
   "metadata": {},
   "outputs": [
    {
     "name": "stdout",
     "output_type": "stream",
     "text": [
      "<class 'float'>\n"
     ]
    }
   ],
   "source": [
    "floatCasted = float(42)\n",
    "\n",
    "print(type(floatCasted))\n",
    "\n",
    "# can not accept 'string' as argument\n",
    "# ValueError: could not convert string to float: 'a'"
   ]
  },
  {
   "cell_type": "code",
   "execution_count": 17,
   "metadata": {},
   "outputs": [
    {
     "name": "stdout",
     "output_type": "stream",
     "text": [
      "R2D2\n"
     ]
    }
   ],
   "source": [
    "alphaNumeric = 'R' + '2' + 'D' + str(2)\n",
    "\n",
    "print(alphaNumeric)"
   ]
  },
  {
   "cell_type": "code",
   "execution_count": 19,
   "metadata": {},
   "outputs": [
    {
     "name": "stdout",
     "output_type": "stream",
     "text": [
      "22421351425\n"
     ]
    }
   ],
   "source": [
    "print('22' + str(42) + '1351425')"
   ]
  },
  {
   "cell_type": "code",
   "execution_count": 21,
   "metadata": {},
   "outputs": [
    {
     "name": "stdout",
     "output_type": "stream",
     "text": [
      "Enter a number: 2\n",
      "Enter another number: 3\n",
      "2 + 3 = 5\n"
     ]
    }
   ],
   "source": [
    "input1 = input('Enter a number: ')\n",
    "input2 = input('Enter another number: ')\n",
    "\n",
    "print(input1,'+',input2,'=', int(input1) + int(input2))"
   ]
  },
  {
   "cell_type": "code",
   "execution_count": null,
   "metadata": {},
   "outputs": [],
   "source": []
  },
  {
   "cell_type": "code",
   "execution_count": null,
   "metadata": {},
   "outputs": [],
   "source": []
  },
  {
   "cell_type": "code",
   "execution_count": null,
   "metadata": {},
   "outputs": [],
   "source": []
  },
  {
   "cell_type": "code",
   "execution_count": null,
   "metadata": {},
   "outputs": [],
   "source": []
  },
  {
   "cell_type": "code",
   "execution_count": 22,
   "metadata": {},
   "outputs": [
    {
     "name": "stdout",
     "output_type": "stream",
     "text": [
      "Enter an integer: 2\n",
      "Enter an integer: 3\n",
      "6\n"
     ]
    }
   ],
   "source": [
    "####\n",
    "\n",
    "# [ ] create and test multiply() function\n",
    "\n",
    "def getInt():\n",
    "    return input('Enter an integer: ')\n",
    "\n",
    "def multiply(input1,input2):\n",
    "    return str(int(input1)*int(input2))\n",
    "\n",
    "print(multiply(getInt(),getInt()))"
   ]
  },
  {
   "cell_type": "code",
   "execution_count": null,
   "metadata": {},
   "outputs": [],
   "source": [
    "####\n",
    "\n",
    "### or\n",
    "\n",
    "#def multiply(input1=input('Enter an integer: '),input2=input('Enter an integer: ')):\n",
    "#    return str(int(input1)*int(input2))\n",
    "\n",
    "### or \n",
    "\n",
    "def multiply(input1,input2):\n",
    "    return str(int(input1)*int(input2))\n",
    "\n",
    "print(multiply(input('Enter an integer: '),input('Enter an integer: ')))"
   ]
  },
  {
   "cell_type": "code",
   "execution_count": null,
   "metadata": {},
   "outputs": [],
   "source": [
    "####\n",
    "# [ ] create improved multiply() function and test with /, no argument, and an invalid operator ($)\n",
    "\n",
    "def getParam():\n",
    "    return input('Enter an integer: ')\n",
    "\n",
    "def getOperator():\n",
    "    return input('[*,/]: ')\n",
    "\n",
    "def multiplyDivide(input1,input2,input3):\n",
    "        \n",
    "    if input3 == '*':\n",
    "        return str(int(input1)*int(input2))\n",
    "    \n",
    "    elif input3 == '/':\n",
    "        return str(int(input1)/int(input2))\n",
    "    \n",
    "    else:\n",
    "        print('Invalid Operator')\n",
    "\n",
    "print(multiplyDivide(getParam(),getParam(),getOperator()))"
   ]
  }
 ],
 "metadata": {
  "kernelspec": {
   "display_name": "Python 3",
   "language": "python",
   "name": "python3"
  },
  "language_info": {
   "codemirror_mode": {
    "name": "ipython",
    "version": 3
   },
   "file_extension": ".py",
   "mimetype": "text/x-python",
   "name": "python",
   "nbconvert_exporter": "python",
   "pygments_lexer": "ipython3",
   "version": "3.7.0"
  }
 },
 "nbformat": 4,
 "nbformat_minor": 2
}
