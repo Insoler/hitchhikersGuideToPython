{
 "cells": [
  {
   "cell_type": "markdown",
   "metadata": {},
   "source": [
    "# `Python`: Start Here\n",
    "## String manipulation\n",
    " \n",
    " <img src=\"pythonLogo.png\" height=\"20%\" width=\"20%\"/>"
   ]
  },
  {
   "cell_type": "markdown",
   "metadata": {},
   "source": [
    "# String formatting"
   ]
  },
  {
   "cell_type": "markdown",
   "metadata": {},
   "source": [
    "## ' \" \" ' <br/>\n",
    "## \" ' \"\n",
    "\n",
    "### mixing ' \" \" ' or \" ' \""
   ]
  },
  {
   "cell_type": "code",
   "execution_count": 4,
   "metadata": {},
   "outputs": [
    {
     "data": {
      "text/plain": [
       "\" Alex's shoes\""
      ]
     },
     "execution_count": 4,
     "metadata": {},
     "output_type": "execute_result"
    }
   ],
   "source": [
    "\" Alex's shoes\""
   ]
  },
  {
   "cell_type": "code",
   "execution_count": null,
   "metadata": {},
   "outputs": [],
   "source": [
    "'Alex is a \"cool\" guy'"
   ]
  },
  {
   "cell_type": "markdown",
   "metadata": {},
   "source": [
    "## Escape sequences"
   ]
  },
  {
   "cell_type": "markdown",
   "metadata": {},
   "source": [
    "### \\ '\n",
    "\n",
    "### \\ \"\n",
    "\n",
    "### \\ \\\n",
    "\n",
    "### \\ t\n",
    "\n",
    "### \\ n\n",
    "\n",
    "- allow symbols to be used that are otherwise considered part of syntax\n",
    "- allows to print() formatting tabs and newline"
   ]
  },
  {
   "cell_type": "markdown",
   "metadata": {},
   "source": [
    "#### \\ '\n",
    "#### \\ \""
   ]
  },
  {
   "cell_type": "code",
   "execution_count": 2,
   "metadata": {},
   "outputs": [
    {
     "data": {
      "text/plain": [
       "'Alex\\'s shoes are \"cool\"'"
      ]
     },
     "execution_count": 2,
     "metadata": {},
     "output_type": "execute_result"
    }
   ],
   "source": [
    "#Escape sequences to use multiple ' ' or \" \" in strings\n",
    "# \\'\n",
    "# \\\"\n",
    "\n",
    "'Alex\\'s shoes are \\\"cool\\\"'"
   ]
  },
  {
   "cell_type": "markdown",
   "metadata": {},
   "source": [
    "#### \\ \\"
   ]
  },
  {
   "cell_type": "code",
   "execution_count": 2,
   "metadata": {},
   "outputs": [
    {
     "data": {
      "text/plain": [
       "'C:\\\\user\\\\desktop\\\\textFile.txt'"
      ]
     },
     "execution_count": 2,
     "metadata": {},
     "output_type": "execute_result"
    }
   ],
   "source": [
    "#Escape sequences to use \\ in strings\n",
    "# \\\n",
    "\n",
    "'C:\\\\user\\\\desktop\\\\textFile.txt'"
   ]
  },
  {
   "cell_type": "markdown",
   "metadata": {},
   "source": [
    "#### \\ t"
   ]
  },
  {
   "cell_type": "code",
   "execution_count": 2,
   "metadata": {},
   "outputs": [
    {
     "data": {
      "text/plain": [
       "'Alex\\'s shoes are \"cool\"'"
      ]
     },
     "execution_count": 2,
     "metadata": {},
     "output_type": "execute_result"
    }
   ],
   "source": [
    "#Escape sequences to create tab print() formatting\n",
    "# \\t\n",
    "\n",
    "'Alex\\'s shoes are \\\"cool\\\"'"
   ]
  },
  {
   "cell_type": "markdown",
   "metadata": {},
   "source": [
    "#### \\ n"
   ]
  },
  {
   "cell_type": "code",
   "execution_count": 4,
   "metadata": {},
   "outputs": [
    {
     "name": "stdout",
     "output_type": "stream",
     "text": [
      "Alex's \n",
      "shoes \n",
      "are \n",
      "\"cool\"\n"
     ]
    }
   ],
   "source": [
    "#Escape sequences to create newline print() formatting\n",
    "# \\n\n",
    "\n",
    "print('Alex\\'s \\nshoes \\nare \\n\\\"cool\\\"')"
   ]
  },
  {
   "cell_type": "code",
   "execution_count": 7,
   "metadata": {},
   "outputs": [
    {
     "name": "stdout",
     "output_type": "stream",
     "text": [
      "Alex's \n",
      " shoes \n",
      "\t  are \n",
      "\t\"cool\"\n"
     ]
    }
   ],
   "source": [
    "print('Alex\\'s \\n shoes \\n\\t  are \\n\\t\\\"cool\\\"')"
   ]
  },
  {
   "cell_type": "code",
   "execution_count": 5,
   "metadata": {},
   "outputs": [
    {
     "data": {
      "text/plain": [
       "'Alex\\'s \\nshoes \\nare \\n\"cool\"'"
      ]
     },
     "execution_count": 5,
     "metadata": {},
     "output_type": "execute_result"
    }
   ],
   "source": [
    "'Alex\\'s \\nshoes \\nare \\n\\\"cool\\\"'"
   ]
  },
  {
   "cell_type": "code",
   "execution_count": 8,
   "metadata": {},
   "outputs": [
    {
     "name": "stdout",
     "output_type": "stream",
     "text": [
      "Alex likes  \tcheese\n",
      "Alex likes  \tcheese\n",
      "Alex likes\tcheese\n",
      "Alex likes  \t  cheese\n",
      "Alex likes  \t    cheese\n"
     ]
    }
   ],
   "source": [
    "############\n",
    "print('Alex likes  ' + '\\t'  +  'cheese') # (two spaces after 'Alex likes  ') get ignored until after \\t [tab]\n",
    "print('Alex likes' + '  \\t'  +  'cheese') # (two spaces before tab) get ignored until after \\t [tab]\n",
    "print('Alex likes' + '\\t' + 'cheese')\n",
    "print('Alex likes' + '  \\t  '  +  'cheese') # (two spaces after tab)\n",
    "print('Alex likes' + '  \\t  '  +  '  cheese') # (two spaces before 'cheese')\n"
   ]
  },
  {
   "cell_type": "markdown",
   "metadata": {},
   "source": [
    "## Formatting 'String'.methods()\n",
    "- return formatted 'string' value"
   ]
  },
  {
   "cell_type": "markdown",
   "metadata": {},
   "source": [
    "#### .capitalize()\n",
    "#### .lower()\n",
    "#### .upper()\n",
    "#### .swapcase()\n",
    "#### .title()"
   ]
  },
  {
   "cell_type": "markdown",
   "metadata": {},
   "source": [
    "### .capitalize()\n",
    "- Capitalizes first character in 'String'\n",
    "- all other characters become lowercase"
   ]
  },
  {
   "cell_type": "code",
   "execution_count": 8,
   "metadata": {},
   "outputs": [
    {
     "data": {
      "text/plain": [
       "'Lord commander'"
      ]
     },
     "execution_count": 8,
     "metadata": {},
     "output_type": "execute_result"
    }
   ],
   "source": [
    "stringExample = 'lord commander'\n",
    "\n",
    "stringExample.capitalize()"
   ]
  },
  {
   "cell_type": "markdown",
   "metadata": {},
   "source": [
    "### .lower()\n",
    "- All characters in 'string' returned as lowercase"
   ]
  },
  {
   "cell_type": "code",
   "execution_count": 11,
   "metadata": {},
   "outputs": [
    {
     "data": {
      "text/plain": [
       "'lord commander'"
      ]
     },
     "execution_count": 11,
     "metadata": {},
     "output_type": "execute_result"
    }
   ],
   "source": [
    "stringExample = 'LORD Commander'\n",
    "\n",
    "stringExample.lower()"
   ]
  },
  {
   "cell_type": "markdown",
   "metadata": {},
   "source": [
    "### .upper()\n",
    "- All characters in 'string' returned as uppercase"
   ]
  },
  {
   "cell_type": "code",
   "execution_count": 13,
   "metadata": {},
   "outputs": [
    {
     "data": {
      "text/plain": [
       "'LORD COMMANDER'"
      ]
     },
     "execution_count": 13,
     "metadata": {},
     "output_type": "execute_result"
    }
   ],
   "source": [
    "stringExample = 'LORD Commander'\n",
    "\n",
    "stringExample.upper()"
   ]
  },
  {
   "cell_type": "markdown",
   "metadata": {},
   "source": [
    "### .swapcase()\n",
    "- Characters in 'string' switch cases\n",
    "- uppercase become lowercase\n",
    "- lowercase become uppercase"
   ]
  },
  {
   "cell_type": "code",
   "execution_count": 14,
   "metadata": {},
   "outputs": [
    {
     "data": {
      "text/plain": [
       "'lord cOMMANDER'"
      ]
     },
     "execution_count": 14,
     "metadata": {},
     "output_type": "execute_result"
    }
   ],
   "source": [
    "stringExample = 'LORD Commander'\n",
    "\n",
    "stringExample.swapcase()"
   ]
  },
  {
   "cell_type": "markdown",
   "metadata": {},
   "source": [
    "### .title()\n",
    "- Capitalizes first character for each word in 'String'\n",
    "- diliminated by ' ' space\n",
    "- all other characters become lowercase"
   ]
  },
  {
   "cell_type": "code",
   "execution_count": 15,
   "metadata": {},
   "outputs": [
    {
     "data": {
      "text/plain": [
       "'Lordcommander the first'"
      ]
     },
     "execution_count": 15,
     "metadata": {},
     "output_type": "execute_result"
    }
   ],
   "source": [
    "stringExample = 'lordCOMMANDER the first'\n",
    "\n",
    "stringExample.capitalize()"
   ]
  },
  {
   "cell_type": "markdown",
   "metadata": {},
   "source": [
    "## 'string'.method() - can be used on any 'string' value"
   ]
  },
  {
   "cell_type": "code",
   "execution_count": 23,
   "metadata": {},
   "outputs": [
    {
     "data": {
      "text/plain": [
       "'SWAPCASE'"
      ]
     },
     "execution_count": 23,
     "metadata": {},
     "output_type": "execute_result"
    }
   ],
   "source": [
    "'SWAP'+'case'.swapcase()         # order of evaluation - 'case'.swapcase() is evalutated first"
   ]
  },
  {
   "cell_type": "code",
   "execution_count": 22,
   "metadata": {},
   "outputs": [
    {
     "data": {
      "text/plain": [
       "'swapCASE'"
      ]
     },
     "execution_count": 22,
     "metadata": {},
     "output_type": "execute_result"
    }
   ],
   "source": [
    "('SWAP'+'case').swapcase()       # order of evaluation - (parenthesis) force string concatenation to be evaluated first"
   ]
  },
  {
   "cell_type": "code",
   "execution_count": 19,
   "metadata": {},
   "outputs": [
    {
     "name": "stdout",
     "output_type": "stream",
     "text": [
      "Enter a string to swap case: SWapCASE\n",
      "swAPcase\n"
     ]
    }
   ],
   "source": [
    "print(input('Enter a string to swap case: ').swapcase())"
   ]
  },
  {
   "cell_type": "code",
   "execution_count": 3,
   "metadata": {},
   "outputs": [
    {
     "name": "stdout",
     "output_type": "stream",
     "text": [
      "Enter a string to swap case: Super Moto\n",
      "sUPER mOTO\n"
     ]
    }
   ],
   "source": [
    "inputStringSwap = input('Enter a string to swap case: ').swapcase()  # 'string'.method() formats value before bound to variable\n",
    "\n",
    "print(inputStringSwap"
   ]
  },
  {
   "cell_type": "code",
   "execution_count": 2,
   "metadata": {},
   "outputs": [
    {
     "name": "stdout",
     "output_type": "stream",
     "text": [
      "Enter a string to swap case: SuperMoto\n",
      "sUPERmOTO\n"
     ]
    }
   ],
   "source": [
    "inputStringSwap = input('Enter a string to swap case: ')\n",
    "\n",
    "print(inputStringSwap.swapcase())                                    # 'string'.method() formats variable"
   ]
  },
  {
   "cell_type": "markdown",
   "metadata": {},
   "source": [
    "### .strip()\n",
    "- removes whitespace ' ' \\n \\t\n",
    "- at the beggining and end of 'string'"
   ]
  },
  {
   "cell_type": "code",
   "execution_count": 18,
   "metadata": {},
   "outputs": [
    {
     "data": {
      "text/plain": [
       "'lordCOMMANDER \\tthe first'"
      ]
     },
     "execution_count": 18,
     "metadata": {},
     "output_type": "execute_result"
    }
   ],
   "source": [
    "stringExample = '  lordCOMMANDER \\tthe first  \\n'               # \\t - escape sequence is not removed\n",
    "                                                                # not at the beggining or the end of 'string'\n",
    "stringExample.strip()"
   ]
  }
 ],
 "metadata": {
  "kernelspec": {
   "display_name": "Python 3",
   "language": "python",
   "name": "python3"
  },
  "language_info": {
   "codemirror_mode": {
    "name": "ipython",
    "version": 3
   },
   "file_extension": ".py",
   "mimetype": "text/x-python",
   "name": "python",
   "nbconvert_exporter": "python",
   "pygments_lexer": "ipython3",
   "version": "3.7.0"
  }
 },
 "nbformat": 4,
 "nbformat_minor": 2
}
