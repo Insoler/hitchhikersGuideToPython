{
 "cells": [
  {
   "cell_type": "markdown",
   "metadata": {},
   "source": [
    "# `Python`\n",
    "## Dictionaries\n",
    " \n",
    " <img src=\"pythonLogo.png\" height=\"20%\" width=\"20%\"/>"
   ]
  },
  {
   "cell_type": "markdown",
   "metadata": {},
   "source": [
    "### sequence of `values (types/objects)`\n",
    "## a dictionary is a `sequence of values` called `key-value pairs`"
   ]
  },
  {
   "cell_type": "markdown",
   "metadata": {},
   "source": [
    "- like a `list()`, but `more generalized`\n",
    "- `lists()`'s `index positions` are `integers`"
   ]
  },
  {
   "cell_type": "markdown",
   "metadata": {},
   "source": [
    "## `dictionaries` are enclosed inside { } curly brackets"
   ]
  },
  {
   "cell_type": "markdown",
   "metadata": {},
   "source": [
    "# { }"
   ]
  },
  {
   "cell_type": "code",
   "execution_count": 2,
   "metadata": {},
   "outputs": [
    {
     "data": {
      "text/plain": [
       "{}"
      ]
     },
     "execution_count": 2,
     "metadata": {},
     "output_type": "execute_result"
    }
   ],
   "source": [
    "# an empty dictionary literal\n",
    "\n",
    "{}\n"
   ]
  },
  {
   "cell_type": "code",
   "execution_count": 6,
   "metadata": {},
   "outputs": [
    {
     "name": "stdout",
     "output_type": "stream",
     "text": [
      "{}\n",
      "{}\n",
      "<class 'dict'>\n"
     ]
    }
   ],
   "source": [
    "newDictLiteral = {}\n",
    "\n",
    "print({})\n",
    "print(newDictLiteral)\n",
    "print(type(newDictLiteral))"
   ]
  },
  {
   "cell_type": "markdown",
   "metadata": {},
   "source": [
    "# `dict()`\n",
    "- dictionary's indices can be (almost) any type"
   ]
  },
  {
   "cell_type": "code",
   "execution_count": 16,
   "metadata": {},
   "outputs": [
    {
     "data": {
      "text/plain": [
       "{}"
      ]
     },
     "execution_count": 16,
     "metadata": {},
     "output_type": "execute_result"
    }
   ],
   "source": [
    "# an empty dictionary instantiation\n",
    "\n",
    "dict()\n"
   ]
  },
  {
   "cell_type": "code",
   "execution_count": 5,
   "metadata": {},
   "outputs": [
    {
     "name": "stdout",
     "output_type": "stream",
     "text": [
      "{'f': 'f'}\n",
      "{}\n",
      "<class 'dict'>\n"
     ]
    }
   ],
   "source": [
    "newDict = dict()\n",
    "\n",
    "print(dict())\n",
    "print(newDict)\n",
    "print(type(newDict))"
   ]
  },
  {
   "cell_type": "markdown",
   "metadata": {},
   "source": [
    "# `key-value pairs` (items)\n",
    "\n"
   ]
  },
  {
   "cell_type": "markdown",
   "metadata": {},
   "source": [
    "### `key`s              - set of indices\n",
    "## separated by `:` colon\n",
    "### mapped to set of `value`s"
   ]
  },
  {
   "cell_type": "code",
   "execution_count": 54,
   "metadata": {},
   "outputs": [
    {
     "data": {
      "text/plain": [
       "{'vessel': 'uscgc venturous'}"
      ]
     },
     "execution_count": 54,
     "metadata": {},
     "output_type": "execute_result"
    }
   ],
   "source": [
    "# key : value\n",
    "{'vessel':'uscgc venturous'}"
   ]
  },
  {
   "cell_type": "markdown",
   "metadata": {},
   "source": [
    "## enclosed in `{ }` square brackets\n",
    "## { key : value }"
   ]
  },
  {
   "cell_type": "code",
   "execution_count": 13,
   "metadata": {
    "scrolled": true
   },
   "outputs": [
    {
     "data": {
      "text/plain": [
       "{'hull number': 625}"
      ]
     },
     "execution_count": 13,
     "metadata": {},
     "output_type": "execute_result"
    }
   ],
   "source": [
    "{'hull number':625}\n"
   ]
  },
  {
   "cell_type": "markdown",
   "metadata": {},
   "source": [
    "## are `,` comma separated\n",
    "## {key :value, key: value, key : value}"
   ]
  },
  {
   "cell_type": "code",
   "execution_count": 15,
   "metadata": {},
   "outputs": [],
   "source": [
    "coastGuardCutter = {'vessel':'uscgc venturous','tonnage':210, 'hull number':625}\n",
    "\n"
   ]
  },
  {
   "cell_type": "code",
   "execution_count": 14,
   "metadata": {},
   "outputs": [
    {
     "name": "stdout",
     "output_type": "stream",
     "text": [
      "{'vessel': 'uscgc venturous', 'tonnage': 210, 'hull number': 625}\n"
     ]
    }
   ],
   "source": [
    "print({'vessel':'uscgc venturous','tonnage':210, 'hull number':625})\n"
   ]
  },
  {
   "cell_type": "code",
   "execution_count": 16,
   "metadata": {
    "scrolled": true
   },
   "outputs": [
    {
     "name": "stdout",
     "output_type": "stream",
     "text": [
      "{'vessel': 'uscgc venturous', 'tonnage': 210, 'hull number': 625}\n"
     ]
    }
   ],
   "source": [
    "print(coastGuardCutter)\n"
   ]
  },
  {
   "cell_type": "markdown",
   "metadata": {},
   "source": [
    "# `dictionaries` can either be instantiated by\n"
   ]
  },
  {
   "cell_type": "markdown",
   "metadata": {},
   "source": [
    "### `key-values` enclosed within `{ } square backets` - dictionary `literal`\n",
    "\n",
    "\n",
    "<br/>\n",
    "or\n",
    "<br/>\n",
    "\n",
    "### `dict({})` instantiates a `literal` within `dict()`\n",
    "\n",
    "<br/>\n",
    "or\n",
    "<br/>\n",
    "\n",
    "### `dictionary[KEY]` = `value`"
   ]
  },
  {
   "cell_type": "code",
   "execution_count": 26,
   "metadata": {},
   "outputs": [
    {
     "name": "stdout",
     "output_type": "stream",
     "text": [
      "{'vessel': 'uscgc venturous'}\n"
     ]
    }
   ],
   "source": [
    "wmec625 = {'vessel':'uscgc venturous'}\n",
    "\n",
    "print(wmec625)"
   ]
  },
  {
   "cell_type": "code",
   "execution_count": 25,
   "metadata": {},
   "outputs": [
    {
     "name": "stdout",
     "output_type": "stream",
     "text": [
      "{'vessel': 'uscgc healy'}\n"
     ]
    }
   ],
   "source": [
    "wagb20 = dict({'vessel':'uscgc healy'})\n",
    "\n",
    "print(wagb20)"
   ]
  },
  {
   "cell_type": "code",
   "execution_count": 36,
   "metadata": {},
   "outputs": [
    {
     "name": "stdout",
     "output_type": "stream",
     "text": [
      "{'wmec-620': 'resolute'}\n"
     ]
    }
   ],
   "source": [
    "newDict[keyVariable] = valueVariable\n",
    "\n",
    "print(newDict)"
   ]
  },
  {
   "cell_type": "markdown",
   "metadata": {},
   "source": [
    "# modifying & accessing `dictionary keys (indices)`"
   ]
  },
  {
   "cell_type": "markdown",
   "metadata": {},
   "source": [
    "# assignment expression\n",
    "\n",
    "### `dictionary[KEY]` = `value` \n",
    "- NEW key-value pair"
   ]
  },
  {
   "cell_type": "code",
   "execution_count": 57,
   "metadata": {},
   "outputs": [],
   "source": [
    "wmecClassDictionary = dict()  # can also use {}\n",
    "\n",
    "wmecClassDictionary['wmec-625'] = 'venturous'"
   ]
  },
  {
   "cell_type": "code",
   "execution_count": 58,
   "metadata": {},
   "outputs": [
    {
     "name": "stdout",
     "output_type": "stream",
     "text": [
      "{'wmec-625': 'venturous'}\n"
     ]
    }
   ],
   "source": [
    "print(wmecClassDictionary)"
   ]
  },
  {
   "cell_type": "code",
   "execution_count": 61,
   "metadata": {},
   "outputs": [
    {
     "name": "stdout",
     "output_type": "stream",
     "text": [
      "{'wmec-625': 'venturous', 'wmec-620': 'resolute'}\n"
     ]
    }
   ],
   "source": [
    "keyVariable = 'wmec-620'\n",
    "valueVariable = 'resolute'\n",
    "\n",
    "wmecClassDictionary[keyVariable] = valueVariable\n",
    "\n",
    "print(wmecClassDictionary)"
   ]
  },
  {
   "cell_type": "code",
   "execution_count": 60,
   "metadata": {
    "scrolled": true
   },
   "outputs": [
    {
     "name": "stdout",
     "output_type": "stream",
     "text": [
      "{'wmec-620': 'resolute'}\n"
     ]
    }
   ],
   "source": [
    "wmekeyVariable = 'wmec-620'\n",
    "valueVariable = 'resolute'\n",
    "\n",
    "newDict[keyVariable] = valueVariable\n",
    "\n",
    "print(newDict)"
   ]
  },
  {
   "cell_type": "markdown",
   "metadata": {},
   "source": [
    "## `dictionary` element `assignment/modify expressions`\n",
    "## in contrast to `list`\n",
    "<br/>\n",
    "<b>modify</b> or <b>assignment expression</b> `.insert(INDEX,value)` for list() as well\n",
    "\n",
    "similar to <b>modify</b> `list[INDEX] = value`\n",
    "\n",
    "#### CAN NOT be used to `assign new values`"
   ]
  },
  {
   "cell_type": "code",
   "execution_count": 55,
   "metadata": {},
   "outputs": [
    {
     "name": "stdout",
     "output_type": "stream",
     "text": [
      "[]\n",
      "[42]\n"
     ]
    }
   ],
   "source": [
    "newList = list()  # can use []\n",
    "\n",
    "# IndexError: list assignment index out of range\n",
    "\n",
    "# newList[0] = 1\n",
    "\n",
    "print(newList)\n",
    "\n",
    "\n",
    "# list.insert(INDEX,VLAUE) - similar to    dictionary[KEY] = VALUE\n",
    "newList.insert(0,42)\n",
    "\n",
    "print(newList)"
   ]
  },
  {
   "cell_type": "markdown",
   "metadata": {},
   "source": [
    "# modify expression\n",
    "\n",
    "### `dictionary[KEY]` = `value`\n",
    "- EXISTING key-value pair"
   ]
  },
  {
   "cell_type": "code",
   "execution_count": 62,
   "metadata": {},
   "outputs": [
    {
     "name": "stdout",
     "output_type": "stream",
     "text": [
      "{'wmec-625': 'venturous', 'wmec-620': '**UPDATED VALUE**'}\n"
     ]
    }
   ],
   "source": [
    "keyVariable = 'wmec-620'\n",
    "valueVariable = '**UPDATED VALUE**'\n",
    "\n",
    "wmecClassDictionary[keyVariable] = valueVariable\n",
    "\n",
    "print(wmecClassDictionary)"
   ]
  },
  {
   "cell_type": "markdown",
   "metadata": {},
   "source": [
    "# access expression\n",
    "\n",
    "### `dictionary[KEY]`\n",
    "- EXISTING key-value pair"
   ]
  },
  {
   "cell_type": "code",
   "execution_count": 63,
   "metadata": {},
   "outputs": [
    {
     "name": "stdout",
     "output_type": "stream",
     "text": [
      "venturous\n"
     ]
    }
   ],
   "source": [
    "print(wmecClassDictionary['wmec-625'])"
   ]
  },
  {
   "cell_type": "code",
   "execution_count": 65,
   "metadata": {},
   "outputs": [
    {
     "name": "stdout",
     "output_type": "stream",
     "text": [
      "**UPDATED VALUE**\n"
     ]
    }
   ],
   "source": [
    "print(wmecClassDictionary['wmec-620'])"
   ]
  },
  {
   "cell_type": "code",
   "execution_count": 64,
   "metadata": {},
   "outputs": [
    {
     "name": "stdout",
     "output_type": "stream",
     "text": [
      "resolute\n"
     ]
    }
   ],
   "source": [
    "print(newDict['wmec-620'])"
   ]
  },
  {
   "cell_type": "markdown",
   "metadata": {},
   "source": [
    "## key must be valid or error will be produced"
   ]
  },
  {
   "cell_type": "code",
   "execution_count": 98,
   "metadata": {},
   "outputs": [],
   "source": [
    "# KeyError: 'wmec-400'\n",
    "\n",
    "# print(newDict['wmec-400'])"
   ]
  },
  {
   "cell_type": "markdown",
   "metadata": {},
   "source": [
    "# the `order` of dictionary `key-value` pairs is `unpredictable`\n",
    "## and varies across computers"
   ]
  },
  {
   "cell_type": "code",
   "execution_count": 84,
   "metadata": {},
   "outputs": [
    {
     "name": "stdout",
     "output_type": "stream",
     "text": [
      "{'vessel': 'uscgc venturous', 'class': 'reliance', 'type': 'medium endurance cutter', 'tonnage': 210, 'hull number': 625, 'underway': True}\n"
     ]
    }
   ],
   "source": [
    "cutter = {'vessel':'uscgc venturous','class':'reliance','type':'medium endurance cutter','tonnage':210, 'hull number':625,'underway':True}\n",
    "print(cutter)"
   ]
  },
  {
   "cell_type": "markdown",
   "metadata": {},
   "source": [
    "### this is `not a problem` because dictionaries are not limited to `int indexes`\n",
    "### `keys` can be `searched` to find `corresponding values`\n",
    "### `order of items` does `NOT matter` because `key always maps to specific value`"
   ]
  },
  {
   "cell_type": "code",
   "execution_count": 96,
   "metadata": {},
   "outputs": [
    {
     "name": "stdout",
     "output_type": "stream",
     "text": [
      "['Reliance', 'Diligence', 'Vigilant', 'Active', 'Confidence', 'Resolute', 'Valiant', 'Courageous', 'Steadfast', 'Dauntless', 'Venturous', 'Dependable', 'Vigorous', 'Durable', 'Decisive', 'Alert']\n"
     ]
    }
   ],
   "source": [
    "print(cutter['class'])"
   ]
  },
  {
   "cell_type": "code",
   "execution_count": 95,
   "metadata": {},
   "outputs": [
    {
     "name": "stdout",
     "output_type": "stream",
     "text": [
      "210\n"
     ]
    }
   ],
   "source": [
    "print(cutter['tonnage'])"
   ]
  },
  {
   "cell_type": "markdown",
   "metadata": {},
   "source": [
    "## `key - value` pairs can be `different types`\n",
    "\n",
    "## `(objects)` & `other collections` \n",
    "\n",
    "### (lists,dictionaries,tuples,etc.)"
   ]
  },
  {
   "cell_type": "code",
   "execution_count": 94,
   "metadata": {},
   "outputs": [
    {
     "name": "stdout",
     "output_type": "stream",
     "text": [
      "{'vessel': 'uscgc venturous', 'class': ['Reliance', 'Diligence', 'Vigilant', 'Active', 'Confidence', 'Resolute', 'Valiant', 'Courageous', 'Steadfast', 'Dauntless', 'Venturous', 'Dependable', 'Vigorous', 'Durable', 'Decisive', 'Alert'], 'type': 'medium endurance cutter', 'tonnage': 210, 'hull number': 625, 'underway': True}\n"
     ]
    }
   ],
   "source": [
    "wmexHull = ['WMEC-615','WMEC-616','WMEC-617','WMEC-618','WMEC-619','WMEC-620','WMEC-621','WMEC-622','WMEC-623','WMEC-624',\n",
    "'WMEC-625','WMEC-626','WMEC-627','WMEC-628','WMEC-629','WMEC-630']\n",
    "\n",
    "\n",
    "wmecClass = ['Reliance','Diligence','Vigilant','Active','Confidence','Resolute','Valiant','Courageous','Steadfast','Dauntless',\n",
    "'Venturous','Dependable','Vigorous','Durable','Decisive','Alert']\n",
    "\n",
    "cutter = {'vessel':'uscgc venturous','class':wmecClass,'type':'medium endurance cutter',\n",
    "'tonnage':210, 'hull number':625,'underway':True}\n",
    "\n",
    "print(cutter)"
   ]
  },
  {
   "cell_type": "markdown",
   "metadata": {},
   "source": [
    "# accessing `keys` & `values`"
   ]
  },
  {
   "cell_type": "markdown",
   "metadata": {},
   "source": [
    "# `len()`\n",
    "#### returns number of key-value pairs"
   ]
  },
  {
   "cell_type": "code",
   "execution_count": 103,
   "metadata": {
    "scrolled": true
   },
   "outputs": [
    {
     "data": {
      "text/plain": [
       "6"
      ]
     },
     "execution_count": 103,
     "metadata": {},
     "output_type": "execute_result"
    }
   ],
   "source": [
    "len(cutter)"
   ]
  },
  {
   "cell_type": "markdown",
   "metadata": {},
   "source": [
    "# python does not iterate through the values of a dict()\n",
    "### unlike a list()\n",
    "## a for loop iterator will return the keys"
   ]
  },
  {
   "cell_type": "code",
   "execution_count": 109,
   "metadata": {},
   "outputs": [
    {
     "name": "stdout",
     "output_type": "stream",
     "text": [
      "vessel\n",
      "class\n",
      "type\n",
      "tonnage\n",
      "hull number\n",
      "underway\n"
     ]
    }
   ],
   "source": [
    "for iterator in cutter:\n",
    "    print(iterator)"
   ]
  },
  {
   "cell_type": "markdown",
   "metadata": {},
   "source": [
    "# `.keys()`\n",
    "#### returns dictionary `keys` as a `list()`\n",
    "#### which can then be searched for the key"
   ]
  },
  {
   "cell_type": "code",
   "execution_count": 113,
   "metadata": {},
   "outputs": [
    {
     "data": {
      "text/plain": [
       "dict_keys(['vessel', 'class', 'type', 'tonnage', 'hull number', 'underway'])"
      ]
     },
     "execution_count": 113,
     "metadata": {},
     "output_type": "execute_result"
    }
   ],
   "source": [
    "cutter.keys()"
   ]
  },
  {
   "cell_type": "code",
   "execution_count": 114,
   "metadata": {},
   "outputs": [
    {
     "name": "stdout",
     "output_type": "stream",
     "text": [
      "vessel\n",
      "class\n",
      "type\n",
      "tonnage\n",
      "hull number\n",
      "underway\n"
     ]
    }
   ],
   "source": [
    "for key in cutter.keys():\n",
    "    print(key)"
   ]
  },
  {
   "cell_type": "markdown",
   "metadata": {},
   "source": [
    "# `list(dictionary.keys())`\n",
    "returns a type: `dict_keys` \n",
    "must be converted to `list()` with `list()`to be searched"
   ]
  },
  {
   "cell_type": "code",
   "execution_count": 120,
   "metadata": {},
   "outputs": [
    {
     "name": "stdout",
     "output_type": "stream",
     "text": [
      "<class 'dict_keys'>\n"
     ]
    }
   ],
   "source": [
    "print(type(cutter.keys()))"
   ]
  },
  {
   "cell_type": "code",
   "execution_count": 121,
   "metadata": {
    "scrolled": true
   },
   "outputs": [
    {
     "name": "stdout",
     "output_type": "stream",
     "text": [
      "vessel\n",
      "class\n",
      "type\n",
      "tonnage\n",
      "hull number\n",
      "underway\n"
     ]
    }
   ],
   "source": [
    "listCutter = list(cutter.keys())\n",
    "\n",
    "for keys in listCutter:\n",
    "    print(keys)"
   ]
  },
  {
   "cell_type": "markdown",
   "metadata": {},
   "source": [
    "# `.values()`\n",
    "#### returns dictionary `values` as a `list()`\n",
    "#### which can then be searched for the value"
   ]
  },
  {
   "cell_type": "code",
   "execution_count": 106,
   "metadata": {
    "scrolled": false
   },
   "outputs": [
    {
     "data": {
      "text/plain": [
       "dict_values(['uscgc venturous', ['Reliance', 'Diligence', 'Vigilant', 'Active', 'Confidence', 'Resolute', 'Valiant', 'Courageous', 'Steadfast', 'Dauntless', 'Venturous', 'Dependable', 'Vigorous', 'Durable', 'Decisive', 'Alert'], 'medium endurance cutter', 210, 625, True])"
      ]
     },
     "execution_count": 106,
     "metadata": {},
     "output_type": "execute_result"
    }
   ],
   "source": [
    "cutter.values()"
   ]
  },
  {
   "cell_type": "code",
   "execution_count": 70,
   "metadata": {
    "scrolled": true
   },
   "outputs": [
    {
     "name": "stdout",
     "output_type": "stream",
     "text": [
      "uscgc venturous\n",
      "reliance\n",
      "medium endurance cutter\n",
      "210\n",
      "625\n",
      "True\n"
     ]
    }
   ],
   "source": [
    "for value in cutter.values():\n",
    "    print(value)"
   ]
  },
  {
   "cell_type": "markdown",
   "metadata": {},
   "source": [
    "# `list(dictionary.values())`\n",
    "returns a type: `dict_values` \n",
    "must be converted to `list()` with `list()`to be searched"
   ]
  },
  {
   "cell_type": "code",
   "execution_count": 115,
   "metadata": {},
   "outputs": [
    {
     "name": "stdout",
     "output_type": "stream",
     "text": [
      "<class 'dict_values'>\n"
     ]
    }
   ],
   "source": [
    "print(type(cutter.values()))"
   ]
  },
  {
   "cell_type": "code",
   "execution_count": 118,
   "metadata": {
    "scrolled": true
   },
   "outputs": [
    {
     "name": "stdout",
     "output_type": "stream",
     "text": [
      "uscgc venturous\n",
      "['Reliance', 'Diligence', 'Vigilant', 'Active', 'Confidence', 'Resolute', 'Valiant', 'Courageous', 'Steadfast', 'Dauntless', 'Venturous', 'Dependable', 'Vigorous', 'Durable', 'Decisive', 'Alert']\n",
      "medium endurance cutter\n",
      "210\n",
      "625\n",
      "True\n"
     ]
    }
   ],
   "source": [
    "listCutter = list(cutter.values())\n",
    "\n",
    "for values in listCutter:\n",
    "    print(values)"
   ]
  },
  {
   "cell_type": "markdown",
   "metadata": {},
   "source": [
    "# `.items()`\n",
    "#### returns dictionary `key-value pairs (items)` as a `tuple`\n",
    "#### which can then be searched for the value"
   ]
  },
  {
   "cell_type": "code",
   "execution_count": 122,
   "metadata": {
    "scrolled": false
   },
   "outputs": [
    {
     "data": {
      "text/plain": [
       "dict_items([('vessel', 'uscgc venturous'), ('class', ['Reliance', 'Diligence', 'Vigilant', 'Active', 'Confidence', 'Resolute', 'Valiant', 'Courageous', 'Steadfast', 'Dauntless', 'Venturous', 'Dependable', 'Vigorous', 'Durable', 'Decisive', 'Alert']), ('type', 'medium endurance cutter'), ('tonnage', 210), ('hull number', 625), ('underway', True)])"
      ]
     },
     "execution_count": 122,
     "metadata": {},
     "output_type": "execute_result"
    }
   ],
   "source": [
    "cutter.items()"
   ]
  },
  {
   "cell_type": "code",
   "execution_count": 123,
   "metadata": {
    "scrolled": true
   },
   "outputs": [
    {
     "name": "stdout",
     "output_type": "stream",
     "text": [
      "('vessel', 'uscgc venturous')\n",
      "('class', ['Reliance', 'Diligence', 'Vigilant', 'Active', 'Confidence', 'Resolute', 'Valiant', 'Courageous', 'Steadfast', 'Dauntless', 'Venturous', 'Dependable', 'Vigorous', 'Durable', 'Decisive', 'Alert'])\n",
      "('type', 'medium endurance cutter')\n",
      "('tonnage', 210)\n",
      "('hull number', 625)\n",
      "('underway', True)\n"
     ]
    }
   ],
   "source": [
    "for item in cutter.items():\n",
    "    print(item)"
   ]
  },
  {
   "cell_type": "markdown",
   "metadata": {},
   "source": [
    "# `list(dictionary.items())`\n",
    "returns a type: `dict_values` \n",
    "can be converted to `list()` or `tuple()`to be searched"
   ]
  },
  {
   "cell_type": "code",
   "execution_count": 124,
   "metadata": {},
   "outputs": [
    {
     "name": "stdout",
     "output_type": "stream",
     "text": [
      "<class 'dict_items'>\n"
     ]
    }
   ],
   "source": [
    "print(type(cutter.items()))"
   ]
  },
  {
   "cell_type": "code",
   "execution_count": 141,
   "metadata": {
    "scrolled": false
   },
   "outputs": [
    {
     "name": "stdout",
     "output_type": "stream",
     "text": [
      "<class 'list'>\n",
      "\n",
      "vessel\n",
      "uscgc venturous\n",
      "\n",
      "class\n",
      "['Reliance', 'Diligence', 'Vigilant', 'Active', 'Confidence', 'Resolute', 'Valiant', 'Courageous', 'Steadfast', 'Dauntless', 'Venturous', 'Dependable', 'Vigorous', 'Durable', 'Decisive', 'Alert']\n",
      "\n",
      "type\n",
      "medium endurance cutter\n",
      "\n",
      "tonnage\n",
      "210\n",
      "\n",
      "hull number\n",
      "625\n",
      "\n",
      "underway\n",
      "True\n",
      "\n"
     ]
    }
   ],
   "source": [
    "listCutter = list(cutter.items())\n",
    "\n",
    "print(type(listCutter))\n",
    "print()\n",
    "\n",
    "for item in listCutter:\n",
    "    print(item[0])\n",
    "    print(item[1])\n",
    "    print()\n",
    "    \n"
   ]
  },
  {
   "cell_type": "code",
   "execution_count": 142,
   "metadata": {
    "scrolled": false
   },
   "outputs": [
    {
     "name": "stdout",
     "output_type": "stream",
     "text": [
      "<class 'tuple'>\n",
      "\n",
      "vessel :\n",
      "uscgc venturous\n",
      "\n",
      "class :\n",
      "['Reliance', 'Diligence', 'Vigilant', 'Active', 'Confidence', 'Resolute', 'Valiant', 'Courageous', 'Steadfast', 'Dauntless', 'Venturous', 'Dependable', 'Vigorous', 'Durable', 'Decisive', 'Alert']\n",
      "\n",
      "type :\n",
      "medium endurance cutter\n",
      "\n",
      "tonnage :\n",
      "210\n",
      "\n",
      "hull number :\n",
      "625\n",
      "\n",
      "underway :\n",
      "True\n",
      "\n"
     ]
    }
   ],
   "source": [
    "tupleCutter = tuple(cutter.items())\n",
    "\n",
    "print(type(tupleCutter))\n",
    "print()\n",
    "\n",
    "for keys,values in listCutter:\n",
    "    print(keys,':')\n",
    "    print(values)\n",
    "    print()"
   ]
  },
  {
   "cell_type": "code",
   "execution_count": 143,
   "metadata": {},
   "outputs": [
    {
     "name": "stdout",
     "output_type": "stream",
     "text": [
      "('vessel', 'uscgc venturous')\n",
      "('class', ['Reliance', 'Diligence', 'Vigilant', 'Active', 'Confidence', 'Resolute', 'Valiant', 'Courageous', 'Steadfast', 'Dauntless', 'Venturous', 'Dependable', 'Vigorous', 'Durable', 'Decisive', 'Alert'])\n",
      "('type', 'medium endurance cutter')\n",
      "('tonnage', 210)\n",
      "('hull number', 625)\n",
      "('underway', True)\n",
      "\n",
      "<class 'tuple'>\n"
     ]
    }
   ],
   "source": [
    "for item in cutter.items():\n",
    "    print(item)\n",
    "    \n",
    "print()    \n",
    "print(type(item))"
   ]
  },
  {
   "cell_type": "markdown",
   "metadata": {},
   "source": [
    "# `in` operator\n",
    "#### returns `boolean`\n",
    "#### returns `True` if `operand is a KEY` in dictionary\n",
    "#### returns `False` if `otherwise`"
   ]
  },
  {
   "cell_type": "code",
   "execution_count": 104,
   "metadata": {},
   "outputs": [
    {
     "data": {
      "text/plain": [
       "True"
      ]
     },
     "execution_count": 104,
     "metadata": {},
     "output_type": "execute_result"
    }
   ],
   "source": [
    "'vessel' in cutter"
   ]
  },
  {
   "cell_type": "code",
   "execution_count": 105,
   "metadata": {
    "scrolled": true
   },
   "outputs": [
    {
     "data": {
      "text/plain": [
       "False"
      ]
     },
     "execution_count": 105,
     "metadata": {},
     "output_type": "execute_result"
    }
   ],
   "source": [
    "'years active' in cutter"
   ]
  },
  {
   "cell_type": "markdown",
   "metadata": {},
   "source": [
    "# `in` operator search algorithms\n",
    "- uses different algorithms for `lists()` & `dict()`"
   ]
  },
  {
   "cell_type": "markdown",
   "metadata": {},
   "source": [
    "### implementation - a method of performing a computation\n",
    "\n",
    "some implimentations are better than others"
   ]
  },
  {
   "cell_type": "markdown",
   "metadata": {},
   "source": [
    "# lists():\n",
    "\n",
    "# `linear search algorithm`\n",
    "search time longer as list() gets longer\n",
    "-directly proportionate to length of list"
   ]
  },
  {
   "cell_type": "markdown",
   "metadata": {},
   "source": [
    "# dictionaries():\n",
    "\n",
    "# `hash table`\n",
    "search time never varies - no matter the size of the list\n"
   ]
  },
  {
   "cell_type": "markdown",
   "metadata": {},
   "source": [
    "### Counter for frequency of alphabetical characters in a string\n",
    "all three implementations are the same"
   ]
  },
  {
   "cell_type": "markdown",
   "metadata": {},
   "source": [
    "#### 1 - 26 variables, one for each letter of the alphabet\n",
    "traverse the 'string'\n",
    "increment a counter for each character that appears\n",
    "using chained conditional logic"
   ]
  },
  {
   "cell_type": "code",
   "execution_count": null,
   "metadata": {},
   "outputs": [],
   "source": []
  },
  {
   "cell_type": "markdown",
   "metadata": {},
   "source": [
    "#### 2 - create list with 26 elements\n",
    "function: ord - convert each character to a number\n",
    "- use numbers as index to access list and increment an element in the list as a counter"
   ]
  },
  {
   "cell_type": "code",
   "execution_count": null,
   "metadata": {},
   "outputs": [],
   "source": []
  },
  {
   "cell_type": "markdown",
   "metadata": {},
   "source": [
    "#### 3 - create a dictionary with characters as keys and counters for values\n",
    "add the character to dict() on first sight - increment count of existing value after first sight"
   ]
  },
  {
   "cell_type": "code",
   "execution_count": null,
   "metadata": {},
   "outputs": [],
   "source": []
  },
  {
   "cell_type": "code",
   "execution_count": null,
   "metadata": {},
   "outputs": [],
   "source": []
  },
  {
   "cell_type": "code",
   "execution_count": null,
   "metadata": {},
   "outputs": [],
   "source": []
  },
  {
   "cell_type": "code",
   "execution_count": null,
   "metadata": {},
   "outputs": [],
   "source": []
  },
  {
   "cell_type": "code",
   "execution_count": null,
   "metadata": {},
   "outputs": [],
   "source": []
  },
  {
   "cell_type": "code",
   "execution_count": null,
   "metadata": {},
   "outputs": [],
   "source": []
  },
  {
   "cell_type": "code",
   "execution_count": null,
   "metadata": {},
   "outputs": [],
   "source": []
  },
  {
   "cell_type": "code",
   "execution_count": null,
   "metadata": {},
   "outputs": [],
   "source": []
  },
  {
   "cell_type": "markdown",
   "metadata": {},
   "source": [
    "# deleting elements"
   ]
  },
  {
   "cell_type": "markdown",
   "metadata": {},
   "source": [
    "# `.pop()`"
   ]
  },
  {
   "cell_type": "code",
   "execution_count": 3,
   "metadata": {},
   "outputs": [
    {
     "name": "stdout",
     "output_type": "stream",
     "text": [
      "True\n",
      "{'vessel name': 'venturous', 'tonnage': 210}\n"
     ]
    }
   ],
   "source": [
    "dictionaryA = {'vessel name':'venturous','underway':True,'tonnage':210}\n",
    "\n",
    "print(dictionaryA.pop('underway'))\n",
    "\n",
    "print(dictionaryA)"
   ]
  },
  {
   "cell_type": "code",
   "execution_count": 9,
   "metadata": {},
   "outputs": [
    {
     "data": {
      "text/plain": [
       "dict_keys(['vessel name', 'tonnage'])"
      ]
     },
     "execution_count": 9,
     "metadata": {},
     "output_type": "execute_result"
    }
   ],
   "source": [
    "dictionaryA.keys()\n"
   ]
  },
  {
   "cell_type": "code",
   "execution_count": 10,
   "metadata": {},
   "outputs": [
    {
     "data": {
      "text/plain": [
       "dict_values(['venturous', 210])"
      ]
     },
     "execution_count": 10,
     "metadata": {},
     "output_type": "execute_result"
    }
   ],
   "source": [
    "dictionaryA.values()\n"
   ]
  },
  {
   "cell_type": "code",
   "execution_count": 11,
   "metadata": {},
   "outputs": [
    {
     "data": {
      "text/plain": [
       "dict_items([('vessel name', 'venturous'), ('tonnage', 210)])"
      ]
     },
     "execution_count": 11,
     "metadata": {},
     "output_type": "execute_result"
    }
   ],
   "source": [
    "dictionaryA.items()\n"
   ]
  },
  {
   "cell_type": "code",
   "execution_count": 13,
   "metadata": {},
   "outputs": [
    {
     "name": "stdout",
     "output_type": "stream",
     "text": [
      "{'vessel name': 'venturous', 'underway': False, 'tonnage': 210, 'radar operational': True}\n"
     ]
    }
   ],
   "source": [
    "dictionaryA = {'vessel name':'venturous','underway':False,'tonnage':210,'radar operational':True}\n",
    "\n",
    "print(dictionaryA)"
   ]
  },
  {
   "cell_type": "code",
   "execution_count": 16,
   "metadata": {},
   "outputs": [
    {
     "name": "stdout",
     "output_type": "stream",
     "text": [
      "vessel name\n",
      "underway\n",
      "tonnage\n",
      "radar operational\n"
     ]
    }
   ],
   "source": [
    "for key in dictionaryA:\n",
    "    print(key)"
   ]
  },
  {
   "cell_type": "code",
   "execution_count": 17,
   "metadata": {},
   "outputs": [
    {
     "name": "stdout",
     "output_type": "stream",
     "text": [
      "venturous\n",
      "False\n",
      "210\n",
      "True\n"
     ]
    }
   ],
   "source": [
    "for key in dictionaryA:\n",
    "    print(dictionaryA[key])"
   ]
  }
 ],
 "metadata": {
  "kernelspec": {
   "display_name": "Python 3",
   "language": "python",
   "name": "python3"
  },
  "language_info": {
   "codemirror_mode": {
    "name": "ipython",
    "version": 3
   },
   "file_extension": ".py",
   "mimetype": "text/x-python",
   "name": "python",
   "nbconvert_exporter": "python",
   "pygments_lexer": "ipython3",
   "version": "3.7.0"
  }
 },
 "nbformat": 4,
 "nbformat_minor": 2
}
