{
 "cells": [
  {
   "cell_type": "markdown",
   "metadata": {},
   "source": [
    "# `Python`\n",
    "## Dictionaries\n",
    " \n",
    " <img src=\"pythonLogo.png\" height=\"20%\" width=\"20%\"/>"
   ]
  },
  {
   "cell_type": "markdown",
   "metadata": {},
   "source": [
    "### sequence of `values (types/objects)`\n",
    "## a dictionary is a `sequence of values` called `key-value pairs`"
   ]
  },
  {
   "cell_type": "markdown",
   "metadata": {},
   "source": [
    "- like a `list()`, but `more generalized`\n",
    "- `lists()`'s `index positions` are `integers`"
   ]
  },
  {
   "cell_type": "markdown",
   "metadata": {},
   "source": [
    "## `dictionaries` are enclosed inside { } curly brackets"
   ]
  },
  {
   "cell_type": "markdown",
   "metadata": {},
   "source": [
    "# { }"
   ]
  },
  {
   "cell_type": "code",
   "execution_count": 2,
   "metadata": {},
   "outputs": [
    {
     "data": {
      "text/plain": [
       "{}"
      ]
     },
     "execution_count": 2,
     "metadata": {},
     "output_type": "execute_result"
    }
   ],
   "source": [
    "# an empty dictionary literal\n",
    "\n",
    "{}\n"
   ]
  },
  {
   "cell_type": "code",
   "execution_count": 6,
   "metadata": {},
   "outputs": [
    {
     "name": "stdout",
     "output_type": "stream",
     "text": [
      "{}\n",
      "{}\n",
      "<class 'dict'>\n"
     ]
    }
   ],
   "source": [
    "newDictLiteral = {}\n",
    "\n",
    "print({})\n",
    "print(newDictLiteral)\n",
    "print(type(newDictLiteral))"
   ]
  },
  {
   "cell_type": "markdown",
   "metadata": {},
   "source": [
    "# `dict()`\n",
    "- dictionary's indices can be (almost) any type"
   ]
  },
  {
   "cell_type": "code",
   "execution_count": 16,
   "metadata": {},
   "outputs": [
    {
     "data": {
      "text/plain": [
       "{}"
      ]
     },
     "execution_count": 16,
     "metadata": {},
     "output_type": "execute_result"
    }
   ],
   "source": [
    "# an empty dictionary instantiation\n",
    "\n",
    "dict()\n"
   ]
  },
  {
   "cell_type": "code",
   "execution_count": 5,
   "metadata": {},
   "outputs": [
    {
     "name": "stdout",
     "output_type": "stream",
     "text": [
      "{'f': 'f'}\n",
      "{}\n",
      "<class 'dict'>\n"
     ]
    }
   ],
   "source": [
    "newDict = dict()\n",
    "\n",
    "print(dict())\n",
    "print(newDict)\n",
    "print(type(newDict))"
   ]
  },
  {
   "cell_type": "markdown",
   "metadata": {},
   "source": [
    "# `key-value pairs` (items)\n",
    "\n"
   ]
  },
  {
   "cell_type": "markdown",
   "metadata": {},
   "source": [
    "### `key`s              - set of indices\n",
    "## separated by `:` colon\n",
    "### mapped to set of `value`s"
   ]
  },
  {
   "cell_type": "code",
   "execution_count": 54,
   "metadata": {},
   "outputs": [
    {
     "data": {
      "text/plain": [
       "{'vessel': 'uscgc venturous'}"
      ]
     },
     "execution_count": 54,
     "metadata": {},
     "output_type": "execute_result"
    }
   ],
   "source": [
    "# key : value\n",
    "{'vessel':'uscgc venturous'}"
   ]
  },
  {
   "cell_type": "markdown",
   "metadata": {},
   "source": [
    "## enclosed in `{ }` square brackets\n",
    "## { key : value }"
   ]
  },
  {
   "cell_type": "code",
   "execution_count": 13,
   "metadata": {
    "scrolled": true
   },
   "outputs": [
    {
     "data": {
      "text/plain": [
       "{'hull number': 625}"
      ]
     },
     "execution_count": 13,
     "metadata": {},
     "output_type": "execute_result"
    }
   ],
   "source": [
    "{'hull number':625}\n"
   ]
  },
  {
   "cell_type": "markdown",
   "metadata": {},
   "source": [
    "## are `,` comma separated\n",
    "## {key :value, key: value, key : value}"
   ]
  },
  {
   "cell_type": "code",
   "execution_count": 15,
   "metadata": {},
   "outputs": [],
   "source": [
    "coastGuardCutter = {'vessel':'uscgc venturous','tonnage':210, 'hull number':625}\n",
    "\n"
   ]
  },
  {
   "cell_type": "code",
   "execution_count": 14,
   "metadata": {},
   "outputs": [
    {
     "name": "stdout",
     "output_type": "stream",
     "text": [
      "{'vessel': 'uscgc venturous', 'tonnage': 210, 'hull number': 625}\n"
     ]
    }
   ],
   "source": [
    "print({'vessel':'uscgc venturous','tonnage':210, 'hull number':625})\n"
   ]
  },
  {
   "cell_type": "code",
   "execution_count": 16,
   "metadata": {
    "scrolled": true
   },
   "outputs": [
    {
     "name": "stdout",
     "output_type": "stream",
     "text": [
      "{'vessel': 'uscgc venturous', 'tonnage': 210, 'hull number': 625}\n"
     ]
    }
   ],
   "source": [
    "print(coastGuardCutter)\n"
   ]
  },
  {
   "cell_type": "markdown",
   "metadata": {},
   "source": [
    "# `dictionaries` can either be instantiated by\n"
   ]
  },
  {
   "cell_type": "markdown",
   "metadata": {},
   "source": [
    "### `key-values` enclosed within `{ } square backets` - dictionary `literal`\n",
    "\n",
    "\n",
    "<br/>\n",
    "or\n",
    "<br/>\n",
    "\n",
    "### `dict({ })` instantiates a `literal` within `dict()`\n",
    "\n",
    "<br/>\n",
    "or\n",
    "<br/>\n",
    "\n",
    "### `dictionary[KEY]` = `value`"
   ]
  },
  {
   "cell_type": "code",
   "execution_count": 26,
   "metadata": {},
   "outputs": [
    {
     "name": "stdout",
     "output_type": "stream",
     "text": [
      "{'vessel': 'uscgc venturous'}\n"
     ]
    }
   ],
   "source": [
    "wmec625 = {'vessel':'uscgc venturous'}\n",
    "\n",
    "print(wmec625)"
   ]
  },
  {
   "cell_type": "code",
   "execution_count": 25,
   "metadata": {},
   "outputs": [
    {
     "name": "stdout",
     "output_type": "stream",
     "text": [
      "{'vessel': 'uscgc healy'}\n"
     ]
    }
   ],
   "source": [
    "wagb20 = dict({'vessel':'uscgc healy'})\n",
    "\n",
    "print(wagb20)"
   ]
  },
  {
   "cell_type": "code",
   "execution_count": 36,
   "metadata": {},
   "outputs": [
    {
     "name": "stdout",
     "output_type": "stream",
     "text": [
      "{'wmec-620': 'resolute'}\n"
     ]
    }
   ],
   "source": [
    "newDict[keyVariable] = valueVariable\n",
    "\n",
    "print(newDict)"
   ]
  },
  {
   "cell_type": "markdown",
   "metadata": {},
   "source": [
    "# modifying & accessing `dictionary keys (indices)`"
   ]
  },
  {
   "cell_type": "markdown",
   "metadata": {},
   "source": [
    "# assignment expression\n",
    "\n",
    "### `dictionary[KEY]` = `value` \n",
    "- NEW key-value pair"
   ]
  },
  {
   "cell_type": "code",
   "execution_count": 97,
   "metadata": {},
   "outputs": [],
   "source": [
    "wmecClassDictionary = dict()  # can also use {}\n",
    "\n",
    "wmecClassDictionary['wmec-625'] = 'venturous'"
   ]
  },
  {
   "cell_type": "code",
   "execution_count": 98,
   "metadata": {},
   "outputs": [
    {
     "name": "stdout",
     "output_type": "stream",
     "text": [
      "{'wmec-625': 'venturous'}\n"
     ]
    }
   ],
   "source": [
    "print(wmecClassDictionary)"
   ]
  },
  {
   "cell_type": "code",
   "execution_count": 99,
   "metadata": {},
   "outputs": [
    {
     "name": "stdout",
     "output_type": "stream",
     "text": [
      "{'wmec-625': 'venturous', 'wmec-620': 'resolute'}\n"
     ]
    }
   ],
   "source": [
    "keyVariable = 'wmec-620'\n",
    "valueVariable = 'resolute'\n",
    "\n",
    "wmecClassDictionary[keyVariable] = valueVariable\n",
    "\n",
    "print(wmecClassDictionary)"
   ]
  },
  {
   "cell_type": "markdown",
   "metadata": {},
   "source": [
    "## `dictionary` element `assignment/modify expressions`\n",
    "## in contrast to `list`\n",
    "\n",
    "`.insert(INDEX,value)` <b>modify</b> or <b>assignment expression</b> for list() as well\n",
    "\n",
    "`list[INDEX] = value` similar to <b>modify</b> \n",
    "\n",
    "#### CAN NOT be used to `assign new values`"
   ]
  },
  {
   "cell_type": "code",
   "execution_count": 100,
   "metadata": {},
   "outputs": [
    {
     "name": "stdout",
     "output_type": "stream",
     "text": [
      "[]\n",
      "[42]\n"
     ]
    }
   ],
   "source": [
    "newList = list()  # can use []\n",
    "\n",
    "# IndexError: list assignment index out of range\n",
    "\n",
    "# newList[0] = 1\n",
    "\n",
    "print(newList)\n",
    "\n",
    "\n",
    "# list.insert(INDEX,VLAUE) - similar to    dictionary[KEY] = VALUE\n",
    "newList.insert(0,42)\n",
    "\n",
    "print(newList)"
   ]
  },
  {
   "cell_type": "markdown",
   "metadata": {},
   "source": [
    "# modify expression\n",
    "\n",
    "### `dictionary[KEY]` = `value`\n",
    "- EXISTING key-value pair"
   ]
  },
  {
   "cell_type": "code",
   "execution_count": 101,
   "metadata": {},
   "outputs": [
    {
     "name": "stdout",
     "output_type": "stream",
     "text": [
      "{'wmec-625': 'venturous', 'wmec-620': '**UPDATED VALUE**'}\n"
     ]
    }
   ],
   "source": [
    "keyVariable = 'wmec-620'\n",
    "valueVariable = '**UPDATED VALUE**'\n",
    "\n",
    "wmecClassDictionary[keyVariable] = valueVariable\n",
    "\n",
    "print(wmecClassDictionary)"
   ]
  },
  {
   "cell_type": "markdown",
   "metadata": {},
   "source": [
    "# access expression\n",
    "\n",
    "### `dictionary[KEY]`\n",
    "- EXISTING key-value pair"
   ]
  },
  {
   "cell_type": "code",
   "execution_count": 102,
   "metadata": {},
   "outputs": [
    {
     "name": "stdout",
     "output_type": "stream",
     "text": [
      "venturous\n"
     ]
    }
   ],
   "source": [
    "print(wmecClassDictionary['wmec-625'])"
   ]
  },
  {
   "cell_type": "code",
   "execution_count": 103,
   "metadata": {},
   "outputs": [
    {
     "name": "stdout",
     "output_type": "stream",
     "text": [
      "**UPDATED VALUE**\n"
     ]
    }
   ],
   "source": [
    "print(wmecClassDictionary['wmec-620'])"
   ]
  },
  {
   "cell_type": "markdown",
   "metadata": {},
   "source": [
    "## key must be valid or error will be produced"
   ]
  },
  {
   "cell_type": "code",
   "execution_count": 87,
   "metadata": {},
   "outputs": [],
   "source": [
    "# KeyError: 'wmec-400'\n",
    "\n",
    "# print(newDict['wmec-400'])"
   ]
  },
  {
   "cell_type": "markdown",
   "metadata": {},
   "source": [
    "# `order` of dictionary `key-value` pairs is`unpredictable`\n",
    "\n",
    "## and varies across computers"
   ]
  },
  {
   "cell_type": "code",
   "execution_count": 8,
   "metadata": {},
   "outputs": [
    {
     "name": "stdout",
     "output_type": "stream",
     "text": [
      "{'vessel': 'uscgc venturous', 'class': 'reliance', 'type': 'medium endurance cutter', 'tonnage': 210, 'hull number': 625, 'underway': True}\n"
     ]
    }
   ],
   "source": [
    "cutter = {'vessel':'uscgc venturous','class':'reliance','type':'medium endurance cutter',\n",
    "'tonnage':210, 'hull number':625,'underway':True}\n",
    "print(cutter)"
   ]
  },
  {
   "cell_type": "markdown",
   "metadata": {},
   "source": [
    "### this is `not a problem` because dictionaries are not limited to `int indexes`\n",
    "### `keys` can be `searched` to find `corresponding values`\n",
    "### `order of items` does `NOT matter` because `key always maps to specific value`"
   ]
  },
  {
   "cell_type": "code",
   "execution_count": 105,
   "metadata": {},
   "outputs": [
    {
     "name": "stdout",
     "output_type": "stream",
     "text": [
      "['Reliance', 'Diligence', 'Vigilant', 'Active', 'Confidence', 'Resolute', 'Valiant', 'Courageous', 'Steadfast', 'Dauntless', 'Venturous', 'Dependable', 'Vigorous', 'Durable', 'Decisive', 'Alert']\n"
     ]
    }
   ],
   "source": [
    "print(cutter['class'])"
   ]
  },
  {
   "cell_type": "code",
   "execution_count": 106,
   "metadata": {},
   "outputs": [
    {
     "name": "stdout",
     "output_type": "stream",
     "text": [
      "210\n"
     ]
    }
   ],
   "source": [
    "print(cutter['tonnage'])"
   ]
  },
  {
   "cell_type": "markdown",
   "metadata": {},
   "source": [
    "## `key - value` pairs can be `different types`\n",
    "\n",
    "## `(objects)` & `other collections` \n",
    "\n",
    "### (lists,dictionaries,tuples,etc.)"
   ]
  },
  {
   "cell_type": "code",
   "execution_count": 107,
   "metadata": {
    "scrolled": true
   },
   "outputs": [
    {
     "name": "stdout",
     "output_type": "stream",
     "text": [
      "{'vessel': 'uscgc venturous', 'class': ['Reliance', 'Diligence', 'Vigilant', 'Active', 'Confidence', 'Resolute', 'Valiant', 'Courageous', 'Steadfast', 'Dauntless', 'Venturous', 'Dependable', 'Vigorous', 'Durable', 'Decisive', 'Alert'], 'type': 'medium endurance cutter', 'tonnage': 210, 'hull number': 625, 'underway': True}\n",
      "\n",
      "<class 'list'>\n",
      "['Reliance', 'Diligence', 'Vigilant', 'Active', 'Confidence', 'Resolute', 'Valiant', 'Courageous', 'Steadfast', 'Dauntless', 'Venturous', 'Dependable', 'Vigorous', 'Durable', 'Decisive', 'Alert']\n"
     ]
    }
   ],
   "source": [
    "wmexHull = ['WMEC-615','WMEC-616','WMEC-617','WMEC-618','WMEC-619','WMEC-620','WMEC-621','WMEC-622','WMEC-623','WMEC-624',\n",
    "'WMEC-625','WMEC-626','WMEC-627','WMEC-628','WMEC-629','WMEC-630']\n",
    "\n",
    "\n",
    "wmecClass = ['Reliance','Diligence','Vigilant','Active','Confidence','Resolute','Valiant','Courageous','Steadfast','Dauntless',\n",
    "'Venturous','Dependable','Vigorous','Durable','Decisive','Alert']\n",
    "\n",
    "cutter = {'vessel':'uscgc venturous','class':wmecClass,'type':'medium endurance cutter',\n",
    "'tonnage':210, 'hull number':625,'underway':True}\n",
    "\n",
    "\n",
    "print(cutter)\n",
    "print()\n",
    "\n",
    "print(type(cutter['class']))\n",
    "print(cutter['class'])"
   ]
  },
  {
   "cell_type": "markdown",
   "metadata": {},
   "source": [
    "# update expression\n",
    "\n",
    "### `dictionary.update(KEY:VALUE)`\n",
    "- EXISTING key-value pairs updated\n",
    "- NEW key-value pair added"
   ]
  },
  {
   "cell_type": "code",
   "execution_count": 113,
   "metadata": {},
   "outputs": [
    {
     "name": "stdout",
     "output_type": "stream",
     "text": [
      "{'vessel name': 'venturous', 'underway': True, 'tonnage': 210}\n"
     ]
    }
   ],
   "source": [
    "dictionaryA = {'vessel name':'venturous','underway':True,'tonnage':210}\n",
    "print(dictionaryA)\n"
   ]
  },
  {
   "cell_type": "code",
   "execution_count": 119,
   "metadata": {},
   "outputs": [
    {
     "name": "stdout",
     "output_type": "stream",
     "text": [
      "{'vessel name': '**UPDATED VALUE**', 'underway': True, 'tonnage': 210}\n"
     ]
    }
   ],
   "source": [
    "dictionaryA.update({'vessel name': '**UPDATED VALUE**', 'underway': True, 'tonnage': 210})\n",
    "print(dictionaryA)\n"
   ]
  },
  {
   "cell_type": "code",
   "execution_count": 120,
   "metadata": {},
   "outputs": [
    {
     "name": "stdout",
     "output_type": "stream",
     "text": [
      "{'vessel name': '**UPDATED VALUE**', 'underway': True, 'tonnage': 210, '**UPDATED KEY**': '**UPDATED VALUE'}\n"
     ]
    }
   ],
   "source": [
    "dictionaryA.update({'**UPDATED KEY**':'**UPDATED VALUE'})\n",
    "print(dictionaryA)\n"
   ]
  },
  {
   "cell_type": "markdown",
   "metadata": {},
   "source": [
    "# deleting elements"
   ]
  },
  {
   "cell_type": "markdown",
   "metadata": {},
   "source": [
    "# `del`"
   ]
  },
  {
   "cell_type": "code",
   "execution_count": 121,
   "metadata": {},
   "outputs": [
    {
     "name": "stdout",
     "output_type": "stream",
     "text": [
      "{'vessel name': 'venturous', 'underway': True, 'tonnage': 210}\n",
      "{'underway': True, 'tonnage': 210}\n"
     ]
    }
   ],
   "source": [
    "dictionaryA = {'vessel name':'venturous','underway':True,'tonnage':210}\n",
    "print(dictionaryA)\n",
    "\n",
    "\n",
    "del dictionaryA['vessel name']\n",
    "\n",
    "print(dictionaryA)"
   ]
  },
  {
   "cell_type": "markdown",
   "metadata": {},
   "source": [
    "# `.pop()`"
   ]
  },
  {
   "cell_type": "code",
   "execution_count": 112,
   "metadata": {},
   "outputs": [
    {
     "name": "stdout",
     "output_type": "stream",
     "text": [
      "{'vessel name': 'venturous', 'underway': True, 'tonnage': 210}\n",
      "True\n",
      "{'vessel name': 'venturous', 'tonnage': 210}\n"
     ]
    }
   ],
   "source": [
    "dictionaryA = {'vessel name':'venturous','underway':True,'tonnage':210}\n",
    "print(dictionaryA)\n",
    "\n",
    "\n",
    "print(dictionaryA.pop('underway'))\n",
    "print(dictionaryA)"
   ]
  },
  {
   "cell_type": "markdown",
   "metadata": {},
   "source": [
    "# accessing `keys` & `values`"
   ]
  },
  {
   "cell_type": "markdown",
   "metadata": {},
   "source": [
    "# `len()`\n",
    "#### returns number of key-value pairs"
   ]
  },
  {
   "cell_type": "code",
   "execution_count": 103,
   "metadata": {
    "scrolled": true
   },
   "outputs": [
    {
     "data": {
      "text/plain": [
       "6"
      ]
     },
     "execution_count": 103,
     "metadata": {},
     "output_type": "execute_result"
    }
   ],
   "source": [
    "len(cutter)"
   ]
  },
  {
   "cell_type": "markdown",
   "metadata": {},
   "source": [
    "## python does not automatically `iterate` through the `values` of a dict()\n",
    "### unlike a list()\n",
    "## a `for loop iterator` will return the `keys`"
   ]
  },
  {
   "cell_type": "code",
   "execution_count": 109,
   "metadata": {},
   "outputs": [
    {
     "name": "stdout",
     "output_type": "stream",
     "text": [
      "vessel\n",
      "class\n",
      "type\n",
      "tonnage\n",
      "hull number\n",
      "underway\n"
     ]
    }
   ],
   "source": [
    "for iterator in cutter:\n",
    "    print(iterator)"
   ]
  },
  {
   "cell_type": "markdown",
   "metadata": {},
   "source": [
    "# `.keys()`\n",
    "#### returns dictionary `keys` as a `list()`\n",
    "#### which can then be searched for the key"
   ]
  },
  {
   "cell_type": "code",
   "execution_count": 113,
   "metadata": {},
   "outputs": [
    {
     "data": {
      "text/plain": [
       "dict_keys(['vessel', 'class', 'type', 'tonnage', 'hull number', 'underway'])"
      ]
     },
     "execution_count": 113,
     "metadata": {},
     "output_type": "execute_result"
    }
   ],
   "source": [
    "cutter.keys()"
   ]
  },
  {
   "cell_type": "code",
   "execution_count": 114,
   "metadata": {},
   "outputs": [
    {
     "name": "stdout",
     "output_type": "stream",
     "text": [
      "vessel\n",
      "class\n",
      "type\n",
      "tonnage\n",
      "hull number\n",
      "underway\n"
     ]
    }
   ],
   "source": [
    "for key in cutter.keys():\n",
    "    print(key)"
   ]
  },
  {
   "cell_type": "markdown",
   "metadata": {},
   "source": [
    "# `list(dictionary.keys())`\n",
    "returns a type: `dict_keys` \n",
    "must be converted to `list()` with `list()`to be searched"
   ]
  },
  {
   "cell_type": "code",
   "execution_count": 27,
   "metadata": {},
   "outputs": [
    {
     "name": "stdout",
     "output_type": "stream",
     "text": [
      "<class 'dict_keys'>\n"
     ]
    }
   ],
   "source": [
    "print(type(cutter.keys()))"
   ]
  },
  {
   "cell_type": "code",
   "execution_count": 28,
   "metadata": {
    "scrolled": true
   },
   "outputs": [
    {
     "name": "stdout",
     "output_type": "stream",
     "text": [
      "vessel\n",
      "class\n",
      "type\n",
      "tonnage\n",
      "hull number\n",
      "underway\n"
     ]
    }
   ],
   "source": [
    "listCutterKeys = list(cutter.keys())\n",
    "\n",
    "for keys in listCutterKeys:\n",
    "    print(keys)"
   ]
  },
  {
   "cell_type": "code",
   "execution_count": 29,
   "metadata": {},
   "outputs": [
    {
     "name": "stdout",
     "output_type": "stream",
     "text": [
      "<class 'list'>\n"
     ]
    }
   ],
   "source": [
    "print(type(listCutterKeys))\n"
   ]
  },
  {
   "cell_type": "markdown",
   "metadata": {},
   "source": [
    "# `.values()`\n",
    "#### returns dictionary `values` as a `list()`\n",
    "#### which can then be searched for the value"
   ]
  },
  {
   "cell_type": "code",
   "execution_count": 106,
   "metadata": {
    "scrolled": false
   },
   "outputs": [
    {
     "data": {
      "text/plain": [
       "dict_values(['uscgc venturous', ['Reliance', 'Diligence', 'Vigilant', 'Active', 'Confidence', 'Resolute', 'Valiant', 'Courageous', 'Steadfast', 'Dauntless', 'Venturous', 'Dependable', 'Vigorous', 'Durable', 'Decisive', 'Alert'], 'medium endurance cutter', 210, 625, True])"
      ]
     },
     "execution_count": 106,
     "metadata": {},
     "output_type": "execute_result"
    }
   ],
   "source": [
    "cutter.values()"
   ]
  },
  {
   "cell_type": "code",
   "execution_count": 23,
   "metadata": {
    "scrolled": true
   },
   "outputs": [
    {
     "name": "stdout",
     "output_type": "stream",
     "text": [
      "uscgc venturous\n",
      "['Reliance', 'Diligence', 'Vigilant', 'Active', 'Confidence', 'Resolute', 'Valiant', 'Courageous', 'Steadfast', 'Dauntless', 'Venturous', 'Dependable', 'Vigorous', 'Durable', 'Decisive', 'Alert']\n",
      "medium endurance cutter\n",
      "210\n",
      "625\n",
      "True\n"
     ]
    }
   ],
   "source": [
    "for value in cutter.values():\n",
    "    print(value)"
   ]
  },
  {
   "cell_type": "markdown",
   "metadata": {},
   "source": [
    "# `list(dictionary.values())`\n",
    "returns a type: `dict_values` \n",
    "must be converted to `list()` with `list()`to be searched"
   ]
  },
  {
   "cell_type": "code",
   "execution_count": 30,
   "metadata": {},
   "outputs": [
    {
     "name": "stdout",
     "output_type": "stream",
     "text": [
      "<class 'dict_values'>\n"
     ]
    }
   ],
   "source": [
    "print(type(cutter.values()))"
   ]
  },
  {
   "cell_type": "code",
   "execution_count": 31,
   "metadata": {
    "scrolled": true
   },
   "outputs": [
    {
     "name": "stdout",
     "output_type": "stream",
     "text": [
      "uscgc venturous\n",
      "['Reliance', 'Diligence', 'Vigilant', 'Active', 'Confidence', 'Resolute', 'Valiant', 'Courageous', 'Steadfast', 'Dauntless', 'Venturous', 'Dependable', 'Vigorous', 'Durable', 'Decisive', 'Alert']\n",
      "medium endurance cutter\n",
      "210\n",
      "625\n",
      "True\n"
     ]
    }
   ],
   "source": [
    "listCutterValues = list(cutter.values())\n",
    "\n",
    "for values in listCutterValues:\n",
    "    print(values)"
   ]
  },
  {
   "cell_type": "code",
   "execution_count": 32,
   "metadata": {},
   "outputs": [
    {
     "name": "stdout",
     "output_type": "stream",
     "text": [
      "<class 'list'>\n"
     ]
    }
   ],
   "source": [
    "print(type(listCutterValues))"
   ]
  },
  {
   "cell_type": "markdown",
   "metadata": {},
   "source": [
    "# `.items()`\n",
    "#### returns dictionary `key-value pairs (items)` as a `tuple`\n",
    "#### which can then be searched for the value"
   ]
  },
  {
   "cell_type": "code",
   "execution_count": 122,
   "metadata": {
    "scrolled": false
   },
   "outputs": [
    {
     "data": {
      "text/plain": [
       "dict_items([('vessel', 'uscgc venturous'), ('class', ['Reliance', 'Diligence', 'Vigilant', 'Active', 'Confidence', 'Resolute', 'Valiant', 'Courageous', 'Steadfast', 'Dauntless', 'Venturous', 'Dependable', 'Vigorous', 'Durable', 'Decisive', 'Alert']), ('type', 'medium endurance cutter'), ('tonnage', 210), ('hull number', 625), ('underway', True)])"
      ]
     },
     "execution_count": 122,
     "metadata": {},
     "output_type": "execute_result"
    }
   ],
   "source": [
    "cutter.items()"
   ]
  },
  {
   "cell_type": "code",
   "execution_count": 41,
   "metadata": {},
   "outputs": [
    {
     "name": "stdout",
     "output_type": "stream",
     "text": [
      "<class 'tuple'>\n",
      "\n",
      "('vessel', 'uscgc venturous')\n",
      "('class', ['Reliance', 'Diligence', 'Vigilant', 'Active', 'Confidence', 'Resolute', 'Valiant', 'Courageous', 'Steadfast', 'Dauntless', 'Venturous', 'Dependable', 'Vigorous', 'Durable', 'Decisive', 'Alert'])\n",
      "('type', 'medium endurance cutter')\n",
      "('tonnage', 210)\n",
      "('hull number', 625)\n",
      "('underway', True)\n"
     ]
    }
   ],
   "source": [
    "print(type(item))\n",
    "print()    \n",
    "\n",
    "for item in cutter.items():\n",
    "    print(item)"
   ]
  },
  {
   "cell_type": "code",
   "execution_count": 39,
   "metadata": {},
   "outputs": [
    {
     "name": "stdout",
     "output_type": "stream",
     "text": [
      "key: vessel \n",
      "value: uscgc venturous \n",
      "\n",
      "key: class \n",
      "value: ['Reliance', 'Diligence', 'Vigilant', 'Active', 'Confidence', 'Resolute', 'Valiant', 'Courageous', 'Steadfast', 'Dauntless', 'Venturous', 'Dependable', 'Vigorous', 'Durable', 'Decisive', 'Alert'] \n",
      "\n",
      "key: type \n",
      "value: medium endurance cutter \n",
      "\n",
      "key: tonnage \n",
      "value: 210 \n",
      "\n",
      "key: hull number \n",
      "value: 625 \n",
      "\n",
      "key: underway \n",
      "value: True \n",
      "\n"
     ]
    }
   ],
   "source": [
    "for key,value in cutter.items():\n",
    "    print('key:',key,'\\nvalue:',value,'\\n')"
   ]
  },
  {
   "cell_type": "markdown",
   "metadata": {},
   "source": [
    "# `list(dictionary.items())`\n",
    "returns a type: `dict_values` \n",
    "can be converted to `list()` of `tuple()`s to be searched"
   ]
  },
  {
   "cell_type": "code",
   "execution_count": 124,
   "metadata": {},
   "outputs": [
    {
     "name": "stdout",
     "output_type": "stream",
     "text": [
      "<class 'dict_items'>\n"
     ]
    }
   ],
   "source": [
    "print(type(cutter.items()))"
   ]
  },
  {
   "cell_type": "code",
   "execution_count": 34,
   "metadata": {
    "scrolled": false
   },
   "outputs": [
    {
     "name": "stdout",
     "output_type": "stream",
     "text": [
      "<class 'list'>\n",
      "\n",
      "vessel\n",
      "uscgc venturous\n",
      "\n",
      "class\n",
      "['Reliance', 'Diligence', 'Vigilant', 'Active', 'Confidence', 'Resolute', 'Valiant', 'Courageous', 'Steadfast', 'Dauntless', 'Venturous', 'Dependable', 'Vigorous', 'Durable', 'Decisive', 'Alert']\n",
      "\n",
      "type\n",
      "medium endurance cutter\n",
      "\n",
      "tonnage\n",
      "210\n",
      "\n",
      "hull number\n",
      "625\n",
      "\n",
      "underway\n",
      "True\n",
      "\n",
      "[('vessel', 'uscgc venturous'), ('class', ['Reliance', 'Diligence', 'Vigilant', 'Active', 'Confidence', 'Resolute', 'Valiant', 'Courageous', 'Steadfast', 'Dauntless', 'Venturous', 'Dependable', 'Vigorous', 'Durable', 'Decisive', 'Alert']), ('type', 'medium endurance cutter'), ('tonnage', 210), ('hull number', 625), ('underway', True)]\n"
     ]
    }
   ],
   "source": [
    "listCutterItems = list(cutter.items())\n",
    "\n",
    "print(type(listCutterItems))\n",
    "print()\n",
    "\n",
    "for item in listCutterItems:\n",
    "    print(item[0])\n",
    "    print(item[1])\n",
    "    print()\n",
    "    \n",
    "print(listCutterItems)\n"
   ]
  },
  {
   "cell_type": "markdown",
   "metadata": {},
   "source": [
    "# `in` operator\n",
    "#### returns `boolean`\n",
    "#### returns `True` if `operand is a KEY` in dictionary\n",
    "#### returns `False` if `otherwise`"
   ]
  },
  {
   "cell_type": "code",
   "execution_count": 42,
   "metadata": {},
   "outputs": [
    {
     "name": "stdout",
     "output_type": "stream",
     "text": [
      "{'vessel': 'uscgc venturous', 'class': ['Reliance', 'Diligence', 'Vigilant', 'Active', 'Confidence', 'Resolute', 'Valiant', 'Courageous', 'Steadfast', 'Dauntless', 'Venturous', 'Dependable', 'Vigorous', 'Durable', 'Decisive', 'Alert'], 'type': 'medium endurance cutter', 'tonnage': 210, 'hull number': 625, 'underway': True}\n"
     ]
    }
   ],
   "source": [
    "print(cutter)"
   ]
  },
  {
   "cell_type": "code",
   "execution_count": 104,
   "metadata": {},
   "outputs": [
    {
     "data": {
      "text/plain": [
       "True"
      ]
     },
     "execution_count": 104,
     "metadata": {},
     "output_type": "execute_result"
    }
   ],
   "source": [
    "'vessel' in cutter"
   ]
  },
  {
   "cell_type": "code",
   "execution_count": 105,
   "metadata": {
    "scrolled": true
   },
   "outputs": [
    {
     "data": {
      "text/plain": [
       "False"
      ]
     },
     "execution_count": 105,
     "metadata": {},
     "output_type": "execute_result"
    }
   ],
   "source": [
    "'years active' in cutter"
   ]
  },
  {
   "cell_type": "code",
   "execution_count": 43,
   "metadata": {},
   "outputs": [
    {
     "data": {
      "text/plain": [
       "False"
      ]
     },
     "execution_count": 43,
     "metadata": {},
     "output_type": "execute_result"
    }
   ],
   "source": [
    "'uscgc venturous' in cutter"
   ]
  },
  {
   "cell_type": "markdown",
   "metadata": {},
   "source": [
    "# `in` operator search algorithms\n",
    "- uses different algorithms for `lists()` & `dict()`"
   ]
  },
  {
   "cell_type": "markdown",
   "metadata": {},
   "source": [
    "### `implementation` - a method of performing a computation\n",
    "\n",
    "some implimentations are better than others"
   ]
  },
  {
   "cell_type": "markdown",
   "metadata": {},
   "source": [
    "# lists():\n",
    "\n",
    "# `linear search algorithm`\n",
    "search time longer as list() gets longer\n",
    "- directly proportionate to length of list"
   ]
  },
  {
   "cell_type": "markdown",
   "metadata": {},
   "source": [
    "# dictionaries():\n",
    "\n",
    "# `hash table`\n",
    "search time never varies \n",
    "- no matter the size of the list\n"
   ]
  },
  {
   "cell_type": "markdown",
   "metadata": {},
   "source": [
    "# Counter for frequency of alphabetical characters in a string\n",
    "all three implementations are the same"
   ]
  },
  {
   "cell_type": "markdown",
   "metadata": {},
   "source": [
    "#### 1 - 26 variables, one for each letter of the alphabet\n",
    "traverse the 'string'\n",
    "increment a counter for each character that appears\n",
    "using chained conditional logic"
   ]
  },
  {
   "cell_type": "code",
   "execution_count": 47,
   "metadata": {},
   "outputs": [
    {
     "name": "stdout",
     "output_type": "stream",
     "text": [
      "a b c d e f g h i j k l m n o p q r s t u v w x y z\n",
      "2 0 0 0 1 0 0 0 0 0 0 0 1 1 4 1 0 0 0 1 0 0 0 0 0 0\n"
     ]
    }
   ],
   "source": [
    "string = 'onomatopoea'\n",
    "\n",
    "a = 0\n",
    "b = 0\n",
    "c = 0\n",
    "d = 0\n",
    "e = 0\n",
    "f = 0\n",
    "g = 0\n",
    "h = 0\n",
    "i = 0\n",
    "j = 0\n",
    "k = 0\n",
    "l = 0\n",
    "m = 0\n",
    "n = 0\n",
    "o = 0\n",
    "p = 0\n",
    "q = 0\n",
    "r = 0\n",
    "s = 0\n",
    "t = 0\n",
    "u = 0\n",
    "v = 0\n",
    "w = 0\n",
    "x = 0\n",
    "y = 0\n",
    "z = 0\n",
    "\n",
    "for character in string:\n",
    "    if character == 'a':\n",
    "        a+=1\n",
    "    if character == 'b':\n",
    "        b+=1\n",
    "    if character == 'c':\n",
    "        c+=1\n",
    "    if character == 'd':\n",
    "        d+=1\n",
    "    if character == 'e':\n",
    "        e+=1\n",
    "    if character == 'f':\n",
    "        f+=1\n",
    "    if character == 'g':\n",
    "        g+=1\n",
    "    if character == 'h':\n",
    "        h+=1\n",
    "    if character == 'i':\n",
    "        i+=1\n",
    "    if character == 'j':\n",
    "        j+=1\n",
    "    if character == 'k':\n",
    "        k+=1\n",
    "    if character == 'l':\n",
    "        l+=1\n",
    "    if character == 'm':\n",
    "        m+=1\n",
    "    if character == 'n':\n",
    "        n+=1\n",
    "    if character == 'o':\n",
    "        o+=1\n",
    "    if character == 'p':\n",
    "        p+=1\n",
    "    if character == 'q':\n",
    "        q+=1\n",
    "    if character == 'r':\n",
    "        r+=1\n",
    "    if character == 's':\n",
    "        s+=1\n",
    "    if character == 't':\n",
    "        t+=1\n",
    "    if character == 'u':\n",
    "        u+=1\n",
    "    if character == 'v':\n",
    "        v+=1\n",
    "    if character == 'w':\n",
    "        w+=1\n",
    "    if character == 'x':\n",
    "        x+=1\n",
    "    if character == 'y':\n",
    "        y+=1\n",
    "    if character == 'z':\n",
    "        z+=1\n",
    "    \n",
    "print('a','b','c','d','e','f','g','h','i','j','k','l','m','n','o','p','q','r','s','t','u','v','w','x','y','z')\n",
    "print(a,b,c,d,e,f,g,h,i,j,k,l,m,n,o,p,q,r,s,t,u,v,w,x,y,z)"
   ]
  },
  {
   "cell_type": "markdown",
   "metadata": {},
   "source": [
    "#### 2 - create list with 26 elements\n",
    "function: ord - convert each character to a number\n",
    "- use numbers as index to access list and increment an element in the list as a counter"
   ]
  },
  {
   "cell_type": "code",
   "execution_count": 53,
   "metadata": {},
   "outputs": [
    {
     "name": "stdout",
     "output_type": "stream",
     "text": [
      "[97, 98, 99, 100, 101, 102, 103, 104, 105, 106, 107, 108, 109, 110, 111, 112, 113, 114, 115, 116, 117, 118, 119, 120, 121, 122]\n"
     ]
    }
   ],
   "source": [
    "# *\n",
    "\n",
    "alphabet = ['a','b','c','d','e','f','g','h','i','j','k','l','m','n','o','p','q','r','s','t','u','v','w','x','y','z']\n",
    "alphabetOrd = list()\n",
    "\n",
    "for letter in alphabet:\n",
    "    \n",
    "    alphabetOrd.append(ord(letter))\n",
    "    \n",
    "print(alphabetOrd)"
   ]
  },
  {
   "cell_type": "markdown",
   "metadata": {},
   "source": [
    "#### 3 - create a dictionary with characters as keys and counters for values\n",
    "add the character to dict() on first sight - increment count of existing value after first sight"
   ]
  },
  {
   "cell_type": "markdown",
   "metadata": {},
   "source": [
    "- dictionary - advantage is there is no overhead creation of a list of characters - they can be added as they are parsed\n",
    "- dont have to account for every letter or know the size of predermined data structure\n",
    "wordToParse = 'onomatopoea'\n",
    "- only deal with letters that do appear"
   ]
  },
  {
   "cell_type": "markdown",
   "metadata": {},
   "source": [
    "# histogram - set of counters (frequencies)\n",
    "\n",
    "- for loop traverses the 'string'\n",
    "parsing each letter\n",
    "\n",
    "if the current letter is not a KEY in the dict()\n",
    "- `modifier/insert expression` adds the `KEY`: with `value 1` to dict()\n",
    "\n",
    "elif the current letter is a KEYin the dict()\n",
    "- the `modifier/insert expression` performs an `assignment expression` to `access the current value` and `add 1` to it \n",
    "- then store it to the key:value pair"
   ]
  },
  {
   "cell_type": "code",
   "execution_count": 13,
   "metadata": {},
   "outputs": [
    {
     "name": "stdout",
     "output_type": "stream",
     "text": [
      "{'o': 4, 'n': 1, 'm': 1, 'a': 2, 't': 1, 'p': 1, 'e': 1}\n"
     ]
    }
   ],
   "source": [
    "wordToParse = 'onomatopoea'\n",
    "\n",
    "characterCount = dict()\n",
    "\n",
    "\n",
    "for character in wordToParse:\n",
    "\n",
    "    if character not in characterCount:\n",
    "        characterCount[character] = 1\n",
    "    else:\n",
    "        characterCount[character] += 1\n",
    "\n",
    "print(characterCount)\n",
    "\n"
   ]
  },
  {
   "cell_type": "markdown",
   "metadata": {},
   "source": [
    "# `.get(key,DEFAULT VALUE)`\n",
    "\n",
    "parameters are a `key` to search for\n",
    "and a `default value`\n",
    "\n",
    "if key `appears`\n",
    "- returns `corresponding value`\n",
    "\n",
    "if key `does not appear`\n",
    "- returnes `default value`"
   ]
  },
  {
   "cell_type": "code",
   "execution_count": 58,
   "metadata": {},
   "outputs": [
    {
     "data": {
      "text/plain": [
       "0"
      ]
     },
     "execution_count": 58,
     "metadata": {},
     "output_type": "execute_result"
    }
   ],
   "source": [
    "dictionaryOfDroids = {'R2D2':'Astro droid','C3P0':'Human-Cyborg relations'}\n",
    "\n",
    "dictionaryOfDroids.get('Marvin',0) # returns 0 as default if 'Marvin' is not a ket"
   ]
  },
  {
   "cell_type": "code",
   "execution_count": 59,
   "metadata": {},
   "outputs": [
    {
     "data": {
      "text/plain": [
       "'Astro droid'"
      ]
     },
     "execution_count": 59,
     "metadata": {},
     "output_type": "execute_result"
    }
   ],
   "source": [
    "dictionaryOfDroids.get('R2D2',0)"
   ]
  },
  {
   "cell_type": "markdown",
   "metadata": {},
   "source": [
    "# .get() can be used to write histogram loop more precisely\n",
    "- commonly used counting loop idiom in python\n",
    "\n",
    "#### get method will\n",
    "- return default value if KEY is not present in dictionary\n",
    "- or return current value if KEY is present\n",
    "\n",
    "##### 4 lines can be reduced to 1\n",
    "##### eliminating the if statement (conditional)"
   ]
  },
  {
   "cell_type": "code",
   "execution_count": 60,
   "metadata": {},
   "outputs": [
    {
     "name": "stdout",
     "output_type": "stream",
     "text": [
      "{'o': 4, 'n': 1, 'm': 1, 'a': 2, 't': 1, 'p': 1, 'e': 1}\n"
     ]
    }
   ],
   "source": [
    "stringToSearch = 'onomatopoea'\n",
    "\n",
    "dictionaryOfCharacters = dict()\n",
    "\n",
    "\n",
    "for iterator in stringToSearch:\n",
    "\n",
    "    dictionaryOfCharacters[iterator] = dictionaryOfCharacters.get(iterator,0) + 1\n",
    "\n",
    "print(dictionaryOfCharacters)\n",
    "\n"
   ]
  },
  {
   "cell_type": "markdown",
   "metadata": {},
   "source": [
    "# comparison\n",
    "\n",
    "## `4 lines`\n",
    "#### if iterator in dict\n",
    "- assignmentdict[iterator] = 1\n",
    "\n",
    "#### else\n",
    "- assignment dict[iterator] +=1\n",
    "\n",
    "## `1 line`\n",
    "dict[iterator] = dict.get(iterator,0) + 1 \n",
    "- either assigns 0 to a new key \n",
    "- or returns current key value, adds 1, and assigns back to key\n",
    "\n"
   ]
  },
  {
   "cell_type": "markdown",
   "metadata": {},
   "source": [
    "## nested loop idiom\n",
    "\n",
    "#### outer loop iterates \n",
    "- considered to iterate quicker\n",
    "\n",
    "#### inner loop executes all of its iterations\n",
    "- considered to iterate quicker"
   ]
  },
  {
   "cell_type": "markdown",
   "metadata": {},
   "source": [
    "# counting word occurance (frequency)\n",
    "- common use of dictionary is to count frequency (occurrence) of words in a file"
   ]
  },
  {
   "cell_type": "markdown",
   "metadata": {},
   "source": [
    "# `nested loop pattern`\n",
    "\n",
    "### `outer` for loop\n",
    "- reads in lines from file\n",
    "\n",
    "### `inner` for loop\n",
    "- iterates through words in line\n",
    "- counts the occurance of words in file by adding to dictionary"
   ]
  },
  {
   "cell_type": "code",
   "execution_count": 23,
   "metadata": {},
   "outputs": [
    {
     "name": "stdout",
     "output_type": "stream",
     "text": [
      "('All', 1)\n",
      "('that', 3)\n",
      "('is', 2)\n",
      "('gold', 1)\n",
      "('does', 2)\n",
      "('not', 3)\n",
      "('glitter', 1)\n",
      "('Not', 1)\n",
      "('all', 1)\n",
      "('those', 1)\n",
      "('who', 1)\n",
      "('wander', 1)\n",
      "('are', 2)\n",
      "('lost', 1)\n",
      "('The', 2)\n",
      "('old', 1)\n",
      "('strong', 1)\n",
      "('wither', 1)\n",
      "('Deep', 1)\n",
      "('roots', 1)\n",
      "('reached', 1)\n",
      "('by', 1)\n",
      "('the', 3)\n",
      "('frost', 1)\n",
      "('From', 1)\n",
      "('ashes', 1)\n",
      "('a', 1)\n",
      "('fire', 1)\n",
      "('shall', 4)\n",
      "('be', 3)\n",
      "('woken', 1)\n",
      "('A', 1)\n",
      "('light', 1)\n",
      "('from', 1)\n",
      "('shadows', 1)\n",
      "('spring', 1)\n",
      "('Renewed', 1)\n",
      "('blade', 1)\n",
      "('was', 1)\n",
      "('broken', 1)\n",
      "('crownless', 1)\n",
      "('again', 1)\n",
      "('king', 1)\n"
     ]
    }
   ],
   "source": [
    "fileHandle = open('goldNoPunct.txt','r')\n",
    "\n",
    "lineToSearch = list()                    # instantiate a list to store words from line as elements in a list\n",
    "wordsInLine = dict()                     # instantiate a dictionary to store occurance of words in file\n",
    "\n",
    "for line in fileHandle:\n",
    "    \n",
    "    lineToSearch = line.split()\n",
    "    \n",
    "    for word in lineToSearch:\n",
    "        if word not in wordsInLine:\n",
    "            wordsInLine[word] = 1\n",
    "        else:\n",
    "            wordsInLine[word] += 1\n",
    "\n",
    "            \n",
    "for word in wordsInLine.items():\n",
    "    print(word)"
   ]
  },
  {
   "cell_type": "code",
   "execution_count": 1,
   "metadata": {},
   "outputs": [
    {
     "name": "stdout",
     "output_type": "stream",
     "text": [
      "('All', 1)\n",
      "('that', 3)\n",
      "('is', 2)\n",
      "('gold', 1)\n",
      "('does', 2)\n",
      "('not', 3)\n",
      "('glitter', 1)\n",
      "('Not', 1)\n",
      "('all', 1)\n",
      "('those', 1)\n",
      "('who', 1)\n",
      "('wander', 1)\n",
      "('are', 2)\n",
      "('lost', 1)\n",
      "('The', 2)\n",
      "('old', 1)\n",
      "('strong', 1)\n",
      "('wither', 1)\n",
      "('Deep', 1)\n",
      "('roots', 1)\n",
      "('reached', 1)\n",
      "('by', 1)\n",
      "('the', 3)\n",
      "('frost', 1)\n",
      "('From', 1)\n",
      "('ashes', 1)\n",
      "('a', 1)\n",
      "('fire', 1)\n",
      "('shall', 4)\n",
      "('be', 3)\n",
      "('woken', 1)\n",
      "('A', 1)\n",
      "('light', 1)\n",
      "('from', 1)\n",
      "('shadows', 1)\n",
      "('spring', 1)\n",
      "('Renewed', 1)\n",
      "('blade', 1)\n",
      "('was', 1)\n",
      "('broken', 1)\n",
      "('crownless', 1)\n",
      "('again', 1)\n",
      "('king', 1)\n"
     ]
    }
   ],
   "source": [
    "fileHandle = open('goldNoPunct.txt','r')\n",
    "\n",
    "lineToSearch = list()                    # instantiate a list to store words from line as elements in a list\n",
    "wordsInLine = dict()                     # instantiate a dictionary to store occurance of words in file\n",
    "\n",
    "for line in fileHandle:\n",
    "    \n",
    "    lineToSearch = line.split()\n",
    "    \n",
    "    for word in lineToSearch:\n",
    "        wordsInLine[word] = wordsInLine.get(word,0) + 1\n",
    "\n",
    "\n",
    "for word in wordsInLine.items():\n",
    "    print(word)"
   ]
  },
  {
   "cell_type": "markdown",
   "metadata": {},
   "source": [
    "## nested loop idiom\n",
    "\n",
    "#### as outer loop `iterates once`\n",
    "\n",
    "- considered to `iterate slower`\n",
    "\n",
    "\n",
    "#### inner loop `executes all of its iterations`\n",
    "\n",
    "- considered to `iterate quicker`"
   ]
  },
  {
   "cell_type": "markdown",
   "metadata": {},
   "source": [
    "## dictionary output\n",
    "- returns keys as list when iterated through\n",
    "- use keys to access values"
   ]
  },
  {
   "cell_type": "code",
   "execution_count": 41,
   "metadata": {
    "scrolled": false
   },
   "outputs": [
    {
     "name": "stdout",
     "output_type": "stream",
     "text": [
      "All 1\n",
      "that 3\n",
      "is 2\n",
      "gold 1\n",
      "does 2\n",
      "not 3\n",
      "glitter 1\n",
      "Not 1\n",
      "all 1\n",
      "those 1\n",
      "who 1\n",
      "wander 1\n",
      "are 2\n",
      "lost 1\n",
      "The 2\n",
      "old 1\n",
      "strong 1\n",
      "wither 1\n",
      "Deep 1\n",
      "roots 1\n",
      "reached 1\n",
      "by 1\n",
      "the 3\n",
      "frost 1\n",
      "From 1\n",
      "ashes 1\n",
      "a 1\n",
      "fire 1\n",
      "shall 4\n",
      "be 3\n",
      "woken 1\n",
      "A 1\n",
      "light 1\n",
      "from 1\n",
      "shadows 1\n",
      "spring 1\n",
      "Renewed 1\n",
      "blade 1\n",
      "was 1\n",
      "broken 1\n",
      "crownless 1\n",
      "again 1\n",
      "king 1\n"
     ]
    }
   ],
   "source": [
    "for key in wordsInLine:                    # return keys as list - can also use wordsInLine.keys()\n",
    "    print(key,wordsInLine[key])            # print key - access dictionary[key] to print element as well"
   ]
  },
  {
   "cell_type": "markdown",
   "metadata": {},
   "source": [
    "### filter through dictionary for occurences greater than specified amount"
   ]
  },
  {
   "cell_type": "code",
   "execution_count": 43,
   "metadata": {},
   "outputs": [
    {
     "name": "stdout",
     "output_type": "stream",
     "text": [
      "that 3\n",
      "is 2\n",
      "does 2\n",
      "not 3\n",
      "are 2\n",
      "The 2\n",
      "the 3\n",
      "shall 4\n",
      "be 3\n"
     ]
    }
   ],
   "source": [
    "for key in wordsInLine:\n",
    "    if wordsInLine[key] >1:          # print key-value pair if greater than 1 occurance\n",
    "        print(key,wordsInLine[key])"
   ]
  },
  {
   "cell_type": "markdown",
   "metadata": {},
   "source": [
    "## filter through dictionary to print alphabetical order\n",
    "- create list of dictionary keys\n",
    "- use list sort() method to sort the order of keys\n",
    "- use for loop iteration to iterate through key list to print keys and access & print values"
   ]
  },
  {
   "cell_type": "markdown",
   "metadata": {},
   "source": [
    "alphabeticalOrder = list(wordsInLine.keys())\n",
    "alphabeticalOrder.sort()\n",
    "\n",
    "\n",
    "for key in alphabeticalOrder:\n",
    "    print(key,wordsInLine[key])"
   ]
  },
  {
   "cell_type": "markdown",
   "metadata": {},
   "source": [
    "# advanced text parsing"
   ]
  },
  {
   "cell_type": "markdown",
   "metadata": {},
   "source": [
    "## split function separates by whitespace\n",
    "- punctuation would not be parsed\n",
    "- `king.` treated the same as `king`\n",
    "- 'A' treated the same as 'a'"
   ]
  },
  {
   "cell_type": "markdown",
   "metadata": {},
   "source": [
    "# .lower()"
   ]
  },
  {
   "cell_type": "markdown",
   "metadata": {},
   "source": [
    "# .punctuation()"
   ]
  },
  {
   "cell_type": "markdown",
   "metadata": {},
   "source": [
    "\n",
    "# .translate()"
   ]
  },
  {
   "cell_type": "markdown",
   "metadata": {},
   "source": [
    "line.translate(str.maketrans(fromstr, tostr, deletestr))\n",
    "\n",
    "Replace the characters in `fromstr` \n",
    "\n",
    "with the character in the same position in `tostr`\n",
    "\n",
    "delete all characters that are in `deletestr`\n",
    "\n",
    "- The `fromstr` and `tostr` can be `empty strings`\n",
    "- `deletestr` parameter can be `omitted`\n",
    "\n",
    "We will not specify the tostr but we will use the deletestr parameter to delete all of the punctuation. We will even let Python tell us the list of characters that it considers \"punctuation\":"
   ]
  },
  {
   "cell_type": "code",
   "execution_count": 54,
   "metadata": {},
   "outputs": [
    {
     "name": "stdout",
     "output_type": "stream",
     "text": [
      "!\"#$%&'()*+,-./:;<=>?@[\\]^_`{|}~\n"
     ]
    }
   ],
   "source": [
    "import string\n",
    "\n",
    "print(string.punctuation)"
   ]
  },
  {
   "cell_type": "code",
   "execution_count": 51,
   "metadata": {},
   "outputs": [
    {
     "name": "stdout",
     "output_type": "stream",
     "text": [
      "{'all': 2, 'that': 3, 'is': 2, 'gold': 1, 'does': 2, 'not': 4, 'glitter': 1, 'those': 1, 'who': 1, 'wander': 1, 'are': 2, 'lost': 1, 'the': 5, 'old': 1, 'strong': 1, 'wither': 1, 'deep': 1, 'roots': 1, 'reached': 1, 'by': 1, 'frost': 1, 'from': 2, 'ashes': 1, 'a': 2, 'fire': 1, 'shall': 4, 'be': 3, 'woken': 1, 'light': 1, 'shadows': 1, 'spring': 1, 'renewed': 1, 'blade': 1, 'was': 1, 'broken': 1, 'crownless': 1, 'again': 1, 'king': 1}\n"
     ]
    }
   ],
   "source": [
    "import string\n",
    "\n",
    "fileName = 'gold.txt'\n",
    "fileHandle = open(fileName)\n",
    "\n",
    "dictionaryFrequency = dict()\n",
    "\n",
    "for line in fileHandle:\n",
    "    line = line.rstrip()\n",
    "    line = line.translate(line.maketrans('','',string.punctuation))\n",
    "    line = line.lower()\n",
    "    \n",
    "    wordsInLine = line.split()\n",
    "    \n",
    "    for word in wordsInLine:\n",
    "        if word not in dictionaryFrequency:\n",
    "            dictionaryFrequency[word] = 1\n",
    "        else:\n",
    "            dictionaryFrequency[word]+=1\n",
    "    \n",
    "print(dictionaryFrequency)"
   ]
  },
  {
   "cell_type": "code",
   "execution_count": 53,
   "metadata": {},
   "outputs": [
    {
     "name": "stdout",
     "output_type": "stream",
     "text": [
      "{'all': 2, 'that': 3, 'is': 2, 'gold': 1, 'does': 2, 'not': 4, 'glitter': 1, 'those': 1, 'who': 1, 'wander': 1, 'are': 2, 'lost': 1, 'the': 5, 'old': 1, 'strong': 1, 'wither': 1, 'deep': 1, 'roots': 1, 'reached': 1, 'by': 1, 'frost': 1, 'from': 2, 'ashes': 1, 'a': 2, 'fire': 1, 'shall': 4, 'be': 3, 'woken': 1, 'light': 1, 'shadows': 1, 'spring': 1, 'renewed': 1, 'blade': 1, 'was': 1, 'broken': 1, 'crownless': 1, 'again': 1, 'king': 1}\n"
     ]
    }
   ],
   "source": [
    "import string\n",
    "\n",
    "fileName = 'gold.txt'\n",
    "fileHandle = open(fileName)\n",
    "\n",
    "dictionaryFrequency = dict()\n",
    "\n",
    "for line in fileHandle:\n",
    "    line = line.rstrip()\n",
    "    line = line.translate(line.maketrans('','',string.punctuation))\n",
    "    line = line.lower()\n",
    "    \n",
    "    wordsInLine = line.split()\n",
    "    \n",
    "    for word in wordsInLine:\n",
    "        dictionaryFrequency[word] = dictionaryFrequency.get(word,0) + 1       \n",
    "\n",
    "print(dictionaryFrequency)"
   ]
  }
 ],
 "metadata": {
  "kernelspec": {
   "display_name": "Python 3",
   "language": "python",
   "name": "python3"
  },
  "language_info": {
   "codemirror_mode": {
    "name": "ipython",
    "version": 3
   },
   "file_extension": ".py",
   "mimetype": "text/x-python",
   "name": "python",
   "nbconvert_exporter": "python",
   "pygments_lexer": "ipython3",
   "version": "3.7.0"
  }
 },
 "nbformat": 4,
 "nbformat_minor": 2
}
