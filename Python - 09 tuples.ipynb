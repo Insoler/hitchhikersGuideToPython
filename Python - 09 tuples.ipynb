{
 "cells": [
  {
   "cell_type": "markdown",
   "metadata": {},
   "source": [
    "# `Python`\n",
    "## Tuples\n",
    " \n",
    " <img src=\"pythonLogo.png\" height=\"20%\" width=\"20%\"/>"
   ]
  },
  {
   "cell_type": "markdown",
   "metadata": {},
   "source": [
    "### tuples are a type of `data-structure`\n",
    "#### `collections`\n",
    "- `multi-value` `variables`"
   ]
  },
  {
   "cell_type": "markdown",
   "metadata": {},
   "source": [
    "###  stores data as a `sequence` of `values` (`types/objects`)\n"
   ]
  },
  {
   "cell_type": "markdown",
   "metadata": {},
   "source": [
    "## `like` lists()\n",
    "\n",
    "- ### tuples are organized by `index` based on thier `positions` \n",
    "\n",
    "- ### tuples `indices` are `integers`\n",
    "\n",
    "- ### element values can be ANY `type`"
   ]
  },
  {
   "cell_type": "markdown",
   "metadata": {},
   "source": [
    "## `unlike` lists()\n",
    "- ### tuples are `immutable`"
   ]
  },
  {
   "cell_type": "markdown",
   "metadata": {},
   "source": [
    "# `initialising` empty tuples"
   ]
  },
  {
   "cell_type": "markdown",
   "metadata": {},
   "source": [
    "# ( )"
   ]
  },
  {
   "cell_type": "code",
   "execution_count": 1,
   "metadata": {},
   "outputs": [
    {
     "data": {
      "text/plain": [
       "()"
      ]
     },
     "execution_count": 1,
     "metadata": {},
     "output_type": "execute_result"
    }
   ],
   "source": [
    "# an empty tuple literal\n",
    "\n",
    "( )\n"
   ]
  },
  {
   "cell_type": "code",
   "execution_count": 2,
   "metadata": {},
   "outputs": [
    {
     "name": "stdout",
     "output_type": "stream",
     "text": [
      "()\n",
      "()\n",
      "<class 'tuple'>\n"
     ]
    }
   ],
   "source": [
    "print(())\n",
    "\n",
    "\n",
    "newTupleLiteral = ()\n",
    "\n",
    "print(newTupleLiteral)\n",
    "print(type(newTupleLiteral))"
   ]
  },
  {
   "cell_type": "markdown",
   "metadata": {},
   "source": [
    "# `tuple()`\n",
    "- ### use the function `tuple()`"
   ]
  },
  {
   "cell_type": "code",
   "execution_count": 3,
   "metadata": {},
   "outputs": [
    {
     "data": {
      "text/plain": [
       "()"
      ]
     },
     "execution_count": 3,
     "metadata": {},
     "output_type": "execute_result"
    }
   ],
   "source": [
    "# an empty tuple instantiation\n",
    "\n",
    "tuple()\n"
   ]
  },
  {
   "cell_type": "code",
   "execution_count": 4,
   "metadata": {},
   "outputs": [
    {
     "name": "stdout",
     "output_type": "stream",
     "text": [
      "()\n",
      "()\n",
      "<class 'tuple'>\n"
     ]
    }
   ],
   "source": [
    "print(tuple())\n",
    "\n",
    "\n",
    "emptyTuple = tuple()\n",
    "\n",
    "print(emptyTuple)\n",
    "print(type(emptyTuple))"
   ]
  },
  {
   "cell_type": "markdown",
   "metadata": {},
   "source": [
    "# tuple `literals` are `comma-seperated` sequence of values"
   ]
  },
  {
   "cell_type": "code",
   "execution_count": 5,
   "metadata": {},
   "outputs": [
    {
     "name": "stdout",
     "output_type": "stream",
     "text": [
      "(3.14, 42, 'R2D2', 'C3P0')\n",
      "<class 'tuple'>\n"
     ]
    }
   ],
   "source": [
    "tupleLiteral = 3.14,42,'R2D2','C3P0'\n",
    "\n",
    "print(tupleLiteral)\n",
    "print(type(tupleLiteral))"
   ]
  },
  {
   "cell_type": "markdown",
   "metadata": {},
   "source": [
    "# tuple `literals` are `enclosed` inside `( )` parenthesis\n",
    "- for `distinction` amongst other data-structures"
   ]
  },
  {
   "cell_type": "code",
   "execution_count": 6,
   "metadata": {},
   "outputs": [
    {
     "name": "stdout",
     "output_type": "stream",
     "text": [
      "(3.14, 42, 'R2D2', 'C3P0')\n",
      "<class 'tuple'>\n"
     ]
    }
   ],
   "source": [
    "tupleLiteral = (3.14,42,'R2D2','C3P0')\n",
    "\n",
    "print(tupleLiteral)\n",
    "print(type(tupleLiteral))"
   ]
  },
  {
   "cell_type": "markdown",
   "metadata": {},
   "source": [
    "# `tuples` can either be instantiated by\n"
   ]
  },
  {
   "cell_type": "markdown",
   "metadata": {},
   "source": [
    "### `values` enclosed within `( ) parenthesis` - tuple `literal` (`constant`)\n",
    "\n",
    "<br/>\n",
    "or\n",
    "<br/>\n",
    "\n",
    "### `( VALUE , )` - a value with `final comma` for distinction from 'string expression'\n",
    "\n",
    "<br/>\n",
    "or\n",
    "<br/>\n",
    "\n",
    "### `tuple(` sequence `)` instantiates from `sequence` `literal` or `variable` within `tuple()`\n",
    "- `'strings'`\n",
    "\n",
    "- `list()`s\n",
    "\n",
    "- `dict()`s\n",
    "    - defaults to keys as main sequence\n",
    "<br/>\n",
    "<br/>\n"
   ]
  },
  {
   "cell_type": "markdown",
   "metadata": {},
   "source": [
    "# `values` enclosed within `( ) parenthesis`\n",
    "tuple `literal` (`constant`)\n"
   ]
  },
  {
   "cell_type": "code",
   "execution_count": 7,
   "metadata": {},
   "outputs": [],
   "source": [
    "tupleLiteral = (1,'two',3.14,True)"
   ]
  },
  {
   "cell_type": "code",
   "execution_count": 8,
   "metadata": {},
   "outputs": [
    {
     "name": "stdout",
     "output_type": "stream",
     "text": [
      "(1, 'two', 3.14, True)\n"
     ]
    }
   ],
   "source": [
    "print(tupleLiteral)"
   ]
  },
  {
   "cell_type": "markdown",
   "metadata": {},
   "source": [
    "# `( VALUE , )` \n",
    "a value with `final comma` for distinction from 'string expression'\n",
    "\n",
    "to instantiate a tuple with 1 element\n",
    "- final comma must be included"
   ]
  },
  {
   "cell_type": "code",
   "execution_count": 9,
   "metadata": {},
   "outputs": [
    {
     "data": {
      "text/plain": [
       "tuple"
      ]
     },
     "execution_count": 9,
     "metadata": {},
     "output_type": "execute_result"
    }
   ],
   "source": [
    "singleElementTuple = (1,)\n",
    "\n",
    "\n",
    "type(singleElementTuple)"
   ]
  },
  {
   "cell_type": "markdown",
   "metadata": {},
   "source": [
    "### without the `final comma` ,\n",
    "- Python treats the values inside `( )` as an expression\n",
    "as a 'string'"
   ]
  },
  {
   "cell_type": "code",
   "execution_count": 10,
   "metadata": {},
   "outputs": [
    {
     "data": {
      "text/plain": [
       "str"
      ]
     },
     "execution_count": 10,
     "metadata": {},
     "output_type": "execute_result"
    }
   ],
   "source": [
    "singleElementTuple = ('one')\n",
    "\n",
    "\n",
    "type(singleElementTuple)"
   ]
  },
  {
   "cell_type": "code",
   "execution_count": 11,
   "metadata": {},
   "outputs": [
    {
     "data": {
      "text/plain": [
       "int"
      ]
     },
     "execution_count": 11,
     "metadata": {},
     "output_type": "execute_result"
    }
   ],
   "source": [
    "singleElementTuple = (1)\n",
    "\n",
    "\n",
    "type(singleElementTuple)"
   ]
  },
  {
   "cell_type": "markdown",
   "metadata": {},
   "source": [
    "# `tuple(` sequence ` )` \n",
    "instantiates a `literal` within `tuple()`"
   ]
  },
  {
   "cell_type": "code",
   "execution_count": 43,
   "metadata": {},
   "outputs": [
    {
     "name": "stdout",
     "output_type": "stream",
     "text": [
      "[1, 2, 3, 4]\n",
      "(1, 2, 3, 4)\n"
     ]
    }
   ],
   "source": [
    "listA = [1,2,3,4]\n",
    "\n",
    "print(listA)\n",
    "\n",
    "tupleA = tuple(listA)\n",
    "\n",
    "print(tupleA)"
   ]
  },
  {
   "cell_type": "markdown",
   "metadata": {},
   "source": [
    "## `sequence` (string, list, or tuple)  as argument to `tuple( )`\n",
    "\n",
    "#### if argument to tuple() is a sequence\n",
    "\n",
    "- result is a tuple with elements of `sequence as elements` of `tuple()`"
   ]
  },
  {
   "cell_type": "markdown",
   "metadata": {},
   "source": [
    "## `tuple(` 'string' `)`"
   ]
  },
  {
   "cell_type": "code",
   "execution_count": 13,
   "metadata": {},
   "outputs": [
    {
     "name": "stdout",
     "output_type": "stream",
     "text": [
      "('o', 'n', 'o', 'm', 'a', 't', 'o', 'p', 'o', 'e', 'a')\n",
      "<class 'tuple'>\n"
     ]
    }
   ],
   "source": [
    "stringA = 'onomatopoea'\n",
    "\n",
    "tupleA = tuple(stringA)\n",
    "\n",
    "print(tupleA)\n",
    "print(type(tupleA))"
   ]
  },
  {
   "cell_type": "markdown",
   "metadata": {},
   "source": [
    "## `tuple(` [L,i,s,t] `)`"
   ]
  },
  {
   "cell_type": "code",
   "execution_count": 14,
   "metadata": {},
   "outputs": [
    {
     "name": "stdout",
     "output_type": "stream",
     "text": [
      "(1, 2, 3, 4)\n",
      "<class 'tuple'>\n"
     ]
    }
   ],
   "source": [
    "listA = [1,2,3,4]\n",
    "\n",
    "tupleA = tuple(listA)\n",
    "\n",
    "print(tupleA)\n",
    "print(type(tupleA))"
   ]
  },
  {
   "cell_type": "markdown",
   "metadata": {},
   "source": [
    "## `tuple(` {'alpha': 'd', 'beta': 'i', 'gamma': 'c', 'delta' : 't'} `)`"
   ]
  },
  {
   "cell_type": "markdown",
   "metadata": {},
   "source": [
    "### using `tuple()` with a `dict()` argument\n",
    "defaults to the `keys()` as selected sequence for tuple elements"
   ]
  },
  {
   "cell_type": "code",
   "execution_count": 15,
   "metadata": {},
   "outputs": [
    {
     "name": "stdout",
     "output_type": "stream",
     "text": [
      "('alpha', 'beta', 'gamma', 'delta')\n",
      "<class 'tuple'>\n"
     ]
    }
   ],
   "source": [
    "dictA = {'alpha': 'd', 'beta': 'i', 'gamma': 'c', 'delta' : 't'} # defaults to the keys as selected sequence\n",
    "\n",
    "tupleA = tuple(dictA)\n",
    "\n",
    "print(tupleA)\n",
    "print(type(tupleA))"
   ]
  },
  {
   "cell_type": "code",
   "execution_count": 50,
   "metadata": {},
   "outputs": [
    {
     "data": {
      "text/plain": [
       "(1, 2)"
      ]
     },
     "execution_count": 50,
     "metadata": {},
     "output_type": "execute_result"
    }
   ],
   "source": [
    "tuple({'a':1,'b':2}.values()) # .values() or .items() can be selected"
   ]
  },
  {
   "cell_type": "code",
   "execution_count": 49,
   "metadata": {},
   "outputs": [
    {
     "data": {
      "text/plain": [
       "(('a', 1), ('b', 2))"
      ]
     },
     "execution_count": 49,
     "metadata": {},
     "output_type": "execute_result"
    }
   ],
   "source": [
    "tuple({'a':1,'b':2}.items()) # .values() or .items() can be selected\n",
    "# returns items() as tuples, within a tuple"
   ]
  },
  {
   "cell_type": "markdown",
   "metadata": {},
   "source": [
    "# accessing `tuples[indices]`"
   ]
  },
  {
   "cell_type": "markdown",
   "metadata": {},
   "source": [
    "## after instantiation  `tuples` index `can ONLY BE ACCESSED`\n",
    " in contrast to `list`,`dict`\n",
    "\n",
    "#### CAN NOT be `assigned new values`\n",
    "#### CAN BE used to ACCESS `EXISTING` `index` `value`s"
   ]
  },
  {
   "cell_type": "code",
   "execution_count": 16,
   "metadata": {},
   "outputs": [],
   "source": [
    " # TypeError: 'tuple' object does not support item assignment\n",
    "\n",
    "tupleA = (1,'two',3.14,True)\n",
    "\n",
    "#tupleA[0] = 2"
   ]
  },
  {
   "cell_type": "markdown",
   "metadata": {},
   "source": [
    "# most list operators work on tuples()"
   ]
  },
  {
   "cell_type": "markdown",
   "metadata": {},
   "source": [
    "# `[ ]` bracket operator"
   ]
  },
  {
   "cell_type": "code",
   "execution_count": 17,
   "metadata": {},
   "outputs": [
    {
     "name": "stdout",
     "output_type": "stream",
     "text": [
      "2.718\n"
     ]
    }
   ],
   "source": [
    "tupleExample = (2.718,3.14,36,42)\n",
    "\n",
    "print(tupleExample[0])"
   ]
  },
  {
   "cell_type": "markdown",
   "metadata": {},
   "source": [
    "# `[ : ]` slice (subset) operator"
   ]
  },
  {
   "cell_type": "code",
   "execution_count": 18,
   "metadata": {},
   "outputs": [
    {
     "name": "stdout",
     "output_type": "stream",
     "text": [
      "(2.718, 3.14, 36)\n"
     ]
    }
   ],
   "source": [
    "tupleExample = (2.718,3.14,36,42)\n",
    "\n",
    "print(tupleExample[0:3])"
   ]
  },
  {
   "cell_type": "markdown",
   "metadata": {},
   "source": [
    "# `[ : : ]` slice (subset) operator, step"
   ]
  },
  {
   "cell_type": "code",
   "execution_count": 61,
   "metadata": {},
   "outputs": [
    {
     "name": "stdout",
     "output_type": "stream",
     "text": [
      "(2.718, 36)\n"
     ]
    }
   ],
   "source": [
    "tupleExample = (2.718,3.14,36,42)\n",
    "\n",
    "print(tupleExample[0:3:2])"
   ]
  },
  {
   "cell_type": "markdown",
   "metadata": {},
   "source": [
    "## key must be valid or error will be produced"
   ]
  },
  {
   "cell_type": "code",
   "execution_count": 19,
   "metadata": {},
   "outputs": [],
   "source": [
    "tupleA = (1,'two',3.14,True)\n"
   ]
  },
  {
   "cell_type": "code",
   "execution_count": 20,
   "metadata": {
    "scrolled": false
   },
   "outputs": [
    {
     "name": "stdout",
     "output_type": "stream",
     "text": [
      "True\n"
     ]
    }
   ],
   "source": [
    "print(tupleA[3])"
   ]
  },
  {
   "cell_type": "code",
   "execution_count": 21,
   "metadata": {},
   "outputs": [],
   "source": [
    "# IndexError: tuple index out of range\n",
    "\n",
    "# print(tupleA[4])"
   ]
  },
  {
   "cell_type": "markdown",
   "metadata": {},
   "source": [
    "# `tuple` `values` are in `index order`"
   ]
  },
  {
   "cell_type": "code",
   "execution_count": 22,
   "metadata": {},
   "outputs": [
    {
     "name": "stdout",
     "output_type": "stream",
     "text": [
      "uscgc venturous\n",
      "reliance class\n",
      "hull number 625\n"
     ]
    }
   ],
   "source": [
    "wmec625 = ('uscgc venturous','reliance class','medium endurance cutter',\n",
    "'tonnage 210', 'hull number 625')\n",
    "\n",
    "\n",
    "print(wmec625[0])\n",
    "print(wmec625[1])\n",
    "print(wmec625[-1])"
   ]
  },
  {
   "cell_type": "markdown",
   "metadata": {},
   "source": [
    "# 1 tuple() can be replaced with another\n",
    "the same way `immutable` 'string's can be called and concatenated for reassignment to new value\n",
    "\n",
    "- return `current` `tuple()` & concatenate with another `tuple()`\n",
    "- assignment to new tuple() or reassignment to current tuple name"
   ]
  },
  {
   "cell_type": "code",
   "execution_count": 23,
   "metadata": {},
   "outputs": [],
   "source": [
    "tupleExample = ('one','two','three',4,5,6)\n"
   ]
  },
  {
   "cell_type": "markdown",
   "metadata": {},
   "source": [
    "# concatenation follows order of precedence"
   ]
  },
  {
   "cell_type": "code",
   "execution_count": 24,
   "metadata": {},
   "outputs": [
    {
     "name": "stdout",
     "output_type": "stream",
     "text": [
      "('**ITEM ADDED**', 'one', 'two', 'three', 4, 5, 6)\n"
     ]
    }
   ],
   "source": [
    "tupleExample = ('**ITEM ADDED**',) + tupleExample\n",
    "\n",
    "print(tupleExample)"
   ]
  },
  {
   "cell_type": "code",
   "execution_count": 25,
   "metadata": {},
   "outputs": [
    {
     "name": "stdout",
     "output_type": "stream",
     "text": [
      "('**ITEM ADDED**', '**ITEM ADDED**', 'one')\n"
     ]
    }
   ],
   "source": [
    "tupleExample = ('**ITEM ADDED**',) + tupleExample[0:2]\n",
    "\n",
    "print(tupleExample)"
   ]
  },
  {
   "cell_type": "code",
   "execution_count": 77,
   "metadata": {},
   "outputs": [],
   "source": [
    "\n",
    "tupleExample = ('one','two','three',4,5,6)"
   ]
  },
  {
   "cell_type": "code",
   "execution_count": 80,
   "metadata": {},
   "outputs": [
    {
     "name": "stdout",
     "output_type": "stream",
     "text": [
      "(4, 5, '**added-seven**')\n"
     ]
    }
   ],
   "source": [
    "newTuple = tupleExample[3:5] + ('**added-seven**',)\n",
    "\n",
    "print(newTuple)"
   ]
  },
  {
   "cell_type": "markdown",
   "metadata": {},
   "source": [
    " # CAN NOT concatenate single 'int' from tuple()\n",
    " - + tupleExample[5] attempts to return a  single 'int'\n",
    " - rather than a tuple of ints"
   ]
  },
  {
   "cell_type": "code",
   "execution_count": 84,
   "metadata": {},
   "outputs": [
    {
     "name": "stdout",
     "output_type": "stream",
     "text": [
      "('one', 'two', 'three', '**four-added**', '**five-added**', 6, 7)\n"
     ]
    }
   ],
   "source": [
    "tupleNew = (6,7)\n",
    "\n",
    "newTuple = tupleExample[0:3] + ('**four-added**','**five-added**') + tupleNew\n",
    "\n",
    "print(newTuple)"
   ]
  },
  {
   "cell_type": "markdown",
   "metadata": {},
   "source": [
    "# `values` can be `different types`\n",
    "\n",
    "## `objects` & `other collections` \n",
    "\n",
    "### (lists,dictionaries,tuples,etc.)"
   ]
  },
  {
   "cell_type": "code",
   "execution_count": 29,
   "metadata": {},
   "outputs": [],
   "source": [
    "tupleA = (1,'two',3.14,True)"
   ]
  },
  {
   "cell_type": "code",
   "execution_count": 30,
   "metadata": {},
   "outputs": [
    {
     "name": "stdout",
     "output_type": "stream",
     "text": [
      "(['Reliance', 'Diligence'], ('WMEC-615', 'WMEC-616'))\n"
     ]
    }
   ],
   "source": [
    "wmecClass = ['Reliance','Diligence']\n",
    "\n",
    "wmecHull = ('WMEC-615','WMEC-616')\n",
    "\n",
    "cutters = (wmecClass,wmecHull)\n",
    "\n",
    "print(cutters)"
   ]
  },
  {
   "cell_type": "code",
   "execution_count": 85,
   "metadata": {
    "scrolled": false
   },
   "outputs": [
    {
     "name": "stdout",
     "output_type": "stream",
     "text": [
      "(['Reliance', 'Diligence', 'Vigilant'], ('WMEC-615', 'WMEC-616', 'WMEC-617'), {'vessel': 'uscgc venturous', 'class': 'Reliance', 'type': 'medium endurance cutter'})\n",
      "\n",
      "['Reliance', 'Diligence', 'Vigilant']\n",
      "\n",
      "('WMEC-615', 'WMEC-616', 'WMEC-617')\n",
      "\n",
      "Reliance\n"
     ]
    }
   ],
   "source": [
    "wmecClass = ['Reliance','Diligence','Vigilant']\n",
    "\n",
    "wmecHull = ('WMEC-615','WMEC-616','WMEC-617')\n",
    "\n",
    "cutter = {'vessel':'uscgc venturous','class':wmecClass[0],'type':'medium endurance cutter'}\n",
    "\n",
    "\n",
    "uscgcVenturous = (wmecClass,wmecHull,cutter)\n",
    "\n",
    "print(uscgcVenturous)\n",
    "print()\n",
    "\n",
    "print(uscgcVenturous[0])\n",
    "print()\n",
    "\n",
    "print(uscgcVenturous[1])\n",
    "print()\n",
    "\n",
    "print(uscgcVenturous[2]['class'])   # print element of tuple, then element of dictionary within tuple"
   ]
  },
  {
   "cell_type": "markdown",
   "metadata": {},
   "source": [
    "# tuple `comparison`\n",
    "\n",
    "#### `comparison operators` work with `tuple()` & other `sequence data structures`"
   ]
  },
  {
   "cell_type": "markdown",
   "metadata": {},
   "source": [
    "## compares the first value in compared tuple()s\n",
    "if values are equal, moves to next elements to compare"
   ]
  },
  {
   "cell_type": "code",
   "execution_count": 32,
   "metadata": {},
   "outputs": [],
   "source": [
    "tupleA = (0,1)\n",
    "\n",
    "tupleB = (42,0)"
   ]
  },
  {
   "cell_type": "code",
   "execution_count": 33,
   "metadata": {},
   "outputs": [
    {
     "name": "stdout",
     "output_type": "stream",
     "text": [
      "False\n"
     ]
    }
   ],
   "source": [
    "print(tupleA > tupleB)"
   ]
  },
  {
   "cell_type": "code",
   "execution_count": 34,
   "metadata": {},
   "outputs": [],
   "source": [
    "tupleA = (100,0)\n",
    "\n",
    "tupleB = (42,0)"
   ]
  },
  {
   "cell_type": "code",
   "execution_count": 35,
   "metadata": {},
   "outputs": [
    {
     "name": "stdout",
     "output_type": "stream",
     "text": [
      "True\n"
     ]
    }
   ],
   "source": [
    "print(tupleA > tupleB)"
   ]
  },
  {
   "cell_type": "code",
   "execution_count": 36,
   "metadata": {},
   "outputs": [],
   "source": [
    "tupleA = (0,1)\n",
    "\n",
    "tupleB = (0,0)"
   ]
  },
  {
   "cell_type": "code",
   "execution_count": 37,
   "metadata": {
    "scrolled": true
   },
   "outputs": [
    {
     "name": "stdout",
     "output_type": "stream",
     "text": [
      "True\n"
     ]
    }
   ],
   "source": [
    "print(tupleA > tupleB)"
   ]
  },
  {
   "cell_type": "markdown",
   "metadata": {},
   "source": [
    "# tuple() `mutiple assignment expressions`\n",
    "\n",
    "- multiple,variable `assignment statement`\n",
    "\n",
    "\n",
    "#### an advantage of python is the unique syntactic feature\n",
    "\n",
    "- for a `tuple()` to be on the `left hand side` of an `assignment statement`\n",
    "\n",
    "- allows `more than one variable` to be `assigned at a time`, when the `left side is a sequence`"
   ]
  },
  {
   "cell_type": "markdown",
   "metadata": {},
   "source": [
    "## the `left hand side` is a `tuple() of variables`\n",
    "\n",
    "## the `right hand side` are `expressions which evaluates to a value`\n",
    "- which are all `evaluated before assignment` to the left hand side `respective values`"
   ]
  },
  {
   "cell_type": "code",
   "execution_count": 40,
   "metadata": {},
   "outputs": [
    {
     "name": "stdout",
     "output_type": "stream",
     "text": [
      "don't\n",
      "panic\n"
     ]
    }
   ],
   "source": [
    "listToTuple = ['don\\'t','panic']\n",
    "\n",
    "(x,y) = listToTuple\n",
    "\n",
    "print(x)\n",
    "print(y)"
   ]
  },
  {
   "cell_type": "markdown",
   "metadata": {},
   "source": [
    "# the syntax is translated by python as:"
   ]
  },
  {
   "cell_type": "code",
   "execution_count": 39,
   "metadata": {},
   "outputs": [
    {
     "name": "stdout",
     "output_type": "stream",
     "text": [
      "don't\n",
      "panic\n"
     ]
    }
   ],
   "source": [
    "listToTuple = ['don\\'t','panic']\n",
    "\n",
    "x = listToTuple[0]\n",
    "\n",
    "y = listToTuple[1]\n",
    "\n",
    "print(x)\n",
    "print(y)"
   ]
  },
  {
   "cell_type": "markdown",
   "metadata": {},
   "source": [
    "# syntactically when tuples are used on the left hand side of an assignment statement\n",
    "\n",
    "- the ( ) parenthesis are omitted\n",
    "but they are still syntactically valid\n"
   ]
  },
  {
   "cell_type": "code",
   "execution_count": 86,
   "metadata": {},
   "outputs": [
    {
     "name": "stdout",
     "output_type": "stream",
     "text": [
      "don't\n",
      "panic\n"
     ]
    }
   ],
   "source": [
    "listToTuple = ['don\\'t','panic']\n",
    "\n",
    "x,y = listToTuple\n",
    "\n",
    "print(x)\n",
    "print(y)"
   ]
  },
  {
   "cell_type": "markdown",
   "metadata": {},
   "source": [
    "# swap values of variables\n",
    "- one aplication of tuple multiple value assignment statements\n",
    "- is to easily switch the values of two variables in a single statement\n"
   ]
  },
  {
   "cell_type": "code",
   "execution_count": 87,
   "metadata": {},
   "outputs": [],
   "source": [
    "# both sides are now tuples\n",
    "# right-hand side is a tuple of expressions evaluating to values \n",
    "\n",
    "x,y = y,x\n",
    "\n",
    "# also (x,y) = (y,x)"
   ]
  },
  {
   "cell_type": "markdown",
   "metadata": {},
   "source": [
    "## number of variables on the left and right must match"
   ]
  },
  {
   "cell_type": "code",
   "execution_count": 42,
   "metadata": {
    "scrolled": true
   },
   "outputs": [
    {
     "ename": "ValueError",
     "evalue": "too many values to unpack (expected 2)",
     "output_type": "error",
     "traceback": [
      "\u001b[1;31m---------------------------------------------------------------------------\u001b[0m",
      "\u001b[1;31mValueError\u001b[0m                                Traceback (most recent call last)",
      "\u001b[1;32m<ipython-input-42-76125f3cb007>\u001b[0m in \u001b[0;36m<module>\u001b[1;34m\u001b[0m\n\u001b[0;32m      1\u001b[0m \u001b[1;31m# ValueError: too many values to unpack (expected 2)\u001b[0m\u001b[1;33m\u001b[0m\u001b[1;33m\u001b[0m\u001b[1;33m\u001b[0m\u001b[0m\n\u001b[0;32m      2\u001b[0m \u001b[1;33m\u001b[0m\u001b[0m\n\u001b[1;32m----> 3\u001b[1;33m \u001b[0mx\u001b[0m\u001b[1;33m,\u001b[0m\u001b[0my\u001b[0m \u001b[1;33m=\u001b[0m \u001b[1;36m1\u001b[0m\u001b[1;33m,\u001b[0m\u001b[1;36m2\u001b[0m\u001b[1;33m,\u001b[0m\u001b[1;36m3\u001b[0m\u001b[1;33m\u001b[0m\u001b[1;33m\u001b[0m\u001b[0m\n\u001b[0m",
      "\u001b[1;31mValueError\u001b[0m: too many values to unpack (expected 2)"
     ]
    }
   ],
   "source": [
    "# ValueError: too many values to unpack (expected 2)\n",
    "\n",
    "x,y = 1,2,3"
   ]
  },
  {
   "cell_type": "markdown",
   "metadata": {},
   "source": [
    "# `split() 'string'` into `multiple elements` and `assignment to tuple`\n",
    "a 'string' can be split() and subsequently assiged to a tuple\n"
   ]
  },
  {
   "cell_type": "code",
   "execution_count": 102,
   "metadata": {},
   "outputs": [
    {
     "name": "stdout",
     "output_type": "stream",
     "text": [
      "monty\n",
      "python.org\n"
     ]
    }
   ],
   "source": [
    "emailAddress = 'monty@python.org'\n",
    "\n",
    "userName, domain = emailAddress.split('@')\n",
    "\n",
    "print(userName)\n",
    "print(domain)"
   ]
  },
  {
   "cell_type": "markdown",
   "metadata": {},
   "source": [
    "#### number of variables on the left and right must match"
   ]
  },
  {
   "cell_type": "code",
   "execution_count": 1,
   "metadata": {
    "scrolled": true
   },
   "outputs": [
    {
     "name": "stdout",
     "output_type": "stream",
     "text": [
      "ValueError: too many values to unpack (expected 2)\n",
      "\n",
      "['40761', 'Merlin', 'Way,', 'Leonardtown', 'MD', '20650']\n"
     ]
    }
   ],
   "source": [
    "streetAddress = '40761 Merlin Way, Leonardtown MD 20650'\n",
    "\n",
    "try:\n",
    "    streetNumber, streetName = streetAddress.split()\n",
    "    \n",
    "except:\n",
    "    #ValueError: too many values to unpack (expected 2)\n",
    "\n",
    "    print('ValueError: too many values to unpack (expected 2)\\n')\n",
    "    print(streetAddress.split())"
   ]
  },
  {
   "cell_type": "markdown",
   "metadata": {},
   "source": [
    "# `for loop` tuple() `mutiple assignment expressions`"
   ]
  },
  {
   "cell_type": "code",
   "execution_count": 118,
   "metadata": {},
   "outputs": [
    {
     "name": "stdout",
     "output_type": "stream",
     "text": [
      "don't panic\n",
      "0 1\n",
      "a b\n"
     ]
    }
   ],
   "source": [
    "listToTuple = [['don\\'t','panic'],(0,1),('a','b')]\n",
    "\n",
    "for x,y in listToTuple:\n",
    "\n",
    "    print(x,y)"
   ]
  },
  {
   "cell_type": "code",
   "execution_count": 3,
   "metadata": {
    "scrolled": true
   },
   "outputs": [
    {
     "name": "stdout",
     "output_type": "stream",
     "text": [
      "don't panic\n",
      "0 1\n",
      "a b\n"
     ]
    }
   ],
   "source": [
    "listToTuple = [['don\\'t','panic'],(0,1),('a','b')]\n",
    "\n",
    "for iterator in listToTuple:\n",
    "                                # print(iterator)\n",
    "    x,y = iterator\n",
    "    print(x,y)"
   ]
  },
  {
   "cell_type": "code",
   "execution_count": 120,
   "metadata": {},
   "outputs": [
    {
     "name": "stdout",
     "output_type": "stream",
     "text": [
      "don't panic\n"
     ]
    }
   ],
   "source": [
    "listToTuple = [['don\\'t','panic'],(0,1),('a','b')]\n",
    "\n",
    "x = listToTuple[0][0]\n",
    "y = listToTuple[0][1]\n",
    "\n",
    "print(x,y)"
   ]
  },
  {
   "cell_type": "markdown",
   "metadata": {},
   "source": [
    "# `tuples()`s & `list()`s"
   ]
  },
  {
   "cell_type": "markdown",
   "metadata": {},
   "source": [
    "# `tuple()` has no attribute `.sort()`"
   ]
  },
  {
   "cell_type": "markdown",
   "metadata": {},
   "source": [
    "# `.sort()`\n",
    "\n",
    "- works similar to comparison\n",
    "\n",
    "#### `.sort()` is a `list()` method\n",
    "\n",
    "## sorts by the first element\n",
    "- if the elements are equal\n",
    "- moves to next element"
   ]
  },
  {
   "cell_type": "code",
   "execution_count": 129,
   "metadata": {},
   "outputs": [],
   "source": [
    "tupleA = (0,1)\n",
    "\n",
    "tupleB = (42,0)\n",
    "\n",
    "tupleC = (-1,3.14)"
   ]
  },
  {
   "cell_type": "code",
   "execution_count": 122,
   "metadata": {},
   "outputs": [],
   "source": [
    "listA = [tupleA,tupleB,tupleC]"
   ]
  },
  {
   "cell_type": "code",
   "execution_count": 123,
   "metadata": {},
   "outputs": [],
   "source": [
    "listA.sort()"
   ]
  },
  {
   "cell_type": "code",
   "execution_count": 124,
   "metadata": {
    "scrolled": true
   },
   "outputs": [
    {
     "name": "stdout",
     "output_type": "stream",
     "text": [
      "[(-1, 3.14), (0, 1), (42, 0)]\n"
     ]
    }
   ],
   "source": [
    "print(listA)"
   ]
  },
  {
   "cell_type": "markdown",
   "metadata": {},
   "source": [
    "## these `list()` properties of `.sort() methods`\n",
    "\n",
    "in combination with\n",
    "\n",
    "## `tuple()`s\n",
    "\n",
    "allows for a computation:"
   ]
  },
  {
   "cell_type": "markdown",
   "metadata": {},
   "source": [
    "# DSU\n",
    "\n",
    "## (D)ecorate\n",
    "\n",
    "decorate a sequence by building a list() of tuple()s with one or more sort keys preceding the elements from the sequence,\n",
    "\n",
    "\n",
    "## (S)ort\n",
    "\n",
    "the list() of tuples()s using the Python built-in sort, and\n",
    "\n",
    "\n",
    "## (U)ndecorate\n",
    "\n",
    "by extracting the sorted elements of the sequence."
   ]
  },
  {
   "cell_type": "markdown",
   "metadata": {},
   "source": [
    "## `list()` of words sorted from `longest` to `shortest`"
   ]
  },
  {
   "cell_type": "code",
   "execution_count": 9,
   "metadata": {},
   "outputs": [
    {
     "name": "stdout",
     "output_type": "stream",
     "text": [
      "[(6, 'yonder'), (6, 'window'), (6, 'breaks'), (5, 'light'), (4, 'what'), (4, 'soft'), (3, 'but'), (2, 'in')]\n",
      "\n",
      "['yonder', 'window', 'breaks', 'light', 'what', 'soft', 'but', 'in']\n"
     ]
    }
   ],
   "source": [
    "wordsString = 'but soft what light in yonder window breaks' # if 'string' has same word more than once, will treat as seperate words\n",
    "\n",
    "wordsList = wordsString.split()\n",
    "\n",
    "letterCount = list()\n",
    "\n",
    "for word in wordsList:\n",
    "\n",
    "    letterCount.append((len(word),word)) # appends a tuple(lengthOfWord,wordItself)\n",
    "    \n",
    "\n",
    "letterCount.sort(reverse=True)  # reverse=True - argument for reverse sort\n",
    "\n",
    "print(letterCount)\n",
    "print()\n",
    "\n",
    "\n",
    "longestWords = list()\n",
    "\n",
    "for length,word in letterCount: # for word in letterCount - does not work, will return tuple element \n",
    "                                # - instead of individual tuple element\n",
    "    # print(word)               # can also just print words\n",
    "    longestWords.append(word)\n",
    "    \n",
    "\n",
    "print(longestWords)\n"
   ]
  },
  {
   "cell_type": "markdown",
   "metadata": {},
   "source": [
    "# .sort(`reverse = True`)"
   ]
  },
  {
   "cell_type": "code",
   "execution_count": 11,
   "metadata": {},
   "outputs": [
    {
     "name": "stdout",
     "output_type": "stream",
     "text": [
      "[5, 4, 3, 2, 1]\n"
     ]
    }
   ],
   "source": [
    "listA = [1,2,3,4,5]\n",
    "\n",
    "listA.sort(reverse=True) # sorts the list in decreasing order\n",
    "\n",
    "print(listA)"
   ]
  },
  {
   "cell_type": "markdown",
   "metadata": {},
   "source": [
    "## builds a `list()` of `tuple()`s with two elements\n",
    "- length of 'string'\n",
    "- 'string'\n",
    "####  (D)ecorate\n",
    "\n",
    "## sorts the list by first element in tuple (length of 'string' element)\n",
    "- only compares first element of tuples in list, succeeding elements considered if there are identical element values\n",
    "- then sorts elements in descending numerical order (word histogram values)\n",
    "####  (S)ort\n",
    "\n",
    "## traverses sorted list to build descending order of length of 'strings'\n",
    "- appends ONLY the words (which are in decsending order) to another list\n",
    "####  (U)ndecorate\n"
   ]
  },
  {
   "cell_type": "markdown",
   "metadata": {},
   "source": [
    "# `tuples()`s & `dicts()`s"
   ]
  },
  {
   "cell_type": "markdown",
   "metadata": {},
   "source": [
    "#### `dict()` has a `method`\n",
    "## `.items()`\n",
    "\n",
    "- returns key-value pairs as a list of tuples\n",
    "- items are in `no particular order`\n"
   ]
  },
  {
   "cell_type": "markdown",
   "metadata": {},
   "source": [
    "# converting the `dict()` to a `list() of tuple()`s\n",
    "allows for the `dictionary` to be `sorted` by `keys`\n",
    "\n",
    "- sorted in ascending/descending alphabetical order\n",
    "\n",
    "### due to\n",
    "\n",
    "### `tuple()`s being `comparable`\n",
    "\n",
    "# `.sort()` method can be used on\n",
    "\n",
    "### `list()` of `tuples()`"
   ]
  },
  {
   "cell_type": "markdown",
   "metadata": {},
   "source": [
    "# `.sort()`"
   ]
  },
  {
   "cell_type": "code",
   "execution_count": 13,
   "metadata": {},
   "outputs": [
    {
     "name": "stdout",
     "output_type": "stream",
     "text": [
      "dict_items([('b', 3.14), ('a', 10101), ('c', 42)])\n",
      "\n",
      "[('a', 10101), ('b', 3.14), ('c', 42)]\n"
     ]
    }
   ],
   "source": [
    "dictToTuple = {'b':3.14,'a':10101,'c':42}\n",
    "#dictToTuple = {'zarfon':3.14,'beeblebrox':10101,'pinto':42}\n",
    "\n",
    "tupleFromDict = (dictToTuple.items())\n",
    "\n",
    "print(tupleFromDict)\n",
    "print()\n",
    "\n",
    "\n",
    "listFromTupleFromDict = list(tupleFromDict)\n",
    "\n",
    "listFromTupleFromDict.sort()\n",
    "\n",
    "print(listFromTupleFromDict)"
   ]
  },
  {
   "cell_type": "markdown",
   "metadata": {},
   "source": [
    "# two iterator variables\n",
    "# `key` , `value`\n",
    "# for loop returns list() of tuples()\n",
    "\n",
    "#### key,value assignment expression\n",
    "iterates through each tuple() key-value pair in dict()\n",
    "\n",
    "#### each iteration of loop\n",
    "both key & value are advanced to the next key-value pair tuple() in dict()\n",
    "\n",
    "- still in hash order"
   ]
  },
  {
   "cell_type": "code",
   "execution_count": 63,
   "metadata": {},
   "outputs": [
    {
     "name": "stdout",
     "output_type": "stream",
     "text": [
      "3.14 \t b\n",
      "2.718 \t a\n",
      "42 \t c\n"
     ]
    }
   ],
   "source": [
    "dictExample = {'b':3.14,'a':2.718,'c':42}\n",
    "\n",
    "for x,y in dictExample.items():\n",
    "    \n",
    "    print(y,'\\t',x)"
   ]
  },
  {
   "cell_type": "code",
   "execution_count": 66,
   "metadata": {},
   "outputs": [
    {
     "name": "stdout",
     "output_type": "stream",
     "text": [
      "b 3.14\n",
      "a 2.718\n",
      "c 42\n"
     ]
    }
   ],
   "source": [
    "dictExample = {'b':3.14,'a':2.718,'c':42}\n",
    "\n",
    "listExample = list(dictExample.items())\n",
    "\n",
    "for x,y in listExample :\n",
    "    print(x,y)"
   ]
  },
  {
   "cell_type": "markdown",
   "metadata": {},
   "source": [
    "# tuple `hashability`\n",
    "\n",
    "### python's `immutable objects` are `hashable`\n",
    "\n",
    "### `mutable objects` are not `hashable`\n",
    "- lists\n",
    "- dictionaries"
   ]
  },
  {
   "cell_type": "markdown",
   "metadata": {},
   "source": [
    "# `multiple iterators` `assignment expression` with `dictionary.items()`\n",
    "# `.append()` list() with tuple() key,value elements\n",
    "- for loop with two iterators and dictionary returning items as a list of tuples\n",
    "<br/>\n",
    "\n",
    "- each iteration the list returns a tuple as the individual element\n",
    "- with a key-value pair\n",
    "- and the two iterator variables x,y take on the repective values of the tuple elements\n",
    "<br/>\n",
    "\n",
    "- this is in `hash key order` (no particular order)\n",
    "- due to the dictionary being the origional source of data"
   ]
  },
  {
   "cell_type": "code",
   "execution_count": 64,
   "metadata": {},
   "outputs": [
    {
     "name": "stdout",
     "output_type": "stream",
     "text": [
      "b 3.14\n",
      "a 2.718\n",
      "c 42\n"
     ]
    }
   ],
   "source": [
    "dictExample = {'b':3.14,'a':2.718,'c':42}\n",
    "\n",
    "listExample = list()\n",
    "\n",
    "for x,y in dictExample.items():\n",
    "    listExample.append((x,y))   # .append() only takes one value - must be sequence such as tuple()\n",
    "    print(x,y)"
   ]
  },
  {
   "cell_type": "markdown",
   "metadata": {},
   "source": [
    "# populating a list with tuple (key,value) pairs from dict()\n",
    "\n",
    "# `value` , `key`\n",
    "\n",
    "### the value is the first element of the tuple (key-values) pairs for each element in the list\n",
    "### so the tuples may be sorted by the value"
   ]
  },
  {
   "cell_type": "code",
   "execution_count": 21,
   "metadata": {},
   "outputs": [
    {
     "name": "stdout",
     "output_type": "stream",
     "text": [
      "Prior to sort:\t [(3.14, 'b'), (2.718, 'a'), (42, 'c')]\n",
      "After sort:\t [(42, 'c'), (3.14, 'b'), (2.718, 'a')]\n"
     ]
    }
   ],
   "source": [
    "dictExample = {'b':3.14,'a':2.718,'c':42}\n",
    "\n",
    "listExample = list()\n",
    "\n",
    "\n",
    "for key,value in dictExample.items():\n",
    "\n",
    "    listExample.append( (value,key) )  # listExample.append( (value,key) ) - to sort by key value\n",
    "    \n",
    "\n",
    "print('Prior to sort:\\t',listExample)\n",
    "\n",
    "listExample.sort(reverse=True)  # sort in reverse order - descending\n",
    "\n",
    "print('After sort:\\t',listExample)"
   ]
  },
  {
   "cell_type": "markdown",
   "metadata": {},
   "source": [
    "# the most common words\n",
    "the tecnique above can be used to create a historgram of most common words"
   ]
  },
  {
   "cell_type": "code",
   "execution_count": 59,
   "metadata": {},
   "outputs": [
    {
     "name": "stdout",
     "output_type": "stream",
     "text": [
      "5 the\n",
      "4 shall\n",
      "4 not\n",
      "3 that\n",
      "3 be\n",
      "2 is\n",
      "2 from\n",
      "2 does\n",
      "2 are\n",
      "2 all\n"
     ]
    }
   ],
   "source": [
    "import string\n",
    "\n",
    "fileHandle = open('gold.txt','r')\n",
    "\n",
    "dictCount = dict()\n",
    "\n",
    "\n",
    "for line in fileHandle:\n",
    "\n",
    "    line = line.translate(str.maketrans('', '', string.punctuation))\n",
    "    line = line.lower()\n",
    "\n",
    "    listWords = line.split()\n",
    "\n",
    "    for word in listWords:\n",
    "        dictCount[word] = dictCount.get(word,0) + 1\n",
    "    \n",
    "\n",
    "# then sort dictionary by value\n",
    "\n",
    "listWordHistogram = list()\n",
    "\n",
    "for key,value in list(dictCount.items()):\n",
    "\n",
    "    listWordHistogram.append((value,key))\n",
    "                             \n",
    "\n",
    "listWordHistogram.sort(reverse=True)\n",
    "\n",
    "for key,value in listWordHistogram[:10]:\n",
    "    print(key,value)"
   ]
  },
  {
   "cell_type": "markdown",
   "metadata": {},
   "source": [
    "## read file\n",
    "create dictionary of histogram for word count\n",
    "\n",
    "a list constructed from key value pairs in the dictionary\n",
    "as value,key\n",
    "\n",
    "sort the list in reverse order\n",
    "\n",
    "value comes first to use for tuple comparison\n",
    "- if more than 1 tuple with the same value\n",
    "- comparison will move to second element\n",
    "- tupes will as well be sorted by keys as a result of same value comparison\n",
    "\n",
    "multiple assignment variable for loop traverse dictionary\n",
    "print ten most common (in descending order from list)\n",
    "value key pairs"
   ]
  },
  {
   "cell_type": "markdown",
   "metadata": {},
   "source": [
    "# using tuples as keys in dictionaries\n",
    "\n",
    "tuples are hashable\n",
    "- lists are not\n",
    "\n",
    "a composite key tuple can be used in a dictionary (key to value)\n",
    "\n",
    "# telephone directory\n",
    "\n",
    "(lastName, firstName): number\n",
    "\n",
    "directory[last,first] = number\n",
    "\n",
    "# expression in brackets are variables in a tuple\n",
    "\n",
    "tuple assignment expression for loop\n",
    "- traverse directory\n",
    "\n",
    "for lastName,firstName in directory:\n",
    "\n",
    "print(firstName,lastName,dicrectory[lastName,firstName])\n",
    "\n",
    "traverse keys (tuple composite key) in directory\n",
    "\n",
    "assign elements of tuple composite key to\n",
    "lastName\n",
    "firstName\n",
    "\n",
    "then prints last name, first name, and corresponding phone number"
   ]
  },
  {
   "cell_type": "code",
   "execution_count": 54,
   "metadata": {},
   "outputs": [
    {
     "name": "stdout",
     "output_type": "stream",
     "text": [
      "Zaphod Beeblebrox 121012010\n"
     ]
    }
   ],
   "source": [
    "last = 'Beeblebrox'\n",
    "first = 'Zaphod'\n",
    "number = 121012010\n",
    "\n",
    "directory = dict()\n",
    "\n",
    "directory[last,first] = number\n",
    "\n",
    "\n",
    "for last,first in directory:\n",
    "\n",
    "    print(first,last,directory[last,first])"
   ]
  },
  {
   "cell_type": "markdown",
   "metadata": {},
   "source": [
    "# sequences: strings, lists, and tuples - oh my!\n",
    "\n",
    "all examples can also work with\n",
    "\n",
    "lists of tuples\n",
    "\n",
    "lists of lists\n",
    "\n",
    "tuples of tuples\n",
    "\n",
    "tuples of lists\n",
    "\n",
    "- except where hashmap applies?\n",
    "\n",
    "# all are sequences of sequences\n",
    "\n",
    "# differenct sequences can be used interchangebaly\n",
    "\n",
    "- strings are more limited because elements\n",
    "- are sequence of characters\n",
    "- strings are immutable\n",
    "\n",
    "# if the ability to change characters is a requirement ( as opposed to returning elements of string and concatenating with new string)\n",
    "- a list of strings can be used\n",
    "\n",
    "# lists are more commonly used than tuples\n",
    "- because they are mutable\n",
    "\n",
    "# cases where tuples are prefered\n",
    "\n",
    "return statements\n",
    "syntatically easier to create a tuple than a list (some contexts may need list)\n",
    "\n",
    "sequence as a dictionary key\n",
    "must use an immutable type\n",
    "-tuple\n",
    "-string\n",
    "\n",
    "passing a sequence as an argument to a function\n",
    "immutable tuples reduce the risk of unexpected behavior from aliasing\n",
    "\n",
    "\n",
    "# becuase of immutability\n",
    "tuples do not have methods like\n",
    "- sort\n",
    "- reverse\n",
    "\n",
    "which modify existinglists\n",
    "\n",
    "# built in functions\n",
    "- sorted\n",
    "- reversed\n",
    "\n",
    "take any sequence as a parameter and return a new sequence\n",
    "with the elements from prior sequence expression in a new order"
   ]
  },
  {
   "cell_type": "markdown",
   "metadata": {},
   "source": [
    "# debugging\n",
    "\n",
    "lists, dictionaries, and tuples\n",
    "are data-structures\n",
    "\n",
    "when using more compound data-structures\n",
    "\"shape of data\"\n",
    "\n",
    "can cause \"shape errors\"\n",
    "- when a data-structure has the wrong type, size, or composition\n",
    "\n",
    "errors can be introduced from different data-structures\n",
    "\n",
    "- parameter is list and recieves a single value\n"
   ]
  }
 ],
 "metadata": {
  "kernelspec": {
   "display_name": "Python 3",
   "language": "python",
   "name": "python3"
  },
  "language_info": {
   "codemirror_mode": {
    "name": "ipython",
    "version": 3
   },
   "file_extension": ".py",
   "mimetype": "text/x-python",
   "name": "python",
   "nbconvert_exporter": "python",
   "pygments_lexer": "ipython3",
   "version": "3.7.3"
  }
 },
 "nbformat": 4,
 "nbformat_minor": 2
}
