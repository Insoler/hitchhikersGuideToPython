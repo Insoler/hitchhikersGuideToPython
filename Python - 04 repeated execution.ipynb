{
 "cells": [
  {
   "cell_type": "markdown",
   "metadata": {},
   "source": [
    "# `Python`\n",
    "## Repeated execution\n",
    " \n",
    " <img src=\"pythonLogo.png\" height=\"20%\" width=\"20%\"/>"
   ]
  },
  {
   "cell_type": "markdown",
   "metadata": {},
   "source": [
    "# Iteration"
   ]
  },
  {
   "cell_type": "markdown",
   "metadata": {},
   "source": [
    "## `updating variables`"
   ]
  },
  {
   "cell_type": "code",
   "execution_count": 1,
   "metadata": {},
   "outputs": [
    {
     "name": "stdout",
     "output_type": "stream",
     "text": [
      "5.8580000000000005\n"
     ]
    }
   ],
   "source": [
    "#A common assignment statement is to update a variable by using itself\n",
    "#in the expression that evaluates and produces the new value\n",
    "\n",
    "x = 3.14\n",
    "\n",
    "x = x + 2.718\n",
    "\n",
    "print(x)"
   ]
  },
  {
   "cell_type": "code",
   "execution_count": 3,
   "metadata": {},
   "outputs": [],
   "source": [
    "#The variable must be initialized before use\n",
    "\n",
    "# y = y + 2.718    # NameError: name 'y' is not defined\n"
   ]
  },
  {
   "cell_type": "markdown",
   "metadata": {},
   "source": [
    "### `increment` - variable update"
   ]
  },
  {
   "cell_type": "code",
   "execution_count": 6,
   "metadata": {},
   "outputs": [
    {
     "name": "stdout",
     "output_type": "stream",
     "text": [
      "5.8580000000000005\n"
     ]
    }
   ],
   "source": [
    "i = 3.14\n",
    "\n",
    "i = i + 2.718\n",
    "\n",
    "print(i)"
   ]
  },
  {
   "cell_type": "markdown",
   "metadata": {},
   "source": [
    "### `decrement` - variable update"
   ]
  },
  {
   "cell_type": "code",
   "execution_count": 4,
   "metadata": {},
   "outputs": [
    {
     "name": "stdout",
     "output_type": "stream",
     "text": [
      "-3.1400000000000006\n"
     ]
    }
   ],
   "source": [
    "j = 2.718\n",
    "\n",
    "j = j - i\n",
    "\n",
    "print(j)"
   ]
  },
  {
   "cell_type": "markdown",
   "metadata": {},
   "source": [
    "### `assignment operators`\n",
    "- performs computation to left hand operand\n",
    "- assigns value of expression to left hand operand\n",
    "\n",
    "(see Python - 00 primitive constructs, syntax, logic, semantics)"
   ]
  },
  {
   "cell_type": "code",
   "execution_count": 5,
   "metadata": {},
   "outputs": [],
   "source": [
    "# Exponentiation AND         **=\n",
    "\n",
    "# Multiplication AND          *=\n",
    "\n",
    "# Division AND                /=\n",
    "\n",
    "\n",
    "# Floored division AND        //=\n",
    "\n",
    "# Modulus AND                 %=\n",
    "\n",
    "\n",
    "# Addition AND                +=\n",
    "\n",
    "# Subtraction AND             -="
   ]
  },
  {
   "cell_type": "markdown",
   "metadata": {},
   "source": [
    "## Iteration\n",
    "\n",
    "\n",
    "### Humans are not good at repetitive tasks\n",
    "### Computers do repetitive tasks predictably (without error).\n",
    "#### Repetitive tasks are identical or similar tasks"
   ]
  },
  {
   "cell_type": "markdown",
   "metadata": {},
   "source": [
    "## The `while statement` - `indefinite (loop)`\n",
    "### Loops until a condition becomes false\n",
    "\n",
    "#### One form of iteration in python"
   ]
  },
  {
   "cell_type": "code",
   "execution_count": 6,
   "metadata": {},
   "outputs": [],
   "source": [
    "##While (reserved word)   expression (condition) [:]\n",
    "    ##Loop"
   ]
  },
  {
   "cell_type": "code",
   "execution_count": 20,
   "metadata": {},
   "outputs": [
    {
     "name": "stdout",
     "output_type": "stream",
     "text": [
      "10 ...\n",
      "9 ...\n",
      "8 ...\n",
      "7 ...\n",
      "6 ...\n",
      "5 ...\n",
      "4 ...\n",
      "3 ...\n",
      "2 ...\n",
      "1 ...\n",
      "Liftoff!\n"
     ]
    }
   ],
   "source": [
    "# The While Statement\n",
    "\n",
    "n = 10\n",
    "\n",
    "while n > 0:\n",
    "    \n",
    "    print(n,'...')\n",
    "    \n",
    "    n -= 1\n",
    "    \n",
    "print('Liftoff!')"
   ]
  },
  {
   "cell_type": "markdown",
   "metadata": {},
   "source": [
    "# `finite loop`  (\"go until this happens\")"
   ]
  },
  {
   "cell_type": "code",
   "execution_count": 10,
   "metadata": {
    "scrolled": true
   },
   "outputs": [
    {
     "name": "stdout",
     "output_type": "stream",
     "text": [
      "1\n",
      "2\n",
      "3\n",
      "4\n",
      "5\n",
      "6\n",
      "7\n",
      "8\n",
      "9\n",
      "10\n"
     ]
    }
   ],
   "source": [
    "#While loop\n",
    "#Count-up\n",
    "# iteration variable - finite count-up to 10\n",
    "# iteration variable - updated within loop\n",
    "\n",
    "i = 0\n",
    "\n",
    "while i < 10:\n",
    "    \n",
    "    i +=1\n",
    "    print(i)"
   ]
  },
  {
   "cell_type": "code",
   "execution_count": 11,
   "metadata": {},
   "outputs": [
    {
     "name": "stdout",
     "output_type": "stream",
     "text": [
      "10\n",
      "9\n",
      "8\n",
      "7\n",
      "6\n",
      "5\n",
      "4\n",
      "3\n",
      "2\n",
      "1\n"
     ]
    }
   ],
   "source": [
    "#While loop\n",
    "#Count-down\n",
    "# iteration variable - finite count-down from 10\n",
    "# iteration variable - updated within loop\n",
    "\n",
    "j = 10\n",
    "\n",
    "while j > 0:\n",
    "    \n",
    "    print(j)\n",
    "    j-=1"
   ]
  },
  {
   "cell_type": "markdown",
   "metadata": {},
   "source": [
    "## `infinite loop` - Comparison Bool Expression "
   ]
  },
  {
   "cell_type": "code",
   "execution_count": 2,
   "metadata": {},
   "outputs": [],
   "source": [
    "#iteration variable must be updated in the body\n",
    "#iteration variable must also be part of the condition\n",
    "\n",
    "#This loop will run forever without an update to the condition\n",
    "\n",
    "# j = 10\n",
    "\n",
    "# while j > 0:\n",
    "#     print(j)"
   ]
  },
  {
   "cell_type": "markdown",
   "metadata": {},
   "source": [
    "### correct execution involves an `iteration variable`\n",
    "\n",
    "making this loop finite"
   ]
  },
  {
   "cell_type": "code",
   "execution_count": null,
   "metadata": {},
   "outputs": [],
   "source": [
    "#iteration variable must be updated in the body\n",
    "#iteration variable must also be part of the condition\n",
    "\n",
    "j = 10\n",
    "\n",
    "while j > 0:\n",
    "    \n",
    "    print(j)\n",
    "    j-=1"
   ]
  },
  {
   "cell_type": "markdown",
   "metadata": {},
   "source": [
    "# `infinite loops` (\"stop when(if) this happens\")"
   ]
  },
  {
   "cell_type": "markdown",
   "metadata": {},
   "source": [
    "## `infinite loop` - Logical Bool Expression "
   ]
  },
  {
   "cell_type": "code",
   "execution_count": 1,
   "metadata": {},
   "outputs": [],
   "source": [
    "#some statement must effect condition boolean expression\n",
    "\n",
    "\n",
    "#This loop will run forever without an update to the condition\n",
    "\n",
    "#x = 2.718\n",
    "#y = 3.14\n",
    "\n",
    "#while y != x:\n",
    "#    print(y+1)"
   ]
  },
  {
   "cell_type": "code",
   "execution_count": 8,
   "metadata": {},
   "outputs": [
    {
     "name": "stdout",
     "output_type": "stream",
     "text": [
      "10\n",
      "9\n",
      "8\n",
      "7\n",
      "6\n",
      "5\n",
      "Loop terminated: 4 = 4\n"
     ]
    }
   ],
   "source": [
    "#some statement must effect condition boolean expression\n",
    "\n",
    "x = 4\n",
    "y = 10\n",
    "\n",
    "while y != x:\n",
    "    print(y)\n",
    "    y -= 1\n",
    "    \n",
    "print('Loop terminated:',x,'=',y)"
   ]
  },
  {
   "cell_type": "code",
   "execution_count": null,
   "metadata": {},
   "outputs": [],
   "source": [
    "#some statement must effect condition boolean expression\n",
    "\n",
    "\n",
    "#This loop will run forever without an update to the condition\n",
    "\n",
    "# finished = False\n",
    "\n",
    "# while not finished:\n",
    "    \n",
    "#     printInput = input('Enter anything:')\n",
    "        \n",
    "#     print(printInput)\n",
    "#     print()"
   ]
  },
  {
   "cell_type": "code",
   "execution_count": 1,
   "metadata": {},
   "outputs": [
    {
     "name": "stdout",
     "output_type": "stream",
     "text": [
      "Enter anything:done\n",
      "done\n",
      "\n",
      "**While statement terminated**\n"
     ]
    }
   ],
   "source": [
    "finished = False\n",
    "\n",
    "while not finished:\n",
    "    \n",
    "    printInput = input('Enter anything:')\n",
    "    \n",
    "    if printInput.lower() == 'done':\n",
    "        finished = True\n",
    "        \n",
    "    print(printInput)       #input is still printed, even if [exit condition] is found\n",
    "    print()\n",
    "    \n",
    "print('**While statement terminated**')"
   ]
  },
  {
   "cell_type": "markdown",
   "metadata": {},
   "source": [
    "## `infinite loop` - Boolean Literal Expression (True) "
   ]
  },
  {
   "cell_type": "code",
   "execution_count": 1,
   "metadata": {},
   "outputs": [],
   "source": [
    "#While loops - infinite loops\n",
    "\n",
    "\n",
    "#iteration variable must be updated in the body\n",
    "#iteration variable must also be part of the condition\n",
    "\n",
    "#or some statement must effect condition boolean expression\n",
    "\n",
    "#or break statement must be used when exit condition is met\n",
    "#so that the loop does not run forever\n",
    "\n",
    "\n",
    "#n = 16 #begins with 16, never ends because condition never changes\n",
    "# iteration variable is updated - but is seperate from boolean condition\n",
    "\n",
    "#while True:\n",
    "#    print(n)\n",
    "#    n = n - 1\n",
    "#print('Done!') #statement will never be executed because loop will never exit"
   ]
  },
  {
   "cell_type": "code",
   "execution_count": 13,
   "metadata": {},
   "outputs": [
    {
     "name": "stdout",
     "output_type": "stream",
     "text": [
      "Enter anything: Dog\n",
      "Dog\n",
      "\n",
      "Enter anything: Cat\n",
      "Cat\n",
      "\n",
      "Enter anything: Fish\n",
      "Fish\n",
      "\n",
      "Enter anything: Food\n",
      "Food\n",
      "\n",
      "Enter anything: Done\n",
      "**While statement terminated**\n"
     ]
    }
   ],
   "source": [
    "# Infinite while statement (loop)\n",
    "# condition - boolean constant\n",
    "\n",
    "while True:\n",
    "    anythingIn = input('Enter anything: ')\n",
    "    \n",
    "    if anythingIn.lower() == 'done':  #converts string into lowercase & checks for equality to 'done'\n",
    "        break                         #break statement ends iteration\n",
    "    \n",
    "    print(anythingIn)                 #input is not printed, break is executed\n",
    "    print()\n",
    "    \n",
    "print('**While statement terminated**')"
   ]
  },
  {
   "cell_type": "markdown",
   "metadata": {},
   "source": [
    "## `continue` statement\n",
    "\n",
    "#### When the [continue] statement is executed the current [iteration] is exited and looped back to while statement [condition]"
   ]
  },
  {
   "cell_type": "code",
   "execution_count": 5,
   "metadata": {},
   "outputs": [
    {
     "name": "stdout",
     "output_type": "stream",
     "text": [
      "Enter anything[# to ignore / 'done' to quit]: zz9\n",
      "zz9\n",
      "Enter anything[# to ignore / 'done' to quit]: plural\n",
      "plural\n",
      "Enter anything[# to ignore / 'done' to quit]: z\n",
      "z\n",
      "Enter anything[# to ignore / 'done' to quit]: alpha\n",
      "alpha\n",
      "Enter anything[# to ignore / 'done' to quit]: # Order to destroy ZZ9 plural Z alpha - Zaphod Beeblebox\n",
      "Enter anything[# to ignore / 'done' to quit]: done\n",
      "\n",
      "**While statement terminated**\n"
     ]
    }
   ],
   "source": [
    "# Infinite while statement (loop)\n",
    "# condition - boolean constant\n",
    "# [continue] statement\n",
    "\n",
    "while True:\n",
    "    \n",
    "    anythingInput = input('Enter anything[# to ignore / \\'done\\' to quit]: ')\n",
    "    \n",
    "    if anythingInput[0] == '#':       #     if anythingInput.lower() == 'continue':\n",
    "        continue                      #         continue\n",
    "            \n",
    "    if anythingInput.lower() == 'done':\n",
    "        break\n",
    "        \n",
    "    print(anythingInput)                 #input is not printed, break is executed\n",
    "\n",
    "print()\n",
    "print('**While statement terminated**')"
   ]
  },
  {
   "cell_type": "markdown",
   "metadata": {},
   "source": [
    "## The `for statement` - definite (loop)\n",
    "### Loop runs through predetermined (known) set of items [as many iterations] [as items in the set]\n",
    "#### List of words, list of numbers, lines in a file\n",
    "#### Another form of iteration in python"
   ]
  },
  {
   "cell_type": "code",
   "execution_count": 6,
   "metadata": {},
   "outputs": [],
   "source": [
    "##For (reserved word)  [iteration variable]  in (reserved word)  [variable list]  [:]\n",
    "##[iteration variable] changes with each [item] through list during each [iteration] until completion\n",
    "    ##Loop"
   ]
  },
  {
   "cell_type": "code",
   "execution_count": 9,
   "metadata": {},
   "outputs": [
    {
     "name": "stdout",
     "output_type": "stream",
     "text": [
      "Spice #1 cayenne\n",
      "Spice #2 chipotle\n",
      "Spice #3 peppercorn\n",
      "\n",
      "**For statement terminated**\n"
     ]
    }
   ],
   "source": [
    "# For loop\n",
    "#[List] - spices\n",
    "#[Strings] - 'cayenne', 'chipotle', 'peppercorn']\n",
    "\n",
    "\n",
    "spices = ['cayenne', 'chipotle', 'peppercorn']\n",
    "n = 1                                                       #Can initialize count varible as 1\n",
    "\n",
    "for aSpice in spices:\n",
    "    \n",
    "    print('Spice #' + str(n) + ' ' + aSpice)\n",
    "    \n",
    "    n+=1                                                    #update after use\n",
    "    \n",
    "print()\n",
    "print('**For statement terminated**')"
   ]
  },
  {
   "cell_type": "markdown",
   "metadata": {},
   "source": [
    "### `count variable`\n",
    "- can be updated before or after use in the conditional because the `iteration variable` is seperate\n",
    "\n",
    "- unlike with a while loop, where the iteration variable is typically used as the count as well"
   ]
  },
  {
   "cell_type": "code",
   "execution_count": 10,
   "metadata": {},
   "outputs": [
    {
     "name": "stdout",
     "output_type": "stream",
     "text": [
      "Spice #1 cayenne\n",
      "Spice #2 chipotle\n",
      "Spice #3 peppercorn\n",
      "\n",
      "**For statement terminated**\n"
     ]
    }
   ],
   "source": [
    "# For loop\n",
    "#[List] - spices\n",
    "#[Strings] - 'cayenne', 'chipotle', 'peppercorn']\n",
    "\n",
    "\n",
    "spices = ['cayenne', 'chipotle', 'peppercorn']\n",
    "counter = 0                                                       #Can initialize counter variable as 0\n",
    "\n",
    "for aSpice in spices:\n",
    "    \n",
    "    counter+=1                                                    #update before use\n",
    "    print('Spice #' + str(counter) + ' ' + aSpice)\n",
    "    \n",
    "    \n",
    "print()\n",
    "print('**For statement terminated**')"
   ]
  },
  {
   "cell_type": "code",
   "execution_count": 11,
   "metadata": {},
   "outputs": [
    {
     "name": "stdout",
     "output_type": "stream",
     "text": [
      "Spice #1 car\n",
      "Spice #2 boat\n",
      "Spice #3 plane\n",
      "\n",
      "**For statement terminated**\n"
     ]
    }
   ],
   "source": [
    "# For loop\n",
    "#[List] - literal - ['car', 'boat', 'plane']\n",
    "#[Strings] - 'car', 'boat', 'plane'\n",
    "\n",
    "\n",
    "counter = 1\n",
    "\n",
    "for particularVehicle in ['car', 'boat', 'plane']:\n",
    "    \n",
    "    print('Spice #' + str(counter) + ' ' + particularVehicle)\n",
    "    \n",
    "    counter+=1\n",
    "    \n",
    "print()\n",
    "print('**For statement terminated**')"
   ]
  },
  {
   "cell_type": "code",
   "execution_count": 18,
   "metadata": {},
   "outputs": [],
   "source": [
    "# For loop will run through iterations until list is done\n",
    "# even if nothing having to do with the list is computed\n",
    "\n"
   ]
  },
  {
   "cell_type": "markdown",
   "metadata": {},
   "source": [
    "## Loop patterns\n",
    "#### iterate through list of items or items in a file\n",
    "#### searching for something in the data (largest or smallest value)"
   ]
  },
  {
   "cell_type": "code",
   "execution_count": 19,
   "metadata": {},
   "outputs": [],
   "source": [
    "##Done by \n",
    "\n",
    "###initializing item(s) before loop\n",
    "###performing computation, modifying or updating item(s) in the loop body\n",
    "###analyze resulting variables after iteration is complete"
   ]
  },
  {
   "cell_type": "markdown",
   "metadata": {},
   "source": [
    "# `counting` and `summing` loop patterns"
   ]
  },
  {
   "cell_type": "markdown",
   "metadata": {},
   "source": [
    "## `counting loop pattern`"
   ]
  },
  {
   "cell_type": "markdown",
   "metadata": {},
   "source": [
    "## `counter` variable"
   ]
  },
  {
   "cell_type": "code",
   "execution_count": 27,
   "metadata": {},
   "outputs": [
    {
     "name": "stdout",
     "output_type": "stream",
     "text": [
      "Count: 1\n",
      "Count: 2\n",
      "Count: 3\n",
      "Count: 4\n",
      "\n",
      "**For loop terminated**\n"
     ]
    }
   ],
   "source": [
    "##Counting loop pattern\n",
    "\n",
    "##count [counting variable] is used to count the loop iterations\n",
    "##iterationVar [iteration variable] does not need to be used, but will iterate through list through list length\n",
    "\n",
    "count = 0\n",
    "\n",
    "for iterationVar in ['model3','modelY','modelS','modelX']:\n",
    "    \n",
    "    count += 1\n",
    "    print('Count:',count)\n",
    "\n",
    "print()\n",
    "print('**For loop terminated**')"
   ]
  },
  {
   "cell_type": "markdown",
   "metadata": {},
   "source": [
    "## `summing loop pattern`"
   ]
  },
  {
   "cell_type": "markdown",
   "metadata": {},
   "source": [
    "## `accumulator` variable"
   ]
  },
  {
   "cell_type": "code",
   "execution_count": 5,
   "metadata": {},
   "outputs": [
    {
     "name": "stdout",
     "output_type": "stream",
     "text": [
      "Total: 0\n",
      "Total: 1\n",
      "Total: 2\n",
      "Total: 4\n",
      "Total: 7\n",
      "Total: 12\n",
      "Total: 20\n",
      "\n",
      "**For loop terminated**\n"
     ]
    }
   ],
   "source": [
    "##Total (summing) loop pattern\n",
    "###Total is the overal value of the items in the list\n",
    "###This variable is called the accumulator\n",
    "\n",
    "##accumulator [accumulator variable] is used to count the loop iterations\n",
    "##iterationVar [iteration variable] is added to the accumulator each iteration, to sum the contents of the list\n",
    "\n",
    "accumulator = 0\n",
    "\n",
    "for iterationVariable in [0, 1, 1, 2, 3, 5, 8,]:\n",
    "    \n",
    "    accumulator +=iterationVariable\n",
    "    \n",
    "    print('Total: ' + str(accumulator))\n",
    "    \n",
    "print()\n",
    "print('**For loop terminated**')"
   ]
  },
  {
   "cell_type": "code",
   "execution_count": 39,
   "metadata": {},
   "outputs": [
    {
     "name": "stdout",
     "output_type": "stream",
     "text": [
      "Item: 0  Total: 0\n",
      "Item: 1  Total: 1\n",
      "Item: 1  Total: 2\n",
      "Item: 2  Total: 4\n",
      "Item: 3  Total: 7\n",
      "Item: 5  Total: 12\n",
      "Item: 8  Total: 20\n",
      "\n",
      "**For loop terminated**\n"
     ]
    }
   ],
   "source": [
    "##Total (summing) loop pattern\n",
    "\n",
    "accumulator = 0\n",
    "\n",
    "for iterationVariable in [0, 1, 1, 2, 3, 5, 8,]:\n",
    "    \n",
    "    accumulator +=iterationVariable\n",
    "    \n",
    "    print('Item: ' + str(iterationVariable) + '  Total: ' + str(accumulator))\n",
    "    \n",
    "print()\n",
    "print('**For loop terminated**')"
   ]
  },
  {
   "cell_type": "markdown",
   "metadata": {},
   "source": [
    "### len() and sum() - built in functions"
   ]
  },
  {
   "cell_type": "code",
   "execution_count": 20,
   "metadata": {},
   "outputs": [
    {
     "name": "stdout",
     "output_type": "stream",
     "text": [
      "6\n",
      "10\n",
      "2\n",
      "6\n",
      "6\n"
     ]
    }
   ],
   "source": [
    "#Len takes a list or string as an argument\n",
    "\n",
    "print(len('string'))\n",
    "\n",
    "print(len('4235346452'))\n",
    "\n",
    "print(len('16'))\n",
    "\n",
    "print(len([42,21,3,34,4,-3]))\n",
    "\n",
    "print(len(['42','21','3','34','4','-3']))"
   ]
  },
  {
   "cell_type": "code",
   "execution_count": 15,
   "metadata": {},
   "outputs": [
    {
     "name": "stdout",
     "output_type": "stream",
     "text": [
      "20\n"
     ]
    },
    {
     "data": {
      "text/plain": [
       "20"
      ]
     },
     "execution_count": 15,
     "metadata": {},
     "output_type": "execute_result"
    }
   ],
   "source": [
    "#Sum takes a list as an argument\n",
    "\n",
    "print(sum([0, 1, 1, 2, 3, 5, 8,]))\n",
    "\n",
    "listOfNumbers = [0, 1, 1, 2, 3, 5, 8,]\n",
    "sum(listOfNumbers)"
   ]
  },
  {
   "cell_type": "markdown",
   "metadata": {},
   "source": [
    "## Largest and Smallest loop pattern"
   ]
  },
  {
   "cell_type": "code",
   "execution_count": null,
   "metadata": {},
   "outputs": [],
   "source": [
    "###largest or smallest [variable] can be initialized with [None] a special [constant] to identify a variable as \"empty\"\n",
    "## Maximum and Minimum"
   ]
  },
  {
   "cell_type": "markdown",
   "metadata": {},
   "source": [
    "### Largest loop pattern"
   ]
  },
  {
   "cell_type": "code",
   "execution_count": 12,
   "metadata": {},
   "outputs": [
    {
     "name": "stdout",
     "output_type": "stream",
     "text": [
      "Before: None\n",
      "Loop: 3 3\n",
      "Loop: 41 41\n",
      "Loop: 12 41\n",
      "Loop: 9 41\n",
      "Loop: 74 74\n",
      "Loop: 15 74\n",
      "Largest: 74\n"
     ]
    }
   ],
   "source": [
    "##Largest and Smallest\n",
    "\n",
    "largest = None                                  #largest value so far\n",
    "\n",
    "print('Before:', largest)\n",
    "\n",
    "\n",
    "for itervar in [3, 41, 12, 9, 74, 15]:\n",
    "    \n",
    "    if largest is None or itervar > largest :   #Largest value the first value in list - on first iteration\n",
    "        largest = itervar                       #compound boolean conditional only updates \"largest value so far\"\n",
    "                                                # -if second boolean condition condition is met\n",
    "    print('Loop:', itervar, largest)            #print will display [iteration variable] and \"largest value so far\"\n",
    "    \n",
    "print('Largest:', largest)"
   ]
  },
  {
   "cell_type": "markdown",
   "metadata": {},
   "source": [
    "### None type"
   ]
  },
  {
   "cell_type": "code",
   "execution_count": 15,
   "metadata": {},
   "outputs": [
    {
     "name": "stdout",
     "output_type": "stream",
     "text": [
      "<class 'NoneType'>\n"
     ]
    }
   ],
   "source": [
    "largest = None\n",
    "print(type(largest))\n",
    "\n",
    "\n",
    "#[None] type can not be used with [comparison operators]\n",
    "numerValue = 42\n",
    "# largest >  numerValue         # TypeError: '>' not supported between instances of 'NoneType' and 'int'"
   ]
  },
  {
   "cell_type": "markdown",
   "metadata": {},
   "source": [
    "## `none type` - use case\n",
    "\n",
    "CAN NOT be used with `comparison operators`"
   ]
  },
  {
   "cell_type": "code",
   "execution_count": 20,
   "metadata": {},
   "outputs": [
    {
     "name": "stdout",
     "output_type": "stream",
     "text": [
      "Largest: 400\n"
     ]
    }
   ],
   "source": [
    "#Results in [semantic error]\n",
    "#largest is set to 400, but no value overwrites it\n",
    "\n",
    "#largest should be set to None - so no error in search is possible\n",
    "#[conditional-statement] should assign first [value] in [list] to [largest] - by [compound conditional]\n",
    "\n",
    "largest = 400                                        #largest = None\n",
    "\n",
    "for numberIterator in [101,200,2,5,54,345,1,4]:\n",
    "    \n",
    "    if numberIterator > largest:                     # if largest is None or itervar > largest:\n",
    "        largest = numberIterator                     #if largest is None - set largest to first value in list\n",
    "        \n",
    "print('Largest:',largest)"
   ]
  },
  {
   "cell_type": "code",
   "execution_count": 44,
   "metadata": {
    "scrolled": false
   },
   "outputs": [
    {
     "name": "stdout",
     "output_type": "stream",
     "text": [
      "Largest: None\n",
      "Current item: None  Largest item: None\n",
      "Current item: None  Largest item: None\n",
      "Current item: 42  Largest item: 42\n",
      "Current item: 36  Largest item: 42\n",
      "Current item: 500  Largest item: 500\n",
      "Current item: 78  Largest item: 500\n",
      "\n",
      "Final largest: 500\n",
      "**For loop terminated**\n"
     ]
    }
   ],
   "source": [
    "#Maximum\n",
    "\n",
    "largest = None\n",
    "\n",
    "print('Largest:', largest)\n",
    "\n",
    "\n",
    "for iterationVariable in [None, None, 42, 36, 500, 78,]:  #Will work if first value(s) are [None]\n",
    "#for iterationVariable in [None, None, 42, None, 500, 78,]:  # - will fail if any others are [None] after a [value] is in list\n",
    "\n",
    "    if largest is None or iterationVariable > largest:    #Fails due to None being used with comparison operator [None] > [value]\n",
    "        largest = iterationVariable                       #[None] can not be greater than a value\n",
    "                                                          #'<' not supported between instances of 'NoneType' and 'float'\n",
    "    print('Current item:',iterationVariable,' Largest item:',largest)\n",
    "    \n",
    "print()\n",
    "print('Final largest:',largest)\n",
    "\n",
    "print('**For loop terminated**')"
   ]
  },
  {
   "cell_type": "markdown",
   "metadata": {},
   "source": [
    "### Smallest loop pattern"
   ]
  },
  {
   "cell_type": "code",
   "execution_count": 10,
   "metadata": {},
   "outputs": [
    {
     "name": "stdout",
     "output_type": "stream",
     "text": [
      "Before: None\n",
      "Loop: 32 32\n",
      "Loop: 41 32\n",
      "Loop: 12 12\n",
      "Loop: 9 9\n",
      "Loop: 74 9\n",
      "Loop: 15 9\n",
      "Smallest: 9\n"
     ]
    }
   ],
   "source": [
    "##Largest and Smallest\n",
    "\n",
    "smallest = None                                   #largest value so far\n",
    "\n",
    "print('Before:', smallest)\n",
    "\n",
    "\n",
    "for itervar in [32, 41, 12, 9, 74, 15]:\n",
    "    \n",
    "    if smallest is None or itervar < smallest :   #Largest value the first value in list - on first iteration\n",
    "        smallest = itervar                        #compound boolean conditional only updates \"largest value so far\"\n",
    "                                                  # -if second boolean condition condition is met\n",
    "    print('Loop:', itervar, smallest)             #print will display [iteration variable] and \"largest value so far\"\n",
    "    \n",
    "print('Smallest:', smallest)"
   ]
  },
  {
   "cell_type": "code",
   "execution_count": 41,
   "metadata": {},
   "outputs": [
    {
     "name": "stdout",
     "output_type": "stream",
     "text": [
      "Smallest: None\n",
      "Current item: 3.14  Smallest item: 3.14\n",
      "Current item: 2.718  Smallest item: 2.718\n",
      "Current item: 42  Smallest item: 2.718\n",
      "Current item: 36  Smallest item: 2.718\n",
      "Current item: 500  Smallest item: 2.718\n",
      "Current item: 78  Smallest item: 2.718\n",
      "\n",
      "Final smallest: 2.718\n",
      "**For loop terminated**\n"
     ]
    }
   ],
   "source": [
    "#Minimum\n",
    "\n",
    "smallest = None\n",
    "\n",
    "print('Smallest:', smallest)\n",
    "\n",
    "\n",
    "for iterationVariable in [3.14, 2.718, 42, 36, 500, 78,]:   #Will work if any value is [None]\n",
    "                                                            #[None] < [value] - can be compared as less\n",
    "    if smallest is None or iterationVariable < smallest:    #[None] is less than a value\n",
    "        smallest = iterationVariable\n",
    "    \n",
    "    print('Current item:',iterationVariable,' Smallest item:',smallest)\n",
    "    \n",
    "print()\n",
    "print('Final smallest:',smallest)\n",
    "\n",
    "print('**For loop terminated**')"
   ]
  },
  {
   "cell_type": "markdown",
   "metadata": {},
   "source": [
    "### `smallest loop pattern` - function"
   ]
  },
  {
   "cell_type": "code",
   "execution_count": 42,
   "metadata": {},
   "outputs": [
    {
     "data": {
      "text/plain": [
       "3.14"
      ]
     },
     "execution_count": 42,
     "metadata": {},
     "output_type": "execute_result"
    }
   ],
   "source": [
    "#Simple function definition of min() function\n",
    "#Min takes a list or string as an argument\n",
    "\n",
    "def min(values):\n",
    "    \n",
    "    smallest = None\n",
    "    \n",
    "    for value in values:\n",
    "        if smallest is None or value < smallest:\n",
    "            smallest = value\n",
    "            \n",
    "    return smallest\n",
    "\n",
    "min([10,9,42,3.14])\n",
    "#min('alex')"
   ]
  },
  {
   "cell_type": "code",
   "execution_count": 51,
   "metadata": {},
   "outputs": [
    {
     "name": "stdout",
     "output_type": "stream",
     "text": [
      "g\n",
      "2\n",
      "1\n",
      "-3\n",
      "-3\n"
     ]
    }
   ],
   "source": [
    "#Min takes a list or string as an argument\n",
    "\n",
    "print(min('string'))\n",
    "\n",
    "print(min('4235346452'))\n",
    "\n",
    "print(min('16'))\n",
    "\n",
    "print(min([42,21,3,34,4,-3]))\n",
    "\n",
    "print(min(['42','21','3','34','4','-3']))"
   ]
  },
  {
   "cell_type": "code",
   "execution_count": 1,
   "metadata": {},
   "outputs": [
    {
     "ename": "TypeError",
     "evalue": "'float' object is not iterable",
     "output_type": "error",
     "traceback": [
      "\u001b[1;31m---------------------------------------------------------------------------\u001b[0m",
      "\u001b[1;31mTypeError\u001b[0m                                 Traceback (most recent call last)",
      "\u001b[1;32m<ipython-input-1-18e0185a96f5>\u001b[0m in \u001b[0;36m<module>\u001b[1;34m()\u001b[0m\n\u001b[1;32m----> 1\u001b[1;33m \u001b[0mmin\u001b[0m\u001b[1;33m(\u001b[0m\u001b[1;36m2.718\u001b[0m\u001b[1;33m)\u001b[0m\u001b[1;33m\u001b[0m\u001b[0m\n\u001b[0m",
      "\u001b[1;31mTypeError\u001b[0m: 'float' object is not iterable"
     ]
    }
   ],
   "source": [
    "min(2.718)"
   ]
  },
  {
   "cell_type": "markdown",
   "metadata": {},
   "source": [
    "## Filter loop pattern"
   ]
  },
  {
   "cell_type": "markdown",
   "metadata": {},
   "source": [
    "### Filter loop pattern"
   ]
  },
  {
   "cell_type": "code",
   "execution_count": 7,
   "metadata": {},
   "outputs": [
    {
     "name": "stdout",
     "output_type": "stream",
     "text": [
      "Found 3: True\n",
      "Found 3: False\n",
      "Found 3: True\n",
      "Found 3: False\n",
      "Found 3: False\n",
      "Found 3: False\n",
      "Found 3: False\n",
      "Found 3: True\n"
     ]
    }
   ],
   "source": [
    "found = False\n",
    "\n",
    "for iteratorVariable in [3,5,3,232,534,6,36,3]:\n",
    "    \n",
    "    if iteratorVariable == 3:\n",
    "        \n",
    "        found = True\n",
    "                               #print('Found 3:',found) - can be used to only print true when filter item is found\n",
    "    print('Found 3:',found)\n",
    "        \n",
    "    found = False              #set [found] to false to continue filtering with [if] statement for filter item\n",
    "                               #otherwise [found] will remain True"
   ]
  },
  {
   "cell_type": "markdown",
   "metadata": {},
   "source": [
    "## Use Cases"
   ]
  },
  {
   "cell_type": "markdown",
   "metadata": {},
   "source": [
    "### `average` - using `counter` and `accumulator`"
   ]
  },
  {
   "cell_type": "code",
   "execution_count": null,
   "metadata": {},
   "outputs": [],
   "source": [
    "# will end after exception"
   ]
  },
  {
   "cell_type": "code",
   "execution_count": 26,
   "metadata": {},
   "outputs": [
    {
     "name": "stdout",
     "output_type": "stream",
     "text": [
      "Enter a number:4\n",
      "Enter a number:2\n",
      "Enter a number:done\n",
      "Numbers entered: 2\n",
      "Total value of numbers: 6.0\n",
      "Average value of numbers: 3.0\n"
     ]
    }
   ],
   "source": [
    "count = 0\n",
    "accumulator = 0\n",
    "average = 0                                 #if average is not assigned 0 - average will not be defined in the event\n",
    "                                            #-that 'done' is the first command given - the guardian pattern does not allow for 0\n",
    "while True:\n",
    "                                            #    count += 1\n",
    "                                            #[count] should not be updated until after search for 'done' \n",
    "                                            #or else it will count the exit commmand as an iteration\n",
    "\n",
    "    numberInput = input('Enter a number:')\n",
    "    \n",
    "    if numberInput.lower() =='done':\n",
    "        break\n",
    "        \n",
    "                                            #**count += 1 - can not go before or after [try,except] or else it will add value\n",
    "    try:                                    #even if invalid value is entered\n",
    "        numberInputFloat = float(numberInput)\n",
    "        \n",
    "        accumulator += numberInputFloat\n",
    "        count+=1                            #update count - only if valid values are entered\n",
    "        \n",
    "    except:\n",
    "        print('Enter numbers only\\n')       #** ount += 1 - can not go before or after [try,except] or else it will add value\n",
    "                                            #even if invalid value is entered\n",
    "    \n",
    "    if count != 0:                          #guardian pattern must be used to stop from division by zero\n",
    "        average = accumulator/count         #in the event no values are entered\n",
    "\n",
    "                                            #    count+=1\n",
    "                                            #[count] should not be updated outside of try\n",
    "                                            #count will update even if a wrong input is entered\n",
    "\n",
    "\n",
    "print('Numbers entered:',count)\n",
    "print('Total value of numbers:',accumulator)\n",
    "print('Average value of numbers:',average)  #correct average is performed because count only counts the valid values entered"
   ]
  },
  {
   "cell_type": "markdown",
   "metadata": {},
   "source": [
    "### continue - will allow loop to continue - after exception\n",
    "- keeping the count from updating\n",
    "- keeping the accumulator from adding the previous value\n",
    " - since the current value is not valid - throwing the exception"
   ]
  },
  {
   "cell_type": "code",
   "execution_count": 16,
   "metadata": {},
   "outputs": [
    {
     "name": "stdout",
     "output_type": "stream",
     "text": [
      "Enter a number:2.0\n",
      "Enter a number:2\n",
      "Enter a number:alpha\n",
      "Enter numbers only\n",
      "\n",
      "Enter a number:alpha0101Numeric\n",
      "Enter numbers only\n",
      "\n",
      "Enter a number:done\n",
      "Numbers entered: 2\n",
      "Total value of numbers: 4.0\n",
      "Average value of numbers: 2.0\n"
     ]
    }
   ],
   "source": [
    "count = 0\n",
    "accumulator = 0\n",
    "average = 0\n",
    "\n",
    "while True:\n",
    "\n",
    "    numberInput = input('Enter a number:')\n",
    "    \n",
    "    if numberInput.lower() =='done':\n",
    "        break \n",
    "        \n",
    "    try:\n",
    "        numberInputFloat = float(numberInput)    # float() - casts integer & floating point number 'strings'                    \n",
    "                                                 # int() can only cast integer 'strings'\n",
    "    except:\n",
    "        print('Enter numbers only\\n')\n",
    "        continue                            #continue - will allow loop to start over before **or else**\n",
    "                                            #count and accumulator are updated for invalid value\n",
    "    accumulator += numberInputFloat         #count will increment count - even though invalid value has been entered\n",
    "    count+=1                                #accumulator will add the previous loop value for numberInputFloat \n",
    "                                            #- if variable is not updated by [try] or \n",
    "    if count != 0:                          #[except] does not [continue] to beggining of loop    \n",
    "        average = accumulator/count\n",
    "        \n",
    "print('Numbers entered:',count)\n",
    "print('Total value of numbers:',accumulator)\n",
    "print('Average value of numbers:',average)"
   ]
  },
  {
   "cell_type": "markdown",
   "metadata": {},
   "source": [
    "## largest & smallest"
   ]
  },
  {
   "cell_type": "code",
   "execution_count": 13,
   "metadata": {},
   "outputs": [
    {
     "name": "stdout",
     "output_type": "stream",
     "text": [
      "Enter a number: do\n",
      "Invalid input\n",
      "Enter a number: done\n",
      "\n",
      "Maximum is None\n",
      "Minimum is None\n"
     ]
    }
   ],
   "source": [
    "largest = None\n",
    "smallest = None\n",
    "\n",
    "while True:\n",
    "    \n",
    "    num = input(\"Enter a number: \")\n",
    "    \n",
    "    if num.lower() == \"done\" :\n",
    "        break\n",
    "            \n",
    "    try:\n",
    "        numEval = int(num)\n",
    "        \n",
    "        if largest == None or numEval > largest:\n",
    "            largest = numEval\n",
    "            \n",
    "        if smallest == None or numEval < smallest:\n",
    "            smallest = numEval\n",
    "        \n",
    "    except:\n",
    "        print('Invalid input')\n",
    "\n",
    "print() \n",
    "print('Maximum is',largest)\n",
    "print('Minimum is',smallest)"
   ]
  }
 ],
 "metadata": {
  "kernelspec": {
   "display_name": "Python 3",
   "language": "python",
   "name": "python3"
  },
  "language_info": {
   "codemirror_mode": {
    "name": "ipython",
    "version": 3
   },
   "file_extension": ".py",
   "mimetype": "text/x-python",
   "name": "python",
   "nbconvert_exporter": "python",
   "pygments_lexer": "ipython3",
   "version": "3.7.0"
  }
 },
 "nbformat": 4,
 "nbformat_minor": 2
}
