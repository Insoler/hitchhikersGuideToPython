{
 "cells": [
  {
   "cell_type": "markdown",
   "metadata": {},
   "source": [
    "# `Python`\n",
    "## Reusable functions\n",
    " <img src=\"pythonLogo.png\" height=\"20%\" width=\"20%\"/>"
   ]
  },
  {
   "cell_type": "markdown",
   "metadata": {},
   "source": [
    "# function definition\n",
    "#### header includes\n",
    "- `def`\n",
    "- function name\n",
    "- input parameters\n",
    "- colon :\n",
    "\n",
    "#### body of compound statement \n",
    "- executed when function name is `invoked`\n",
    "- `arguments` are passed to body of code block using `parameters`\n",
    "\n",
    "#### `store` and `reuse` pattern of execution"
   ]
  },
  {
   "cell_type": "markdown",
   "metadata": {},
   "source": [
    "# Function\n",
    "named sequence of instructions that perform computation\n",
    "\n",
    "Functions are `called` or `invoked`"
   ]
  },
  {
   "cell_type": "markdown",
   "metadata": {},
   "source": [
    "### Function Object\n",
    "a `value` created by a `function definition`\n",
    "\n",
    "the `name of a function` is the `variable` that refers to the `function object`"
   ]
  },
  {
   "cell_type": "markdown",
   "metadata": {},
   "source": [
    "# function invocation\n",
    "\"calling\" a function\n",
    "\n",
    "#### invoke by name\n",
    "- `functionName()` or `moduleObject.method()`\n",
    "\n",
    "#### pass arguments\n",
    "- takes `input(argument)`\n",
    "- can have `default parameters`\n",
    "- does not always require argument `functionName()`\n",
    "\n",
    "#### return output or execute command\n",
    "- `returns output` or `executes command`\n",
    "\n",
    "- does not always have argument for input"
   ]
  },
  {
   "cell_type": "markdown",
   "metadata": {},
   "source": [
    "# `built in` functions\n",
    "#### invoked by name()"
   ]
  },
  {
   "cell_type": "markdown",
   "metadata": {},
   "source": [
    "## print() - function\n",
    "- prints values inside as 'strings'\n",
    "- each print() statement begins on a newline"
   ]
  },
  {
   "cell_type": "code",
   "execution_count": 6,
   "metadata": {},
   "outputs": [
    {
     "name": "stdout",
     "output_type": "stream",
     "text": [
      "string literal\n"
     ]
    }
   ],
   "source": [
    "print('string literal')"
   ]
  },
  {
   "cell_type": "code",
   "execution_count": 5,
   "metadata": {},
   "outputs": [
    {
     "name": "stdout",
     "output_type": "stream",
     "text": [
      "\n"
     ]
    }
   ],
   "source": [
    "# print() function - with no argument \n",
    "\n",
    "print()                               # prints [\\n] newline to display"
   ]
  },
  {
   "cell_type": "code",
   "execution_count": 22,
   "metadata": {},
   "outputs": [
    {
     "name": "stdout",
     "output_type": "stream",
     "text": [
      "To be\n",
      "or not to be\n"
     ]
    }
   ],
   "source": [
    "# each print() statement begins a new line\n",
    "\n",
    "print('To be')\n",
    "print('or not to be')"
   ]
  },
  {
   "cell_type": "code",
   "execution_count": 24,
   "metadata": {},
   "outputs": [
    {
     "name": "stdout",
     "output_type": "stream",
     "text": [
      "2.718\n"
     ]
    }
   ],
   "source": [
    "print(2.718)"
   ]
  },
  {
   "cell_type": "code",
   "execution_count": 5,
   "metadata": {},
   "outputs": [
    {
     "name": "stdout",
     "output_type": "stream",
     "text": [
      "Every object will remain at rest or in uniform motion unless acted on by a net force.\n"
     ]
    }
   ],
   "source": [
    "newtonsFirstLaw = 'Every object will remain at rest or in uniform motion unless acted on by a net force.'\n",
    "\n",
    "print(newtonsFirstLaw)"
   ]
  },
  {
   "cell_type": "code",
   "execution_count": 23,
   "metadata": {},
   "outputs": [
    {
     "name": "stdout",
     "output_type": "stream",
     "text": [
      "42\n"
     ]
    },
    {
     "data": {
      "text/plain": [
       "NoneType"
      ]
     },
     "execution_count": 23,
     "metadata": {},
     "output_type": "execute_result"
    }
   ],
   "source": [
    "# a print() statement has type: None\n",
    "\n",
    "type(print(42))"
   ]
  },
  {
   "cell_type": "markdown",
   "metadata": {},
   "source": [
    "## print() formatting"
   ]
  },
  {
   "cell_type": "markdown",
   "metadata": {},
   "source": [
    "### print() - vs. interactive input\n",
    "\n"
   ]
  },
  {
   "cell_type": "markdown",
   "metadata": {},
   "source": [
    "##### print()\n",
    "- print() displays a 'string' output to the screen"
   ]
  },
  {
   "cell_type": "code",
   "execution_count": 52,
   "metadata": {},
   "outputs": [
    {
     "name": "stdout",
     "output_type": "stream",
     "text": [
      "42\n"
     ]
    }
   ],
   "source": [
    "print(42)"
   ]
  },
  {
   "cell_type": "markdown",
   "metadata": {},
   "source": [
    "##### Out[ ] - interactive output\n",
    "- entering values or variables will not manipulate the program\n",
    "- in interactive mode the last value or variable in sequence will be displayed as output"
   ]
  },
  {
   "cell_type": "code",
   "execution_count": 53,
   "metadata": {},
   "outputs": [
    {
     "data": {
      "text/plain": [
       "42"
      ]
     },
     "execution_count": 53,
     "metadata": {},
     "output_type": "execute_result"
    }
   ],
   "source": [
    "42"
   ]
  },
  {
   "cell_type": "code",
   "execution_count": 4,
   "metadata": {},
   "outputs": [
    {
     "data": {
      "text/plain": [
       "'Every action (force) has an equal and opposite reaction.'"
      ]
     },
     "execution_count": 4,
     "metadata": {},
     "output_type": "execute_result"
    }
   ],
   "source": [
    "2.718\n",
    "\n",
    "42\n",
    "\n",
    "PI = 3.14\n",
    "\n",
    "PI * 42\n",
    "\n",
    "newtonsThirdLaw = \"Every action (force) has an equal and opposite reaction.\"\n",
    "\n",
    "newtonsThirdLaw"
   ]
  },
  {
   "cell_type": "code",
   "execution_count": 56,
   "metadata": {},
   "outputs": [
    {
     "name": "stdout",
     "output_type": "stream",
     "text": [
      "A string output to the screen\n"
     ]
    }
   ],
   "source": [
    "# literals and variables will not be output if any print() statement follows \n",
    "\n",
    "newtonsThirdLaw\n",
    "\n",
    "print('A string output to the screen')"
   ]
  },
  {
   "cell_type": "markdown",
   "metadata": {},
   "source": [
    "## print(VALUE,VALUE,VALUE) - multiple values\n",
    "- print() can take multiple arguments\n",
    "- comma , separated values\n",
    "- output is separated by ' ' space\n",
    "- can combine different type() - unlike 1 argument print() - must be a 'string'"
   ]
  },
  {
   "cell_type": "code",
   "execution_count": 8,
   "metadata": {},
   "outputs": [
    {
     "name": "stdout",
     "output_type": "stream",
     "text": [
      "42 3.14 Thiry six\n"
     ]
    }
   ],
   "source": [
    "print(42,3.14,'Thiry six')"
   ]
  },
  {
   "cell_type": "code",
   "execution_count": 12,
   "metadata": {},
   "outputs": [
    {
     "name": "stdout",
     "output_type": "stream",
     "text": [
      "This is a sentence 3.14 42 **This is also a sentence with a number: 42**\n"
     ]
    }
   ],
   "source": [
    "stringA = 'This is a sentence'\n",
    "stringB = '3.14'\n",
    "integerA = 42\n",
    "\n",
    "print(stringA,stringB,integerA,'**This is'+' also a sentence with a number: ' + str(42) + '**')"
   ]
  },
  {
   "cell_type": "markdown",
   "metadata": {},
   "source": [
    "## escape characters \\ character"
   ]
  },
  {
   "cell_type": "markdown",
   "metadata": {},
   "source": [
    "### \\n - newline character\n",
    "- passed as a 'string'\n",
    "- creates a new line\n",
    "- counts as 1 character"
   ]
  },
  {
   "cell_type": "code",
   "execution_count": 21,
   "metadata": {},
   "outputs": [
    {
     "name": "stdout",
     "output_type": "stream",
     "text": [
      "This is a line.     \n",
      "This is a new line\n",
      "\n",
      "This is a line.     \n",
      " This is a new line\n"
     ]
    }
   ],
   "source": [
    "# space before \\n - does not effect the new line\n",
    "# \\n space after - effects the new line\n",
    "\n",
    "print('This is a line.     \\nThis is a new line')\n",
    "\n",
    "print()\n",
    "\n",
    "print('This is a line.     \\n This is a new line')"
   ]
  },
  {
   "cell_type": "code",
   "execution_count": 14,
   "metadata": {},
   "outputs": [
    {
     "name": "stdout",
     "output_type": "stream",
     "text": [
      "This is a line \n",
      " this is a new line \n",
      " this is another line\n"
     ]
    }
   ],
   "source": [
    "# \\n - newline character\n",
    "# print(argument, argument, argument) - multiple arguments\n",
    "# - still separated by ' ' space \n",
    "\n",
    "\n",
    "print('This is a line','\\n this is a new line','\\n this is another line')"
   ]
  },
  {
   "cell_type": "markdown",
   "metadata": {},
   "source": [
    "## print(argument, end = 'string') - end argument\n",
    "- 'string' passed to end = 'string' function\n",
    "- 'string' passed is deliminator - seperator between arguments"
   ]
  },
  {
   "cell_type": "code",
   "execution_count": 28,
   "metadata": {},
   "outputs": [
    {
     "name": "stdout",
     "output_type": "stream",
     "text": [
      "This is a line This is a new line\n"
     ]
    }
   ],
   "source": [
    "# two print() statements\n",
    "# first statement is directed to use ' ' space as diliminator\n",
    "# no \\n is automatically printed\n",
    "\n",
    "print('This is a line',end = ' ')\n",
    "print('This is a new line')"
   ]
  },
  {
   "cell_type": "code",
   "execution_count": 22,
   "metadata": {},
   "outputs": [
    {
     "name": "stdout",
     "output_type": "stream",
     "text": [
      "1 \n",
      "2 \n",
      "3"
     ]
    }
   ],
   "source": [
    "print('1','\\n2','\\n3',end='')"
   ]
  },
  {
   "cell_type": "markdown",
   "metadata": {},
   "source": [
    "## input() - function\n",
    "- takes a 'string' argument\n",
    "- displays a 'string' prompt\n",
    "- program waits for input\n",
    "- returns 'string' as input"
   ]
  },
  {
   "cell_type": "code",
   "execution_count": 3,
   "metadata": {},
   "outputs": [
    {
     "name": "stdout",
     "output_type": "stream",
     "text": [
      "Enter something: Alex\n"
     ]
    },
    {
     "data": {
      "text/plain": [
       "'Alex'"
      ]
     },
     "execution_count": 3,
     "metadata": {},
     "output_type": "execute_result"
    }
   ],
   "source": [
    "# input() - takes a 'string' as an argument\n",
    "\n",
    "input('Enter something: ')                    # value - returns a 'string'"
   ]
  },
  {
   "cell_type": "code",
   "execution_count": 5,
   "metadata": {},
   "outputs": [
    {
     "name": "stdout",
     "output_type": "stream",
     "text": [
      "Enter something: Alex\n",
      "Alex\n"
     ]
    }
   ],
   "source": [
    "# input can be passed directly as an argument\n",
    "\n",
    "print(input('Enter something: '))"
   ]
  },
  {
   "cell_type": "code",
   "execution_count": 6,
   "metadata": {},
   "outputs": [
    {
     "name": "stdout",
     "output_type": "stream",
     "text": [
      "Enter an alphanumeric combination: Alex@35235\n",
      "Alex@35235\n"
     ]
    }
   ],
   "source": [
    "# input() - can be assigned to a variable\n",
    "\n",
    "alphaNumericInput = input('Enter an alphanumeric combination: ')\n",
    "\n",
    "\n",
    "print(alphaNumericInput)"
   ]
  },
  {
   "cell_type": "code",
   "execution_count": 1,
   "metadata": {},
   "outputs": [
    {
     "name": "stdout",
     "output_type": "stream",
     "text": [
      "Enter an alphanumeric combination: 2863dferg\n",
      "Identification number: 2863dferg\n"
     ]
    }
   ],
   "source": [
    "# input() - can be assigned to a variable\n",
    "\n",
    "alphaNumericInput = input('Enter an alphanumeric combination: ')\n",
    "\n",
    "\n",
    "print('Identification number:',alphaNumericInput)"
   ]
  },
  {
   "cell_type": "code",
   "execution_count": 7,
   "metadata": {},
   "outputs": [
    {
     "name": "stdout",
     "output_type": "stream",
     "text": [
      "Enter an alphanumeric combination: Alex23425\n",
      "Alex23425\n"
     ]
    }
   ],
   "source": [
    "# input() - argument can be passed a 'string' variable\n",
    "# input() - can be assigned to a variable\n",
    "\n",
    "inputMessage = 'Enter an alphanumeric combination: '\n",
    "\n",
    "alphaNumericInput = input(inputMessage)\n",
    "\n",
    "\n",
    "print(alphaNumericInput)"
   ]
  },
  {
   "cell_type": "markdown",
   "metadata": {},
   "source": [
    "## # comments\n",
    "- # followed by any characters\n",
    "- not interpreted and left as comment"
   ]
  },
  {
   "cell_type": "code",
   "execution_count": 50,
   "metadata": {},
   "outputs": [
    {
     "name": "stdout",
     "output_type": "stream",
     "text": [
      "This script has comments\n"
     ]
    }
   ],
   "source": [
    "# comments can have thier own line\n",
    "\n",
    "print('This script has comments')        # can follow a line\n",
    "\n",
    "\n",
    "# print('This statement is visible')     # can be used to 'comment' out code - so it is not executed"
   ]
  },
  {
   "cell_type": "markdown",
   "metadata": {},
   "source": [
    "## type() - function\n",
    "returns the type of a value"
   ]
  },
  {
   "cell_type": "code",
   "execution_count": 25,
   "metadata": {},
   "outputs": [
    {
     "data": {
      "text/plain": [
       "str"
      ]
     },
     "execution_count": 25,
     "metadata": {},
     "output_type": "execute_result"
    }
   ],
   "source": [
    "type('string of words')"
   ]
  },
  {
   "cell_type": "code",
   "execution_count": 3,
   "metadata": {},
   "outputs": [
    {
     "data": {
      "text/plain": [
       "int"
      ]
     },
     "execution_count": 3,
     "metadata": {},
     "output_type": "execute_result"
    }
   ],
   "source": [
    "type(42)"
   ]
  },
  {
   "cell_type": "code",
   "execution_count": 26,
   "metadata": {},
   "outputs": [
    {
     "data": {
      "text/plain": [
       "float"
      ]
     },
     "execution_count": 26,
     "metadata": {},
     "output_type": "execute_result"
    }
   ],
   "source": [
    "type(3.14)"
   ]
  },
  {
   "cell_type": "code",
   "execution_count": 27,
   "metadata": {},
   "outputs": [
    {
     "name": "stdout",
     "output_type": "stream",
     "text": [
      "<class 'str'>\n"
     ]
    }
   ],
   "source": [
    "print(type('onomatopoeia'))"
   ]
  },
  {
   "cell_type": "code",
   "execution_count": 27,
   "metadata": {},
   "outputs": [
    {
     "name": "stdout",
     "output_type": "stream",
     "text": [
      "<class 'str'>\n"
     ]
    }
   ],
   "source": [
    "print(type(42)"
   ]
  },
  {
   "cell_type": "code",
   "execution_count": 28,
   "metadata": {},
   "outputs": [
    {
     "name": "stdout",
     "output_type": "stream",
     "text": [
      "<class 'float'>\n"
     ]
    }
   ],
   "source": [
    "print(type(3.14))"
   ]
  },
  {
   "cell_type": "markdown",
   "metadata": {},
   "source": [
    "# type casting - functions\n",
    "## str()\n",
    "## int()\n",
    "## float()\n",
    "changes the type of an object"
   ]
  },
  {
   "cell_type": "markdown",
   "metadata": {},
   "source": [
    "### str()"
   ]
  },
  {
   "cell_type": "code",
   "execution_count": 108,
   "metadata": {},
   "outputs": [
    {
     "name": "stdout",
     "output_type": "stream",
     "text": [
      "42\n",
      "3.14\n"
     ]
    }
   ],
   "source": [
    "print(str(42))\n",
    "print(str(3.14))"
   ]
  },
  {
   "cell_type": "code",
   "execution_count": 61,
   "metadata": {},
   "outputs": [
    {
     "name": "stdout",
     "output_type": "stream",
     "text": [
      "<class 'str'>\n"
     ]
    }
   ],
   "source": [
    "stringCasted = str(42)\n",
    "\n",
    "print(type(stringCasted))\n"
   ]
  },
  {
   "cell_type": "markdown",
   "metadata": {},
   "source": [
    "#### use cases"
   ]
  },
  {
   "cell_type": "code",
   "execution_count": 56,
   "metadata": {},
   "outputs": [
    {
     "data": {
      "text/plain": [
       "'3.14'"
      ]
     },
     "execution_count": 56,
     "metadata": {},
     "output_type": "execute_result"
    }
   ],
   "source": [
    "stringCastedFromFloat = str(3.14)\n",
    "\n",
    "print(stringCastedFromFloat)"
   ]
  },
  {
   "cell_type": "code",
   "execution_count": 17,
   "metadata": {},
   "outputs": [
    {
     "name": "stdout",
     "output_type": "stream",
     "text": [
      "R2D2\n"
     ]
    }
   ],
   "source": [
    "alphaNumeric = 'R' + '2' + 'D' + str(2)\n",
    "\n",
    "print(alphaNumeric)"
   ]
  },
  {
   "cell_type": "code",
   "execution_count": 60,
   "metadata": {},
   "outputs": [
    {
     "name": "stdout",
     "output_type": "stream",
     "text": [
      "224213514253.14\n"
     ]
    }
   ],
   "source": [
    "stringCastedFromFloat = str(3.14)\n",
    "\n",
    "print('22' + str(42) + '1351425' + stringCastedFromFloat)"
   ]
  },
  {
   "cell_type": "code",
   "execution_count": 79,
   "metadata": {},
   "outputs": [
    {
     "name": "stdout",
     "output_type": "stream",
     "text": [
      "Enter a number: 2\n",
      "<class 'str'>\n"
     ]
    }
   ],
   "source": [
    "input1 = input('Enter a number: ')\n",
    "\n",
    "print(type(input1))"
   ]
  },
  {
   "cell_type": "markdown",
   "metadata": {},
   "source": [
    "### int()"
   ]
  },
  {
   "cell_type": "code",
   "execution_count": 114,
   "metadata": {},
   "outputs": [
    {
     "name": "stdout",
     "output_type": "stream",
     "text": [
      "42\n",
      "3\n"
     ]
    }
   ],
   "source": [
    "print(int('42'))\n",
    "print(int(3.14))"
   ]
  },
  {
   "cell_type": "code",
   "execution_count": 72,
   "metadata": {},
   "outputs": [
    {
     "name": "stdout",
     "output_type": "stream",
     "text": [
      "<class 'int'>\n"
     ]
    }
   ],
   "source": [
    "intCasted = int(2.718)\n",
    "\n",
    "print(type(intCasted))\n"
   ]
  },
  {
   "cell_type": "markdown",
   "metadata": {},
   "source": [
    "#### int() -  type conversion truncates floating point numbers"
   ]
  },
  {
   "cell_type": "code",
   "execution_count": 113,
   "metadata": {},
   "outputs": [
    {
     "name": "stdout",
     "output_type": "stream",
     "text": [
      "2\n"
     ]
    }
   ],
   "source": [
    "print(int(2.718))"
   ]
  },
  {
   "cell_type": "markdown",
   "metadata": {},
   "source": [
    "#### int() type conversion `can not` take `floating point strings`"
   ]
  },
  {
   "cell_type": "code",
   "execution_count": 101,
   "metadata": {},
   "outputs": [],
   "source": [
    "# int('3.14')\n",
    "\n",
    "# ValueError: invalid literal for int() with base 10: '3.14'"
   ]
  },
  {
   "cell_type": "markdown",
   "metadata": {},
   "source": [
    "#### use cases"
   ]
  },
  {
   "cell_type": "code",
   "execution_count": 64,
   "metadata": {},
   "outputs": [
    {
     "data": {
      "text/plain": [
       "2"
      ]
     },
     "execution_count": 64,
     "metadata": {},
     "output_type": "execute_result"
    }
   ],
   "source": [
    "intCastedFromFloat = int(2.718)\n",
    "\n",
    "print(intCastedFromFloat)"
   ]
  },
  {
   "cell_type": "code",
   "execution_count": 78,
   "metadata": {},
   "outputs": [
    {
     "name": "stdout",
     "output_type": "stream",
     "text": [
      "R2D2\n"
     ]
    }
   ],
   "source": [
    "alphaNumeric = 'R' + '2' + 'D'\n",
    "\n",
    "print(alphaNumeric, end='')\n",
    "\n",
    "print(int(2.718))"
   ]
  },
  {
   "cell_type": "code",
   "execution_count": 21,
   "metadata": {
    "scrolled": true
   },
   "outputs": [
    {
     "name": "stdout",
     "output_type": "stream",
     "text": [
      "Enter a number: 2\n",
      "Enter another number: 3\n",
      "2 + 3 = 5\n"
     ]
    }
   ],
   "source": [
    "input1 = input('Enter a number: ')\n",
    "input2 = input('Enter another number: ')\n",
    "\n",
    "print(input1,'+',input2,'=', int(input1) + int(input2))"
   ]
  },
  {
   "cell_type": "markdown",
   "metadata": {},
   "source": [
    "### float()"
   ]
  },
  {
   "cell_type": "code",
   "execution_count": 120,
   "metadata": {},
   "outputs": [
    {
     "name": "stdout",
     "output_type": "stream",
     "text": [
      "42.0\n",
      "36.0\n"
     ]
    }
   ],
   "source": [
    "print(float('42'))\n",
    "print(float(36))"
   ]
  },
  {
   "cell_type": "code",
   "execution_count": 88,
   "metadata": {},
   "outputs": [
    {
     "name": "stdout",
     "output_type": "stream",
     "text": [
      "<class 'float'>\n"
     ]
    }
   ],
   "source": [
    "floatCasted = float('42')\n",
    "print(type(floatCasted))\n"
   ]
  },
  {
   "cell_type": "markdown",
   "metadata": {},
   "source": [
    "#### use cases"
   ]
  },
  {
   "cell_type": "code",
   "execution_count": 85,
   "metadata": {},
   "outputs": [
    {
     "data": {
      "text/plain": [
       "3.14"
      ]
     },
     "execution_count": 85,
     "metadata": {},
     "output_type": "execute_result"
    }
   ],
   "source": [
    "floatCastedFromString = float('3.14')\n",
    "\n",
    "print(floatCastedFromString)"
   ]
  },
  {
   "cell_type": "code",
   "execution_count": 89,
   "metadata": {},
   "outputs": [
    {
     "name": "stdout",
     "output_type": "stream",
     "text": [
      "R2D2.0\n"
     ]
    }
   ],
   "source": [
    "alphaNumeric = 'R' + '2' + 'D'\n",
    "\n",
    "print(alphaNumeric, end='')\n",
    "\n",
    "print(float(2))"
   ]
  },
  {
   "cell_type": "code",
   "execution_count": 93,
   "metadata": {
    "scrolled": true
   },
   "outputs": [
    {
     "name": "stdout",
     "output_type": "stream",
     "text": [
      "Enter a number: 3\n",
      "Enter another number: 6\n",
      "3 + 6 = 9.0\n"
     ]
    }
   ],
   "source": [
    "input1 = input('Enter a number: ')\n",
    "input2 = input('Enter another number: ')\n",
    "\n",
    "print(input1,'+',input2,'=', float(input1) + float(input2))"
   ]
  },
  {
   "cell_type": "markdown",
   "metadata": {},
   "source": [
    "#### numerical type conversion `can not` take `'string words'` as arguments\n",
    "- str()\n",
    "- float()"
   ]
  },
  {
   "cell_type": "code",
   "execution_count": 24,
   "metadata": {},
   "outputs": [],
   "source": [
    "# int('string of words')\n",
    "\n",
    "# ValueError: invalid literal for int() with base 10: 's'"
   ]
  },
  {
   "cell_type": "code",
   "execution_count": 22,
   "metadata": {},
   "outputs": [],
   "source": [
    "# float('string of words')\n",
    "\n",
    "# ValueError: could not convert string to float: 'a'"
   ]
  },
  {
   "cell_type": "code",
   "execution_count": null,
   "metadata": {},
   "outputs": [],
   "source": []
  },
  {
   "cell_type": "code",
   "execution_count": null,
   "metadata": {},
   "outputs": [],
   "source": []
  },
  {
   "cell_type": "markdown",
   "metadata": {},
   "source": [
    "### Str conversion of Boolean defaults to str of [True] or [False]"
   ]
  },
  {
   "cell_type": "code",
   "execution_count": 121,
   "metadata": {},
   "outputs": [
    {
     "data": {
      "text/plain": [
       "'True'"
      ]
     },
     "execution_count": 121,
     "metadata": {},
     "output_type": "execute_result"
    }
   ],
   "source": [
    "str(True)"
   ]
  },
  {
   "cell_type": "code",
   "execution_count": 125,
   "metadata": {},
   "outputs": [
    {
     "data": {
      "text/plain": [
       "'False'"
      ]
     },
     "execution_count": 125,
     "metadata": {},
     "output_type": "execute_result"
    }
   ],
   "source": [
    "str(False)"
   ]
  },
  {
   "cell_type": "markdown",
   "metadata": {},
   "source": [
    "### `int` or `float` conversion of Boolean is [True - 1] [False - 0]"
   ]
  },
  {
   "cell_type": "code",
   "execution_count": 126,
   "metadata": {},
   "outputs": [
    {
     "data": {
      "text/plain": [
       "1"
      ]
     },
     "execution_count": 126,
     "metadata": {},
     "output_type": "execute_result"
    }
   ],
   "source": [
    "int(True)"
   ]
  },
  {
   "cell_type": "code",
   "execution_count": 127,
   "metadata": {},
   "outputs": [
    {
     "data": {
      "text/plain": [
       "0.0"
      ]
     },
     "execution_count": 127,
     "metadata": {},
     "output_type": "execute_result"
    }
   ],
   "source": [
    "float(False)"
   ]
  },
  {
   "cell_type": "markdown",
   "metadata": {},
   "source": [
    "## max() - function\n",
    "returns the largest in a sequence of values"
   ]
  },
  {
   "cell_type": "code",
   "execution_count": 131,
   "metadata": {},
   "outputs": [
    {
     "data": {
      "text/plain": [
       "'z'"
      ]
     },
     "execution_count": 131,
     "metadata": {},
     "output_type": "execute_result"
    }
   ],
   "source": [
    "max('Aa11zZ')"
   ]
  },
  {
   "cell_type": "markdown",
   "metadata": {},
   "source": [
    "## min() - function\n",
    "returns thesmallest in a sequence of values"
   ]
  },
  {
   "cell_type": "code",
   "execution_count": 132,
   "metadata": {},
   "outputs": [
    {
     "data": {
      "text/plain": [
       "'1'"
      ]
     },
     "execution_count": 132,
     "metadata": {},
     "output_type": "execute_result"
    }
   ],
   "source": [
    "min('Aa11zZ')"
   ]
  },
  {
   "cell_type": "markdown",
   "metadata": {},
   "source": [
    "### max() or min()\n",
    "- can work on `lists()`"
   ]
  },
  {
   "cell_type": "code",
   "execution_count": 135,
   "metadata": {},
   "outputs": [
    {
     "data": {
      "text/plain": [
       "'a'"
      ]
     },
     "execution_count": 135,
     "metadata": {},
     "output_type": "execute_result"
    }
   ],
   "source": [
    "listExample = ['A','a']\n",
    "\n",
    "max(listExample)"
   ]
  },
  {
   "cell_type": "code",
   "execution_count": 137,
   "metadata": {},
   "outputs": [
    {
     "data": {
      "text/plain": [
       "42"
      ]
     },
     "execution_count": 137,
     "metadata": {},
     "output_type": "execute_result"
    }
   ],
   "source": [
    "listExample = [1,4,3.14,42]\n",
    "\n",
    "max(listExample)"
   ]
  },
  {
   "cell_type": "code",
   "execution_count": 144,
   "metadata": {},
   "outputs": [
    {
     "data": {
      "text/plain": [
       "13133"
      ]
     },
     "execution_count": 144,
     "metadata": {},
     "output_type": "execute_result"
    }
   ],
   "source": [
    "listExample = [True,False,13133]\n",
    "\n",
    "max(listExample)"
   ]
  },
  {
   "cell_type": "markdown",
   "metadata": {},
   "source": [
    "### list() - must be\n",
    "- only numbers & booleans\n",
    "<br/>\n",
    "\n",
    "or\n",
    "<br/>\n",
    "- only 'string's"
   ]
  },
  {
   "cell_type": "code",
   "execution_count": 149,
   "metadata": {},
   "outputs": [],
   "source": [
    "listExample = [True,'1']\n",
    "# max(listExample)\n",
    "# TypeError: '>' not supported between instances of 'str' and 'int'\n",
    "\n",
    "\n",
    "listExample = [42,'1']\n",
    "# max(listExample)\n",
    "# TypeError: '>' not supported between instances of 'str' and 'bool'"
   ]
  },
  {
   "cell_type": "markdown",
   "metadata": {},
   "source": [
    "## len() - function\n",
    "returns the length of a sequence"
   ]
  },
  {
   "cell_type": "code",
   "execution_count": 151,
   "metadata": {},
   "outputs": [
    {
     "data": {
      "text/plain": [
       "15"
      ]
     },
     "execution_count": 151,
     "metadata": {},
     "output_type": "execute_result"
    }
   ],
   "source": [
    "len('string of words')"
   ]
  },
  {
   "cell_type": "code",
   "execution_count": 156,
   "metadata": {},
   "outputs": [
    {
     "data": {
      "text/plain": [
       "3"
      ]
     },
     "execution_count": 156,
     "metadata": {},
     "output_type": "execute_result"
    }
   ],
   "source": [
    "listExample = [1,2,42]\n",
    "\n",
    "len(listExample)"
   ]
  },
  {
   "cell_type": "markdown",
   "metadata": {},
   "source": [
    "# `module object` functions\n",
    "#### invoked by moduleObjectName\n",
    "\n",
    "contains\n",
    "- variables\n",
    "- functions"
   ]
  },
  {
   "cell_type": "markdown",
   "metadata": {},
   "source": [
    "## Dot notation\n",
    "To access functions or variables\n",
    "specify name of module [math] and use [ . ] before the name of function\n",
    "\n",
    "### moduleName.variable\n",
    "### moduleName.function()\n",
    "\n",
    "<br/>"
   ]
  },
  {
   "cell_type": "markdown",
   "metadata": {},
   "source": [
    "## math `module object`"
   ]
  },
  {
   "cell_type": "code",
   "execution_count": 128,
   "metadata": {},
   "outputs": [],
   "source": [
    "# Must import math functions\n",
    "\n",
    "import math"
   ]
  },
  {
   "cell_type": "code",
   "execution_count": 157,
   "metadata": {},
   "outputs": [
    {
     "name": "stdout",
     "output_type": "stream",
     "text": [
      "<module 'math' (built-in)>\n"
     ]
    }
   ],
   "source": [
    "# Creates a module object - named [math]\n",
    "# printing information about the object via the variable name as an argument\n",
    "\n",
    "print(math)"
   ]
  },
  {
   "cell_type": "markdown",
   "metadata": {},
   "source": [
    "## moduleName.variable"
   ]
  },
  {
   "cell_type": "code",
   "execution_count": 160,
   "metadata": {},
   "outputs": [
    {
     "data": {
      "text/plain": [
       "3.141592653589793"
      ]
     },
     "execution_count": 160,
     "metadata": {},
     "output_type": "execute_result"
    }
   ],
   "source": [
    "#Math - pi variable approximated to 15 digits\n",
    "\n",
    "math.pi"
   ]
  },
  {
   "cell_type": "code",
   "execution_count": 163,
   "metadata": {},
   "outputs": [
    {
     "data": {
      "text/plain": [
       "2.718281828459045"
      ]
     },
     "execution_count": 163,
     "metadata": {},
     "output_type": "execute_result"
    }
   ],
   "source": [
    "#Math - e variable approximated to 15 digits\n",
    "\n",
    "math.e"
   ]
  },
  {
   "cell_type": "markdown",
   "metadata": {},
   "source": [
    "## Math Functions"
   ]
  },
  {
   "cell_type": "markdown",
   "metadata": {},
   "source": [
    "## moduleName.function()"
   ]
  },
  {
   "cell_type": "code",
   "execution_count": 167,
   "metadata": {},
   "outputs": [
    {
     "name": "stdout",
     "output_type": "stream",
     "text": [
      "0.0\n",
      "1.0\n"
     ]
    }
   ],
   "source": [
    "#nameOfModule.function() - math.log() - log base e (ln - natural logarithm)\n",
    "\n",
    "print(math.log(1))\n",
    "\n",
    "print(math.log(math.e))"
   ]
  },
  {
   "cell_type": "code",
   "execution_count": 174,
   "metadata": {},
   "outputs": [
    {
     "name": "stdout",
     "output_type": "stream",
     "text": [
      "2.0\n"
     ]
    }
   ],
   "source": [
    "#nameOfModule.function() - math.log10() - logarithm base 10\n",
    "\n",
    "print(math.log10(100))"
   ]
  },
  {
   "cell_type": "markdown",
   "metadata": {},
   "source": [
    "### Trigonometric functions take `radians` as `arguments`"
   ]
  },
  {
   "cell_type": "code",
   "execution_count": 175,
   "metadata": {},
   "outputs": [
    {
     "data": {
      "text/plain": [
       "0.7853981633974483"
      ]
     },
     "execution_count": 175,
     "metadata": {},
     "output_type": "execute_result"
    }
   ],
   "source": [
    "#Convert Degrees to radians\n",
    "45 * (math.pi/180)"
   ]
  },
  {
   "cell_type": "code",
   "execution_count": 176,
   "metadata": {},
   "outputs": [
    {
     "data": {
      "text/plain": [
       "45.0"
      ]
     },
     "execution_count": 176,
     "metadata": {},
     "output_type": "execute_result"
    }
   ],
   "source": [
    "#Convert Radians to degrees\n",
    "0.7853981633974483 * (180/math.pi)"
   ]
  },
  {
   "cell_type": "code",
   "execution_count": 180,
   "metadata": {},
   "outputs": [
    {
     "data": {
      "text/plain": [
       "0.7071067811865476"
      ]
     },
     "execution_count": 180,
     "metadata": {},
     "output_type": "execute_result"
    }
   ],
   "source": [
    "degrees = 45\n",
    "radians = degrees * (math.pi/180)\n",
    "\n",
    "math.sin(radians)"
   ]
  },
  {
   "cell_type": "code",
   "execution_count": 181,
   "metadata": {},
   "outputs": [
    {
     "data": {
      "text/plain": [
       "0.7071067811865476"
      ]
     },
     "execution_count": 181,
     "metadata": {},
     "output_type": "execute_result"
    }
   ],
   "source": [
    "#Check sin function output of 45 degrees[0.78 radians]\n",
    "\n",
    "math.sqrt(2)/2        # radical-2 over 2"
   ]
  },
  {
   "cell_type": "markdown",
   "metadata": {},
   "source": [
    "## `random` numbers\n",
    "- Computers `proceed` through a `set of well-defined states`\n",
    "\n",
    "- Computers are `deterministic` - they generate the same outputs every time\n",
    "\n",
    "- `Same calculation` yields the `same result`\n",
    "\n",
    "<br/>\n",
    "\n",
    "`random number functions`\n",
    "- can yield `pseudorandom numbers`\n",
    "\n",
    "<br/>\n",
    "\n",
    "`pseudorandom numbers`\n",
    "- not truly random\n",
    "- generated by [deterministic computation]\n",
    "- all but impossible to distinguish them from random"
   ]
  },
  {
   "cell_type": "markdown",
   "metadata": {},
   "source": [
    "## random `module object`"
   ]
  },
  {
   "cell_type": "code",
   "execution_count": 182,
   "metadata": {},
   "outputs": [],
   "source": [
    "#must import random module\n",
    "import random"
   ]
  },
  {
   "cell_type": "code",
   "execution_count": 183,
   "metadata": {},
   "outputs": [
    {
     "name": "stdout",
     "output_type": "stream",
     "text": [
      "<module 'random' from 'C:\\\\Users\\\\Alex\\\\Anaconda3\\\\lib\\\\random.py'>\n"
     ]
    }
   ],
   "source": [
    "# Creates a module object - named [random]\n",
    "# printing information about the object via the variable name as an argument\n",
    "\n",
    "print(random)"
   ]
  },
  {
   "cell_type": "markdown",
   "metadata": {},
   "source": [
    "## random Functions"
   ]
  },
  {
   "cell_type": "markdown",
   "metadata": {},
   "source": [
    "## random.random()\n",
    "random `module`\n",
    "\n",
    "random `function`\n",
    "\n",
    "- generates random floats between 0.0 - 1.0\n",
    "- not including 1.0 - [0,1)"
   ]
  },
  {
   "cell_type": "code",
   "execution_count": 215,
   "metadata": {},
   "outputs": [
    {
     "data": {
      "text/plain": [
       "0.4567649214914309"
      ]
     },
     "execution_count": 215,
     "metadata": {},
     "output_type": "execute_result"
    }
   ],
   "source": [
    "random.random()"
   ]
  },
  {
   "cell_type": "markdown",
   "metadata": {},
   "source": [
    "### use cases"
   ]
  },
  {
   "cell_type": "code",
   "execution_count": 223,
   "metadata": {},
   "outputs": [
    {
     "name": "stdout",
     "output_type": "stream",
     "text": [
      "1 : 0.9962112587257496\n",
      "2 : 0.3847278278253884\n",
      "3 : 0.8818777500537387\n",
      "4 : 0.5949155461776405\n",
      "5 : 0.49431952718142647\n",
      "6 : 0.62137500140809\n",
      "7 : 0.8271155854651799\n",
      "8 : 0.3065836493612808\n",
      "9 : 0.09083138412969916\n",
      "10 : 0.4721268188415161\n"
     ]
    }
   ],
   "source": [
    "#For loop to print out random numbers\n",
    "##Fix base 10 place formatting **\n",
    "\n",
    "for i in range(10):\n",
    "    x = random.random()\n",
    "    print(i+1,':',x)"
   ]
  },
  {
   "cell_type": "code",
   "execution_count": 226,
   "metadata": {},
   "outputs": [
    {
     "data": {
      "text/plain": [
       "0"
      ]
     },
     "execution_count": 226,
     "metadata": {},
     "output_type": "execute_result"
    }
   ],
   "source": [
    "## [randint(low,high)] - takes parameters between low and high, includes both\n",
    "## [low,high)]\n",
    "\n",
    "random.randint(-45,45)"
   ]
  },
  {
   "cell_type": "code",
   "execution_count": 230,
   "metadata": {},
   "outputs": [
    {
     "data": {
      "text/plain": [
       "5"
      ]
     },
     "execution_count": 230,
     "metadata": {},
     "output_type": "execute_result"
    }
   ],
   "source": [
    "## [choice] -choose and element from a seqauence at random\n",
    "\n",
    "listOfNumbers = [1,3,5,7]\n",
    "\n",
    "random.choice(listOfNumbers)"
   ]
  },
  {
   "cell_type": "code",
   "execution_count": null,
   "metadata": {},
   "outputs": [],
   "source": []
  },
  {
   "cell_type": "code",
   "execution_count": null,
   "metadata": {},
   "outputs": [],
   "source": []
  },
  {
   "cell_type": "code",
   "execution_count": null,
   "metadata": {},
   "outputs": [],
   "source": []
  },
  {
   "cell_type": "code",
   "execution_count": 8,
   "metadata": {},
   "outputs": [],
   "source": [
    "####\n",
    "#built-in function names should not be used as variable names\n",
    "\n",
    "#**Don't work with similar functions\n",
    "#max = '11'\n",
    "#max(max)\n",
    "\n",
    "# TypeError: 'str' object is not callable\n",
    "\n",
    "# max(inputArgument) - will work if - variable with name [max] is not created"
   ]
  },
  {
   "cell_type": "code",
   "execution_count": 9,
   "metadata": {},
   "outputs": [
    {
     "name": "stdout",
     "output_type": "stream",
     "text": [
      "<function bigNumber at 0x00000225B2E88D90>\n",
      "8\n",
      "8\n"
     ]
    }
   ],
   "source": [
    "####\n",
    "#user-defined function names should not be used as variable names\n",
    "\n",
    "def bigNumber(input):\n",
    "    return input*2\n",
    "\n",
    "print(bigNumber)         #Returns value of function rather than [bigNumber] variable defined in first line\n",
    "print(bigNumber(4))\n",
    "\n",
    "\n",
    "bigNumberDifferent = 4   #Will return number stored in variable because variable name is unique\n",
    "print(bigNumber(bigNumberDifferent))\n",
    "\n",
    "\n",
    "bigNumber = 4            #Will not print because variable name has been used as function name\n",
    "#print(bigNumber(bigNumber))\n",
    "\n",
    "# TypeError: 'int' object is not callable"
   ]
  },
  {
   "cell_type": "code",
   "execution_count": null,
   "metadata": {},
   "outputs": [],
   "source": []
  },
  {
   "cell_type": "code",
   "execution_count": null,
   "metadata": {},
   "outputs": [],
   "source": []
  },
  {
   "cell_type": "markdown",
   "metadata": {},
   "source": [
    "### `module object` functions\n",
    "#### moduleObject.method()\n",
    "Dot notationd"
   ]
  },
  {
   "cell_type": "code",
   "execution_count": null,
   "metadata": {},
   "outputs": [],
   "source": []
  },
  {
   "cell_type": "code",
   "execution_count": null,
   "metadata": {},
   "outputs": [],
   "source": []
  },
  {
   "cell_type": "code",
   "execution_count": 22,
   "metadata": {},
   "outputs": [
    {
     "name": "stdout",
     "output_type": "stream",
     "text": [
      "Enter an integer: 2\n",
      "Enter an integer: 3\n",
      "6\n"
     ]
    }
   ],
   "source": [
    "####\n",
    "\n",
    "# [ ] create and test multiply() function\n",
    "\n",
    "def getInt():\n",
    "    return input('Enter an integer: ')\n",
    "\n",
    "def multiply(input1,input2):\n",
    "    return str(int(input1)*int(input2))\n",
    "\n",
    "print(multiply(getInt(),getInt()))"
   ]
  },
  {
   "cell_type": "code",
   "execution_count": null,
   "metadata": {},
   "outputs": [],
   "source": [
    "####\n",
    "\n",
    "### or\n",
    "\n",
    "#def multiply(input1=input('Enter an integer: '),input2=input('Enter an integer: ')):\n",
    "#    return str(int(input1)*int(input2))\n",
    "\n",
    "### or \n",
    "\n",
    "def multiply(input1,input2):\n",
    "    return str(int(input1)*int(input2))\n",
    "\n",
    "print(multiply(input('Enter an integer: '),input('Enter an integer: ')))"
   ]
  },
  {
   "cell_type": "code",
   "execution_count": null,
   "metadata": {},
   "outputs": [],
   "source": [
    "####\n",
    "# [ ] create improved multiply() function and test with /, no argument, and an invalid operator ($)\n",
    "\n",
    "def getParam():\n",
    "    return input('Enter an integer: ')\n",
    "\n",
    "def getOperator():\n",
    "    return input('[*,/]: ')\n",
    "\n",
    "def multiplyDivide(input1,input2,input3):\n",
    "        \n",
    "    if input3 == '*':\n",
    "        return str(int(input1)*int(input2))\n",
    "    \n",
    "    elif input3 == '/':\n",
    "        return str(int(input1)/int(input2))\n",
    "    \n",
    "    else:\n",
    "        print('Invalid Operator')\n",
    "\n",
    "print(multiplyDivide(getParam(),getParam(),getOperator()))"
   ]
  }
 ],
 "metadata": {
  "kernelspec": {
   "display_name": "Python 3",
   "language": "python",
   "name": "python3"
  },
  "language_info": {
   "codemirror_mode": {
    "name": "ipython",
    "version": 3
   },
   "file_extension": ".py",
   "mimetype": "text/x-python",
   "name": "python",
   "nbconvert_exporter": "python",
   "pygments_lexer": "ipython3",
   "version": "3.7.0"
  }
 },
 "nbformat": 4,
 "nbformat_minor": 2
}
