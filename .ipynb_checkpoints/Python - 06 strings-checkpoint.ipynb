{
 "cells": [
  {
   "cell_type": "markdown",
   "metadata": {},
   "source": [
    "# `Python`\n",
    "## String manipulation\n",
    " \n",
    " <img src=\"pythonLogo.png\" height=\"20%\" width=\"20%\"/>"
   ]
  },
  {
   "cell_type": "markdown",
   "metadata": {},
   "source": [
    "## `'strings'`\n",
    "`sequence` of 1 or more characters\n",
    "\n",
    "- see 00 primitive constructs, syntax, logic, semantics"
   ]
  },
  {
   "cell_type": "markdown",
   "metadata": {},
   "source": [
    "#### enclosed in `' '` or `\" \"`\n",
    "\n",
    "- ' '\n",
    "- \" \"\n",
    "\n",
    "##### pair must match"
   ]
  },
  {
   "cell_type": "code",
   "execution_count": 1,
   "metadata": {},
   "outputs": [],
   "source": [
    "# string ' ' or \" \" must match\n",
    "# 'string\"   # SyntaxError: EOL while scanning string literal"
   ]
  },
  {
   "cell_type": "code",
   "execution_count": 1,
   "metadata": {},
   "outputs": [
    {
     "data": {
      "text/plain": [
       "'a'"
      ]
     },
     "execution_count": 1,
     "metadata": {},
     "output_type": "execute_result"
    }
   ],
   "source": [
    "'a'                                             # a 'string' character"
   ]
  },
  {
   "cell_type": "code",
   "execution_count": 5,
   "metadata": {},
   "outputs": [
    {
     "name": "stdout",
     "output_type": "stream",
     "text": [
      "word\n"
     ]
    }
   ],
   "source": [
    "wordVariable = 'word'                           # a 'string' word\n",
    "\n",
    "print(wordVariable)"
   ]
  },
  {
   "cell_type": "code",
   "execution_count": 1,
   "metadata": {},
   "outputs": [
    {
     "name": "stdout",
     "output_type": "stream",
     "text": [
      "sequence of characters\n"
     ]
    }
   ],
   "source": [
    "sentenceVariable = 'sequence of characters'     # a 'string' sentence\n",
    "\n",
    "print(sentenceVariable)"
   ]
  },
  {
   "cell_type": "code",
   "execution_count": 8,
   "metadata": {},
   "outputs": [
    {
     "data": {
      "text/plain": [
       "'42'"
      ]
     },
     "execution_count": 8,
     "metadata": {},
     "output_type": "execute_result"
    }
   ],
   "source": [
    "'42'                                            # a 'string' number"
   ]
  },
  {
   "cell_type": "code",
   "execution_count": 7,
   "metadata": {},
   "outputs": [
    {
     "data": {
      "text/plain": [
       "'R2D2'"
      ]
     },
     "execution_count": 7,
     "metadata": {},
     "output_type": "execute_result"
    }
   ],
   "source": [
    "'R2D2'                                          # a 'string' alphanumeric combination"
   ]
  },
  {
   "cell_type": "code",
   "execution_count": 2,
   "metadata": {},
   "outputs": [
    {
     "name": "stdout",
     "output_type": "stream",
     "text": [
      "<class 'str'>\n"
     ]
    }
   ],
   "source": [
    "print(type('R2D2'))"
   ]
  },
  {
   "cell_type": "code",
   "execution_count": 11,
   "metadata": {},
   "outputs": [
    {
     "name": "stdout",
     "output_type": "stream",
     "text": [
      "<class 'str'>\n"
     ]
    }
   ],
   "source": [
    "print(type(sequenceVariable))"
   ]
  },
  {
   "cell_type": "code",
   "execution_count": 4,
   "metadata": {},
   "outputs": [
    {
     "name": "stdout",
     "output_type": "stream",
     "text": [
      "<class 'str'>\n"
     ]
    }
   ],
   "source": [
    "typeOfString = type('42')\n",
    "\n",
    "print(typeOfString)"
   ]
  },
  {
   "cell_type": "markdown",
   "metadata": {},
   "source": [
    "# `'string' formatting`"
   ]
  },
  {
   "cell_type": "markdown",
   "metadata": {},
   "source": [
    "## ' \"  ' <br/>\n",
    "## \" ' \"\n",
    "\n",
    "### mixing ' \"  ' or \" ' \""
   ]
  },
  {
   "cell_type": "code",
   "execution_count": 61,
   "metadata": {
    "scrolled": true
   },
   "outputs": [
    {
     "data": {
      "text/plain": [
       "\"Alex's shoes\""
      ]
     },
     "execution_count": 61,
     "metadata": {},
     "output_type": "execute_result"
    }
   ],
   "source": [
    "\"Alex's shoes\""
   ]
  },
  {
   "cell_type": "code",
   "execution_count": 64,
   "metadata": {},
   "outputs": [
    {
     "data": {
      "text/plain": [
       "'Alex is a... \"cool\" guy'"
      ]
     },
     "execution_count": 64,
     "metadata": {},
     "output_type": "execute_result"
    }
   ],
   "source": [
    "'Alex is a... \"cool\" guy'"
   ]
  },
  {
   "cell_type": "markdown",
   "metadata": {},
   "source": [
    "## `escape sequences`\n",
    "- allow symbols to be used that are otherwise considered part of syntax\n",
    "- allows to print() formatting tabs and newline"
   ]
  },
  {
   "cell_type": "markdown",
   "metadata": {},
   "source": [
    "### \\ '\n",
    "\n",
    "### \\ \"\n",
    "\n",
    "### \\ \\\n",
    "\n",
    "### \\ t\n",
    "\n",
    "### \\ n"
   ]
  },
  {
   "cell_type": "markdown",
   "metadata": {},
   "source": [
    "#### \\ '\n",
    "#### \\ \""
   ]
  },
  {
   "cell_type": "code",
   "execution_count": 10,
   "metadata": {},
   "outputs": [
    {
     "name": "stdout",
     "output_type": "stream",
     "text": [
      "Alex's shoes are \"cool\"\n"
     ]
    }
   ],
   "source": [
    "#Escape sequences to use multiple ' ' or \" \" in strings\n",
    "# \\'\n",
    "# \\\"\n",
    "\n",
    "print('Alex\\'s shoes are \"cool\"')"
   ]
  },
  {
   "cell_type": "markdown",
   "metadata": {},
   "source": [
    "#### \\ \\"
   ]
  },
  {
   "cell_type": "code",
   "execution_count": 11,
   "metadata": {},
   "outputs": [
    {
     "name": "stdout",
     "output_type": "stream",
     "text": [
      "C:\\users\\userName\\desktop\\textFile.txt\n"
     ]
    }
   ],
   "source": [
    "#Escape sequences to use \\ in strings\n",
    "# \\\n",
    "\n",
    "print('C:\\\\users\\\\userName\\\\desktop\\\\textFile.txt')"
   ]
  },
  {
   "cell_type": "markdown",
   "metadata": {},
   "source": [
    "#### \\ t"
   ]
  },
  {
   "cell_type": "code",
   "execution_count": 27,
   "metadata": {},
   "outputs": [
    {
     "name": "stdout",
     "output_type": "stream",
     "text": [
      "\tAlex's shoes are... \t\"cool\"\n"
     ]
    }
   ],
   "source": [
    "#Escape sequences to create tab print() formatting\n",
    "# \\t\n",
    "\n",
    "print('\\tAlex\\'s shoes are... \\t\\\"cool\\\"')"
   ]
  },
  {
   "cell_type": "markdown",
   "metadata": {},
   "source": [
    "#### \\ n"
   ]
  },
  {
   "cell_type": "code",
   "execution_count": 14,
   "metadata": {},
   "outputs": [
    {
     "name": "stdout",
     "output_type": "stream",
     "text": [
      "Alex's\n",
      "shoes\n",
      "are\n",
      "\"cool\"\n"
     ]
    }
   ],
   "source": [
    "#Escape sequences to create newline print() formatting\n",
    "# \\n\n",
    "\n",
    "print('Alex\\'s\\nshoes\\nare\\n\\\"cool\\\"')"
   ]
  },
  {
   "cell_type": "code",
   "execution_count": 27,
   "metadata": {},
   "outputs": [
    {
     "name": "stdout",
     "output_type": "stream",
     "text": [
      "Alex's \n",
      " shoes \n",
      "  \tare \n",
      "\t     \"cool\"\n"
     ]
    }
   ],
   "source": [
    "print('Alex\\'s \\n shoes \\n  \\tare \\n\\t     \\\"cool\\\"')   # space ' '  before tab does not affect spaces\n",
    "                                                        # space ' ' after \\t affects spaces"
   ]
  },
  {
   "cell_type": "code",
   "execution_count": 24,
   "metadata": {},
   "outputs": [
    {
     "name": "stdout",
     "output_type": "stream",
     "text": [
      "Alex likes  \tcheese\n",
      "Alex likes  \tcheese\n",
      "Alex likes  \tcheese\n",
      "Alex likes\t    cheese\n"
     ]
    }
   ],
   "source": [
    "############\n",
    "print('Alex likes  ' + '\\t'  +  'cheese') # (two spaces after 'Alex likes  ') get ignored until after \\t [tab]\n",
    "print('Alex likes' + '  \\t'  +  'cheese') # (two spaces before tab) get ignored until after \\t [tab]\n",
    "print('Alex likes' + '  \\t'  +  'cheese') # (two spaces after tab)\n",
    "print('Alex likes' + '\\t  '  +  '  cheese') # (two spaces before 'cheese')"
   ]
  },
  {
   "cell_type": "markdown",
   "metadata": {},
   "source": [
    "## `index bracket operator` [ ]"
   ]
  },
  {
   "cell_type": "markdown",
   "metadata": {},
   "source": [
    "## [INDEX]"
   ]
  },
  {
   "cell_type": "code",
   "execution_count": 41,
   "metadata": {},
   "outputs": [
    {
     "name": "stdout",
     "output_type": "stream",
     "text": [
      "s\n",
      "s\n"
     ]
    }
   ],
   "source": [
    "# a'string' is a [sequence] of characters 's' 't' 'r' 'i' 'n' 'g'\n",
    "# with [index] to represent indices        0   1   2   3   4   5\n",
    "\n",
    "#Access a character by using [] bracket operator with [index]\n",
    "#Character 1--> in sequence is index 0 --> \n",
    "\n",
    "\n",
    "character = 'string'[0]\n",
    "\n",
    "print(character)\n",
    "\n",
    "\n",
    "print('string'[0])"
   ]
  },
  {
   "cell_type": "code",
   "execution_count": 73,
   "metadata": {},
   "outputs": [
    {
     "name": "stdout",
     "output_type": "stream",
     "text": [
      "s\n",
      "t\n",
      "r\n",
      "i\n",
      "n\n",
      "g\n",
      "\n",
      "s\n",
      "t\n",
      "r\n",
      "i\n",
      "n\n",
      "g\n"
     ]
    }
   ],
   "source": [
    "# A 'string' is a [sequence] of characters 's' 't' 'r' 'i' 'n' 'g'\n",
    "\n",
    "# Access a character by using [] bracket operator with [index]\n",
    "# Character 1--> in index sequence 0 --> \n",
    "\n",
    "\n",
    "stringExample = 'string'\n",
    "\n",
    "print(stringExample[0])\n",
    "print(stringExample[1])\n",
    "print(stringExample[2])\n",
    "print(stringExample[3])\n",
    "print(stringExample[4])\n",
    "print(stringExample[5])\n",
    "\n",
    "print()\n",
    "\n",
    "firstCharacter  = stringExample[0]\n",
    "secondCharacter = stringExample[1]\n",
    "thirdCharacter  = stringExample[2]\n",
    "fourthCharacter = stringExample[3]\n",
    "fifthCharacter  = stringExample[4]\n",
    "sixthCharacter  = stringExample[5]\n",
    "\n",
    "print(firstCharacter)\n",
    "print(secondCharacter)\n",
    "print(thirdCharacter)\n",
    "print(fourthCharacter)\n",
    "print(fifthCharacter)\n",
    "print(sixthCharacter)\n",
    "\n",
    "#print(stringExample[6]) #Attempting to access an index passed any that exist - IndexError: string index out of range"
   ]
  },
  {
   "cell_type": "code",
   "execution_count": 6,
   "metadata": {},
   "outputs": [
    {
     "name": "stdout",
     "output_type": "stream",
     "text": [
      "Name: Alexander\n",
      "\n",
      "Index: 0 Character 1: A\n",
      "Index: 1 Character 2: l\n",
      "Index: 2 Character 3: e\n",
      "Index: 3 Character 4: x\n",
      "Index: 4 Character 5: a\n",
      "Index: 5 Character 6: n\n",
      "Index: 6 Character 7: d\n",
      "Index: 7 Character 8: e\n",
      "Index: 8 Character 9: r\n",
      "\n",
      "4th index, 5th character: a\n",
      "5th character, 4th index: a\n"
     ]
    }
   ],
   "source": [
    "#####Understanding difference between index & character\n",
    "\n",
    "name = 'Alexander'\n",
    "print('Name:',name)\n",
    "print()\n",
    "\n",
    "\n",
    "count = 0\n",
    "for letter in name:\n",
    "    print('Index:',count,'Character ' + str(count+1)+ ':',letter)\n",
    "    count+=1\n",
    "\n",
    "print()\n",
    "\n",
    "\n",
    "print('4th index, 5th character:',name[4])    # to find index - from character: [character - 1]\n",
    "                                              #character = [index + 1]\n",
    "\n",
    "print('5th character, 4th index:',name[4])    # to find character - from index: [index + 1]\n",
    "                                              #index = [character - 1]"
   ]
  },
  {
   "cell_type": "markdown",
   "metadata": {},
   "source": [
    "## `'string' [index]` CAN NOT access an `index passed any that exist`\n",
    "`IndexError: string index out of range`"
   ]
  },
  {
   "cell_type": "code",
   "execution_count": null,
   "metadata": {},
   "outputs": [],
   "source": [
    "stringExample = 'string' # indices: 0-5 -> anything passed is out of range\n",
    "\n",
    "#print('string'[6]) #Attempting to access an index passed any that exist - IndexError: string index out of range"
   ]
  },
  {
   "cell_type": "markdown",
   "metadata": {},
   "source": [
    "## `'string' [index]` can be `expressions` \n",
    "operands (variables and literals)\n",
    "<br/> & \n",
    "<br/> operators"
   ]
  },
  {
   "cell_type": "markdown",
   "metadata": {},
   "source": [
    "## `'string' [index]` MUST BE an `integer`"
   ]
  },
  {
   "cell_type": "code",
   "execution_count": 43,
   "metadata": {},
   "outputs": [
    {
     "name": "stdout",
     "output_type": "stream",
     "text": [
      "b\n",
      "l\n",
      "u\n",
      "e\n",
      "b\n",
      "e\n"
     ]
    }
   ],
   "source": [
    "# Index can be expressions (operands[variables and literals] & operators)\n",
    "# Index must be an integer\n",
    "\n",
    "word = 'blueberry'\n",
    "\n",
    "print(word[0])\n",
    "print(word[0+1])\n",
    "\n",
    "firstIndex = 0\n",
    "print(word[firstIndex + 2])\n",
    "\n",
    "print(word[int(6/2)])           # 'string' [index] must be an integer\n",
    "\n",
    "print(word[2*2])\n",
    "\n",
    "print(word[(5**0)*5])\n",
    "\n",
    "\n",
    "#word[6.0]                      # TypeError: string indices must be integers\n",
    "#word['seven']                  # TypeError: string indices must be integers"
   ]
  },
  {
   "cell_type": "markdown",
   "metadata": {},
   "source": [
    "## `reverse index access`"
   ]
  },
  {
   "cell_type": "code",
   "execution_count": 1,
   "metadata": {},
   "outputs": [],
   "source": [
    "#Understanding difference between [foward index] & [reverse index]\n",
    "\n",
    "#Foward index is N-1 index [N = number of characters]\n",
    "# [0] --> [N-1]\n",
    "\n",
    "#Reverse indes is N index [N = number of characters]\n",
    "# [N] <-- [-1]\n",
    "\n",
    "myName = 'Alex'\n",
    "#Number of Characters:   4\n",
    "#Index: [0] --> [3]       \n",
    "# [N-1] --> [4-1] = [3]\n",
    "\n",
    "#Foward index:   0,  1,  2,  3\n",
    "#Reverse index: -1, -2, -3, -4"
   ]
  },
  {
   "cell_type": "code",
   "execution_count": 5,
   "metadata": {},
   "outputs": [
    {
     "name": "stdout",
     "output_type": "stream",
     "text": [
      "x e l A\n"
     ]
    }
   ],
   "source": [
    "print(myName[-1], myName[-2], myName[-3], myName[-4])"
   ]
  },
  {
   "cell_type": "code",
   "execution_count": 6,
   "metadata": {},
   "outputs": [
    {
     "name": "stdout",
     "output_type": "stream",
     "text": [
      "x\n",
      "e\n",
      "l\n",
      "A\n"
     ]
    }
   ],
   "source": [
    "print(myName[-1])\n",
    "print(myName[-2])\n",
    "print(myName[-3])\n",
    "print(myName[-4])"
   ]
  },
  {
   "cell_type": "code",
   "execution_count": 12,
   "metadata": {},
   "outputs": [
    {
     "name": "stdout",
     "output_type": "stream",
     "text": [
      "Last letter of Alexander is  'r'\n"
     ]
    }
   ],
   "source": [
    "#############\n",
    "\n",
    "studentName = 'Alexander'\n",
    "studentNameLastLetter = studentName[-1]\n",
    "\n",
    "print('Last letter of',studentName,'is ', '\\'' + studentNameLastLetter + '\\'')"
   ]
  },
  {
   "cell_type": "code",
   "execution_count": 9,
   "metadata": {},
   "outputs": [
    {
     "name": "stdout",
     "output_type": "stream",
     "text": [
      "Alexander's second to last letter is 'e'\n"
     ]
    }
   ],
   "source": [
    "####\n",
    "studentName = 'Alexander'\n",
    "\n",
    "print(studentName + \"'s\" + ' second to last letter is','\\'' + studentName[-2] + '\\'')"
   ]
  },
  {
   "cell_type": "code",
   "execution_count": 10,
   "metadata": {},
   "outputs": [
    {
     "name": "stdout",
     "output_type": "stream",
     "text": [
      "For Alexander\n",
      "Index  0: A\n",
      "Index -9: A\n",
      "\n",
      "Index  8: r\n",
      "Index -1: r\n"
     ]
    }
   ],
   "source": [
    "print('For',studentName)\n",
    "\n",
    "print('Index  0:',studentName[0])\n",
    "print('Index -9:',studentName[-9])\n",
    "print()\n",
    "\n",
    "print('Index  8:',studentName[8])\n",
    "print('Index -1:',studentName[-1])"
   ]
  },
  {
   "cell_type": "markdown",
   "metadata": {},
   "source": [
    "## `len()` - length function\n",
    "\n",
    "`len()` returns the number of characters\n",
    "\n",
    "returns an `int` value\n",
    "\n",
    "not the final index"
   ]
  },
  {
   "cell_type": "code",
   "execution_count": 78,
   "metadata": {},
   "outputs": [
    {
     "name": "stdout",
     "output_type": "stream",
     "text": [
      "12\n"
     ]
    }
   ],
   "source": [
    "stringExample = 'onomatopoeia'\n",
    "\n",
    "lengthStringExample = len(stringExample)\n",
    "\n",
    "print(lengthStringExample)"
   ]
  },
  {
   "cell_type": "code",
   "execution_count": 33,
   "metadata": {},
   "outputs": [
    {
     "data": {
      "text/plain": [
       "12"
      ]
     },
     "execution_count": 33,
     "metadata": {},
     "output_type": "execute_result"
    }
   ],
   "source": [
    "len('onomatopoeia')"
   ]
  },
  {
   "cell_type": "code",
   "execution_count": 49,
   "metadata": {},
   "outputs": [
    {
     "name": "stdout",
     "output_type": "stream",
     "text": [
      "e\n"
     ]
    }
   ],
   "source": [
    "# len() returns the number of characters as an int\n",
    "# returns an `int` value\n",
    "# not the final index\n",
    "\n",
    "# final index is (numbers of characters -1)\n",
    "\n",
    "# characters    'o' 'n' 'e'\n",
    "#                1   2   3\n",
    "#                            length: 3\n",
    "\n",
    "# index         'o' 'n' 'e'\n",
    "#                0   1   2\n",
    "#                            final index: 2 (length-1)\n",
    "\n",
    "# reverse index 'o' 'n' 'e'\n",
    "#                -3   -2   -1\n",
    "#                            final index: -1\n",
    "#                            first index: -(amount of characters)\n",
    "\n",
    "stringExample = 'one'\n",
    "lengthString = len(stringExample)\n",
    "\n",
    "#print(stringExample[lengthString])  #results in error because length - is number of characters - not final index (numb char - 1)\n",
    "\n",
    "print(stringExample[lengthString-1]) # select the [index] of final character (length -1)"
   ]
  },
  {
   "cell_type": "markdown",
   "metadata": {},
   "source": [
    "### `len()` - out of range - CAN NOT be used to access 'string'[index] `individual index`"
   ]
  },
  {
   "cell_type": "code",
   "execution_count": 14,
   "metadata": {
    "scrolled": true
   },
   "outputs": [
    {
     "name": "stdout",
     "output_type": "stream",
     "text": [
      "string length: 12\n",
      "a\n",
      "a\n"
     ]
    }
   ],
   "source": [
    "#End of index [-1]\n",
    "\n",
    "# -1 can also be used to access the end of index - counting downwards towards the first character\n",
    "\n",
    "stringExample = 'onomatopoeia'\n",
    "\n",
    "lengthStringExample = len(stringExample)\n",
    "print('string length:',lengthStringExample)                                   #stringExample len() --> 12\n",
    "\n",
    "#print(stringExample[-13])                                   #IndexError: string index out of range"
   ]
  },
  {
   "cell_type": "markdown",
   "metadata": {},
   "source": [
    "### `len()` -1 represents final character"
   ]
  },
  {
   "cell_type": "code",
   "execution_count": null,
   "metadata": {},
   "outputs": [],
   "source": [
    "stringExample = 'onomatopoeia'\n",
    "\n",
    "print(stringExample[-1])                                     # [-1] accesses the final character\n",
    "\n",
    "print(stringExample[lengthStringExample-1])                  # select the [index] of final character [length -1]"
   ]
  },
  {
   "cell_type": "markdown",
   "metadata": {},
   "source": [
    "### `len()` multiplied by -1 represents first character"
   ]
  },
  {
   "cell_type": "code",
   "execution_count": 15,
   "metadata": {},
   "outputs": [
    {
     "name": "stdout",
     "output_type": "stream",
     "text": [
      "o\n",
      "o\n"
     ]
    }
   ],
   "source": [
    "stringExample = 'onomatopoeia'\n",
    "\n",
    "print(stringExample[-1*lengthStringExample])                 # -1 * lengthStringExample --> -12 the first index counted backwards\n",
    "print(stringExample[-1*len(stringExample)])"
   ]
  },
  {
   "cell_type": "markdown",
   "metadata": {},
   "source": [
    "### `len()` - CAN be used to access 'string'[index:index] `slice`"
   ]
  },
  {
   "cell_type": "code",
   "execution_count": 61,
   "metadata": {},
   "outputs": [
    {
     "name": "stdout",
     "output_type": "stream",
     "text": [
      "onomatopoeia\n",
      "onomatopoeia\n"
     ]
    }
   ],
   "source": [
    "# CAN use the length() to access an index slice\n",
    "\n",
    "print(stringExample[ : lengthStringExample])\n",
    "\n",
    "print(stringExample[-1*lengthStringExample: lengthStringExample])"
   ]
  },
  {
   "cell_type": "markdown",
   "metadata": {},
   "source": [
    "# String `slices` or `substrings`\n",
    "#### a segment of a string"
   ]
  },
  {
   "cell_type": "markdown",
   "metadata": {},
   "source": [
    "### [START : STOP]"
   ]
  },
  {
   "cell_type": "code",
   "execution_count": 65,
   "metadata": {},
   "outputs": [
    {
     "name": "stdout",
     "output_type": "stream",
     "text": [
      "characters: 13\n",
      "indexes: 12\n",
      "\n",
      "Optimus\n",
      "Prime\n"
     ]
    }
   ],
   "source": [
    "# Each slice can be acceces by specifying\n",
    "# beggining index --> end index (excluding end index)\n",
    "# including the first - excluding the last\n",
    "#                     end index == end character (since character is index -1) \n",
    "#                                  7th character is 6th index (if ending at 7th index - 6th index (7th character) is included)\n",
    "\n",
    "\n",
    "nameAutobot = 'Optimus Prime'\n",
    "print('characters:',len(nameAutobot))\n",
    "print('indexes:',len(nameAutobot)-1)\n",
    "print()\n",
    "\n",
    "\n",
    "firstName = nameAutobot[0:7]    # ends at [7] -->' ' (not included)\n",
    "print(firstName)\n",
    "                                # begin at [8] to skip ' ' space between words\n",
    "lastName = nameAutobot[8:13]    # nameAutobot[8:13] 13++ --> #can select out of index for end - and will still pring to end\n",
    "print(lastName)                   \n",
    "\n",
    "#lastName = nameAutobot[7:13]   #' ' space included\n",
    "#print(lastName)"
   ]
  },
  {
   "cell_type": "code",
   "execution_count": 17,
   "metadata": {},
   "outputs": [
    {
     "name": "stdout",
     "output_type": "stream",
     "text": [
      "matopoei\n",
      "\n",
      "matopoei\n"
     ]
    }
   ],
   "source": [
    "#######\n",
    "\n",
    "wordToSlice = \"onomatopoeia\"\n",
    "\n",
    "print(wordToSlice[3:11])\n",
    "print()\n",
    "\n",
    "print(wordToSlice[-9:-1])"
   ]
  },
  {
   "cell_type": "markdown",
   "metadata": {},
   "source": [
    "### [ : STOP]\n",
    "If the first index is omitted - slice starts from beggining of string"
   ]
  },
  {
   "cell_type": "code",
   "execution_count": 66,
   "metadata": {},
   "outputs": [
    {
     "name": "stdout",
     "output_type": "stream",
     "text": [
      "Mega\n"
     ]
    }
   ],
   "source": [
    "# If the first index is omitted - slice starts from beggining of string\n",
    "\n",
    "\n",
    "nameDecepticon = 'Megatron'\n",
    "\n",
    "firstName = nameDecepticon[:4]\n",
    "print(firstName)"
   ]
  },
  {
   "cell_type": "markdown",
   "metadata": {},
   "source": [
    "### [START : ]\n",
    "If second index is omitted - slice ends at end of string"
   ]
  },
  {
   "cell_type": "code",
   "execution_count": 67,
   "metadata": {},
   "outputs": [
    {
     "name": "stdout",
     "output_type": "stream",
     "text": [
      "tron\n"
     ]
    }
   ],
   "source": [
    "# If second index is omitted - slice ends at end of string\n",
    "\n",
    "\n",
    "nameDecepticon = 'Megatron'\n",
    "\n",
    "firstName = nameDecepticon[4:]\n",
    "print(firstName)"
   ]
  },
  {
   "cell_type": "code",
   "execution_count": 71,
   "metadata": {},
   "outputs": [
    {
     "name": "stdout",
     "output_type": "stream",
     "text": [
      "Megatron\n"
     ]
    }
   ],
   "source": [
    "nameDecepticon = 'Megatron'\n",
    "\n",
    "part1 = nameDecepticon[:4]\n",
    "part2 = nameDecepticon[4:]\n",
    "print(part1 + part2)"
   ]
  },
  {
   "cell_type": "markdown",
   "metadata": {},
   "source": [
    "### [START : STOP : SKIP]\n",
    "`SKIP` - `adds characters` to `substring`\n",
    "counts after `START` character"
   ]
  },
  {
   "cell_type": "code",
   "execution_count": 4,
   "metadata": {},
   "outputs": [
    {
     "name": "stdout",
     "output_type": "stream",
     "text": [
      "Aeadr\n"
     ]
    }
   ],
   "source": [
    "studentName = 'Alexander'\n",
    "\n",
    "print(studentName[::2])"
   ]
  },
  {
   "cell_type": "code",
   "execution_count": 5,
   "metadata": {},
   "outputs": [
    {
     "name": "stdout",
     "output_type": "stream",
     "text": [
      "02222\n"
     ]
    }
   ],
   "source": [
    "####\n",
    "\n",
    "studentName = '012121212'\n",
    "\n",
    "print(studentName[::2])"
   ]
  },
  {
   "cell_type": "code",
   "execution_count": null,
   "metadata": {},
   "outputs": [],
   "source": [
    "####\n",
    "\n",
    "studentName = 'Alexander'\n",
    "\n",
    "print(studentName[1::3])"
   ]
  },
  {
   "cell_type": "code",
   "execution_count": 6,
   "metadata": {},
   "outputs": [
    {
     "name": "stdout",
     "output_type": "stream",
     "text": [
      "lxne\n"
     ]
    }
   ],
   "source": [
    "####\n",
    "\n",
    "studentName = 'Alexander'\n",
    "\n",
    "print(studentName[1:8:2])"
   ]
  },
  {
   "cell_type": "markdown",
   "metadata": {},
   "source": [
    "# `slice` \\*trick*\n",
    "### `ending [:index]` selected => `actual count of characters returned` in sequence\n",
    "\n",
    "- returns `slice` of 'string'[:index] - index == desired character count"
   ]
  },
  {
   "cell_type": "code",
   "execution_count": 1,
   "metadata": {},
   "outputs": [
    {
     "name": "stdout",
     "output_type": "stream",
     "text": [
      "Alexander\n"
     ]
    }
   ],
   "source": [
    "#######\n",
    "\n",
    "studentName = 'Alexander'\n",
    "\n",
    "print(studentName[:9])"
   ]
  },
  {
   "cell_type": "code",
   "execution_count": 11,
   "metadata": {},
   "outputs": [
    {
     "name": "stdout",
     "output_type": "stream",
     "text": [
      "matopoe\n",
      "\n",
      "'matopoe' \n",
      "is the 4th character: m \n",
      "through the 10th character: e\n",
      "\n",
      "'matopoe' \n",
      "is the 3rd index: m \n",
      "through the 9th index:  e\n"
     ]
    }
   ],
   "source": [
    "############ 3rd index to 9th index (10th index not included)\n",
    "############ [index count +1 => 4th character ] - [index 9 count+1 => 10th character (10th index => 11th character - unincluded)]\n",
    "# 'string'[start:stop] stop index = actual character count\n",
    "\n",
    "longWord = 'onomatopoeia'\n",
    "\n",
    "print(longWord[3:10])\n",
    "print()\n",
    "\n",
    "print(\"'\" + longWord[3:10] + \"'\",'\\nis the 4th character:',longWord[3], '\\nthrough the 10th character:',longWord[9])\n",
    "print()\n",
    "\n",
    "print(\"'\" + longWord[3:10] + \"'\",'\\nis the 3rd index:',longWord[3],'\\nthrough the 9th index: ',longWord[9])"
   ]
  },
  {
   "cell_type": "code",
   "execution_count": 72,
   "metadata": {},
   "outputs": [
    {
     "name": "stdout",
     "output_type": "stream",
     "text": [
      "4\n",
      "r\n",
      "four\n"
     ]
    }
   ],
   "source": [
    "print(len('four')) # 4 letters\n",
    "\n",
    "print('four'[3])   # 3 indices - 0,1,2,3\n",
    "print('four'[:4])  # ending [:index] selected => actual count of characters in sequence"
   ]
  },
  {
   "cell_type": "markdown",
   "metadata": {},
   "source": [
    "# [ : ]\n",
    "- returns entire 'string'"
   ]
  },
  {
   "cell_type": "code",
   "execution_count": 86,
   "metadata": {
    "scrolled": true
   },
   "outputs": [
    {
     "name": "stdout",
     "output_type": "stream",
     "text": [
      "Starscream\n"
     ]
    }
   ],
   "source": [
    "# [ : ] if beggining and ending index are ommited - entire sequence is returned\n",
    "\n",
    "nameTransformer = 'Starscream'\n",
    "\n",
    "nameToPrint = nameTransformer[:]               # [:] prints full string\n",
    "\n",
    "print(nameToPrint)"
   ]
  },
  {
   "cell_type": "markdown",
   "metadata": {},
   "source": [
    "# [ : : -1]\n",
    "- returns entire 'string' backwards"
   ]
  },
  {
   "cell_type": "code",
   "execution_count": 9,
   "metadata": {},
   "outputs": [
    {
     "name": "stdout",
     "output_type": "stream",
     "text": [
      "rednaxelA\n"
     ]
    }
   ],
   "source": [
    "####\n",
    "\n",
    "studentName = 'Alexander'\n",
    "\n",
    "print(studentName[::-1])"
   ]
  },
  {
   "cell_type": "code",
   "execution_count": 8,
   "metadata": {},
   "outputs": [
    {
     "name": "stdout",
     "output_type": "stream",
     "text": [
      "xelA\n"
     ]
    }
   ],
   "source": [
    "studentName = 'Alexander'\n",
    "\n",
    "print(studentName[3::-1])   #first 3 index (0,1,2,3) [4 characters] of name backwards"
   ]
  },
  {
   "cell_type": "code",
   "execution_count": 10,
   "metadata": {},
   "outputs": [
    {
     "name": "stdout",
     "output_type": "stream",
     "text": [
      "Alexander\n",
      "xelA\n",
      "redna\n"
     ]
    }
   ],
   "source": [
    "# [ ] print the first 4 letters of long_word\n",
    "# [ ] print the first 4 letters of long_word in reverse\n",
    "# [ ] print the last 4 letters of long_word in reverse\n",
    "# [ ] print the letters spanning indexes 3 to 6 of long_word in Reverse\n",
    "long_word = \"timeline\"\n",
    "\n",
    "print(long_word[0:4])\n",
    "print(long_word[3::-1])\n",
    "print(long_word[:3:-1])\n",
    "#print(long_word[:-5:-1]) #- [index -5] is same as [index 3]"
   ]
  },
  {
   "cell_type": "code",
   "execution_count": 11,
   "metadata": {},
   "outputs": [
    {
     "name": "stdout",
     "output_type": "stream",
     "text": [
      "Alexander\n",
      "xelA\n",
      "redna\n"
     ]
    }
   ],
   "source": [
    "studentName = 'Alexander'\n",
    "\n",
    "print(studentName[0:9])\n",
    "print(studentName[3::-1])\n",
    "print(studentName[:3:-1])"
   ]
  },
  {
   "cell_type": "markdown",
   "metadata": {},
   "source": [
    "## [index : index]\n",
    "- index >= index\n",
    "- returns '`     `' (empty 'string')\n",
    "- length of 0"
   ]
  },
  {
   "cell_type": "code",
   "execution_count": 33,
   "metadata": {},
   "outputs": [
    {
     "name": "stdout",
     "output_type": "stream",
     "text": [
      "''\n",
      "0\n"
     ]
    }
   ],
   "source": [
    "# If beggining index is >= ending index - result will be an empty string '' with len() == 0\n",
    "\n",
    "nameTransformer = 'Unicron'\n",
    "\n",
    "nameToPrint = nameTransformer[2:2]\n",
    "\n",
    "print(\"'\"+ nameToPrint + \"'\")      #nameToPrint has value  --> ''\n",
    "print(len(nameToPrint))            #nameToPrint has length --> 0"
   ]
  },
  {
   "cell_type": "code",
   "execution_count": null,
   "metadata": {},
   "outputs": [],
   "source": [
    "nameToPrint = nameTransformer[8:2]\n",
    "\n",
    "print(\"'\"+ nameToPrint + \"'\")      #nameToPrint has value  --> ''\n",
    "print(len(nameToPrint))            #nameToPrint has length --> 0"
   ]
  },
  {
   "cell_type": "markdown",
   "metadata": {},
   "source": [
    "## `midpoint` index access"
   ]
  },
  {
   "cell_type": "code",
   "execution_count": 23,
   "metadata": {},
   "outputs": [
    {
     "name": "stdout",
     "output_type": "stream",
     "text": [
      "Alexander length: 9\n",
      "Alexander actual midpoint: 4.5\n",
      "Alexander int converted midpoint: 4\n",
      "Alex length: 4\n",
      "ander length: 5\n"
     ]
    }
   ],
   "source": [
    "# If len() is odd - midpoint will be float + 0.5 decimal and truncated to int - first half will always be 1 shorter\n",
    "# If len() is even - midpoint will be float + 0.0 decimal and no truncation to int - first and second half will be even\n",
    "\n",
    "name = 'Alexander'                 #len() - 9 'char' - odd\n",
    "\n",
    "nameLength = len(name)\n",
    "print(name,'length:',nameLength)\n",
    "\n",
    "actualMidpoint = nameLength/2\n",
    "print(name,'actual midpoint:',actualMidpoint)\n",
    "\n",
    "midPoint = int(actualMidpoint)\n",
    "print(name,'int converted midpoint:',midPoint)\n",
    "\n",
    "\n",
    "print(name[:midPoint],'length:',len(name[:midPoint]))\n",
    "print(name[midPoint:],'length:',len(name[midPoint:]))"
   ]
  },
  {
   "cell_type": "code",
   "execution_count": 2,
   "metadata": {},
   "outputs": [
    {
     "name": "stdout",
     "output_type": "stream",
     "text": [
      "onomat\n",
      "onomatopoeia\n"
     ]
    }
   ],
   "source": [
    "#########\n",
    "\n",
    "longWord = 'onomatopoeia'\n",
    "\n",
    "print(longWord[:6])     #prints to 5th index [6th char], stops at (DOESN'T INCLUDE) 6th index [7th char]\n",
    "\n",
    "print(longWord[:12])    #prints to 11th index [12th char], stops at (DOESN'T INCLUDE) 12th index [13th char]"
   ]
  },
  {
   "cell_type": "code",
   "execution_count": 24,
   "metadata": {},
   "outputs": [
    {
     "name": "stdout",
     "output_type": "stream",
     "text": [
      "onomat\n",
      "onomat\n",
      "\n",
      "opoeia\n",
      "opoeia\n"
     ]
    }
   ],
   "source": [
    "####\n",
    "\n",
    "word = 'onomatopoeia'              #len() - 12 'char' - even\n",
    "\n",
    "wordLength = len(word)\n",
    "midPoint = int(wordLength/2)       #must convert midpoint to [int] after division - [float]\n",
    "\n",
    "\n",
    "print(word[:midPoint])             #slice indice must be [int]\n",
    "\n",
    "print(word[:int(len(word)/2)])     #slice indice must be [int]\n",
    "\n",
    "print()\n",
    "\n",
    "print(word[midPoint:])             #slice indice must be [int]\n",
    "\n",
    "print(word[int(len(word)/2):])     #slice indice must be [int]"
   ]
  },
  {
   "cell_type": "markdown",
   "metadata": {},
   "source": [
    "## [index : index]\n",
    "- index == index\n",
    "- returns '' - length => 0"
   ]
  },
  {
   "cell_type": "code",
   "execution_count": null,
   "metadata": {},
   "outputs": [],
   "source": []
  },
  {
   "cell_type": "markdown",
   "metadata": {},
   "source": [
    "# `Traversal` of 'strings' with `loops`\n",
    "#### Using loops to iterate through a string one character at a time (or sentences - one word at a time)\n",
    "#### Work sequentially, select each character in turn, do some computation, and continue until the end"
   ]
  },
  {
   "cell_type": "markdown",
   "metadata": {},
   "source": [
    "## `traversal - While loop`"
   ]
  },
  {
   "cell_type": "code",
   "execution_count": 62,
   "metadata": {},
   "outputs": [
    {
     "name": "stdout",
     "output_type": "stream",
     "text": [
      "a\n",
      "p\n",
      "p\n",
      "l\n",
      "e\n",
      "s\n"
     ]
    }
   ],
   "source": [
    "### Traversal - While loop\n",
    "\n",
    "stringExample = 'apples'\n",
    "index = 0                          #iteration count - used as index to access characters\n",
    "# index start at 0                  similar to stringExample[:] or stringExample[1:]\n",
    "\n",
    "while index < len(stringExample):              # < is used because len(stringExample) is out of index\n",
    "                                               # final index is len(StringExample) -1\n",
    "                                               # can use while index <= len(stringExample)-1:\n",
    "    currentCharacter = stringExample[index]\n",
    "    \n",
    "    print(currentCharacter)\n",
    "    \n",
    "    index += 1                    #update iteration variable - or else will run forever"
   ]
  },
  {
   "cell_type": "code",
   "execution_count": 63,
   "metadata": {},
   "outputs": [
    {
     "name": "stdout",
     "output_type": "stream",
     "text": [
      "l\n",
      "u\n",
      "e\n",
      "b\n",
      "e\n",
      "r\n",
      "r\n",
      "y\n"
     ]
    }
   ],
   "source": [
    "stringExample = 'blueberry'\n",
    "index = 1                          #iteration count - used as index to access characters\n",
    "# can begin at stringExample[1]     similar to stringExample[1:]\n",
    "\n",
    "while index < len(stringExample):              # < is used because len(stringExample) is out of index\n",
    "                                               # final index is len(StringExample) -1\n",
    "                                               # can use while index <= len(stringExample)-1:\n",
    "    currentCharacter = stringExample[index]\n",
    "    \n",
    "    print(currentCharacter)\n",
    "    \n",
    "    index += 1 "
   ]
  },
  {
   "cell_type": "markdown",
   "metadata": {},
   "source": [
    "## `traversal - While loop` - reverse traversal"
   ]
  },
  {
   "cell_type": "code",
   "execution_count": 84,
   "metadata": {},
   "outputs": [
    {
     "name": "stdout",
     "output_type": "stream",
     "text": [
      "g\n",
      "n\n",
      "i\n",
      "r\n",
      "t\n",
      "s\n"
     ]
    }
   ],
   "source": [
    "stringExample = 'string'\n",
    "\n",
    "reverseIndex = -1\n",
    "finalCharacterReverse = (len(stringExample) * -1)     #iterating backwards begins -1 and ends -(amount of characters)\n",
    "\n",
    "while reverseIndex >= finalCharacterReverse:\n",
    "    \n",
    "    print(stringExample[reverseIndex])\n",
    "    \n",
    "    reverseIndex -= 1"
   ]
  },
  {
   "cell_type": "markdown",
   "metadata": {},
   "source": [
    "## `traversal - For loop`"
   ]
  },
  {
   "cell_type": "markdown",
   "metadata": {},
   "source": [
    "### accessing indexes with for loop iterator"
   ]
  },
  {
   "cell_type": "code",
   "execution_count": 7,
   "metadata": {},
   "outputs": [
    {
     "name": "stdout",
     "output_type": "stream",
     "text": [
      "a\n",
      "p\n",
      "p\n",
      "l\n",
      "e\n",
      "s\n"
     ]
    }
   ],
   "source": [
    "### Traversal - For loop\n",
    "\n",
    "stringExample = 'apples'\n",
    "\n",
    "for currentCharacter in stringExample:\n",
    "    \n",
    "    print(currentCharacter)"
   ]
  },
  {
   "cell_type": "markdown",
   "metadata": {},
   "source": [
    "### accessing indexes with counter- for loop"
   ]
  },
  {
   "cell_type": "code",
   "execution_count": null,
   "metadata": {},
   "outputs": [],
   "source": [
    "studentName = 'Alexander'\n",
    "count = 0\n",
    "\n",
    "for iterator in studentName:\n",
    "    \n",
    "    print('Index',count,':',studentName[count])\n",
    "#    print('Index',count,':',iterator)          #using iterator also produces each character in the string through for loop\n",
    "\n",
    "    count+=1"
   ]
  },
  {
   "cell_type": "markdown",
   "metadata": {},
   "source": [
    "## `counting characters in Strings` with `Loops`\n",
    "#### Count the number of times a character appears in a string"
   ]
  },
  {
   "cell_type": "markdown",
   "metadata": {},
   "source": [
    "## `counter - for loop`"
   ]
  },
  {
   "cell_type": "code",
   "execution_count": 51,
   "metadata": {},
   "outputs": [
    {
     "name": "stdout",
     "output_type": "stream",
     "text": [
      "2\n"
     ]
    }
   ],
   "source": [
    "### Counter - For loop\n",
    "\n",
    "stringExample = 'onomatopoeia'\n",
    "\n",
    "count = 0\n",
    "\n",
    "for letter in stringExample:\n",
    "    \n",
    "    if letter.lower() == 'a':\n",
    "        count += 1\n",
    "        \n",
    "print(count)"
   ]
  },
  {
   "cell_type": "markdown",
   "metadata": {},
   "source": [
    "### `counter function`"
   ]
  },
  {
   "cell_type": "code",
   "execution_count": 73,
   "metadata": {},
   "outputs": [
    {
     "name": "stdout",
     "output_type": "stream",
     "text": [
      "Hello contains 1 instance(s) of  'o'\n"
     ]
    }
   ],
   "source": [
    "def counter(inputString,inputLetter):\n",
    "    \n",
    "    count = 0\n",
    "    \n",
    "    for currentLetter in inputString:\n",
    "        \n",
    "        if currentLetter.lower() == inputLetter:\n",
    "            \n",
    "            count += 1\n",
    "\n",
    "    print(inputString,'contains',count,'instance(s) of ',\"'\" + inputLetter + \"'\")\n",
    "    \n",
    "# Example\n",
    "\n",
    "counter('Hello','o')"
   ]
  },
  {
   "cell_type": "markdown",
   "metadata": {},
   "source": [
    "# `strings` are `immutable`\n",
    "\n",
    "## `immutable`\n",
    "`CAN NOT be modified`\n",
    "\n",
    "#### 'string' \n",
    "- is an (object) - evaluates to a value\n",
    "\n",
    "#### string[index] \n",
    "- returns a value from sequence"
   ]
  },
  {
   "cell_type": "markdown",
   "metadata": {},
   "source": [
    "### `string[index]` CAN NOT be used to change the `characters` in the `string`"
   ]
  },
  {
   "cell_type": "code",
   "execution_count": 94,
   "metadata": {},
   "outputs": [
    {
     "name": "stdout",
     "output_type": "stream",
     "text": [
      "m\n"
     ]
    }
   ],
   "source": [
    "string = 'maryland'\n",
    "\n",
    "#string[0] = 'f'                # TypeError: 'str' object does not support item assignment\n",
    "\n",
    "characterInString = string[0]   # string[index] - evaluates to a value\n",
    "                                # can not be used to access or assign value\n",
    "    \n",
    "print(characterInString)"
   ]
  },
  {
   "cell_type": "markdown",
   "metadata": {},
   "source": [
    "# An existing`'string'` can be `accessed` & concatenated with values\n",
    "or\n",
    "# A `new 'string'` can be returned with `'string methods'`\n",
    "\n",
    "#### can be assigned values of origional 'string' and new values for varation on origional 'string' (not mutated)\n",
    "\n",
    "<br/>"
   ]
  },
  {
   "cell_type": "markdown",
   "metadata": {},
   "source": [
    "# - `access` origional 'string' & concatenate with values"
   ]
  },
  {
   "cell_type": "code",
   "execution_count": 48,
   "metadata": {},
   "outputs": [
    {
     "name": "stdout",
     "output_type": "stream",
     "text": [
      "faryland\n"
     ]
    }
   ],
   "source": [
    "string = 'maryland'              #origional string is unaffected\n",
    "\n",
    "newString = 'f' + string[1:]     #concatenate desired new first letter 'f' with slice of string beggining at [index 1]\n",
    "\n",
    "print(newString)"
   ]
  },
  {
   "cell_type": "markdown",
   "metadata": {},
   "source": [
    "## .replace()"
   ]
  },
  {
   "cell_type": "code",
   "execution_count": 4,
   "metadata": {},
   "outputs": [
    {
     "name": "stdout",
     "output_type": "stream",
     "text": [
      "Help on built-in function replace:\n",
      "\n",
      "replace(old, new, count=-1, /) method of builtins.str instance\n",
      "    Return a copy with all occurrences of substring old replaced by new.\n",
      "    \n",
      "      count\n",
      "        Maximum number of occurrences to replace.\n",
      "        -1 (the default value) means replace all occurrences.\n",
      "    \n",
      "    If the optional argument count is given, only the first count occurrences are\n",
      "    replaced.\n",
      "\n"
     ]
    }
   ],
   "source": [
    "help('string'.replace)"
   ]
  },
  {
   "cell_type": "code",
   "execution_count": 3,
   "metadata": {},
   "outputs": [
    {
     "data": {
      "text/plain": [
       "'sLing'"
      ]
     },
     "execution_count": 3,
     "metadata": {},
     "output_type": "execute_result"
    }
   ],
   "source": [
    "'string'.replace('tr','L')          #(,,thirdArgument) thirdArgument is [-1] by default - performs .replace() for all\n",
    "                                   # - or integer value of maximum occurences to replace"
   ]
  },
  {
   "cell_type": "markdown",
   "metadata": {},
   "source": [
    "# - return `new 'string'` with `'string' methods`"
   ]
  },
  {
   "cell_type": "markdown",
   "metadata": {},
   "source": [
    "# `Formatting` 'string'.methods()\n",
    "- return formatted 'string' value"
   ]
  },
  {
   "cell_type": "markdown",
   "metadata": {},
   "source": [
    "#### .capitalize()\n",
    "#### .lower()\n",
    "#### .upper()\n",
    "#### .swapcase()\n",
    "#### .title()\n",
    "#### .strip()"
   ]
  },
  {
   "cell_type": "markdown",
   "metadata": {},
   "source": [
    "### .capitalize()\n",
    "- Capitalizes first character in 'String'\n",
    "- all other characters become lowercase"
   ]
  },
  {
   "cell_type": "code",
   "execution_count": 21,
   "metadata": {},
   "outputs": [
    {
     "data": {
      "text/plain": [
       "'Lord commander'"
      ]
     },
     "execution_count": 21,
     "metadata": {},
     "output_type": "execute_result"
    }
   ],
   "source": [
    "stringExample = 'lord commander'\n",
    "\n",
    "stringExample.capitalize()"
   ]
  },
  {
   "cell_type": "markdown",
   "metadata": {},
   "source": [
    "### .lower()\n",
    "- All characters in 'string' returned as lowercase"
   ]
  },
  {
   "cell_type": "code",
   "execution_count": 46,
   "metadata": {},
   "outputs": [
    {
     "data": {
      "text/plain": [
       "'lord commander'"
      ]
     },
     "execution_count": 46,
     "metadata": {},
     "output_type": "execute_result"
    }
   ],
   "source": [
    "stringExample = 'LORD Commander'\n",
    "\n",
    "stringExample.lower()"
   ]
  },
  {
   "cell_type": "markdown",
   "metadata": {},
   "source": [
    "### .upper()\n",
    "- All characters in 'string' returned as uppercase"
   ]
  },
  {
   "cell_type": "code",
   "execution_count": 47,
   "metadata": {},
   "outputs": [
    {
     "data": {
      "text/plain": [
       "'LORD COMMANDER'"
      ]
     },
     "execution_count": 47,
     "metadata": {},
     "output_type": "execute_result"
    }
   ],
   "source": [
    "stringExample = 'LORD Commander'\n",
    "\n",
    "stringExample.upper()"
   ]
  },
  {
   "cell_type": "markdown",
   "metadata": {},
   "source": [
    "### .swapcase()\n",
    "- Characters in 'string' switch cases\n",
    "    - uppercase become lowercase\n",
    "    - lowercase become uppercase"
   ]
  },
  {
   "cell_type": "code",
   "execution_count": 48,
   "metadata": {},
   "outputs": [
    {
     "data": {
      "text/plain": [
       "'lord cOMMANDER'"
      ]
     },
     "execution_count": 48,
     "metadata": {},
     "output_type": "execute_result"
    }
   ],
   "source": [
    "stringExample = 'LORD Commander'\n",
    "\n",
    "stringExample.swapcase()"
   ]
  },
  {
   "cell_type": "markdown",
   "metadata": {},
   "source": [
    "### .title()\n",
    "- Capitalizes first character for each word in 'String'\n",
    "- diliminated by ' ' space\n",
    "- all other characters become lowercase"
   ]
  },
  {
   "cell_type": "code",
   "execution_count": 69,
   "metadata": {},
   "outputs": [
    {
     "data": {
      "text/plain": [
       "'Lord Commander The First'"
      ]
     },
     "execution_count": 69,
     "metadata": {},
     "output_type": "execute_result"
    }
   ],
   "source": [
    "stringExample = 'lord COMMANDER the first'\n",
    "\n",
    "stringExample.title()"
   ]
  },
  {
   "cell_type": "markdown",
   "metadata": {},
   "source": [
    "### .strip()\n",
    "- removes whitespace ' ' \\n \\t\n",
    "- at the beggining and end of 'string'"
   ]
  },
  {
   "cell_type": "code",
   "execution_count": 33,
   "metadata": {},
   "outputs": [
    {
     "name": "stdout",
     "output_type": "stream",
     "text": [
      "  lordCOMMANDER \tthe first  \n",
      "\n",
      "lordCOMMANDER \tthe first\n"
     ]
    }
   ],
   "source": [
    "stringExample = '  lordCOMMANDER \\tthe first  \\n'               # \\t - escape sequence is not removed\n",
    "                                                                # because it is not at the beggining or the end of 'string'\n",
    "print(stringExample)\n",
    "print(stringExample.strip())"
   ]
  },
  {
   "cell_type": "markdown",
   "metadata": {},
   "source": [
    "### .lstrip()\n",
    "- removes whitespace ' ' \\n \\t\n",
    "- at the beggining (left) of 'string'"
   ]
  },
  {
   "cell_type": "code",
   "execution_count": 30,
   "metadata": {},
   "outputs": [
    {
     "name": "stdout",
     "output_type": "stream",
     "text": [
      "  lordCOMMANDER \tthe first  \n",
      "!\n",
      "lordCOMMANDER \tthe first  \n",
      "!\n"
     ]
    }
   ],
   "source": [
    "stringExample = '  lordCOMMANDER \\tthe first  \\n'               # \\t - escape sequence is not removed\n",
    "                                                                # because it is not at the beggining or the end of 'string'\n",
    "print(stringExample+'!')\n",
    "print(stringExample.lstrip()+'!')                               # '!' used to distinguish end whitespace [\\n]"
   ]
  },
  {
   "cell_type": "markdown",
   "metadata": {},
   "source": [
    "### .rstrip()\n",
    "- removes whitespace ' ' \\n \\t\n",
    "- at the end (right) of 'string'"
   ]
  },
  {
   "cell_type": "code",
   "execution_count": 34,
   "metadata": {},
   "outputs": [
    {
     "name": "stdout",
     "output_type": "stream",
     "text": [
      "  lordCOMMANDER \tthe first  \n",
      "!\n",
      "  lordCOMMANDER \tthe first!\n"
     ]
    }
   ],
   "source": [
    "stringExample = '  lordCOMMANDER \\tthe first  \\n'               # \\t - escape sequence is not removed\n",
    "                                                                # because it is not at the beggining or the end of 'string'\n",
    "print(stringExample+'!')\n",
    "\n",
    "print(stringExample.rstrip()+'!')                               # '!' used to distinguish end whitespace [\\n]"
   ]
  },
  {
   "cell_type": "markdown",
   "metadata": {},
   "source": [
    "## `'string'.method()`s - can be used on any 'string' value"
   ]
  },
  {
   "cell_type": "code",
   "execution_count": 50,
   "metadata": {},
   "outputs": [
    {
     "data": {
      "text/plain": [
       "'SWAPCASE'"
      ]
     },
     "execution_count": 50,
     "metadata": {},
     "output_type": "execute_result"
    }
   ],
   "source": [
    "'SWAP'+'case'.swapcase()         # order of evaluation - 'case'.swapcase() is evalutated first"
   ]
  },
  {
   "cell_type": "code",
   "execution_count": 51,
   "metadata": {},
   "outputs": [
    {
     "data": {
      "text/plain": [
       "'swapCASE'"
      ]
     },
     "execution_count": 51,
     "metadata": {},
     "output_type": "execute_result"
    }
   ],
   "source": [
    "('SWAP'+'case').swapcase()       # order of evaluation - (parenthesis) force string concatenation to be evaluated first"
   ]
  },
  {
   "cell_type": "code",
   "execution_count": 52,
   "metadata": {},
   "outputs": [
    {
     "name": "stdout",
     "output_type": "stream",
     "text": [
      "Enter a string to swap case: aLeX\n",
      "AlEx\n"
     ]
    }
   ],
   "source": [
    "print(input('Enter a string to swap case: ').swapcase())"
   ]
  },
  {
   "cell_type": "code",
   "execution_count": 53,
   "metadata": {},
   "outputs": [
    {
     "name": "stdout",
     "output_type": "stream",
     "text": [
      "Enter a string to swap case: sUPER mOTO\n",
      "Super Moto\n"
     ]
    }
   ],
   "source": [
    "inputStringSwap = input('Enter a string to swap case: ').swapcase()  # 'string'.method() formats value before bound to variable\n",
    "\n",
    "print(inputStringSwap)"
   ]
  },
  {
   "cell_type": "code",
   "execution_count": 54,
   "metadata": {
    "scrolled": true
   },
   "outputs": [
    {
     "name": "stdout",
     "output_type": "stream",
     "text": [
      "Enter a string to swap case: Super Moto\n",
      "sUPER mOTO\n"
     ]
    }
   ],
   "source": [
    "inputStringSwap = input('Enter a string to swap case: ')\n",
    "\n",
    "print(inputStringSwap.swapcase())                                    # 'string'.method() formats variable"
   ]
  },
  {
   "cell_type": "markdown",
   "metadata": {},
   "source": [
    "# `'string' operators`\n",
    "\n",
    "- see Python - 03 conditional execution"
   ]
  },
  {
   "cell_type": "markdown",
   "metadata": {},
   "source": [
    "## 'string' `comparison operators`\n",
    "- 'strings' can be equal        `==` or unequal   `!=`\n",
    "- 'strings' can be greater than `>`  or less than `<`\n",
    "\n",
    "- alphabetically `\"A\"` is less than `\"B\"`\n",
    "- lower case `\"a\"` is greater than upper case `\"A\"`"
   ]
  },
  {
   "cell_type": "markdown",
   "metadata": {},
   "source": [
    "## ==\n",
    "\n",
    " equal to"
   ]
  },
  {
   "cell_type": "code",
   "execution_count": 101,
   "metadata": {},
   "outputs": [
    {
     "data": {
      "text/plain": [
       "True"
      ]
     },
     "execution_count": 101,
     "metadata": {},
     "output_type": "execute_result"
    }
   ],
   "source": [
    "# Equal to                 ==\n",
    "\n",
    "'STRING'.lower() == 'string'"
   ]
  },
  {
   "cell_type": "markdown",
   "metadata": {},
   "source": [
    "## !=\n",
    "\n",
    " not equal to"
   ]
  },
  {
   "cell_type": "code",
   "execution_count": 102,
   "metadata": {},
   "outputs": [
    {
     "data": {
      "text/plain": [
       "True"
      ]
     },
     "execution_count": 102,
     "metadata": {},
     "output_type": "execute_result"
    }
   ],
   "source": [
    "# NOT equal to             !=\n",
    "\n",
    "'STRING' != 'string'"
   ]
  },
  {
   "cell_type": "markdown",
   "metadata": {},
   "source": [
    "## >=\n",
    "\n",
    " greater than or equal to"
   ]
  },
  {
   "cell_type": "code",
   "execution_count": 106,
   "metadata": {},
   "outputs": [
    {
     "data": {
      "text/plain": [
       "False"
      ]
     },
     "execution_count": 106,
     "metadata": {},
     "output_type": "execute_result"
    }
   ],
   "source": [
    "# Greater or equal to      >=\n",
    "\n",
    "'A' >= 'Z'"
   ]
  },
  {
   "cell_type": "markdown",
   "metadata": {},
   "source": [
    "## >\n",
    "\n",
    " greater than"
   ]
  },
  {
   "cell_type": "code",
   "execution_count": 107,
   "metadata": {},
   "outputs": [
    {
     "data": {
      "text/plain": [
       "False"
      ]
     },
     "execution_count": 107,
     "metadata": {},
     "output_type": "execute_result"
    }
   ],
   "source": [
    "# Greater than             <\n",
    "\n",
    "'A' > 'Z'"
   ]
  },
  {
   "cell_type": "markdown",
   "metadata": {},
   "source": [
    "## <=\n",
    "\n",
    " less than or equal to"
   ]
  },
  {
   "cell_type": "code",
   "execution_count": 108,
   "metadata": {},
   "outputs": [
    {
     "data": {
      "text/plain": [
       "True"
      ]
     },
     "execution_count": 108,
     "metadata": {},
     "output_type": "execute_result"
    }
   ],
   "source": [
    "# Less than or equal to    <\n",
    "\n",
    "'A' <= 'Z'"
   ]
  },
  {
   "cell_type": "markdown",
   "metadata": {},
   "source": [
    "## <\n",
    "\n",
    " less than"
   ]
  },
  {
   "cell_type": "code",
   "execution_count": 109,
   "metadata": {
    "scrolled": false
   },
   "outputs": [
    {
     "data": {
      "text/plain": [
       "True"
      ]
     },
     "execution_count": 109,
     "metadata": {},
     "output_type": "execute_result"
    }
   ],
   "source": [
    "# Less than                <\n",
    "\n",
    "'A' < 'a'"
   ]
  },
  {
   "cell_type": "markdown",
   "metadata": {},
   "source": [
    "### multiple characters\n",
    "- first character decides"
   ]
  },
  {
   "cell_type": "code",
   "execution_count": 84,
   "metadata": {},
   "outputs": [
    {
     "data": {
      "text/plain": [
       "True"
      ]
     },
     "execution_count": 84,
     "metadata": {},
     "output_type": "execute_result"
    }
   ],
   "source": [
    "'Alex' < 'alex'"
   ]
  },
  {
   "cell_type": "code",
   "execution_count": 82,
   "metadata": {},
   "outputs": [
    {
     "data": {
      "text/plain": [
       "True"
      ]
     },
     "execution_count": 82,
     "metadata": {},
     "output_type": "execute_result"
    }
   ],
   "source": [
    "'Zaphod' < 'zaphod'"
   ]
  },
  {
   "cell_type": "markdown",
   "metadata": {},
   "source": [
    "## `membership Operators`\n",
    "`boolean test` for 'string' value `membership` in a `sequence`\n",
    "such as `'strings'` or `collections`\n",
    "- lists\n",
    "- tuples\n",
    "- dictionaries"
   ]
  },
  {
   "cell_type": "markdown",
   "metadata": {},
   "source": [
    "## in"
   ]
  },
  {
   "cell_type": "markdown",
   "metadata": {},
   "source": [
    "## 'strings' - `in` membership operator\n",
    "both operands must be 'strings'\n",
    "comparing 'strings' is 'CASE' 'sensitive'"
   ]
  },
  {
   "cell_type": "code",
   "execution_count": null,
   "metadata": {},
   "outputs": [],
   "source": [
    "'s' in 'string'"
   ]
  },
  {
   "cell_type": "code",
   "execution_count": 110,
   "metadata": {},
   "outputs": [
    {
     "data": {
      "text/plain": [
       "False"
      ]
     },
     "execution_count": 110,
     "metadata": {},
     "output_type": "execute_result"
    }
   ],
   "source": [
    "'s' in 'string'.upper()"
   ]
  },
  {
   "cell_type": "code",
   "execution_count": 111,
   "metadata": {},
   "outputs": [
    {
     "data": {
      "text/plain": [
       "True"
      ]
     },
     "execution_count": 111,
     "metadata": {},
     "output_type": "execute_result"
    }
   ],
   "source": [
    "effects = 'Bowtie, screwdriver, fez'\n",
    "\n",
    "'bowtie'.capitalize() in effects"
   ]
  },
  {
   "cell_type": "code",
   "execution_count": 100,
   "metadata": {},
   "outputs": [
    {
     "name": "stdout",
     "output_type": "stream",
     "text": [
      "True\n",
      "False\n"
     ]
    }
   ],
   "source": [
    "containedInString1 = 'tron' in 'megatron'\n",
    "\n",
    "print(containedInString1)\n",
    "\n",
    "\n",
    "containedInString2 = 'prime' in 'megatron'\n",
    "\n",
    "print(containedInString2)"
   ]
  },
  {
   "cell_type": "markdown",
   "metadata": {},
   "source": [
    "## collections - `in` membership operator"
   ]
  },
  {
   "cell_type": "code",
   "execution_count": 85,
   "metadata": {},
   "outputs": [
    {
     "data": {
      "text/plain": [
       "True"
      ]
     },
     "execution_count": 85,
     "metadata": {},
     "output_type": "execute_result"
    }
   ],
   "source": [
    "'string' in ['string','word','a short sentence']"
   ]
  },
  {
   "cell_type": "code",
   "execution_count": 86,
   "metadata": {
    "scrolled": true
   },
   "outputs": [
    {
     "data": {
      "text/plain": [
       "True"
      ]
     },
     "execution_count": 86,
     "metadata": {},
     "output_type": "execute_result"
    }
   ],
   "source": [
    "'string' in ('string','word','a short sentence')"
   ]
  },
  {
   "cell_type": "code",
   "execution_count": 95,
   "metadata": {},
   "outputs": [
    {
     "data": {
      "text/plain": [
       "True"
      ]
     },
     "execution_count": 95,
     "metadata": {},
     "output_type": "execute_result"
    }
   ],
   "source": [
    "'string' in {'A':'word','string': 'string'}"
   ]
  },
  {
   "cell_type": "code",
   "execution_count": 94,
   "metadata": {},
   "outputs": [
    {
     "data": {
      "text/plain": [
       "False"
      ]
     },
     "execution_count": 94,
     "metadata": {},
     "output_type": "execute_result"
    }
   ],
   "source": [
    "'string' in {'A':'word','B':'string'}"
   ]
  },
  {
   "cell_type": "markdown",
   "metadata": {},
   "source": [
    "## not in"
   ]
  },
  {
   "cell_type": "code",
   "execution_count": 112,
   "metadata": {},
   "outputs": [
    {
     "data": {
      "text/plain": [
       "False"
      ]
     },
     "execution_count": 112,
     "metadata": {},
     "output_type": "execute_result"
    }
   ],
   "source": [
    "'s' not in 'string'"
   ]
  },
  {
   "cell_type": "code",
   "execution_count": 113,
   "metadata": {},
   "outputs": [
    {
     "data": {
      "text/plain": [
       "True"
      ]
     },
     "execution_count": 113,
     "metadata": {},
     "output_type": "execute_result"
    }
   ],
   "source": [
    "'s' not in 'string'.upper()"
   ]
  },
  {
   "cell_type": "code",
   "execution_count": 114,
   "metadata": {},
   "outputs": [
    {
     "data": {
      "text/plain": [
       "False"
      ]
     },
     "execution_count": 114,
     "metadata": {},
     "output_type": "execute_result"
    }
   ],
   "source": [
    "effects = ['bowtie','screwdriver','fez']\n",
    "\n",
    "'bowtie' not in effects"
   ]
  },
  {
   "cell_type": "code",
   "execution_count": 98,
   "metadata": {
    "scrolled": true
   },
   "outputs": [
    {
     "name": "stdout",
     "output_type": "stream",
     "text": [
      "False\n",
      "True\n"
     ]
    }
   ],
   "source": [
    "containedInString1 = 'tron' not in 'megatron'\n",
    "\n",
    "print(containedInString1)\n",
    "\n",
    "\n",
    "containedInString2 = 'prime' not in 'megatron'\n",
    "\n",
    "print(containedInString2)"
   ]
  },
  {
   "cell_type": "markdown",
   "metadata": {},
   "source": [
    "## collections - `not in` membership operator"
   ]
  },
  {
   "cell_type": "code",
   "execution_count": 85,
   "metadata": {},
   "outputs": [
    {
     "data": {
      "text/plain": [
       "True"
      ]
     },
     "execution_count": 85,
     "metadata": {},
     "output_type": "execute_result"
    }
   ],
   "source": [
    "'string' not in ['string','word','a short sentence']"
   ]
  },
  {
   "cell_type": "code",
   "execution_count": 86,
   "metadata": {
    "scrolled": true
   },
   "outputs": [
    {
     "data": {
      "text/plain": [
       "True"
      ]
     },
     "execution_count": 86,
     "metadata": {},
     "output_type": "execute_result"
    }
   ],
   "source": [
    "'string' not in ('string','word','a short sentence')"
   ]
  },
  {
   "cell_type": "code",
   "execution_count": 95,
   "metadata": {},
   "outputs": [
    {
     "data": {
      "text/plain": [
       "True"
      ]
     },
     "execution_count": 95,
     "metadata": {},
     "output_type": "execute_result"
    }
   ],
   "source": [
    "'string' not in {'A':'word','string': 'string'}"
   ]
  },
  {
   "cell_type": "code",
   "execution_count": 96,
   "metadata": {},
   "outputs": [
    {
     "data": {
      "text/plain": [
       "True"
      ]
     },
     "execution_count": 96,
     "metadata": {},
     "output_type": "execute_result"
    }
   ],
   "source": [
    "'string' not in {'A':'word','B':'string'}"
   ]
  },
  {
   "cell_type": "markdown",
   "metadata": {},
   "source": [
    "# `'string' objects`\n",
    "\n",
    "#### 'strings' are Python objects\n",
    "#### 'strings' contain data & methods"
   ]
  },
  {
   "cell_type": "markdown",
   "metadata": {},
   "source": [
    "# 'string' `data`"
   ]
  },
  {
   "cell_type": "code",
   "execution_count": 115,
   "metadata": {},
   "outputs": [],
   "source": [
    "#'string' data\n",
    "\n",
    "string1 = 'Alice'    # 'Alice' is the data"
   ]
  },
  {
   "cell_type": "markdown",
   "metadata": {},
   "source": [
    "# 'string' `methods`\n",
    "\n",
    "### `functions` built into the object - available to any instance of the object"
   ]
  },
  {
   "cell_type": "markdown",
   "metadata": {},
   "source": [
    "## `type() function` returns the `type` of the `object`"
   ]
  },
  {
   "cell_type": "code",
   "execution_count": 116,
   "metadata": {},
   "outputs": [
    {
     "name": "stdout",
     "output_type": "stream",
     "text": [
      "<class 'str'>\n"
     ]
    }
   ],
   "source": [
    "stringExample = 'Words in a sentence.'\n",
    "\n",
    "typeOfString = type(stringExample)\n",
    "\n",
    "print(typeOfString)"
   ]
  },
  {
   "cell_type": "markdown",
   "metadata": {},
   "source": [
    "## `dir() function` - `method` returns the `methods (functions)` available to `object`"
   ]
  },
  {
   "cell_type": "code",
   "execution_count": 98,
   "metadata": {},
   "outputs": [
    {
     "data": {
      "text/plain": [
       "['__add__',\n",
       " '__class__',\n",
       " '__contains__',\n",
       " '__delattr__',\n",
       " '__dir__',\n",
       " '__doc__',\n",
       " '__eq__',\n",
       " '__format__',\n",
       " '__ge__',\n",
       " '__getattribute__',\n",
       " '__getitem__',\n",
       " '__getnewargs__',\n",
       " '__gt__',\n",
       " '__hash__',\n",
       " '__init__',\n",
       " '__init_subclass__',\n",
       " '__iter__',\n",
       " '__le__',\n",
       " '__len__',\n",
       " '__lt__',\n",
       " '__mod__',\n",
       " '__mul__',\n",
       " '__ne__',\n",
       " '__new__',\n",
       " '__reduce__',\n",
       " '__reduce_ex__',\n",
       " '__repr__',\n",
       " '__rmod__',\n",
       " '__rmul__',\n",
       " '__setattr__',\n",
       " '__sizeof__',\n",
       " '__str__',\n",
       " '__subclasshook__',\n",
       " 'capitalize',\n",
       " 'casefold',\n",
       " 'center',\n",
       " 'count',\n",
       " 'encode',\n",
       " 'endswith',\n",
       " 'expandtabs',\n",
       " 'find',\n",
       " 'format',\n",
       " 'format_map',\n",
       " 'index',\n",
       " 'isalnum',\n",
       " 'isalpha',\n",
       " 'isascii',\n",
       " 'isdecimal',\n",
       " 'isdigit',\n",
       " 'isidentifier',\n",
       " 'islower',\n",
       " 'isnumeric',\n",
       " 'isprintable',\n",
       " 'isspace',\n",
       " 'istitle',\n",
       " 'isupper',\n",
       " 'join',\n",
       " 'ljust',\n",
       " 'lower',\n",
       " 'lstrip',\n",
       " 'maketrans',\n",
       " 'partition',\n",
       " 'replace',\n",
       " 'rfind',\n",
       " 'rindex',\n",
       " 'rjust',\n",
       " 'rpartition',\n",
       " 'rsplit',\n",
       " 'rstrip',\n",
       " 'split',\n",
       " 'splitlines',\n",
       " 'startswith',\n",
       " 'strip',\n",
       " 'swapcase',\n",
       " 'title',\n",
       " 'translate',\n",
       " 'upper',\n",
       " 'zfill']"
      ]
     },
     "execution_count": 98,
     "metadata": {},
     "output_type": "execute_result"
    }
   ],
   "source": [
    "stringExample = 'Words in a sentence.'\n",
    "\n",
    "dir(stringExample)"
   ]
  },
  {
   "cell_type": "markdown",
   "metadata": {},
   "source": [
    "## `help() function` - `'string' method` is input as argument to help()\n",
    "\n",
    "#### Python will provide additional documentation on the method"
   ]
  },
  {
   "cell_type": "code",
   "execution_count": 101,
   "metadata": {},
   "outputs": [
    {
     "name": "stdout",
     "output_type": "stream",
     "text": [
      "Help on built-in function capitalize:\n",
      "\n",
      "capitalize() method of builtins.str instance\n",
      "    Return a capitalized version of the string.\n",
      "    \n",
      "    More specifically, make the first character have upper case and the rest lower\n",
      "    case.\n",
      "\n"
     ]
    }
   ],
   "source": [
    "# help() with argument 'string'.method --> method name of desired information\n",
    "# help('string'.methodName)\n",
    "\n",
    "stringExample = 'words in a sentence.'\n",
    "\n",
    "help(stringExample.capitalize)                     # pass 'string'.methodName as argument"
   ]
  },
  {
   "cell_type": "markdown",
   "metadata": {},
   "source": [
    "## `'string'.methods()` are called using  ` .`   as a `deliminator` \n",
    "- to tell where the method name begins\n",
    "\n",
    "#### `calling` a method is called - `method invocation`\n",
    "\n",
    "#### `.methods()` take `arguments` and return `values`\n",
    "- some take no arguments"
   ]
  },
  {
   "cell_type": "markdown",
   "metadata": {},
   "source": [
    "# 'string'.methods() `return 'strings'`\n",
    "- return `formatted 'string' value`"
   ]
  },
  {
   "cell_type": "markdown",
   "metadata": {},
   "source": [
    "## 'string'.method() - `no argument supplied`"
   ]
  },
  {
   "cell_type": "markdown",
   "metadata": {},
   "source": [
    "#### .upper()"
   ]
  },
  {
   "cell_type": "code",
   "execution_count": 9,
   "metadata": {},
   "outputs": [
    {
     "name": "stdout",
     "output_type": "stream",
     "text": [
      "WORDS IN A SENTENCE.\n"
     ]
    }
   ],
   "source": [
    "# .method() with no argument\n",
    "\n",
    "stringExample = 'Words in a sentence.'\n",
    "\n",
    "stringUpper = stringExample.upper()\n",
    "\n",
    "print(stringUpper)"
   ]
  },
  {
   "cell_type": "markdown",
   "metadata": {},
   "source": [
    "#### .strip()"
   ]
  },
  {
   "cell_type": "code",
   "execution_count": 28,
   "metadata": {},
   "outputs": [
    {
     "name": "stdout",
     "output_type": "stream",
     "text": [
      "\tWords in a sentence.  \n",
      "Words in a sentence.\n"
     ]
    }
   ],
   "source": [
    "# .strip() removes whitespace - tab, space, newline - from beggining and end of 'string'\n",
    "\n",
    "stringExample = '\\tWords in a sentence.  '\n",
    "\n",
    "print(stringExample)\n",
    "\n",
    "\n",
    "stringStrip = stringExample.strip()                 #.strip() removes - tab, space, newline - from beggining and end of 'string'\n",
    "\n",
    "print(stringStrip)"
   ]
  },
  {
   "cell_type": "markdown",
   "metadata": {},
   "source": [
    "# 'string'.methods() `return other values`\n",
    "- return `other values`"
   ]
  },
  {
   "cell_type": "markdown",
   "metadata": {},
   "source": [
    "## 'string'.method() - `with argument supplied`"
   ]
  },
  {
   "cell_type": "markdown",
   "metadata": {},
   "source": [
    "## .find()"
   ]
  },
  {
   "cell_type": "code",
   "execution_count": 20,
   "metadata": {},
   "outputs": [
    {
     "name": "stdout",
     "output_type": "stream",
     "text": [
      "6\n"
     ]
    }
   ],
   "source": [
    "# .method() with and argument\n",
    "\n",
    "stringExample = 'Words in a sentence.'\n",
    "\n",
    "stringUpper = stringExample.find('in')        #.find() can take 'a' character or 'substring'\n",
    "\n",
    "print(stringUpper)"
   ]
  },
  {
   "cell_type": "code",
   "execution_count": 102,
   "metadata": {},
   "outputs": [
    {
     "name": "stdout",
     "output_type": "stream",
     "text": [
      "6\n"
     ]
    }
   ],
   "source": [
    "# .method() with multiple arguments\n",
    "\n",
    "stringExample = 'Words in a sentence.'\n",
    "\n",
    "stringUpper = stringExample.find('in', 5)   #.find() can take 'a' character or 'substring'\n",
    "                                            #.find() can take a second argument - begggining [index] to search from\n",
    "print(stringUpper)                          #.find() returns the index of the 'a' char or 'subtring' - in the origonal 'string'\n",
    "                                            # - not in the searched 'substring' \n",
    "                                            # - such as stringExample[index:index] - new 'substring' with new indexes"
   ]
  },
  {
   "cell_type": "code",
   "execution_count": 49,
   "metadata": {},
   "outputs": [
    {
     "name": "stdout",
     "output_type": "stream",
     "text": [
      "-1\n"
     ]
    }
   ],
   "source": [
    "stringExample = 'Words in a sentence.'\n",
    "\n",
    "stringUpper = stringExample.find('in' ,0, 4)   #.find() can take 'a' character or 'substring'\n",
    "                                               #.find() can take a second argument - begggining [index] to search from\n",
    "print(stringUpper)                             #.find() can take a third argument  - end [index] to search through\n",
    "                                               #.find() returns [-1] if 'character' or 'string' is not found"
   ]
  },
  {
   "cell_type": "code",
   "execution_count": 20,
   "metadata": {},
   "outputs": [
    {
     "name": "stdout",
     "output_type": "stream",
     "text": [
      "Student: Alexander\n",
      "\n",
      "Alexander\n",
      "length: 9\n",
      "'d' at index: 6\n",
      "\n",
      "xander\n",
      "length: 6\n",
      "'d' at index 3\n"
     ]
    }
   ],
   "source": [
    "# Difference between 'string'.find('char',index,index) and 'string'[index:index].find('char')\n",
    "# 'string'.find('char',index,index) - searches origional 'string' and all [index] are the same\n",
    "# 'string'[index:index].find('char') searches a new 'string' with a new length and the [index] are now different\n",
    "\n",
    "student = 'Alexander'\n",
    "print('Student:',student)\n",
    "print()\n",
    "\n",
    "print(student)\n",
    "print('length:',len(student))\n",
    "print(\"'d' at index:\",student.find('d',2))\n",
    "print()\n",
    "\n",
    "print(student[3:])\n",
    "print('length:',len(student[3:]))\n",
    "print(\"'d' at index\",student[3:].find('d'))"
   ]
  },
  {
   "cell_type": "code",
   "execution_count": null,
   "metadata": {},
   "outputs": [],
   "source": [
    "# [ ] review and run example \n",
    "# if .find(\"o\") has No Match, -1 is returned\n",
    "\n",
    "work_tip = 'good code has meaningful variable names'\n",
    "\n",
    "print (\"work_tip:\" , work_tip)\n",
    "location = work_tip.find(\"o\")\n",
    "\n",
    "\n",
    "# keeps looping until location = -1 (no \"o\" found)\n",
    "\n",
    "while location >= 0:\n",
    "    print(\"'o' at index =\", location)                                             #*****************Important*******************\n",
    "                                                                                  #*********************************************\n",
    "    location = work_tip.find(\"o\", location + 1) #searches from index found -onward\n",
    "# find(\"o\", location + 1) looks for a \"o\" after index the first \"o\" was found     #.find() is for this type of iteration search\n",
    "print(\"no more o's\")                                                              #'string'[index:index] will not work\n",
    "                                                                                  #will keep iterating because of how 'string'\n",
    "                                                                                  #becomes sliced (subtrings) instead of searched\n",
    "                                                                                  #index changes vs searching origional 'string'\n",
    "                                                                                  #sequentially"
   ]
  },
  {
   "cell_type": "markdown",
   "metadata": {},
   "source": [
    "## .count()"
   ]
  },
  {
   "cell_type": "code",
   "execution_count": 27,
   "metadata": {},
   "outputs": [
    {
     "name": "stdout",
     "output_type": "stream",
     "text": [
      "3\n"
     ]
    }
   ],
   "source": [
    "string = 'banana'\n",
    "\n",
    "stringCount = string.count('a')\n",
    "\n",
    "print(stringCount)"
   ]
  },
  {
   "cell_type": "code",
   "execution_count": 28,
   "metadata": {},
   "outputs": [
    {
     "name": "stdout",
     "output_type": "stream",
     "text": [
      "2\n"
     ]
    }
   ],
   "source": [
    "stringCount = string.count('a',2,)\n",
    "print(stringCount)"
   ]
  },
  {
   "cell_type": "code",
   "execution_count": 31,
   "metadata": {},
   "outputs": [
    {
     "name": "stdout",
     "output_type": "stream",
     "text": [
      "1\n"
     ]
    }
   ],
   "source": [
    "stringCount = string.count('a',2,-1)\n",
    "print(stringCount)"
   ]
  },
  {
   "cell_type": "code",
   "execution_count": null,
   "metadata": {},
   "outputs": [],
   "source": [
    "####\n",
    "\n",
    "word = 'onomatopoeia'\n",
    "\n",
    "midPoint = int(len(word)/2)\n",
    "\n",
    "\n",
    "print('First half of',word,':',word[:midPoint])\n",
    "print(\"'o's in\",word[:midPoint],':',word[:midPoint].count('o'))\n",
    "print()\n",
    "\n",
    "print('Second half of',word,':',word[midPoint:])\n",
    "print(\"'o's in\",word[midPoint:],':',word[midPoint:].count('o'))"
   ]
  },
  {
   "cell_type": "markdown",
   "metadata": {},
   "source": [
    "## .startswith(' ')\n",
    "`requires a casematch`"
   ]
  },
  {
   "cell_type": "code",
   "execution_count": 103,
   "metadata": {},
   "outputs": [
    {
     "name": "stdout",
     "output_type": "stream",
     "text": [
      "False\n",
      "True\n"
     ]
    }
   ],
   "source": [
    "# .startswith('') - take characters or strings as arguments and return Boolean values\n",
    "\n",
    "stringExample = 'Words in a sentence.'\n",
    "\n",
    "\n",
    "stringStarts = stringExample.startswith('w')        # 'w' != 'W'\n",
    "\n",
    "print(stringStarts)\n",
    "\n",
    "\n",
    "stringStarts = stringExample.startswith('W')        # 'W' == 'W'\n",
    "\n",
    "print(stringStarts)"
   ]
  },
  {
   "cell_type": "markdown",
   "metadata": {},
   "source": [
    "### can use `.lower() method` to search 'string' for characters `regardless of case`"
   ]
  },
  {
   "cell_type": "code",
   "execution_count": 35,
   "metadata": {},
   "outputs": [
    {
     "name": "stdout",
     "output_type": "stream",
     "text": [
      "True\n"
     ]
    }
   ],
   "source": [
    "stringExample = 'Words in a sentence.'                  # 'w' != 'W'\n",
    "\n",
    "stringStarts = stringExample.lower().startswith('w')    # 'W' has been lowered to  'w'\n",
    "\n",
    "print(stringStarts)"
   ]
  },
  {
   "cell_type": "markdown",
   "metadata": {},
   "source": [
    "## `parsing 'strings'`\n",
    "### often a subtring of a string is desired\n",
    "#### methods of the 'string' object can be used in combination to perform these tasks"
   ]
  },
  {
   "cell_type": "code",
   "execution_count": 44,
   "metadata": {},
   "outputs": [
    {
     "name": "stdout",
     "output_type": "stream",
     "text": [
      " Sat Jan  5 00:50:30 2019\n"
     ]
    }
   ],
   "source": [
    "data = 'From alex.delapaz@asd.ad.az Sat Jan  5 00:50:30 2019'\n",
    "\n",
    "findAt = data.find('@')                #find first instance of '@'\n",
    "findSpace = data.find(' ', findAt)     #find first instance of ' ' from substring of index '@' foward\n",
    "\n",
    "findLine = data[findSpace:]            #return 'string' after first instance of ' ' with [index:index] operator\n",
    "\n",
    "print(findLine)"
   ]
  },
  {
   "cell_type": "code",
   "execution_count": 50,
   "metadata": {},
   "outputs": [
    {
     "name": "stdout",
     "output_type": "stream",
     "text": [
      "asd.ad.az\n"
     ]
    }
   ],
   "source": [
    "data = 'From alex.delapaz@asd.ad.az Sat Jan  5 00:50:30 2019'\n",
    "\n",
    "findAt = data.find('@')               #find first instance of '@'\n",
    "findSpace = data.find(' ', findAt, )  #find first instance of ' ' from substring of index '@' foward\n",
    "\n",
    "findEmail = data[findAt+1:findSpace]  #find rest of email from instance of ('@'+1) to instance of ' ' with [index:index] operator\n",
    "\n",
    "print(findEmail)"
   ]
  },
  {
   "cell_type": "markdown",
   "metadata": {},
   "source": [
    "# `format % - operator`\n",
    "\n",
    "#### used to construct new 'strings' - by replacing parts of the strings with data stored in variables"
   ]
  },
  {
   "cell_type": "markdown",
   "metadata": {},
   "source": [
    "## `%d  - integer format`\n",
    "\n",
    "#### returns a string - integer format"
   ]
  },
  {
   "cell_type": "code",
   "execution_count": 104,
   "metadata": {},
   "outputs": [
    {
     "name": "stdout",
     "output_type": "stream",
     "text": [
      "42\n"
     ]
    }
   ],
   "source": [
    "print('%d' % 42)"
   ]
  },
  {
   "cell_type": "code",
   "execution_count": 126,
   "metadata": {},
   "outputs": [
    {
     "name": "stdout",
     "output_type": "stream",
     "text": [
      "42\n"
     ]
    }
   ],
   "source": [
    "stringNumber = 42\n",
    "\n",
    "newStringNumber = '%d' % stringNumber         # %d - format sequence\n",
    "\n",
    "print(newStringNumber)\n"
   ]
  },
  {
   "cell_type": "code",
   "execution_count": 128,
   "metadata": {},
   "outputs": [
    {
     "name": "stdout",
     "output_type": "stream",
     "text": [
      "The answer to life, the universe and everything is: 42\n"
     ]
    }
   ],
   "source": [
    "stringNumber = 42\n",
    "\n",
    "print('The answer to life, the universe and everything is: %d' % stringNumber)"
   ]
  },
  {
   "cell_type": "markdown",
   "metadata": {},
   "source": [
    "## `%g  - floating point format`\n",
    "\n",
    "#### returns a string - floating point format"
   ]
  },
  {
   "cell_type": "code",
   "execution_count": 74,
   "metadata": {},
   "outputs": [
    {
     "name": "stdout",
     "output_type": "stream",
     "text": [
      "Pi approximated to two decmials is 3.14\n"
     ]
    }
   ],
   "source": [
    "print('Pi approximated to two decmials is %g' % 3.14)"
   ]
  },
  {
   "cell_type": "markdown",
   "metadata": {},
   "source": [
    "## `%s  - string format`\n",
    "\n",
    "#### returns a string"
   ]
  },
  {
   "cell_type": "code",
   "execution_count": 118,
   "metadata": {},
   "outputs": [
    {
     "name": "stdout",
     "output_type": "stream",
     "text": [
      "A whale of a tale\n"
     ]
    }
   ],
   "source": [
    "print('A whale of a %s' % 'tale')            #format string - containing format sequence"
   ]
  },
  {
   "cell_type": "markdown",
   "metadata": {},
   "source": [
    "## If `more than one format sequence` is used - the `second argument must be a tuple`"
   ]
  },
  {
   "cell_type": "markdown",
   "metadata": {},
   "source": [
    "### `tuple` - is a sequence of comma separated values in parenthesis\n",
    "\n",
    "('string' , 42 , 3.14)"
   ]
  },
  {
   "cell_type": "code",
   "execution_count": 126,
   "metadata": {},
   "outputs": [
    {
     "name": "stdout",
     "output_type": "stream",
     "text": [
      "R 2 D 2\n"
     ]
    }
   ],
   "source": [
    "#Each [format sequence] is matched with its (corresponding element, in sequence, in the tuple)\n",
    "\n",
    "stringNumber = 2.0\n",
    "\n",
    "droidName = 'r %d d %d' % (stringNumber,stringNumber)\n",
    "\n",
    "print(droidName.upper())"
   ]
  },
  {
   "cell_type": "code",
   "execution_count": 128,
   "metadata": {},
   "outputs": [
    {
     "name": "stdout",
     "output_type": "stream",
     "text": [
      "3\n"
     ]
    }
   ],
   "source": [
    "print('%d' % 3.14) # %d casts 2.0 to int"
   ]
  },
  {
   "cell_type": "code",
   "execution_count": 88,
   "metadata": {},
   "outputs": [],
   "source": [
    "#Each format sequence is matched with its corresponding element in sequence in the (tuple)\n",
    "#The types of the elements must match as well\n",
    "\n",
    "#print('%d%s%g' % (42,'string'))           #TypeError: not enough arguments for format string\n",
    "\n",
    "#print('%d%s%g' % (42,'string','3.14')) #TypeError: must be real number, not str"
   ]
  },
  {
   "cell_type": "code",
   "execution_count": 130,
   "metadata": {},
   "outputs": [
    {
     "name": "stdout",
     "output_type": "stream",
     "text": [
      "C 3 P 0\n"
     ]
    }
   ],
   "source": [
    "stringNumber1 = 3.14\n",
    "\n",
    "stringNumber2 = 0\n",
    "\n",
    "droidName = 'C %d P %d' % (stringNumber1,stringNumber2)      #tuple used for multiple format sequence\n",
    "\n",
    "print(droidName)"
   ]
  },
  {
   "cell_type": "markdown",
   "metadata": {},
   "source": [
    "### repr()\n",
    "- represents the 'string' \n",
    "#### \"as is\""
   ]
  },
  {
   "cell_type": "code",
   "execution_count": 12,
   "metadata": {},
   "outputs": [
    {
     "name": "stdout",
     "output_type": "stream",
     "text": [
      "Help on built-in function repr in module builtins:\n",
      "\n",
      "repr(obj, /)\n",
      "    Return the canonical string representation of the object.\n",
      "    \n",
      "    For many object types, including most builtins, eval(repr(obj)) == obj.\n",
      "\n"
     ]
    }
   ],
   "source": [
    "help(repr)"
   ]
  },
  {
   "cell_type": "code",
   "execution_count": 132,
   "metadata": {},
   "outputs": [
    {
     "name": "stdout",
     "output_type": "stream",
     "text": [
      "\t 42\n"
     ]
    },
    {
     "data": {
      "text/plain": [
       "\"'\\\\t 42'\""
      ]
     },
     "execution_count": 132,
     "metadata": {},
     "output_type": "execute_result"
    }
   ],
   "source": [
    "print('\\t 42')\n",
    "\n",
    "repr('\\t 42')"
   ]
  },
  {
   "cell_type": "markdown",
   "metadata": {},
   "source": [
    "## debugging\n",
    "\n",
    "#### What to do when a program is provided unintended arguments"
   ]
  },
  {
   "cell_type": "code",
   "execution_count": 135,
   "metadata": {},
   "outputs": [
    {
     "name": "stdout",
     "output_type": "stream",
     "text": [
      "0\n"
     ]
    },
    {
     "ename": "IndexError",
     "evalue": "string index out of range",
     "output_type": "error",
     "traceback": [
      "\u001b[1;31m---------------------------------------------------------------------------\u001b[0m",
      "\u001b[1;31mIndexError\u001b[0m                                Traceback (most recent call last)",
      "\u001b[1;32m<ipython-input-135-bce1529336f8>\u001b[0m in \u001b[0;36m<module>\u001b[1;34m()\u001b[0m\n\u001b[0;32m      4\u001b[0m \u001b[1;33m\u001b[0m\u001b[0m\n\u001b[0;32m      5\u001b[0m \u001b[1;31m#stringExample[0] has len() == 0 or noS 'characters' so any index is out of range\u001b[0m\u001b[1;33m\u001b[0m\u001b[1;33m\u001b[0m\u001b[0m\n\u001b[1;32m----> 6\u001b[1;33m \u001b[0mstringExample\u001b[0m\u001b[1;33m[\u001b[0m\u001b[1;36m0\u001b[0m\u001b[1;33m]\u001b[0m    \u001b[1;31m#IndexError: string index out of range\u001b[0m\u001b[1;33m\u001b[0m\u001b[0m\n\u001b[0m",
      "\u001b[1;31mIndexError\u001b[0m: string index out of range"
     ]
    }
   ],
   "source": [
    "stringExample = ''\n",
    "\n",
    "print(len(stringExample))  #stringExample has len() --> 0\n",
    "\n",
    "#stringExample[0] has len() == 0 or noS 'characters' so any index is out of range\n",
    "stringExample[0]    #IndexError: string index out of range"
   ]
  },
  {
   "cell_type": "code",
   "execution_count": 95,
   "metadata": {},
   "outputs": [
    {
     "name": "stdout",
     "output_type": "stream",
     "text": [
      "Enter anything: \n"
     ]
    },
    {
     "ename": "IndexError",
     "evalue": "string index out of range",
     "output_type": "error",
     "traceback": [
      "\u001b[1;31m---------------------------------------------------------------------------\u001b[0m",
      "\u001b[1;31mIndexError\u001b[0m                                Traceback (most recent call last)",
      "\u001b[1;32m<ipython-input-95-1a0e6c5bd9b5>\u001b[0m in \u001b[0;36m<module>\u001b[1;34m()\u001b[0m\n\u001b[0;32m      7\u001b[0m     \u001b[0minputString\u001b[0m \u001b[1;33m=\u001b[0m \u001b[0minput\u001b[0m\u001b[1;33m(\u001b[0m\u001b[1;34m'Enter anything: '\u001b[0m\u001b[1;33m)\u001b[0m\u001b[1;33m\u001b[0m\u001b[0m\n\u001b[0;32m      8\u001b[0m \u001b[1;33m\u001b[0m\u001b[0m\n\u001b[1;32m----> 9\u001b[1;33m     \u001b[1;32mif\u001b[0m \u001b[0minputString\u001b[0m\u001b[1;33m[\u001b[0m\u001b[1;36m0\u001b[0m\u001b[1;33m]\u001b[0m \u001b[1;33m==\u001b[0m \u001b[1;34m'#'\u001b[0m\u001b[1;33m:\u001b[0m\u001b[1;33m\u001b[0m\u001b[0m\n\u001b[0m\u001b[0;32m     10\u001b[0m         \u001b[1;32mcontinue\u001b[0m\u001b[1;33m\u001b[0m\u001b[0m\n\u001b[0;32m     11\u001b[0m     \u001b[1;32melif\u001b[0m \u001b[0minputString\u001b[0m\u001b[1;33m.\u001b[0m\u001b[0mlower\u001b[0m\u001b[1;33m(\u001b[0m\u001b[1;33m)\u001b[0m \u001b[1;33m==\u001b[0m \u001b[1;34m'done'\u001b[0m\u001b[1;33m:\u001b[0m\u001b[1;33m\u001b[0m\u001b[0m\n",
      "\u001b[1;31mIndexError\u001b[0m: string index out of range"
     ]
    }
   ],
   "source": [
    "# If the user just selects [enter] - a len() --> 0 'string' is returned\n",
    "# inputString[0] --> can not return a value\n",
    "# this produces an error \n",
    "# IndexError: string index out of range\n",
    "\n",
    "while True:\n",
    "    \n",
    "    inputString = input('Enter anything: ')\n",
    "    \n",
    "    if inputString[0] == '#':           ## inputString[0] --> can not return a value\n",
    "        continue\n",
    "    elif inputString.lower() == 'done':\n",
    "        break\n",
    "        \n",
    "    else:\n",
    "        print(inputString)"
   ]
  },
  {
   "cell_type": "markdown",
   "metadata": {},
   "source": [
    "### Error handling - startswith('') method - conditional statement"
   ]
  },
  {
   "cell_type": "code",
   "execution_count": null,
   "metadata": {},
   "outputs": [
    {
     "name": "stdout",
     "output_type": "stream",
     "text": [
      "Enter anything: \n",
      "Enter anything: done\n",
      "Enter anything: done\n",
      "Enter anything: done\n"
     ]
    }
   ],
   "source": [
    "while True:\n",
    "    \n",
    "    inputString = input('Enter anything: ')\n",
    "    \n",
    "    if inputString.startswith(''):                 #.startswith('') will return True if [enter] is selected\n",
    "        continue\n",
    "        \n",
    "    elif inputString[0] == '#':\n",
    "        continue\n",
    "    elif inputString.lower() == 'done':\n",
    "        break\n",
    "        \n",
    "    else:\n",
    "        print(inputString)"
   ]
  },
  {
   "cell_type": "markdown",
   "metadata": {},
   "source": [
    "### Error handling - Guardian pattern - conditional statement"
   ]
  },
  {
   "cell_type": "code",
   "execution_count": 136,
   "metadata": {},
   "outputs": [
    {
     "name": "stdout",
     "output_type": "stream",
     "text": [
      "Enter anything: \n",
      "\n",
      "Enter anything: #ddd\n",
      "Enter anything: done\n"
     ]
    }
   ],
   "source": [
    "#Guardian pattern to short circuit before inputString[index] attempts to access the empty 'string'\n",
    "\n",
    "while True:\n",
    "    \n",
    "    inputString = input('Enter anything: ')\n",
    "    \n",
    "    if len(inputString) > 0 and inputString[0] == '#':    #guardian pattern will short circuit before - inputString[index]\n",
    "        continue                                          #guarantees atleast 1 character in 'string'\n",
    "    elif inputString.lower() == 'done':\n",
    "        break\n",
    "        \n",
    "    else:\n",
    "        print(inputString)"
   ]
  },
  {
   "cell_type": "markdown",
   "metadata": {},
   "source": [
    "## use cases"
   ]
  },
  {
   "cell_type": "markdown",
   "metadata": {},
   "source": [
    "### search for substring in string"
   ]
  },
  {
   "cell_type": "code",
   "execution_count": 4,
   "metadata": {},
   "outputs": [
    {
     "name": "stdout",
     "output_type": "stream",
     "text": [
      "Panchromatic image selection: p22001919\n"
     ]
    }
   ],
   "source": [
    "imageA = \"p22001919\"\n",
    "imageB = \"m2145463\"\n",
    "\n",
    "imageSearch = imageA\n",
    "if imageSearch[0].lower() == \"p\":\n",
    "    print('Panchromatic image selection:', imageSearch)\n",
    "    \n",
    "elif imageSearch[0].lower() == \"m\":\n",
    "    print('Multispectral image selection:', imageSearch)\n",
    "    \n",
    "else:\n",
    "    print('Not a match, try again tomorrow:', iimageSearchmageA)"
   ]
  },
  {
   "cell_type": "code",
   "execution_count": 34,
   "metadata": {},
   "outputs": [
    {
     "name": "stdout",
     "output_type": "stream",
     "text": [
      "Quote:\t\t\t\t Time is an illusion. Lunchtime doubly so\n",
      "'i' next index:\t\t\t 1\n",
      "'i' next index:\t\t\t 5\n",
      "'i' next index:\t\t\t 11\n",
      "'i' next index:\t\t\t 16\n",
      "'i' next index:\t\t\t 27\n"
     ]
    }
   ],
   "source": [
    "####\n",
    "\n",
    "quote = 'Time is an illusion. Lunchtime doubly so'\n",
    "print('Quote:\\t\\t\\t\\t',quote)\n",
    "\n",
    "#print(\"'i' first index in 'Quote':\\t\",quote.find('i'))\n",
    "\n",
    "locationOfLetter = quote.find('i')\n",
    "while locationOfLetter !=-1:               # will search until 'i' is not found - return [-1]\n",
    "    \n",
    "\n",
    "    print(\"'i' next index:\\t\\t\\t\",locationOfLetter)\n",
    "    \n",
    "    locationOfLetter = quote.find('i',locationOfLetter+1)"
   ]
  },
  {
   "cell_type": "markdown",
   "metadata": {},
   "source": [
    "### `replace characters` in a `string` (must `return new string`)\n",
    "'string's are not mutable"
   ]
  },
  {
   "cell_type": "code",
   "execution_count": null,
   "metadata": {},
   "outputs": [],
   "source": [
    "# Replace '0's with '1's\n",
    "\n",
    "studentID = '100200440'\n",
    "newStudentID = ''\n",
    "\n",
    "for currentNumber in studentID:\n",
    "    \n",
    "    if currentNumber == '0':\n",
    "        newStudentID += '1'\n",
    "        \n",
    "    else:\n",
    "        newStudentID += currentNumber\n",
    "        \n",
    "print('Old ID:',studentID,'\\nNew ID:',newStudentID)"
   ]
  },
  {
   "cell_type": "markdown",
   "metadata": {},
   "source": [
    "## search for a type"
   ]
  },
  {
   "cell_type": "code",
   "execution_count": 17,
   "metadata": {},
   "outputs": [
    {
     "name": "stdout",
     "output_type": "stream",
     "text": [
      "Enter a student ID [numbers only]: 2a\n",
      "Numbers only\n",
      "Enter a student ID [numbers only]: 22\n",
      "Numbers only\n",
      "Enter a student ID [numbers only]: Alex\n"
     ]
    }
   ],
   "source": [
    "# search for 'string' - error handling - indefinite infinite loop\n",
    "\n",
    "while True:\n",
    "    studentName = input('Enter a student ID [numbers only]: ')\n",
    "    \n",
    "    if studentName.isalpha():\n",
    "        break\n",
    "    else:\n",
    "        print('Numbers only')"
   ]
  },
  {
   "cell_type": "code",
   "execution_count": 18,
   "metadata": {},
   "outputs": [
    {
     "name": "stdout",
     "output_type": "stream",
     "text": [
      "Enter a student ID [numbers only]: 3.1\n",
      "Numbers only\n",
      "Enter a student ID [numbers only]: 2\n"
     ]
    }
   ],
   "source": [
    "# search for number - error handling - indefinite infinite loop\n",
    "# must be int\n",
    "\n",
    "while True:\n",
    "    studentID = input('Enter a student ID [numbers only]: ')\n",
    "    \n",
    "    if studentID.isdigit():\n",
    "        break\n",
    "    else:\n",
    "        print('Numbers only')"
   ]
  },
  {
   "cell_type": "markdown",
   "metadata": {},
   "source": [
    "## print each word in a 'string'"
   ]
  },
  {
   "cell_type": "code",
   "execution_count": 36,
   "metadata": {},
   "outputs": [
    {
     "name": "stdout",
     "output_type": "stream",
     "text": [
      "they\n",
      "stumble\n",
      "who\n",
      "run\n",
      "fast\n"
     ]
    }
   ],
   "source": [
    "quote = \"they stumble who run fast\"\n",
    "\n",
    "spaceIndex = quote.find(' ')\n",
    "\n",
    "print(quote[:spaceIndex])\n",
    "\n",
    "while spaceIndex >= 0:                              # or - while space_index != -1:\n",
    "    \n",
    "    priorSpaceIndex = spaceIndex\n",
    "    spaceIndex = quote.find(' ',spaceIndex + 1)     #.find('what to find',startHere,endHere)\n",
    "\n",
    "    if spaceIndex == -1:\n",
    "        print(quote[priorSpaceIndex + 1 : ])        #account for [-1] being returned and causing splice to disregard last 'char'\n",
    "    else:\n",
    "        print(quote[priorSpaceIndex + 1 : spaceIndex])#priorSpaceIndex + 1 to begin the splice after ' '\n",
    "                                                      #after [-1] is returned - spaceIndex is [-1] and the end splice excludes it"
   ]
  },
  {
   "cell_type": "markdown",
   "metadata": {},
   "source": [
    "# Exercise\n",
    "Exercise 5: Take the following Python code that stores a string:\n",
    "\n",
    "str = 'X-DSPAM-Confidence: 0.8475'\n",
    "\n",
    "Use find and string slicing to extract the portion of the string after the colon character and then use the float function to convert the extracted string into a floating point number.\n",
    "\n",
    "Exercise 6: Read the documentation of the string methods at https://docs.python.org/library/stdtypes.html#string-methods You might want to experiment with some of them to make sure you understand how they work. strip and replace are particularly useful.\n",
    "\n",
    "The documentation uses a syntax that might be confusing. For example, in find(sub[, start[, end]]), the brackets indicate optional arguments. So sub is required, but start is optional, and if you include start, then end is optional."
   ]
  },
  {
   "cell_type": "code",
   "execution_count": 6,
   "metadata": {},
   "outputs": [
    {
     "name": "stdout",
     "output_type": "stream",
     "text": [
      " 0.8475\n",
      "0.8475\n",
      "0.8475\n"
     ]
    }
   ],
   "source": [
    "str = 'X-DSPAM-Confidence: 0.8475'\n",
    "\n",
    "colognFind = str.find(':')\n",
    "\n",
    "print(str[colognFind+1:])               #colognFind +1 to return 'substring' after colognFind index\n",
    "                                        # ' ' space is included\n",
    "print(str[colognFind+1:].strip())       #eliminate ' ' space\n",
    "\n",
    "# can also convert number to float and it will get rid of space\n",
    "\n",
    "newFloat = float(str[colognFind+1:])\n",
    "print(newFloat)"
   ]
  }
 ],
 "metadata": {
  "kernelspec": {
   "display_name": "Python 3",
   "language": "python",
   "name": "python3"
  },
  "language_info": {
   "codemirror_mode": {
    "name": "ipython",
    "version": 3
   },
   "file_extension": ".py",
   "mimetype": "text/x-python",
   "name": "python",
   "nbconvert_exporter": "python",
   "pygments_lexer": "ipython3",
   "version": "3.7.0"
  }
 },
 "nbformat": 4,
 "nbformat_minor": 2
}
