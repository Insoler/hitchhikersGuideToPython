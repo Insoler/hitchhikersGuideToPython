{
 "cells": [
  {
   "cell_type": "markdown",
   "metadata": {},
   "source": [
    "# `Python`\n",
    "## Data Structures\n",
    " \n",
    " <img src=\"pythonLogo.png\" height=\"20%\" width=\"20%\"/>"
   ]
  },
  {
   "cell_type": "markdown",
   "metadata": {},
   "source": [
    "# `abstract data type`\n",
    "- an abstract construct of a data type\n",
    "\n",
    "# `data structure`\n",
    "- an implementation of an abtract data type\n",
    "- typically constructed using a class object\n",
    "- operations of data structure are class methods\n"
   ]
  },
  {
   "cell_type": "markdown",
   "metadata": {},
   "source": [
    "# stack - end is top"
   ]
  },
  {
   "cell_type": "code",
   "execution_count": null,
   "metadata": {},
   "outputs": [],
   "source": [
    "# python primitive construct list() will be used for implementation\n",
    "# end of list is considered top of stack\n",
    "# - push pushes to the end of the stack\n",
    "# - pop pops from the end of the stack\n",
    "# beggining of list is considered base of stack"
   ]
  },
  {
   "cell_type": "code",
   "execution_count": 78,
   "metadata": {},
   "outputs": [],
   "source": [
    "class Stack():\n",
    "    def __init__(self):\n",
    "        self.elements = []\n",
    "    \n",
    "    def push(self,element):\n",
    "        self.elements.append(element)\n",
    "        \n",
    "    def pop(self):\n",
    "        return self.elements.pop()\n",
    "    \n",
    "    def peek(self):\n",
    "        # error check for empty stack\n",
    "        if self.isEmpty():\n",
    "            return('Empty stack')\n",
    "        \n",
    "        #return self.elements[-1]\n",
    "        return self.elements[len(self.elements)-1]\n",
    "    \n",
    "    def isEmpty(self):\n",
    "        return self.elements == []\n",
    "    \n",
    "    def size(self):\n",
    "        return len(self.elements)"
   ]
  },
  {
   "cell_type": "code",
   "execution_count": 79,
   "metadata": {},
   "outputs": [],
   "source": [
    "stackA = Stack()"
   ]
  },
  {
   "cell_type": "code",
   "execution_count": 80,
   "metadata": {},
   "outputs": [
    {
     "name": "stdout",
     "output_type": "stream",
     "text": [
      "True\n"
     ]
    }
   ],
   "source": [
    "print(stackA.isEmpty())"
   ]
  },
  {
   "cell_type": "code",
   "execution_count": 81,
   "metadata": {},
   "outputs": [],
   "source": [
    "stackA.push('onomatopoeia')"
   ]
  },
  {
   "cell_type": "code",
   "execution_count": 82,
   "metadata": {},
   "outputs": [
    {
     "name": "stdout",
     "output_type": "stream",
     "text": [
      "onomatopoeia\n"
     ]
    }
   ],
   "source": [
    "print(stackA.pop())"
   ]
  },
  {
   "cell_type": "code",
   "execution_count": 83,
   "metadata": {},
   "outputs": [
    {
     "name": "stdout",
     "output_type": "stream",
     "text": [
      "Empty stack\n"
     ]
    }
   ],
   "source": [
    "print(stackA.peek())"
   ]
  },
  {
   "cell_type": "code",
   "execution_count": 84,
   "metadata": {},
   "outputs": [
    {
     "name": "stdout",
     "output_type": "stream",
     "text": [
      "0\n"
     ]
    }
   ],
   "source": [
    "print(stackA.size())"
   ]
  },
  {
   "cell_type": "code",
   "execution_count": 85,
   "metadata": {},
   "outputs": [
    {
     "name": "stdout",
     "output_type": "stream",
     "text": [
      "(1, 2)\n"
     ]
    }
   ],
   "source": [
    "stackA.push((1,2))\n",
    "\n",
    "print(stackA.peek())"
   ]
  },
  {
   "cell_type": "markdown",
   "metadata": {},
   "source": [
    "# stack - beggining is top"
   ]
  },
  {
   "cell_type": "code",
   "execution_count": 1,
   "metadata": {},
   "outputs": [],
   "source": [
    "# python primitive construct list() will be used for implementation\n",
    "# BEGGINING of list is considered top of stack\n",
    "# - push pushes to the BEGGINING of the stack\n",
    "# - pop pops from the BEGGINING of the stack\n",
    "# END of list is considered base of stack"
   ]
  },
  {
   "cell_type": "code",
   "execution_count": 3,
   "metadata": {},
   "outputs": [],
   "source": [
    "class Stack():\n",
    "    def __init__(self):\n",
    "        self.elements = []\n",
    "    \n",
    "    def push(self,element):\n",
    "        self.elements.insert(0,element) # insert element at index 0 for top\n",
    "        \n",
    "    def pop(self):\n",
    "        return self.elements.pop(0)     # pop index 0 for top\n",
    "    \n",
    "    def peek(self):\n",
    "        # error check for empty stack\n",
    "        if self.isEmpty():\n",
    "            return('Empty stack')\n",
    "        \n",
    "        return self.elements[0]         # peek index 0 for top\n",
    "    \n",
    "    def isEmpty(self):\n",
    "        return self.elements == []\n",
    "    \n",
    "    def size(self):\n",
    "        return len(self.elements)"
   ]
  },
  {
   "cell_type": "code",
   "execution_count": 4,
   "metadata": {},
   "outputs": [],
   "source": [
    "stackA = Stack()"
   ]
  },
  {
   "cell_type": "code",
   "execution_count": 5,
   "metadata": {},
   "outputs": [
    {
     "name": "stdout",
     "output_type": "stream",
     "text": [
      "True\n"
     ]
    }
   ],
   "source": [
    "print(stackA.isEmpty())"
   ]
  },
  {
   "cell_type": "code",
   "execution_count": 6,
   "metadata": {},
   "outputs": [],
   "source": [
    "stackA.push('onomatopoeia')\n",
    "stackA.push(True)\n",
    "stackA.push(3.14)"
   ]
  },
  {
   "cell_type": "code",
   "execution_count": 7,
   "metadata": {},
   "outputs": [
    {
     "name": "stdout",
     "output_type": "stream",
     "text": [
      "3.14\n"
     ]
    }
   ],
   "source": [
    "print(stackA.pop())"
   ]
  },
  {
   "cell_type": "code",
   "execution_count": 8,
   "metadata": {},
   "outputs": [
    {
     "name": "stdout",
     "output_type": "stream",
     "text": [
      "True\n"
     ]
    }
   ],
   "source": [
    "print(stackA.peek())"
   ]
  },
  {
   "cell_type": "code",
   "execution_count": 9,
   "metadata": {},
   "outputs": [
    {
     "name": "stdout",
     "output_type": "stream",
     "text": [
      "2\n"
     ]
    }
   ],
   "source": [
    "print(stackA.size())"
   ]
  },
  {
   "cell_type": "code",
   "execution_count": 10,
   "metadata": {},
   "outputs": [
    {
     "name": "stdout",
     "output_type": "stream",
     "text": [
      "(1, 2)\n"
     ]
    }
   ],
   "source": [
    "stackA.push((1,2))\n",
    "\n",
    "print(stackA.peek())"
   ]
  },
  {
   "cell_type": "markdown",
   "metadata": {},
   "source": [
    "# note\n",
    "This ability to change the physical implementation of an abstract data type while maintaining the logical characteristics is an example of abstraction at work. However, even though the stack will work either way, if we consider the performance of the two implementations, there is definitely a difference. Recall that the append and pop() operations were both O(1). This means that the first implementation will perform push and pop in constant time no matter how many items are on the stack. The performance of the second implementation suffers in that the insert(0) and pop(0) operations will both require O(n) for a stack of size n. Clearly, even though the implementations are logically equivalent, they would have very different timings when performing benchmark testing."
   ]
  },
  {
   "cell_type": "markdown",
   "metadata": {},
   "source": [
    "# queue - beggining is rear"
   ]
  },
  {
   "cell_type": "code",
   "execution_count": 86,
   "metadata": {},
   "outputs": [],
   "source": [
    "# python primitive construct list() will be used for implementation\n",
    "# BEGGINING of list is considered rear of queue\n",
    "# - enqueue adds element to the rear of the queue\n",
    "# - dequeue removes element from the front of the queue\n",
    "# END of list is considered front of stack"
   ]
  },
  {
   "cell_type": "code",
   "execution_count": 115,
   "metadata": {},
   "outputs": [],
   "source": [
    "class queue():\n",
    "    def __init__(self):\n",
    "        self.elements = []\n",
    "        \n",
    "    def isEmpty(self):\n",
    "        return self.elements == []\n",
    "    \n",
    "    def enqueue(self,element):\n",
    "        self.elements.insert(0,element)\n",
    "        \n",
    "    def dequeue(self):\n",
    "        return self.elements.pop()\n",
    "    \n",
    "    def size(self):\n",
    "        return len(self.elements)"
   ]
  },
  {
   "cell_type": "code",
   "execution_count": 116,
   "metadata": {},
   "outputs": [],
   "source": [
    "queueA = queue()"
   ]
  },
  {
   "cell_type": "code",
   "execution_count": 117,
   "metadata": {},
   "outputs": [
    {
     "name": "stdout",
     "output_type": "stream",
     "text": [
      "True\n"
     ]
    }
   ],
   "source": [
    "print(queueA.isEmpty())"
   ]
  },
  {
   "cell_type": "code",
   "execution_count": 118,
   "metadata": {},
   "outputs": [],
   "source": [
    "queueA.enqueue(3.14)"
   ]
  },
  {
   "cell_type": "code",
   "execution_count": 120,
   "metadata": {},
   "outputs": [
    {
     "name": "stdout",
     "output_type": "stream",
     "text": [
      "1\n"
     ]
    }
   ],
   "source": [
    "print(queueA.size())"
   ]
  },
  {
   "cell_type": "code",
   "execution_count": 121,
   "metadata": {},
   "outputs": [
    {
     "name": "stdout",
     "output_type": "stream",
     "text": [
      "3.14\n"
     ]
    }
   ],
   "source": [
    "print(queueA.dequeue())"
   ]
  },
  {
   "cell_type": "code",
   "execution_count": 122,
   "metadata": {},
   "outputs": [
    {
     "name": "stdout",
     "output_type": "stream",
     "text": [
      "True\n",
      "0\n"
     ]
    }
   ],
   "source": [
    "print(queueA.isEmpty())\n",
    "print(queueA.size())"
   ]
  },
  {
   "cell_type": "markdown",
   "metadata": {},
   "source": [
    "# priority que - lowest key is top (key,value) pairs"
   ]
  },
  {
   "cell_type": "code",
   "execution_count": 1,
   "metadata": {},
   "outputs": [],
   "source": [
    "# priority queue - key priority is front\n",
    "\n",
    "# python primitive construct list() will be used for implementation\n",
    "# lowest key in list of (key,value) pairs is considered front of queue\n",
    "# - .add() By priority adds element to the front of the queue\n",
    "# - .remove() By priority removes element from the front of the queue\n",
    "# highest key in list of (key,value) pairs is considered rear of stack"
   ]
  },
  {
   "cell_type": "code",
   "execution_count": 18,
   "metadata": {},
   "outputs": [],
   "source": [
    "class priorityQue():\n",
    "    def __init__(self):\n",
    "        self.elements = []\n",
    "        \n",
    "    def add(self,key,value):\n",
    "        self.elements.append((key,value))\n",
    "\n",
    "    def highest(self):\n",
    "        keyCheck = None\n",
    "        lowestIndex = None\n",
    "\n",
    "        for index in range(len(self.elements)):\n",
    "            if self.elements == []:\n",
    "                break\n",
    "            if keyCheck == None or self.elements[index][0] < keyCheck:\n",
    "                keyCheck = self.elements[index][0]\n",
    "                lowestIndex = index\n",
    "                #print(index)\n",
    "                #print(keyCheck)\n",
    "                #print(lowestIndex)\n",
    "            return self.elements[lowestIndex] # return the tuple(key,value) pair of highest priority - lowest key\n",
    "\n",
    "    def remove(self):                     # returns highest priority - lowest number\n",
    "        keyCheck = None\n",
    "        lowestIndex = None\n",
    "            \n",
    "        for index in range(len(self.elements)):\n",
    "            if self.elements == []:\n",
    "                break\n",
    "            if keyCheck == None or self.elements[index] < keyCheck:\n",
    "                keyCheck = self.elements[index]\n",
    "                lowestIndex = index\n",
    "                # print the index #print(index)\n",
    "                # print(keyCheck)\n",
    "                # print(lowestIndex)\n",
    "        return self.elements.pop(lowestIndex) # pop and  return the tuple(key,value) pair of highest priority - lowest key\n",
    "    \n",
    "    def isEmpty(self):\n",
    "        return self.elements == []\n",
    "    \n",
    "    def length(self):\n",
    "        return len(self.elements)"
   ]
  },
  {
   "cell_type": "code",
   "execution_count": 19,
   "metadata": {},
   "outputs": [],
   "source": [
    "landings = priorityQue()"
   ]
  },
  {
   "cell_type": "code",
   "execution_count": 20,
   "metadata": {},
   "outputs": [],
   "source": [
    "landings.add(2,'planeA')"
   ]
  },
  {
   "cell_type": "code",
   "execution_count": 21,
   "metadata": {},
   "outputs": [],
   "source": [
    "landings.add(0,'PlaneB')"
   ]
  },
  {
   "cell_type": "code",
   "execution_count": 22,
   "metadata": {},
   "outputs": [
    {
     "name": "stdout",
     "output_type": "stream",
     "text": [
      "(0, 'PlaneB')\n"
     ]
    }
   ],
   "source": [
    "print(landings.remove())"
   ]
  },
  {
   "cell_type": "code",
   "execution_count": 23,
   "metadata": {},
   "outputs": [
    {
     "name": "stdout",
     "output_type": "stream",
     "text": [
      "False\n"
     ]
    }
   ],
   "source": [
    "print(landings.isEmpty())"
   ]
  },
  {
   "cell_type": "code",
   "execution_count": 24,
   "metadata": {},
   "outputs": [
    {
     "name": "stdout",
     "output_type": "stream",
     "text": [
      "1\n"
     ]
    }
   ],
   "source": [
    "print(landings.length())"
   ]
  },
  {
   "cell_type": "code",
   "execution_count": 25,
   "metadata": {},
   "outputs": [
    {
     "name": "stdout",
     "output_type": "stream",
     "text": [
      "(2, 'planeA')\n"
     ]
    }
   ],
   "source": [
    "print(landings.highest())"
   ]
  },
  {
   "cell_type": "code",
   "execution_count": 26,
   "metadata": {},
   "outputs": [
    {
     "name": "stdout",
     "output_type": "stream",
     "text": [
      "(2, 'planeA')\n"
     ]
    }
   ],
   "source": [
    "print(landings.remove())"
   ]
  },
  {
   "cell_type": "code",
   "execution_count": 27,
   "metadata": {},
   "outputs": [
    {
     "name": "stdout",
     "output_type": "stream",
     "text": [
      "True\n"
     ]
    }
   ],
   "source": [
    "print(landings.isEmpty())"
   ]
  },
  {
   "cell_type": "code",
   "execution_count": 28,
   "metadata": {},
   "outputs": [
    {
     "name": "stdout",
     "output_type": "stream",
     "text": [
      "0\n"
     ]
    }
   ],
   "source": [
    "print(landings.length())"
   ]
  },
  {
   "cell_type": "markdown",
   "metadata": {},
   "source": [
    "# linked list - beggining is front"
   ]
  },
  {
   "cell_type": "code",
   "execution_count": null,
   "metadata": {},
   "outputs": [],
   "source": [
    "class linkedList():\n",
    "    def __init__(self,initialData):\n",
    "        self.data = initialData\n",
    "        self.next = None\n",
    "        \n",
    "    def getData(self):\n",
    "        return self.data\n",
    "    \n",
    "    def getNext(self):\n",
    "        return self.next\n",
    "    \n",
    "    def setData(self,inputData):\n",
    "        self.data = inputData\n",
    "        \n",
    "    def setNext(self,inputNext):\n",
    "        self.next = input.Next"
   ]
  }
 ],
 "metadata": {
  "kernelspec": {
   "display_name": "Python 3",
   "language": "python",
   "name": "python3"
  },
  "language_info": {
   "codemirror_mode": {
    "name": "ipython",
    "version": 3
   },
   "file_extension": ".py",
   "mimetype": "text/x-python",
   "name": "python",
   "nbconvert_exporter": "python",
   "pygments_lexer": "ipython3",
   "version": "3.7.3"
  }
 },
 "nbformat": 4,
 "nbformat_minor": 2
}
