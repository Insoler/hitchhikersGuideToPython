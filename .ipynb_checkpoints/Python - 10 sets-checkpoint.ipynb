{
 "cells": [
  {
   "cell_type": "markdown",
   "metadata": {},
   "source": [
    "# `Python`\n",
    "## Sets\n",
    " \n",
    " <img src=\"pythonLogo.png\" height=\"20%\" width=\"20%\"/>"
   ]
  },
  {
   "cell_type": "markdown",
   "metadata": {},
   "source": [
    "### sets are a type of `data-structure`\n",
    "\n",
    "- collections\n",
    "- unordered\n",
    "- zero or more immutable Python data objects\n",
    "- heterogeneous\n",
    "- no duplicates\n",
    "\n",
    "Sets do not allow duplicates and are written as comma-delimited values enclosed in curly braces. \n",
    "The empty set is represented by set(). Sets are heterogeneous, and the collection can be assigned to a variable as below."
   ]
  },
  {
   "cell_type": "markdown",
   "metadata": {},
   "source": [
    "# `initialising` empty `set`s"
   ]
  },
  {
   "cell_type": "markdown",
   "metadata": {},
   "source": [
    "# set()"
   ]
  },
  {
   "cell_type": "code",
   "execution_count": 11,
   "metadata": {},
   "outputs": [
    {
     "name": "stdout",
     "output_type": "stream",
     "text": [
      "<class 'set'>\n",
      "set()\n"
     ]
    }
   ],
   "source": [
    "# an empty tuple literal\n",
    "\n",
    "print(type(set()))\n",
    "\n",
    "print(set())"
   ]
  },
  {
   "cell_type": "markdown",
   "metadata": {},
   "source": [
    "# set literal"
   ]
  },
  {
   "cell_type": "code",
   "execution_count": 23,
   "metadata": {},
   "outputs": [
    {
     "name": "stdout",
     "output_type": "stream",
     "text": [
      "{True, 42, 3.14}\n"
     ]
    }
   ],
   "source": [
    "setA = set({True,42,3.14})\n",
    "\n",
    "print(setA)"
   ]
  },
  {
   "cell_type": "markdown",
   "metadata": {},
   "source": [
    "# set operations"
   ]
  },
  {
   "cell_type": "code",
   "execution_count": 24,
   "metadata": {},
   "outputs": [],
   "source": [
    "setA = set({True,42,3.14})\n",
    "\n",
    "otherset = set({'String',42})"
   ]
  },
  {
   "cell_type": "code",
   "execution_count": 22,
   "metadata": {},
   "outputs": [
    {
     "name": "stdout",
     "output_type": "stream",
     "text": [
      "True\n",
      "3\n",
      "{True, 3.14, 42, 'String'}\n",
      "{42}\n",
      "{True, 3.14}\n",
      "False\n",
      "True\n"
     ]
    }
   ],
   "source": [
    "# membership # Set membership\n",
    "# 42 in setA\n",
    "\n",
    "print(42 in setA)\n",
    "\n",
    "\n",
    "# length # Returns the cardinality of the set\n",
    "# len\n",
    "\n",
    "print(len(setA))\n",
    "\n",
    "\n",
    "# | # Returns a new set with all elements from both sets (union)\n",
    "# aset | otherset\n",
    "\n",
    "print(setA | otherset)\n",
    "\n",
    "\n",
    "# & # Returns a new set with only those elements common to both sets (intersection)\n",
    "# setA & otherset\n",
    "\n",
    "print(setA & otherset)\n",
    "\n",
    "\n",
    "# - # Returns a new set with all items from the first set not in second\n",
    "# setA - otherset\n",
    "\n",
    "print(setA - otherset)\n",
    "\n",
    "\n",
    "#<=  # Asks whether all elements of the first set are in the second\n",
    "# setA <= otherset\n",
    "\n",
    "print(setA <= otherset)\n",
    "print(setA <= setA)"
   ]
  },
  {
   "cell_type": "markdown",
   "metadata": {},
   "source": [
    "# set methods"
   ]
  },
  {
   "cell_type": "code",
   "execution_count": 32,
   "metadata": {},
   "outputs": [],
   "source": [
    "setA = set({True,42,3.14})\n",
    "\n",
    "otherset = set({'String',42})\n",
    "\n",
    "item = '**item added**'"
   ]
  },
  {
   "cell_type": "code",
   "execution_count": 33,
   "metadata": {},
   "outputs": [
    {
     "name": "stdout",
     "output_type": "stream",
     "text": [
      "{True, 3.14, 42, 'String'}\n",
      "{42}\n",
      "{True, 3.14}\n",
      "False\n",
      "{True, 42, 3.14, '**item added**'}\n",
      "True\n",
      "set()\n"
     ]
    }
   ],
   "source": [
    "# union\n",
    "# Returns a new set with all elements from both sets\n",
    "# setA.union(otherset)\n",
    "\n",
    "print(setA.union(otherset))\n",
    "\n",
    "\n",
    "# intersection\n",
    "# Returns a new set with only those elements common to both sets\n",
    "# setA.intersection(otherset)\n",
    "\n",
    "print(setA.intersection(otherset))\n",
    "\n",
    "\n",
    "# difference\n",
    "# Returns a new set with all items from first set not in second\n",
    "# setA.difference(otherset)\n",
    "\n",
    "print(setA.difference(otherset))\n",
    "\n",
    "\n",
    "# issubset\n",
    "# Asks whether all elements of one set are in the other\n",
    "# setA.issubset(otherset)\n",
    "\n",
    "print(setA.issubset(otherset))\n",
    "\n",
    "\n",
    "# add\n",
    "# Adds item to the set\n",
    "# setA.add(item)\n",
    "\n",
    "setA.add(item)\n",
    "print(setA)\n",
    "\n",
    "# remove\n",
    "# Removes item from the set\n",
    "# setA.remove(item)\n",
    "\n",
    "setA.remove(item)\n",
    "\n",
    "\n",
    "# pop\n",
    "# Removes an arbitrary element from the set\n",
    "# setA.pop()\n",
    "\n",
    "print(setA.pop())\n",
    "\n",
    "\n",
    "# clear\n",
    "# Removes all elements from the set\n",
    "# setA.clear()\n",
    "\n",
    "setA.clear()\n",
    "print(setA)"
   ]
  },
  {
   "cell_type": "code",
   "execution_count": null,
   "metadata": {},
   "outputs": [],
   "source": [
    "# operations and methods"
   ]
  },
  {
   "cell_type": "code",
   "execution_count": 5,
   "metadata": {},
   "outputs": [],
   "source": [
    "mySet = set({True,4.5,42,3.14})"
   ]
  },
  {
   "cell_type": "code",
   "execution_count": 6,
   "metadata": {},
   "outputs": [
    {
     "data": {
      "text/plain": [
       "set()"
      ]
     },
     "execution_count": 6,
     "metadata": {},
     "output_type": "execute_result"
    }
   ],
   "source": [
    "mySet\n",
    "# {False, 4.5, 3, 6, 'cat'}\n",
    "yourSet = {99,3,100}\n",
    "\n",
    "\n",
    "mySet.union(yourSet)\n",
    "# {False, 4.5, 3, 100, 6, 'cat', 99}\n",
    "mySet | yourSet\n",
    "# {False, 4.5, 3, 100, 6, 'cat', 99}\n",
    "\n",
    "\n",
    "mySet.intersection(yourSet)\n",
    "# {3}\n",
    "mySet & yourSet\n",
    "# {3}\n",
    "\n",
    "\n",
    "mySet.difference(yourSet)\n",
    "# {False, 4.5, 6, 'cat'}\n",
    "mySet - yourSet\n",
    "# {False, 4.5, 6, 'cat'}\n",
    "\n",
    "\n",
    "{3,100}.issubset(yourSet)\n",
    "# True\n",
    "{3,100}<=yourSet\n",
    "# True\n",
    "\n",
    "\n",
    "mySet.add(\"house\")\n",
    "mySet\n",
    "# {False, 4.5, 3, 6, 'house', 'cat'}\n",
    "mySet.remove(4.5)\n",
    "mySet\n",
    "# {False, 3, 6, 'house', 'cat'}\n",
    "\n",
    "\n",
    "mySet.pop()\n",
    "# False\n",
    "mySet\n",
    "# {3, 6, 'house', 'cat'}\n",
    "\n",
    "\n",
    "mySet.clear()\n",
    "mySet\n",
    "# set()\n"
   ]
  }
 ],
 "metadata": {
  "kernelspec": {
   "display_name": "Python 3",
   "language": "python",
   "name": "python3"
  },
  "language_info": {
   "codemirror_mode": {
    "name": "ipython",
    "version": 3
   },
   "file_extension": ".py",
   "mimetype": "text/x-python",
   "name": "python",
   "nbconvert_exporter": "python",
   "pygments_lexer": "ipython3",
   "version": "3.7.3"
  }
 },
 "nbformat": 4,
 "nbformat_minor": 2
}
