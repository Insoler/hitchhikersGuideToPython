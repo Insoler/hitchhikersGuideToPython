{
 "cells": [
  {
   "cell_type": "markdown",
   "metadata": {},
   "source": [
    "# Strings"
   ]
  },
  {
   "cell_type": "markdown",
   "metadata": {},
   "source": [
    "### Strings are sequences of characters"
   ]
  },
  {
   "cell_type": "markdown",
   "metadata": {},
   "source": [
    "### index bracket operator [ ]"
   ]
  },
  {
   "cell_type": "code",
   "execution_count": 11,
   "metadata": {},
   "outputs": [
    {
     "name": "stdout",
     "output_type": "stream",
     "text": [
      "s\n",
      "s\n"
     ]
    }
   ],
   "source": [
    "#A 'string' is a [sequence] of characters 's' 't' 'r' 'i' 'n' 'g'\n",
    "\n",
    "#Access a character by using [] bracket operator with [index]\n",
    "#Character 1--> in index sequence 0 --> \n",
    "\n",
    "\n",
    "character = 'string'[0]\n",
    "\n",
    "print(character)\n",
    "\n",
    "\n",
    "print('string'[0])\n",
    "\n",
    "\n",
    "#print('string'[6]) #Attempting to access an index passed any that exist - IndexError: string index out of range"
   ]
  },
  {
   "cell_type": "code",
   "execution_count": 7,
   "metadata": {},
   "outputs": [
    {
     "name": "stdout",
     "output_type": "stream",
     "text": [
      "s\n",
      "t\n",
      "r\n",
      "i\n",
      "n\n",
      "g\n",
      "\n",
      "s\n",
      "t\n",
      "r\n",
      "i\n",
      "n\n",
      "g\n"
     ]
    }
   ],
   "source": [
    "#A 'string' is a [sequence] of characters 's' 't' 'r' 'i' 'n' 'g'\n",
    "\n",
    "#Access a character by using [] bracket operator with [index]\n",
    "#Character 1--> in index sequence 0 --> \n",
    "\n",
    "\n",
    "stringExample = 'string'\n",
    "\n",
    "print(stringExample[0])\n",
    "print(stringExample[1])\n",
    "print(stringExample[2])\n",
    "print(stringExample[3])\n",
    "print(stringExample[4])\n",
    "print(stringExample[5])\n",
    "\n",
    "print()\n",
    "\n",
    "firstCharacter  = stringExample[0]\n",
    "secondCharacter = stringExample[1]\n",
    "thirdCharacter  = stringExample[2]\n",
    "fourthCharacter = stringExample[3]\n",
    "fifthCharacter  = stringExample[4]\n",
    "sixthCharacter  = stringExample[5]\n",
    "\n",
    "print(firstCharacter)\n",
    "print(secondCharacter)\n",
    "print(thirdCharacter)\n",
    "print(fourthCharacter)\n",
    "print(fifthCharacter)\n",
    "print(sixthCharacter)\n",
    "\n",
    "#print(stringExample[6]) #Attempting to access an index passed any that exist - IndexError: string index out of range"
   ]
  },
  {
   "cell_type": "code",
   "execution_count": 16,
   "metadata": {},
   "outputs": [
    {
     "name": "stdout",
     "output_type": "stream",
     "text": [
      "b\n",
      "l\n",
      "u\n",
      "e\n",
      "b\n",
      "e\n"
     ]
    }
   ],
   "source": [
    "#Index can be expressions (operands[variables and literals] & operators)\n",
    "#Index must be an integer\n",
    "\n",
    "word = 'blueberry'\n",
    "\n",
    "print(word[0])\n",
    "print(word[0+1])\n",
    "\n",
    "firstIndex = 0\n",
    "print(word[firstIndex + 2])\n",
    "\n",
    "print(word[int(6/2)])\n",
    "\n",
    "print(word[2*2])\n",
    "\n",
    "print(word[(5**0)*5])\n",
    "\n",
    "\n",
    "#word[0.0]                      #TypeError: string indices must be integers"
   ]
  },
  {
   "cell_type": "markdown",
   "metadata": {},
   "source": [
    "### Length function len()"
   ]
  },
  {
   "cell_type": "code",
   "execution_count": 32,
   "metadata": {},
   "outputs": [
    {
     "name": "stdout",
     "output_type": "stream",
     "text": [
      "12\n"
     ]
    }
   ],
   "source": [
    "stringExample = 'onomatopoeia'\n",
    "\n",
    "lengthStringExample = len(stringExample)\n",
    "\n",
    "print(lengthStringExample)"
   ]
  },
  {
   "cell_type": "code",
   "execution_count": 33,
   "metadata": {},
   "outputs": [
    {
     "data": {
      "text/plain": [
       "12"
      ]
     },
     "execution_count": 33,
     "metadata": {},
     "output_type": "execute_result"
    }
   ],
   "source": [
    "len('onomatopoeia')"
   ]
  },
  {
   "cell_type": "code",
   "execution_count": 36,
   "metadata": {},
   "outputs": [
    {
     "name": "stdout",
     "output_type": "stream",
     "text": [
      "e\n"
     ]
    }
   ],
   "source": [
    "#len() returns the number of characters\n",
    "#not the final index\n",
    "\n",
    "#final index is (numbers of characters -1)\n",
    "\n",
    "#characters    'o' 'n' 'e'\n",
    "#               1   2   3\n",
    "#                           length: 3\n",
    "\n",
    "#index         'o' 'n' 'e'\n",
    "#               0   1   2\n",
    "#                           final index: 2 (length-1)\n",
    "\n",
    "#reverse index 'o' 'n' 'e'\n",
    "#               -3   -2   -1\n",
    "#                           final index: -1\n",
    "#                           first index: -(amount of characters)\n",
    "\n",
    "stringExample = 'one'\n",
    "lengthString = len(stringExample)\n",
    "\n",
    "#print(stringExample[lengthString])  #results in error because length - is number of characters - not final index (numb char - 1)\n",
    "\n",
    "print(stringExample[lengthString-1])"
   ]
  },
  {
   "cell_type": "code",
   "execution_count": 21,
   "metadata": {},
   "outputs": [
    {
     "name": "stdout",
     "output_type": "stream",
     "text": [
      "a\n",
      "12\n",
      "o\n",
      "o\n"
     ]
    }
   ],
   "source": [
    "#End of index [-1]\n",
    "\n",
    "# -1 can also be used to access the end of index - counting downwards towards the first character\n",
    "\n",
    "stringExample = 'onomatopoeia'\n",
    "\n",
    "print(stringExample[-1])\n",
    "\n",
    "lengthStringExample = len(stringExample)\n",
    "print(lengthStringExample)                   #stringExample len() --> 12\n",
    "\n",
    "print(stringExample[-1*lengthStringExample]) # -1 * lengthStringExample --> -12 the first index counted backwards\n",
    "print(stringExample[-1*len(stringExample)])\n",
    "\n",
    "\n",
    "#print(stringExample[-13])                   #IndexError: string index out of range"
   ]
  },
  {
   "cell_type": "markdown",
   "metadata": {},
   "source": [
    "## Traversal of Strings with Loops\n",
    "#### Using loops to iterate through a string one character at a time (or sentences - one word at a time)\n",
    "#### Work sequentially, select each character in turn, do some computation, and continue until the end"
   ]
  },
  {
   "cell_type": "markdown",
   "metadata": {},
   "source": [
    "### Traversal - While loop"
   ]
  },
  {
   "cell_type": "code",
   "execution_count": 22,
   "metadata": {},
   "outputs": [
    {
     "name": "stdout",
     "output_type": "stream",
     "text": [
      "a\n",
      "p\n",
      "p\n",
      "l\n",
      "e\n",
      "s\n"
     ]
    }
   ],
   "source": [
    "### Traversal - While loop\n",
    "\n",
    "stringExample = 'apples'\n",
    "index = 0                          #iteration count - used as index to access characters\n",
    "\n",
    "while index < len(stringExample):              # < is used because len(stringExample) is out of index\n",
    "                                               # final index is len(StringExample) -1\n",
    "                                               # can use while index <= len(stringExample)-1:\n",
    "    currentCharacter = stringExample[index]\n",
    "    \n",
    "    print(currentCharacter)\n",
    "    \n",
    "    index += 1                    #update iteration variable - or else will run forever"
   ]
  },
  {
   "cell_type": "code",
   "execution_count": 23,
   "metadata": {},
   "outputs": [
    {
     "name": "stdout",
     "output_type": "stream",
     "text": [
      "l\n",
      "u\n",
      "e\n",
      "b\n",
      "e\n",
      "r\n",
      "r\n",
      "y\n"
     ]
    }
   ],
   "source": [
    "stringExample = 'blueberry'\n",
    "index = 1                          #iteration count - used as index to access characters\n",
    "                                   #Can begin at stringExample[1] - similar to stringExample[1:]\n",
    "\n",
    "while index < len(stringExample):              # < is used because len(stringExample) is out of index\n",
    "                                               # final index is len(StringExample) -1\n",
    "                                               # can use while index <= len(stringExample)-1:\n",
    "    currentCharacter = stringExample[index]\n",
    "    \n",
    "    print(currentCharacter)\n",
    "    \n",
    "    index += 1 "
   ]
  },
  {
   "cell_type": "markdown",
   "metadata": {},
   "source": [
    "Exercise 1: Write a while loop that starts at the last character in the string and works its way backwards to the first character in the string, printing each letter on a separate line, except backwards."
   ]
  },
  {
   "cell_type": "code",
   "execution_count": 25,
   "metadata": {},
   "outputs": [
    {
     "name": "stdout",
     "output_type": "stream",
     "text": [
      "g\n",
      "n\n",
      "i\n",
      "r\n",
      "t\n",
      "s\n"
     ]
    }
   ],
   "source": [
    "#Exercise 1\n",
    "\n",
    "stringExample = 'string'\n",
    "\n",
    "reverseIndex = -1\n",
    "finalCharacterReverse = (len(stringExample) * -1)     #iterating backwards begins -1 and ends -(amount of characters)\n",
    "\n",
    "while reverseIndex >= finalCharacterReverse:\n",
    "    \n",
    "    print(stringExample[reverseIndex])\n",
    "    \n",
    "    reverseIndex -= 1"
   ]
  },
  {
   "cell_type": "markdown",
   "metadata": {},
   "source": [
    "### Traversal - For loop"
   ]
  },
  {
   "cell_type": "code",
   "execution_count": 7,
   "metadata": {},
   "outputs": [
    {
     "name": "stdout",
     "output_type": "stream",
     "text": [
      "a\n",
      "p\n",
      "p\n",
      "l\n",
      "e\n",
      "s\n"
     ]
    }
   ],
   "source": [
    "### Traversal - For loop\n",
    "\n",
    "stringExample = 'apples'\n",
    "\n",
    "for currentCharacter in stringExample:\n",
    "    \n",
    "    print(currentCharacter)"
   ]
  },
  {
   "cell_type": "markdown",
   "metadata": {},
   "source": [
    "## String slices\n",
    "#### A slice is a segment of a string"
   ]
  },
  {
   "cell_type": "markdown",
   "metadata": {},
   "source": [
    "### [index:index]"
   ]
  },
  {
   "cell_type": "code",
   "execution_count": 32,
   "metadata": {},
   "outputs": [
    {
     "name": "stdout",
     "output_type": "stream",
     "text": [
      "characters: 13\n",
      "indexes: 12\n",
      "\n",
      "Optimus\n",
      "Prime\n"
     ]
    }
   ],
   "source": [
    "# Each slice can be acceces by specifying\n",
    "# beggining index --> end index (excluding end index)\n",
    "# including the first - excluding the last\n",
    "#                     end index == end character (since character is index -1) \n",
    "#                                  7th character is 6th index (if ending at 7th index - 6th index (7th character) is included)\n",
    "\n",
    "\n",
    "nameAutobot = 'Optimus Prime'\n",
    "print('characters:',len(nameAutobot))\n",
    "print('indexes:',len(nameAutobot)-1)\n",
    "print()\n",
    "\n",
    "\n",
    "firstName = nameAutobot[0:7]    # ends at [7] -->' ' (not included)\n",
    "print(firstName)\n",
    "                                # begin at [8] to skip ' ' space between words\n",
    "lastName = nameAutobot[8:13]    # nameAutobot[8:13] 13++ --> #can select out of index for end - and will still pring to end\n",
    "print(lastName)                   \n",
    "\n",
    "#lastName = nameAutobot[7:13]   #' ' space included\n",
    "#print(lastName)"
   ]
  },
  {
   "cell_type": "markdown",
   "metadata": {},
   "source": [
    "### [ : index]"
   ]
  },
  {
   "cell_type": "markdown",
   "metadata": {},
   "source": [
    "### [index : ]"
   ]
  },
  {
   "cell_type": "code",
   "execution_count": 34,
   "metadata": {},
   "outputs": [
    {
     "name": "stdout",
     "output_type": "stream",
     "text": [
      "Mega\n",
      "tron\n"
     ]
    }
   ],
   "source": [
    "# If the first index is omitted - slice starts from beggining of string\n",
    "# If second index is omitted - slice ends at end of string\n",
    "\n",
    "nameDecepticon = 'Megatron'\n",
    "\n",
    "firstName = nameDecepticon[:4]\n",
    "print(firstName)\n",
    "\n",
    "firstName = nameDecepticon[4:]\n",
    "print(firstName)"
   ]
  },
  {
   "cell_type": "markdown",
   "metadata": {},
   "source": [
    "### [index : index]\n",
    "index == index"
   ]
  },
  {
   "cell_type": "code",
   "execution_count": 35,
   "metadata": {},
   "outputs": [
    {
     "name": "stdout",
     "output_type": "stream",
     "text": [
      "''\n",
      "0\n"
     ]
    }
   ],
   "source": [
    "# If beggining index is >= ending index - result will be an empty string '' with len() == 0\n",
    "\n",
    "nameTransformer = 'Unicron'\n",
    "\n",
    "#nameToPrint = nameTransformer[8:2]\n",
    "nameToPrint = nameTransformer[2:2]\n",
    "\n",
    "print(\"'\"+ nameToPrint + \"'\")      #nameToPrint has value  --> ''\n",
    "print(len(nameToPrint))            #nameToPrint has length --> 0"
   ]
  },
  {
   "cell_type": "markdown",
   "metadata": {},
   "source": [
    "### [ : ]"
   ]
  },
  {
   "cell_type": "markdown",
   "metadata": {},
   "source": [
    "Exercise 2: Given that fruit is a string, what does fruit[:] mean?"
   ]
  },
  {
   "cell_type": "code",
   "execution_count": 36,
   "metadata": {},
   "outputs": [
    {
     "name": "stdout",
     "output_type": "stream",
     "text": [
      "Starscream\n"
     ]
    }
   ],
   "source": [
    "#Excercise 2\n",
    "\n",
    "nameTransformer = 'Starscream'\n",
    "\n",
    "nameToPrint = nameTransformer[:]               # [:] prints full string\n",
    "\n",
    "print(nameToPrint)"
   ]
  },
  {
   "cell_type": "markdown",
   "metadata": {},
   "source": [
    "## Strings are immutable\n",
    "### string[index] can not be used to change the characters in the string\n",
    "\n",
    "#### 'string' - is an (object) - evaluates to a value\n",
    "#### string[index] - (item) -  one value in sequence"
   ]
  },
  {
   "cell_type": "code",
   "execution_count": 50,
   "metadata": {},
   "outputs": [],
   "source": [
    "string = 'maryland'\n",
    "\n",
    "#string[0] = 'f'                # TypeError: 'str' object does not support item assignment\n",
    "\n",
    "characterInString = string[0]   # string[index] - evaluates to a value\n",
    "                                # can not be used to access or assign value"
   ]
  },
  {
   "cell_type": "markdown",
   "metadata": {},
   "source": [
    "### 'string' (s) are (immutable) - can not be changed"
   ]
  },
  {
   "cell_type": "markdown",
   "metadata": {},
   "source": [
    "### a new 'string' can be created - and assigned values\n",
    "\n",
    "#### can be assigned values of origional 'string' and new values for varation on origional 'string'"
   ]
  },
  {
   "cell_type": "code",
   "execution_count": 48,
   "metadata": {},
   "outputs": [
    {
     "name": "stdout",
     "output_type": "stream",
     "text": [
      "faryland\n"
     ]
    }
   ],
   "source": [
    "string = 'maryland'              #origional string is unaffected\n",
    "\n",
    "newString = 'f' + string[1:]     #concatenate desired new first letter 'f' with slice of string beggining at [index 1]\n",
    "\n",
    "print(newString)"
   ]
  },
  {
   "cell_type": "markdown",
   "metadata": {},
   "source": [
    "## Counting characters in Strings with Loops\n",
    "#### Count the number of times a character appears in a string"
   ]
  },
  {
   "cell_type": "markdown",
   "metadata": {},
   "source": [
    "### Counter - For loop"
   ]
  },
  {
   "cell_type": "code",
   "execution_count": 51,
   "metadata": {},
   "outputs": [
    {
     "name": "stdout",
     "output_type": "stream",
     "text": [
      "2\n"
     ]
    }
   ],
   "source": [
    "### Counter - For loop\n",
    "\n",
    "stringExample = 'onomatopoeia'\n",
    "\n",
    "count = 0\n",
    "\n",
    "for letter in stringExample:\n",
    "    \n",
    "    if letter.lower() == 'a':\n",
    "        count += 1\n",
    "        \n",
    "print(count)"
   ]
  },
  {
   "cell_type": "markdown",
   "metadata": {},
   "source": [
    "Exercise 3: Encapsulate this code in a function named count, and generalize it so that it accepts the string and the letter as arguments."
   ]
  },
  {
   "cell_type": "code",
   "execution_count": 37,
   "metadata": {},
   "outputs": [
    {
     "name": "stdout",
     "output_type": "stream",
     "text": [
      "Hello contains 1 instance(s) of  'o'\n"
     ]
    }
   ],
   "source": [
    "# Exercise 3\n",
    "\n",
    "\n",
    "def counter(inputString,inputLetter):\n",
    "    \n",
    "    count = 0\n",
    "    \n",
    "    for currentLetter in inputString:\n",
    "        \n",
    "        if currentLetter.lower() == inputLetter:\n",
    "            \n",
    "            count += 1\n",
    "\n",
    "    print(inputString,'contains',count,'instance(s) of ',\"'\" + inputLetter + \"'\")\n",
    "    \n",
    "# Example\n",
    "\n",
    "counter('Hello','o')"
   ]
  },
  {
   "cell_type": "markdown",
   "metadata": {},
   "source": [
    "### in - operator\n",
    "#### in - operator is a boolean - operator that returns True \n",
    "#### if 'firstString' is contained as a subtring within the 'secondString'"
   ]
  },
  {
   "cell_type": "code",
   "execution_count": 59,
   "metadata": {},
   "outputs": [
    {
     "name": "stdout",
     "output_type": "stream",
     "text": [
      "True\n",
      "False\n"
     ]
    }
   ],
   "source": [
    "containedInString1 = 'tron' in 'megatron'\n",
    "\n",
    "print(containedInString)\n",
    "\n",
    "\n",
    "containedInString2 = 'prime' in 'megatron'\n",
    "\n",
    "print(containedInString2)"
   ]
  },
  {
   "cell_type": "markdown",
   "metadata": {},
   "source": [
    "## string comparison\n",
    "### comparison - operators work on strings\n",
    "\n",
    "#### 'string' == 'string' --> yeilds [True]"
   ]
  },
  {
   "cell_type": "markdown",
   "metadata": {},
   "source": [
    "### uppercase letters (alphabetical order)  < lowercase letters (alphabetical order)\n",
    "\n",
    "#### > [greater than] < [less than]"
   ]
  },
  {
   "cell_type": "code",
   "execution_count": 45,
   "metadata": {},
   "outputs": [
    {
     "name": "stdout",
     "output_type": "stream",
     "text": [
      "'apple' is not the same as 'orange'\n",
      "False\n"
     ]
    }
   ],
   "source": [
    "#Comparison operators on strings\n",
    "# == equality\n",
    "\n",
    "word1 = 'apple'\n",
    "\n",
    "word2 = 'orange'\n",
    "\n",
    "word3 = 'Orange'\n",
    "\n",
    "\n",
    "if word1 == word2:\n",
    "    print(\"'\" + word1 + \"'\",'is the same as',\"'\" + word2 + \"'\")\n",
    "    \n",
    "else:\n",
    "    print(\"'\" + word1 + \"'\",'is not the same as',\"'\" + word2 + \"'\")\n",
    "\n",
    "\n",
    "# 'orange' is != 'Orange'\n",
    "print(word2 == word3)\n"
   ]
  },
  {
   "cell_type": "code",
   "execution_count": 43,
   "metadata": {},
   "outputs": [
    {
     "name": "stdout",
     "output_type": "stream",
     "text": [
      "True\n",
      "True\n",
      "False\n"
     ]
    }
   ],
   "source": [
    "#Comparison operators on strings\n",
    "# > [greater than] < [less than]\n",
    "\n",
    "# uppercase letters (alphabetical order)  < lowercase letters (alphabetical order) \n",
    "\n",
    "word1 = 'apple'\n",
    "\n",
    "word2 = 'orange'\n",
    "\n",
    "word3 = 'Orange'\n",
    "\n",
    "\n",
    "print(word1 < word2)\n",
    "\n",
    "print(word3 < word1)"
   ]
  },
  {
   "cell_type": "markdown",
   "metadata": {},
   "source": [
    "### 'UPPERCASE' characters are < [less than] 'lowercase' characters\n",
    "\n",
    "#### .lower() can be used to format 'strings' so that they may be compared"
   ]
  },
  {
   "cell_type": "code",
   "execution_count": 47,
   "metadata": {},
   "outputs": [
    {
     "name": "stdout",
     "output_type": "stream",
     "text": [
      "True\n",
      "False\n"
     ]
    }
   ],
   "source": [
    "# use .lower() [lowercase] method to account for this error\n",
    "\n",
    "word1 = 'apple'\n",
    "\n",
    "word2 = 'orange'\n",
    "\n",
    "word3 = 'Orange'\n",
    "\n",
    "\n",
    "print(word3 < word1)\n",
    "\n",
    "print(word3.lower() < word1)\n",
    "\n"
   ]
  },
  {
   "cell_type": "markdown",
   "metadata": {},
   "source": [
    "## 'string' objects\n",
    "\n",
    "#### 'strings' are Python objects\n",
    "#### 'strings' contain data & methods"
   ]
  },
  {
   "cell_type": "markdown",
   "metadata": {},
   "source": [
    "### 'string' data"
   ]
  },
  {
   "cell_type": "code",
   "execution_count": null,
   "metadata": {},
   "outputs": [],
   "source": [
    "#'string' data\n",
    "\n",
    "string1 = 'Alice'    # 'Alice' is the data"
   ]
  },
  {
   "cell_type": "markdown",
   "metadata": {},
   "source": [
    "### 'string' methods\n",
    "\n",
    "#### functions built into the object - available to any instance of the object"
   ]
  },
  {
   "cell_type": "markdown",
   "metadata": {},
   "source": [
    "#### type() function - method of 'string' - returns the type"
   ]
  },
  {
   "cell_type": "code",
   "execution_count": 55,
   "metadata": {},
   "outputs": [
    {
     "name": "stdout",
     "output_type": "stream",
     "text": [
      "<class 'str'>\n"
     ]
    }
   ],
   "source": [
    "stringExample = 'Words in a sentence.'\n",
    "\n",
    "typeOfString = type(stringExample)\n",
    "\n",
    "print(typeOfString)"
   ]
  },
  {
   "cell_type": "markdown",
   "metadata": {},
   "source": [
    "#### dir() function - method of 'string' - returns the methods (functions) available to object"
   ]
  },
  {
   "cell_type": "code",
   "execution_count": 53,
   "metadata": {},
   "outputs": [
    {
     "data": {
      "text/plain": [
       "['__add__',\n",
       " '__class__',\n",
       " '__contains__',\n",
       " '__delattr__',\n",
       " '__dir__',\n",
       " '__doc__',\n",
       " '__eq__',\n",
       " '__format__',\n",
       " '__ge__',\n",
       " '__getattribute__',\n",
       " '__getitem__',\n",
       " '__getnewargs__',\n",
       " '__gt__',\n",
       " '__hash__',\n",
       " '__init__',\n",
       " '__init_subclass__',\n",
       " '__iter__',\n",
       " '__le__',\n",
       " '__len__',\n",
       " '__lt__',\n",
       " '__mod__',\n",
       " '__mul__',\n",
       " '__ne__',\n",
       " '__new__',\n",
       " '__reduce__',\n",
       " '__reduce_ex__',\n",
       " '__repr__',\n",
       " '__rmod__',\n",
       " '__rmul__',\n",
       " '__setattr__',\n",
       " '__sizeof__',\n",
       " '__str__',\n",
       " '__subclasshook__',\n",
       " 'capitalize',\n",
       " 'casefold',\n",
       " 'center',\n",
       " 'count',\n",
       " 'encode',\n",
       " 'endswith',\n",
       " 'expandtabs',\n",
       " 'find',\n",
       " 'format',\n",
       " 'format_map',\n",
       " 'index',\n",
       " 'isalnum',\n",
       " 'isalpha',\n",
       " 'isascii',\n",
       " 'isdecimal',\n",
       " 'isdigit',\n",
       " 'isidentifier',\n",
       " 'islower',\n",
       " 'isnumeric',\n",
       " 'isprintable',\n",
       " 'isspace',\n",
       " 'istitle',\n",
       " 'isupper',\n",
       " 'join',\n",
       " 'ljust',\n",
       " 'lower',\n",
       " 'lstrip',\n",
       " 'maketrans',\n",
       " 'partition',\n",
       " 'replace',\n",
       " 'rfind',\n",
       " 'rindex',\n",
       " 'rjust',\n",
       " 'rpartition',\n",
       " 'rsplit',\n",
       " 'rstrip',\n",
       " 'split',\n",
       " 'splitlines',\n",
       " 'startswith',\n",
       " 'strip',\n",
       " 'swapcase',\n",
       " 'title',\n",
       " 'translate',\n",
       " 'upper',\n",
       " 'zfill']"
      ]
     },
     "execution_count": 53,
     "metadata": {},
     "output_type": "execute_result"
    }
   ],
   "source": [
    "stringExample = 'Words in a sentence.'\n",
    "\n",
    "dir(stringExample)"
   ]
  },
  {
   "cell_type": "markdown",
   "metadata": {},
   "source": [
    "#### help() function - if 'string' method is input as argument to help()\n",
    "\n",
    "#### Python will provide additional documentation on the method"
   ]
  },
  {
   "cell_type": "code",
   "execution_count": 6,
   "metadata": {},
   "outputs": [
    {
     "name": "stdout",
     "output_type": "stream",
     "text": [
      "Help on built-in function capitalize:\n",
      "\n",
      "capitalize() method of builtins.str instance\n",
      "    Return a capitalized version of the string.\n",
      "    \n",
      "    More specifically, make the first character have upper case and the rest lower\n",
      "    case.\n",
      "\n"
     ]
    }
   ],
   "source": [
    "# help() with argument 'string'.method --> method name of desired information\n",
    "# help('string'.methodName)\n",
    "\n",
    "stringExample = 'Words in a sentence.'\n",
    "\n",
    "help(stringExample.capitalize)                     # pass 'string'.methodName as argument"
   ]
  },
  {
   "cell_type": "markdown",
   "metadata": {},
   "source": [
    "#### 'string'.methods() are called using   .   as a deliminator - to tell where the method name begins\n",
    "\n",
    "#### calling a method is called - method invocation\n",
    "\n",
    "#### .methods() take arguments and return values - some take no arguments"
   ]
  },
  {
   "cell_type": "markdown",
   "metadata": {},
   "source": [
    "#### .upper()"
   ]
  },
  {
   "cell_type": "code",
   "execution_count": 9,
   "metadata": {},
   "outputs": [
    {
     "name": "stdout",
     "output_type": "stream",
     "text": [
      "WORDS IN A SENTENCE.\n"
     ]
    }
   ],
   "source": [
    "# .method() with no argument\n",
    "\n",
    "stringExample = 'Words in a sentence.'\n",
    "\n",
    "stringUpper = stringExample.upper()\n",
    "\n",
    "print(stringUpper)"
   ]
  },
  {
   "cell_type": "markdown",
   "metadata": {},
   "source": [
    "#### .find()"
   ]
  },
  {
   "cell_type": "code",
   "execution_count": 20,
   "metadata": {},
   "outputs": [
    {
     "name": "stdout",
     "output_type": "stream",
     "text": [
      "6\n"
     ]
    }
   ],
   "source": [
    "# .method() with and argument\n",
    "\n",
    "stringExample = 'Words in a sentence.'\n",
    "\n",
    "stringUpper = stringExample.find('in')        #.find() can take 'a' character or 'substring'\n",
    "\n",
    "print(stringUpper)"
   ]
  },
  {
   "cell_type": "code",
   "execution_count": 21,
   "metadata": {},
   "outputs": [
    {
     "name": "stdout",
     "output_type": "stream",
     "text": [
      "6\n"
     ]
    }
   ],
   "source": [
    "# .method() with multiple arguments\n",
    "\n",
    "stringExample = 'Words in a sentence.'\n",
    "\n",
    "stringUpper = stringExample.find('in' ,5)   #.find() can take 'a' character or 'substring'\n",
    "                                            #.find() can take a second argument - begggining [index] to search from\n",
    "print(stringUpper)                          #.find() returns the index of the 'a' char or 'subtring' - in the origonal 'string'\n",
    "                                            # - not in the searched 'substring' \n",
    "                                            # - such as stringExample[index:index] - new 'substring' with new indexes"
   ]
  },
  {
   "cell_type": "code",
   "execution_count": 49,
   "metadata": {},
   "outputs": [
    {
     "name": "stdout",
     "output_type": "stream",
     "text": [
      "-1\n"
     ]
    }
   ],
   "source": [
    "stringExample = 'Words in a sentence.'\n",
    "\n",
    "stringUpper = stringExample.find('in' ,0, 4)   #.find() can take 'a' character or 'substring'\n",
    "                                               #.find() can take a second argument - begggining [index] to search from\n",
    "print(stringUpper)                             #.find() can take a third argument  - end [index] to search through\n",
    "                                               #.find() returns [-1] if 'character' or 'string' is not found"
   ]
  },
  {
   "cell_type": "markdown",
   "metadata": {},
   "source": [
    "#### .strip()"
   ]
  },
  {
   "cell_type": "code",
   "execution_count": 28,
   "metadata": {},
   "outputs": [
    {
     "name": "stdout",
     "output_type": "stream",
     "text": [
      "\tWords in a sentence.  \n",
      "Words in a sentence.\n"
     ]
    }
   ],
   "source": [
    "# .strip() removes whitespace - tab, space, newline - from beggining and end of 'string'\n",
    "\n",
    "stringExample = '\\tWords in a sentence.  '\n",
    "\n",
    "print(stringExample)\n",
    "\n",
    "\n",
    "stringStrip = stringExample.strip()                 #.strip() removes - tab, space, newline - from beggining and end of 'string'\n",
    "\n",
    "print(stringStrip)"
   ]
  },
  {
   "cell_type": "markdown",
   "metadata": {},
   "source": [
    "#### .startswith('')"
   ]
  },
  {
   "cell_type": "code",
   "execution_count": 33,
   "metadata": {},
   "outputs": [
    {
     "name": "stdout",
     "output_type": "stream",
     "text": [
      "False\n",
      "True\n"
     ]
    }
   ],
   "source": [
    "# .startswith('') - take characters or strings as arguments and return Boolean values\n",
    "\n",
    "stringExample = 'Words in a sentence.'\n",
    "\n",
    "\n",
    "stringStarts = stringExample.startswith('w')        # 'w' != 'W'\n",
    "\n",
    "print(stringStarts)\n",
    "\n",
    "\n",
    "stringStarts = stringExample.startswith('W')        # 'w' == 'W'\n",
    "\n",
    "print(stringStarts)"
   ]
  },
  {
   "cell_type": "markdown",
   "metadata": {},
   "source": [
    "#### .startswith('') - requires a casematch - can use .lower() method to search 'string' for characters regardless of case"
   ]
  },
  {
   "cell_type": "code",
   "execution_count": 35,
   "metadata": {},
   "outputs": [
    {
     "name": "stdout",
     "output_type": "stream",
     "text": [
      "True\n"
     ]
    }
   ],
   "source": [
    "stringExample = 'Words in a sentence.'                  # 'w' != 'W'\n",
    "\n",
    "stringStarts = stringExample.lower().startswith('w')    # 'W' has been lowered to  'w'\n",
    "\n",
    "print(stringStarts)"
   ]
  },
  {
   "cell_type": "markdown",
   "metadata": {},
   "source": [
    "**Exercise 4: There is a string method called count that is similar to the function in the previous exercise. Read the documentation of this method at:\n",
    "\n",
    "https://docs.python.org/library/stdtypes.html#string-methods\n",
    "\n",
    "Write an invocation that counts the number of times the letter a occurs in \"banana\".**"
   ]
  },
  {
   "cell_type": "code",
   "execution_count": 36,
   "metadata": {},
   "outputs": [
    {
     "name": "stdout",
     "output_type": "stream",
     "text": [
      "3\n"
     ]
    }
   ],
   "source": [
    "string = 'banana'\n",
    "\n",
    "stringCount = string.count('a')\n",
    "\n",
    "print(stringCount)"
   ]
  },
  {
   "cell_type": "markdown",
   "metadata": {},
   "source": [
    "## parsing 'strings'\n",
    "### often a subtring of a string is desired\n",
    "#### methods of the 'string' object can be used in combination to perform these tasks"
   ]
  },
  {
   "cell_type": "code",
   "execution_count": 44,
   "metadata": {},
   "outputs": [
    {
     "name": "stdout",
     "output_type": "stream",
     "text": [
      " Sat Jan  5 00:50:30 2019\n"
     ]
    }
   ],
   "source": [
    "data = 'From alex.delapaz@asd.ad.az Sat Jan  5 00:50:30 2019'\n",
    "\n",
    "findAt = data.find('@')                #find first instance of '@'\n",
    "findSpace = data.find(' ', findAt)     #find first instance of ' ' from substring of index '@' foward\n",
    "\n",
    "findLine = data[findSpace:]            #return 'string' after first instance of ' ' with [index:index] operator\n",
    "\n",
    "print(findLine)"
   ]
  },
  {
   "cell_type": "code",
   "execution_count": 50,
   "metadata": {},
   "outputs": [
    {
     "name": "stdout",
     "output_type": "stream",
     "text": [
      "asd.ad.az\n"
     ]
    }
   ],
   "source": [
    "data = 'From alex.delapaz@asd.ad.az Sat Jan  5 00:50:30 2019'\n",
    "\n",
    "findAt = data.find('@')               #find first instance of '@'\n",
    "findSpace = data.find(' ', findAt, )  #find first instance of ' ' from substring of index '@' foward\n",
    "\n",
    "findEmail = data[findAt+1:findSpace]  #find rest of email from instance of ('@'+1) to instance of ' ' with [index:index] operator\n",
    "\n",
    "print(findEmail)"
   ]
  },
  {
   "cell_type": "markdown",
   "metadata": {},
   "source": [
    "## format % - operator\n",
    "\n",
    "#### used to construct new 'strings' - by replacing parts of the strings with data stored in variables"
   ]
  },
  {
   "cell_type": "markdown",
   "metadata": {},
   "source": [
    "### %d  - integer format\n",
    "\n",
    "#### returns a string - integer format"
   ]
  },
  {
   "cell_type": "code",
   "execution_count": 73,
   "metadata": {},
   "outputs": [
    {
     "name": "stdout",
     "output_type": "stream",
     "text": [
      "42\n"
     ]
    }
   ],
   "source": [
    "stringNumber = 42\n",
    "\n",
    "newStringNumber = '%d' % stringNumber         # %d - format sequence\n",
    "\n",
    "print(newStringNumber )\n"
   ]
  },
  {
   "cell_type": "code",
   "execution_count": 72,
   "metadata": {},
   "outputs": [
    {
     "name": "stdout",
     "output_type": "stream",
     "text": [
      "The answer to life, the universe and everything is: 42\n"
     ]
    }
   ],
   "source": [
    "stringNumber = 42\n",
    "\n",
    "print('The answer to life, the universe and everything is: %d' % stringNumber)"
   ]
  },
  {
   "cell_type": "code",
   "execution_count": 70,
   "metadata": {},
   "outputs": [
    {
     "name": "stdout",
     "output_type": "stream",
     "text": [
      "42\n"
     ]
    }
   ],
   "source": [
    "print('%d' % 42)"
   ]
  },
  {
   "cell_type": "markdown",
   "metadata": {},
   "source": [
    "### %g  - floating point format\n",
    "\n",
    "#### returns a string - floating point format"
   ]
  },
  {
   "cell_type": "code",
   "execution_count": 74,
   "metadata": {},
   "outputs": [
    {
     "name": "stdout",
     "output_type": "stream",
     "text": [
      "Pi approximated to two decmials is 3.14\n"
     ]
    }
   ],
   "source": [
    "print('Pi approximated to two decmials is %g' % 3.14)"
   ]
  },
  {
   "cell_type": "markdown",
   "metadata": {},
   "source": [
    "### %s  - string format\n",
    "\n",
    "#### returns a string"
   ]
  },
  {
   "cell_type": "code",
   "execution_count": 76,
   "metadata": {},
   "outputs": [
    {
     "name": "stdout",
     "output_type": "stream",
     "text": [
      "A whale of a tale\n"
     ]
    }
   ],
   "source": [
    "print('A whale of a %s' % 'tale')            #format string - containing format sequence"
   ]
  },
  {
   "cell_type": "markdown",
   "metadata": {},
   "source": [
    "### If more than one format sequence is used - the second argument must be a tuple\n",
    "\n",
    "#### tuple - is a sequence of comma separated values in parenthesis\n",
    "\n",
    "('string',42,3.14)"
   ]
  },
  {
   "cell_type": "code",
   "execution_count": 79,
   "metadata": {},
   "outputs": [
    {
     "name": "stdout",
     "output_type": "stream",
     "text": [
      "R 2 D 2\n"
     ]
    }
   ],
   "source": [
    "#Each [format sequence] is matched with its (corresponding element, in sequence, in the tuple)\n",
    "\n",
    "stringNumber = 2\n",
    "\n",
    "droidName = 'r %d d% d' % (stringNumber,stringNumber)\n",
    "\n",
    "print(droidName.upper())"
   ]
  },
  {
   "cell_type": "code",
   "execution_count": 88,
   "metadata": {},
   "outputs": [],
   "source": [
    "#Each format sequence is matched with its corresponding element in sequence in the (tuple)\n",
    "#The types of the elements must match as well\n",
    "\n",
    "#print('%d%s%g' % (42,'string'))           #TypeError: not enough arguments for format string\n",
    "\n",
    "#print('%d%s%g' % (42,'string','3.14')) #TypeError: must be real number, not str"
   ]
  },
  {
   "cell_type": "code",
   "execution_count": 68,
   "metadata": {},
   "outputs": [
    {
     "name": "stdout",
     "output_type": "stream",
     "text": [
      "C3P0\n"
     ]
    }
   ],
   "source": [
    "stringNumber1 = 3\n",
    "\n",
    "stringNumber2 = 0\n",
    "\n",
    "droidName = 'C%dP%d' % (stringNumber1,stringNumber2)      #tuple used for multiple format sequence\n",
    "\n",
    "print(droidName)"
   ]
  },
  {
   "cell_type": "markdown",
   "metadata": {},
   "source": [
    "## debugging\n",
    "\n",
    "#### What to do when a program is provided unintended arguments"
   ]
  },
  {
   "cell_type": "code",
   "execution_count": 93,
   "metadata": {},
   "outputs": [
    {
     "ename": "IndexError",
     "evalue": "string index out of range",
     "output_type": "error",
     "traceback": [
      "\u001b[1;31m---------------------------------------------------------------------------\u001b[0m",
      "\u001b[1;31mIndexError\u001b[0m                                Traceback (most recent call last)",
      "\u001b[1;32m<ipython-input-93-f7005d9cbd6e>\u001b[0m in \u001b[0;36m<module>\u001b[1;34m()\u001b[0m\n\u001b[0;32m      3\u001b[0m \u001b[0mlen\u001b[0m\u001b[1;33m(\u001b[0m\u001b[0mstringExample\u001b[0m\u001b[1;33m)\u001b[0m\u001b[1;33m\u001b[0m\u001b[0m\n\u001b[0;32m      4\u001b[0m \u001b[1;33m\u001b[0m\u001b[0m\n\u001b[1;32m----> 5\u001b[1;33m \u001b[0mstringExample\u001b[0m\u001b[1;33m[\u001b[0m\u001b[1;36m0\u001b[0m\u001b[1;33m]\u001b[0m\u001b[1;33m\u001b[0m\u001b[0m\n\u001b[0m",
      "\u001b[1;31mIndexError\u001b[0m: string index out of range"
     ]
    }
   ],
   "source": [
    "stringExample = ''\n",
    "\n",
    "len(stringExample)  #stringExample has len() --> 0\n",
    "\n",
    "#stringExample[0] has no len() or 'characters' so any index is out of range\n",
    "stringExample[0]    #IndexError: string index out of range"
   ]
  },
  {
   "cell_type": "code",
   "execution_count": 95,
   "metadata": {},
   "outputs": [
    {
     "name": "stdout",
     "output_type": "stream",
     "text": [
      "Enter anything: \n"
     ]
    },
    {
     "ename": "IndexError",
     "evalue": "string index out of range",
     "output_type": "error",
     "traceback": [
      "\u001b[1;31m---------------------------------------------------------------------------\u001b[0m",
      "\u001b[1;31mIndexError\u001b[0m                                Traceback (most recent call last)",
      "\u001b[1;32m<ipython-input-95-1a0e6c5bd9b5>\u001b[0m in \u001b[0;36m<module>\u001b[1;34m()\u001b[0m\n\u001b[0;32m      7\u001b[0m     \u001b[0minputString\u001b[0m \u001b[1;33m=\u001b[0m \u001b[0minput\u001b[0m\u001b[1;33m(\u001b[0m\u001b[1;34m'Enter anything: '\u001b[0m\u001b[1;33m)\u001b[0m\u001b[1;33m\u001b[0m\u001b[0m\n\u001b[0;32m      8\u001b[0m \u001b[1;33m\u001b[0m\u001b[0m\n\u001b[1;32m----> 9\u001b[1;33m     \u001b[1;32mif\u001b[0m \u001b[0minputString\u001b[0m\u001b[1;33m[\u001b[0m\u001b[1;36m0\u001b[0m\u001b[1;33m]\u001b[0m \u001b[1;33m==\u001b[0m \u001b[1;34m'#'\u001b[0m\u001b[1;33m:\u001b[0m\u001b[1;33m\u001b[0m\u001b[0m\n\u001b[0m\u001b[0;32m     10\u001b[0m         \u001b[1;32mcontinue\u001b[0m\u001b[1;33m\u001b[0m\u001b[0m\n\u001b[0;32m     11\u001b[0m     \u001b[1;32melif\u001b[0m \u001b[0minputString\u001b[0m\u001b[1;33m.\u001b[0m\u001b[0mlower\u001b[0m\u001b[1;33m(\u001b[0m\u001b[1;33m)\u001b[0m \u001b[1;33m==\u001b[0m \u001b[1;34m'done'\u001b[0m\u001b[1;33m:\u001b[0m\u001b[1;33m\u001b[0m\u001b[0m\n",
      "\u001b[1;31mIndexError\u001b[0m: string index out of range"
     ]
    }
   ],
   "source": [
    "# If the user just selects [enter] - a len() --> 0 'string' is returned\n",
    "# inputString[0] --> can not return a value\n",
    "# this produces an error \n",
    "# IndexError: string index out of range\n",
    "\n",
    "while True:\n",
    "    \n",
    "    inputString = input('Enter anything: ')\n",
    "    \n",
    "    if inputString[0] == '#':           ## inputString[0] --> can not return a value\n",
    "        continue\n",
    "    elif inputString.lower() == 'done':\n",
    "        break\n",
    "        \n",
    "    else:\n",
    "        print(inputString)"
   ]
  },
  {
   "cell_type": "markdown",
   "metadata": {},
   "source": [
    "### Error handling - startswith('') method - conditional statement"
   ]
  },
  {
   "cell_type": "code",
   "execution_count": null,
   "metadata": {},
   "outputs": [
    {
     "name": "stdout",
     "output_type": "stream",
     "text": [
      "Enter anything: \n",
      "Enter anything: done\n",
      "Enter anything: done\n",
      "Enter anything: done\n"
     ]
    }
   ],
   "source": [
    "while True:\n",
    "    \n",
    "    inputString = input('Enter anything: ')\n",
    "    \n",
    "    if inputString.startswith(''):                 #.startswith('') will return True if [enter] is selected\n",
    "        continue\n",
    "        \n",
    "    elif inputString[0] == '#':\n",
    "        continue\n",
    "    elif inputString.lower() == 'done':\n",
    "        break\n",
    "        \n",
    "    else:\n",
    "        print(inputString)"
   ]
  },
  {
   "cell_type": "markdown",
   "metadata": {},
   "source": [
    "### Error handling - Guardian pattern - conditional statement"
   ]
  },
  {
   "cell_type": "code",
   "execution_count": 2,
   "metadata": {},
   "outputs": [
    {
     "name": "stdout",
     "output_type": "stream",
     "text": [
      "Enter anything: \n",
      "\n",
      "Enter anything: done\n"
     ]
    }
   ],
   "source": [
    "#Guardian pattern to short circuit before inputString[index] attempts to access the empty 'string'\n",
    "\n",
    "while True:\n",
    "    \n",
    "    inputString = input('Enter anything: ')\n",
    "    \n",
    "    if len(inputString) > 0 and inputString[0] == '#':    #guardian pattern will short circuit before - inputString[index]\n",
    "        continue                                          #guarantees atleast 1 character in 'string'\n",
    "    elif inputString.lower() == 'done':\n",
    "        break\n",
    "        \n",
    "    else:\n",
    "        print(inputString)"
   ]
  },
  {
   "cell_type": "markdown",
   "metadata": {},
   "source": [
    "# Exercises\n",
    "Exercise 5: Take the following Python code that stores a string:\n",
    "\n",
    "str = 'X-DSPAM-Confidence: 0.8475'\n",
    "\n",
    "Use find and string slicing to extract the portion of the string after the colon character and then use the float function to convert the extracted string into a floating point number.\n",
    "\n",
    "Exercise 6: Read the documentation of the string methods at https://docs.python.org/library/stdtypes.html#string-methods You might want to experiment with some of them to make sure you understand how they work. strip and replace are particularly useful.\n",
    "\n",
    "The documentation uses a syntax that might be confusing. For example, in find(sub[, start[, end]]), the brackets indicate optional arguments. So sub is required, but start is optional, and if you include start, then end is optional."
   ]
  },
  {
   "cell_type": "code",
   "execution_count": 6,
   "metadata": {},
   "outputs": [
    {
     "name": "stdout",
     "output_type": "stream",
     "text": [
      " 0.8475\n",
      "0.8475\n",
      "0.8475\n"
     ]
    }
   ],
   "source": [
    "str = 'X-DSPAM-Confidence: 0.8475'\n",
    "\n",
    "colognFind = str.find(':')\n",
    "\n",
    "print(str[colognFind+1:])               #colognFind +1 to return 'substring' after colognFind index\n",
    "                                        # ' ' space is included\n",
    "print(str[colognFind+1:].strip())       #eliminate ' ' space\n",
    "\n",
    "# can also convert number to float and it will get rid of space\n",
    "\n",
    "newFloat = float(str[colognFind+1:])\n",
    "print(newFloat)"
   ]
  },
  {
   "cell_type": "code",
   "execution_count": 4,
   "metadata": {},
   "outputs": [
    {
     "name": "stdout",
     "output_type": "stream",
     "text": [
      "Help on built-in function replace:\n",
      "\n",
      "replace(old, new, count=-1, /) method of builtins.str instance\n",
      "    Return a copy with all occurrences of substring old replaced by new.\n",
      "    \n",
      "      count\n",
      "        Maximum number of occurrences to replace.\n",
      "        -1 (the default value) means replace all occurrences.\n",
      "    \n",
      "    If the optional argument count is given, only the first count occurrences are\n",
      "    replaced.\n",
      "\n"
     ]
    }
   ],
   "source": [
    "help('string'.replace)"
   ]
  },
  {
   "cell_type": "code",
   "execution_count": 7,
   "metadata": {},
   "outputs": [
    {
     "data": {
      "text/plain": [
       "'sLring'"
      ]
     },
     "execution_count": 7,
     "metadata": {},
     "output_type": "execute_result"
    }
   ],
   "source": [
    "'string'.replace('t','L')          #(,,thirdArgument) thirdArgument is [-1] by default - performs .replace() for all\n",
    "                                   # - or integer value of maximum occurences to replace"
   ]
  }
 ],
 "metadata": {
  "kernelspec": {
   "display_name": "Python 3",
   "language": "python",
   "name": "python3"
  },
  "language_info": {
   "codemirror_mode": {
    "name": "ipython",
    "version": 3
   },
   "file_extension": ".py",
   "mimetype": "text/x-python",
   "name": "python",
   "nbconvert_exporter": "python",
   "pygments_lexer": "ipython3",
   "version": "3.7.0"
  }
 },
 "nbformat": 4,
 "nbformat_minor": 2
}
