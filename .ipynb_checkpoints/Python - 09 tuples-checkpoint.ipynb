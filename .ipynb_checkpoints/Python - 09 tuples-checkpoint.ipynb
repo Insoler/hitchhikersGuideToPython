{
 "cells": [
  {
   "cell_type": "markdown",
   "metadata": {},
   "source": [
    "# `Python`\n",
    "## Tuples\n",
    " \n",
    " <img src=\"pythonLogo.png\" height=\"20%\" width=\"20%\"/>"
   ]
  },
  {
   "cell_type": "markdown",
   "metadata": {},
   "source": [
    "### tuples are a type of `data-structure`\n",
    "#### `collections`\n",
    "- `multi-value` variables that can `hold more` than a `single value` "
   ]
  },
  {
   "cell_type": "markdown",
   "metadata": {},
   "source": [
    "###  stores data as a `sequence` of `values` (`types/objects`)\n"
   ]
  },
  {
   "cell_type": "markdown",
   "metadata": {},
   "source": [
    "## `like` lists()\n",
    "\n",
    "- ### tuples are organized by `index` based on thier `positions` \n",
    "\n",
    "- ### tuples `indices` are `integers`\n",
    "\n",
    "- ### can be ANY `type`"
   ]
  },
  {
   "cell_type": "markdown",
   "metadata": {},
   "source": [
    "## `unlike` lists()\n",
    "- ### tuples are `immutable`"
   ]
  },
  {
   "cell_type": "markdown",
   "metadata": {},
   "source": [
    "# `initialising` empty tuples"
   ]
  },
  {
   "cell_type": "markdown",
   "metadata": {},
   "source": [
    "# ( )"
   ]
  },
  {
   "cell_type": "code",
   "execution_count": 2,
   "metadata": {},
   "outputs": [
    {
     "data": {
      "text/plain": [
       "()"
      ]
     },
     "execution_count": 2,
     "metadata": {},
     "output_type": "execute_result"
    }
   ],
   "source": [
    "# an empty tuple literal\n",
    "\n",
    "( )\n"
   ]
  },
  {
   "cell_type": "code",
   "execution_count": 12,
   "metadata": {},
   "outputs": [
    {
     "name": "stdout",
     "output_type": "stream",
     "text": [
      "()\n",
      "()\n",
      "<class 'tuple'>\n"
     ]
    }
   ],
   "source": [
    "newTupleLiteral = ()\n",
    "\n",
    "print(())\n",
    "print(newTupleLiteral)\n",
    "print(type(newTupleLiteral))"
   ]
  },
  {
   "cell_type": "markdown",
   "metadata": {},
   "source": [
    "# `tuple()`\n",
    "- ### use the function `tuple()`"
   ]
  },
  {
   "cell_type": "code",
   "execution_count": 1,
   "metadata": {},
   "outputs": [
    {
     "data": {
      "text/plain": [
       "()"
      ]
     },
     "execution_count": 1,
     "metadata": {},
     "output_type": "execute_result"
    }
   ],
   "source": [
    "# an empty tuple instantiation\n",
    "\n",
    "tuple()\n"
   ]
  },
  {
   "cell_type": "code",
   "execution_count": 2,
   "metadata": {},
   "outputs": [
    {
     "name": "stdout",
     "output_type": "stream",
     "text": [
      "()\n",
      "()\n",
      "<class 'tuple'>\n"
     ]
    }
   ],
   "source": [
    "emptyTuple = tuple()\n",
    "\n",
    "print(tuple())\n",
    "print(emptyTuple)\n",
    "print(type(emptyTuple))"
   ]
  },
  {
   "cell_type": "markdown",
   "metadata": {},
   "source": [
    "# tuple `literals` are `comma-seperated` sequence of values"
   ]
  },
  {
   "cell_type": "code",
   "execution_count": 9,
   "metadata": {},
   "outputs": [
    {
     "name": "stdout",
     "output_type": "stream",
     "text": [
      "(3.14, 42, 'R2D2', 'C3P0')\n",
      "<class 'tuple'>\n"
     ]
    }
   ],
   "source": [
    "tupleLiteral = 3.14,42,'R2D2','C3P0'\n",
    "\n",
    "print(tupleLiteral)\n",
    "print(type(tupleLiteral))"
   ]
  },
  {
   "cell_type": "markdown",
   "metadata": {},
   "source": [
    "# tuple `literals` are `enclosed` inside `( )` parenthesis\n",
    "- for `distinction` amongst other data-structures"
   ]
  },
  {
   "cell_type": "code",
   "execution_count": 8,
   "metadata": {},
   "outputs": [
    {
     "name": "stdout",
     "output_type": "stream",
     "text": [
      "(3.14, 42, 'R2D2', 'C3P0')\n",
      "<class 'tuple'>\n"
     ]
    }
   ],
   "source": [
    "tupleLiteral = (3.14,42,'R2D2','C3P0')\n",
    "\n",
    "print(tupleLiteral)\n",
    "print(type(tupleLiteral))"
   ]
  },
  {
   "cell_type": "markdown",
   "metadata": {},
   "source": [
    "# `tuples` can either be instantiated by\n"
   ]
  },
  {
   "cell_type": "markdown",
   "metadata": {},
   "source": [
    "### `values` enclosed within `( ) parenthesis` - tuple `literal` (`constant`)\n",
    "\n",
    "<br/>\n",
    "or\n",
    "<br/>\n",
    "\n",
    "### `( VALUE , )` - a value with `final comma` for distinction from 'string expression'\n",
    "\n",
    "<br/>\n",
    "or\n",
    "<br/>\n",
    "\n",
    "### `tuple( ( ) )` instantiates a `literal` within `tuple()`\n",
    "\n",
    "<br/>\n",
    "<br/>\n"
   ]
  },
  {
   "cell_type": "markdown",
   "metadata": {},
   "source": [
    "# `values` enclosed within `( ) parenthesis`\n",
    "tuple `literal` (`constant`)\n"
   ]
  },
  {
   "cell_type": "code",
   "execution_count": 11,
   "metadata": {},
   "outputs": [],
   "source": [
    "tupleLiteral = (1,'two',3.14,True)"
   ]
  },
  {
   "cell_type": "code",
   "execution_count": 12,
   "metadata": {},
   "outputs": [
    {
     "name": "stdout",
     "output_type": "stream",
     "text": [
      "(1, 'two', 3.14, True)\n"
     ]
    }
   ],
   "source": [
    "print(tupleLiteral)"
   ]
  },
  {
   "cell_type": "markdown",
   "metadata": {},
   "source": [
    "# `( VALUE , )` \n",
    "a value with `final comma` for distinction from 'string expression'\n",
    "\n",
    "to instantiate a tuple with 1 element\n",
    "- final comma must be included"
   ]
  },
  {
   "cell_type": "code",
   "execution_count": 26,
   "metadata": {},
   "outputs": [
    {
     "name": "stdout",
     "output_type": "stream",
     "text": [
      "{'vessel': 'uscgc venturous'}\n"
     ]
    }
   ],
   "source": [
    "singleElementTuple = (1,)\n",
    "\n",
    "\n",
    "type(singleElementTuple)"
   ]
  },
  {
   "cell_type": "markdown",
   "metadata": {},
   "source": [
    "### without the `final comma` ,\n",
    "- Python treats the values inside `( )` as an expression\n",
    "as a 'string'"
   ]
  },
  {
   "cell_type": "code",
   "execution_count": 19,
   "metadata": {},
   "outputs": [
    {
     "data": {
      "text/plain": [
       "str"
      ]
     },
     "execution_count": 19,
     "metadata": {},
     "output_type": "execute_result"
    }
   ],
   "source": [
    "singleElementTuple = ('one')\n",
    "\n",
    "\n",
    "type(singleElementTuple)"
   ]
  },
  {
   "cell_type": "code",
   "execution_count": 20,
   "metadata": {},
   "outputs": [
    {
     "data": {
      "text/plain": [
       "int"
      ]
     },
     "execution_count": 20,
     "metadata": {},
     "output_type": "execute_result"
    }
   ],
   "source": [
    "singleElementTuple = (1)\n",
    "\n",
    "\n",
    "type(singleElementTuple)"
   ]
  },
  {
   "cell_type": "markdown",
   "metadata": {},
   "source": [
    "# `tuple( ( ) )` \n",
    "instantiates a `literal` within `tuple()`"
   ]
  },
  {
   "cell_type": "code",
   "execution_count": 7,
   "metadata": {},
   "outputs": [
    {
     "name": "stdout",
     "output_type": "stream",
     "text": [
      "(1, 2, 3, 4)\n",
      "(1, 2, 3, 4)\n"
     ]
    }
   ],
   "source": [
    "tupleA = (1,2,3,4)\n",
    "\n",
    "print(tupleA)\n",
    "\n",
    "tupleB = tuple(tupleA)\n",
    "\n",
    "print(tupleB)"
   ]
  },
  {
   "cell_type": "markdown",
   "metadata": {},
   "source": [
    "## `sequence` (string, list, or tuple)  as argument to `tuple( )\n",
    "\n",
    "#### if argument to tuple() is a sequence\n",
    "\n",
    "- result is a tuple with elements of `sequence as elements` of `tuple()`"
   ]
  },
  {
   "cell_type": "markdown",
   "metadata": {},
   "source": [
    "## `tuple('string')`"
   ]
  },
  {
   "cell_type": "code",
   "execution_count": 14,
   "metadata": {},
   "outputs": [
    {
     "name": "stdout",
     "output_type": "stream",
     "text": [
      "('o', 'n', 'o', 'm', 'a', 't', 'o', 'p', 'o', 'e', 'a')\n",
      "<class 'tuple'>\n"
     ]
    }
   ],
   "source": [
    "stringA = 'onomatopoea'\n",
    "\n",
    "tupleA = tuple(stringA)\n",
    "\n",
    "print(tupleA)\n",
    "print(type(tupleA))"
   ]
  },
  {
   "cell_type": "markdown",
   "metadata": {},
   "source": [
    "## `tuple( [L,i,s,t] )`"
   ]
  },
  {
   "cell_type": "code",
   "execution_count": 15,
   "metadata": {},
   "outputs": [
    {
     "name": "stdout",
     "output_type": "stream",
     "text": [
      "(1, 2, 3, 4)\n",
      "<class 'tuple'>\n"
     ]
    }
   ],
   "source": [
    "listA = [1,2,3,4]\n",
    "\n",
    "tupleA = tuple(listA)\n",
    "\n",
    "print(tupleA)\n",
    "print(type(tupleA))"
   ]
  },
  {
   "cell_type": "markdown",
   "metadata": {},
   "source": [
    "## `tuple( {'alpha': 'd', 'beta': 'i', 'gamma': 'C', 'delta' : 't'} )`"
   ]
  },
  {
   "cell_type": "markdown",
   "metadata": {},
   "source": [
    "### using `tuple()` with a `dict()` argument\n",
    "only returns the `keys()` as tuple elements"
   ]
  },
  {
   "cell_type": "code",
   "execution_count": 17,
   "metadata": {},
   "outputs": [
    {
     "name": "stdout",
     "output_type": "stream",
     "text": [
      "('alpha', 'beta', 'gamma', 'delta')\n",
      "<class 'tuple'>\n"
     ]
    }
   ],
   "source": [
    "dictA = {'alpha': 'd', 'beta': 'i', 'gamma': 'C', 'delta' : 't'}\n",
    "\n",
    "tupleA = tuple(dictA)\n",
    "\n",
    "print(tupleA)\n",
    "print(type(tupleA))"
   ]
  },
  {
   "cell_type": "markdown",
   "metadata": {},
   "source": [
    "# accessing `tuples[indices]`"
   ]
  },
  {
   "cell_type": "markdown",
   "metadata": {},
   "source": [
    "## `tuples` elements `can only be accessed` AFTER CREATION\n",
    " in contrast to `list`,`dict`\n",
    "\n",
    "#### CAN NOT be `assigned new values`\n",
    "#### CAN BE used on `EXISTING key-value pair`"
   ]
  },
  {
   "cell_type": "code",
   "execution_count": 22,
   "metadata": {},
   "outputs": [],
   "source": [
    " # TypeError: 'tuple' object does not support item assignment\n",
    "\n",
    "tupleA = (1,'two',3.14,True)\n",
    "\n",
    "#tupleA[0] = 2"
   ]
  },
  {
   "cell_type": "markdown",
   "metadata": {},
   "source": [
    "# most list operators work on tuples()"
   ]
  },
  {
   "cell_type": "markdown",
   "metadata": {},
   "source": [
    "# `[ ]` bracket operator"
   ]
  },
  {
   "cell_type": "code",
   "execution_count": 38,
   "metadata": {},
   "outputs": [
    {
     "name": "stdout",
     "output_type": "stream",
     "text": [
      "2.718\n"
     ]
    }
   ],
   "source": [
    "tupleExample = (2.718,3.14,36,42)\n",
    "\n",
    "print(tupleExample[0])"
   ]
  },
  {
   "cell_type": "markdown",
   "metadata": {},
   "source": [
    "# `[ : ]` slice (subset) operator"
   ]
  },
  {
   "cell_type": "code",
   "execution_count": null,
   "metadata": {},
   "outputs": [],
   "source": [
    "tupleExample = (2.718,3.14,36,42)\n",
    "\n",
    "print(tupleExample[0:3])"
   ]
  },
  {
   "cell_type": "markdown",
   "metadata": {},
   "source": [
    "## key must be valid or error will be produced"
   ]
  },
  {
   "cell_type": "code",
   "execution_count": 24,
   "metadata": {},
   "outputs": [],
   "source": [
    "tupleA = (1,'two',3.14,True)\n"
   ]
  },
  {
   "cell_type": "code",
   "execution_count": 31,
   "metadata": {
    "scrolled": false
   },
   "outputs": [
    {
     "name": "stdout",
     "output_type": "stream",
     "text": [
      "True\n"
     ]
    }
   ],
   "source": [
    "print(tupleA[3])"
   ]
  },
  {
   "cell_type": "code",
   "execution_count": 33,
   "metadata": {},
   "outputs": [],
   "source": [
    "# IndexError: tuple index out of range\n",
    "\n",
    "# print(tupleA[4])"
   ]
  },
  {
   "cell_type": "markdown",
   "metadata": {},
   "source": [
    "# `order` of list `values` is in index order"
   ]
  },
  {
   "cell_type": "code",
   "execution_count": 37,
   "metadata": {},
   "outputs": [
    {
     "name": "stdout",
     "output_type": "stream",
     "text": [
      "uscgc venturous\n",
      "reliance class\n",
      "hull number 625\n"
     ]
    }
   ],
   "source": [
    "wmec625 = ('uscgc venturous','reliance class','medium endurance cutter',\n",
    "'tonnage 210', 'hull number 625')\n",
    "\n",
    "\n",
    "print(wmec625[0])\n",
    "print(wmec625[1])\n",
    "print(wmec625[-1])"
   ]
  },
  {
   "cell_type": "markdown",
   "metadata": {},
   "source": [
    "# 1 tuple() can be replaced with another\n",
    "- like 'string's can return `current string` concatenate with another tuple\n",
    "- assignment to new tuple() or reassignment to current tuple name"
   ]
  },
  {
   "cell_type": "code",
   "execution_count": 68,
   "metadata": {},
   "outputs": [],
   "source": [
    "tupleExample = ('one','two','three',4,5,6)\n"
   ]
  },
  {
   "cell_type": "code",
   "execution_count": 69,
   "metadata": {},
   "outputs": [
    {
     "name": "stdout",
     "output_type": "stream",
     "text": [
      "('**ITEM ADDED**', 'one', 'two', 'three', 4, 5, 6)\n"
     ]
    }
   ],
   "source": [
    "tupleExample = ('**ITEM ADDED**',) + tupleExample\n",
    "\n",
    "print(tupleExample)"
   ]
  },
  {
   "cell_type": "code",
   "execution_count": 70,
   "metadata": {},
   "outputs": [
    {
     "name": "stdout",
     "output_type": "stream",
     "text": [
      "('**ITEM ADDED**', '**ITEM ADDED**', 'one')\n"
     ]
    }
   ],
   "source": [
    "tupleExample = ('**ITEM ADDED**',) + tupleExample[0:2]\n",
    "\n",
    "print(tupleExample)"
   ]
  },
  {
   "cell_type": "code",
   "execution_count": 71,
   "metadata": {},
   "outputs": [],
   "source": [
    "tupleExample = ('one','two','three',4,5,6)\n"
   ]
  },
  {
   "cell_type": "code",
   "execution_count": 72,
   "metadata": {},
   "outputs": [
    {
     "name": "stdout",
     "output_type": "stream",
     "text": [
      "('one', 'two', 'three', 4, 5, 6, '**added-seven**')\n"
     ]
    }
   ],
   "source": [
    "\n",
    "\n",
    "newTuple = tupleExample + ('**added-seven**',)\n",
    "\n",
    "print(newTuple)"
   ]
  },
  {
   "cell_type": "code",
   "execution_count": 73,
   "metadata": {},
   "outputs": [
    {
     "name": "stdout",
     "output_type": "stream",
     "text": [
      "('one', 'two', 'three', '**four-added**', '**five-added**')\n"
     ]
    }
   ],
   "source": [
    "\n",
    "\n",
    "newTuple = tupleExample[0:3] + ('**four-added**','**five-added**')\n",
    "\n",
    "print(newTuple)"
   ]
  },
  {
   "cell_type": "code",
   "execution_count": 74,
   "metadata": {},
   "outputs": [],
   "source": [
    "#################################################################"
   ]
  },
  {
   "cell_type": "code",
   "execution_count": null,
   "metadata": {},
   "outputs": [],
   "source": []
  },
  {
   "cell_type": "code",
   "execution_count": null,
   "metadata": {},
   "outputs": [],
   "source": []
  },
  {
   "cell_type": "code",
   "execution_count": null,
   "metadata": {},
   "outputs": [],
   "source": []
  },
  {
   "cell_type": "code",
   "execution_count": null,
   "metadata": {},
   "outputs": [],
   "source": []
  },
  {
   "cell_type": "markdown",
   "metadata": {},
   "source": [
    "## `values` can be `different types`\n",
    "\n",
    "## `(objects)` & `other collections` \n",
    "\n",
    "### (lists,dictionaries,tuples,etc.)"
   ]
  },
  {
   "cell_type": "code",
   "execution_count": 107,
   "metadata": {
    "scrolled": true
   },
   "outputs": [
    {
     "name": "stdout",
     "output_type": "stream",
     "text": [
      "{'vessel': 'uscgc venturous', 'class': ['Reliance', 'Diligence', 'Vigilant', 'Active', 'Confidence', 'Resolute', 'Valiant', 'Courageous', 'Steadfast', 'Dauntless', 'Venturous', 'Dependable', 'Vigorous', 'Durable', 'Decisive', 'Alert'], 'type': 'medium endurance cutter', 'tonnage': 210, 'hull number': 625, 'underway': True}\n",
      "\n",
      "<class 'list'>\n",
      "['Reliance', 'Diligence', 'Vigilant', 'Active', 'Confidence', 'Resolute', 'Valiant', 'Courageous', 'Steadfast', 'Dauntless', 'Venturous', 'Dependable', 'Vigorous', 'Durable', 'Decisive', 'Alert']\n"
     ]
    }
   ],
   "source": [
    "wmexHull = ['WMEC-615','WMEC-616','WMEC-617','WMEC-618','WMEC-619','WMEC-620','WMEC-621','WMEC-622','WMEC-623','WMEC-624',\n",
    "'WMEC-625','WMEC-626','WMEC-627','WMEC-628','WMEC-629','WMEC-630']\n",
    "\n",
    "\n",
    "wmecClass = ['Reliance','Diligence','Vigilant','Active','Confidence','Resolute','Valiant','Courageous','Steadfast','Dauntless',\n",
    "'Venturous','Dependable','Vigorous','Durable','Decisive','Alert']\n",
    "\n",
    "cutter = {'vessel':'uscgc venturous','class':wmecClass,'type':'medium endurance cutter',\n",
    "'tonnage':210, 'hull number':625,'underway':True}\n",
    "\n",
    "\n",
    "print(cutter)\n",
    "print()\n",
    "\n",
    "print(type(cutter['class']))\n",
    "print(cutter['class'])"
   ]
  },
  {
   "cell_type": "markdown",
   "metadata": {},
   "source": [
    "# update expression\n",
    "\n",
    "### `dictionary.update(KEY:VALUE)`\n",
    "- EXISTING key-value pairs updated\n",
    "- NEW key-value pair added"
   ]
  },
  {
   "cell_type": "code",
   "execution_count": 113,
   "metadata": {},
   "outputs": [
    {
     "name": "stdout",
     "output_type": "stream",
     "text": [
      "{'vessel name': 'venturous', 'underway': True, 'tonnage': 210}\n"
     ]
    }
   ],
   "source": [
    "dictionaryA = {'vessel name':'venturous','underway':True,'tonnage':210}\n",
    "print(dictionaryA)\n"
   ]
  },
  {
   "cell_type": "code",
   "execution_count": 119,
   "metadata": {},
   "outputs": [
    {
     "name": "stdout",
     "output_type": "stream",
     "text": [
      "{'vessel name': '**UPDATED VALUE**', 'underway': True, 'tonnage': 210}\n"
     ]
    }
   ],
   "source": [
    "dictionaryA.update({'vessel name': '**UPDATED VALUE**', 'underway': True, 'tonnage': 210})\n",
    "print(dictionaryA)\n"
   ]
  },
  {
   "cell_type": "code",
   "execution_count": 120,
   "metadata": {},
   "outputs": [
    {
     "name": "stdout",
     "output_type": "stream",
     "text": [
      "{'vessel name': '**UPDATED VALUE**', 'underway': True, 'tonnage': 210, '**UPDATED KEY**': '**UPDATED VALUE'}\n"
     ]
    }
   ],
   "source": [
    "dictionaryA.update({'**UPDATED KEY**':'**UPDATED VALUE'})\n",
    "print(dictionaryA)\n"
   ]
  },
  {
   "cell_type": "markdown",
   "metadata": {},
   "source": [
    "# `len()`\n",
    "#### returns number of key-value pairs"
   ]
  },
  {
   "cell_type": "code",
   "execution_count": 103,
   "metadata": {
    "scrolled": true
   },
   "outputs": [
    {
     "data": {
      "text/plain": [
       "6"
      ]
     },
     "execution_count": 103,
     "metadata": {},
     "output_type": "execute_result"
    }
   ],
   "source": [
    "len(cutter)"
   ]
  },
  {
   "cell_type": "markdown",
   "metadata": {},
   "source": [
    "## python does not automatically `iterate` through the `values` of a dict()\n",
    "### unlike a list()\n",
    "## a `for loop iterator` will return the `keys`"
   ]
  },
  {
   "cell_type": "code",
   "execution_count": 109,
   "metadata": {},
   "outputs": [
    {
     "name": "stdout",
     "output_type": "stream",
     "text": [
      "vessel\n",
      "class\n",
      "type\n",
      "tonnage\n",
      "hull number\n",
      "underway\n"
     ]
    }
   ],
   "source": [
    "for iterator in cutter:\n",
    "    print(iterator)"
   ]
  },
  {
   "cell_type": "markdown",
   "metadata": {},
   "source": [
    "# `list(dictionary.keys())`\n",
    "returns a type: `dict_keys` \n",
    "must be converted to `list()` with `list()`to be searched"
   ]
  },
  {
   "cell_type": "code",
   "execution_count": 27,
   "metadata": {},
   "outputs": [
    {
     "name": "stdout",
     "output_type": "stream",
     "text": [
      "<class 'dict_keys'>\n"
     ]
    }
   ],
   "source": [
    "print(type(cutter.keys()))"
   ]
  },
  {
   "cell_type": "code",
   "execution_count": 28,
   "metadata": {
    "scrolled": true
   },
   "outputs": [
    {
     "name": "stdout",
     "output_type": "stream",
     "text": [
      "vessel\n",
      "class\n",
      "type\n",
      "tonnage\n",
      "hull number\n",
      "underway\n"
     ]
    }
   ],
   "source": [
    "listCutterKeys = list(cutter.keys())\n",
    "\n",
    "for keys in listCutterKeys:\n",
    "    print(keys)"
   ]
  },
  {
   "cell_type": "code",
   "execution_count": 29,
   "metadata": {},
   "outputs": [
    {
     "name": "stdout",
     "output_type": "stream",
     "text": [
      "<class 'list'>\n"
     ]
    }
   ],
   "source": [
    "print(type(listCutterKeys))\n"
   ]
  },
  {
   "cell_type": "markdown",
   "metadata": {},
   "source": [
    "# for `iterator`,`iterator` in list()\n",
    "## `2 iterators` to loop through `tuple values`\n",
    "### definite for loop"
   ]
  },
  {
   "cell_type": "code",
   "execution_count": 39,
   "metadata": {},
   "outputs": [
    {
     "name": "stdout",
     "output_type": "stream",
     "text": [
      "key: vessel \n",
      "value: uscgc venturous \n",
      "\n",
      "key: class \n",
      "value: ['Reliance', 'Diligence', 'Vigilant', 'Active', 'Confidence', 'Resolute', 'Valiant', 'Courageous', 'Steadfast', 'Dauntless', 'Venturous', 'Dependable', 'Vigorous', 'Durable', 'Decisive', 'Alert'] \n",
      "\n",
      "key: type \n",
      "value: medium endurance cutter \n",
      "\n",
      "key: tonnage \n",
      "value: 210 \n",
      "\n",
      "key: hull number \n",
      "value: 625 \n",
      "\n",
      "key: underway \n",
      "value: True \n",
      "\n"
     ]
    }
   ],
   "source": [
    "for key,value in cutter.items():\n",
    "    print('key:',key,'\\nvalue:',value,'\\n')"
   ]
  },
  {
   "cell_type": "markdown",
   "metadata": {},
   "source": [
    "# print(`item[INDEX]`)\n",
    "# print(`item[INDEX]`)\n",
    "\n",
    "### dictionary `key-value`s returned as `tuple`\n",
    "### `access elements` of `tuple` by `index` in list"
   ]
  },
  {
   "cell_type": "code",
   "execution_count": 3,
   "metadata": {},
   "outputs": [
    {
     "name": "stdout",
     "output_type": "stream",
     "text": [
      "vessel\n",
      "uscgc venturous\n",
      "\n",
      "class\n",
      "reliance\n",
      "\n",
      "type\n",
      "medium endurance cutter\n",
      "\n",
      "tonnage\n",
      "210\n",
      "\n",
      "hull number\n",
      "625\n",
      "\n",
      "underway\n",
      "True\n",
      "\n"
     ]
    }
   ],
   "source": [
    "for item in cutter.items():\n",
    "    print(item[0])\n",
    "    print(item[1])\n",
    "    print()"
   ]
  },
  {
   "cell_type": "markdown",
   "metadata": {},
   "source": [
    "# `in` operator\n",
    "#### returns `boolean`\n",
    "#### returns `True` if `operand is a KEY` in dictionary\n",
    "#### returns `False` if `otherwise`"
   ]
  },
  {
   "cell_type": "code",
   "execution_count": 42,
   "metadata": {},
   "outputs": [
    {
     "name": "stdout",
     "output_type": "stream",
     "text": [
      "{'vessel': 'uscgc venturous', 'class': ['Reliance', 'Diligence', 'Vigilant', 'Active', 'Confidence', 'Resolute', 'Valiant', 'Courageous', 'Steadfast', 'Dauntless', 'Venturous', 'Dependable', 'Vigorous', 'Durable', 'Decisive', 'Alert'], 'type': 'medium endurance cutter', 'tonnage': 210, 'hull number': 625, 'underway': True}\n"
     ]
    }
   ],
   "source": [
    "print(cutter)"
   ]
  },
  {
   "cell_type": "code",
   "execution_count": 104,
   "metadata": {},
   "outputs": [
    {
     "data": {
      "text/plain": [
       "True"
      ]
     },
     "execution_count": 104,
     "metadata": {},
     "output_type": "execute_result"
    }
   ],
   "source": [
    "'vessel' in cutter"
   ]
  },
  {
   "cell_type": "code",
   "execution_count": 105,
   "metadata": {
    "scrolled": true
   },
   "outputs": [
    {
     "data": {
      "text/plain": [
       "False"
      ]
     },
     "execution_count": 105,
     "metadata": {},
     "output_type": "execute_result"
    }
   ],
   "source": [
    "'years active' in cutter"
   ]
  },
  {
   "cell_type": "code",
   "execution_count": 43,
   "metadata": {},
   "outputs": [
    {
     "data": {
      "text/plain": [
       "False"
      ]
     },
     "execution_count": 43,
     "metadata": {},
     "output_type": "execute_result"
    }
   ],
   "source": [
    "'uscgc venturous' in cutter"
   ]
  }
 ],
 "metadata": {
  "kernelspec": {
   "display_name": "Python 3",
   "language": "python",
   "name": "python3"
  },
  "language_info": {
   "codemirror_mode": {
    "name": "ipython",
    "version": 3
   },
   "file_extension": ".py",
   "mimetype": "text/x-python",
   "name": "python",
   "nbconvert_exporter": "python",
   "pygments_lexer": "ipython3",
   "version": "3.7.1"
  }
 },
 "nbformat": 4,
 "nbformat_minor": 2
}
