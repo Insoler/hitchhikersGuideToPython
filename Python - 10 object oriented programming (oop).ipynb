{
 "cells": [
  {
   "cell_type": "markdown",
   "metadata": {},
   "source": [
    "# `Python`\n",
    "## Object Oriented Programming\n",
    " \n",
    " <img src=\"pythonLogo.png\" height=\"20%\" width=\"20%\"/>"
   ]
  },
  {
   "cell_type": "markdown",
   "metadata": {},
   "source": [
    "# creating a `class`\n",
    "\n",
    "# `class` `className`:\n",
    "\n",
    "###    - parameters\n",
    "###    - methods"
   ]
  },
  {
   "cell_type": "code",
   "execution_count": 34,
   "metadata": {},
   "outputs": [],
   "source": [
    "# can use pass keyword to leave example class blank"
   ]
  },
  {
   "cell_type": "code",
   "execution_count": 35,
   "metadata": {},
   "outputs": [],
   "source": [
    "class satellite:\n",
    "    \n",
    "    pass"
   ]
  },
  {
   "cell_type": "markdown",
   "metadata": {},
   "source": [
    "# instantiate an `instance` of `object`\n",
    "\n",
    "# `instanceName` = `className`()"
   ]
  },
  {
   "cell_type": "code",
   "execution_count": 38,
   "metadata": {},
   "outputs": [],
   "source": [
    "eo42 = satellite()"
   ]
  },
  {
   "cell_type": "markdown",
   "metadata": {},
   "source": [
    "# prints location"
   ]
  },
  {
   "cell_type": "code",
   "execution_count": 37,
   "metadata": {},
   "outputs": [
    {
     "name": "stdout",
     "output_type": "stream",
     "text": [
      "<class '__main__.satellite'>\n"
     ]
    }
   ],
   "source": [
    "print(eo42)"
   ]
  },
  {
   "cell_type": "markdown",
   "metadata": {},
   "source": [
    "# manually create `instance variables`\n",
    "# `instanceName`.`instanceVariable` = `value`"
   ]
  },
  {
   "cell_type": "code",
   "execution_count": 125,
   "metadata": {},
   "outputs": [],
   "source": [
    "eo42.typeSat = 'Earth Observation'\n",
    "eo42.sensors = ['radar','lidar']"
   ]
  },
  {
   "cell_type": "code",
   "execution_count": 126,
   "metadata": {
    "scrolled": true
   },
   "outputs": [
    {
     "name": "stdout",
     "output_type": "stream",
     "text": [
      "Earth Observation\n",
      "['radar', 'lidar']\n"
     ]
    }
   ],
   "source": [
    "print(eo42.typeSat)\n",
    "print(eo42.sensors)"
   ]
  },
  {
   "cell_type": "code",
   "execution_count": 127,
   "metadata": {},
   "outputs": [],
   "source": [
    "eo100 = satellite()"
   ]
  },
  {
   "cell_type": "code",
   "execution_count": 128,
   "metadata": {},
   "outputs": [],
   "source": [
    "eo100.typeSat = 'Communications'\n",
    "eo100.transmitters = 'Radio'\n",
    "eo100.frequency = 20.005"
   ]
  },
  {
   "cell_type": "code",
   "execution_count": 129,
   "metadata": {},
   "outputs": [
    {
     "name": "stdout",
     "output_type": "stream",
     "text": [
      "Communications\n",
      "Radio\n",
      "20.005\n"
     ]
    }
   ],
   "source": [
    "print(eo100.typeSat)\n",
    "print(eo100.transmitters)\n",
    "print(eo100.frequency)"
   ]
  },
  {
   "cell_type": "code",
   "execution_count": 132,
   "metadata": {
    "scrolled": true
   },
   "outputs": [
    {
     "name": "stdout",
     "output_type": "stream",
     "text": [
      "Earth Observation\n",
      "['radar', 'lidar']\n"
     ]
    }
   ],
   "source": [
    "print(eo42.typeSat)\n",
    "print(eo42.sensors)"
   ]
  },
  {
   "cell_type": "code",
   "execution_count": null,
   "metadata": {},
   "outputs": [],
   "source": []
  },
  {
   "cell_type": "code",
   "execution_count": null,
   "metadata": {},
   "outputs": [],
   "source": []
  },
  {
   "cell_type": "markdown",
   "metadata": {},
   "source": [
    "# class variables\n",
    "# global variables"
   ]
  },
  {
   "cell_type": "code",
   "execution_count": 4,
   "metadata": {},
   "outputs": [],
   "source": [
    "class objectClass:\n",
    "    pass"
   ]
  },
  {
   "cell_type": "code",
   "execution_count": 5,
   "metadata": {},
   "outputs": [],
   "source": [
    "secondObjectFromObjectClass = objectClass()"
   ]
  },
  {
   "cell_type": "code",
   "execution_count": 39,
   "metadata": {},
   "outputs": [
    {
     "ename": "AttributeError",
     "evalue": "type object 'objectClass' has no attribute 'someUnmadeVariable'",
     "output_type": "error",
     "traceback": [
      "\u001b[1;31m---------------------------------------------------------------------------\u001b[0m",
      "\u001b[1;31mAttributeError\u001b[0m                            Traceback (most recent call last)",
      "\u001b[1;32m<ipython-input-39-24fa0a72954b>\u001b[0m in \u001b[0;36m<module>\u001b[1;34m\u001b[0m\n\u001b[1;32m----> 1\u001b[1;33m \u001b[0mprint\u001b[0m\u001b[1;33m(\u001b[0m\u001b[0mobjectClass\u001b[0m\u001b[1;33m.\u001b[0m\u001b[0msomeUnmadeVariable\u001b[0m\u001b[1;33m)\u001b[0m\u001b[1;33m\u001b[0m\u001b[1;33m\u001b[0m\u001b[0m\n\u001b[0m",
      "\u001b[1;31mAttributeError\u001b[0m: type object 'objectClass' has no attribute 'someUnmadeVariable'"
     ]
    }
   ],
   "source": [
    "print(objectClass.someUnmadeVariable)"
   ]
  },
  {
   "cell_type": "code",
   "execution_count": 40,
   "metadata": {},
   "outputs": [
    {
     "ename": "AttributeError",
     "evalue": "'objectClass' object has no attribute 'someUnmadeVariable'",
     "output_type": "error",
     "traceback": [
      "\u001b[1;31m---------------------------------------------------------------------------\u001b[0m",
      "\u001b[1;31mAttributeError\u001b[0m                            Traceback (most recent call last)",
      "\u001b[1;32m<ipython-input-40-7c120a1746b7>\u001b[0m in \u001b[0;36m<module>\u001b[1;34m\u001b[0m\n\u001b[1;32m----> 1\u001b[1;33m \u001b[0mprint\u001b[0m\u001b[1;33m(\u001b[0m\u001b[0msecondObjectFromObjectClass\u001b[0m\u001b[1;33m.\u001b[0m\u001b[0msomeUnmadeVariable\u001b[0m\u001b[1;33m)\u001b[0m\u001b[1;33m\u001b[0m\u001b[1;33m\u001b[0m\u001b[0m\n\u001b[0m",
      "\u001b[1;31mAttributeError\u001b[0m: 'objectClass' object has no attribute 'someUnmadeVariable'"
     ]
    }
   ],
   "source": [
    "print(secondObjectFromObjectClass.someUnmadeVariable)"
   ]
  },
  {
   "cell_type": "code",
   "execution_count": 41,
   "metadata": {},
   "outputs": [],
   "source": [
    "#\n",
    "\n",
    "secondObjectFromObjectClass.integerVariable = 42\n",
    "secondObjectFromObjectClass.floatVariable = 3.14\n",
    "secondObjectFromObjectClass.stringVariable = '2.718'"
   ]
  },
  {
   "cell_type": "code",
   "execution_count": 42,
   "metadata": {},
   "outputs": [
    {
     "name": "stdout",
     "output_type": "stream",
     "text": [
      "2.718\n"
     ]
    }
   ],
   "source": [
    "print(secondObjectFromObjectClass.stringVariable)"
   ]
  },
  {
   "cell_type": "code",
   "execution_count": 43,
   "metadata": {},
   "outputs": [],
   "source": [
    "secondObjectFromObjectClass.stringVariable = 'cheese incident'"
   ]
  },
  {
   "cell_type": "code",
   "execution_count": 44,
   "metadata": {},
   "outputs": [
    {
     "name": "stdout",
     "output_type": "stream",
     "text": [
      "cheese incident\n"
     ]
    }
   ],
   "source": [
    "print(secondObjectFromObjectClass.stringVariable)"
   ]
  },
  {
   "cell_type": "code",
   "execution_count": 45,
   "metadata": {},
   "outputs": [],
   "source": [
    "# global objectClass - object class example\n",
    "\n",
    "# stringVariable is now changed by instance change"
   ]
  },
  {
   "cell_type": "code",
   "execution_count": 46,
   "metadata": {},
   "outputs": [
    {
     "name": "stdout",
     "output_type": "stream",
     "text": [
      "hello object world\n"
     ]
    }
   ],
   "source": [
    "thirdObjectFromObjectClass = objectClass()\n",
    "\n",
    "print(thirdObjectFromObjectClass.stringVariable)"
   ]
  },
  {
   "cell_type": "code",
   "execution_count": 47,
   "metadata": {},
   "outputs": [
    {
     "name": "stdout",
     "output_type": "stream",
     "text": [
      "hello object world\n"
     ]
    }
   ],
   "source": [
    "print(objectClass.stringVariable)"
   ]
  },
  {
   "cell_type": "code",
   "execution_count": 48,
   "metadata": {},
   "outputs": [
    {
     "name": "stdout",
     "output_type": "stream",
     "text": [
      "third object's value for string\n"
     ]
    }
   ],
   "source": [
    "thirdObjectFromObjectClass.stringVariable = 'third object\\'s value for string'\n",
    "print(thirdObjectFromObjectClass.stringVariable)"
   ]
  },
  {
   "cell_type": "code",
   "execution_count": 49,
   "metadata": {},
   "outputs": [
    {
     "name": "stdout",
     "output_type": "stream",
     "text": [
      "hello object world\n"
     ]
    }
   ],
   "source": [
    "print(objectClass.stringVariable)"
   ]
  },
  {
   "cell_type": "code",
   "execution_count": 50,
   "metadata": {
    "scrolled": true
   },
   "outputs": [
    {
     "name": "stdout",
     "output_type": "stream",
     "text": [
      "cheese incident\n"
     ]
    }
   ],
   "source": [
    "print(secondObjectFromObjectClass.stringVariable)"
   ]
  },
  {
   "cell_type": "code",
   "execution_count": 51,
   "metadata": {},
   "outputs": [],
   "source": [
    "# class global variable\n",
    "# once a variable is made for the class - it is shared by all the instances of that class"
   ]
  },
  {
   "cell_type": "code",
   "execution_count": 52,
   "metadata": {},
   "outputs": [],
   "source": [
    "newObject = objectClass()"
   ]
  },
  {
   "cell_type": "code",
   "execution_count": 53,
   "metadata": {},
   "outputs": [
    {
     "name": "stdout",
     "output_type": "stream",
     "text": [
      "hello object world\n"
     ]
    }
   ],
   "source": [
    "print(newObject.stringVariable)"
   ]
  },
  {
   "cell_type": "code",
   "execution_count": 54,
   "metadata": {
    "scrolled": false
   },
   "outputs": [
    {
     "name": "stdout",
     "output_type": "stream",
     "text": [
      "hello object world\n"
     ]
    }
   ],
   "source": [
    "print(objectClass.stringVariable)"
   ]
  },
  {
   "cell_type": "code",
   "execution_count": 55,
   "metadata": {},
   "outputs": [
    {
     "name": "stdout",
     "output_type": "stream",
     "text": [
      "cheese incident\n"
     ]
    }
   ],
   "source": [
    "print(secondObjectFromObjectClass.stringVariable)"
   ]
  },
  {
   "cell_type": "code",
   "execution_count": 56,
   "metadata": {},
   "outputs": [
    {
     "name": "stdout",
     "output_type": "stream",
     "text": [
      "hello object world\n"
     ]
    }
   ],
   "source": [
    "fourthInstance = objectClass\n",
    "print(fourthInstance.stringVariable)"
   ]
  },
  {
   "cell_type": "code",
   "execution_count": 57,
   "metadata": {},
   "outputs": [],
   "source": [
    "objectClass.stringVariable = 'hello object world'"
   ]
  },
  {
   "cell_type": "code",
   "execution_count": 58,
   "metadata": {},
   "outputs": [
    {
     "name": "stdout",
     "output_type": "stream",
     "text": [
      "hello object world\n"
     ]
    }
   ],
   "source": [
    "print(fourthInstance.stringVariable)"
   ]
  },
  {
   "cell_type": "code",
   "execution_count": 59,
   "metadata": {},
   "outputs": [],
   "source": [
    "objectClass.stringVariable = 'strrrring'"
   ]
  },
  {
   "cell_type": "code",
   "execution_count": 60,
   "metadata": {},
   "outputs": [
    {
     "name": "stdout",
     "output_type": "stream",
     "text": [
      "strrrring\n"
     ]
    }
   ],
   "source": [
    "print(fourthInstance.stringVariable)"
   ]
  },
  {
   "cell_type": "code",
   "execution_count": 61,
   "metadata": {},
   "outputs": [],
   "source": [
    "fourthInstance.stringVariable = 'third object\\'s value for string'"
   ]
  },
  {
   "cell_type": "code",
   "execution_count": 62,
   "metadata": {},
   "outputs": [
    {
     "name": "stdout",
     "output_type": "stream",
     "text": [
      "third object's value for string\n"
     ]
    }
   ],
   "source": [
    "print(fourthInstance.stringVariable)"
   ]
  },
  {
   "cell_type": "markdown",
   "metadata": {},
   "source": [
    "# create `initializer`\n",
    "# `def __init__(self,parameter,parameter...):`\n",
    "- ### same as `constructor` in other object oriented language paradigms"
   ]
  },
  {
   "cell_type": "markdown",
   "metadata": {},
   "source": [
    "# can create `class variables` \n",
    "\n",
    "## as `literals` \n",
    "\n",
    "- ## or using OTHER `class variables`\n",
    "\n",
    "## to create `parameters` that accept `arguments`"
   ]
  },
  {
   "cell_type": "code",
   "execution_count": 1,
   "metadata": {},
   "outputs": [],
   "source": [
    "# self.description = 'This is a ' + typeSat + ' satellite.\\nwith transmitters: ' + str(transmitters) +'\\nfrequency: ' + str(frequency)"
   ]
  },
  {
   "cell_type": "code",
   "execution_count": 113,
   "metadata": {},
   "outputs": [],
   "source": [
    "class satellite:\n",
    "    \n",
    "    def __init__(self,typeSat,transmitters = None,frequency = None):    # set default for some variables\n",
    "        self.typeSat = typeSat\n",
    "        self.transmitters = transmitters\n",
    "        self.frequency = frequency\n",
    "        self.description = 'This is a ' + typeSat + ' satellite\\nequipment read out>>>\\ntransmitters: ' + str(transmitters) +'\\nfrequency: ' + str(frequency)"
   ]
  },
  {
   "cell_type": "code",
   "execution_count": 114,
   "metadata": {},
   "outputs": [],
   "source": [
    "eo314 = satellite('Communications')"
   ]
  },
  {
   "cell_type": "code",
   "execution_count": 115,
   "metadata": {},
   "outputs": [
    {
     "name": "stdout",
     "output_type": "stream",
     "text": [
      "Communications\n",
      "This is a Communications satellite\n",
      "equipment read out>>>\n",
      "transmitters: None\n",
      "frequency: None\n"
     ]
    }
   ],
   "source": [
    "print(eo314.typeSat)\n",
    "print(eo314.description)"
   ]
  },
  {
   "cell_type": "code",
   "execution_count": 116,
   "metadata": {},
   "outputs": [],
   "source": [
    "eo2718 = satellite('Earth Observation','Radio',20.005)"
   ]
  },
  {
   "cell_type": "code",
   "execution_count": 117,
   "metadata": {},
   "outputs": [
    {
     "name": "stdout",
     "output_type": "stream",
     "text": [
      "This is a Earth Observation satellite\n",
      "equipment read out>>>\n",
      "transmitters: Radio\n",
      "frequency: 20.005\n"
     ]
    }
   ],
   "source": [
    "print(eo2718.description)"
   ]
  },
  {
   "cell_type": "code",
   "execution_count": 118,
   "metadata": {},
   "outputs": [
    {
     "name": "stdout",
     "output_type": "stream",
     "text": [
      "Radio 20.005\n"
     ]
    }
   ],
   "source": [
    "####\n",
    "\n",
    "print('{} {}'.format(eo2718.transmitters,eo2718.frequency))"
   ]
  },
  {
   "cell_type": "code",
   "execution_count": null,
   "metadata": {},
   "outputs": [],
   "source": []
  },
  {
   "cell_type": "code",
   "execution_count": 119,
   "metadata": {},
   "outputs": [],
   "source": [
    "class satellite:\n",
    "    \n",
    "    def __init__(self,typeSat,transmitters = None,frequency = None):    # set default for some variables\n",
    "        self.typeSat = typeSat\n",
    "        self.transmitters = transmitters\n",
    "        self.frequency = frequency        \n",
    "        \n",
    "    def description(self):\n",
    "        return self.transmitters,self.frequency\n",
    "    \n"
   ]
  },
  {
   "cell_type": "code",
   "execution_count": 121,
   "metadata": {},
   "outputs": [],
   "source": [
    "eo314 = satellite('Earth Observation','Radio',20.005)"
   ]
  },
  {
   "cell_type": "code",
   "execution_count": 126,
   "metadata": {},
   "outputs": [
    {
     "name": "stdout",
     "output_type": "stream",
     "text": [
      "<bound method satellite.description of <__main__.satellite object at 0x000001A917C5CAC8>>\n"
     ]
    }
   ],
   "source": [
    "print(eo314.description)"
   ]
  },
  {
   "cell_type": "code",
   "execution_count": 127,
   "metadata": {},
   "outputs": [
    {
     "name": "stdout",
     "output_type": "stream",
     "text": [
      "('Radio', 20.005)\n"
     ]
    }
   ],
   "source": [
    "print(eo314.description())"
   ]
  },
  {
   "cell_type": "code",
   "execution_count": 130,
   "metadata": {},
   "outputs": [
    {
     "data": {
      "text/plain": [
       "('Radio', 20.005)"
      ]
     },
     "execution_count": 130,
     "metadata": {},
     "output_type": "execute_result"
    }
   ],
   "source": [
    "satellite.description(eo314)"
   ]
  },
  {
   "cell_type": "code",
   "execution_count": 131,
   "metadata": {},
   "outputs": [
    {
     "data": {
      "text/plain": [
       "('Radio', 20.005)"
      ]
     },
     "execution_count": 131,
     "metadata": {},
     "output_type": "execute_result"
    }
   ],
   "source": [
    "eo314.description()"
   ]
  },
  {
   "cell_type": "code",
   "execution_count": null,
   "metadata": {},
   "outputs": [],
   "source": []
  }
 ],
 "metadata": {
  "kernelspec": {
   "display_name": "Python 3",
   "language": "python",
   "name": "python3"
  },
  "language_info": {
   "codemirror_mode": {
    "name": "ipython",
    "version": 3
   },
   "file_extension": ".py",
   "mimetype": "text/x-python",
   "name": "python",
   "nbconvert_exporter": "python",
   "pygments_lexer": "ipython3",
   "version": "3.7.3"
  }
 },
 "nbformat": 4,
 "nbformat_minor": 2
}
