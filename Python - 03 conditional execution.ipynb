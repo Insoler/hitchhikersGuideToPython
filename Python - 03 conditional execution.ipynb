{
 "cells": [
  {
   "cell_type": "markdown",
   "metadata": {},
   "source": [
    "# `Python`\n",
    "## Conditional execution\n",
    " \n",
    " <img src=\"pythonLogo.png\" height=\"20%\" width=\"20%\"/>"
   ]
  },
  {
   "cell_type": "markdown",
   "metadata": {},
   "source": [
    "# conditional statement\n",
    "a statement that affects the `control of flow` by `evaluation` of a '`test condition`\n",
    "- #### header includes\n",
    "    - `if`, `elif`, or `else` \n",
    "    - condition (boolean expression)\n",
    "    - colon :\n",
    "- #### body (code block) of conditional statement \n",
    "    - executed if condition evaluates to true\n",
    "- #### `control of flow` pattern of execution"
   ]
  },
  {
   "cell_type": "markdown",
   "metadata": {},
   "source": [
    "## Boolean values\n",
    "- represent True or False"
   ]
  },
  {
   "cell_type": "code",
   "execution_count": 2,
   "metadata": {},
   "outputs": [
    {
     "data": {
      "text/plain": [
       "True"
      ]
     },
     "execution_count": 2,
     "metadata": {},
     "output_type": "execute_result"
    }
   ],
   "source": [
    "True"
   ]
  },
  {
   "cell_type": "code",
   "execution_count": 3,
   "metadata": {},
   "outputs": [
    {
     "data": {
      "text/plain": [
       "False"
      ]
     },
     "execution_count": 3,
     "metadata": {},
     "output_type": "execute_result"
    }
   ],
   "source": [
    "False"
   ]
  },
  {
   "cell_type": "code",
   "execution_count": 5,
   "metadata": {},
   "outputs": [
    {
     "name": "stdout",
     "output_type": "stream",
     "text": [
      "True\n"
     ]
    }
   ],
   "source": [
    "escapeVelocityAchieved = True\n",
    "\n",
    "print(escapeVelocityAchieved)"
   ]
  },
  {
   "cell_type": "code",
   "execution_count": 8,
   "metadata": {},
   "outputs": [
    {
     "name": "stdout",
     "output_type": "stream",
     "text": [
      "<class 'bool'>\n"
     ]
    }
   ],
   "source": [
    "print(type(False))"
   ]
  },
  {
   "cell_type": "markdown",
   "metadata": {},
   "source": [
    "## Boolean 'String' Methods\n",
    "- return boolean value (True or False) for 'string'"
   ]
  },
  {
   "cell_type": "markdown",
   "metadata": {},
   "source": [
    "#### isalpha()\n",
    "#### islower()\n",
    "#### isupper()\n",
    "#### istitle()\n",
    "#### startswith('string')\n",
    "#### isalnum()\n",
    "#### isdigit()"
   ]
  },
  {
   "cell_type": "markdown",
   "metadata": {},
   "source": [
    "### isalpha()"
   ]
  },
  {
   "cell_type": "code",
   "execution_count": 35,
   "metadata": {},
   "outputs": [
    {
     "name": "stdout",
     "output_type": "stream",
     "text": [
      "True\n",
      "False\n"
     ]
    }
   ],
   "source": [
    "stringAlphabetical = 'alphabetical'\n",
    "\n",
    "stringBooleanTest = stringAlphabetical.isalpha()\n",
    "\n",
    "print(stringBooleanTest)\n",
    "\n",
    "\n",
    "\n",
    "stringBooleanTest = 'Are spaces [and/or] punctuation Alphabetical?'.isalpha()\n",
    "print(stringBooleanTest)"
   ]
  },
  {
   "cell_type": "markdown",
   "metadata": {},
   "source": [
    "### islower ()"
   ]
  },
  {
   "cell_type": "code",
   "execution_count": 7,
   "metadata": {},
   "outputs": [
    {
     "name": "stdout",
     "output_type": "stream",
     "text": [
      "False\n"
     ]
    }
   ],
   "source": [
    "stringAlphabetical = 'Alphabetical'\n",
    "\n",
    "stringBooleanTest = stringAlphabetical.islower()\n",
    "\n",
    "print(stringBooleanTest)"
   ]
  },
  {
   "cell_type": "markdown",
   "metadata": {},
   "source": [
    "### isupper()"
   ]
  },
  {
   "cell_type": "code",
   "execution_count": 9,
   "metadata": {},
   "outputs": [
    {
     "name": "stdout",
     "output_type": "stream",
     "text": [
      "True\n"
     ]
    }
   ],
   "source": [
    "stringAlphabetical = 'ALPHABETICAL'\n",
    "\n",
    "stringBooleanTest = stringAlphabetical.isupper()\n",
    "\n",
    "print(stringBooleanTest)"
   ]
  },
  {
   "cell_type": "markdown",
   "metadata": {},
   "source": [
    "### istitle()"
   ]
  },
  {
   "cell_type": "code",
   "execution_count": 13,
   "metadata": {},
   "outputs": [
    {
     "name": "stdout",
     "output_type": "stream",
     "text": [
      "True\n"
     ]
    }
   ],
   "source": [
    "stringAlphabetical = 'His Dark Materials'\n",
    "\n",
    "stringBooleanTest = stringAlphabetical.istitle()\n",
    "\n",
    "print(stringBooleanTest)"
   ]
  },
  {
   "cell_type": "markdown",
   "metadata": {},
   "source": [
    "### .startswith('string')"
   ]
  },
  {
   "cell_type": "code",
   "execution_count": 16,
   "metadata": {},
   "outputs": [
    {
     "name": "stdout",
     "output_type": "stream",
     "text": [
      "True\n"
     ]
    }
   ],
   "source": [
    "stringAlphabetical = 'Bowtie'\n",
    "\n",
    "stringBooleanTest = stringAlphabetical.startswith('B')\n",
    "\n",
    "print(stringBooleanTest)"
   ]
  },
  {
   "cell_type": "markdown",
   "metadata": {},
   "source": [
    "### isalnum()"
   ]
  },
  {
   "cell_type": "code",
   "execution_count": 23,
   "metadata": {},
   "outputs": [
    {
     "name": "stdout",
     "output_type": "stream",
     "text": [
      "True\n",
      "True\n",
      "True\n",
      "True\n"
     ]
    }
   ],
   "source": [
    "stringAlphabeticalA = 'AlphaNumerical010101'\n",
    "\n",
    "stringBooleanTestA = stringAlphabetical.isalnum()\n",
    "\n",
    "print(stringBooleanTest)\n",
    "\n",
    "\n",
    "\n",
    "stringAlphabeticalB = 'a'\n",
    "\n",
    "stringBooleanTestB = stringAlphabetical.isalnum()\n",
    "\n",
    "print(stringBooleanTest)\n",
    "\n",
    "\n",
    "\n",
    "stringAlphabeticalB = '!@#'\n",
    "\n",
    "stringBooleanTestB = stringAlphabetical.isalnum()\n",
    "\n",
    "print(stringBooleanTest)\n",
    "\n",
    "\n",
    "\n",
    "stringAlphabeticalB = '1'\n",
    "\n",
    "stringBooleanTestB = stringAlphabetical.isalnum()\n",
    "\n",
    "print(stringBooleanTest)"
   ]
  },
  {
   "cell_type": "markdown",
   "metadata": {},
   "source": [
    "### isdigit()"
   ]
  },
  {
   "cell_type": "code",
   "execution_count": 26,
   "metadata": {},
   "outputs": [
    {
     "name": "stdout",
     "output_type": "stream",
     "text": [
      "True\n"
     ]
    }
   ],
   "source": [
    "stringDigit = '42'                               # must be a 'string' number\n",
    "\n",
    "stringBooleanTest = stringDigit.isdigit()\n",
    "\n",
    "print(stringBooleanTest)"
   ]
  },
  {
   "cell_type": "markdown",
   "metadata": {},
   "source": [
    "#### LOOPS INVOLVING 'string'.methods()"
   ]
  },
  {
   "cell_type": "code",
   "execution_count": 24,
   "metadata": {},
   "outputs": [
    {
     "name": "stdout",
     "output_type": "stream",
     "text": [
      "Enter a word: 1\n",
      "Enter a word only\n",
      "1\n",
      "Enter a word: 1a22dddww\n",
      "Enter a word only\n",
      "1a22dddww\n",
      "Enter a word: alpha\n",
      "alpha\n"
     ]
    }
   ],
   "source": [
    "# BOOLEAN FLAG\n",
    "\n",
    "findWord = False\n",
    "\n",
    "while not findWord:\n",
    "    \n",
    "    enterWord = input('Enter a word: ')\n",
    "    \n",
    "    if enterWord.isalpha():\n",
    "        findWord = True\n",
    "        \n",
    "    else:\n",
    "        print('Enter a word only')\n",
    "    \n",
    "    print(enterWord)"
   ]
  },
  {
   "cell_type": "markdown",
   "metadata": {},
   "source": [
    "## Comparison Operators\n",
    "- also called relational operators\n",
    "- perform a comparison of values\n",
    "and decide if the relation among them is True of False\n",
    "- Return a value of True or False"
   ]
  },
  {
   "cell_type": "code",
   "execution_count": null,
   "metadata": {},
   "outputs": [],
   "source": [
    "# ==\n",
    "# !=\n",
    "# >\n",
    "# >=\n",
    "# <\n",
    "# <=\n",
    "# >"
   ]
  },
  {
   "cell_type": "code",
   "execution_count": null,
   "metadata": {},
   "outputs": [],
   "source": [
    "# Equal to                   =="
   ]
  },
  {
   "cell_type": "code",
   "execution_count": null,
   "metadata": {},
   "outputs": [],
   "source": [
    "# Not equal to               !="
   ]
  },
  {
   "cell_type": "code",
   "execution_count": null,
   "metadata": {},
   "outputs": [],
   "source": [
    "# Greater than               >"
   ]
  },
  {
   "cell_type": "code",
   "execution_count": null,
   "metadata": {},
   "outputs": [],
   "source": [
    "# Greater than or equal to   >="
   ]
  },
  {
   "cell_type": "code",
   "execution_count": null,
   "metadata": {},
   "outputs": [],
   "source": [
    "# Less than                  <"
   ]
  },
  {
   "cell_type": "code",
   "execution_count": null,
   "metadata": {},
   "outputs": [],
   "source": [
    "# Less than or equal to      <="
   ]
  },
  {
   "cell_type": "markdown",
   "metadata": {},
   "source": [
    "### mathematical comparison"
   ]
  },
  {
   "cell_type": "code",
   "execution_count": 4,
   "metadata": {},
   "outputs": [],
   "source": [
    "x = 2.718\n",
    "\n",
    "y = 3.14\n",
    "\n",
    "i = 42\n",
    "\n",
    "j = 36"
   ]
  },
  {
   "cell_type": "markdown",
   "metadata": {},
   "source": [
    "## ==\n",
    "\n",
    " equal to"
   ]
  },
  {
   "cell_type": "code",
   "execution_count": 5,
   "metadata": {},
   "outputs": [
    {
     "data": {
      "text/plain": [
       "False"
      ]
     },
     "execution_count": 5,
     "metadata": {},
     "output_type": "execute_result"
    }
   ],
   "source": [
    "# Equal to             ==\n",
    "\n",
    "x == y"
   ]
  },
  {
   "cell_type": "markdown",
   "metadata": {},
   "source": [
    "## !=\n",
    "\n",
    " not equal to"
   ]
  },
  {
   "cell_type": "code",
   "execution_count": 6,
   "metadata": {},
   "outputs": [
    {
     "data": {
      "text/plain": [
       "True"
      ]
     },
     "execution_count": 6,
     "metadata": {},
     "output_type": "execute_result"
    }
   ],
   "source": [
    "# NOT equal to         !=\n",
    "\n",
    "i != j"
   ]
  },
  {
   "cell_type": "markdown",
   "metadata": {},
   "source": [
    "## >=\n",
    "\n",
    " greater than or equal to"
   ]
  },
  {
   "cell_type": "code",
   "execution_count": 7,
   "metadata": {},
   "outputs": [
    {
     "data": {
      "text/plain": [
       "True"
      ]
     },
     "execution_count": 7,
     "metadata": {},
     "output_type": "execute_result"
    }
   ],
   "source": [
    "# Greater or equal to  >=\n",
    "\n",
    "i >= j"
   ]
  },
  {
   "cell_type": "markdown",
   "metadata": {},
   "source": [
    "## >\n",
    "\n",
    " greater than"
   ]
  },
  {
   "cell_type": "code",
   "execution_count": 8,
   "metadata": {},
   "outputs": [
    {
     "data": {
      "text/plain": [
       "True"
      ]
     },
     "execution_count": 8,
     "metadata": {},
     "output_type": "execute_result"
    }
   ],
   "source": [
    "# Greater than         >\n",
    "\n",
    "i > j"
   ]
  },
  {
   "cell_type": "markdown",
   "metadata": {},
   "source": [
    "## <=\n",
    "\n",
    " less than or equal to"
   ]
  },
  {
   "cell_type": "code",
   "execution_count": 9,
   "metadata": {},
   "outputs": [
    {
     "data": {
      "text/plain": [
       "False"
      ]
     },
     "execution_count": 9,
     "metadata": {},
     "output_type": "execute_result"
    }
   ],
   "source": [
    "# Less or equal to     <=\n",
    "\n",
    "i <= j"
   ]
  },
  {
   "cell_type": "markdown",
   "metadata": {},
   "source": [
    "## <\n",
    "\n",
    " less than"
   ]
  },
  {
   "cell_type": "code",
   "execution_count": 10,
   "metadata": {},
   "outputs": [
    {
     "data": {
      "text/plain": [
       "False"
      ]
     },
     "execution_count": 10,
     "metadata": {},
     "output_type": "execute_result"
    }
   ],
   "source": [
    "# Less than            <\n",
    "\n",
    "i < j"
   ]
  },
  {
   "cell_type": "markdown",
   "metadata": {},
   "source": [
    "### 'string' comparison\n",
    "- 'strings' can be equal        `==` or unequal   `!=`\n",
    "- 'strings' can be greater than `>`  or less than `<`\n",
    "\n",
    "- alphabetically `\"A\"` is less than `\"B\"`\n",
    "- lower case `\"a\"` is greater than upper case `\"A\"`"
   ]
  },
  {
   "cell_type": "markdown",
   "metadata": {},
   "source": [
    "## ==\n",
    "\n",
    " equal to"
   ]
  },
  {
   "cell_type": "code",
   "execution_count": 44,
   "metadata": {},
   "outputs": [
    {
     "data": {
      "text/plain": [
       "True"
      ]
     },
     "execution_count": 44,
     "metadata": {},
     "output_type": "execute_result"
    }
   ],
   "source": [
    "# Equal to                 ==\n",
    "\n",
    "'STRING'.lower() == 'string'"
   ]
  },
  {
   "cell_type": "markdown",
   "metadata": {},
   "source": [
    "## !=\n",
    "\n",
    " not equal to"
   ]
  },
  {
   "cell_type": "code",
   "execution_count": 1,
   "metadata": {},
   "outputs": [
    {
     "data": {
      "text/plain": [
       "True"
      ]
     },
     "execution_count": 1,
     "metadata": {},
     "output_type": "execute_result"
    }
   ],
   "source": [
    "# NOT equal to             !=\n",
    "\n",
    "'STRING' != 'string'"
   ]
  },
  {
   "cell_type": "markdown",
   "metadata": {},
   "source": [
    "## >=\n",
    "\n",
    " greater than or equal to"
   ]
  },
  {
   "cell_type": "code",
   "execution_count": 11,
   "metadata": {},
   "outputs": [
    {
     "data": {
      "text/plain": [
       "False"
      ]
     },
     "execution_count": 11,
     "metadata": {},
     "output_type": "execute_result"
    }
   ],
   "source": [
    "# Greater or equal to      >=\n",
    "\n",
    "'A' >= 'Z'"
   ]
  },
  {
   "cell_type": "markdown",
   "metadata": {},
   "source": [
    "## >\n",
    "\n",
    " greater than"
   ]
  },
  {
   "cell_type": "code",
   "execution_count": 2,
   "metadata": {},
   "outputs": [
    {
     "data": {
      "text/plain": [
       "False"
      ]
     },
     "execution_count": 2,
     "metadata": {},
     "output_type": "execute_result"
    }
   ],
   "source": [
    "# Greater than             <\n",
    "\n",
    "'A' > 'Z'"
   ]
  },
  {
   "cell_type": "markdown",
   "metadata": {},
   "source": [
    "## <=\n",
    "\n",
    " less than or equal to"
   ]
  },
  {
   "cell_type": "code",
   "execution_count": 36,
   "metadata": {},
   "outputs": [
    {
     "data": {
      "text/plain": [
       "True"
      ]
     },
     "execution_count": 36,
     "metadata": {},
     "output_type": "execute_result"
    }
   ],
   "source": [
    "# Less than or equal to    <\n",
    "\n",
    "'A' <= 'Z'"
   ]
  },
  {
   "cell_type": "markdown",
   "metadata": {},
   "source": [
    "## <\n",
    "\n",
    " less than"
   ]
  },
  {
   "cell_type": "code",
   "execution_count": 40,
   "metadata": {},
   "outputs": [
    {
     "data": {
      "text/plain": [
       "True"
      ]
     },
     "execution_count": 40,
     "metadata": {},
     "output_type": "execute_result"
    }
   ],
   "source": [
    "# Less than                <\n",
    "\n",
    "'A' < 'a'"
   ]
  },
  {
   "cell_type": "markdown",
   "metadata": {},
   "source": [
    "## Boolean expressions - expressions which evaluate to True or False\n",
    "- like expressions involving groups (types) of basic forms of data (values - constants & literals)\n",
    "- involve basic forms of data (types) but evalutate and produce a - boolean value (True/False)\n",
    "- use comparison operators to yield boolean value - do not change values of variables or constants"
   ]
  },
  {
   "cell_type": "markdown",
   "metadata": {},
   "source": [
    "## Logical Operators\n",
    "- The operands of logical operators should be boolean expressions, in Python, numbers will yeild True in these expressions"
   ]
  },
  {
   "cell_type": "code",
   "execution_count": null,
   "metadata": {},
   "outputs": [],
   "source": [
    "# and\n",
    "# or\n",
    "# not"
   ]
  },
  {
   "cell_type": "code",
   "execution_count": null,
   "metadata": {},
   "outputs": [],
   "source": [
    "# Logical AND             and"
   ]
  },
  {
   "cell_type": "code",
   "execution_count": null,
   "metadata": {},
   "outputs": [],
   "source": [
    "# Logical OR              or"
   ]
  },
  {
   "cell_type": "code",
   "execution_count": null,
   "metadata": {},
   "outputs": [],
   "source": [
    "# Logical NOT             not"
   ]
  },
  {
   "cell_type": "markdown",
   "metadata": {},
   "source": [
    "## and\n",
    "logical and"
   ]
  },
  {
   "cell_type": "code",
   "execution_count": 34,
   "metadata": {},
   "outputs": [
    {
     "data": {
      "text/plain": [
       "False"
      ]
     },
     "execution_count": 34,
     "metadata": {},
     "output_type": "execute_result"
    }
   ],
   "source": [
    "# Logical AND             and\n",
    "\n",
    "True and False"
   ]
  },
  {
   "cell_type": "markdown",
   "metadata": {},
   "source": [
    "## or\n",
    "logical or"
   ]
  },
  {
   "cell_type": "code",
   "execution_count": 35,
   "metadata": {},
   "outputs": [
    {
     "data": {
      "text/plain": [
       "True"
      ]
     },
     "execution_count": 35,
     "metadata": {},
     "output_type": "execute_result"
    }
   ],
   "source": [
    "# Logical OR              or\n",
    "\n",
    "True or False"
   ]
  },
  {
   "cell_type": "markdown",
   "metadata": {},
   "source": [
    "## not\n",
    "logical not"
   ]
  },
  {
   "cell_type": "code",
   "execution_count": 32,
   "metadata": {},
   "outputs": [
    {
     "data": {
      "text/plain": [
       "False"
      ]
     },
     "execution_count": 32,
     "metadata": {},
     "output_type": "execute_result"
    }
   ],
   "source": [
    "# Logical NOT              not\n",
    "\n",
    "not True"
   ]
  },
  {
   "cell_type": "markdown",
   "metadata": {},
   "source": [
    "## Logical expressions - compound boolean expressions\n",
    "- use logical operators to compare boolean expressions"
   ]
  },
  {
   "cell_type": "markdown",
   "metadata": {},
   "source": [
    "## Compound boolean expression\n",
    "- Using any logical operator with operand(s) creates a compound expression\n"
   ]
  },
  {
   "cell_type": "code",
   "execution_count": 15,
   "metadata": {},
   "outputs": [],
   "source": [
    "i = 2.718\n",
    "\n",
    "j = 3.14\n",
    "\n",
    "k = 'newton meters'"
   ]
  },
  {
   "cell_type": "markdown",
   "metadata": {},
   "source": [
    "## monadic operator (operates on single operand)   - [not]"
   ]
  },
  {
   "cell_type": "code",
   "execution_count": 31,
   "metadata": {},
   "outputs": [
    {
     "data": {
      "text/plain": [
       "False"
      ]
     },
     "execution_count": 31,
     "metadata": {},
     "output_type": "execute_result"
    }
   ],
   "source": [
    "not i"
   ]
  },
  {
   "cell_type": "markdown",
   "metadata": {},
   "source": [
    "## diadic operator (operates on miltiple operands) - [and] [or]"
   ]
  },
  {
   "cell_type": "code",
   "execution_count": 17,
   "metadata": {},
   "outputs": [
    {
     "data": {
      "text/plain": [
       "True"
      ]
     },
     "execution_count": 17,
     "metadata": {},
     "output_type": "execute_result"
    }
   ],
   "source": [
    "# Logical AND             and\n",
    "\n",
    "i < j and i != k"
   ]
  },
  {
   "cell_type": "code",
   "execution_count": 17,
   "metadata": {},
   "outputs": [
    {
     "data": {
      "text/plain": [
       "True"
      ]
     },
     "execution_count": 17,
     "metadata": {},
     "output_type": "execute_result"
    }
   ],
   "source": [
    "# Logical OR              or\n",
    "\n",
    "i < j and i != k"
   ]
  },
  {
   "cell_type": "markdown",
   "metadata": {},
   "source": [
    "## Short-circuit evaluation\n",
    "- diadic operators create compound boolean expressions\n",
    "- the first value can determine if the compound expressions finished evaluation"
   ]
  },
  {
   "cell_type": "markdown",
   "metadata": {},
   "source": [
    "### short-circuit [and]\n",
    "- both operands must be True for True\n",
    "- only one operand must be False for False"
   ]
  },
  {
   "cell_type": "code",
   "execution_count": 38,
   "metadata": {},
   "outputs": [
    {
     "data": {
      "text/plain": [
       "True"
      ]
     },
     "execution_count": 38,
     "metadata": {},
     "output_type": "execute_result"
    }
   ],
   "source": [
    "# short-circuit       and\n",
    "\n",
    "True and True"
   ]
  },
  {
   "cell_type": "code",
   "execution_count": 36,
   "metadata": {},
   "outputs": [
    {
     "data": {
      "text/plain": [
       "False"
      ]
     },
     "execution_count": 36,
     "metadata": {},
     "output_type": "execute_result"
    }
   ],
   "source": [
    "# short-circuit       and\n",
    "\n",
    "True and False"
   ]
  },
  {
   "cell_type": "code",
   "execution_count": 37,
   "metadata": {},
   "outputs": [
    {
     "data": {
      "text/plain": [
       "False"
      ]
     },
     "execution_count": 37,
     "metadata": {},
     "output_type": "execute_result"
    }
   ],
   "source": [
    "# short-circuit       and\n",
    "\n",
    "False and True"
   ]
  },
  {
   "cell_type": "markdown",
   "metadata": {},
   "source": [
    "### short-circuit [or]\n",
    "- only one operand must be True for True"
   ]
  },
  {
   "cell_type": "code",
   "execution_count": 35,
   "metadata": {},
   "outputs": [
    {
     "data": {
      "text/plain": [
       "True"
      ]
     },
     "execution_count": 35,
     "metadata": {},
     "output_type": "execute_result"
    }
   ],
   "source": [
    "# short-circuit       or\n",
    "\n",
    "True or False"
   ]
  },
  {
   "cell_type": "code",
   "execution_count": 39,
   "metadata": {},
   "outputs": [
    {
     "data": {
      "text/plain": [
       "True"
      ]
     },
     "execution_count": 39,
     "metadata": {},
     "output_type": "execute_result"
    }
   ],
   "source": [
    "# short-circuit       or\n",
    "\n",
    "False or True"
   ]
  },
  {
   "cell_type": "markdown",
   "metadata": {},
   "source": [
    "## In Python -  numbers will yield True in these expressions"
   ]
  },
  {
   "cell_type": "markdown",
   "metadata": {},
   "source": [
    "### Numbers yield true - and - short circuit\n",
    "- AND short circuit yields LAST evaluated true value - yields boolean literal"
   ]
  },
  {
   "cell_type": "code",
   "execution_count": 1,
   "metadata": {},
   "outputs": [
    {
     "name": "stdout",
     "output_type": "stream",
     "text": [
      "3.14\n"
     ]
    }
   ],
   "source": [
    "i = 2.718\n",
    "\n",
    "j = 3.14\n",
    "\n",
    "print(i and j)    # j is returned - short circuit evaluation - numbers are true\n",
    "                  # both literals - treated as boolean values - must be evaluated\n",
    "                  # j - literal value returned as true"
   ]
  },
  {
   "cell_type": "code",
   "execution_count": 3,
   "metadata": {},
   "outputs": [
    {
     "name": "stdout",
     "output_type": "stream",
     "text": [
      "True\n",
      "False\n",
      "False\n",
      "True\n",
      "2.718\n",
      "False\n",
      "False\n",
      "False\n"
     ]
    }
   ],
   "source": [
    "# yields the number as boolean value\n",
    "# AND short circuit yields LAST evaluated true value - yields boolean literal\n",
    "\n",
    "print(i and True)\n",
    "print(i and not True)\n",
    "\n",
    "print(i and False)\n",
    "print(i and not False)\n",
    "\n",
    "print(True and i)\n",
    "print(True and not i)\n",
    "\n",
    "print(False and i)\n",
    "print(False and not i)"
   ]
  },
  {
   "cell_type": "markdown",
   "metadata": {},
   "source": [
    "### Numbers yield true - or - short circuit\n",
    "- OR short circuit yields FIRST evaluated true value - yields boolean literal"
   ]
  },
  {
   "cell_type": "code",
   "execution_count": 21,
   "metadata": {},
   "outputs": [
    {
     "name": "stdout",
     "output_type": "stream",
     "text": [
      "2.718\n"
     ]
    }
   ],
   "source": [
    "i = 2.718\n",
    "\n",
    "j = 3.14\n",
    "\n",
    "print(i or j)    # i is returned - short circuit evaluation - numbers are true\n",
    "                 # i - literal value returned as true"
   ]
  },
  {
   "cell_type": "code",
   "execution_count": 4,
   "metadata": {},
   "outputs": [
    {
     "name": "stdout",
     "output_type": "stream",
     "text": [
      "2.718\n",
      "2.718\n",
      "2.718\n",
      "2.718\n",
      "True\n",
      "True\n",
      "2.718\n",
      "False\n"
     ]
    }
   ],
   "source": [
    "# yields the number as boolean value\n",
    "# OR short circuit yields FIRST evaluated true value - yields boolean literal\n",
    "\n",
    "print(i or True)\n",
    "print(i or not True)\n",
    "\n",
    "print(i or False)\n",
    "print(i or not False)\n",
    "\n",
    "print(True or i)\n",
    "print(True or not i)\n",
    "\n",
    "print(False or i)\n",
    "print(False or not i)"
   ]
  },
  {
   "cell_type": "markdown",
   "metadata": {},
   "source": [
    "### Numbers yield true - not - negation operator"
   ]
  },
  {
   "cell_type": "code",
   "execution_count": 24,
   "metadata": {},
   "outputs": [
    {
     "name": "stdout",
     "output_type": "stream",
     "text": [
      "False\n"
     ]
    }
   ],
   "source": [
    "i = 2.718\n",
    "\n",
    "j = 3.14\n",
    "\n",
    "print(not j)    # not j - literal value returned as false"
   ]
  },
  {
   "cell_type": "markdown",
   "metadata": {},
   "source": [
    "## Membership Operators\n",
    "boolean test for 'string' value membership in a sequence\n",
    "- strings\n",
    "- lists\n",
    "- tuples.\n",
    "\n",
    "#### both operands must be 'strings'\n",
    "#### comparing 'strings' is 'CASE' 'sensitive'"
   ]
  },
  {
   "cell_type": "markdown",
   "metadata": {},
   "source": [
    "## in"
   ]
  },
  {
   "cell_type": "code",
   "execution_count": 39,
   "metadata": {},
   "outputs": [
    {
     "data": {
      "text/plain": [
       "True"
      ]
     },
     "execution_count": 39,
     "metadata": {},
     "output_type": "execute_result"
    }
   ],
   "source": [
    "'s' in 'string'"
   ]
  },
  {
   "cell_type": "code",
   "execution_count": 41,
   "metadata": {},
   "outputs": [
    {
     "data": {
      "text/plain": [
       "False"
      ]
     },
     "execution_count": 41,
     "metadata": {},
     "output_type": "execute_result"
    }
   ],
   "source": [
    "'s' in 'string'.upper()"
   ]
  },
  {
   "cell_type": "code",
   "execution_count": 44,
   "metadata": {},
   "outputs": [
    {
     "data": {
      "text/plain": [
       "True"
      ]
     },
     "execution_count": 44,
     "metadata": {},
     "output_type": "execute_result"
    }
   ],
   "source": [
    "effects = 'Bowtie, screwdriver, fez'\n",
    "\n",
    "'bowtie'.capitalize() in effects"
   ]
  },
  {
   "cell_type": "markdown",
   "metadata": {},
   "source": [
    "## not in"
   ]
  },
  {
   "cell_type": "code",
   "execution_count": 40,
   "metadata": {},
   "outputs": [
    {
     "data": {
      "text/plain": [
       "False"
      ]
     },
     "execution_count": 40,
     "metadata": {},
     "output_type": "execute_result"
    }
   ],
   "source": [
    "'s' not in 'string'"
   ]
  },
  {
   "cell_type": "code",
   "execution_count": 42,
   "metadata": {},
   "outputs": [
    {
     "data": {
      "text/plain": [
       "True"
      ]
     },
     "execution_count": 42,
     "metadata": {},
     "output_type": "execute_result"
    }
   ],
   "source": [
    "'s' not in 'string'.upper()"
   ]
  },
  {
   "cell_type": "code",
   "execution_count": 45,
   "metadata": {},
   "outputs": [
    {
     "data": {
      "text/plain": [
       "False"
      ]
     },
     "execution_count": 45,
     "metadata": {},
     "output_type": "execute_result"
    }
   ],
   "source": [
    "effects = ['bowtie','screwdriver','fez']\n",
    "\n",
    "'bowtie' not in effects"
   ]
  },
  {
   "cell_type": "markdown",
   "metadata": {},
   "source": [
    "## 'string'.methods() to remove case error"
   ]
  },
  {
   "cell_type": "code",
   "execution_count": 51,
   "metadata": {},
   "outputs": [
    {
     "data": {
      "text/plain": [
       "True"
      ]
     },
     "execution_count": 51,
     "metadata": {},
     "output_type": "execute_result"
    }
   ],
   "source": [
    "effects = 'bowtie' + 'screwdriver' + 'fez'      # list - has no .lower() method\n",
    "\n",
    "searchItem = 'BOWTIE'\n",
    "\n",
    "searchItem.lower() in effects.lower()"
   ]
  },
  {
   "cell_type": "code",
   "execution_count": 54,
   "metadata": {},
   "outputs": [
    {
     "data": {
      "text/plain": [
       "True"
      ]
     },
     "execution_count": 54,
     "metadata": {},
     "output_type": "execute_result"
    }
   ],
   "source": [
    "effects = ['bowtie' , 'screwdriver' , 'fez']      # list - has no .lower() method\n",
    "\n",
    "searchItem = 'BOWTIE'\n",
    "\n",
    "searchItem.lower() in effects                     # no .lower() on list variable"
   ]
  },
  {
   "cell_type": "markdown",
   "metadata": {},
   "source": [
    "## input() membership test"
   ]
  },
  {
   "cell_type": "code",
   "execution_count": 61,
   "metadata": {},
   "outputs": [
    {
     "name": "stdout",
     "output_type": "stream",
     "text": [
      "Search for item in list: tie\n"
     ]
    },
    {
     "data": {
      "text/plain": [
       "True"
      ]
     },
     "execution_count": 61,
     "metadata": {},
     "output_type": "execute_result"
    }
   ],
   "source": [
    "effects = 'bowtie' + 'screwdriver' + 'fez'        # list - has no .lower() method\n",
    "\n",
    "testValue = input('Search for item in list: ')\n",
    "\n",
    "\n",
    "testValue.lower() in effects                      # if input - 'tie' --> True - searches 'string' sequence"
   ]
  },
  {
   "cell_type": "code",
   "execution_count": 62,
   "metadata": {},
   "outputs": [
    {
     "name": "stdout",
     "output_type": "stream",
     "text": [
      "Search for item in list: tie\n"
     ]
    },
    {
     "data": {
      "text/plain": [
       "False"
      ]
     },
     "execution_count": 62,
     "metadata": {},
     "output_type": "execute_result"
    }
   ],
   "source": [
    "effects = ['bowtie' , 'screwdriver' , 'fez']      # list - has no .lower() method\n",
    "\n",
    "testValue = input('Search for item in list: ')\n",
    "\n",
    "\n",
    "testValue.lower() in effects                      # if input - 'tie' --> False - searches list sequence\n",
    "                                                  # 'string' element - must be exact match"
   ]
  },
  {
   "cell_type": "markdown",
   "metadata": {},
   "source": [
    "## input() add to variable\n",
    "## membership test"
   ]
  },
  {
   "cell_type": "code",
   "execution_count": 64,
   "metadata": {},
   "outputs": [
    {
     "name": "stdout",
     "output_type": "stream",
     "text": [
      "Enter value to add to string: tardis\n",
      "Enter value to search string for: TARDIS\n"
     ]
    },
    {
     "data": {
      "text/plain": [
       "True"
      ]
     },
     "execution_count": 64,
     "metadata": {},
     "output_type": "execute_result"
    }
   ],
   "source": [
    "effects = 'bowtie' + 'screwdriver' + 'fez'               # list - has no .lower() method\n",
    "\n",
    "\n",
    "valueAdd = input('Enter value to add to string: ')\n",
    "\n",
    "effects += ' ' + valueAdd\n",
    "\n",
    "\n",
    "valueSearch = input('Enter value to search string for: ')\n",
    "\n",
    "\n",
    "valueSearch.lower() in effects"
   ]
  },
  {
   "cell_type": "markdown",
   "metadata": {},
   "source": [
    "## Identity Operators\n",
    "- compare test of memory location of objects"
   ]
  },
  {
   "cell_type": "markdown",
   "metadata": {},
   "source": [
    "## is"
   ]
  },
  {
   "cell_type": "code",
   "execution_count": 11,
   "metadata": {},
   "outputs": [
    {
     "name": "stdout",
     "output_type": "stream",
     "text": [
      "True\n",
      "True\n",
      "False\n",
      "True\n"
     ]
    }
   ],
   "source": [
    "stringAlpha = 'string'\n",
    "\n",
    "stringBeta  = 'string'\n",
    "\n",
    "stringGamma = stringAlpha\n",
    "\n",
    "\n",
    "listAlpha = [1,'two',False]\n",
    "\n",
    "listBeta  = [1,'two',False]\n",
    "\n",
    "listGamma = listAlpha\n",
    "\n",
    "\n",
    "\n",
    "\n",
    "print(stringAlpha is stringBeta)\n",
    "\n",
    "print(stringGamma is stringAlpha)\n",
    "\n",
    "\n",
    "print(listAlpha is listBeta)\n",
    "\n",
    "print(listGamma is listAlpha)"
   ]
  },
  {
   "cell_type": "markdown",
   "metadata": {},
   "source": [
    "## is not"
   ]
  },
  {
   "cell_type": "code",
   "execution_count": 10,
   "metadata": {},
   "outputs": [
    {
     "name": "stdout",
     "output_type": "stream",
     "text": [
      "False\n",
      "False\n",
      "True\n",
      "False\n"
     ]
    }
   ],
   "source": [
    "stringAlpha = 'string'\n",
    "\n",
    "stringBeta  = 'string'\n",
    "\n",
    "stringGamma = stringAlpha\n",
    "\n",
    "\n",
    "listAlpha = [1,'two',False]\n",
    "\n",
    "listBeta  = [1,'two',False]\n",
    "\n",
    "listGamma = listAlpha\n",
    "\n",
    "\n",
    "\n",
    "\n",
    "print(stringAlpha is not stringBeta)\n",
    "\n",
    "print(stringGamma is not stringAlpha)\n",
    "\n",
    "\n",
    "print(listAlpha is not listBeta)\n",
    "\n",
    "print(listGamma is not listAlpha)"
   ]
  },
  {
   "cell_type": "markdown",
   "metadata": {},
   "source": [
    "## Conditional, Function, & Iterative definitions\n",
    "- conditional statements\n",
    "- function definitions\n",
    "- iteration loops\n",
    "\n",
    "### all have the same format\n",
    "\n",
    "#### header, followed by set of conditions or rules (boolean expression), then semicologn :\n",
    "- if, elif, else\n",
    "- boolean expression\n",
    "- : semicologn\n",
    "\n",
    "#### folowed by compound statement (codeblock)\n",
    "- body of multiple statements"
   ]
  },
  {
   "cell_type": "markdown",
   "metadata": {},
   "source": [
    "# if - statement\n",
    "- check for condition test\n",
    "- perform group of statements, if condition test is met"
   ]
  },
  {
   "cell_type": "markdown",
   "metadata": {},
   "source": [
    "### condition\n",
    "- a boolean expression \n",
    "- evaluating to a value of True or False"
   ]
  },
  {
   "cell_type": "code",
   "execution_count": 40,
   "metadata": {},
   "outputs": [
    {
     "name": "stdout",
     "output_type": "stream",
     "text": [
      "if statement executed\n"
     ]
    }
   ],
   "source": [
    "# if - statement\n",
    "\n",
    "# boolean literal condition\n",
    "\n",
    "if True:                                  # boolean expression is condition test\n",
    "       \n",
    "        print('if statement executed')    # if value is True  - group of statements are executed\n",
    "        \n",
    "# if value is False - group of statements are skipped"
   ]
  },
  {
   "cell_type": "code",
   "execution_count": 25,
   "metadata": {},
   "outputs": [
    {
     "name": "stdout",
     "output_type": "stream",
     "text": [
      "if statement executed\n"
     ]
    }
   ],
   "source": [
    "# if - statement\n",
    "# boolean variable condition\n",
    "\n",
    "rainToday = True\n",
    "\n",
    "if rainToday:                              # boolean expression is condition test\n",
    "        print('if statement executed')"
   ]
  },
  {
   "cell_type": "code",
   "execution_count": 29,
   "metadata": {},
   "outputs": [
    {
     "name": "stdout",
     "output_type": "stream",
     "text": [
      "if statement executed\n"
     ]
    }
   ],
   "source": [
    "# if - statement\n",
    "# boolean member expression condition\n",
    "\n",
    "if 's' in 'String'.lower():                # boolean expression is condition test\n",
    "        print('if statement executed')"
   ]
  },
  {
   "cell_type": "code",
   "execution_count": 31,
   "metadata": {},
   "outputs": [
    {
     "name": "stdout",
     "output_type": "stream",
     "text": [
      "if statement executed\n"
     ]
    }
   ],
   "source": [
    "# if - statement\n",
    "# boolean comparison expression condition\n",
    "\n",
    "if 3 + 3 < 9:                              # boolean expression is condition test\n",
    "        print('if statement executed')"
   ]
  },
  {
   "cell_type": "code",
   "execution_count": 30,
   "metadata": {},
   "outputs": [
    {
     "name": "stdout",
     "output_type": "stream",
     "text": [
      "if statement executed\n"
     ]
    }
   ],
   "source": [
    "# if - statement\n",
    "# boolean complex expression condition\n",
    "\n",
    "if 3 + 3 < 9 and 3 != 0:                   # boolean expression is condition test\n",
    "        print('if statement executed')"
   ]
  },
  {
   "cell_type": "markdown",
   "metadata": {},
   "source": [
    "### Python shell - interpreter expects a blank line at the end of compound statements (code blocks)"
   ]
  },
  {
   "cell_type": "code",
   "execution_count": 10,
   "metadata": {},
   "outputs": [],
   "source": [
    "# >>>if True:\n",
    "# ...    print()\n",
    "# ...\n",
    "# #next statement in sequential execution\n",
    "# print()"
   ]
  },
  {
   "cell_type": "markdown",
   "metadata": {},
   "source": [
    "### Jupyter notebooks - does not require a blank line at the end of compound statement (code block)"
   ]
  },
  {
   "cell_type": "code",
   "execution_count": 11,
   "metadata": {},
   "outputs": [
    {
     "name": "stdout",
     "output_type": "stream",
     "text": [
      "Run\n"
     ]
    }
   ],
   "source": [
    "if True:\n",
    "    print('Run')"
   ]
  },
  {
   "cell_type": "markdown",
   "metadata": {},
   "source": [
    "### Python shell or Jupyter notebooks - do not parse white space unless it is to dileneate\n",
    "- compound statements (code blocks)"
   ]
  },
  {
   "cell_type": "code",
   "execution_count": 42,
   "metadata": {},
   "outputs": [
    {
     "name": "stdout",
     "output_type": "stream",
     "text": [
      "True\n"
     ]
    }
   ],
   "source": [
    "if True:\n",
    "    print('True')    # space after statement\n",
    "    \n",
    "        # whitespace above and below line\n",
    "        \n",
    "        #Code comment follows additional 4 spaces from where current block statements begin\n",
    "\n",
    "#White space does not matter unless it involves statments"
   ]
  },
  {
   "cell_type": "markdown",
   "metadata": {},
   "source": [
    "## White space to dilineate code blocks is [4 spaces] TAB IS NOT NORMALLY 4 SPACES\n",
    "## Jupyter notebooks - [TAB = 4 spaces]"
   ]
  },
  {
   "cell_type": "code",
   "execution_count": 9,
   "metadata": {
    "scrolled": true
   },
   "outputs": [
    {
     "ename": "IndentationError",
     "evalue": "unexpected indent (<ipython-input-9-8e63488fbcf9>, line 3)",
     "output_type": "error",
     "traceback": [
      "\u001b[1;36m  File \u001b[1;32m\"<ipython-input-9-8e63488fbcf9>\"\u001b[1;36m, line \u001b[1;32m3\u001b[0m\n\u001b[1;33m    print('string')           # space must be used to properly indent code blocks\u001b[0m\n\u001b[1;37m    ^\u001b[0m\n\u001b[1;31mIndentationError\u001b[0m\u001b[1;31m:\u001b[0m unexpected indent\n"
     ]
    }
   ],
   "source": [
    "##Results in error\n",
    "\n",
    "  print('string')           # space must be used to properly indent code blocks\n",
    "                            # IndentationError: unexpected indent"
   ]
  },
  {
   "cell_type": "markdown",
   "metadata": {},
   "source": [
    "### Python requires atleast 1 statement in a compound statement(code block)"
   ]
  },
  {
   "cell_type": "code",
   "execution_count": 13,
   "metadata": {},
   "outputs": [
    {
     "ename": "SyntaxError",
     "evalue": "unexpected EOF while parsing (<ipython-input-13-ba900c8888fd>, line 4)",
     "output_type": "error",
     "traceback": [
      "\u001b[1;36m  File \u001b[1;32m\"<ipython-input-13-ba900c8888fd>\"\u001b[1;36m, line \u001b[1;32m4\u001b[0m\n\u001b[1;33m    #No statement in compount statement (code block)\u001b[0m\n\u001b[1;37m                                                    ^\u001b[0m\n\u001b[1;31mSyntaxError\u001b[0m\u001b[1;31m:\u001b[0m unexpected EOF while parsing\n"
     ]
    }
   ],
   "source": [
    "##Results in error\n",
    "\n",
    "if True:\n",
    "    #No statement in compount statement (code block)"
   ]
  },
  {
   "cell_type": "markdown",
   "metadata": {},
   "source": [
    "## Pass\n",
    "- no codeblock is needed in conditional if pass is used\n",
    "- can have a condition with no action"
   ]
  },
  {
   "cell_type": "code",
   "execution_count": 59,
   "metadata": {},
   "outputs": [],
   "source": [
    "##Results in no action\n",
    "\n",
    "if True:\n",
    "    pass\n",
    "    #No statement in compount statement (code block)"
   ]
  },
  {
   "cell_type": "markdown",
   "metadata": {},
   "source": [
    "# Conditional execution\n",
    "\n",
    "#### if statement\n",
    "- control of flow (to change behavior of program accordingly)\n",
    "- check for condition test\n",
    "- perform group of statements, if condition test is met\n",
    "<br/>\n",
    "\n",
    "#### elif statement\n",
    "- perform secondary, tertiary etc group of statements\n",
    "if previous condition test is NOT met\n",
    "secondary, tertiary etc statement is met\n",
    "<br/>\n",
    "\n",
    "#### if - else statement\n",
    "- force execution of group of statements if first test is False\n",
    "<br/>\n",
    "\n",
    "#### pass statement\n",
    "- pass - or do nothing if condition is true"
   ]
  },
  {
   "cell_type": "markdown",
   "metadata": {},
   "source": [
    "# if - statement\n",
    "- check for condition test\n",
    "- perform group of statements, if condition test is met"
   ]
  },
  {
   "cell_type": "code",
   "execution_count": 40,
   "metadata": {},
   "outputs": [
    {
     "name": "stdout",
     "output_type": "stream",
     "text": [
      "if statement executed\n"
     ]
    }
   ],
   "source": [
    "# if - statement\n",
    "\n",
    "if True:                                  # boolean expression is condition test\n",
    "       \n",
    "        print('if statement executed')    \n",
    "                                          # if value is True  - group of statements are executed\n",
    "                                          # if value is False - group of statements are skipped\n"
   ]
  },
  {
   "cell_type": "code",
   "execution_count": 48,
   "metadata": {},
   "outputs": [],
   "source": [
    "# if - statement\n",
    "\n",
    "if False:                                 # boolean expression is condition test\n",
    "       \n",
    "        print('if statement executed')    \n",
    "                                          # if value is True  - group of statements are executed\n",
    "                                          # if value is False - group of statements are skipped\n"
   ]
  },
  {
   "cell_type": "markdown",
   "metadata": {},
   "source": [
    "## [conditional execution]\n",
    "- at most N statements or N-1"
   ]
  },
  {
   "cell_type": "markdown",
   "metadata": {},
   "source": [
    "#### if - condition"
   ]
  },
  {
   "cell_type": "code",
   "execution_count": 40,
   "metadata": {},
   "outputs": [
    {
     "name": "stdout",
     "output_type": "stream",
     "text": [
      "if statement executed\n"
     ]
    }
   ],
   "source": [
    "# if - statement\n",
    "\n",
    "if True:                                  # boolean expression is condition test\n",
    "       \n",
    "        print('if statement executed')    \n",
    "                                          # if value is True  - group of statements are executed\n",
    "                                          # if value is False - group of statements are skipped\n"
   ]
  },
  {
   "cell_type": "markdown",
   "metadata": {},
   "source": [
    "#### if - condition A\n",
    "#### if - condition B\n",
    "### ..."
   ]
  },
  {
   "cell_type": "code",
   "execution_count": 51,
   "metadata": {},
   "outputs": [
    {
     "name": "stdout",
     "output_type": "stream",
     "text": [
      "2nd if statement executed\n"
     ]
    }
   ],
   "source": [
    "if False:\n",
    "    print('1st if statement executed')\n",
    "    \n",
    "if True:\n",
    "    print('2nd if statement executed')\n",
    "\n",
    "if False:\n",
    "    print('3rd if statement executed')"
   ]
  },
  {
   "cell_type": "markdown",
   "metadata": {},
   "source": [
    "# if - else - statement\n",
    "- check for condition test\n",
    "- perform group of statements, if condition test is met\n",
    "- at least 1 statement is executed if conditions are not met"
   ]
  },
  {
   "cell_type": "code",
   "execution_count": 48,
   "metadata": {},
   "outputs": [],
   "source": [
    "# if-else - statement\n",
    "\n",
    "if True:                                  # boolean expression is condition test\n",
    "    print('1st if statement executed')\n",
    "                                          # if value is True  - group of statements are executed\n",
    "else:\n",
    "    print('2nd if statement executed')\n",
    "                                          # if value is False - group of statements are skipped"
   ]
  },
  {
   "cell_type": "code",
   "execution_count": 49,
   "metadata": {},
   "outputs": [
    {
     "name": "stdout",
     "output_type": "stream",
     "text": [
      "2nd if statement executed\n"
     ]
    }
   ],
   "source": [
    "# if-else - statement\n",
    "\n",
    "if False:                                  # boolean expression is condition test\n",
    "    print('1st if statement executed')\n",
    "                                           # if value is True  - group of statements are executed\n",
    "else:\n",
    "    print('2nd if statement executed')\n",
    "                                           # if value is False - group of statements are skipped"
   ]
  },
  {
   "cell_type": "markdown",
   "metadata": {},
   "source": [
    "## [alternative execution]\n",
    "- at least N statments\n",
    "- at least 1 possibility is executed in conditional\n",
    "- alternative conditions are called branches"
   ]
  },
  {
   "cell_type": "markdown",
   "metadata": {},
   "source": [
    "#### if - condition A\n",
    "#### else - condition B"
   ]
  },
  {
   "cell_type": "code",
   "execution_count": 45,
   "metadata": {},
   "outputs": [
    {
     "name": "stdout",
     "output_type": "stream",
     "text": [
      "1st if statement executed\n"
     ]
    }
   ],
   "source": [
    "if True:\n",
    "    print('1st if statement executed')\n",
    "    \n",
    "else:\n",
    "    print('2nd if statement executed')\n"
   ]
  },
  {
   "cell_type": "code",
   "execution_count": 46,
   "metadata": {},
   "outputs": [
    {
     "name": "stdout",
     "output_type": "stream",
     "text": [
      "2nd if statement executed\n"
     ]
    }
   ],
   "source": [
    "if False:\n",
    "    print('1st if statement executed')\n",
    "    \n",
    "else:\n",
    "    print('2nd if statement executed')\n"
   ]
  },
  {
   "cell_type": "markdown",
   "metadata": {},
   "source": [
    "# if - elif - statement\n",
    "- check for condition test\n",
    "- perform group of statements, if condition test is met\n",
    "- in chain of conditions - only 1 code block is executed"
   ]
  },
  {
   "cell_type": "code",
   "execution_count": 56,
   "metadata": {},
   "outputs": [
    {
     "name": "stdout",
     "output_type": "stream",
     "text": [
      "2nd if statement executed\n"
     ]
    }
   ],
   "source": [
    "# if-elif - statement\n",
    "\n",
    "if False:                                  # boolean expression is condition test\n",
    "    print('1st if statement executed')\n",
    "                                           # if value is False - group of statements are skipped\n",
    "elif True:\n",
    "    print('2nd if statement executed')\n",
    "                                           # if value is True  - group of statements are executed"
   ]
  },
  {
   "cell_type": "code",
   "execution_count": 58,
   "metadata": {},
   "outputs": [
    {
     "name": "stdout",
     "output_type": "stream",
     "text": [
      "1st if statement executed\n"
     ]
    }
   ],
   "source": [
    "# if-elif - statement\n",
    "\n",
    "if True:                                  # boolean expression is condition test\n",
    "    print('1st if statement executed')\n",
    "                                          # if value is True  - group of statements are executed\n",
    "elif True:\n",
    "    print('2nd if statement executed')\n",
    "                                          # if prior conditional in chain is True - group of statements are skipped"
   ]
  },
  {
   "cell_type": "markdown",
   "metadata": {},
   "source": [
    "## [chained execution]\n",
    "- at most N statements or N-1\n",
    "- for more than 2 possibilities\n",
    "- or more than 1 specific condition"
   ]
  },
  {
   "cell_type": "markdown",
   "metadata": {},
   "source": [
    "#### if - condition A\n",
    "#### elif - condition B\n",
    "#### elif - condition C"
   ]
  },
  {
   "cell_type": "code",
   "execution_count": 61,
   "metadata": {},
   "outputs": [
    {
     "name": "stdout",
     "output_type": "stream",
     "text": [
      "2nd elif statement executed\n"
     ]
    }
   ],
   "source": [
    "if False:\n",
    "    print('1st elif statement executed')\n",
    "    \n",
    "elif True:\n",
    "    print('2nd elif statement executed')\n",
    "\n",
    "elif True:\n",
    "    print('3rd elif statement executed')"
   ]
  },
  {
   "cell_type": "code",
   "execution_count": 62,
   "metadata": {},
   "outputs": [
    {
     "name": "stdout",
     "output_type": "stream",
     "text": [
      "3rd elif statement executed\n"
     ]
    }
   ],
   "source": [
    "if False:\n",
    "    print('1st elif statement executed')\n",
    "    \n",
    "elif False:\n",
    "    print('2nd elif statement executed')\n",
    "\n",
    "elif True:\n",
    "    print('3rd elif statement executed')"
   ]
  },
  {
   "cell_type": "markdown",
   "metadata": {},
   "source": [
    "# if - elif - else - statement\n",
    "- check for condition test\n",
    "- perform group of statements, if condition test is met\n",
    "- in chain of conditions - only 1 code block is executed"
   ]
  },
  {
   "cell_type": "code",
   "execution_count": 69,
   "metadata": {},
   "outputs": [
    {
     "name": "stdout",
     "output_type": "stream",
     "text": [
      "3rd if statement executed\n"
     ]
    }
   ],
   "source": [
    "# if-elif-else - statement\n",
    "\n",
    "if False:                                  # boolean expression is condition test\n",
    "    print('1st if statement executed')\n",
    "                                           # if value is False - group of statements are skipped\n",
    "elif False:\n",
    "    print('2nd if statement executed')\n",
    "                                           # if value is True  - group of statements are executed\n",
    "else:\n",
    "    print('3rd if statement executed')\n",
    "                                           # if value is True  - group of statements are executed"
   ]
  },
  {
   "cell_type": "markdown",
   "metadata": {},
   "source": [
    "## [chained - alternative execution]\n",
    "- at least N statments\n",
    "- for more than 2 possibilities\n",
    "- or more than 1 specific condition\n",
    "<br/> <br/>\n",
    "- at least 1 possibility is executed in conditional\n",
    "- alternative conditions are called branches"
   ]
  },
  {
   "cell_type": "markdown",
   "metadata": {},
   "source": [
    "#### if - condition A\n",
    "#### elif - condition B\n",
    "#### elif - condition C\n",
    "#### else - condition D"
   ]
  },
  {
   "cell_type": "code",
   "execution_count": 68,
   "metadata": {},
   "outputs": [
    {
     "name": "stdout",
     "output_type": "stream",
     "text": [
      "3rd elif statement executed\n"
     ]
    }
   ],
   "source": [
    "if False:\n",
    "    print('1st elif statement executed')\n",
    "    \n",
    "elif False:\n",
    "    print('2nd elif statement executed')\n",
    "\n",
    "else:\n",
    "    print('3rd elif statement executed')"
   ]
  },
  {
   "cell_type": "code",
   "execution_count": 66,
   "metadata": {},
   "outputs": [
    {
     "name": "stdout",
     "output_type": "stream",
     "text": [
      "4th elif statement executed\n"
     ]
    }
   ],
   "source": [
    "if False:\n",
    "    print('1st elif statement executed')\n",
    "    \n",
    "elif False:\n",
    "    print('2nd elif statement executed')\n",
    "    \n",
    "elif False:\n",
    "    print('3rd elif statement executed')\n",
    "\n",
    "else:\n",
    "    print('4th elif statement executed')"
   ]
  },
  {
   "cell_type": "markdown",
   "metadata": {},
   "source": [
    "#  Nested execution\n",
    "\n",
    "- check for condition test\n",
    "- perform group of statements, if condition test is met\n",
    "\n",
    "<br/>\n",
    "\n",
    "     - condition test within branch of origional"
   ]
  },
  {
   "cell_type": "code",
   "execution_count": 79,
   "metadata": {},
   "outputs": [],
   "source": [
    "# if     - condition A1\n",
    "#\tif   - condition B1"
   ]
  },
  {
   "cell_type": "code",
   "execution_count": 76,
   "metadata": {},
   "outputs": [
    {
     "name": "stdout",
     "output_type": "stream",
     "text": [
      "if statement executed: 1st branch\n",
      "If statement executed: 1st branch of nested conditional\n"
     ]
    }
   ],
   "source": [
    "# nested - if - statement\n",
    "\n",
    "if True:                                  # boolean expression is condition test\n",
    "    print('if statement executed: 1st branch')    \n",
    "                                          # if value is True  - group of statements are executed\n",
    "                                          # if value is False - group of statements are skipped\n",
    "    if True:\n",
    "        print('If statement executed: 1st branch of nested conditional')\n",
    "        \n",
    "    else:\n",
    "        pass\n",
    "\n",
    "else:\n",
    "    print('Else statement executed: 2nd branch')"
   ]
  },
  {
   "cell_type": "code",
   "execution_count": 71,
   "metadata": {},
   "outputs": [
    {
     "name": "stdout",
     "output_type": "stream",
     "text": [
      "Else statement executed: 2nd branch\n",
      "If statement executed: 1st branch of nested conditional\n"
     ]
    }
   ],
   "source": [
    "# nested - if - statement\n",
    "\n",
    "if False:                                  # boolean expression is condition test\n",
    "        print('if statement executed')    \n",
    "                                          # if value is True  - group of statements are executed\n",
    "                                          # if value is False - group of statements are skipped\n",
    "else:\n",
    "    print('Else statement executed: 2nd branch')\n",
    "    \n",
    "    \n",
    "    if True:\n",
    "        print('If statement executed: 1st branch of nested conditional')\n",
    "        \n",
    "    else:\n",
    "        pass"
   ]
  },
  {
   "cell_type": "code",
   "execution_count": null,
   "metadata": {},
   "outputs": [],
   "source": [
    "################\n",
    "\n",
    "print('Welcome to the maritime excursion facility.')\n",
    "waterCraft = input('What type of watercraft would you like to take? [board/boat]: ')\n",
    "\n",
    "if waterCraft.lower() == 'board':\n",
    "    \n",
    "    boardType = input('What type of board would you like? [kayak/paddle]')\n",
    "    \n",
    "    if boardType.lower() == 'kayak':\n",
    "        print('Enjoy your kayak!')\n",
    "        \n",
    "    elif boardType.lower() == 'paddle':\n",
    "        print('Enjoy your paddleboard!')\n",
    "        \n",
    "    else:\n",
    "        print('We do not carry ' + boardType)\n",
    "    \n",
    "elif waterCraft.lower() == 'boat':\n",
    "    \n",
    "    boatType = input('What type of boat would you like? [power/sail]')\n",
    "    \n",
    "    if boatType.lower() == 'power':\n",
    "        print('Enjoy your powerboat!')\n",
    "        \n",
    "    elif boatType.lower() == 'sail':\n",
    "        print('Enjoy your sailboat!')\n",
    "        \n",
    "    else:\n",
    "        print('We do not carry ' + boatType)\n",
    "    \n",
    "else:\n",
    "    print('We do not carry ' + waterCraft)"
   ]
  },
  {
   "cell_type": "markdown",
   "metadata": {},
   "source": [
    "### [nested - conditional execution]"
   ]
  },
  {
   "cell_type": "code",
   "execution_count": 79,
   "metadata": {},
   "outputs": [],
   "source": [
    "# if     - condition A1\n",
    "#\tif   - condition B1"
   ]
  },
  {
   "cell_type": "markdown",
   "metadata": {},
   "source": [
    "### [nested - alternative execution]"
   ]
  },
  {
   "cell_type": "code",
   "execution_count": 77,
   "metadata": {},
   "outputs": [],
   "source": [
    "# if     - condition A1\n",
    "# \tif   - condition B1\n",
    "# \telse - condition B2"
   ]
  },
  {
   "cell_type": "markdown",
   "metadata": {},
   "source": [
    "### [nested - chained execution]"
   ]
  },
  {
   "cell_type": "code",
   "execution_count": 78,
   "metadata": {},
   "outputs": [],
   "source": [
    "# if     - condition A1\n",
    "# \tif   - condition B1\n",
    "# \telif - condition B2\n",
    "# \telif - condition B3"
   ]
  },
  {
   "cell_type": "markdown",
   "metadata": {},
   "source": [
    "### [nested - chained-alternative execution]"
   ]
  },
  {
   "cell_type": "code",
   "execution_count": null,
   "metadata": {},
   "outputs": [],
   "source": [
    "# if     - condition A1\n",
    "# \tif   - condition B1\n",
    "# \telif - condition B2\n",
    "# \telif - condition B3\n",
    "# \telse - condition B4"
   ]
  },
  {
   "cell_type": "markdown",
   "metadata": {},
   "source": [
    "## Nested conditionals are legel - but can make source code hard to read"
   ]
  },
  {
   "cell_type": "code",
   "execution_count": 80,
   "metadata": {},
   "outputs": [
    {
     "name": "stdout",
     "output_type": "stream",
     "text": [
      "1 is a positive number\n",
      "&\n",
      "1 is less than 10\n"
     ]
    }
   ],
   "source": [
    "## Nested conditionals are legel - but can make source code hard to read\n",
    "## Logical operators can simplify nested conditional statements\n",
    "\n",
    "a = 1\n",
    "\n",
    "if 0 < a:\n",
    "\n",
    "    if a < 10:\n",
    "        print(a,'is a positive number')\n",
    "        print('&')\n",
    "        print(a,'is less than 10')\n",
    "        \n",
    "# Print statement is only executed after passing outer conditional & nested conditional\n",
    "# Simplify with logical operator - complex boolean expression - one conditional"
   ]
  },
  {
   "cell_type": "markdown",
   "metadata": {},
   "source": [
    "## Logical operators can simplify nested conditional statements"
   ]
  },
  {
   "cell_type": "code",
   "execution_count": 81,
   "metadata": {},
   "outputs": [
    {
     "name": "stdout",
     "output_type": "stream",
     "text": [
      "1 is a positive number\n",
      "&\n",
      "1 is less than 10\n"
     ]
    }
   ],
   "source": [
    "## lOGICAL OPERATOR simplification\n",
    "\n",
    "a = 1\n",
    "\n",
    "if 0 < a and a < 10:\n",
    "        print(a,'is a positive number')\n",
    "        print('&')\n",
    "        print(a,'is less than 10')"
   ]
  },
  {
   "cell_type": "markdown",
   "metadata": {},
   "source": [
    "# Use cases"
   ]
  },
  {
   "cell_type": "code",
   "execution_count": 22,
   "metadata": {},
   "outputs": [
    {
     "name": "stdout",
     "output_type": "stream",
     "text": [
      "Enjoy your hot coffee\n"
     ]
    }
   ],
   "source": [
    "# Boolean condition\n",
    "\n",
    "hotCoffee = True\n",
    "\n",
    "if hotCoffee:\n",
    "    \n",
    "    print('Enjoy your hot coffee')\n",
    "    \n",
    "else:\n",
    "    print('Enjoy this iced coffee')"
   ]
  },
  {
   "cell_type": "code",
   "execution_count": 23,
   "metadata": {},
   "outputs": [
    {
     "name": "stdout",
     "output_type": "stream",
     "text": [
      "Enter a word: 1\n",
      "Enter a word only\n",
      "1\n",
      "Enter a word: 21a\n",
      "Enter a word only\n",
      "21a\n",
      "Enter a word: 2.a\n",
      "Enter a word only\n",
      "2.a\n",
      "Enter a word: Alpha\n",
      "Alpha\n"
     ]
    }
   ],
   "source": [
    "# Boolean flag\n",
    "\n",
    "findWord = False\n",
    "\n",
    "while not findWord:\n",
    "    \n",
    "    enterWord = input('Enter a word: ')\n",
    "    \n",
    "    if enterWord.isalpha():\n",
    "        findWord = True\n",
    "        \n",
    "    else:\n",
    "        print('Enter a word only')\n",
    "    \n",
    "    print(enterWord)"
   ]
  },
  {
   "cell_type": "code",
   "execution_count": 17,
   "metadata": {},
   "outputs": [
    {
     "name": "stdout",
     "output_type": "stream",
     "text": [
      "Enter a number to see if it is even: 42\n",
      "42 is even\n"
     ]
    }
   ],
   "source": [
    "# Boolean alternative execution\n",
    "# check if a number is even\n",
    "\n",
    "\n",
    "# cast 'string' input to integer to perform mathematical operation\n",
    "\n",
    "numberCheck = int(input('Enter a number to see if it is even: '))\n",
    "\n",
    "if numberCheck % 2 == 0:                                   # N % M = 0 if M divides into N without remainder\n",
    "    print(numberCheck,'is even')                           # if 2 divides into any number without remainder - number is even\n",
    "    \n",
    "else:\n",
    "    print(numberCheck,'is odd')"
   ]
  },
  {
   "cell_type": "code",
   "execution_count": 21,
   "metadata": {},
   "outputs": [
    {
     "name": "stdout",
     "output_type": "stream",
     "text": [
      "Enter a number: 5\n",
      "Enter another number: 5\n",
      "5 and 5 are equal\n"
     ]
    }
   ],
   "source": [
    "# Boolean chained alternative execution\n",
    "# check if a number is greater, less, or equal to another\n",
    "# At least 1 branch is executed\n",
    "\n",
    "\n",
    "# cast 'string' input to integer to perform mathematical operation\n",
    "\n",
    "numberCheckI = int(input('Enter a number: '))\n",
    "numberCheckJ = int(input('Enter another number: '))\n",
    "\n",
    "if numberCheckI > numberCheckJ:\n",
    "    print(numberCheckI,'is greater than',numberCheckJ)\n",
    "    \n",
    "elif numberCheckI < numberCheckJ:\n",
    "    print(numberCheckI,'is less than',numberCheckJ)\n",
    "    \n",
    "else:\n",
    "    print(numberCheckI,'and',numberCheckJ,'are equal')"
   ]
  },
  {
   "cell_type": "code",
   "execution_count": 28,
   "metadata": {},
   "outputs": [
    {
     "name": "stdout",
     "output_type": "stream",
     "text": [
      "Enter a number: 2\n",
      "Enter another number: 2\n",
      "x and y are equal\n"
     ]
    }
   ],
   "source": [
    "# Boolean chained alternative execution\n",
    "# check if a number is greater, less, or equal to another\n",
    "# At least 1 branch is executed\n",
    "\n",
    "\n",
    "# cast 'string' input to integer to perform mathematical operation\n",
    "\n",
    "x = int(input('Enter a number: '))\n",
    "y = int(input('Enter another number: '))\n",
    "\n",
    "if x == y:\n",
    "    print('x and y are equal')\n",
    "else:\n",
    "    if x < y:\n",
    "        print(x,'is less than',y)\n",
    "    else:\n",
    "        print(x,'is greater than',y)"
   ]
  },
  {
   "cell_type": "code",
   "execution_count": 6,
   "metadata": {},
   "outputs": [
    {
     "name": "stdout",
     "output_type": "stream",
     "text": [
      "Branch 1: [if] statement executed\n",
      "3 <= 6\n",
      "\n",
      "-----Compound statement has ended - this is the next statement in sequence-----\n"
     ]
    }
   ],
   "source": [
    "#Chained conditional\n",
    "\n",
    "#At most 1 branch is executed\n",
    "#**More specific condition should come first\n",
    "#**If more general condition is first - it may cover the second condition\n",
    "\n",
    "x = 3\n",
    "y = 6\n",
    "z = 9\n",
    "\n",
    "if x <= y:\n",
    "    print('Branch 1: [if] statement executed')\n",
    "    print(x,'<=',y)\n",
    "    \n",
    "elif x < z:\n",
    "    print('Branch 2: [elif] statement executed')\n",
    "    print(x,'<',z)\n",
    "\n",
    "# if two [chained (if,elif)] conditional branches are in the compound statement only the first true one is executed\n",
    "print('\\n-----Compound statement has ended - this is the next statement in sequence-----')"
   ]
  },
  {
   "cell_type": "code",
   "execution_count": 1,
   "metadata": {},
   "outputs": [
    {
     "name": "stdout",
     "output_type": "stream",
     "text": [
      "Branch 1: [if] statement executed\n",
      "3 > 6\n",
      "Branch 2: [elif] statement executed\n",
      "3 < 9\n",
      "\n",
      "-----Compound statement has ended - this is the next statement in sequence-----\n"
     ]
    }
   ],
   "source": [
    "#Multiple conditionals\n",
    "\n",
    "#**More specific condition will not block the next conditional because they are [not chained]\n",
    "\n",
    "x = 3\n",
    "y = 6\n",
    "z = 9\n",
    "\n",
    "if x <= y:\n",
    "    print('Branch 1: [if] statement executed')\n",
    "    print(x,'>',y)\n",
    "    \n",
    "if x < z:\n",
    "    print('Branch 2: [elif] statement executed')\n",
    "    print(x,'<',z)\n",
    "\n",
    "# if two [if] conditional branches are in the compound statement both will be executed if true\n",
    "print('\\n-----Compound statement has ended - this is the next statement in sequence-----')"
   ]
  },
  {
   "cell_type": "code",
   "execution_count": 12,
   "metadata": {},
   "outputs": [
    {
     "name": "stdout",
     "output_type": "stream",
     "text": [
      "27 is divisible by 2 or 3\n"
     ]
    }
   ],
   "source": [
    "# Boolean compound expression\n",
    "# Check if a number is divisible by 2 or 3\n",
    "# Logical or\n",
    "\n",
    "x = 27\n",
    "#x = 42\n",
    "\n",
    "if x % 2 == 0 or x % 3 == 0:              # N % M == 0 --> yields 0 if N divides into M without remainder\n",
    "    \n",
    "    print(x,'is divisible by 2 or 3')"
   ]
  },
  {
   "cell_type": "code",
   "execution_count": null,
   "metadata": {},
   "outputs": [],
   "source": []
  },
  {
   "cell_type": "code",
   "execution_count": null,
   "metadata": {},
   "outputs": [],
   "source": []
  },
  {
   "cell_type": "code",
   "execution_count": 45,
   "metadata": {},
   "outputs": [
    {
     "name": "stdout",
     "output_type": "stream",
     "text": [
      "Enter shirt color: whiTE\n",
      "Enter shirt size: M\n",
      "\n",
      "White available in size M\n"
     ]
    }
   ],
   "source": [
    "####\n",
    "# [ ] create shirt order using nested if \n",
    "\n",
    "shirtColor = input('Enter shirt color: ')\n",
    "shirtSize = input('Enter shirt size: ')\n",
    "\n",
    "available = False\n",
    "\n",
    "while not available:\n",
    "        \n",
    "    if shirtColor.capitalize() == 'White' and (shirtSize.upper() == 'M' or shirtSize.upper() == 'L'):\n",
    "        available = True\n",
    "    elif shirtColor.capitalize() == 'Blue' and (shirtSize.upper() == 'S' or shirtSize.upper() == 'M'):\n",
    "        available = True\n",
    "    else:\n",
    "        print('Not available')\n",
    "        shirtColor = input('Enter shirt color: ')\n",
    "        shirtSize = input('Enter shirt size: ')\n",
    "    \n",
    "print('\\n'+shirtColor.capitalize(),'available in size', shirtSize.upper())"
   ]
  },
  {
   "cell_type": "code",
   "execution_count": null,
   "metadata": {},
   "outputs": [],
   "source": [
    "####\n",
    "# [ ] create and call ticket_check()\n",
    "\n",
    "def ticket_check(section,seat):\n",
    "    if section.lower().startswith('g'):\n",
    "        if int(seat) >= 1 and int(seat) <=10:\n",
    "            return True\n",
    "        else:\n",
    "            return False\n",
    "    elif section.lower().startswith('f'):\n",
    "        if int(seat) >= 1 and int(seat) <= 4:\n",
    "            return True\n",
    "        else:\n",
    "            return False\n",
    "    else:\n",
    "        return False\n",
    "    \n",
    "ticket_check(input('Section:'),input('Seat:'))\n",
    "    "
   ]
  },
  {
   "cell_type": "code",
   "execution_count": null,
   "metadata": {},
   "outputs": [],
   "source": []
  },
  {
   "cell_type": "code",
   "execution_count": null,
   "metadata": {},
   "outputs": [],
   "source": []
  },
  {
   "cell_type": "markdown",
   "metadata": {},
   "source": [
    "## Boolean Flag"
   ]
  },
  {
   "cell_type": "markdown",
   "metadata": {},
   "source": [
    "### Condition test for positive number"
   ]
  },
  {
   "cell_type": "code",
   "execution_count": 10,
   "metadata": {},
   "outputs": [
    {
     "name": "stdout",
     "output_type": "stream",
     "text": [
      "Input a positive number: -200\n",
      "Input a positive number: -1\n",
      "Input a positive number: 0\n",
      "Input a positive number: 1\n"
     ]
    }
   ],
   "source": [
    "# Boolean flag\n",
    "# Boolean search for number or condition\n",
    "# logical not\n",
    "\n",
    "numberSearch = 0\n",
    "\n",
    "while not numberSearch > 0:                                 # checks for a positive number\n",
    "    \n",
    "    numberSearch = int(input('Input a positive number: '))  # cast string input to integer\n",
    "                                                            # can not be float\n",
    "                                                            # ValueError: invalid literal for int() with base 10: '-1.0'"
   ]
  },
  {
   "cell_type": "markdown",
   "metadata": {},
   "source": [
    "### Condition test\n",
    "\n",
    "booleanConditional = False\n",
    "x = 4\n",
    "not ( x <= 0)\n",
    "- searching/waiting for booleanConditional to become True\n",
    "- to make overal condition false --> not (True) --> end conditional\n",
    "\n",
    "not booleanConditional\n",
    "not (False)                      --> until (x <= 0)\n",
    "not (True)                        --> once (x <= 0)   "
   ]
  },
  {
   "cell_type": "code",
   "execution_count": null,
   "metadata": {},
   "outputs": [],
   "source": [
    "# not (x > y) # used to count x up until > y\n",
    "# is true if x > y is false - if x is less than or equal to y"
   ]
  },
  {
   "cell_type": "code",
   "execution_count": 11,
   "metadata": {},
   "outputs": [
    {
     "name": "stdout",
     "output_type": "stream",
     "text": [
      "3\n",
      "4\n",
      "5\n",
      "6\n",
      "7\n",
      "8\n",
      "9\n"
     ]
    }
   ],
   "source": [
    "## LOGICAL OPERATOR [not]\n",
    "\n",
    "x = 3\n",
    "y = 9\n",
    "\n",
    "while not (x>y):\n",
    "    print(x)\n",
    "    x+=1"
   ]
  },
  {
   "cell_type": "markdown",
   "metadata": {},
   "source": [
    "### Condition test for negative number"
   ]
  },
  {
   "cell_type": "code",
   "execution_count": 13,
   "metadata": {},
   "outputs": [
    {
     "name": "stdout",
     "output_type": "stream",
     "text": [
      "Input a number: 100\n",
      "Input a number: 0\n",
      "Input a number: 1\n",
      "Input a number: -1\n"
     ]
    }
   ],
   "source": [
    "# Boolean flag\n",
    "# Boolean search for number or condition\n",
    "# logical not\n",
    "\n",
    "numberSearch = 0\n",
    "\n",
    "while not numberSearch < 0:                              # checks for a negative number\n",
    "    \n",
    "    numberSearch = int(input('Input a number: '))        # cast string input to integer\n",
    "                                                         # can not be float\n",
    "                                                         # ValueError: invalid literal for int() with base 10: '-1.0'"
   ]
  },
  {
   "cell_type": "markdown",
   "metadata": {},
   "source": [
    "### Condition test\n",
    "\n",
    "booleanConditional = False\n",
    "x = 4\n",
    "not ( x <= 0)\n",
    "- searching/waiting for booleanConditional to become True\n",
    "- to make overal condition false --> not (True) --> end conditional\n",
    "\n",
    "not booleanConditional\n",
    "not (False)                      --> until (x <= 0)\n",
    "not (True)                        --> once (x <= 0)   "
   ]
  },
  {
   "cell_type": "code",
   "execution_count": null,
   "metadata": {},
   "outputs": [],
   "source": [
    "# not (x < y) # used to count x down until > y\n",
    "# is true if x < y is false - if x is greater than or equal to y"
   ]
  },
  {
   "cell_type": "code",
   "execution_count": 71,
   "metadata": {},
   "outputs": [
    {
     "name": "stdout",
     "output_type": "stream",
     "text": [
      "Enter a name: R2D2\n",
      "Enter a name: @lpha\n",
      "Enter a name: Alexander\n"
     ]
    }
   ],
   "source": [
    "# Boolean flag\n",
    "# Boolean search for number or condition\n",
    "# logical not\n",
    "\n",
    "found = False\n",
    "\n",
    "while not found:\n",
    "    \n",
    "    inputString = input('Enter a name: ')\n",
    "    \n",
    "    if inputString.isalpha():                             # checks for an alphabetical name - no numbers or symbols\n",
    "        break"
   ]
  },
  {
   "cell_type": "markdown",
   "metadata": {},
   "source": [
    "## try - except - statement\n",
    "- attempt to perform code block\n",
    "- if try code block fails\n",
    "- except code block statements executed"
   ]
  },
  {
   "cell_type": "code",
   "execution_count": 10,
   "metadata": {},
   "outputs": [
    {
     "name": "stdout",
     "output_type": "stream",
     "text": [
      "Enter a floating point number: 2\n",
      "Entered: 2.0 \n",
      "Type: <class 'float'>\n"
     ]
    }
   ],
   "source": [
    "### Try and Except\n",
    "## Try lets the program attempt a [statement] or [compound statement]\n",
    "## if the statement has a traceback - [except] - the exception is exectuted to catch the program\n",
    "\n",
    "#Catching an exception - handling an exception with a try statement\n",
    "#Catching an exception allows for a fix to the problem, to try again, or end the program without error\n",
    "\n",
    "try:\n",
    "    floatInput = input('Enter a floating point number: ')\n",
    "    \n",
    "    print('Entered:',float(floatInput),'\\nType:',type(float(floatInput)))\n",
    "    \n",
    "except:\n",
    "    print('Only enter a number')"
   ]
  },
  {
   "cell_type": "code",
   "execution_count": 11,
   "metadata": {},
   "outputs": [
    {
     "name": "stdout",
     "output_type": "stream",
     "text": [
      "Enter a floating point number: sa\n",
      "Only enter a number\n",
      "Enter a floating point number: 3\n",
      "Entered: 3.0 \n",
      "Type: <class 'float'>\n"
     ]
    }
   ],
   "source": [
    "#While loop - try - except - break\n",
    "\n",
    "while True:\n",
    "    try:\n",
    "        floatInput = input('Enter a floating point number: ')\n",
    "\n",
    "        print('Entered:',float(floatInput),'\\nType:',type(float(floatInput)))\n",
    "        \n",
    "        break\n",
    "    \n",
    "    except:\n",
    "        print('Only enter a number')"
   ]
  },
  {
   "cell_type": "code",
   "execution_count": 6,
   "metadata": {},
   "outputs": [
    {
     "name": "stdout",
     "output_type": "stream",
     "text": [
      "Enter a number to see if it is even: 3.0\n",
      "Enter integers only\n"
     ]
    }
   ],
   "source": [
    "# Boolean alternative execution\n",
    "# check if a number is even\n",
    "\n",
    "\n",
    "# cast 'string' input to integer to perform mathematical operation\n",
    "\n",
    "numberCheck = input('Enter a number to see if it is even: ')\n",
    "\n",
    "                                                           # if input is float - int() cast will fail\n",
    "                                                           # using try will avoid this\n",
    "try:\n",
    "    \n",
    "    numberCheck = int(numberCheck)                         # float(numberCheck) - will allow user to enter floating point also\n",
    "    \n",
    "    if numberCheck % 2 == 0:                                   # N % M = 0 if M divides into N without remainder\n",
    "        print(numberCheck,'is even')                           # if 2 divides into any number without remainder - number is even\n",
    "\n",
    "    else:\n",
    "        print(numberCheck,'is odd')\n",
    "    \n",
    "    \n",
    "    \n",
    "except:\n",
    "    print('Enter integers only')"
   ]
  },
  {
   "cell_type": "markdown",
   "metadata": {},
   "source": [
    "## guardian pattern\n",
    "- use short-circuit evaluation as an advantage to catch errors\n",
    "- catch errors before computations are performed"
   ]
  },
  {
   "cell_type": "code",
   "execution_count": 21,
   "metadata": {},
   "outputs": [
    {
     "name": "stdout",
     "output_type": "stream",
     "text": [
      "False\n",
      "False\n",
      "False\n"
     ]
    }
   ],
   "source": [
    "## The guardian pattern\n",
    "## Short-circuit prevents division by 0 error - logical expression - compound boolean expression\n",
    "\n",
    "## CAN NOT be logical [or] - although guardian boolean expression would be false\n",
    "## - if 1 boolean expression in the compound boolean expression is true\n",
    "## - the code block will still execute\n",
    "\n",
    "## logical [and] ensures - due to short-circtut - body of code block is not executed\n",
    "\n",
    "# ZeroDivisionError: division by zero\n",
    "\n",
    "\n",
    "i = 1\n",
    "j = 0\n",
    "\n",
    "condition1 = i < j and j != 0\n",
    "print(condition1)                                    \n",
    "\n",
    "condition2 = i > j and j != 0 and (i/j) > 1          # DIVISION BY ZERO results in ERROR\n",
    "print(condition2)                                    # without guardian patter [(i/j) > 1] - would result in error - [(1/0) > 1]\n",
    "\n",
    "#division by zero can be guarded before evaluated by a guard evaluation\n",
    "##condition0 = i > j and (i/j) > 4\n",
    "\n",
    "condition0 = i > j and j != 0 and (i/j) > 4\n",
    "print(condition0)"
   ]
  }
 ],
 "metadata": {
  "kernelspec": {
   "display_name": "Python 3",
   "language": "python",
   "name": "python3"
  },
  "language_info": {
   "codemirror_mode": {
    "name": "ipython",
    "version": 3
   },
   "file_extension": ".py",
   "mimetype": "text/x-python",
   "name": "python",
   "nbconvert_exporter": "python",
   "pygments_lexer": "ipython3",
   "version": "3.7.3"
  }
 },
 "nbformat": 4,
 "nbformat_minor": 2
}
