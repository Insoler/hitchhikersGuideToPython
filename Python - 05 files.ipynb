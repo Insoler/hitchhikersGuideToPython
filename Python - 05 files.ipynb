{
 "cells": [
  {
   "cell_type": "markdown",
   "metadata": {},
   "source": [
    "# `Python`\n",
    "## Files\n",
    " \n",
    " <img src=\"pythonLogo.png\" height=\"20%\" width=\"20%\"/>"
   ]
  },
  {
   "cell_type": "markdown",
   "metadata": {},
   "source": [
    "### So far, throughout this series, programs have been written using\n",
    "\n",
    "- sequential execution\n",
    "- conditional execution\n",
    "- functions\n",
    "- iteration\n",
    "\n",
    "#### These programming concepts involve the CPU\n",
    "and are stored in primary memory\n",
    "\n",
    "- these programs are lost from memory and no longer involved with the CPU after thier completion"
   ]
  },
  {
   "cell_type": "markdown",
   "metadata": {},
   "source": [
    "### Files allow programs to store and retrieve data from secondary memory\n",
    "- existing outside the program when it completes its instructions"
   ]
  },
  {
   "cell_type": "markdown",
   "metadata": {},
   "source": [
    "# Retrieving files with `command line` `curl`"
   ]
  },
  {
   "cell_type": "code",
   "execution_count": null,
   "metadata": {},
   "outputs": [],
   "source": [
    "# Command line code in Jupyter - linux based\n",
    "# !curl\n",
    "# !                                                                - runs command interface (tells jupyter os to run command line)\n",
    "# curl                                                             - command in unix - enables jupyter os to download files\n",
    "# https://github.com/alexdelapaz/microsoftDev274x/goldenPoem.txt   - address - path to file on github\n",
    "# -o                                                               - tells curl to write data to a file\n",
    "# godenPoem.txt                                                    - .txt file name\n",
    "\n",
    "#!curl https://github.com/alexdelapaz/microsoftDev274x/goldenPoem.txt -o goldenPoem.txt"
   ]
  },
  {
   "cell_type": "code",
   "execution_count": null,
   "metadata": {
    "scrolled": true
   },
   "outputs": [],
   "source": [
    "!curl https://raw.githubusercontent.com/MicrosoftLearning/intropython/master/poem1.txt -o poem1.txt"
   ]
  },
  {
   "cell_type": "markdown",
   "metadata": {},
   "source": [
    "## Opening files"
   ]
  },
  {
   "cell_type": "markdown",
   "metadata": {},
   "source": [
    "### `open('text.txt','r')`\n",
    "#### coordinates with the operating system (OS) to locate, check if a file exists, and retrieves the file handle for use"
   ]
  },
  {
   "cell_type": "markdown",
   "metadata": {},
   "source": [
    "# The `file handle` is retrieved using `open('text.txt','r')`\n",
    "\n",
    "- ### `open('text.txt','r')` becomes the `file handle` if used in command\n",
    "- ### `variable` from `open('text.txt','r')` becomes the `file handle` as well"
   ]
  },
  {
   "cell_type": "code",
   "execution_count": null,
   "metadata": {},
   "outputs": [],
   "source": [
    "# The File handle - does not contain data\n",
    "# Due to a possibly large file size - several GBs - the file handle is just a way to access the data\n",
    "\n",
    "# A For loop - using open('text.txt')\n",
    "# will cause the file to be read - accessing the data through the handle to count the lines of a file (.read()s 1 line at a time)\n",
    "\n",
    "# Python reads & splits the lines of the file - by the [\\n] character (included) at end of line - in the For loop"
   ]
  },
  {
   "cell_type": "code",
   "execution_count": null,
   "metadata": {},
   "outputs": [],
   "source": [
    "# The file handle - used to read (access) the file\n",
    "\n",
    "# open\n",
    "# read\n",
    "# write\n",
    "# close"
   ]
  },
  {
   "cell_type": "code",
   "execution_count": null,
   "metadata": {},
   "outputs": [],
   "source": [
    "#default read/write option is 'r' - read - open('text.txt','r')\n",
    "\n",
    "poemFile = open('poem1.txt','r')"
   ]
  },
  {
   "cell_type": "markdown",
   "metadata": {},
   "source": [
    "## print(`fileHandle`) will print the `file handle`\n",
    "- not the contents of the file"
   ]
  },
  {
   "cell_type": "code",
   "execution_count": null,
   "metadata": {
    "scrolled": true
   },
   "outputs": [],
   "source": [
    "print(poemFile)"
   ]
  },
  {
   "cell_type": "markdown",
   "metadata": {},
   "source": [
    "## The file must exist & the user must have proper permission to access it"
   ]
  },
  {
   "cell_type": "code",
   "execution_count": null,
   "metadata": {},
   "outputs": [],
   "source": [
    "# FileNotFoundError: [Errno 2] No such file or directory: 'ghostFile.txt'\n",
    "\n",
    "# ghostFile = open('ghostFile.txt')"
   ]
  },
  {
   "cell_type": "markdown",
   "metadata": {},
   "source": [
    "# Closing files\n",
    "# `fileHandle.close()`"
   ]
  },
  {
   "cell_type": "code",
   "execution_count": null,
   "metadata": {},
   "outputs": [],
   "source": [
    "# The file must be closed after opening - file.close() \n",
    "\n",
    "poemFile.close()"
   ]
  },
  {
   "cell_type": "markdown",
   "metadata": {},
   "source": [
    "# The file can not be accessed after it is closed"
   ]
  },
  {
   "cell_type": "code",
   "execution_count": null,
   "metadata": {},
   "outputs": [],
   "source": [
    "# ValueError: I/O operation on closed file.\n",
    "\n",
    "# poemFile.read()"
   ]
  },
  {
   "cell_type": "markdown",
   "metadata": {},
   "source": [
    "## Newline [\\n] character\n",
    "#### The [\\n] character is treated as 1 character in Python"
   ]
  },
  {
   "cell_type": "code",
   "execution_count": null,
   "metadata": {},
   "outputs": [],
   "source": [
    "newline = '\\n'"
   ]
  },
  {
   "cell_type": "code",
   "execution_count": null,
   "metadata": {},
   "outputs": [],
   "source": [
    "# When presented as a variable only - the interpreter displays the string containint the [\\n] character\n",
    "\n",
    "newline"
   ]
  },
  {
   "cell_type": "code",
   "execution_count": null,
   "metadata": {},
   "outputs": [],
   "source": [
    "# The newline character is treated as 1 character\n",
    "\n",
    "len(newline)"
   ]
  },
  {
   "cell_type": "code",
   "execution_count": null,
   "metadata": {},
   "outputs": [],
   "source": [
    "# When used as an argument to print() command - the [\\n] character is applied to the output\n",
    "\n",
    "print('string'+newline[0]+'string')\n",
    "\n",
    "print('string'+newline[-1]+'string')"
   ]
  },
  {
   "cell_type": "code",
   "execution_count": null,
   "metadata": {},
   "outputs": [],
   "source": [
    "#print(newline[1])                       #IndexError: string index out of range\n"
   ]
  },
  {
   "cell_type": "code",
   "execution_count": null,
   "metadata": {},
   "outputs": [],
   "source": [
    "wordNewline = 'newline\\n'"
   ]
  },
  {
   "cell_type": "code",
   "execution_count": null,
   "metadata": {},
   "outputs": [],
   "source": [
    "# 0 1 2 3 4 5 6 7   - indices - 8 Characters\n",
    "# n e w l i n e \\n\n",
    "\n",
    "len(wordNewline)"
   ]
  },
  {
   "cell_type": "code",
   "execution_count": null,
   "metadata": {},
   "outputs": [],
   "source": [
    "print(wordNewline +'Next line')         # [\\n] is included and + 'next string' is on a new line"
   ]
  },
  {
   "cell_type": "code",
   "execution_count": null,
   "metadata": {},
   "outputs": [],
   "source": [
    "                                        # [\\n] is counted as only 1 character\n",
    "print(wordNewline[:-1] +'Next line')    # [:-1] omits the [\\n] character as the last character in the 'string'[:] index splice"
   ]
  },
  {
   "cell_type": "markdown",
   "metadata": {},
   "source": [
    "# Text files - sequence of lines\n",
    "# Vs.\n",
    "# 'strings' - sequence of characters"
   ]
  },
  {
   "cell_type": "markdown",
   "metadata": {},
   "source": [
    "## The [\\n] character seperates lines in a file"
   ]
  },
  {
   "cell_type": "code",
   "execution_count": null,
   "metadata": {},
   "outputs": [],
   "source": [
    "# File's lines are separated by [\\n] characters\n",
    "\n",
    "lineFile = open('linesExample.txt','r')\n",
    "\n",
    "lineFileContent = lineFile.read()\n",
    "\n",
    "lineFile.close()"
   ]
  },
  {
   "cell_type": "code",
   "execution_count": null,
   "metadata": {},
   "outputs": [],
   "source": [
    "lineFileContent"
   ]
  },
  {
   "cell_type": "code",
   "execution_count": null,
   "metadata": {},
   "outputs": [],
   "source": [
    "print(lineFileContent)"
   ]
  },
  {
   "cell_type": "markdown",
   "metadata": {},
   "source": [
    "## For loop\n",
    "### open('text.txt')\n",
    "\n",
    "The For loop can iterate through the lines of the file\n",
    "and can count and read the lines efficiently without running out of main memory to store the file\n",
    "\n",
    "- by reading 1 line at a time\n",
    "- splitting by the [\\n] character (included)\n",
    "- counting by each line\n",
    "\n",
    "- the data is discarded after each iteration\n",
    "\n",
    "This discarding of the data allows for an efficient read and count of the data without using vast main memory"
   ]
  },
  {
   "cell_type": "code",
   "execution_count": null,
   "metadata": {},
   "outputs": [],
   "source": [
    "# For loop - open('text.txt')\n",
    "\n",
    "textFile = open('linesExample.txt','r')         # file handle - when used in a For loop - will access the file content\n",
    "\n",
    "count = 0                                       # count variable - to count the lines in a file\n",
    "\n",
    "for currentLine in textFile:                    # textFile - file handle - when used in a For loop - will access the file content\n",
    "                                                # currentLine - iterator - will take on the 'string' value through [\\n]\n",
    "    count += 1                                  #                        - for each line in textFile - during For loop iterations\n",
    "    \n",
    "print('Line count:',count)\n",
    "    \n",
    "\n",
    "textFile.close()"
   ]
  },
  {
   "cell_type": "markdown",
   "metadata": {},
   "source": [
    "# Reading files"
   ]
  },
  {
   "cell_type": "markdown",
   "metadata": {},
   "source": [
    "# `fileHandle.read()`\n",
    "\n",
    "### The `.read()` method of the file handle\n",
    "### will read the data of the entire file as a 'string' (sequence) into memory\n",
    "- #### 'string' methods can then be used\n",
    "\n",
    "###  `fileHandle.read()` stored to a `variable` will contain content from the file"
   ]
  },
  {
   "cell_type": "code",
   "execution_count": null,
   "metadata": {},
   "outputs": [],
   "source": [
    "# The .read() method of the file handle\n",
    "# will read the data of the entire file as a 'string' (sequence) into memory\n",
    "\n",
    "fileHandle = open('linesExample.txt','r')\n",
    "\n",
    "textFileContent = fileHandle.read()\n",
    "\n",
    "\n",
    "print(len(textFileContent))\n",
    "print()\n",
    "\n",
    "\n",
    "print(textFileContent[:20])            #textFileContent[20] is the [\\n]\n",
    "                                       #textFileContent[:21] will include [\\n]\n",
    "textFile.close()"
   ]
  },
  {
   "cell_type": "markdown",
   "metadata": {},
   "source": [
    "# file `pointer`"
   ]
  },
  {
   "cell_type": "markdown",
   "metadata": {},
   "source": [
    "# `.read()` \"exhausts\" the resource\n",
    "\n",
    "### once the file is .read() the file has a `pointer` at the end of the file\n",
    "\n",
    "### the pointer must be moved to the beggining to .read() the file again"
   ]
  },
  {
   "cell_type": "code",
   "execution_count": null,
   "metadata": {},
   "outputs": [],
   "source": [
    "textFile = open('linesExample.txt','r')\n",
    "\n",
    "print(len(textFile.read()))\n",
    "\n",
    "print(len(textFile.read()))\n"
   ]
  },
  {
   "cell_type": "markdown",
   "metadata": {},
   "source": [
    "# `fileHandle.read(N)`\n",
    "# - `N` is the number of `characters to read`\n",
    "\n",
    "### The `pointer` will stay at the last character that was not read"
   ]
  },
  {
   "cell_type": "code",
   "execution_count": null,
   "metadata": {},
   "outputs": [],
   "source": [
    "textFile = open('linesExample.txt','r')\n",
    "\n",
    "print(textFile.read(7))\n",
    "\n",
    "print(textFile.read(7))\n",
    "\n",
    "print(textFile.read())"
   ]
  },
  {
   "cell_type": "code",
   "execution_count": null,
   "metadata": {},
   "outputs": [],
   "source": [
    "readCharacters = 14\n",
    "\n",
    "textFile = open('linesExample.txt','r')\n",
    "\n",
    "print(textFile.read(readCharacters))"
   ]
  },
  {
   "cell_type": "code",
   "execution_count": null,
   "metadata": {},
   "outputs": [],
   "source": [
    "# [ ] digits of pi\n",
    "# 1. import digits_of_pi.txt\n",
    "\n",
    "!curl https://raw.githubusercontent.com/MicrosoftLearning/intropython/master/digits_of_pi -o digits_of_pi.txt"
   ]
  },
  {
   "cell_type": "code",
   "execution_count": null,
   "metadata": {},
   "outputs": [],
   "source": [
    "# [ ] digits of pi\n",
    "# 2. open as digits_of_pi_text \n",
    "# 3. read() 4 char of digits_of_pi_text to pi_digits variable \n",
    "# 4. print pi_digits  \n",
    "\n",
    "piDigitsFile = open('digits_of_pi.txt','r')\n",
    "\n",
    "piDigitsFileContent = piDigitsFile.read(4)           # piDigitsFile.read(4) - reads first 4 characters - 3.14\n",
    "                                                     # piDigitsFileContent - contains first 4 characters\n",
    "print(piDigitsFileContent)"
   ]
  },
  {
   "cell_type": "code",
   "execution_count": null,
   "metadata": {},
   "outputs": [],
   "source": [
    "# [ ] digits of pi\n",
    "# 5. add to pi_digits string with string addition  \n",
    "#   a. add next 4 characters from digits_of_pi obtained from read()  \n",
    "#   b. run the cell multiple times to get more digits of *pi*\n",
    "\n",
    "# piDigitsFile.read(4) - reads the next 4 characters until the end of file \n",
    "                                                      # piDigitsFileContent - contains first 4 characters\n",
    "piDigitsFileContent += piDigitsFile.read(4)           # piDigitsFileContent - then adds the next 4 characters each time run\n",
    "print(piDigitsFileContent)"
   ]
  },
  {
   "cell_type": "code",
   "execution_count": null,
   "metadata": {},
   "outputs": [],
   "source": [
    "piDigitsFile.close()"
   ]
  },
  {
   "cell_type": "code",
   "execution_count": null,
   "metadata": {},
   "outputs": [],
   "source": [
    "# open('digits_of_pi.txt','r') *****IF INITIALIZED IN SAME CELL - piDigitsFile.read(4) only opens first 4 characters\n",
    "\n",
    "# piDigitsFile.read(4) - reads the FIRST 4 characters until the end of file\n",
    "\n",
    "# If open() function is in same cell\n",
    "# - only selected lines will be opened with read(index)\n",
    "# if open() function is in its own cell - each run of the cell with read(index) will pull - [index] more lines\n",
    "\n",
    "piDigitsFile = open('digits_of_pi.txt','r')\n",
    "\n",
    "#piDigitsFile.read(4)\n",
    "\n",
    "piDigitsFileContentNext4 = piDigitsFile.read(4)\n",
    "print(piDigitsFileContentNext4)"
   ]
  },
  {
   "cell_type": "code",
   "execution_count": null,
   "metadata": {},
   "outputs": [],
   "source": [
    "piDigitsFile.close()"
   ]
  },
  {
   "cell_type": "markdown",
   "metadata": {},
   "source": [
    "# `fileHandle.readlines()`\n",
    "## reads `lines of file`  as `elements` into a `list`\n",
    "## dilineated by `\\n`"
   ]
  },
  {
   "cell_type": "code",
   "execution_count": null,
   "metadata": {},
   "outputs": [],
   "source": [
    "poemFileHandle = open('gold.txt')\n",
    "\n",
    "poemFileContents = poemFileHandle.readlines()\n",
    "\n",
    "print(poemFileContents)"
   ]
  },
  {
   "cell_type": "code",
   "execution_count": null,
   "metadata": {},
   "outputs": [],
   "source": [
    "print(type(poemFileContents))"
   ]
  },
  {
   "cell_type": "code",
   "execution_count": null,
   "metadata": {},
   "outputs": [],
   "source": [
    "for line in poemFileContents:\n",
    "    print(line)"
   ]
  },
  {
   "cell_type": "code",
   "execution_count": null,
   "metadata": {},
   "outputs": [],
   "source": [
    "for line in poemFileContents:\n",
    "    print(line,end='')                     # print(argument, end='') -> end = dilineator ,a seperator, which is [\\n] by default"
   ]
  },
  {
   "cell_type": "code",
   "execution_count": null,
   "metadata": {},
   "outputs": [],
   "source": [
    "poemFileHandle.close()"
   ]
  },
  {
   "cell_type": "markdown",
   "metadata": {},
   "source": [
    "# `fileHandle.readline()`\n",
    "# reads `one line` at a time from file handle"
   ]
  },
  {
   "cell_type": "code",
   "execution_count": null,
   "metadata": {},
   "outputs": [],
   "source": [
    "poemFileHandle = open('gold.txt')\n",
    "\n",
    "poemFileContents = poemFileHandle.readline()\n",
    "\n",
    "print(poemFileContents)"
   ]
  },
  {
   "cell_type": "code",
   "execution_count": null,
   "metadata": {},
   "outputs": [],
   "source": [
    "print(poemFileHandle.readline())\n",
    "print(poemFileHandle.readline())"
   ]
  },
  {
   "cell_type": "code",
   "execution_count": null,
   "metadata": {},
   "outputs": [],
   "source": [
    "poemFileHandle = open('gold.txt')\n",
    "\n",
    "line1 = poemFileHandle.readline()\n",
    "line2 = poemFileHandle.readline()\n",
    "line3 = poemFileHandle.readline()"
   ]
  },
  {
   "cell_type": "code",
   "execution_count": null,
   "metadata": {},
   "outputs": [],
   "source": [
    "print(line1 + line2 + line3)"
   ]
  },
  {
   "cell_type": "code",
   "execution_count": null,
   "metadata": {},
   "outputs": [],
   "source": [
    "poemFileHandle.close()"
   ]
  },
  {
   "cell_type": "markdown",
   "metadata": {},
   "source": [
    "# while `fileHandle.readline()`\n",
    "- ### `fileHandle.readline()` returns True as long as there are still characters in the line"
   ]
  },
  {
   "cell_type": "code",
   "execution_count": 9,
   "metadata": {},
   "outputs": [
    {
     "name": "stdout",
     "output_type": "stream",
     "text": [
      "While loop executed 01 time, case B\n"
     ]
    }
   ],
   "source": [
    "# While loop conditional is [False] if 'string' is empty ''\n",
    "\n",
    "while '':\n",
    "    print('While loop executed, case A')\n",
    "    \n",
    "\n",
    "# While loop conditional is [True] if 'string' has any value 'string'\n",
    "\n",
    "while 'string':\n",
    "    print('While loop executed 01 time, case B')\n",
    "    break"
   ]
  },
  {
   "cell_type": "markdown",
   "metadata": {},
   "source": [
    "# assign line.strip() to a variable"
   ]
  },
  {
   "cell_type": "code",
   "execution_count": 15,
   "metadata": {},
   "outputs": [
    {
     "name": "stdout",
     "output_type": "stream",
     "text": [
      "All that is gold does not glitter\n",
      "Not all those who wander are lost;\n",
      "The old that is strong does not wither,\n",
      "Deep roots are not reached by the frost.\n",
      "From the ashes, a fire shall be woken,\n",
      "A light from the shadows shall spring;\n",
      "Renewed shall be blade that was broken,\n",
      "The crownless again shall be king\n"
     ]
    }
   ],
   "source": [
    "goldenPoemFile = open('gold.txt')\n",
    "\n",
    "goldenPoemLine = goldenPoemFile.readline()[:-1]       # goldenPoemFile.readline()[:-1] - assigns omitted whitespace line\n",
    "# goldenPoemLine = goldenPoemFile.readline().strip()  # both [:-1] or .strip() remove whitespace\n",
    "\n",
    "while goldenPoemLine:                                 # While loop conditional is [True] if 'string' has any value 'string'\n",
    "    \n",
    "    print(goldenPoemLine)                             # first goldenPoemLine is printed\n",
    "                                                      # use - goldenPoemLine[:-1] to omit [\\n] character\n",
    "    goldenPoemLine = goldenPoemFile.readline()[:-1]   # goldenPoemFile.readline()[:-1] - assigns omitted whitespace line\n",
    "# goldenPoemLine = goldenPoemFile.readline().strip()  # both [:-1] or .strip() remove whitespace\n",
    "\n",
    "#While loop conditional is [False] if 'string' is empty ''"
   ]
  },
  {
   "cell_type": "markdown",
   "metadata": {},
   "source": [
    "# print variable.strip()"
   ]
  },
  {
   "cell_type": "code",
   "execution_count": 12,
   "metadata": {},
   "outputs": [
    {
     "name": "stdout",
     "output_type": "stream",
     "text": [
      "All that is gold does not glitter\n",
      "Not all those who wander are lost;\n",
      "The old that is strong does not wither,\n",
      "Deep roots are not reached by the frost.\n",
      "From the ashes, a fire shall be woken,\n",
      "A light from the shadows shall spring;\n",
      "Renewed shall be blade that was broken,\n",
      "The crownless again shall be king\n"
     ]
    }
   ],
   "source": [
    "goldenPoemFile = open('gold.txt')\n",
    "\n",
    "goldenPoemLine = goldenPoemFile.readline()\n",
    "\n",
    "while goldenPoemLine:                               # While loop conditional is [True] if 'string' has any value 'string'\n",
    "    \n",
    "    # print(poemLine.strip())                       # both [:-1] or .strip() remove whitespace\n",
    "    print(goldenPoemLine[:-1])                      # first goldenPoemLine is printed\n",
    "                                                    # use - goldenPoemLine[:-1] to omit [\\n] character\n",
    "    goldenPoemLine = goldenPoemFile.readline()      # goldenPoemFile.readline() reads in next line to variable - goldenPoemLine\n",
    "    \n",
    "#While loop conditional is [False] if 'string' is empty ''"
   ]
  },
  {
   "cell_type": "markdown",
   "metadata": {},
   "source": [
    "# reassign `line.strip()` to list[index] of lines\n",
    "- ## to omit the \\n"
   ]
  },
  {
   "cell_type": "code",
   "execution_count": 19,
   "metadata": {},
   "outputs": [],
   "source": [
    "goldenPoemFile = open('gold.txt','r')"
   ]
  },
  {
   "cell_type": "code",
   "execution_count": 20,
   "metadata": {},
   "outputs": [
    {
     "name": "stdout",
     "output_type": "stream",
     "text": [
      "All that is gold does not glitter\n",
      "Not all those who wander are lost;\n",
      "The old that is strong does not wither,\n",
      "Deep roots are not reached by the frost.\n",
      "From the ashes, a fire shall be woken,\n",
      "A light from the shadows shall spring;\n",
      "Renewed shall be blade that was broken,\n",
      "The crownless again shall be king\n"
     ]
    }
   ],
   "source": [
    "goldenPoemFileContent = goldenPoemFile.readlines()\n",
    "\n",
    "index = 0\n",
    "\n",
    "for line in goldenPoemFileContent:\n",
    "    \n",
    "    goldenPoemFileContent[index] = line[:-1]               # line[:-1]\n",
    "    \n",
    "    print(goldenPoemFileContent[index])"
   ]
  },
  {
   "cell_type": "code",
   "execution_count": 22,
   "metadata": {},
   "outputs": [],
   "source": [
    "goldenPoemFile = open('gold.txt','r')"
   ]
  },
  {
   "cell_type": "code",
   "execution_count": 23,
   "metadata": {},
   "outputs": [
    {
     "name": "stdout",
     "output_type": "stream",
     "text": [
      "All that is gold does not glitter\n",
      "Not all those who wander are lost;\n",
      "The old that is strong does not wither,\n",
      "Deep roots are not reached by the frost.\n",
      "From the ashes, a fire shall be woken,\n",
      "A light from the shadows shall spring;\n",
      "Renewed shall be blade that was broken,\n",
      "The crownless again shall be king.\n"
     ]
    }
   ],
   "source": [
    "goldenPoemFileContent = goldenPoemFile.readlines()\n",
    "\n",
    "index = 0\n",
    "\n",
    "for line in goldenPoemFileContent:\n",
    "    \n",
    "    goldenPoemFileContent[index] = line.strip()               # line.strip()\n",
    "    \n",
    "    print(goldenPoemFileContent[index])"
   ]
  },
  {
   "cell_type": "code",
   "execution_count": 24,
   "metadata": {},
   "outputs": [],
   "source": [
    "poemFileHandle.close()"
   ]
  },
  {
   "cell_type": "markdown",
   "metadata": {},
   "source": [
    "# string methods can be used on text pulled from file\n",
    "### `variable` string `fileHandle.read()` content\n",
    "or <br/>\n",
    "### `fileHandle.read()` directly"
   ]
  },
  {
   "cell_type": "code",
   "execution_count": null,
   "metadata": {},
   "outputs": [],
   "source": [
    "piDigitsFile = open('digits_of_pi.txt','r')\n",
    "\n",
    "\n",
    "piPart = piDigitsFile.read(15)        # objectFile = open('document.txt.','r')\n",
    "                                      # objectFileContent = objectFile.read()\n",
    "print(piPart.isalpha())               # string methods can be used on variable (objectFileContent) or objectFile.read() \n",
    "print(piDigitsFile.read(15).isalpha())\n",
    "\n"
   ]
  },
  {
   "cell_type": "markdown",
   "metadata": {},
   "source": [
    "# 'string' `slicing` (subsetting)\n",
    "- ### can be used on 'string' content read from `file handle`"
   ]
  },
  {
   "cell_type": "code",
   "execution_count": null,
   "metadata": {},
   "outputs": [],
   "source": [
    "piDigitsFile = open('digits_of_pi.txt','r')\n",
    "\n",
    "piPart = piDigitsFile.read(15)              # objectFile = open('document.txt.','r')\n",
    "\n",
    "print(piPart[0:1])                          # string methods can be used on variable (objectFileContent) or objectFile.read()"
   ]
  },
  {
   "cell_type": "code",
   "execution_count": null,
   "metadata": {
    "scrolled": true
   },
   "outputs": [],
   "source": [
    "piDigitsFile = open('digits_of_pi.txt','r')\n",
    "\n",
    "print(piDigitsFile.read(15)[1:-1])               # string methods can be used on variable (objectFileContent) or objectFile.read()"
   ]
  },
  {
   "cell_type": "markdown",
   "metadata": {},
   "source": [
    "# remove the last character of each list item, which is \"\\n\"\n",
    "- ### with `line[:-1]`"
   ]
  },
  {
   "cell_type": "code",
   "execution_count": null,
   "metadata": {},
   "outputs": [],
   "source": [
    "poemFileHandle = open('gold.txt')\n",
    "\n",
    "poemFileContents = poemFileHandle.readlines()\n",
    "\n",
    "print(poemFileContents)"
   ]
  },
  {
   "cell_type": "code",
   "execution_count": null,
   "metadata": {},
   "outputs": [],
   "source": [
    "for line in poemFileContents:\n",
    "    print(line)"
   ]
  },
  {
   "cell_type": "code",
   "execution_count": null,
   "metadata": {},
   "outputs": [],
   "source": [
    "counter = 0\n",
    "\n",
    "for line in poemFileContents:\n",
    "    poemFileContents[counter] = line[:-1]   # access current list element, assign current element 'string' up to/not including\n",
    "                                           # the \\n which is the last character or -1\n",
    "    counter+=1\n",
    "    \n",
    "print(poemFileContents)"
   ]
  },
  {
   "cell_type": "code",
   "execution_count": null,
   "metadata": {
    "scrolled": true
   },
   "outputs": [],
   "source": [
    "for line in poemFileContents:\n",
    "    print(line)"
   ]
  },
  {
   "cell_type": "markdown",
   "metadata": {},
   "source": [
    "# remove the last character of each list item, which is \"\\n\"\n",
    "- ### with `.strip()`"
   ]
  },
  {
   "cell_type": "code",
   "execution_count": null,
   "metadata": {},
   "outputs": [],
   "source": [
    "poemFileHandle = open('gold.txt')\n",
    "\n",
    "poemFileContents = poemFileHandle.readlines()\n",
    "\n",
    "for line in poemFileContents:\n",
    "    print(line.strip())"
   ]
  },
  {
   "cell_type": "markdown",
   "metadata": {},
   "source": [
    "# remove the last character of each list item, which is \"\\n\"\n",
    "- ### with `print(line,end='')`"
   ]
  },
  {
   "cell_type": "code",
   "execution_count": null,
   "metadata": {},
   "outputs": [],
   "source": [
    "poemFileHandle = open('gold.txt')\n",
    "\n",
    "poemFileContents = poemFileHandle.readlines()\n",
    "\n",
    "for line in poemFileContents:\n",
    "    print(line,end='')"
   ]
  },
  {
   "cell_type": "markdown",
   "metadata": {},
   "source": [
    "# `iterating` through `file` using `'string' methods`"
   ]
  },
  {
   "cell_type": "code",
   "execution_count": null,
   "metadata": {},
   "outputs": [],
   "source": [
    "# [ ] import cities.txt\n",
    "\n",
    "!curl https://raw.githubusercontent.com/MicrosoftLearning/intropython/master/cities -o cities.txt"
   ]
  },
  {
   "cell_type": "code",
   "execution_count": null,
   "metadata": {},
   "outputs": [],
   "source": [
    "# [ ] compelete the task\n",
    "\n",
    "citiesPoemFile = open('cities.txt','r')\n",
    "\n",
    "citiesPoemFileContents = citiesPoemFile.read()\n",
    "\n",
    "print(citiesPoemFileContents)"
   ]
  },
  {
   "cell_type": "code",
   "execution_count": null,
   "metadata": {},
   "outputs": [],
   "source": [
    "initials = ''\n",
    "for currentCharacter in citiesPoemFileContents:\n",
    "    if currentCharacter.isupper():\n",
    "        initials += currentCharacter\n",
    "    elif currentCharacter == '\\n':\n",
    "        initials += currentCharacter\n",
    "        \n",
    "print(initials)"
   ]
  },
  {
   "cell_type": "markdown",
   "metadata": {},
   "source": [
    "## the `.read() function` should only be used to `store the file as a 'string'`\n",
    "\n",
    "- ### if the file can fit comfortably in memory\n",
    "\n",
    "## if the `file is too large`\n",
    "\n",
    "- ### `For loops` or `While loops` should be used to iterate and read() in parts"
   ]
  },
  {
   "cell_type": "markdown",
   "metadata": {},
   "source": [
    "## Searching files\n",
    "### 'string' search methods\n",
    "\n",
    "Searching the file by .read() ing the file and using 'string' methods\n",
    "\n",
    "- iterate through a file & only process lines that meet a condition\n",
    "\n",
    "Read a file & use 'string' methods to build simple search mechanisms"
   ]
  },
  {
   "cell_type": "code",
   "execution_count": null,
   "metadata": {},
   "outputs": [],
   "source": [
    "#For loop - search - if iterator.startswith('')"
   ]
  },
  {
   "cell_type": "code",
   "execution_count": null,
   "metadata": {},
   "outputs": [],
   "source": [
    "# Print out lines that begin with prefix: 'From:'\n",
    "\n",
    "textFile = open('mbox-short.txt','r')\n",
    "\n",
    "for line in textFile:\n",
    "    \n",
    "    if line.startswith('From:'):\n",
    "        print(line)                   # without line.strip() [\\n] character included in print()\n",
    "\n",
    "textFile.close()"
   ]
  },
  {
   "cell_type": "markdown",
   "metadata": {},
   "source": [
    "# `'string'.strip()`\n",
    "\n",
    "## `'string'.strip()` will strip 'whitespace' from `both sides` of 'string'\n",
    "\n",
    "## `'string'.rstrip()` will strip 'whitespace' from the `right side` of 'string'\n",
    "## `'string'.lstrip()` will strip 'whitespace' from the `left side` of 'string'\n",
    "\n",
    "## without 'string'.strip() [\\n] character included in print()\n",
    "- ### from reading lines with [\\n] in from file using `fileHandle.read()`"
   ]
  },
  {
   "cell_type": "markdown",
   "metadata": {},
   "source": [
    "### print(line.strip())"
   ]
  },
  {
   "cell_type": "code",
   "execution_count": null,
   "metadata": {},
   "outputs": [],
   "source": [
    "# Print out lines that begin with prefix: 'From:'\n",
    "\n",
    "textFile = open('mbox-short.txt','r')\n",
    "\n",
    "for line in textFile:\n",
    "                                   # line = line.rstrip() will strip 'whitespace' from the  - right side of 'string'\n",
    "    if line.startswith('From:'):   # print(line[:-1]) will print each line and omit - [\\n] - the last character of the line\n",
    "        print(line.strip())        \n",
    "                                   # without line.strip() [\\n] character included in print()\n",
    "textFile.close()"
   ]
  },
  {
   "cell_type": "markdown",
   "metadata": {},
   "source": [
    "### print(line[:-1])"
   ]
  },
  {
   "cell_type": "code",
   "execution_count": 25,
   "metadata": {},
   "outputs": [
    {
     "name": "stdout",
     "output_type": "stream",
     "text": [
      "From: stephen.marquard@uct.ac.za\n",
      "From: stephen.marquard@uct.ac.za\n",
      "From: louis@media.berkeley.edu\n",
      "From: louis@media.berkeley.edu\n",
      "From: zqian@umich.edu\n",
      "From: zqian@umich.edu\n",
      "From: rjlowe@iupui.edu\n",
      "From: rjlowe@iupui.edu\n",
      "From: zqian@umich.edu\n",
      "From: zqian@umich.edu\n",
      "From: rjlowe@iupui.edu\n",
      "From: rjlowe@iupui.edu\n",
      "From: cwen@iupui.edu\n",
      "From: cwen@iupui.edu\n",
      "From: cwen@iupui.edu\n",
      "From: cwen@iupui.edu\n",
      "From: gsilver@umich.edu\n",
      "From: gsilver@umich.edu\n",
      "From: gsilver@umich.edu\n",
      "From: gsilver@umich.edu\n",
      "From: zqian@umich.edu\n",
      "From: zqian@umich.edu\n",
      "From: gsilver@umich.edu\n",
      "From: gsilver@umich.edu\n",
      "From: wagnermr@iupui.edu\n",
      "From: wagnermr@iupui.edu\n",
      "From: zqian@umich.edu\n",
      "From: zqian@umich.edu\n",
      "From: antranig@caret.cam.ac.uk\n",
      "From: antranig@caret.cam.ac.uk\n",
      "From: gopal.ramasammycook@gmail.com\n",
      "From: gopal.ramasammycook@gmail.com\n",
      "From: david.horwitz@uct.ac.za\n",
      "From: david.horwitz@uct.ac.za\n",
      "From: david.horwitz@uct.ac.za\n",
      "From: david.horwitz@uct.ac.za\n",
      "From: david.horwitz@uct.ac.za\n",
      "From: david.horwitz@uct.ac.za\n",
      "From: david.horwitz@uct.ac.za\n",
      "From: david.horwitz@uct.ac.za\n",
      "From: stephen.marquard@uct.ac.za\n",
      "From: stephen.marquard@uct.ac.za\n",
      "From: louis@media.berkeley.edu\n",
      "From: louis@media.berkeley.edu\n",
      "From: louis@media.berkeley.edu\n",
      "From: louis@media.berkeley.edu\n",
      "From: ray@media.berkeley.edu\n",
      "From: ray@media.berkeley.edu\n",
      "From: cwen@iupui.edu\n",
      "From: cwen@iupui.edu\n",
      "From: cwen@iupui.edu\n",
      "From: cwen@iupui.edu\n",
      "From: cwen@iupui.edu\n",
      "From: cwen@iupui.edu\n"
     ]
    }
   ],
   "source": [
    "# Print out lines that begin with prefix: 'From:'\n",
    "\n",
    "textFile = open('mbox-short.txt','r')\n",
    "\n",
    "for line in textFile:\n",
    "                                   # line = line.rstrip() will strip 'whitespace' from the  - right side of 'string'\n",
    "    if line.startswith('From:'):   # print(line.strip()) will print each line and omit - [\\n] - the last character of the line\n",
    "        print(line.strip())\n",
    "        print(line[:-1])\n",
    "                                   # without line.strip() [\\n] character included in print()\n",
    "textFile.close()"
   ]
  },
  {
   "cell_type": "markdown",
   "metadata": {},
   "source": [
    "# 'string'`.strip(ARGUMENT)`\n",
    "- ## `arguments` are also removed\n",
    "- ## arguments are passed as a `'string' of characters desired to be removed`"
   ]
  },
  {
   "cell_type": "code",
   "execution_count": 31,
   "metadata": {},
   "outputs": [
    {
     "name": "stdout",
     "output_type": "stream",
     "text": [
      "All that is gold does not glitter\n",
      "Not all those who wander are lost\n",
      "The old that is strong does not wither\n",
      "Deep roots are not reached by the frost\n",
      "From the ashes, a fire shall be woken\n",
      "A light from the shadows shall spring\n",
      "Renewed shall be blade that was broken\n",
      "The crownless again shall be king\n"
     ]
    }
   ],
   "source": [
    "# remove punctiation from gold.txt\n",
    "\n",
    "textFile = open('gold.txt','r')\n",
    "\n",
    "for line in textFile:\n",
    "\n",
    "    print(line.strip('.;,\\n'))"
   ]
  },
  {
   "cell_type": "markdown",
   "metadata": {},
   "source": [
    "## Searching files\n",
    "### 'string' search methods\n",
    "\n",
    "### For loop - continue - avoid lines\n",
    "\n",
    "- the intention of searching is to compute or process data from intended lines\n",
    "and omit uneeded lines\n",
    "- using - continue - allows the Loop to skip uneeded lines"
   ]
  },
  {
   "cell_type": "code",
   "execution_count": null,
   "metadata": {},
   "outputs": [],
   "source": [
    "#For loop - search - if not iterator.startswith('') - continue"
   ]
  },
  {
   "cell_type": "code",
   "execution_count": null,
   "metadata": {},
   "outputs": [],
   "source": [
    "# Print out lines that begin with prefix: 'From:'\n",
    "\n",
    "textFile = open('mbox-short.txt','r')\n",
    "\n",
    "for line in textFile:\n",
    "    \n",
    "    if not line.startswith('From:'):        # skip the unneeded lines\n",
    "        continue\n",
    "        \n",
    "    print(line.strip())               # process intended lines\n",
    "    \n",
    "textFile.close()"
   ]
  },
  {
   "cell_type": "markdown",
   "metadata": {},
   "source": [
    "## Searching files\n",
    "### Use .find() method to search for 'string'\n",
    "- simulating a text editor search\n",
    "- find 'string' anywhere in lines"
   ]
  },
  {
   "cell_type": "code",
   "execution_count": null,
   "metadata": {},
   "outputs": [],
   "source": [
    "#For loop - search - if iterator.startswith('') == '-1' - continue"
   ]
  },
  {
   "cell_type": "code",
   "execution_count": null,
   "metadata": {},
   "outputs": [],
   "source": [
    "textFile = open('mbox-short.txt','r')\n",
    "\n",
    "for line in textFile:\n",
    "    \n",
    "    if line.find('@uct.ac.za') == -1: continue    # contracted - If statement  \n",
    "                                                  # skip the unneeded lines\n",
    "    print(line.strip())                           # process intended lines\n",
    "    \n",
    "textFile.close()"
   ]
  },
  {
   "cell_type": "markdown",
   "metadata": {},
   "source": [
    "### User input - file name"
   ]
  },
  {
   "cell_type": "code",
   "execution_count": null,
   "metadata": {},
   "outputs": [],
   "source": [
    "# User input - read file name\n",
    "\n",
    "fileName = input('Enter filename: ')\n",
    "\n",
    "textFile = open(fileName,'r')\n",
    "\n",
    "count = 0\n",
    "\n",
    "for line in textFile:\n",
    "    count += 1\n",
    "\n",
    "print(count)\n",
    "\n",
    "textFile.close()"
   ]
  },
  {
   "cell_type": "code",
   "execution_count": null,
   "metadata": {},
   "outputs": [],
   "source": [
    "# add .txt to file name input\n",
    "\n",
    "fileName = input('Enter filename: ')\n",
    "\n",
    "fileName +='.txt'                        # add '.txt' - to end of file - to allow user to only enter .txt file name\n",
    "textFile = open(fileName,'r')\n",
    "\n",
    "count = 0\n",
    "\n",
    "for line in textFile:                    # reads line - processes - discards line\n",
    "    \n",
    "    if line.startswith('Subject:'):\n",
    "        count+=1\n",
    "        \n",
    "print(count,'subject lines in',textFile) # prints file handle - file was not read using .read()\n",
    "      \n",
    "textFile.close()"
   ]
  },
  {
   "cell_type": "markdown",
   "metadata": {},
   "source": [
    "## try, except, and open\n",
    "### Use try, except, exit()\n",
    "- to avoid wrong file, file name does not exist, or not proper permission to access file"
   ]
  },
  {
   "cell_type": "code",
   "execution_count": null,
   "metadata": {},
   "outputs": [],
   "source": [
    "# exit() will terminate program\n",
    "# 'Pythonic' way to use .open() function\n",
    "# -using try and except to catch an error opening a program"
   ]
  },
  {
   "cell_type": "code",
   "execution_count": null,
   "metadata": {},
   "outputs": [],
   "source": [
    "fileName = input('Enter filename: ')\n",
    "\n",
    "try:                                            # try to open file\n",
    "    textFile = open(fileName,'r')\n",
    "    count = 0\n",
    "\n",
    "except:                                         # handle - display error message & exit\n",
    "    print('File cannot be opened:',fileName)\n",
    "    exit()\n",
    "\n",
    "\n",
    "for line in textFile:\n",
    "    \n",
    "    if line.startswith('Subject:'):\n",
    "        count +=1\n",
    "    \n",
    "print(count,'lines begin with \\'Subject:\\' in',textFile)\n",
    "\n",
    "\n",
    "textFile.close()"
   ]
  },
  {
   "cell_type": "code",
   "execution_count": null,
   "metadata": {},
   "outputs": [],
   "source": [
    "fileName = input('Enter filename: ')\n",
    "\n",
    "try:                                            # try to open file\n",
    "    textFile = open(fileName,'r')\n",
    "    count = 0\n",
    "\n",
    "    for line in textFile:\n",
    "\n",
    "        if line.startswith('Subject:'):\n",
    "            count +=1\n",
    "\n",
    "    print(count,'lines begin with \\'Subject:\\' in',textFile)\n",
    "    \n",
    "    textFile.close()\n",
    "    \n",
    "except:                                         # handle - display error message & exit\n",
    "    print('File cannot be opened:',fileName)\n",
    "    exit()\n",
    "\n",
    "\n",
    "\n",
    "\n"
   ]
  },
  {
   "cell_type": "markdown",
   "metadata": {},
   "source": [
    "# Writing files\n",
    "\n",
    "# write ONLY mode `'w'`\n",
    "# write plus read mode `'w+'`\n",
    "\n",
    "### 'w' as an argument in the open('text.txt',`'w'`)\n",
    "\n",
    "### `'w'` & `'w+'` modes will create a new file or overwrite existing files  \n",
    "**All previous data will be lost**"
   ]
  },
  {
   "cell_type": "markdown",
   "metadata": {},
   "source": [
    "## write ONLY mode `'w'`"
   ]
  },
  {
   "cell_type": "code",
   "execution_count": 92,
   "metadata": {},
   "outputs": [
    {
     "name": "stdout",
     "output_type": "stream",
     "text": [
      "<_io.TextIOWrapper name='newWrite.txt' mode='w' encoding='cp1252'>\n"
     ]
    }
   ],
   "source": [
    "newWriteFile = open('newWrite.txt','w')\n",
    "\n",
    "print(newWriteFile)"
   ]
  },
  {
   "cell_type": "markdown",
   "metadata": {},
   "source": [
    "# `.write()`\n",
    "## takes a 'string' argument to be written in the file"
   ]
  },
  {
   "cell_type": "code",
   "execution_count": 96,
   "metadata": {},
   "outputs": [
    {
     "data": {
      "text/plain": [
       "23"
      ]
     },
     "execution_count": 96,
     "metadata": {},
     "output_type": "execute_result"
    }
   ],
   "source": [
    "# 'w' is write only - no read - erases and replaces or creates new file\n",
    "\n",
    "# write 'w' returns the number of characters written\n",
    "\n",
    "line1 = 'This is the first line\\n'\n",
    "\n",
    "newWriteFile.write(line1)"
   ]
  },
  {
   "cell_type": "code",
   "execution_count": 97,
   "metadata": {},
   "outputs": [],
   "source": [
    "# if .write is called again - new data is added to the end\n",
    "# the file seek() pointer ends where the written 'string' does\n",
    "# [\\n] character must be inserted to end line - and allow for a new line to begin\n",
    "# - upon next .write()"
   ]
  },
  {
   "cell_type": "code",
   "execution_count": 98,
   "metadata": {},
   "outputs": [],
   "source": [
    "# .close() the file - to write the data to the disk\n",
    "\n",
    "newWriteFile.close()"
   ]
  },
  {
   "cell_type": "code",
   "execution_count": 99,
   "metadata": {},
   "outputs": [
    {
     "name": "stdout",
     "output_type": "stream",
     "text": [
      "This is the first line\n",
      "\n"
     ]
    }
   ],
   "source": [
    "writenFile = open('newWrite.txt','r')\n",
    "\n",
    "print(writenFile.read())"
   ]
  },
  {
   "cell_type": "code",
   "execution_count": 89,
   "metadata": {},
   "outputs": [],
   "source": [
    "# .close() the file - to write the data to the disk\n",
    "\n",
    "writenFile.close()"
   ]
  },
  {
   "cell_type": "markdown",
   "metadata": {},
   "source": [
    "## write plus read mode `'w+'`\n",
    "\n",
    "### after content is written to the file\n",
    "### the `pointer` will be at the end of the file"
   ]
  },
  {
   "cell_type": "code",
   "execution_count": 90,
   "metadata": {},
   "outputs": [
    {
     "data": {
      "text/plain": [
       "27"
      ]
     },
     "execution_count": 90,
     "metadata": {},
     "output_type": "execute_result"
    }
   ],
   "source": [
    "writeFileOver = open('newWrite.txt','w+')\n",
    "\n",
    "\n",
    "line1 = 'This is the rewritten line\\n'\n",
    "\n",
    "writeFileOver.write(line1)\n"
   ]
  },
  {
   "cell_type": "markdown",
   "metadata": {},
   "source": [
    "# `.seek(index)`\n",
    "# `argument` is the character `index` to begin at\n",
    "### must be used to send the `pointer` back to the beggining of the file"
   ]
  },
  {
   "cell_type": "code",
   "execution_count": 91,
   "metadata": {},
   "outputs": [
    {
     "name": "stdout",
     "output_type": "stream",
     "text": [
      "This is the rewritten line\n",
      "\n"
     ]
    }
   ],
   "source": [
    "writeFileOver.seek(0)\n",
    "\n",
    "print(writeFileOver.read())\n",
    "\n",
    "writeFileOver.close()"
   ]
  },
  {
   "cell_type": "markdown",
   "metadata": {},
   "source": [
    "# using .seek() to set the read/write pointer in a file   \n",
    "# `offset values`\n",
    "# `whence arguments`\n",
    "\n",
    "#### offset can only be an integer other than 0 if whence is 0\n",
    "#### offset must be a positive integer in Python 3, so we cannot offset backwards from the end of the file  \n",
    "\n",
    "## `file.seek(offset, whence)`\n",
    "| whence mode | description               |  \n",
    "|:-----------:|---------------------------|\n",
    "| 0 | points to the beginning of the file |   \n",
    "| 1 | points to the current location |  \n",
    "| 2 | points to the end of the file & offset is always 0|  \n",
    "\n",
    "using ** *whence* ** the index can be offset from either the beginning, current location or to the end of the file (where there is no offset applied)  "
   ]
  },
  {
   "cell_type": "markdown",
   "metadata": {},
   "source": [
    "# (seek  INTEGER, whence 0)\n",
    "## sets the `pointer` to the beggining of the file\n",
    "## integer as the first argument will offset\n",
    "- or read beggining at that character in sequence"
   ]
  },
  {
   "cell_type": "code",
   "execution_count": 142,
   "metadata": {},
   "outputs": [
    {
     "name": "stdout",
     "output_type": "stream",
     "text": [
      "Not all those who wander are lost;\n",
      "The old that is strong does not wither,\n",
      "Deep roots are not reached by the frost.\n",
      "From the ashes, a fire shall be woken,\n",
      "A light from the shadows shall spring;\n",
      "Renewed shall be blade that was broken,\n",
      "The crownless again shall be king.\n"
     ]
    }
   ],
   "source": [
    "poemFileHandle = open('gold.txt')\n",
    "\n",
    "poemFileHandle.seek(35,0)\n",
    "\n",
    "print(poemFileHandle.read())"
   ]
  },
  {
   "cell_type": "markdown",
   "metadata": {},
   "source": [
    "# (seek 0 , whence 1)\n",
    "sets the `pointer` to the current location of the pointer"
   ]
  },
  {
   "cell_type": "code",
   "execution_count": 153,
   "metadata": {},
   "outputs": [
    {
     "name": "stdout",
     "output_type": "stream",
     "text": [
      "Deep roots are not reached by the frost.\n",
      "From the ashes, a fire shall be woken,\n",
      "A light from the shadows shall spring;\n",
      "Renewed shall be blade that was broken,\n",
      "The crownless again shall be king.\n"
     ]
    }
   ],
   "source": [
    "poemFileHandle = open('gold.txt')\n",
    "\n",
    "poemFileHandle.readline()\n",
    "poemFileHandle.readline()\n",
    "poemFileHandle.readline()\n",
    "\n",
    "poemFileHandle.seek(0,1)\n",
    "\n",
    "print(poemFileHandle.read())"
   ]
  },
  {
   "cell_type": "markdown",
   "metadata": {},
   "source": [
    "# (seek 0 , whence 2)\n",
    "sets the `pointer` to the end of the file"
   ]
  },
  {
   "cell_type": "code",
   "execution_count": 151,
   "metadata": {},
   "outputs": [
    {
     "name": "stdout",
     "output_type": "stream",
     "text": [
      "\n"
     ]
    }
   ],
   "source": [
    "poemFileHandle = open('gold.txt')\n",
    "\n",
    "poemFileHandle.readline()\n",
    "poemFileHandle.readline()\n",
    "poemFileHandle.readline()\n",
    "\n",
    "poemFileHandle.seek(0,2)\n",
    "\n",
    "print(poemFileHandle.read())"
   ]
  },
  {
   "cell_type": "markdown",
   "metadata": {},
   "source": [
    "# File Handle open modes"
   ]
  },
  {
   "cell_type": "markdown",
   "metadata": {},
   "source": [
    "# `'r'`     - (read only mode)- read\n",
    "\n",
    "# `'w'`     - (OVERWRITES)    - write\n",
    "\n",
    "# `'w+'`    - (OVERWRITES)    - write + read\n",
    "\n",
    "# `'r+'`     - (NO OVERWRITE)  - read + write\n",
    "\n",
    "# `'a'`     - (NO OVERWRITE)  - append to end of file\n",
    "\n",
    "# `'a+'`    - (NO OVERWRITE)  - append to end of file + read"
   ]
  },
  {
   "cell_type": "code",
   "execution_count": 157,
   "metadata": {},
   "outputs": [],
   "source": [
    "newFile = open('newFile.txt','a+')"
   ]
  },
  {
   "cell_type": "code",
   "execution_count": 158,
   "metadata": {},
   "outputs": [],
   "source": [
    "# [ ] review and run example - function writes to the open log argument\n",
    "# loads funtion into memory but the funtion is not called\n",
    "\n",
    "def entryAdd(inputFile):\n",
    "    \n",
    "    logEntry = input('Enter text to add to file: ')\n",
    "\n",
    "    count = 0\n",
    "    \n",
    "    while logEntry:                                    # logEntry holds 'string' - while loop is true - '' [enter] exits - False\n",
    "        count+=1                                       #increment count of logs added\n",
    "        inputFile.write(str(count)+':'+logEntry+'\\n')\n",
    "        \n",
    "        logEntry = input('Enter text to add to file: ')\n",
    "\n",
    "    return count"
   ]
  },
  {
   "cell_type": "code",
   "execution_count": 159,
   "metadata": {},
   "outputs": [
    {
     "name": "stdout",
     "output_type": "stream",
     "text": [
      "Enter text to add to file: alex\n",
      "Enter text to add to file: stephen\n",
      "Enter text to add to file: de la paz\n",
      "Enter text to add to file: \n",
      "\n",
      "1:alex\n",
      "2:stephen\n",
      "3:de la paz\n",
      "\n"
     ]
    }
   ],
   "source": [
    "# [ ] review and run example - calls the above logger() function\n",
    "# what happens running the cell above (a+) again before running this cell again? \n",
    "# what happens if log_file.seek(0) is run before an append?\n",
    "\n",
    "entryAdd(newFile)\n",
    "\n",
    "newFile.seek(0)\n",
    "newFileContent = newFile.read()\n",
    "\n",
    "print()\n",
    "print(newFileContent)\n",
    "\n",
    "newFile.close()"
   ]
  },
  {
   "cell_type": "markdown",
   "metadata": {},
   "source": [
    "# r+"
   ]
  },
  {
   "cell_type": "code",
   "execution_count": 183,
   "metadata": {},
   "outputs": [
    {
     "name": "stdout",
     "output_type": "stream",
     "text": [
      "Count is: 0\n"
     ]
    }
   ],
   "source": [
    "# [ ] review and run example - create a file with initial count of 0\n",
    "count_file = open(\"count_file.txt\", \"w+\")\n",
    "\n",
    "count_file.write(\"Count is: 0\")\n",
    "count_file.seek(0)\n",
    "print(count_file.readline().strip())\n",
    "\n",
    "count_file.close()"
   ]
  },
  {
   "cell_type": "code",
   "execution_count": 184,
   "metadata": {},
   "outputs": [
    {
     "name": "stdout",
     "output_type": "stream",
     "text": [
      "BEFORE\n",
      "Count: 1\n",
      "\n",
      "AFTER\n",
      "Count: 2\n"
     ]
    }
   ],
   "source": [
    "countFile = open('countFile.txt','r+')\n",
    "countFileContent = countFile.read()\n",
    "\n",
    "print('BEFORE\\n'+countFileContent)\n",
    "\n",
    "count = str(int(countFileContent[7:]) + 1)\n",
    "\n",
    "countFile.seek(7,0)\n",
    "countFile.write(count)\n",
    "\n",
    "print()\n",
    "\n",
    "countFile.seek(0)\n",
    "countFileContent = countFile.read()\n",
    "print('AFTER\\n'+countFileContent)\n",
    "\n",
    "countFile.close()"
   ]
  },
  {
   "cell_type": "code",
   "execution_count": 185,
   "metadata": {},
   "outputs": [],
   "source": [
    "# [ ]  review funtion code for inc_count() funtion that reads file and updates the count\n",
    "# the file always has 1 line that is Count is: N, where N is an integer\n",
    "def inc_count(cnt_file):\n",
    "    cnt_file.seek(0,0)\n",
    "    cnt_line =  cnt_file.readline().strip()\n",
    "    cnt = int(cnt_line[10:])+1\n",
    "    cnt_file.seek(10,0)\n",
    "    cnt_file.write(str(cnt))\n",
    "    return cnt"
   ]
  },
  {
   "cell_type": "code",
   "execution_count": 186,
   "metadata": {},
   "outputs": [
    {
     "name": "stdout",
     "output_type": "stream",
     "text": [
      "BEFORE\n",
      "Count is: 0\n",
      "\n",
      "AFTER inc_count() call 1 \n",
      "Count is: 1\n",
      "\n",
      "AFTER inc_count() call 2 \n",
      "Count is: 2\n",
      "\n",
      "AFTER inc_count() call 3 \n",
      "Count is: 3\n",
      "\n",
      "AFTER inc_count() call 4 \n",
      "Count is: 4\n",
      "\n",
      "AFTER inc_count() call 5 \n",
      "Count is: 5\n"
     ]
    }
   ],
   "source": [
    "# [ ] review and run example with call to function: inc_count() - **Run cell multiple times**\n",
    "# opens file/prints initial value\n",
    "count_file = open(\"count_file.txt\", \"r+\")\n",
    "\n",
    "count_file.seek(0)\n",
    "count_line = count_file.readline().strip()\n",
    "print(\"BEFORE\\n\" + count_line)\n",
    "\n",
    "# call inc_count() to increase the count 5 times\n",
    "for i in range(5):\n",
    "    count = inc_count(count_file)\n",
    "    count_file.seek(0)\n",
    "    print(\"\\nAFTER inc_count() call\", i+1, \"\\n\" + count_file.readline().strip())\n",
    "\n",
    "count_file.close()"
   ]
  },
  {
   "cell_type": "code",
   "execution_count": 187,
   "metadata": {},
   "outputs": [
    {
     "name": "stdout",
     "output_type": "stream",
     "text": [
      "Line1\n",
      "Line2\n",
      "Line3\n",
      "append#0\n",
      "append#1\n",
      "append#2\n",
      "append#3\n",
      "append#4\n",
      "\n"
     ]
    }
   ],
   "source": [
    "# [ ] complete the task\n",
    "# Provided Code creates and populates task4_file.txt\n",
    "task4_file = open('task4_file.txt', 'w+')\n",
    "task4_file.write(\"Line1\\nLine2\\nLine3\\n\")\n",
    "task4_file.close()\n",
    "# [ ] code here\n",
    "\n",
    "\n",
    "task4_file = open('task4_file.txt','a+')\n",
    "\n",
    "for item in range(5):\n",
    "    task4_file.write('append#' + str(item) + '\\n')\n",
    "\n",
    "\n",
    "task4_file.seek(0)                                         # .write() - will still only write to end of file - append\n",
    "                                                           # regardless of where task4_file.seek(0)  is set\n",
    "task4_fileContents = task4_file.read()                     # such as task4_file.seek(2) \n",
    "print(task4_fileContents)\n"
   ]
  },
  {
   "cell_type": "markdown",
   "metadata": {},
   "source": [
    "# (seek 0 , whence 2)\n",
    "sets the `pointer` to the end of the file"
   ]
  },
  {
   "cell_type": "markdown",
   "metadata": {},
   "source": [
    "## Debugging 'string' whitespace\n",
    "### repr()\n",
    "- returns a 'string' representation of the object"
   ]
  },
  {
   "cell_type": "code",
   "execution_count": null,
   "metadata": {},
   "outputs": [],
   "source": [
    "# repr()\n",
    "\n",
    "stringExample = ' 1 \\t 2\\n3'             # space ' ' before [\\t] is ommited - in print()\n",
    "                                         # space ' ' after [\\t] is included - in print()\n",
    "print(stringExample)\n",
    "\n",
    "print()\n",
    "\n",
    "print(repr(stringExample))              # space ' '  before & after [\\t] included in repr()"
   ]
  },
  {
   "cell_type": "markdown",
   "metadata": {},
   "source": [
    "#### Excercises"
   ]
  },
  {
   "cell_type": "code",
   "execution_count": null,
   "metadata": {},
   "outputs": [],
   "source": [
    "#Excercise 1\n",
    "\n",
    "fileName = input('Enter file name:')\n",
    "\n",
    "try:\n",
    "    textFile = open(fileName,'r')\n",
    "\n",
    "except:\n",
    "    print('File not found for:',fileName)\n",
    "\n",
    "\n",
    "for line in textFile:\n",
    "    print(line.strip().upper())\n",
    "    \n",
    "\n",
    "textFile.close()"
   ]
  },
  {
   "cell_type": "code",
   "execution_count": null,
   "metadata": {},
   "outputs": [],
   "source": [
    "# Excercise 2\n",
    "\n",
    "fileName = input('Enter file name: ')\n",
    "\n",
    "try:\n",
    "    textFile = open(fileName,'r')\n",
    "    \n",
    "except:\n",
    "    print('File not found:',fileName)\n",
    "    \n",
    "    \n",
    "count = 0    \n",
    "totalSpam = 0\n",
    "\n",
    "for line in textFile:\n",
    "    if not line.startswith('X-DSPAM-Confidence:'):\n",
    "        continue\n",
    "        \n",
    "    colonLine = line.find(':')\n",
    "    \n",
    "    count += 1\n",
    "    totalSpam += float(line[colonLine+1:])\n",
    "    averageSpam = totalSpam/count\n",
    "    \n",
    "print('Average spam confidence:',averageSpam)\n",
    "\n",
    "textFile.close()"
   ]
  },
  {
   "cell_type": "code",
   "execution_count": null,
   "metadata": {},
   "outputs": [],
   "source": [
    "# Excercise 3 - easter egg added to excercise 2\n",
    "\n",
    "fileName = input('Enter file name: ')\n",
    "\n",
    "if fileName == 'na na boo boo':\n",
    "    print('na na boo boo to you too!')\n",
    "\n",
    "\n",
    "else:\n",
    "    try:\n",
    "        textFile = open(fileName,'r')\n",
    "\n",
    "    except:\n",
    "        print('File not found:',fileName)\n",
    "\n",
    "\n",
    "    for line in textFile:\n",
    "        if not line.startswith('X-DSPAM-Confidence:'):\n",
    "            continue\n",
    "\n",
    "        colonLine = line.find(':')\n",
    "\n",
    "        count += 1\n",
    "        totalSpam += float(line[colonLine+1:])\n",
    "        averageSpam = totalSpam/count\n",
    "\n",
    "    print('Average spam confidence:',averageSpam)\n",
    "\n",
    "    textFile.close()"
   ]
  },
  {
   "cell_type": "markdown",
   "metadata": {},
   "source": [
    "# reading lines, splitting lines into lists, reading specific index from list"
   ]
  },
  {
   "cell_type": "code",
   "execution_count": 1,
   "metadata": {},
   "outputs": [
    {
     "name": "stderr",
     "output_type": "stream",
     "text": [
      "  % Total    % Received % Xferd  Average Speed   Time    Time     Time  Current\n",
      "                                 Dload  Upload   Total   Spent    Left  Speed\n",
      "\n",
      "  0     0    0     0    0     0      0      0 --:--:-- --:--:-- --:--:--     0\n",
      "100   222  100   222    0     0    834      0 --:--:-- --:--:-- --:--:--   834\n"
     ]
    }
   ],
   "source": [
    "# [ ] The Weather: import world_mean_team.csv as mean_temp.txt\n",
    "\n",
    "!curl https://raw.githubusercontent.com/MicrosoftLearning/intropython/master/world_temp_mean.csv -o mean_temp.txt"
   ]
  },
  {
   "cell_type": "code",
   "execution_count": 11,
   "metadata": {},
   "outputs": [
    {
     "name": "stdout",
     "output_type": "stream",
     "text": [
      "city,country,month ave: highest high,month ave: lowest low\n",
      "\n",
      "Beijing,China,30.9,-8.4\n",
      "\n",
      "Cairo,Egypt,34.7,1.2\n",
      "\n",
      "London,UK,23.5,2.1\n",
      "\n",
      "Nairobi,Kenya,26.3,10.5\n",
      "\n",
      "New York City,USA,28.9,-2.8\n",
      "\n",
      "Sydney,Australia,26.5,8.7\n",
      "\n",
      "Tokyo,Japan,30.8,0.9\n",
      "\n"
     ]
    }
   ],
   "source": [
    "cityFile = open('mean_temp.txt','r')\n",
    "\n",
    "data = cityFile\n",
    "\n",
    "for line in data:\n",
    "    print(line)"
   ]
  },
  {
   "cell_type": "code",
   "execution_count": 12,
   "metadata": {},
   "outputs": [
    {
     "name": "stdout",
     "output_type": "stream",
     "text": [
      "city,country,month ave: highest high,month ave: lowest low\n",
      "\n",
      "['city', 'country', 'month ave: highest high', 'month ave: lowest low\\n']\n"
     ]
    }
   ],
   "source": [
    "# [ ] The Weather: open file, read/print first line, convert line to list (splitting on comma)\n",
    "\n",
    "cityFile = open('mean_temp.txt','r')\n",
    "\n",
    "headings = cityFile.readline()\n",
    "\n",
    "print(headings)\n",
    "\n",
    "headings = headings.split(',')\n",
    "\n",
    "print(headings)"
   ]
  },
  {
   "cell_type": "code",
   "execution_count": 13,
   "metadata": {},
   "outputs": [
    {
     "name": "stdout",
     "output_type": "stream",
     "text": [
      "month ave: highest high for Beijing is 30.9 Celcius.\n",
      "month ave: highest high for Cairo is 34.7 Celcius.\n",
      "month ave: highest high for London is 23.5 Celcius.\n",
      "month ave: highest high for Nairobi is 26.3 Celcius.\n",
      "month ave: highest high for New York City is 28.9 Celcius.\n",
      "month ave: highest high for Sydney is 26.5 Celcius.\n",
      "month ave: highest high for Tokyo is 30.8 Celcius.\n"
     ]
    }
   ],
   "source": [
    "#print headings - print() function with list[index] or - for loop\n",
    "\n",
    "#print(headings[0]) # city\n",
    "#print(headings[2]) # high month\n",
    "\n",
    "\n",
    "# [ ] The Weather: use while loop to print city and highest monthly average temp in celsius\n",
    "\n",
    "\n",
    "city_temp_line = cityFile.readline()\n",
    "\n",
    "while city_temp_line:\n",
    "        \n",
    "    city_temp_line_list = city_temp_line.split(',')      \n",
    "    \n",
    "    print(headings[2] +' for ' + city_temp_line_list[0] + ' is ' + city_temp_line_list[2] + ' Celcius.')\n",
    "    \n",
    "    city_temp_line = cityFile.readline()\n"
   ]
  },
  {
   "cell_type": "code",
   "execution_count": 14,
   "metadata": {},
   "outputs": [],
   "source": [
    "cityFile.close()"
   ]
  }
 ],
 "metadata": {
  "kernelspec": {
   "display_name": "Python 3",
   "language": "python",
   "name": "python3"
  },
  "language_info": {
   "codemirror_mode": {
    "name": "ipython",
    "version": 3
   },
   "file_extension": ".py",
   "mimetype": "text/x-python",
   "name": "python",
   "nbconvert_exporter": "python",
   "pygments_lexer": "ipython3",
   "version": "3.7.1"
  }
 },
 "nbformat": 4,
 "nbformat_minor": 2
}
