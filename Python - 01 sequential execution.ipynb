{
 "cells": [
  {
   "cell_type": "markdown",
   "metadata": {},
   "source": [
    "# `Python`\n",
    "## sequential execution\n",
    " <img src=\"pythonLogo.png\" height=\"20%\" width=\"20%\"/>"
   ]
  },
  {
   "cell_type": "markdown",
   "metadata": {},
   "source": [
    "## Sequential execution (Flow of execution)\n",
    "\n",
    "- `begins` at `first statement` of program (script)\n",
    "\n",
    "- statements are `executed one at a time`\n",
    "\n",
    "- `in order`, from `top to bottom`"
   ]
  },
  {
   "cell_type": "markdown",
   "metadata": {},
   "source": [
    "## Four conceptual patterns of programming\n",
    "\n",
    "### sequential execution \n",
    " - statements are executed in sequence\n",
    " - one after another as they are encountered\n",
    " \n",
    "### conditional execution\n",
    " - flow of control using conditional logic\n",
    " - based on conditions\n",
    " - execute or skip instructions\n",
    " \n",
    "### reusable - functions\n",
    "- give a name to reusable compound statement (code block)\n",
    "- invoke that set of statements as many times as needed with name of function\n",
    "\n",
    "### repeated execution\n",
    " - perform compound statement (code block) multiple times\n",
    " - updating variables with each iteration\n",
    " \n",
    "<br/>"
   ]
  },
  {
   "cell_type": "markdown",
   "metadata": {},
   "source": [
    "## Four debugging methods\n",
    "\n",
    "### reading\n",
    " - read the code for errors line by line\n",
    " - building the understanding of the sequence of statements\n",
    " \n",
    "### running\n",
    " - run program, make changes, & run again\n",
    " - as statements are edited; the problem may present itself\n",
    " \n",
    "### rumminating\n",
    " - think about the syntax of the statements\n",
    " - the input & output to the program\n",
    " - error messages\n",
    " - what kind of problem:\n",
    "   - syntax\n",
    "   - runtime\n",
    "   - semantic\n",
    " \n",
    "### retreating\n",
    "- revert to a place before changes introduced problems\n",
    "- take a break\n",
    "- begin where the program is easy to understand & move foward\n",
    "\n",
    "<br/>"
   ]
  }
 ],
 "metadata": {
  "kernelspec": {
   "display_name": "Python 3",
   "language": "python",
   "name": "python3"
  },
  "language_info": {
   "codemirror_mode": {
    "name": "ipython",
    "version": 3
   },
   "file_extension": ".py",
   "mimetype": "text/x-python",
   "name": "python",
   "nbconvert_exporter": "python",
   "pygments_lexer": "ipython3",
   "version": "3.7.3"
  }
 },
 "nbformat": 4,
 "nbformat_minor": 2
}
