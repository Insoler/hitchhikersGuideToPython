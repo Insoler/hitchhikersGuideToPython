{
 "cells": [
  {
   "cell_type": "markdown",
   "metadata": {},
   "source": [
    "# `Python`\n",
    "## Object Oriented Programming\n",
    " \n",
    " <img src=\"pythonLogo.png\" height=\"20%\" width=\"20%\"/>"
   ]
  },
  {
   "cell_type": "markdown",
   "metadata": {},
   "source": [
    "# `Object-oriented` programming\n",
    "a `programming paradigm` used to define\n",
    "## custom `data types`\n",
    "#### with custom `variables` and `methods`"
   ]
  },
  {
   "cell_type": "markdown",
   "metadata": {},
   "source": [
    "# `Class` (Object template)\n",
    "\n",
    "### a `custom data structure`\n",
    "\n",
    "- that organizes and encapsulates\n",
    "\n",
    "### `variables` and `methods`\n",
    "\n",
    "- into a `single data type`\n",
    "\n",
    "created as an abstraction of real world\n",
    "- people\n",
    "- places\n",
    "- things\n"
   ]
  },
  {
   "cell_type": "markdown",
   "metadata": {},
   "source": [
    "# `Instance` (Object literal)\n",
    "\n",
    "#### `values` that populate:\n",
    "\n",
    "### `Class` (Object template)\n",
    "\n",
    "- custom `data structure`\n",
    "\n",
    "- `variables` and `methods`"
   ]
  },
  {
   "cell_type": "markdown",
   "metadata": {},
   "source": [
    "#### the term `object` is used to refer to:\n",
    "-  the general paradigm of object-oriented programming (class implementation\n",
    "-  actual data structures (instance literals"
   ]
  },
  {
   "cell_type": "markdown",
   "metadata": {},
   "source": [
    "# `instances` of `class`es\n",
    "\n",
    "#### can be used as collection values\n",
    "- list, tuple, dict ...\n",
    "\n",
    "#### if class instance has a collection data structure variable\n",
    "- that collection variable can be iterated through\n",
    "\n",
    "#### can be values passed as `arguments` to other class `parameters`"
   ]
  },
  {
   "cell_type": "markdown",
   "metadata": {},
   "source": [
    "# defining a `class`\n",
    "\n",
    "# `class` `className`:\n",
    "\n",
    "### `pass`\n",
    "used to substitute for any variables or methods in this blank class"
   ]
  },
  {
   "cell_type": "code",
   "execution_count": 1,
   "metadata": {},
   "outputs": [],
   "source": [
    "# can use pass keyword to leave example class blank"
   ]
  },
  {
   "cell_type": "code",
   "execution_count": 2,
   "metadata": {},
   "outputs": [],
   "source": [
    "class satellite:\n",
    "    \n",
    "    pass"
   ]
  },
  {
   "cell_type": "markdown",
   "metadata": {},
   "source": [
    "# instantiate an `instance` of `object`\n",
    "\n",
    "# `instanceName` = `className`()"
   ]
  },
  {
   "cell_type": "code",
   "execution_count": 3,
   "metadata": {},
   "outputs": [],
   "source": [
    "eo42 = satellite()"
   ]
  },
  {
   "cell_type": "markdown",
   "metadata": {},
   "source": [
    "# prints location"
   ]
  },
  {
   "cell_type": "code",
   "execution_count": 4,
   "metadata": {},
   "outputs": [
    {
     "name": "stdout",
     "output_type": "stream",
     "text": [
      "<__main__.satellite object at 0x0000019E5D6394E0>\n"
     ]
    }
   ],
   "source": [
    "print(eo42)"
   ]
  },
  {
   "cell_type": "markdown",
   "metadata": {},
   "source": [
    "# manually create `instance variables`\n",
    "# `instanceName`.`instanceVariable` = `value`"
   ]
  },
  {
   "cell_type": "code",
   "execution_count": 5,
   "metadata": {},
   "outputs": [],
   "source": [
    "eo42.typeSat = 'Earth Observation'\n",
    "eo42.sensors = ['radar','lidar']"
   ]
  },
  {
   "cell_type": "code",
   "execution_count": 6,
   "metadata": {
    "scrolled": true
   },
   "outputs": [
    {
     "name": "stdout",
     "output_type": "stream",
     "text": [
      "Earth Observation\n",
      "['radar', 'lidar']\n"
     ]
    }
   ],
   "source": [
    "print(eo42.typeSat)\n",
    "print(eo42.sensors)"
   ]
  },
  {
   "cell_type": "code",
   "execution_count": 7,
   "metadata": {},
   "outputs": [],
   "source": [
    "eo100 = satellite()"
   ]
  },
  {
   "cell_type": "code",
   "execution_count": 8,
   "metadata": {},
   "outputs": [],
   "source": [
    "eo100.typeSat = 'Communications'\n",
    "eo100.transmitters = 'Radio'\n",
    "eo100.frequency = 20.005"
   ]
  },
  {
   "cell_type": "code",
   "execution_count": 9,
   "metadata": {},
   "outputs": [
    {
     "name": "stdout",
     "output_type": "stream",
     "text": [
      "Communications\n",
      "Radio\n",
      "20.005\n"
     ]
    }
   ],
   "source": [
    "print(eo100.typeSat)\n",
    "print(eo100.transmitters)\n",
    "print(eo100.frequency)"
   ]
  },
  {
   "cell_type": "markdown",
   "metadata": {},
   "source": [
    "# class `method`\n",
    "### a `function` inside of a class\n",
    "\n",
    "every method in class should have (self) as first parameter\n",
    "\n",
    "### `self` defines variables for `instance` as a whole\n",
    "\n",
    "- no parameter needs to be passed for self parameter\n",
    "\n",
    "- causes variables to `persist` outside of `__init__` method\n",
    "\n",
    "- parameter allows for `persistence` of variables while the `class` or `instance` exists\n",
    "\n",
    "- instance `variables` & `methods` can access `self.variables`"
   ]
  },
  {
   "cell_type": "markdown",
   "metadata": {},
   "source": [
    "# define `initializer`\n",
    "### `self.`variables\n",
    "\n"
   ]
  },
  {
   "cell_type": "markdown",
   "metadata": {},
   "source": [
    "## `def __init__(self):`\n",
    "- ### same as `constructor` in other object oriented language paradigms\n",
    "- ### called when `instance` of `class` is instantiated"
   ]
  },
  {
   "cell_type": "code",
   "execution_count": 10,
   "metadata": {},
   "outputs": [],
   "source": [
    "class computer:\n",
    "    \n",
    "    def __init__(self):\n",
    "        self.cpu = 'i7'\n",
    "        self.graphicsCard = 'gtx 1070'\n",
    "        self.ram = [32,'GB']\n",
    "        self.storage = [500,'GB']\n",
    "        self.buildYear = 2017"
   ]
  },
  {
   "cell_type": "markdown",
   "metadata": {},
   "source": [
    "# when `class` is created\n",
    "# `__init_` method is called automatically\n",
    "- values or methods created are available"
   ]
  },
  {
   "cell_type": "code",
   "execution_count": 11,
   "metadata": {},
   "outputs": [
    {
     "name": "stdout",
     "output_type": "stream",
     "text": [
      "[32, 'GB']\n"
     ]
    }
   ],
   "source": [
    "alexComputer = computer()\n",
    "\n",
    "print(alexComputer.ram)"
   ]
  },
  {
   "cell_type": "markdown",
   "metadata": {},
   "source": [
    "# class `variables`\n",
    "\n",
    "#### defined with `self.variable`\n",
    "\n",
    "- ## instantiated as `literals` \n",
    "\n",
    "- ## `parameters` in `initializer` method\n",
    "\n",
    "    - to create `parameters` that accept `arguments`"
   ]
  },
  {
   "cell_type": "markdown",
   "metadata": {},
   "source": []
  },
  {
   "cell_type": "markdown",
   "metadata": {},
   "source": [
    "# define `initializer` \n",
    "### `parameters`\n",
    "### `default value` parameters\n",
    "### `self`.variables\n",
    "\n",
    "## `def __init__(self,parameter,parameter...):`\n",
    "- ### same as `constructor` in other object oriented language paradigms"
   ]
  },
  {
   "cell_type": "markdown",
   "metadata": {},
   "source": [
    "# `positional parameters`"
   ]
  },
  {
   "cell_type": "code",
   "execution_count": 1,
   "metadata": {},
   "outputs": [],
   "source": [
    "class satellite:\n",
    "    \n",
    "    def __init__(self,typeSat,transmitters,frequency):    # set default for some variables\n",
    "        self.typeSat = typeSat\n",
    "        self.transmitters = transmitters\n",
    "        self.frequency = frequency\n",
    "        self.description = 'Satellite Class: ' + typeSat + '\\nequipment read out >>>\\ntransmitters: ' + str(transmitters) +'\\nfrequency: ' + str(frequency)"
   ]
  },
  {
   "cell_type": "code",
   "execution_count": 13,
   "metadata": {},
   "outputs": [],
   "source": [
    "eo314 = satellite('Communications','Radio',25.5)"
   ]
  },
  {
   "cell_type": "code",
   "execution_count": 14,
   "metadata": {},
   "outputs": [],
   "source": [
    "eo2718 = satellite('Earth Observation','Radio',20.005)"
   ]
  },
  {
   "cell_type": "code",
   "execution_count": 15,
   "metadata": {},
   "outputs": [
    {
     "name": "stdout",
     "output_type": "stream",
     "text": [
      "eo314:\n",
      "\n",
      "Communications\n"
     ]
    }
   ],
   "source": [
    "print('eo314:\\n')\n",
    "print(eo314.typeSat)"
   ]
  },
  {
   "cell_type": "code",
   "execution_count": 16,
   "metadata": {
    "scrolled": true
   },
   "outputs": [
    {
     "name": "stdout",
     "output_type": "stream",
     "text": [
      "eo2718:\n",
      "\n",
      "Satellite Class: Earth Observation\n",
      "equipment read out >>>\n",
      "transmitters: Radio\n",
      "frequency: 20.005\n"
     ]
    }
   ],
   "source": [
    "print('eo2718:\\n')\n",
    "print(eo2718.description)"
   ]
  },
  {
   "cell_type": "code",
   "execution_count": 17,
   "metadata": {
    "scrolled": true
   },
   "outputs": [
    {
     "name": "stdout",
     "output_type": "stream",
     "text": [
      "Radio 20.005\n"
     ]
    }
   ],
   "source": [
    "# print format\n",
    "\n",
    "print('{} {}'.format(eo2718.transmitters,eo2718.frequency))"
   ]
  },
  {
   "cell_type": "markdown",
   "metadata": {},
   "source": [
    "# `keyword parameters`\n",
    "## default parameter values"
   ]
  },
  {
   "cell_type": "code",
   "execution_count": 1,
   "metadata": {},
   "outputs": [],
   "source": [
    "class satellite:\n",
    "    \n",
    "    def __init__(self,typeSat,transmitters = 'Radio',frequency = None):    # set default for some variables\n",
    "        self.typeSat = typeSat\n",
    "        self.transmitters = transmitters\n",
    "        self.frequency = frequency\n",
    "        self.description = 'Satellite Class: ' + typeSat + '\\nequipment read out >>>\\ntransmitters: ' + str(transmitters) +'\\nfrequency: ' + str(frequency)"
   ]
  },
  {
   "cell_type": "code",
   "execution_count": 25,
   "metadata": {},
   "outputs": [],
   "source": [
    "# keyword parameters have default values\n",
    "# positional argument given for - 'Communications'\n",
    "# keyword argument given for - frequency=25.5 - skipping middle parameter for transmitters"
   ]
  },
  {
   "cell_type": "markdown",
   "metadata": {},
   "source": [
    "### `keyword argument`"
   ]
  },
  {
   "cell_type": "code",
   "execution_count": 23,
   "metadata": {},
   "outputs": [],
   "source": [
    "eo314 = satellite('Communications',frequency=25.5)"
   ]
  },
  {
   "cell_type": "code",
   "execution_count": 24,
   "metadata": {
    "scrolled": true
   },
   "outputs": [
    {
     "name": "stdout",
     "output_type": "stream",
     "text": [
      "eo314:\n",
      "\n",
      "Satellite Class: Communications\n",
      "equipment read out >>>\n",
      "transmitters: Radio\n",
      "frequency: 25.5\n"
     ]
    }
   ],
   "source": [
    "print('eo314:\\n')\n",
    "print(eo314.description)"
   ]
  },
  {
   "cell_type": "markdown",
   "metadata": {},
   "source": [
    "# access `default values` for class variables"
   ]
  },
  {
   "cell_type": "code",
   "execution_count": 70,
   "metadata": {},
   "outputs": [
    {
     "name": "stdout",
     "output_type": "stream",
     "text": [
      "None\n"
     ]
    }
   ],
   "source": [
    "sar42 = satellite('synthetic aperture radar')\n",
    "print(sar42.transmitters)"
   ]
  },
  {
   "cell_type": "markdown",
   "metadata": {},
   "source": [
    "# assign `new values` to class variables"
   ]
  },
  {
   "cell_type": "code",
   "execution_count": 64,
   "metadata": {},
   "outputs": [],
   "source": [
    "sar42.transmitters = 'radio'"
   ]
  },
  {
   "cell_type": "markdown",
   "metadata": {},
   "source": [
    "# class as `value` for another class"
   ]
  },
  {
   "cell_type": "code",
   "execution_count": 94,
   "metadata": {},
   "outputs": [],
   "source": [
    "class partsList:\n",
    "    \n",
    "    def __init__(self):\n",
    "        self.power = 'Solar'\n",
    "        \n",
    "class satelliteWithClassVariable:\n",
    "    \n",
    "    def __init__(self):\n",
    "        self.parts = partsList()"
   ]
  },
  {
   "cell_type": "markdown",
   "metadata": {},
   "source": [
    "# access class instance - and variable of class instance - which is another class - access that classes variable"
   ]
  },
  {
   "cell_type": "code",
   "execution_count": 95,
   "metadata": {},
   "outputs": [
    {
     "name": "stdout",
     "output_type": "stream",
     "text": [
      "Solar\n"
     ]
    }
   ],
   "source": [
    "sar42 = satelliteWithClassVariable()\n",
    "\n",
    "print(sar42.parts.power)"
   ]
  },
  {
   "cell_type": "code",
   "execution_count": 96,
   "metadata": {},
   "outputs": [
    {
     "name": "stdout",
     "output_type": "stream",
     "text": [
      "Solar\n"
     ]
    }
   ],
   "source": [
    "eoParts = partsList()\n",
    "\n",
    "print(eoParts.power)"
   ]
  },
  {
   "cell_type": "code",
   "execution_count": 97,
   "metadata": {},
   "outputs": [
    {
     "name": "stdout",
     "output_type": "stream",
     "text": [
      "nuclear\n"
     ]
    }
   ],
   "source": [
    "sar42.parts.power = 'nuclear'\n",
    "\n",
    "print(sar42.parts.power)"
   ]
  },
  {
   "cell_type": "markdown",
   "metadata": {},
   "source": [
    "# class methods\n",
    "class with\n",
    "- __init__ constructor\n",
    "- description method\n",
    "- list creator method"
   ]
  },
  {
   "cell_type": "code",
   "execution_count": 104,
   "metadata": {},
   "outputs": [],
   "source": [
    "class satellite:\n",
    "    \n",
    "    def __init__(self,typeSat,transmitters = None,frequency = None):    # set default for some variables\n",
    "        self.typeSat = typeSat\n",
    "        self.transmitters = transmitters\n",
    "        self.frequency = frequency        \n",
    "        \n",
    "    def description(self):\n",
    "        return 'Satellite Class: ' + self.typeSat + '\\nequipment read out >>>\\ntransmitters: ' + str(self.transmitters) +'\\nfrequency: ' + str(self.frequency)\n",
    "        #return self.transmitters,self.frequency\n",
    "    \n",
    "    def createList():\n",
    "        self.satelliteParts = list()"
   ]
  },
  {
   "cell_type": "code",
   "execution_count": 105,
   "metadata": {},
   "outputs": [],
   "source": [
    "eo314 = satellite('Earth Observation','Radio',20.005)"
   ]
  },
  {
   "cell_type": "code",
   "execution_count": 106,
   "metadata": {},
   "outputs": [
    {
     "name": "stdout",
     "output_type": "stream",
     "text": [
      "<bound method satellite.description of <__main__.satellite object at 0x0000019E5D611EF0>>\n"
     ]
    }
   ],
   "source": [
    "print(eo314.description)"
   ]
  },
  {
   "cell_type": "code",
   "execution_count": 107,
   "metadata": {},
   "outputs": [
    {
     "name": "stdout",
     "output_type": "stream",
     "text": [
      "Satellite Class: Earth Observation\n",
      "equipment read out >>>\n",
      "transmitters: Radio\n",
      "frequency: 20.005\n"
     ]
    }
   ],
   "source": [
    "print(eo314.description())"
   ]
  },
  {
   "cell_type": "code",
   "execution_count": 108,
   "metadata": {},
   "outputs": [],
   "source": [
    "# other ways to pass arguments"
   ]
  },
  {
   "cell_type": "code",
   "execution_count": 109,
   "metadata": {},
   "outputs": [
    {
     "data": {
      "text/plain": [
       "'Satellite Class: Earth Observation\\nequipment read out >>>\\ntransmitters: Radio\\nfrequency: 20.005'"
      ]
     },
     "execution_count": 109,
     "metadata": {},
     "output_type": "execute_result"
    }
   ],
   "source": [
    "satellite.description(eo314)"
   ]
  },
  {
   "cell_type": "code",
   "execution_count": 110,
   "metadata": {
    "scrolled": true
   },
   "outputs": [
    {
     "data": {
      "text/plain": [
       "'Satellite Class: Earth Observation\\nequipment read out >>>\\ntransmitters: Radio\\nfrequency: 20.005'"
      ]
     },
     "execution_count": 110,
     "metadata": {},
     "output_type": "execute_result"
    }
   ],
   "source": [
    "eo314.description()"
   ]
  },
  {
   "cell_type": "code",
   "execution_count": 111,
   "metadata": {},
   "outputs": [
    {
     "data": {
      "text/plain": [
       "<bound method satellite.createList of <__main__.satellite object at 0x0000019E5D611EF0>>"
      ]
     },
     "execution_count": 111,
     "metadata": {},
     "output_type": "execute_result"
    }
   ],
   "source": [
    "eo314.createList"
   ]
  },
  {
   "cell_type": "code",
   "execution_count": 112,
   "metadata": {},
   "outputs": [
    {
     "name": "stdout",
     "output_type": "stream",
     "text": [
      "[1, 2, [3], 4]\n"
     ]
    }
   ],
   "source": [
    "eo314.partsList = [1,2,[3],4]\n",
    "print(eo314.partsList)"
   ]
  },
  {
   "cell_type": "markdown",
   "metadata": {},
   "source": [
    "# `objects` and `dict`s are similar"
   ]
  },
  {
   "cell_type": "code",
   "execution_count": 87,
   "metadata": {},
   "outputs": [],
   "source": [
    "class BookClass():\n",
    "    def __init__(self):\n",
    "        self.title = 'default no title'\n",
    "        self.author = 'default no author'"
   ]
  },
  {
   "cell_type": "code",
   "execution_count": 88,
   "metadata": {},
   "outputs": [
    {
     "name": "stdout",
     "output_type": "stream",
     "text": [
      "default no title\n",
      "default no author\n"
     ]
    }
   ],
   "source": [
    "bookInstance = BookClass()\n",
    "\n",
    "print(bookInstance.title)\n",
    "print(bookInstance.author)"
   ]
  },
  {
   "cell_type": "code",
   "execution_count": 89,
   "metadata": {},
   "outputs": [],
   "source": [
    "# bookDict = {'title':'default no title','author':'default no author'}\n",
    "# or \n",
    "bookDict = dict()\n",
    "\n",
    "bookDict['title'] = 'default no title'\n",
    "bookDict['author'] = 'default no author'"
   ]
  },
  {
   "cell_type": "code",
   "execution_count": 90,
   "metadata": {},
   "outputs": [
    {
     "name": "stdout",
     "output_type": "stream",
     "text": [
      "default no title\n",
      "default no author\n"
     ]
    }
   ],
   "source": [
    "print(bookDict['title'])\n",
    "print(bookDict['author'])"
   ]
  },
  {
   "cell_type": "code",
   "execution_count": 91,
   "metadata": {},
   "outputs": [],
   "source": [
    "# accessed by indices\n",
    "\n",
    "# strings are lists of characters\n",
    "# collections are lists of types of data"
   ]
  },
  {
   "cell_type": "code",
   "execution_count": null,
   "metadata": {},
   "outputs": [],
   "source": [
    "# accessed by keys (does not have to be numeric indices)\n",
    "# dict"
   ]
  },
  {
   "cell_type": "code",
   "execution_count": null,
   "metadata": {},
   "outputs": [],
   "source": [
    "# objects accessed by variable names (similar to keys)\n",
    "\n",
    "# classes can have methods - can access and manipulate data\n",
    "# dict can not - only store data"
   ]
  },
  {
   "cell_type": "markdown",
   "metadata": {},
   "source": [
    "# `Encapsulation`\n",
    "encorporating\n",
    "## `variables`\n",
    "#### &\n",
    "## `methods`\n",
    "into a custom data structure or object `class`\n",
    "\n",
    "The ability to combine variables and methods into class definitions in object-oriented programming. It helps avoid modification or misuse of data by other functions or programs\n",
    "\n",
    "organizing variables and methods\n",
    "into encapsulated data structures"
   ]
  },
  {
   "cell_type": "markdown",
   "metadata": {},
   "source": [
    "# scope - `variables`\n",
    "access to variables defined in a class by instances of that class"
   ]
  },
  {
   "cell_type": "markdown",
   "metadata": {},
   "source": [
    "# object methods"
   ]
  },
  {
   "cell_type": "markdown",
   "metadata": {},
   "source": [
    "method is a function defined inside of a class\n",
    "\n",
    "#### common methods:\n",
    "    \n",
    "### `constructors`\n",
    "### `destructors`\n",
    "### `getters`\n",
    "### `setters`"
   ]
  },
  {
   "cell_type": "markdown",
   "metadata": {},
   "source": [
    "In practice, the four common method types we'll discuss below -- constructors, destructors, getters, and setters -- are more important to other languages than to Python. Constructors are present, but you'll rarely use destructors in Python, and getters and setters are antithetical to \"Pythonic\" thinking. However, they still have some usefulness and you'll encounter them in other classes, so it's good to know about them."
   ]
  },
  {
   "cell_type": "markdown",
   "metadata": {},
   "source": [
    "# `constructors`\n",
    "\n",
    "code that will run every time a new instance of a class is created (\"set up\" method)\n",
    "\n",
    "- `__init__` default values\n",
    "\n",
    "- can take `arguments` for parameters to initialize variables with values\n",
    "\n",
    "# `destructors`\n",
    "\n",
    "method that deletes the instance of a class\n",
    "- when memory management required (release memory back to cpu)"
   ]
  },
  {
   "cell_type": "markdown",
   "metadata": {},
   "source": [
    "# `getter`\n",
    "\n",
    "class method\n",
    "\n",
    "- returns variable values from object instances\n",
    "- allow other processing to occur whenever the variable is accessed, like logging\n",
    "\n",
    "# `setter`\n",
    "\n",
    "class method\n",
    "\n",
    "- assigns value to a variable of an object instance\n",
    "- allow other processing to occur whenever the variable is accessed, like logging."
   ]
  },
  {
   "cell_type": "markdown",
   "metadata": {},
   "source": [
    "# python vs other oop languages\n",
    "\n",
    "## privacy for variable members of a class\n",
    " getters & setters can ensure a class structure\n",
    "\n",
    " that keeps instances variables from being directly accessed once instantiated\n",
    " \n",
    "### `__doubleUnderscore__`\n",
    "variables & methods that are not intended to be accessed directly\n",
    " \n",
    "## accessing variables directly\n",
    "ok in python because pythonic thinking is supposed to make access to data easier\n",
    "\n",
    "Note that in Python, you actually relatively rarely use getters and setters. While these are required or strongly encouraged in some languages (like Java), they actually are often discouraged in Python in keeping with the \"Pythonic\" approach of keeping easy access to variables and data. Unless you are actually going to use one of the advantages associated with getters and setters, it may be best to skip using them."
   ]
  },
  {
   "cell_type": "markdown",
   "metadata": {},
   "source": [
    "## other languages declare class variables outside of any methods within the class\n",
    "\n",
    "## unlike other programming languages\n",
    "\n",
    "if a variable is declared outside an __init__ method in python\n",
    "\n",
    "the variable will be the same for all instances of the class"
   ]
  },
  {
   "cell_type": "code",
   "execution_count": null,
   "metadata": {},
   "outputs": [],
   "source": [
    "# python does not provide privacy options for\n",
    "# variables and methods\n",
    "\n",
    "# other code can access variables directly\n",
    "\n",
    "# double underscore __ informs the code that a particular function is not supposed to be accessed\n",
    "# (can be accessed, but shouldn't be)\n"
   ]
  },
  {
   "cell_type": "markdown",
   "metadata": {},
   "source": [
    "# `log method` for getters and setters"
   ]
  },
  {
   "cell_type": "code",
   "execution_count": 29,
   "metadata": {},
   "outputs": [],
   "source": [
    "class blankClass():\n",
    "    \n",
    "    def log(self,message):\n",
    "        myLog = open('Log.txt','a')\n",
    "        print(message, file = myLog)\n",
    "        myLog.close()"
   ]
  },
  {
   "cell_type": "code",
   "execution_count": null,
   "metadata": {},
   "outputs": [],
   "source": [
    "# print a string to file\n",
    "# file handle - myLog\n",
    "\n",
    "print(message, file = myLog)"
   ]
  },
  {
   "cell_type": "markdown",
   "metadata": {},
   "source": [
    "# `getter`\n",
    "\n",
    "class method"
   ]
  },
  {
   "cell_type": "markdown",
   "metadata": {},
   "source": [
    "# `setter`\n",
    "\n",
    "class method"
   ]
  },
  {
   "cell_type": "code",
   "execution_count": 70,
   "metadata": {},
   "outputs": [],
   "source": [
    "class anchorageWinds:\n",
    "    \n",
    "    def __init__(self,name,windSpeed=0.0):\n",
    "        self.name = name\n",
    "        self.windSpeed = windSpeed\n",
    "        \n",
    "    def get_windSpeed(self):\n",
    "        self.log('Windspeed CHECKED at ' + str(self.windSpeed))\n",
    "        return self.windSpeed\n",
    "    \n",
    "    def set_windSpeed(self,new_windSpeed):\n",
    "        self.log('Windspeed CHANGED to ' + str(self.windSpeed))\n",
    "        self.windSpeed = new_windSpeed\n",
    "    \n",
    "    def log(self,message):\n",
    "        myLog = open('anchorageWindsLog.txt','a')\n",
    "        print(message, file = myLog)\n",
    "        myLog.close()"
   ]
  },
  {
   "cell_type": "code",
   "execution_count": 71,
   "metadata": {},
   "outputs": [],
   "source": [
    "bayridge = anchorageWinds('Bayridge',15.00)"
   ]
  },
  {
   "cell_type": "code",
   "execution_count": 72,
   "metadata": {},
   "outputs": [
    {
     "data": {
      "text/plain": [
       "15.0"
      ]
     },
     "execution_count": 72,
     "metadata": {},
     "output_type": "execute_result"
    }
   ],
   "source": [
    "bayridge.get_windSpeed()"
   ]
  },
  {
   "cell_type": "code",
   "execution_count": 73,
   "metadata": {},
   "outputs": [],
   "source": [
    "bayridge.set_windSpeed(25.0)"
   ]
  },
  {
   "cell_type": "code",
   "execution_count": 74,
   "metadata": {},
   "outputs": [
    {
     "data": {
      "text/plain": [
       "25.0"
      ]
     },
     "execution_count": 74,
     "metadata": {},
     "output_type": "execute_result"
    }
   ],
   "source": [
    "bayridge.get_windSpeed()"
   ]
  },
  {
   "cell_type": "code",
   "execution_count": 75,
   "metadata": {},
   "outputs": [
    {
     "data": {
      "text/plain": [
       "25.0"
      ]
     },
     "execution_count": 75,
     "metadata": {},
     "output_type": "execute_result"
    }
   ],
   "source": [
    "bayridge.get_windSpeed()"
   ]
  },
  {
   "cell_type": "markdown",
   "metadata": {},
   "source": [
    "# `setter`\n",
    "\n",
    "class method\n",
    "\n",
    "# `+=`\n",
    "or\n",
    "# `-+`"
   ]
  },
  {
   "cell_type": "code",
   "execution_count": 9,
   "metadata": {},
   "outputs": [],
   "source": [
    "class anchorageVessels:\n",
    "    \n",
    "    def __init__(self,name,vesselCount=0):\n",
    "        self.name = name\n",
    "        self.vesselCount = vesselCount\n",
    "        \n",
    "    def get_vesselCount(self):\n",
    "        self.log('Vessel count CHECKED at ' + str(self.vesselCount))\n",
    "        return self.vesselCount\n",
    "    \n",
    "    def checkIn(self,new_vesselCount):\n",
    "        self.vesselCount += new_vesselCount\n",
    "        self.log(str(new_vesselCount) + ' Vessel(s) added, Vessel count CHANGED to ' + str(self.vesselCount))\n",
    "        # log after to use updated balance\n",
    "        \n",
    "    def checkOut(self,new_vesselCount):\n",
    "        self.vesselCount -= new_vesselCount\n",
    "        self.log(str(new_vesselCount) + ' Vessel(s) subtracted, Vessel count CHANGED to ' + str(self.vesselCount))\n",
    "        # log after to use updated balance\n",
    "        \n",
    "    def log(self,message):\n",
    "        myLog = open('anchorageVesselsLog.txt','a')\n",
    "        print(message, file = myLog)\n",
    "        myLog.close()"
   ]
  },
  {
   "cell_type": "code",
   "execution_count": 10,
   "metadata": {},
   "outputs": [],
   "source": [
    "bayridge = anchorageVessels('Bayride')"
   ]
  },
  {
   "cell_type": "code",
   "execution_count": 11,
   "metadata": {},
   "outputs": [
    {
     "data": {
      "text/plain": [
       "0"
      ]
     },
     "execution_count": 11,
     "metadata": {},
     "output_type": "execute_result"
    }
   ],
   "source": [
    "bayridge.get_vesselCount()"
   ]
  },
  {
   "cell_type": "code",
   "execution_count": 12,
   "metadata": {},
   "outputs": [],
   "source": [
    "bayridge.checkIn(2)"
   ]
  },
  {
   "cell_type": "code",
   "execution_count": 13,
   "metadata": {},
   "outputs": [
    {
     "data": {
      "text/plain": [
       "2"
      ]
     },
     "execution_count": 13,
     "metadata": {},
     "output_type": "execute_result"
    }
   ],
   "source": [
    "bayridge.get_vesselCount()"
   ]
  },
  {
   "cell_type": "code",
   "execution_count": 14,
   "metadata": {},
   "outputs": [],
   "source": [
    "bayridge.checkOut(1)"
   ]
  },
  {
   "cell_type": "code",
   "execution_count": 15,
   "metadata": {},
   "outputs": [
    {
     "data": {
      "text/plain": [
       "1"
      ]
     },
     "execution_count": 15,
     "metadata": {},
     "output_type": "execute_result"
    }
   ],
   "source": [
    "bayridge.get_vesselCount()"
   ]
  }
 ],
 "metadata": {
  "kernelspec": {
   "display_name": "Python 3",
   "language": "python",
   "name": "python3"
  },
  "language_info": {
   "codemirror_mode": {
    "name": "ipython",
    "version": 3
   },
   "file_extension": ".py",
   "mimetype": "text/x-python",
   "name": "python",
   "nbconvert_exporter": "python",
   "pygments_lexer": "ipython3",
   "version": "3.7.1"
  }
 },
 "nbformat": 4,
 "nbformat_minor": 2
}
