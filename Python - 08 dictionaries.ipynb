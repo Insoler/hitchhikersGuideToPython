{
 "cells": [
  {
   "cell_type": "markdown",
   "metadata": {},
   "source": [
    "# `Python`\n",
    "## Dictionaries\n",
    " \n",
    " <img src=\"pythonLogo.png\" height=\"20%\" width=\"20%\"/>"
   ]
  },
  {
   "cell_type": "markdown",
   "metadata": {},
   "source": [
    "- sequence of `values (types)`\n",
    "- a dictionary is a `sequence of values` called `key-value pairs`"
   ]
  },
  {
   "cell_type": "markdown",
   "metadata": {},
   "source": [
    "- like a list(), but more generalized\n",
    "- lists()'s index positions are integers"
   ]
  },
  {
   "cell_type": "markdown",
   "metadata": {},
   "source": [
    "# dict()\n",
    "- dictionary's indices can be (almost) any type"
   ]
  },
  {
   "cell_type": "markdown",
   "metadata": {},
   "source": [
    "# `key-value pairs` (items)\n",
    "\n",
    "## `key`              - set of indices\n",
    "## `value`           - to set of values"
   ]
  },
  {
   "cell_type": "markdown",
   "metadata": {},
   "source": [
    "## `dictionaries` are enclosed inside { } curly brackets"
   ]
  },
  {
   "cell_type": "code",
   "execution_count": 2,
   "metadata": {},
   "outputs": [
    {
     "data": {
      "text/plain": [
       "{}"
      ]
     },
     "execution_count": 2,
     "metadata": {},
     "output_type": "execute_result"
    }
   ],
   "source": [
    "# an empty dictionary literal\n",
    "\n",
    "{}\n"
   ]
  },
  {
   "cell_type": "code",
   "execution_count": 16,
   "metadata": {},
   "outputs": [
    {
     "data": {
      "text/plain": [
       "{}"
      ]
     },
     "execution_count": 16,
     "metadata": {},
     "output_type": "execute_result"
    }
   ],
   "source": [
    "# an empty dictionary instantiation\n",
    "\n",
    "dict()\n"
   ]
  },
  {
   "cell_type": "code",
   "execution_count": 8,
   "metadata": {},
   "outputs": [
    {
     "name": "stdout",
     "output_type": "stream",
     "text": [
      "{}\n",
      "<class 'dict'>\n"
     ]
    }
   ],
   "source": [
    "newDictLiteral = {}\n",
    "\n",
    "print(newDictLiteral)\n",
    "print(type(newDictLiteral))"
   ]
  },
  {
   "cell_type": "code",
   "execution_count": 4,
   "metadata": {},
   "outputs": [
    {
     "name": "stdout",
     "output_type": "stream",
     "text": [
      "{}\n",
      "<class 'dict'>\n"
     ]
    }
   ],
   "source": [
    "newDict = dict()\n",
    "\n",
    "print(newDict)\n",
    "print(type(newDict))"
   ]
  },
  {
   "cell_type": "markdown",
   "metadata": {},
   "source": [
    "## `key-value` pairs\n",
    "are separated by\n",
    "## : colon\n"
   ]
  },
  {
   "cell_type": "code",
   "execution_count": 10,
   "metadata": {},
   "outputs": [
    {
     "data": {
      "text/plain": [
       "{'name': 'alex'}"
      ]
     },
     "execution_count": 10,
     "metadata": {},
     "output_type": "execute_result"
    }
   ],
   "source": [
    "{'name':'alex'}"
   ]
  },
  {
   "cell_type": "markdown",
   "metadata": {},
   "source": [
    "### `key-value` pair `elements`\n",
    "are enclosed in\n",
    "## { key : value }  square brackets"
   ]
  },
  {
   "cell_type": "code",
   "execution_count": 15,
   "metadata": {},
   "outputs": [
    {
     "data": {
      "text/plain": [
       "{'name': 'alex', 'number': 42, 'motorcycleLicense': True}"
      ]
     },
     "execution_count": 15,
     "metadata": {},
     "output_type": "execute_result"
    }
   ],
   "source": [
    "{'name':'alex','number':42,'motorcycleLicense':True}\n"
   ]
  },
  {
   "cell_type": "code",
   "execution_count": 11,
   "metadata": {},
   "outputs": [],
   "source": [
    "dictionaryAlpha = {1:'alex',2:'odin','three':True}\n",
    "\n"
   ]
  },
  {
   "cell_type": "code",
   "execution_count": 14,
   "metadata": {},
   "outputs": [
    {
     "name": "stdout",
     "output_type": "stream",
     "text": [
      "{1: 'alex', 2: 'odin', 'three': True}\n"
     ]
    }
   ],
   "source": [
    "print({1:'alex',2:'odin','three':True})\n"
   ]
  },
  {
   "cell_type": "code",
   "execution_count": 13,
   "metadata": {},
   "outputs": [
    {
     "name": "stdout",
     "output_type": "stream",
     "text": [
      "{1: 'alex', 2: 'odin', 'three': True}\n"
     ]
    }
   ],
   "source": [
    "print(dictionaryAlpha)\n"
   ]
  },
  {
   "cell_type": "code",
   "execution_count": null,
   "metadata": {},
   "outputs": [],
   "source": []
  },
  {
   "cell_type": "markdown",
   "metadata": {},
   "source": [
    "## `key` - `value` pairs can be `different types`\n",
    "\n",
    "## `(objects)` & `other collections` \n",
    "\n",
    "### (lists,dictionaries,tuples,etc.)"
   ]
  }
 ],
 "metadata": {
  "kernelspec": {
   "display_name": "Python 3",
   "language": "python",
   "name": "python3"
  },
  "language_info": {
   "codemirror_mode": {
    "name": "ipython",
    "version": 3
   },
   "file_extension": ".py",
   "mimetype": "text/x-python",
   "name": "python",
   "nbconvert_exporter": "python",
   "pygments_lexer": "ipython3",
   "version": "3.7.0"
  }
 },
 "nbformat": 4,
 "nbformat_minor": 2
}
