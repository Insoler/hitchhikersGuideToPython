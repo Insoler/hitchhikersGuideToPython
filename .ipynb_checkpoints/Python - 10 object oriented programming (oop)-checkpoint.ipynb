{
 "cells": [
  {
   "cell_type": "markdown",
   "metadata": {},
   "source": [
    "# `Python`\n",
    "## Object Oriented Programming\n",
    " \n",
    " <img src=\"pythonLogo.png\" height=\"20%\" width=\"20%\"/>"
   ]
  },
  {
   "cell_type": "markdown",
   "metadata": {},
   "source": [
    "# creating a `class`\n",
    "\n",
    "# `class` `className`:\n",
    "\n",
    "###    - parameters\n",
    "###    - methods"
   ]
  },
  {
   "cell_type": "code",
   "execution_count": 6,
   "metadata": {},
   "outputs": [],
   "source": [
    "# can use pass keyword to leave example class blank"
   ]
  },
  {
   "cell_type": "code",
   "execution_count": 78,
   "metadata": {},
   "outputs": [],
   "source": [
    "class satellite:\n",
    "    \n",
    "    pass"
   ]
  },
  {
   "cell_type": "markdown",
   "metadata": {},
   "source": [
    "# instantiate an `instance` of `object`\n",
    "\n",
    "# `instanceName` = `className`()"
   ]
  },
  {
   "cell_type": "code",
   "execution_count": 79,
   "metadata": {},
   "outputs": [],
   "source": [
    "eo42 = satellite()"
   ]
  },
  {
   "cell_type": "markdown",
   "metadata": {},
   "source": [
    "# prints location"
   ]
  },
  {
   "cell_type": "code",
   "execution_count": 80,
   "metadata": {},
   "outputs": [
    {
     "name": "stdout",
     "output_type": "stream",
     "text": [
      "<__main__.satellite object at 0x000001A917C52160>\n"
     ]
    }
   ],
   "source": [
    "print(eo42)"
   ]
  },
  {
   "cell_type": "markdown",
   "metadata": {},
   "source": [
    "# manually create `instance variables`\n",
    "# `instanceName`.`instanceVariable` = `value`"
   ]
  },
  {
   "cell_type": "code",
   "execution_count": 81,
   "metadata": {},
   "outputs": [],
   "source": [
    "eo42.typeSat = 'Earth Observation'\n",
    "eo42.sensors = ['radar','lidar']"
   ]
  },
  {
   "cell_type": "code",
   "execution_count": 82,
   "metadata": {},
   "outputs": [
    {
     "name": "stdout",
     "output_type": "stream",
     "text": [
      "Earth Observation\n",
      "['radar', 'lidar']\n"
     ]
    }
   ],
   "source": [
    "print(eo42.typeSat)\n",
    "print(eo42.sensors)"
   ]
  },
  {
   "cell_type": "code",
   "execution_count": 83,
   "metadata": {},
   "outputs": [],
   "source": [
    "eo100 = satellite()"
   ]
  },
  {
   "cell_type": "code",
   "execution_count": 84,
   "metadata": {},
   "outputs": [],
   "source": [
    "eo100.typeSat = 'Communications'\n",
    "eo100.transmitters = 'Radio'\n",
    "eo100.frequency = 20.005"
   ]
  },
  {
   "cell_type": "code",
   "execution_count": 85,
   "metadata": {},
   "outputs": [
    {
     "name": "stdout",
     "output_type": "stream",
     "text": [
      "Communications\n",
      "Radio\n",
      "20.005\n"
     ]
    }
   ],
   "source": [
    "print(eo100.typeSat)\n",
    "print(eo100.transmitters)\n",
    "print(eo100.frequency)"
   ]
  },
  {
   "cell_type": "markdown",
   "metadata": {},
   "source": [
    "# create `initializer`\n",
    "# `def __init__(self,parameter,parameter...):`\n",
    "- ### same as `constructor` in other object oriented language paradigms"
   ]
  },
  {
   "cell_type": "markdown",
   "metadata": {},
   "source": [
    "# can create `class variables` as `literals` or using OTHER `class variables`"
   ]
  },
  {
   "cell_type": "code",
   "execution_count": 86,
   "metadata": {},
   "outputs": [],
   "source": [
    "# self.description = 'This is a ' + typeSat + ' satellite.\\nwith transmitters: ' + str(transmitters) +'\\nfrequency: ' + str(frequency)"
   ]
  },
  {
   "cell_type": "code",
   "execution_count": 113,
   "metadata": {},
   "outputs": [],
   "source": [
    "class satellite:\n",
    "    \n",
    "    def __init__(self,typeSat,transmitters = None,frequency = None):    # set default for some variables\n",
    "        self.typeSat = typeSat\n",
    "        self.transmitters = transmitters\n",
    "        self.frequency = frequency\n",
    "        self.description = 'This is a ' + typeSat + ' satellite\\nequipment read out>>>\\ntransmitters: ' + str(transmitters) +'\\nfrequency: ' + str(frequency)"
   ]
  },
  {
   "cell_type": "code",
   "execution_count": 114,
   "metadata": {},
   "outputs": [],
   "source": [
    "eo314 = satellite('Communications')"
   ]
  },
  {
   "cell_type": "code",
   "execution_count": 115,
   "metadata": {},
   "outputs": [
    {
     "name": "stdout",
     "output_type": "stream",
     "text": [
      "Communications\n",
      "This is a Communications satellite\n",
      "equipment read out>>>\n",
      "transmitters: None\n",
      "frequency: None\n"
     ]
    }
   ],
   "source": [
    "print(eo314.typeSat)\n",
    "print(eo314.description)"
   ]
  },
  {
   "cell_type": "code",
   "execution_count": 116,
   "metadata": {},
   "outputs": [],
   "source": [
    "eo2718 = satellite('Earth Observation','Radio',20.005)"
   ]
  },
  {
   "cell_type": "code",
   "execution_count": 117,
   "metadata": {},
   "outputs": [
    {
     "name": "stdout",
     "output_type": "stream",
     "text": [
      "This is a Earth Observation satellite\n",
      "equipment read out>>>\n",
      "transmitters: Radio\n",
      "frequency: 20.005\n"
     ]
    }
   ],
   "source": [
    "print(eo2718.description)"
   ]
  },
  {
   "cell_type": "code",
   "execution_count": 118,
   "metadata": {},
   "outputs": [
    {
     "name": "stdout",
     "output_type": "stream",
     "text": [
      "Radio 20.005\n"
     ]
    }
   ],
   "source": [
    "####\n",
    "\n",
    "print('{} {}'.format(eo2718.transmitters,eo2718.frequency))"
   ]
  },
  {
   "cell_type": "code",
   "execution_count": null,
   "metadata": {},
   "outputs": [],
   "source": []
  },
  {
   "cell_type": "code",
   "execution_count": 119,
   "metadata": {},
   "outputs": [],
   "source": [
    "class satellite:\n",
    "    \n",
    "    def __init__(self,typeSat,transmitters = None,frequency = None):    # set default for some variables\n",
    "        self.typeSat = typeSat\n",
    "        self.transmitters = transmitters\n",
    "        self.frequency = frequency        \n",
    "        \n",
    "    def description(self):\n",
    "        return self.transmitters,self.frequency\n",
    "    \n"
   ]
  },
  {
   "cell_type": "code",
   "execution_count": 121,
   "metadata": {},
   "outputs": [],
   "source": [
    "eo314 = satellite('Earth Observation','Radio',20.005)"
   ]
  },
  {
   "cell_type": "code",
   "execution_count": 126,
   "metadata": {},
   "outputs": [
    {
     "name": "stdout",
     "output_type": "stream",
     "text": [
      "<bound method satellite.description of <__main__.satellite object at 0x000001A917C5CAC8>>\n"
     ]
    }
   ],
   "source": [
    "print(eo314.description)"
   ]
  },
  {
   "cell_type": "code",
   "execution_count": 127,
   "metadata": {},
   "outputs": [
    {
     "name": "stdout",
     "output_type": "stream",
     "text": [
      "('Radio', 20.005)\n"
     ]
    }
   ],
   "source": [
    "print(eo314.description())"
   ]
  },
  {
   "cell_type": "code",
   "execution_count": 130,
   "metadata": {},
   "outputs": [
    {
     "data": {
      "text/plain": [
       "('Radio', 20.005)"
      ]
     },
     "execution_count": 130,
     "metadata": {},
     "output_type": "execute_result"
    }
   ],
   "source": [
    "satellite.description(eo314)"
   ]
  },
  {
   "cell_type": "code",
   "execution_count": 131,
   "metadata": {},
   "outputs": [
    {
     "data": {
      "text/plain": [
       "('Radio', 20.005)"
      ]
     },
     "execution_count": 131,
     "metadata": {},
     "output_type": "execute_result"
    }
   ],
   "source": [
    "eo314.description()"
   ]
  },
  {
   "cell_type": "code",
   "execution_count": null,
   "metadata": {},
   "outputs": [],
   "source": []
  }
 ],
 "metadata": {
  "kernelspec": {
   "display_name": "Python 3",
   "language": "python",
   "name": "python3"
  },
  "language_info": {
   "codemirror_mode": {
    "name": "ipython",
    "version": 3
   },
   "file_extension": ".py",
   "mimetype": "text/x-python",
   "name": "python",
   "nbconvert_exporter": "python",
   "pygments_lexer": "ipython3",
   "version": "3.7.1"
  }
 },
 "nbformat": 4,
 "nbformat_minor": 2
}
