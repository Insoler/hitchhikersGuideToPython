{
 "cells": [
  {
   "cell_type": "markdown",
   "metadata": {},
   "source": [
    "# `Python`\n",
    "## Reusable functions\n",
    " <img src=\"pythonLogo.png\" height=\"20%\" width=\"20%\"/>"
   ]
  },
  {
   "cell_type": "markdown",
   "metadata": {},
   "source": [
    "# Function\n",
    "named sequence of instructions that perform computation\n",
    "\n",
    "Functions are `called` or `invoked`"
   ]
  },
  {
   "cell_type": "markdown",
   "metadata": {},
   "source": [
    "## `function Object`\n",
    "a `value` created by a `function definition`\n",
    "\n",
    "the `name of a function` is the `variable` that refers to the `function object`"
   ]
  },
  {
   "cell_type": "markdown",
   "metadata": {},
   "source": [
    "# `function invocation`\n",
    "\"calling\" a function\n",
    "\n",
    "#### invoke by name\n",
    "- `functionName()` or `moduleObject.method()`\n",
    "\n",
    "#### pass arguments\n",
    "- takes `input(argument)`\n",
    "- can have `default parameters`\n",
    "- does not always require argument `functionName()`\n",
    "\n",
    "#### return output or execute command\n",
    "- `returns output` or `executes command`\n",
    "\n",
    "- does not always have argument for input"
   ]
  },
  {
   "cell_type": "markdown",
   "metadata": {},
   "source": [
    "## `resuable execution`\n",
    "\n",
    "`functions` are useful for serveral reasons:\n",
    "\n",
    "\n",
    "- a `named group of statements` that can be called when necessary\n",
    "\n",
    " - makes program more easily readable & able to debug\n",
    " \n",
    " \n",
    "- `function` eliminates repetitive code\n",
    "\n",
    " - if a change is necessary - it only has to be done in one place\n",
    " \n",
    " \n",
    "- `dividing` a program into functions\n",
    "\n",
    " - easier to `debug one at a time` & `reincorporate` back into program execution\n",
    " \n",
    " \n",
    "- `well-defined` functions can be used again in other programs\n",
    "\n",
    " - `writing` & `debugging` once for later use"
   ]
  },
  {
   "cell_type": "markdown",
   "metadata": {},
   "source": [
    "# `built in` functions\n",
    "#### invoked by name()"
   ]
  },
  {
   "cell_type": "markdown",
   "metadata": {},
   "source": [
    "## print() - function\n",
    "- prints values inside as 'strings'\n",
    "- each print() statement begins on a newline"
   ]
  },
  {
   "cell_type": "code",
   "execution_count": 6,
   "metadata": {},
   "outputs": [
    {
     "name": "stdout",
     "output_type": "stream",
     "text": [
      "string literal\n"
     ]
    }
   ],
   "source": [
    "print('string literal')"
   ]
  },
  {
   "cell_type": "code",
   "execution_count": 5,
   "metadata": {},
   "outputs": [
    {
     "name": "stdout",
     "output_type": "stream",
     "text": [
      "\n"
     ]
    }
   ],
   "source": [
    "# print() function - with no argument \n",
    "\n",
    "print()                               # prints [\\n] newline to display"
   ]
  },
  {
   "cell_type": "code",
   "execution_count": 22,
   "metadata": {},
   "outputs": [
    {
     "name": "stdout",
     "output_type": "stream",
     "text": [
      "To be\n",
      "or not to be\n"
     ]
    }
   ],
   "source": [
    "# each print() statement begins a new line\n",
    "\n",
    "print('To be')\n",
    "print('or not to be')"
   ]
  },
  {
   "cell_type": "code",
   "execution_count": 24,
   "metadata": {},
   "outputs": [
    {
     "name": "stdout",
     "output_type": "stream",
     "text": [
      "2.718\n"
     ]
    }
   ],
   "source": [
    "print(2.718)"
   ]
  },
  {
   "cell_type": "code",
   "execution_count": 5,
   "metadata": {},
   "outputs": [
    {
     "name": "stdout",
     "output_type": "stream",
     "text": [
      "Every object will remain at rest or in uniform motion unless acted on by a net force.\n"
     ]
    }
   ],
   "source": [
    "newtonsFirstLaw = 'Every object will remain at rest or in uniform motion unless acted on by a net force.'\n",
    "\n",
    "print(newtonsFirstLaw)"
   ]
  },
  {
   "cell_type": "code",
   "execution_count": 23,
   "metadata": {},
   "outputs": [
    {
     "name": "stdout",
     "output_type": "stream",
     "text": [
      "42\n"
     ]
    },
    {
     "data": {
      "text/plain": [
       "NoneType"
      ]
     },
     "execution_count": 23,
     "metadata": {},
     "output_type": "execute_result"
    }
   ],
   "source": [
    "# a print() statement has type: None\n",
    "\n",
    "type(print(42))"
   ]
  },
  {
   "cell_type": "markdown",
   "metadata": {},
   "source": [
    "## print() formatting"
   ]
  },
  {
   "cell_type": "markdown",
   "metadata": {},
   "source": [
    "### print() - vs. interactive input\n",
    "\n"
   ]
  },
  {
   "cell_type": "markdown",
   "metadata": {},
   "source": [
    "##### print()\n",
    "- print() displays a 'string' output to the screen"
   ]
  },
  {
   "cell_type": "code",
   "execution_count": 52,
   "metadata": {},
   "outputs": [
    {
     "name": "stdout",
     "output_type": "stream",
     "text": [
      "42\n"
     ]
    }
   ],
   "source": [
    "print(42)"
   ]
  },
  {
   "cell_type": "markdown",
   "metadata": {},
   "source": [
    "##### Out[ ] - interactive output\n",
    "- entering values or variables will not manipulate the program\n",
    "- in interactive mode the last value or variable in sequence will be displayed as output"
   ]
  },
  {
   "cell_type": "code",
   "execution_count": 53,
   "metadata": {},
   "outputs": [
    {
     "data": {
      "text/plain": [
       "42"
      ]
     },
     "execution_count": 53,
     "metadata": {},
     "output_type": "execute_result"
    }
   ],
   "source": [
    "42"
   ]
  },
  {
   "cell_type": "code",
   "execution_count": 4,
   "metadata": {},
   "outputs": [
    {
     "data": {
      "text/plain": [
       "'Every action (force) has an equal and opposite reaction.'"
      ]
     },
     "execution_count": 4,
     "metadata": {},
     "output_type": "execute_result"
    }
   ],
   "source": [
    "2.718\n",
    "\n",
    "42\n",
    "\n",
    "PI = 3.14\n",
    "\n",
    "PI * 42\n",
    "\n",
    "newtonsThirdLaw = \"Every action (force) has an equal and opposite reaction.\"\n",
    "\n",
    "newtonsThirdLaw"
   ]
  },
  {
   "cell_type": "code",
   "execution_count": 56,
   "metadata": {},
   "outputs": [
    {
     "name": "stdout",
     "output_type": "stream",
     "text": [
      "A string output to the screen\n"
     ]
    }
   ],
   "source": [
    "# literals and variables will not be output if any print() statement follows \n",
    "\n",
    "newtonsThirdLaw\n",
    "\n",
    "print('A string output to the screen')"
   ]
  },
  {
   "cell_type": "markdown",
   "metadata": {},
   "source": [
    "## print(VALUE,VALUE,VALUE) - multiple values\n",
    "- print() can take multiple arguments\n",
    "- comma , separated values\n",
    "- output is separated by ' ' space\n",
    "- can combine different type() - unlike 1 argument print() - must be a 'string'"
   ]
  },
  {
   "cell_type": "code",
   "execution_count": 8,
   "metadata": {},
   "outputs": [
    {
     "name": "stdout",
     "output_type": "stream",
     "text": [
      "42 3.14 Thiry six\n"
     ]
    }
   ],
   "source": [
    "print(42,3.14,'Thiry six')"
   ]
  },
  {
   "cell_type": "code",
   "execution_count": 12,
   "metadata": {},
   "outputs": [
    {
     "name": "stdout",
     "output_type": "stream",
     "text": [
      "This is a sentence 3.14 42 **This is also a sentence with a number: 42**\n"
     ]
    }
   ],
   "source": [
    "stringA = 'This is a sentence'\n",
    "stringB = '3.14'\n",
    "integerA = 42\n",
    "\n",
    "print(stringA,stringB,integerA,'**This is'+' also a sentence with a number: ' + str(42) + '**')"
   ]
  },
  {
   "cell_type": "markdown",
   "metadata": {},
   "source": [
    "## escape characters \\ character"
   ]
  },
  {
   "cell_type": "markdown",
   "metadata": {},
   "source": [
    "### \\n - newline character\n",
    "- passed as a 'string'\n",
    "- creates a new line\n",
    "- counts as 1 character"
   ]
  },
  {
   "cell_type": "code",
   "execution_count": 21,
   "metadata": {},
   "outputs": [
    {
     "name": "stdout",
     "output_type": "stream",
     "text": [
      "This is a line.     \n",
      "This is a new line\n",
      "\n",
      "This is a line.     \n",
      " This is a new line\n"
     ]
    }
   ],
   "source": [
    "# space before \\n - does not effect the new line\n",
    "# \\n space after - effects the new line\n",
    "\n",
    "print('This is a line.     \\nThis is a new line')\n",
    "\n",
    "print()\n",
    "\n",
    "print('This is a line.     \\n This is a new line')"
   ]
  },
  {
   "cell_type": "code",
   "execution_count": 14,
   "metadata": {},
   "outputs": [
    {
     "name": "stdout",
     "output_type": "stream",
     "text": [
      "This is a line \n",
      " this is a new line \n",
      " this is another line\n"
     ]
    }
   ],
   "source": [
    "# \\n - newline character\n",
    "# print(argument, argument, argument) - multiple arguments\n",
    "# - still separated by ' ' space \n",
    "\n",
    "\n",
    "print('This is a line','\\n this is a new line','\\n this is another line')"
   ]
  },
  {
   "cell_type": "markdown",
   "metadata": {},
   "source": [
    "## print(argument, end = 'string') - end argument\n",
    "- 'string' passed to end = 'string' function\n",
    "- 'string' passed is deliminator - seperator between arguments"
   ]
  },
  {
   "cell_type": "code",
   "execution_count": 28,
   "metadata": {},
   "outputs": [
    {
     "name": "stdout",
     "output_type": "stream",
     "text": [
      "This is a line This is a new line\n"
     ]
    }
   ],
   "source": [
    "# two print() statements\n",
    "# first statement is directed to use ' ' space as diliminator\n",
    "# no \\n is automatically printed\n",
    "\n",
    "print('This is a line',end = ' ')\n",
    "print('This is a new line')"
   ]
  },
  {
   "cell_type": "code",
   "execution_count": 22,
   "metadata": {},
   "outputs": [
    {
     "name": "stdout",
     "output_type": "stream",
     "text": [
      "1 \n",
      "2 \n",
      "3"
     ]
    }
   ],
   "source": [
    "print('1','\\n2','\\n3',end='')"
   ]
  },
  {
   "cell_type": "markdown",
   "metadata": {},
   "source": [
    "## input() - function\n",
    "- takes a 'string' argument\n",
    "- displays a 'string' prompt\n",
    "- program waits for input\n",
    "- returns 'string' as input"
   ]
  },
  {
   "cell_type": "code",
   "execution_count": 3,
   "metadata": {},
   "outputs": [
    {
     "name": "stdout",
     "output_type": "stream",
     "text": [
      "Enter something: Alex\n"
     ]
    },
    {
     "data": {
      "text/plain": [
       "'Alex'"
      ]
     },
     "execution_count": 3,
     "metadata": {},
     "output_type": "execute_result"
    }
   ],
   "source": [
    "# input() - takes a 'string' as an argument\n",
    "\n",
    "input('Enter something: ')                    # value - returns a 'string'"
   ]
  },
  {
   "cell_type": "code",
   "execution_count": 5,
   "metadata": {},
   "outputs": [
    {
     "name": "stdout",
     "output_type": "stream",
     "text": [
      "Enter something: Alex\n",
      "Alex\n"
     ]
    }
   ],
   "source": [
    "# input can be passed directly as an argument\n",
    "\n",
    "print(input('Enter something: '))"
   ]
  },
  {
   "cell_type": "code",
   "execution_count": 6,
   "metadata": {},
   "outputs": [
    {
     "name": "stdout",
     "output_type": "stream",
     "text": [
      "Enter an alphanumeric combination: Alex@35235\n",
      "Alex@35235\n"
     ]
    }
   ],
   "source": [
    "# input() - can be assigned to a variable\n",
    "\n",
    "alphaNumericInput = input('Enter an alphanumeric combination: ')\n",
    "\n",
    "\n",
    "print(alphaNumericInput)"
   ]
  },
  {
   "cell_type": "code",
   "execution_count": 1,
   "metadata": {},
   "outputs": [
    {
     "name": "stdout",
     "output_type": "stream",
     "text": [
      "Enter an alphanumeric combination: 2863dferg\n",
      "Identification number: 2863dferg\n"
     ]
    }
   ],
   "source": [
    "# input() - can be assigned to a variable\n",
    "\n",
    "alphaNumericInput = input('Enter an alphanumeric combination: ')\n",
    "\n",
    "\n",
    "print('Identification number:',alphaNumericInput)"
   ]
  },
  {
   "cell_type": "code",
   "execution_count": 7,
   "metadata": {},
   "outputs": [
    {
     "name": "stdout",
     "output_type": "stream",
     "text": [
      "Enter an alphanumeric combination: Alex23425\n",
      "Alex23425\n"
     ]
    }
   ],
   "source": [
    "# input() - argument can be passed a 'string' variable\n",
    "# input() - can be assigned to a variable\n",
    "\n",
    "inputMessage = 'Enter an alphanumeric combination: '\n",
    "\n",
    "alphaNumericInput = input(inputMessage)\n",
    "\n",
    "\n",
    "print(alphaNumericInput)"
   ]
  },
  {
   "cell_type": "markdown",
   "metadata": {},
   "source": [
    "## # comments\n",
    "- # followed by any characters\n",
    "- not interpreted and left as comment"
   ]
  },
  {
   "cell_type": "code",
   "execution_count": 50,
   "metadata": {},
   "outputs": [
    {
     "name": "stdout",
     "output_type": "stream",
     "text": [
      "This script has comments\n"
     ]
    }
   ],
   "source": [
    "# comments can have thier own line\n",
    "\n",
    "print('This script has comments')        # can follow a line\n",
    "\n",
    "\n",
    "# print('This statement is visible')     # can be used to 'comment' out code - so it is not executed"
   ]
  },
  {
   "cell_type": "markdown",
   "metadata": {},
   "source": [
    "## type() - function\n",
    "- returns the type of a value\n",
    "- returns object - type\n",
    "- can be stored in a variable"
   ]
  },
  {
   "cell_type": "code",
   "execution_count": 25,
   "metadata": {},
   "outputs": [
    {
     "data": {
      "text/plain": [
       "str"
      ]
     },
     "execution_count": 25,
     "metadata": {},
     "output_type": "execute_result"
    }
   ],
   "source": [
    "type('string of words')"
   ]
  },
  {
   "cell_type": "code",
   "execution_count": 3,
   "metadata": {},
   "outputs": [
    {
     "data": {
      "text/plain": [
       "int"
      ]
     },
     "execution_count": 3,
     "metadata": {},
     "output_type": "execute_result"
    }
   ],
   "source": [
    "type(42)"
   ]
  },
  {
   "cell_type": "code",
   "execution_count": 26,
   "metadata": {},
   "outputs": [
    {
     "data": {
      "text/plain": [
       "float"
      ]
     },
     "execution_count": 26,
     "metadata": {},
     "output_type": "execute_result"
    }
   ],
   "source": [
    "type(3.14)"
   ]
  },
  {
   "cell_type": "code",
   "execution_count": 27,
   "metadata": {},
   "outputs": [
    {
     "name": "stdout",
     "output_type": "stream",
     "text": [
      "<class 'str'>\n"
     ]
    }
   ],
   "source": [
    "print(type('onomatopoeia'))"
   ]
  },
  {
   "cell_type": "code",
   "execution_count": 27,
   "metadata": {},
   "outputs": [
    {
     "name": "stdout",
     "output_type": "stream",
     "text": [
      "<class 'str'>\n"
     ]
    }
   ],
   "source": [
    "print(type(42)"
   ]
  },
  {
   "cell_type": "code",
   "execution_count": 28,
   "metadata": {},
   "outputs": [
    {
     "name": "stdout",
     "output_type": "stream",
     "text": [
      "<class 'float'>\n"
     ]
    }
   ],
   "source": [
    "print(type(3.14))"
   ]
  },
  {
   "cell_type": "markdown",
   "metadata": {},
   "source": [
    "### `type()`\n",
    "- returns object - type\n",
    "- can be stored in a variable"
   ]
  },
  {
   "cell_type": "code",
   "execution_count": 1,
   "metadata": {},
   "outputs": [
    {
     "name": "stdout",
     "output_type": "stream",
     "text": [
      "<class 'int'>\n"
     ]
    }
   ],
   "source": [
    "typeOfValue = type(42)\n",
    "\n",
    "print(typeOfValue)"
   ]
  },
  {
   "cell_type": "markdown",
   "metadata": {},
   "source": [
    "## `type()` has type - type"
   ]
  },
  {
   "cell_type": "code",
   "execution_count": 2,
   "metadata": {},
   "outputs": [
    {
     "data": {
      "text/plain": [
       "type"
      ]
     },
     "execution_count": 2,
     "metadata": {},
     "output_type": "execute_result"
    }
   ],
   "source": [
    "type(type(2))"
   ]
  },
  {
   "cell_type": "code",
   "execution_count": null,
   "metadata": {},
   "outputs": [],
   "source": [
    "typeOfType = type(type(42))\n",
    "\n",
    "print(typeOfType)"
   ]
  },
  {
   "cell_type": "markdown",
   "metadata": {},
   "source": [
    "# type casting - functions\n",
    "## str()\n",
    "## int()\n",
    "## float()\n",
    "changes the type of an object"
   ]
  },
  {
   "cell_type": "markdown",
   "metadata": {},
   "source": [
    "### str()"
   ]
  },
  {
   "cell_type": "code",
   "execution_count": 108,
   "metadata": {},
   "outputs": [
    {
     "name": "stdout",
     "output_type": "stream",
     "text": [
      "42\n",
      "3.14\n"
     ]
    }
   ],
   "source": [
    "print(str(42))\n",
    "print(str(3.14))"
   ]
  },
  {
   "cell_type": "code",
   "execution_count": 61,
   "metadata": {},
   "outputs": [
    {
     "name": "stdout",
     "output_type": "stream",
     "text": [
      "<class 'str'>\n"
     ]
    }
   ],
   "source": [
    "stringCasted = str(42)\n",
    "\n",
    "print(type(stringCasted))\n"
   ]
  },
  {
   "cell_type": "markdown",
   "metadata": {},
   "source": [
    "#### use cases"
   ]
  },
  {
   "cell_type": "code",
   "execution_count": 56,
   "metadata": {},
   "outputs": [
    {
     "data": {
      "text/plain": [
       "'3.14'"
      ]
     },
     "execution_count": 56,
     "metadata": {},
     "output_type": "execute_result"
    }
   ],
   "source": [
    "stringCastedFromFloat = str(3.14)\n",
    "\n",
    "print(stringCastedFromFloat)"
   ]
  },
  {
   "cell_type": "code",
   "execution_count": 17,
   "metadata": {},
   "outputs": [
    {
     "name": "stdout",
     "output_type": "stream",
     "text": [
      "R2D2\n"
     ]
    }
   ],
   "source": [
    "alphaNumeric = 'R' + '2' + 'D' + str(2)\n",
    "\n",
    "print(alphaNumeric)"
   ]
  },
  {
   "cell_type": "code",
   "execution_count": 60,
   "metadata": {},
   "outputs": [
    {
     "name": "stdout",
     "output_type": "stream",
     "text": [
      "224213514253.14\n"
     ]
    }
   ],
   "source": [
    "stringCastedFromFloat = str(3.14)\n",
    "\n",
    "print('22' + str(42) + '1351425' + stringCastedFromFloat)"
   ]
  },
  {
   "cell_type": "code",
   "execution_count": 79,
   "metadata": {},
   "outputs": [
    {
     "name": "stdout",
     "output_type": "stream",
     "text": [
      "Enter a number: 2\n",
      "<class 'str'>\n"
     ]
    }
   ],
   "source": [
    "input1 = input('Enter a number: ')\n",
    "\n",
    "print(type(input1))"
   ]
  },
  {
   "cell_type": "markdown",
   "metadata": {},
   "source": [
    "### int()"
   ]
  },
  {
   "cell_type": "code",
   "execution_count": 114,
   "metadata": {},
   "outputs": [
    {
     "name": "stdout",
     "output_type": "stream",
     "text": [
      "42\n",
      "3\n"
     ]
    }
   ],
   "source": [
    "print(int('42'))\n",
    "print(int(3.14))"
   ]
  },
  {
   "cell_type": "code",
   "execution_count": 72,
   "metadata": {},
   "outputs": [
    {
     "name": "stdout",
     "output_type": "stream",
     "text": [
      "<class 'int'>\n"
     ]
    }
   ],
   "source": [
    "intCasted = int(2.718)\n",
    "\n",
    "print(type(intCasted))\n"
   ]
  },
  {
   "cell_type": "markdown",
   "metadata": {},
   "source": [
    "#### int() -  type conversion truncates floating point numbers"
   ]
  },
  {
   "cell_type": "code",
   "execution_count": 113,
   "metadata": {},
   "outputs": [
    {
     "name": "stdout",
     "output_type": "stream",
     "text": [
      "2\n"
     ]
    }
   ],
   "source": [
    "print(int(2.718))"
   ]
  },
  {
   "cell_type": "markdown",
   "metadata": {},
   "source": [
    "#### int() type conversion `can not` take `floating point strings`"
   ]
  },
  {
   "cell_type": "code",
   "execution_count": 101,
   "metadata": {},
   "outputs": [],
   "source": [
    "# int('3.14')\n",
    "\n",
    "# ValueError: invalid literal for int() with base 10: '3.14'"
   ]
  },
  {
   "cell_type": "markdown",
   "metadata": {},
   "source": [
    "#### use cases"
   ]
  },
  {
   "cell_type": "code",
   "execution_count": 64,
   "metadata": {},
   "outputs": [
    {
     "data": {
      "text/plain": [
       "2"
      ]
     },
     "execution_count": 64,
     "metadata": {},
     "output_type": "execute_result"
    }
   ],
   "source": [
    "intCastedFromFloat = int(2.718)\n",
    "\n",
    "print(intCastedFromFloat)"
   ]
  },
  {
   "cell_type": "code",
   "execution_count": 78,
   "metadata": {},
   "outputs": [
    {
     "name": "stdout",
     "output_type": "stream",
     "text": [
      "R2D2\n"
     ]
    }
   ],
   "source": [
    "alphaNumeric = 'R' + '2' + 'D'\n",
    "\n",
    "print(alphaNumeric, end='')\n",
    "\n",
    "print(int(2.718))"
   ]
  },
  {
   "cell_type": "code",
   "execution_count": 21,
   "metadata": {
    "scrolled": true
   },
   "outputs": [
    {
     "name": "stdout",
     "output_type": "stream",
     "text": [
      "Enter a number: 2\n",
      "Enter another number: 3\n",
      "2 + 3 = 5\n"
     ]
    }
   ],
   "source": [
    "input1 = input('Enter a number: ')\n",
    "input2 = input('Enter another number: ')\n",
    "\n",
    "print(input1,'+',input2,'=', int(input1) + int(input2))"
   ]
  },
  {
   "cell_type": "markdown",
   "metadata": {},
   "source": [
    "### float()"
   ]
  },
  {
   "cell_type": "code",
   "execution_count": 120,
   "metadata": {},
   "outputs": [
    {
     "name": "stdout",
     "output_type": "stream",
     "text": [
      "42.0\n",
      "36.0\n"
     ]
    }
   ],
   "source": [
    "print(float('42'))\n",
    "print(float(36))"
   ]
  },
  {
   "cell_type": "code",
   "execution_count": 88,
   "metadata": {},
   "outputs": [
    {
     "name": "stdout",
     "output_type": "stream",
     "text": [
      "<class 'float'>\n"
     ]
    }
   ],
   "source": [
    "floatCasted = float('42')\n",
    "print(type(floatCasted))\n"
   ]
  },
  {
   "cell_type": "markdown",
   "metadata": {},
   "source": [
    "#### use cases"
   ]
  },
  {
   "cell_type": "code",
   "execution_count": 85,
   "metadata": {},
   "outputs": [
    {
     "data": {
      "text/plain": [
       "3.14"
      ]
     },
     "execution_count": 85,
     "metadata": {},
     "output_type": "execute_result"
    }
   ],
   "source": [
    "floatCastedFromString = float('3.14')\n",
    "\n",
    "print(floatCastedFromString)"
   ]
  },
  {
   "cell_type": "code",
   "execution_count": 89,
   "metadata": {},
   "outputs": [
    {
     "name": "stdout",
     "output_type": "stream",
     "text": [
      "R2D2.0\n"
     ]
    }
   ],
   "source": [
    "alphaNumeric = 'R' + '2' + 'D'\n",
    "\n",
    "print(alphaNumeric, end='')\n",
    "\n",
    "print(float(2))"
   ]
  },
  {
   "cell_type": "code",
   "execution_count": 93,
   "metadata": {
    "scrolled": true
   },
   "outputs": [
    {
     "name": "stdout",
     "output_type": "stream",
     "text": [
      "Enter a number: 3\n",
      "Enter another number: 6\n",
      "3 + 6 = 9.0\n"
     ]
    }
   ],
   "source": [
    "input1 = input('Enter a number: ')\n",
    "input2 = input('Enter another number: ')\n",
    "\n",
    "print(input1,'+',input2,'=', float(input1) + float(input2))"
   ]
  },
  {
   "cell_type": "markdown",
   "metadata": {},
   "source": [
    "#### numerical type conversion `can not` take `'string words'` as arguments\n",
    "- str()\n",
    "- float()"
   ]
  },
  {
   "cell_type": "code",
   "execution_count": 24,
   "metadata": {},
   "outputs": [],
   "source": [
    "# int('string of words')\n",
    "\n",
    "# ValueError: invalid literal for int() with base 10: 's'"
   ]
  },
  {
   "cell_type": "code",
   "execution_count": 22,
   "metadata": {},
   "outputs": [],
   "source": [
    "# float('string of words')\n",
    "\n",
    "# ValueError: could not convert string to float: 'a'"
   ]
  },
  {
   "cell_type": "code",
   "execution_count": null,
   "metadata": {},
   "outputs": [],
   "source": []
  },
  {
   "cell_type": "code",
   "execution_count": null,
   "metadata": {},
   "outputs": [],
   "source": []
  },
  {
   "cell_type": "markdown",
   "metadata": {},
   "source": [
    "### Str conversion of Boolean defaults to str of [True] or [False]"
   ]
  },
  {
   "cell_type": "code",
   "execution_count": 121,
   "metadata": {},
   "outputs": [
    {
     "data": {
      "text/plain": [
       "'True'"
      ]
     },
     "execution_count": 121,
     "metadata": {},
     "output_type": "execute_result"
    }
   ],
   "source": [
    "str(True)"
   ]
  },
  {
   "cell_type": "code",
   "execution_count": 125,
   "metadata": {},
   "outputs": [
    {
     "data": {
      "text/plain": [
       "'False'"
      ]
     },
     "execution_count": 125,
     "metadata": {},
     "output_type": "execute_result"
    }
   ],
   "source": [
    "str(False)"
   ]
  },
  {
   "cell_type": "markdown",
   "metadata": {},
   "source": [
    "### `int` or `float` conversion of Boolean is [True - 1] [False - 0]"
   ]
  },
  {
   "cell_type": "code",
   "execution_count": 126,
   "metadata": {},
   "outputs": [
    {
     "data": {
      "text/plain": [
       "1"
      ]
     },
     "execution_count": 126,
     "metadata": {},
     "output_type": "execute_result"
    }
   ],
   "source": [
    "int(True)"
   ]
  },
  {
   "cell_type": "code",
   "execution_count": 127,
   "metadata": {},
   "outputs": [
    {
     "data": {
      "text/plain": [
       "0.0"
      ]
     },
     "execution_count": 127,
     "metadata": {},
     "output_type": "execute_result"
    }
   ],
   "source": [
    "float(False)"
   ]
  },
  {
   "cell_type": "markdown",
   "metadata": {},
   "source": [
    "## max() - function\n",
    "returns the largest in a sequence of values"
   ]
  },
  {
   "cell_type": "code",
   "execution_count": 131,
   "metadata": {},
   "outputs": [
    {
     "data": {
      "text/plain": [
       "'z'"
      ]
     },
     "execution_count": 131,
     "metadata": {},
     "output_type": "execute_result"
    }
   ],
   "source": [
    "max('Aa11zZ')"
   ]
  },
  {
   "cell_type": "markdown",
   "metadata": {},
   "source": [
    "## min() - function\n",
    "returns thesmallest in a sequence of values"
   ]
  },
  {
   "cell_type": "code",
   "execution_count": 132,
   "metadata": {},
   "outputs": [
    {
     "data": {
      "text/plain": [
       "'1'"
      ]
     },
     "execution_count": 132,
     "metadata": {},
     "output_type": "execute_result"
    }
   ],
   "source": [
    "min('Aa11zZ')"
   ]
  },
  {
   "cell_type": "markdown",
   "metadata": {},
   "source": [
    "### max() or min()\n",
    "- can work on `lists()`"
   ]
  },
  {
   "cell_type": "code",
   "execution_count": 135,
   "metadata": {},
   "outputs": [
    {
     "data": {
      "text/plain": [
       "'a'"
      ]
     },
     "execution_count": 135,
     "metadata": {},
     "output_type": "execute_result"
    }
   ],
   "source": [
    "listExample = ['A','a']\n",
    "\n",
    "max(listExample)"
   ]
  },
  {
   "cell_type": "code",
   "execution_count": 137,
   "metadata": {},
   "outputs": [
    {
     "data": {
      "text/plain": [
       "42"
      ]
     },
     "execution_count": 137,
     "metadata": {},
     "output_type": "execute_result"
    }
   ],
   "source": [
    "listExample = [1,4,3.14,42]\n",
    "\n",
    "max(listExample)"
   ]
  },
  {
   "cell_type": "code",
   "execution_count": 144,
   "metadata": {},
   "outputs": [
    {
     "data": {
      "text/plain": [
       "13133"
      ]
     },
     "execution_count": 144,
     "metadata": {},
     "output_type": "execute_result"
    }
   ],
   "source": [
    "listExample = [True,False,13133]\n",
    "\n",
    "max(listExample)"
   ]
  },
  {
   "cell_type": "markdown",
   "metadata": {},
   "source": [
    "### list() - must be\n",
    "- only numbers & booleans\n",
    "<br/>\n",
    "\n",
    "or\n",
    "<br/>\n",
    "- only 'string's"
   ]
  },
  {
   "cell_type": "code",
   "execution_count": 149,
   "metadata": {},
   "outputs": [],
   "source": [
    "listExample = [True,'1']\n",
    "# max(listExample)\n",
    "# TypeError: '>' not supported between instances of 'str' and 'int'\n",
    "\n",
    "\n",
    "listExample = [42,'1']\n",
    "# max(listExample)\n",
    "# TypeError: '>' not supported between instances of 'str' and 'bool'"
   ]
  },
  {
   "cell_type": "markdown",
   "metadata": {},
   "source": [
    "## len() - function\n",
    "returns the length of a sequence"
   ]
  },
  {
   "cell_type": "code",
   "execution_count": 151,
   "metadata": {},
   "outputs": [
    {
     "data": {
      "text/plain": [
       "15"
      ]
     },
     "execution_count": 151,
     "metadata": {},
     "output_type": "execute_result"
    }
   ],
   "source": [
    "len('string of words')"
   ]
  },
  {
   "cell_type": "code",
   "execution_count": 156,
   "metadata": {},
   "outputs": [
    {
     "data": {
      "text/plain": [
       "3"
      ]
     },
     "execution_count": 156,
     "metadata": {},
     "output_type": "execute_result"
    }
   ],
   "source": [
    "listExample = [1,2,42]\n",
    "\n",
    "len(listExample)"
   ]
  },
  {
   "cell_type": "markdown",
   "metadata": {},
   "source": [
    "# `module object` functions\n",
    "#### invoked by moduleObjectName\n",
    "\n",
    "contains\n",
    "- variables\n",
    "- functions"
   ]
  },
  {
   "cell_type": "markdown",
   "metadata": {},
   "source": [
    "## Dot notation\n",
    "To access functions or variables\n",
    "specify name of module [math] and use [ . ] before the name of function\n",
    "\n",
    "### moduleName.variable\n",
    "### moduleName.function()\n",
    "\n",
    "<br/>"
   ]
  },
  {
   "cell_type": "markdown",
   "metadata": {},
   "source": [
    "# `import` modules\n",
    "`import MODULE NAME`"
   ]
  },
  {
   "cell_type": "markdown",
   "metadata": {},
   "source": [
    "## math `module object`"
   ]
  },
  {
   "cell_type": "code",
   "execution_count": 6,
   "metadata": {},
   "outputs": [],
   "source": [
    "# Must import math functions\n",
    "\n",
    "import math"
   ]
  },
  {
   "cell_type": "code",
   "execution_count": 7,
   "metadata": {},
   "outputs": [
    {
     "name": "stdout",
     "output_type": "stream",
     "text": [
      "<module 'math' (built-in)>\n"
     ]
    }
   ],
   "source": [
    "# Creates a module object - named [math]\n",
    "# printing information about the object via the variable name as an argument\n",
    "\n",
    "print(math)"
   ]
  },
  {
   "cell_type": "markdown",
   "metadata": {},
   "source": [
    "## moduleName.variable"
   ]
  },
  {
   "cell_type": "code",
   "execution_count": 8,
   "metadata": {
    "scrolled": true
   },
   "outputs": [
    {
     "data": {
      "text/plain": [
       "3.141592653589793"
      ]
     },
     "execution_count": 8,
     "metadata": {},
     "output_type": "execute_result"
    }
   ],
   "source": [
    "#Math - pi variable approximated to 15 digits\n",
    "\n",
    "math.pi"
   ]
  },
  {
   "cell_type": "code",
   "execution_count": 9,
   "metadata": {},
   "outputs": [
    {
     "data": {
      "text/plain": [
       "2.718281828459045"
      ]
     },
     "execution_count": 9,
     "metadata": {},
     "output_type": "execute_result"
    }
   ],
   "source": [
    "#Math - e variable approximated to 15 digits\n",
    "\n",
    "math.e"
   ]
  },
  {
   "cell_type": "markdown",
   "metadata": {},
   "source": [
    "# `import` modules `as` alias\n",
    "`import` MODULE NAME `as` alias"
   ]
  },
  {
   "cell_type": "code",
   "execution_count": 10,
   "metadata": {},
   "outputs": [],
   "source": [
    "import math as m"
   ]
  },
  {
   "cell_type": "markdown",
   "metadata": {},
   "source": [
    "## moduleNameALIAS.variable"
   ]
  },
  {
   "cell_type": "code",
   "execution_count": 11,
   "metadata": {},
   "outputs": [
    {
     "data": {
      "text/plain": [
       "3.141592653589793"
      ]
     },
     "execution_count": 11,
     "metadata": {},
     "output_type": "execute_result"
    }
   ],
   "source": [
    "m.pi"
   ]
  },
  {
   "cell_type": "code",
   "execution_count": 12,
   "metadata": {},
   "outputs": [
    {
     "data": {
      "text/plain": [
       "2.718281828459045"
      ]
     },
     "execution_count": 12,
     "metadata": {},
     "output_type": "execute_result"
    }
   ],
   "source": [
    "m.e"
   ]
  },
  {
   "cell_type": "markdown",
   "metadata": {},
   "source": [
    "## Math Functions"
   ]
  },
  {
   "cell_type": "markdown",
   "metadata": {},
   "source": [
    "## `moduleName.function()`"
   ]
  },
  {
   "cell_type": "code",
   "execution_count": 13,
   "metadata": {},
   "outputs": [
    {
     "name": "stdout",
     "output_type": "stream",
     "text": [
      "0.0\n",
      "1.0\n"
     ]
    }
   ],
   "source": [
    "#nameOfModule.function() - math.log() - log base e (ln - natural logarithm)\n",
    "\n",
    "print(math.log(1))\n",
    "\n",
    "print(math.log(math.e))"
   ]
  },
  {
   "cell_type": "code",
   "execution_count": 14,
   "metadata": {},
   "outputs": [
    {
     "name": "stdout",
     "output_type": "stream",
     "text": [
      "2.0\n"
     ]
    }
   ],
   "source": [
    "#nameOfModule.function() - math.log10() - logarithm base 10\n",
    "\n",
    "print(math.log10(100))"
   ]
  },
  {
   "cell_type": "markdown",
   "metadata": {},
   "source": [
    "# import specific function\n",
    "## `function()`\n",
    "no need for moduleNAme.function()"
   ]
  },
  {
   "cell_type": "markdown",
   "metadata": {},
   "source": [
    "# `from` module `import` functionName"
   ]
  },
  {
   "cell_type": "code",
   "execution_count": 20,
   "metadata": {},
   "outputs": [],
   "source": [
    "from math import log, log10 # can comma seperate"
   ]
  },
  {
   "cell_type": "code",
   "execution_count": 21,
   "metadata": {},
   "outputs": [
    {
     "name": "stdout",
     "output_type": "stream",
     "text": [
      "0.0\n",
      "1.0\n"
     ]
    }
   ],
   "source": [
    "#nameOfModule.function() - math.log() - log base e (ln - natural logarithm)\n",
    "\n",
    "print(log(1))\n",
    "\n",
    "print(log(math.e))"
   ]
  },
  {
   "cell_type": "code",
   "execution_count": 22,
   "metadata": {},
   "outputs": [
    {
     "name": "stdout",
     "output_type": "stream",
     "text": [
      "2.0\n"
     ]
    }
   ],
   "source": [
    "#nameOfModule.function() - math.log10() - logarithm base 10\n",
    "\n",
    "print(log10(100))"
   ]
  },
  {
   "cell_type": "markdown",
   "metadata": {},
   "source": [
    "### Trigonometric functions take `radians` as `arguments`"
   ]
  },
  {
   "cell_type": "code",
   "execution_count": 175,
   "metadata": {},
   "outputs": [
    {
     "data": {
      "text/plain": [
       "0.7853981633974483"
      ]
     },
     "execution_count": 175,
     "metadata": {},
     "output_type": "execute_result"
    }
   ],
   "source": [
    "#Convert Degrees to radians\n",
    "45 * (math.pi/180)"
   ]
  },
  {
   "cell_type": "code",
   "execution_count": 176,
   "metadata": {},
   "outputs": [
    {
     "data": {
      "text/plain": [
       "45.0"
      ]
     },
     "execution_count": 176,
     "metadata": {},
     "output_type": "execute_result"
    }
   ],
   "source": [
    "#Convert Radians to degrees\n",
    "0.7853981633974483 * (180/math.pi)"
   ]
  },
  {
   "cell_type": "code",
   "execution_count": 180,
   "metadata": {},
   "outputs": [
    {
     "data": {
      "text/plain": [
       "0.7071067811865476"
      ]
     },
     "execution_count": 180,
     "metadata": {},
     "output_type": "execute_result"
    }
   ],
   "source": [
    "degrees = 45\n",
    "radians = degrees * (math.pi/180)\n",
    "\n",
    "math.sin(radians)"
   ]
  },
  {
   "cell_type": "code",
   "execution_count": 181,
   "metadata": {},
   "outputs": [
    {
     "data": {
      "text/plain": [
       "0.7071067811865476"
      ]
     },
     "execution_count": 181,
     "metadata": {},
     "output_type": "execute_result"
    }
   ],
   "source": [
    "#Check sin function output of 45 degrees[0.78 radians]\n",
    "\n",
    "math.sqrt(2)/2        # radical-2 over 2"
   ]
  },
  {
   "cell_type": "markdown",
   "metadata": {},
   "source": [
    "## `random` numbers\n",
    "- Computers `proceed` through a `set of well-defined states`\n",
    "\n",
    "- Computers are `deterministic` - they generate the same outputs every time\n",
    "\n",
    "- `Same calculation` yields the `same result`\n",
    "\n",
    "<br/>\n",
    "\n",
    "`random number functions`\n",
    "- can yield `pseudorandom numbers`\n",
    "\n",
    "<br/>\n",
    "\n",
    "`pseudorandom numbers`\n",
    "- not truly random\n",
    "- generated by [deterministic computation]\n",
    "- all but impossible to distinguish them from random"
   ]
  },
  {
   "cell_type": "markdown",
   "metadata": {},
   "source": [
    "## random `module object`"
   ]
  },
  {
   "cell_type": "code",
   "execution_count": 182,
   "metadata": {},
   "outputs": [],
   "source": [
    "#must import random module\n",
    "import random"
   ]
  },
  {
   "cell_type": "code",
   "execution_count": 183,
   "metadata": {},
   "outputs": [
    {
     "name": "stdout",
     "output_type": "stream",
     "text": [
      "<module 'random' from 'C:\\\\Users\\\\Alex\\\\Anaconda3\\\\lib\\\\random.py'>\n"
     ]
    }
   ],
   "source": [
    "# Creates a module object - named [random]\n",
    "# printing information about the object via the variable name as an argument\n",
    "\n",
    "print(random)"
   ]
  },
  {
   "cell_type": "markdown",
   "metadata": {},
   "source": [
    "## random Functions"
   ]
  },
  {
   "cell_type": "markdown",
   "metadata": {},
   "source": [
    "## random.random()\n",
    "random `module`\n",
    "\n",
    "random `function`\n",
    "\n",
    "- generates random floats between 0.0 - 1.0\n",
    "- not including 1.0 - [0,1)"
   ]
  },
  {
   "cell_type": "code",
   "execution_count": 215,
   "metadata": {},
   "outputs": [
    {
     "data": {
      "text/plain": [
       "0.4567649214914309"
      ]
     },
     "execution_count": 215,
     "metadata": {},
     "output_type": "execute_result"
    }
   ],
   "source": [
    "random.random()"
   ]
  },
  {
   "cell_type": "markdown",
   "metadata": {},
   "source": [
    "### use cases"
   ]
  },
  {
   "cell_type": "code",
   "execution_count": 223,
   "metadata": {},
   "outputs": [
    {
     "name": "stdout",
     "output_type": "stream",
     "text": [
      "1 : 0.9962112587257496\n",
      "2 : 0.3847278278253884\n",
      "3 : 0.8818777500537387\n",
      "4 : 0.5949155461776405\n",
      "5 : 0.49431952718142647\n",
      "6 : 0.62137500140809\n",
      "7 : 0.8271155854651799\n",
      "8 : 0.3065836493612808\n",
      "9 : 0.09083138412969916\n",
      "10 : 0.4721268188415161\n"
     ]
    }
   ],
   "source": [
    "#For loop to print out random numbers\n",
    "##Fix base 10 place formatting **\n",
    "\n",
    "for i in range(10):\n",
    "    x = random.random()\n",
    "    print(i+1,':',x)"
   ]
  },
  {
   "cell_type": "code",
   "execution_count": 226,
   "metadata": {},
   "outputs": [
    {
     "data": {
      "text/plain": [
       "0"
      ]
     },
     "execution_count": 226,
     "metadata": {},
     "output_type": "execute_result"
    }
   ],
   "source": [
    "## [randint(low,high)] - takes parameters between low and high, includes both\n",
    "## [low,high)]\n",
    "\n",
    "random.randint(-45,45)"
   ]
  },
  {
   "cell_type": "code",
   "execution_count": 230,
   "metadata": {},
   "outputs": [
    {
     "data": {
      "text/plain": [
       "5"
      ]
     },
     "execution_count": 230,
     "metadata": {},
     "output_type": "execute_result"
    }
   ],
   "source": [
    "## [choice] -choose and element from a seqauence at random\n",
    "\n",
    "listOfNumbers = [1,3,5,7]\n",
    "\n",
    "random.choice(listOfNumbers)"
   ]
  },
  {
   "cell_type": "markdown",
   "metadata": {},
   "source": [
    "# `function definition`\n",
    "#### header includes\n",
    "- `def`\n",
    "- function name\n",
    "- parenthesis ()\n",
    "- input parameters (comma separated, inside parenthesis)\n",
    "   - there can be none, some, several, or default input parameters\n",
    "- colon :\n",
    "\n",
    "#### body of compound statement \n",
    "- executed when function name is `invoked`\n",
    "\n",
    "- `arguments` are passed to body of code block using `parameters`\n",
    "\n",
    "- `code block` inside function is `indented`\n",
    "\n",
    "#### `store` and `reuse` pattern of execution\n",
    "\n",
    "<br/>"
   ]
  },
  {
   "cell_type": "markdown",
   "metadata": {},
   "source": [
    "### naming convention - same as variables\n",
    "- letters\n",
    "- underscore\n",
    "- numbers\n",
    "\n",
    "can only begin with\n",
    "- letters\n",
    "- underscore\n",
    "\n",
    "CAN NOT begin with\n",
    "- numbers"
   ]
  },
  {
   "cell_type": "markdown",
   "metadata": {},
   "source": [
    "# `user-defined` functions\n",
    "#### invoked by name()"
   ]
  },
  {
   "cell_type": "code",
   "execution_count": 4,
   "metadata": {},
   "outputs": [
    {
     "name": "stdout",
     "output_type": "stream",
     "text": [
      "This is my function that prints pi: 3.141592653589793\n"
     ]
    }
   ],
   "source": [
    "## Function names follow same conventions as variables\n",
    "## Should not name variables and functions the same name\n",
    "\n",
    "#Functions have header,parameters,followed by [:] semicologn\n",
    "#Indented 4 spaces is a compound statement -sequence of statements - body\n",
    "#Body can contain any number of statements\n",
    "\n",
    "def myFunction():\n",
    "    import math\n",
    "    print('This is my function that prints pi:',math.pi)\n",
    "    \n",
    "myFunction()"
   ]
  },
  {
   "cell_type": "markdown",
   "metadata": {},
   "source": [
    "## definining a `function` creates a `function object`\n",
    "with type\n",
    "- `function`"
   ]
  },
  {
   "cell_type": "code",
   "execution_count": 19,
   "metadata": {},
   "outputs": [
    {
     "name": "stdout",
     "output_type": "stream",
     "text": [
      "<function myFunction at 0x00000159E8B37488>\n",
      "<class 'function'>\n"
     ]
    }
   ],
   "source": [
    "## Definining a function creates a [function object]\n",
    "\n",
    "print(myFunction)\n",
    "\n",
    "print(type(myFunction))      # myFunction() - will result in <class 'NoneType'>"
   ]
  },
  {
   "cell_type": "markdown",
   "metadata": {},
   "source": [
    "### built-in function names should not be used as variable names"
   ]
  },
  {
   "cell_type": "code",
   "execution_count": null,
   "metadata": {},
   "outputs": [],
   "source": [
    "# **Don't work with similar functions\n",
    "# max = '11'\n",
    "# max(max)\n",
    "\n",
    "# TypeError: 'str' object is not callable\n",
    "\n",
    "# max(inputArgument) - will work if - variable with name [max] is not created"
   ]
  },
  {
   "cell_type": "code",
   "execution_count": 9,
   "metadata": {},
   "outputs": [
    {
     "name": "stdout",
     "output_type": "stream",
     "text": [
      "<function bigNumber at 0x00000225B2E88D90>\n",
      "8\n",
      "8\n"
     ]
    }
   ],
   "source": [
    "####\n",
    "#user-defined function names should not be used as variable names\n",
    "\n",
    "def bigNumber(input):\n",
    "    return input*2\n",
    "\n",
    "print(bigNumber)         #Returns value of function rather than [bigNumber] variable defined in first line\n",
    "print(bigNumber(4))\n",
    "\n",
    "\n",
    "bigNumberDifferent = 4   #Will return number stored in variable because variable name is unique\n",
    "print(bigNumber(bigNumberDifferent))\n",
    "\n",
    "\n",
    "bigNumber = 4            #Will not print because variable name has been used as function name\n",
    "#print(bigNumber(bigNumber))\n",
    "\n",
    "# TypeError: 'int' object is not callable"
   ]
  },
  {
   "cell_type": "markdown",
   "metadata": {},
   "source": [
    "### python interpreter - when definining function, [empty line] is necessary for the last line"
   ]
  },
  {
   "cell_type": "code",
   "execution_count": 20,
   "metadata": {},
   "outputs": [],
   "source": [
    "# >>>def myFunction():\n",
    "# ...    print()\n",
    "# ...\n",
    "# #next statement in sequential execution\n",
    "# print()"
   ]
  },
  {
   "cell_type": "markdown",
   "metadata": {},
   "source": [
    "## Flow of execution\n",
    "sequential order in which execution is performed\n",
    "\n",
    "- `function definitions` are executed in sequence\n",
    "\n",
    "- `defining` a `function`\n",
    "\n",
    "  - creates a `function object`\n",
    "  - does not generate output\n",
    "  \n",
    "- `functions definition` must be `executed` before `functions` are `invoked`\n",
    "- a `function` must be `called` to be `executed` in sequence"
   ]
  },
  {
   "cell_type": "code",
   "execution_count": 21,
   "metadata": {},
   "outputs": [
    {
     "ename": "SyntaxError",
     "evalue": "invalid syntax (<ipython-input-21-d11fd4b84b13>, line 3)",
     "output_type": "error",
     "traceback": [
      "\u001b[1;36m  File \u001b[1;32m\"<ipython-input-21-d11fd4b84b13>\"\u001b[1;36m, line \u001b[1;32m3\u001b[0m\n\u001b[1;33m    - `begins` at `first statement` of program (script)\u001b[0m\n\u001b[1;37m      ^\u001b[0m\n\u001b[1;31mSyntaxError\u001b[0m\u001b[1;31m:\u001b[0m invalid syntax\n"
     ]
    }
   ],
   "source": [
    "## Sequential execution (Flow of execution)\n",
    "\n",
    "- `begins` at `first statement` of program (script)\n",
    "\n",
    "- statements are `executed one at a time`\n",
    "\n",
    "- `in order`, from `top to bottom`"
   ]
  },
  {
   "cell_type": "code",
   "execution_count": null,
   "metadata": {},
   "outputs": [],
   "source": [
    "# functions do not alter the flow of execution\n",
    "# instead flow of execution jumps from the current function call\n",
    "# to the statements in the body of the function\n",
    "# then returns to the statement that called the function\n",
    "#  - if within another function - flow proceeds in that function that invoked the function\n",
    "# after the function returns value or performs an action\n",
    "# flow of execution proceeds on to the next statement"
   ]
  },
  {
   "cell_type": "markdown",
   "metadata": {},
   "source": [
    "### once a `function` is `defined` \n",
    "### it can be `called inside` another `function`"
   ]
  },
  {
   "cell_type": "code",
   "execution_count": 242,
   "metadata": {},
   "outputs": [
    {
     "name": "stdout",
     "output_type": "stream",
     "text": [
      "Value of 'e': 2.718281828459045\n",
      "Value of 'e': 2.718281828459045\n"
     ]
    }
   ],
   "source": [
    "##Once a function is defined - it can be called inside another function\n",
    "\n",
    "def myFunction():\n",
    "    import math\n",
    "    print('Value of \\'e\\':',math.e)\n",
    "\n",
    "\n",
    "def myRussianDollFunction():\n",
    "    myFunction()\n",
    "    myFunction()\n",
    "\n",
    "myRussianDollFunction()"
   ]
  },
  {
   "cell_type": "code",
   "execution_count": 231,
   "metadata": {
    "scrolled": true
   },
   "outputs": [
    {
     "name": "stdout",
     "output_type": "stream",
     "text": [
      "1 : 0.6400156412587811\n",
      "2 : 0.5934279537466794\n",
      "3 : 0.08109400138244927\n",
      "4 : 0.44375224737978214\n",
      "5 : 0.5340995623905194\n"
     ]
    }
   ],
   "source": [
    "### Function definitions\n",
    "### specify the [name] and [sequence of statements]\n",
    "## that are executed when the function is called\n",
    "\n",
    "\n",
    "def print5RandomNumbers():\n",
    "    import random\n",
    "    \n",
    "    for i in range(5):\n",
    "        print(i+1,':',random.random())\n",
    "\n",
    "print5RandomNumbers()"
   ]
  },
  {
   "cell_type": "markdown",
   "metadata": {},
   "source": [
    "### functions must be defined before they are called\n",
    "statements inside functions are not executed unless function is called\n",
    "\n",
    "- Flow of control passed to the functionCall()\n",
    "- jumps to body of function - performs statements inside function definition\n",
    "- then proceeds to next statement"
   ]
  },
  {
   "cell_type": "code",
   "execution_count": null,
   "metadata": {},
   "outputs": [],
   "source": [
    "#Functions must be defined before they are called\n",
    "\n",
    "\n",
    "# anotherRussianDollFunction2()  #not defined yet\n",
    "\n",
    "def anotherFunction2():\n",
    "    print('Inside function print')\n",
    "\n",
    "def anotherRussianDollFunction2():\n",
    "    anotherFunction2()\n",
    "    anotherFunction2()\n",
    "    \n",
    "\n"
   ]
  },
  {
   "cell_type": "code",
   "execution_count": 239,
   "metadata": {},
   "outputs": [
    {
     "name": "stdout",
     "output_type": "stream",
     "text": [
      "Inside function print\n",
      "Inside function print\n"
     ]
    }
   ],
   "source": [
    "#Functions must be defined before they are called\n",
    "#**Call to function works  long as both functions are defined before called\n",
    "\n",
    "def anotherRussianDollFunction3():\n",
    "    anotherFunction3()\n",
    "    anotherFunction3()\n",
    "    \n",
    "def anotherFunction3():\n",
    "    print('Inside function print')\n",
    "    \n",
    "anotherRussianDollFunction3()  #not defined yet\n"
   ]
  },
  {
   "cell_type": "code",
   "execution_count": null,
   "metadata": {},
   "outputs": [],
   "source": [
    "#Functions are defined before they are called\n",
    "#**Call to function works  long as both functions are defined before called\n",
    "\n",
    "def anotherFunction1():\n",
    "    print('Inside function print')\n",
    "    \n",
    "def anotherRussianDollFunction1():\n",
    "    anotherFunction1()\n",
    "    anotherFunction1()\n",
    "\n",
    "anotherRussianDollFunction1()"
   ]
  },
  {
   "cell_type": "markdown",
   "metadata": {},
   "source": [
    "# `parameters` & `arguments`"
   ]
  },
  {
   "cell_type": "markdown",
   "metadata": {},
   "source": [
    "## parameters\n",
    "\n",
    "`input variables` inside a `function definition`\n",
    "\n",
    "- used to `define input`\n",
    "  - no parameters\n",
    "  - 1 parameter or more\n",
    "- or `create` a `default input`"
   ]
  },
  {
   "cell_type": "markdown",
   "metadata": {},
   "source": [
    "## arguments\n",
    "\n",
    "`values` that are `passed` to a function\n",
    "- can be an `expression` that evaluates to a value"
   ]
  },
  {
   "cell_type": "code",
   "execution_count": 243,
   "metadata": {},
   "outputs": [],
   "source": [
    "##Some functions have no parameters [take no argument]\n",
    "import random\n",
    "\n",
    "## no parameters\n",
    "randomNumber = random.random()"
   ]
  },
  {
   "cell_type": "code",
   "execution_count": 244,
   "metadata": {},
   "outputs": [
    {
     "data": {
      "text/plain": [
       "0.0"
      ]
     },
     "execution_count": 244,
     "metadata": {},
     "output_type": "execute_result"
    }
   ],
   "source": [
    "##Some functions have exactly 1 parameter [take 1 argument]\n",
    "import math\n",
    "\n",
    "math.sin(0)"
   ]
  },
  {
   "cell_type": "code",
   "execution_count": 23,
   "metadata": {},
   "outputs": [
    {
     "data": {
      "text/plain": [
       "4.0"
      ]
     },
     "execution_count": 23,
     "metadata": {},
     "output_type": "execute_result"
    }
   ],
   "source": [
    "##Some functions have multiple parameters [take multiple arguments]\n",
    "import math\n",
    "\n",
    "math.pow(2,2)\n",
    "\n",
    "#Same as [2**2.0]"
   ]
  },
  {
   "cell_type": "code",
   "execution_count": 246,
   "metadata": {},
   "outputs": [
    {
     "name": "stdout",
     "output_type": "stream",
     "text": [
      "9.869604401089358\n",
      "1.0\n"
     ]
    }
   ],
   "source": [
    "##User defined function with [parameter]\n",
    "\n",
    "##[Arguments] are [input] assigned to variables called [parameters]\n",
    "\n",
    "def raiseToPower2(baseInput):\n",
    "    \n",
    "    return baseInput ** 2\n",
    "    \n",
    "print(raiseToPower2(math.pi))\n",
    "print(raiseToPower2(math.cos(math.pi)))"
   ]
  },
  {
   "cell_type": "code",
   "execution_count": 247,
   "metadata": {},
   "outputs": [
    {
     "name": "stdout",
     "output_type": "stream",
     "text": [
      "31.006276680299816\n",
      "-1.0\n"
     ]
    }
   ],
   "source": [
    "##User defined function\n",
    "##Local variable [cubed] bound to parameter [argument] ** 3\n",
    "##[cubed] variable is returned as value of variable to calling function() - raiseToPower3(argument)\n",
    "\n",
    "def raiseToPower3(baseInput):\n",
    "    \n",
    "    cubed = baseInput ** 3\n",
    "    return cubed\n",
    "\n",
    "print(raiseToPower3(math.pi))\n",
    "print(raiseToPower3(math.cos(math.pi)))"
   ]
  },
  {
   "cell_type": "code",
   "execution_count": 248,
   "metadata": {},
   "outputs": [
    {
     "name": "stdout",
     "output_type": "stream",
     "text": [
      "32\n",
      "4.0\n",
      "22222\n"
     ]
    }
   ],
   "source": [
    "##Function parameters can take arguments that are [expressions]\n",
    "\n",
    "def inputReturn(input):\n",
    "    return input\n",
    "\n",
    "print(inputReturn(2**5))\n",
    "\n",
    "print(inputReturn(32/8))\n",
    "\n",
    "print(inputReturn('2' *5))"
   ]
  },
  {
   "cell_type": "markdown",
   "metadata": {},
   "source": [
    "# `default-parameters`\n",
    "\n",
    "some functions have default parameters"
   ]
  },
  {
   "cell_type": "code",
   "execution_count": 60,
   "metadata": {},
   "outputs": [
    {
     "name": "stdout",
     "output_type": "stream",
     "text": [
      "2.0\n",
      "<class 'float'>\n",
      "\n",
      "42.0\n",
      "<class 'float'>\n"
     ]
    }
   ],
   "source": [
    "def createFloatingPoint(inputParameter = 42.0):\n",
    "    \n",
    "    return 1.0 * inputParameter\n",
    "\n",
    "\n",
    "print(createFloatingPoint(2))\n",
    "print(type(createFloatingPoint(2)))\n",
    "\n",
    "print()\n",
    "\n",
    "print(createFloatingPoint())\n",
    "print(type(createFloatingPoint(2)))"
   ]
  },
  {
   "cell_type": "markdown",
   "metadata": {},
   "source": [
    "## `Fruitful functions` and `Void Functions`"
   ]
  },
  {
   "cell_type": "markdown",
   "metadata": {},
   "source": [
    "### `fruitful functions` yeild a value\n",
    "\n",
    "- some computation results in a `returned value`\n",
    "\n",
    "- that `value` is `used` or stored in a `variable`"
   ]
  },
  {
   "cell_type": "code",
   "execution_count": 24,
   "metadata": {},
   "outputs": [
    {
     "name": "stdout",
     "output_type": "stream",
     "text": [
      "<class 'float'>\n"
     ]
    }
   ],
   "source": [
    "##Some functions yield a return value [\"Fruitful functions\"]\n",
    "\n",
    "math.pi\n",
    "\n",
    "print(type(math.pi))"
   ]
  },
  {
   "cell_type": "markdown",
   "metadata": {},
   "source": [
    "### `void functions` do not yield a value\n",
    "\n",
    "  - instead can perform an action like `print()`\n",
    "  \n",
    "  - `void functions` are of `type - NoneType`"
   ]
  },
  {
   "cell_type": "code",
   "execution_count": 33,
   "metadata": {},
   "outputs": [
    {
     "name": "stdout",
     "output_type": "stream",
     "text": [
      "Hello World\n",
      "<class 'NoneType'>\n"
     ]
    }
   ],
   "source": [
    "##Some functions dont return a value [Void functions]\n",
    "\n",
    "def printFunction():\n",
    "    print('Hello World')\n",
    "\n",
    "printFunctionVariable = printFunction() # storing value of a [void function] in a variable results in 'NoneType'\n",
    "                                        # storing just the name 'printFunction' in variable - printFunctionVariable would\n",
    "print(type(printFunctionVariable))      # - result in - <class 'function'>"
   ]
  },
  {
   "cell_type": "markdown",
   "metadata": {},
   "source": [
    "## void function\n",
    "`noneType` performs an action\n",
    "\n",
    "#### vs\n",
    "\n",
    "## fruitful function\n",
    "`return` returns a value"
   ]
  },
  {
   "cell_type": "markdown",
   "metadata": {},
   "source": [
    "##### print or return print()\n",
    "\n",
    "- result in `void function` - `NoneType`\n",
    "\n",
    "##### returning a variable\n",
    "\n",
    "- results in a `fruitful function`\n",
    "\n",
    "`returning output type` - or `input type` if type has not changed"
   ]
  },
  {
   "cell_type": "code",
   "execution_count": 55,
   "metadata": {},
   "outputs": [
    {
     "name": "stdout",
     "output_type": "stream",
     "text": [
      "<class 'function'>\n",
      "Function no parameters\n",
      "<class 'NoneType'>\n",
      "\n",
      "<class 'function'>\n",
      "Hello function PRINT input + 'string'\n",
      "<class 'NoneType'>\n",
      "\n",
      "<class 'function'>\n",
      "Hello function RETURN input + 'string'\n",
      "<class 'NoneType'>\n",
      "\n"
     ]
    }
   ],
   "source": [
    "# void function - returns NoneType - result of print command\n",
    "\n",
    "def returnFunction1():\n",
    "    print('Function no parameters')\n",
    "    \n",
    "def returnFunction2(input):\n",
    "    print(input + ' function PRINT input + \\'string\\'')\n",
    "\n",
    "def returnFunction3(input):\n",
    "    return print(input + ' function RETURN input + \\'string\\'')\n",
    "\n",
    "\n",
    "print(type(returnFunction1))\n",
    "print(type(returnFunction1()))                     # print() - statement - NoneType return type\n",
    "print()\n",
    "\n",
    "print(type(returnFunction2))\n",
    "print(type(returnFunction2('Hello')))              # print() - statement - NoneType return type\n",
    "print()\n",
    "\n",
    "print(type(returnFunction3))\n",
    "print(type(returnFunction3('Hello')))              # return print() - statement - NoneType return type\n",
    "print()\n",
    "\n"
   ]
  },
  {
   "cell_type": "code",
   "execution_count": 51,
   "metadata": {},
   "outputs": [
    {
     "name": "stdout",
     "output_type": "stream",
     "text": [
      "<class 'function'>\n",
      "<class 'str'>\n"
     ]
    }
   ],
   "source": [
    "# fruitful function - returns 'string'\n",
    "\n",
    "def returnFunction4(input):\n",
    "    return input + ' function RETURN input + \\'string\\''\n",
    "\n",
    "\n",
    "print(type(returnFunction4))\n",
    "print(type(returnFunction4('Hello')))              # return input  - statement - return type same as input"
   ]
  },
  {
   "cell_type": "code",
   "execution_count": 53,
   "metadata": {},
   "outputs": [
    {
     "name": "stdout",
     "output_type": "stream",
     "text": [
      "<class 'float'>\n"
     ]
    }
   ],
   "source": [
    "# fruitful function - returns float\n",
    "\n",
    "def createFloat():\n",
    "    \n",
    "    import random\n",
    "    \n",
    "    return random.random() * 3.14\n",
    "\n",
    "print(type(createFloat()))"
   ]
  },
  {
   "cell_type": "code",
   "execution_count": 54,
   "metadata": {},
   "outputs": [
    {
     "name": "stdout",
     "output_type": "stream",
     "text": [
      "<class 'int'>\n",
      "\n",
      "Not an integer\n",
      "<class 'NoneType'>\n"
     ]
    }
   ],
   "source": [
    "# fruitful function intended\n",
    "# can be void function - if input is not able to be casted to integer\n",
    "\n",
    "def returnInteger(inputVariable):\n",
    "    try:\n",
    "        castedInteger = int(inputVariable)\n",
    "        return castedInteger\n",
    "    except:\n",
    "        print('\\nNot an integer')\n",
    "      \n",
    "\n",
    "print(type(returnInteger(2.718)))\n",
    "\n",
    "print(type(returnInteger('five')))"
   ]
  },
  {
   "cell_type": "markdown",
   "metadata": {},
   "source": [
    "# ommiting parameter argument that has default"
   ]
  },
  {
   "cell_type": "code",
   "execution_count": 36,
   "metadata": {},
   "outputs": [],
   "source": [
    "def functionExample(variableA, DEFAULTvariableB = 42, DEFAULTvariableC = 1):   # variable = DEFAULT\n",
    "    \n",
    "    print(variableA + str(DEFAULTvariableB ** DEFAULTvariableC))"
   ]
  },
  {
   "cell_type": "code",
   "execution_count": 37,
   "metadata": {},
   "outputs": [
    {
     "name": "stdout",
     "output_type": "stream",
     "text": [
      "The answer to life the universe and everything is 42\n"
     ]
    }
   ],
   "source": [
    "inputVariableA = 'The answer to life the universe and everything is '\n",
    "\n",
    "functionExample(inputVariableA)"
   ]
  },
  {
   "cell_type": "markdown",
   "metadata": {},
   "source": [
    "# to omit parameter\n",
    "pass the same `parameter variable` in the function definition as an assignment statement to desired value as an argument\n",
    "- must know variable name from function definition"
   ]
  },
  {
   "cell_type": "markdown",
   "metadata": {},
   "source": [
    "### without forcing a desired variable\n",
    "### function defaults to second parameter"
   ]
  },
  {
   "cell_type": "code",
   "execution_count": 45,
   "metadata": {},
   "outputs": [
    {
     "name": "stdout",
     "output_type": "stream",
     "text": [
      "The answer to life the universe and everything is 100\n"
     ]
    }
   ],
   "source": [
    "inputVariableA = 'The answer to life the universe and everything is '\n",
    "\n",
    "inputVariableB = 3.14\n",
    "\n",
    "newVALUE = 100\n",
    "\n",
    "\n",
    "functionExample(inputVariableA, newVALUE)"
   ]
  },
  {
   "cell_type": "markdown",
   "metadata": {},
   "source": [
    "### functionExample(inputVariableA, `DEFAULTvariableC = newVALUE`)"
   ]
  },
  {
   "cell_type": "code",
   "execution_count": 43,
   "metadata": {
    "scrolled": true
   },
   "outputs": [
    {
     "name": "stdout",
     "output_type": "stream",
     "text": [
      "The answer to life the universe and everything is 2113143741011360736530044045523113991698878330713580061264477934391564919875497777688215057732151811172029315247932158994879668553186145824710950394684126712037376\n"
     ]
    }
   ],
   "source": [
    "inputVariableA = 'The answer to life the universe and everything is '\n",
    "\n",
    "inputVariableB = 3.14\n",
    "\n",
    "newVALUE = 100\n",
    "\n",
    "\n",
    "functionExample(inputVariableA, DEFAULTvariableC = newVALUE)"
   ]
  },
  {
   "cell_type": "markdown",
   "metadata": {},
   "source": [
    "# `help(`functionName`)`"
   ]
  },
  {
   "cell_type": "code",
   "execution_count": 48,
   "metadata": {},
   "outputs": [
    {
     "name": "stdout",
     "output_type": "stream",
     "text": [
      "\n",
      "Help on NoneType object:\n",
      "\n",
      "class NoneType(object)\n",
      " |  Methods defined here:\n",
      " |  \n",
      " |  __bool__(self, /)\n",
      " |      self != 0\n",
      " |  \n",
      " |  __repr__(self, /)\n",
      " |      Return repr(self).\n",
      " |  \n",
      " |  ----------------------------------------------------------------------\n",
      " |  Static methods defined here:\n",
      " |  \n",
      " |  __new__(*args, **kwargs) from builtins.type\n",
      " |      Create and return a new object.  See help(type) for accurate signature.\n",
      "\n"
     ]
    }
   ],
   "source": [
    "help(print())"
   ]
  },
  {
   "cell_type": "code",
   "execution_count": 53,
   "metadata": {},
   "outputs": [
    {
     "name": "stdout",
     "output_type": "stream",
     "text": [
      "Help on built-in function log in module math:\n",
      "\n",
      "log(...)\n",
      "    log(x, [base=math.e])\n",
      "    Return the logarithm of x to the given base.\n",
      "    \n",
      "    If the base not specified, returns the natural logarithm (base e) of x.\n",
      "\n"
     ]
    }
   ],
   "source": [
    "help(log)"
   ]
  },
  {
   "cell_type": "markdown",
   "metadata": {},
   "source": [
    "# use cases"
   ]
  },
  {
   "cell_type": "code",
   "execution_count": null,
   "metadata": {},
   "outputs": [],
   "source": [
    "#### - NO FUNCTION\n",
    "\n",
    "inputName = input('What is your first initial: ')\n",
    "\n",
    "if inputName >= 'a' and inputName <= 'i':\n",
    "    print('Your name is between A & I')\n",
    "\n",
    "elif inputName > 'i' and inputName <= 'q':\n",
    "    print('Your name is between I & Q')\n",
    "\n",
    "elif inputName > 'q':\n",
    "    print('Your name is between R & Z')\n",
    "\n",
    "else:\n",
    "    print('That name is not within the conventions defined here')"
   ]
  },
  {
   "cell_type": "code",
   "execution_count": 27,
   "metadata": {},
   "outputs": [
    {
     "name": "stdout",
     "output_type": "stream",
     "text": [
      "What is your first initial: Optimus\n",
      "Your name is between I & Q\n"
     ]
    }
   ],
   "source": [
    "#### create a function to retrieve input - for reuse\n",
    "\n",
    "def getInputName():\n",
    "    return input('What is your first initial: ')\n",
    "\n",
    "def nameOrganize(inputName):\n",
    "\n",
    "    inputName = inputName.lower()\n",
    "    \n",
    "    if inputName >= 'a' and inputName <= 'i':\n",
    "        print('Your name is between A & I')\n",
    "\n",
    "    elif inputName > 'i' and inputName <= 'q':\n",
    "        print('Your name is between I & Q')\n",
    "\n",
    "    elif inputName > 'q':\n",
    "        print('Your name is between R & Z')\n",
    "        \n",
    "    else:\n",
    "        print('That name is not within the conventions defined here')\n",
    "              \n",
    "nameOrganize(getInputName())"
   ]
  },
  {
   "cell_type": "code",
   "execution_count": 22,
   "metadata": {},
   "outputs": [
    {
     "name": "stdout",
     "output_type": "stream",
     "text": [
      "Enter an integer: 2\n",
      "Enter an integer: 3\n",
      "6\n"
     ]
    }
   ],
   "source": [
    "#### create a function to retrieve input - for reuse\n",
    "\n",
    "# [ ] create and test multiply() function\n",
    "\n",
    "def getInt():\n",
    "    return input('Enter an integer: ')\n",
    "\n",
    "def multiply(input1,input2):\n",
    "    return str(int(input1)*int(input2))\n",
    "\n",
    "print(multiply(getInt(),getInt()))"
   ]
  },
  {
   "cell_type": "code",
   "execution_count": null,
   "metadata": {},
   "outputs": [],
   "source": [
    "####\n",
    "\n",
    "### or\n",
    "\n",
    "#def multiply(input1=input('Enter an integer: '),input2=input('Enter an integer: ')):\n",
    "#    return str(int(input1)*int(input2))\n",
    "\n",
    "### or \n",
    "\n",
    "def multiply(input1,input2):\n",
    "    return str(int(input1)*int(input2))\n",
    "\n",
    "print(multiply(input('Enter an integer: '),input('Enter an integer: ')))"
   ]
  },
  {
   "cell_type": "code",
   "execution_count": null,
   "metadata": {},
   "outputs": [],
   "source": [
    "####\n",
    "# [ ] create improved multiply() function and test with /, no argument, and an invalid operator ($)\n",
    "\n",
    "def getParam():\n",
    "    return input('Enter an integer: ')\n",
    "\n",
    "def getOperator():\n",
    "    return input('[*,/]: ')\n",
    "\n",
    "def multiplyDivide(input1,input2,input3):\n",
    "        \n",
    "    if input3 == '*':\n",
    "        return str(int(input1)*int(input2))\n",
    "    \n",
    "    elif input3 == '/':\n",
    "        return str(int(input1)/int(input2))\n",
    "    \n",
    "    else:\n",
    "        print('Invalid Operator')\n",
    "\n",
    "print(multiplyDivide(getParam(),getParam(),getOperator()))"
   ]
  }
 ],
 "metadata": {
  "kernelspec": {
   "display_name": "Python 3",
   "language": "python",
   "name": "python3"
  },
  "language_info": {
   "codemirror_mode": {
    "name": "ipython",
    "version": 3
   },
   "file_extension": ".py",
   "mimetype": "text/x-python",
   "name": "python",
   "nbconvert_exporter": "python",
   "pygments_lexer": "ipython3",
   "version": "3.7.1"
  }
 },
 "nbformat": 4,
 "nbformat_minor": 2
}
