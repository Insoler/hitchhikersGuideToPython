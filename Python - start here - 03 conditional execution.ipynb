{
 "cells": [
  {
   "cell_type": "markdown",
   "metadata": {},
   "source": [
    "# `Python`: Start Here\n",
    "## Conditional execution\n",
    " \n",
    " <img src=\"pythonLogo.png\" height=\"20%\" width=\"20%\"/>"
   ]
  },
  {
   "cell_type": "markdown",
   "metadata": {},
   "source": [
    "## Boolean values\n",
    "- represent True or False"
   ]
  },
  {
   "cell_type": "code",
   "execution_count": 2,
   "metadata": {},
   "outputs": [
    {
     "data": {
      "text/plain": [
       "True"
      ]
     },
     "execution_count": 2,
     "metadata": {},
     "output_type": "execute_result"
    }
   ],
   "source": [
    "True"
   ]
  },
  {
   "cell_type": "code",
   "execution_count": 3,
   "metadata": {},
   "outputs": [
    {
     "data": {
      "text/plain": [
       "False"
      ]
     },
     "execution_count": 3,
     "metadata": {},
     "output_type": "execute_result"
    }
   ],
   "source": [
    "False"
   ]
  },
  {
   "cell_type": "code",
   "execution_count": 5,
   "metadata": {},
   "outputs": [
    {
     "name": "stdout",
     "output_type": "stream",
     "text": [
      "True\n"
     ]
    }
   ],
   "source": [
    "escapeVelocityAchieved = True\n",
    "\n",
    "print(escapeVelocityAchieved)"
   ]
  },
  {
   "cell_type": "code",
   "execution_count": 8,
   "metadata": {},
   "outputs": [
    {
     "name": "stdout",
     "output_type": "stream",
     "text": [
      "<class 'bool'>\n"
     ]
    }
   ],
   "source": [
    "print(type(False))"
   ]
  },
  {
   "cell_type": "markdown",
   "metadata": {},
   "source": [
    "## Boolean 'String' Methods\n",
    "- return boolean value (True or False) for 'string'"
   ]
  },
  {
   "cell_type": "markdown",
   "metadata": {},
   "source": [
    "#### isalpha()\n",
    "#### islower()\n",
    "#### isupper()\n",
    "#### istitle()\n",
    "#### startswith('string')\n",
    "#### isalnum()\n",
    "#### isdigit()"
   ]
  },
  {
   "cell_type": "markdown",
   "metadata": {},
   "source": [
    "### isalpha()"
   ]
  },
  {
   "cell_type": "code",
   "execution_count": 35,
   "metadata": {},
   "outputs": [
    {
     "name": "stdout",
     "output_type": "stream",
     "text": [
      "True\n",
      "False\n"
     ]
    }
   ],
   "source": [
    "stringAlphabetical = 'alphabetical'\n",
    "\n",
    "stringBooleanTest = stringAlphabetical.isalpha()\n",
    "\n",
    "print(stringBooleanTest)\n",
    "\n",
    "\n",
    "\n",
    "stringBooleanTest = 'Are spaces [and/or] punctuation Alphabetical?'.isalpha()\n",
    "print(stringBooleanTest)"
   ]
  },
  {
   "cell_type": "markdown",
   "metadata": {},
   "source": [
    "### islower ()"
   ]
  },
  {
   "cell_type": "code",
   "execution_count": 7,
   "metadata": {},
   "outputs": [
    {
     "name": "stdout",
     "output_type": "stream",
     "text": [
      "False\n"
     ]
    }
   ],
   "source": [
    "stringAlphabetical = 'Alphabetical'\n",
    "\n",
    "stringBooleanTest = stringAlphabetical.islower()\n",
    "\n",
    "print(stringBooleanTest)"
   ]
  },
  {
   "cell_type": "markdown",
   "metadata": {},
   "source": [
    "### isupper()"
   ]
  },
  {
   "cell_type": "code",
   "execution_count": 9,
   "metadata": {},
   "outputs": [
    {
     "name": "stdout",
     "output_type": "stream",
     "text": [
      "True\n"
     ]
    }
   ],
   "source": [
    "stringAlphabetical = 'ALPHABETICAL'\n",
    "\n",
    "stringBooleanTest = stringAlphabetical.isupper()\n",
    "\n",
    "print(stringBooleanTest)"
   ]
  },
  {
   "cell_type": "markdown",
   "metadata": {},
   "source": [
    "### istitle()"
   ]
  },
  {
   "cell_type": "code",
   "execution_count": 13,
   "metadata": {},
   "outputs": [
    {
     "name": "stdout",
     "output_type": "stream",
     "text": [
      "True\n"
     ]
    }
   ],
   "source": [
    "stringAlphabetical = 'His Dark Materials'\n",
    "\n",
    "stringBooleanTest = stringAlphabetical.istitle()\n",
    "\n",
    "print(stringBooleanTest)"
   ]
  },
  {
   "cell_type": "markdown",
   "metadata": {},
   "source": [
    "### .startswith('string')"
   ]
  },
  {
   "cell_type": "code",
   "execution_count": 16,
   "metadata": {},
   "outputs": [
    {
     "name": "stdout",
     "output_type": "stream",
     "text": [
      "True\n"
     ]
    }
   ],
   "source": [
    "stringAlphabetical = 'Bowtie'\n",
    "\n",
    "stringBooleanTest = stringAlphabetical.startswith('B')\n",
    "\n",
    "print(stringBooleanTest)"
   ]
  },
  {
   "cell_type": "markdown",
   "metadata": {},
   "source": [
    "### isalnum()"
   ]
  },
  {
   "cell_type": "code",
   "execution_count": 23,
   "metadata": {},
   "outputs": [
    {
     "name": "stdout",
     "output_type": "stream",
     "text": [
      "True\n",
      "True\n",
      "True\n",
      "True\n"
     ]
    }
   ],
   "source": [
    "stringAlphabeticalA = 'AlphaNumerical010101'\n",
    "\n",
    "stringBooleanTestA = stringAlphabetical.isalnum()\n",
    "\n",
    "print(stringBooleanTest)\n",
    "\n",
    "\n",
    "\n",
    "stringAlphabeticalB = 'a'\n",
    "\n",
    "stringBooleanTestB = stringAlphabetical.isalnum()\n",
    "\n",
    "print(stringBooleanTest)\n",
    "\n",
    "\n",
    "\n",
    "stringAlphabeticalB = '!@#'\n",
    "\n",
    "stringBooleanTestB = stringAlphabetical.isalnum()\n",
    "\n",
    "print(stringBooleanTest)\n",
    "\n",
    "\n",
    "\n",
    "stringAlphabeticalB = '1'\n",
    "\n",
    "stringBooleanTestB = stringAlphabetical.isalnum()\n",
    "\n",
    "print(stringBooleanTest)"
   ]
  },
  {
   "cell_type": "markdown",
   "metadata": {},
   "source": [
    "### isdigit()"
   ]
  },
  {
   "cell_type": "code",
   "execution_count": 26,
   "metadata": {},
   "outputs": [
    {
     "name": "stdout",
     "output_type": "stream",
     "text": [
      "True\n"
     ]
    }
   ],
   "source": [
    "stringDigit = '42'                               # must be a 'string' number\n",
    "\n",
    "stringBooleanTest = stringDigit.isdigit()\n",
    "\n",
    "print(stringBooleanTest)"
   ]
  },
  {
   "cell_type": "markdown",
   "metadata": {},
   "source": [
    "## LOOPS INVOLVING 'string'.methods()"
   ]
  },
  {
   "cell_type": "code",
   "execution_count": 36,
   "metadata": {},
   "outputs": [
    {
     "name": "stdout",
     "output_type": "stream",
     "text": [
      "Enter a word: A\n",
      "A\n"
     ]
    }
   ],
   "source": [
    "# BOOLEAN FLAG\n",
    "\n",
    "findWord = False\n",
    "\n",
    "while not findWord:\n",
    "    \n",
    "    enterWord = input('Enter a word: ')\n",
    "    \n",
    "    if enterWord.isalpha():\n",
    "        findWord = True\n",
    "        \n",
    "    else:\n",
    "        print('Enter a word only')\n",
    "    \n",
    "    print(enterWord)"
   ]
  },
  {
   "cell_type": "code",
   "execution_count": null,
   "metadata": {},
   "outputs": [],
   "source": []
  },
  {
   "cell_type": "code",
   "execution_count": null,
   "metadata": {},
   "outputs": [],
   "source": []
  },
  {
   "cell_type": "markdown",
   "metadata": {},
   "source": [
    "## Comparison Operators\n",
    "- also called relational operators\n",
    "- perform a comparison of values\n",
    "and decide if the relation among them is True of False\n",
    "- Return a value of True or False"
   ]
  },
  {
   "cell_type": "code",
   "execution_count": null,
   "metadata": {},
   "outputs": [],
   "source": [
    "# ==\n",
    "#!=\n",
    "# >\n",
    "# >=\n",
    "# <\n",
    "# <=\n",
    "# >"
   ]
  },
  {
   "cell_type": "code",
   "execution_count": null,
   "metadata": {},
   "outputs": [],
   "source": [
    "# Equal to                   =="
   ]
  },
  {
   "cell_type": "code",
   "execution_count": null,
   "metadata": {},
   "outputs": [],
   "source": [
    "# Not equal to               !="
   ]
  },
  {
   "cell_type": "code",
   "execution_count": null,
   "metadata": {},
   "outputs": [],
   "source": [
    "# Greater than               >"
   ]
  },
  {
   "cell_type": "code",
   "execution_count": null,
   "metadata": {},
   "outputs": [],
   "source": [
    "# Greater than or equal to   >="
   ]
  },
  {
   "cell_type": "code",
   "execution_count": null,
   "metadata": {},
   "outputs": [],
   "source": [
    "# Less than                  <"
   ]
  },
  {
   "cell_type": "code",
   "execution_count": null,
   "metadata": {},
   "outputs": [],
   "source": [
    "# Less than or equal to      <="
   ]
  },
  {
   "cell_type": "code",
   "execution_count": 3,
   "metadata": {},
   "outputs": [],
   "source": [
    "x = 2.718\n",
    "\n",
    "y = 3.14\n",
    "\n",
    "i = 42\n",
    "\n",
    "j = 36"
   ]
  },
  {
   "cell_type": "markdown",
   "metadata": {},
   "source": [
    "## ==\n",
    "\n",
    " equal to"
   ]
  },
  {
   "cell_type": "code",
   "execution_count": 4,
   "metadata": {},
   "outputs": [
    {
     "data": {
      "text/plain": [
       "False"
      ]
     },
     "execution_count": 4,
     "metadata": {},
     "output_type": "execute_result"
    }
   ],
   "source": [
    "# Equal to             ==\n",
    "\n",
    "x == y"
   ]
  },
  {
   "cell_type": "markdown",
   "metadata": {},
   "source": [
    "## !=\n",
    "\n",
    " not equal to"
   ]
  },
  {
   "cell_type": "code",
   "execution_count": 5,
   "metadata": {},
   "outputs": [
    {
     "data": {
      "text/plain": [
       "True"
      ]
     },
     "execution_count": 5,
     "metadata": {},
     "output_type": "execute_result"
    }
   ],
   "source": [
    "# NOT equal to         !=\n",
    "\n",
    "i != j"
   ]
  },
  {
   "cell_type": "markdown",
   "metadata": {},
   "source": [
    "## >\n",
    "\n",
    " greater than"
   ]
  },
  {
   "cell_type": "code",
   "execution_count": 6,
   "metadata": {},
   "outputs": [
    {
     "data": {
      "text/plain": [
       "True"
      ]
     },
     "execution_count": 6,
     "metadata": {},
     "output_type": "execute_result"
    }
   ],
   "source": [
    "# Greater or equal to  >=\n",
    "\n",
    "i >= j"
   ]
  },
  {
   "cell_type": "markdown",
   "metadata": {},
   "source": [
    "## >=\n",
    "\n",
    " greater than or equal to"
   ]
  },
  {
   "cell_type": "code",
   "execution_count": 7,
   "metadata": {},
   "outputs": [
    {
     "data": {
      "text/plain": [
       "True"
      ]
     },
     "execution_count": 7,
     "metadata": {},
     "output_type": "execute_result"
    }
   ],
   "source": [
    "# Greater than         >\n",
    "\n",
    "i > j"
   ]
  },
  {
   "cell_type": "markdown",
   "metadata": {},
   "source": [
    "## <\n",
    "\n",
    " less than"
   ]
  },
  {
   "cell_type": "code",
   "execution_count": 8,
   "metadata": {},
   "outputs": [
    {
     "data": {
      "text/plain": [
       "False"
      ]
     },
     "execution_count": 8,
     "metadata": {},
     "output_type": "execute_result"
    }
   ],
   "source": [
    "# Less or equal to     <=\n",
    "\n",
    "i <= j"
   ]
  },
  {
   "cell_type": "markdown",
   "metadata": {},
   "source": [
    "## <=\n",
    "\n",
    " less than or equal to"
   ]
  },
  {
   "cell_type": "code",
   "execution_count": 9,
   "metadata": {},
   "outputs": [
    {
     "data": {
      "text/plain": [
       "False"
      ]
     },
     "execution_count": 9,
     "metadata": {},
     "output_type": "execute_result"
    }
   ],
   "source": [
    "# Less than            <\n",
    "\n",
    "i < j"
   ]
  },
  {
   "cell_type": "markdown",
   "metadata": {},
   "source": [
    "## Boolean expressions - expressions which evaluate to True or False\n",
    "- like expressions involving groups (types) of basic forms of data (values - constants & literals)\n",
    "- involve basic forms of data (types) but evalutate and produce a - boolean value (True/False)\n",
    "- use comparison operators to yield boolean value - do not change values of variables or constants"
   ]
  },
  {
   "cell_type": "markdown",
   "metadata": {},
   "source": [
    "## Logical Operators\n",
    "- The operands of logical operators should be boolean expressions, in Python, numbers will yeild True in these expressions"
   ]
  },
  {
   "cell_type": "markdown",
   "metadata": {},
   "source": [
    "## and\n",
    "logical and"
   ]
  },
  {
   "cell_type": "code",
   "execution_count": 34,
   "metadata": {},
   "outputs": [
    {
     "data": {
      "text/plain": [
       "False"
      ]
     },
     "execution_count": 34,
     "metadata": {},
     "output_type": "execute_result"
    }
   ],
   "source": [
    "# Logical AND             and\n",
    "\n",
    "True and False"
   ]
  },
  {
   "cell_type": "markdown",
   "metadata": {},
   "source": [
    "## or\n",
    "logical or"
   ]
  },
  {
   "cell_type": "code",
   "execution_count": 35,
   "metadata": {},
   "outputs": [
    {
     "data": {
      "text/plain": [
       "True"
      ]
     },
     "execution_count": 35,
     "metadata": {},
     "output_type": "execute_result"
    }
   ],
   "source": [
    "# Logical OR              or\n",
    "\n",
    "True or False"
   ]
  },
  {
   "cell_type": "markdown",
   "metadata": {},
   "source": [
    "## not\n",
    "logical not"
   ]
  },
  {
   "cell_type": "code",
   "execution_count": 32,
   "metadata": {},
   "outputs": [
    {
     "data": {
      "text/plain": [
       "False"
      ]
     },
     "execution_count": 32,
     "metadata": {},
     "output_type": "execute_result"
    }
   ],
   "source": [
    "# Logical NOT              not\n",
    "\n",
    "not True"
   ]
  },
  {
   "cell_type": "markdown",
   "metadata": {},
   "source": [
    "## Logical expressions - compound boolean expressions\n",
    "- use logical operators to compare boolean expressions"
   ]
  },
  {
   "cell_type": "markdown",
   "metadata": {},
   "source": [
    "## Compound boolean expression\n",
    "- Using any logical operator with operand(s) creates a compound expression\n"
   ]
  },
  {
   "cell_type": "code",
   "execution_count": 15,
   "metadata": {},
   "outputs": [],
   "source": [
    "i = 2.718\n",
    "\n",
    "j = 3.14\n",
    "\n",
    "k = 'newton meters'"
   ]
  },
  {
   "cell_type": "markdown",
   "metadata": {},
   "source": [
    "## monadic operator (operates on single operand)   - [not]"
   ]
  },
  {
   "cell_type": "code",
   "execution_count": 31,
   "metadata": {},
   "outputs": [
    {
     "data": {
      "text/plain": [
       "False"
      ]
     },
     "execution_count": 31,
     "metadata": {},
     "output_type": "execute_result"
    }
   ],
   "source": [
    "not i"
   ]
  },
  {
   "cell_type": "markdown",
   "metadata": {},
   "source": [
    "## diadic operator (operates on miltiple operands) - [and] [or]"
   ]
  },
  {
   "cell_type": "code",
   "execution_count": 17,
   "metadata": {},
   "outputs": [
    {
     "data": {
      "text/plain": [
       "True"
      ]
     },
     "execution_count": 17,
     "metadata": {},
     "output_type": "execute_result"
    }
   ],
   "source": [
    "# Logical AND             and\n",
    "\n",
    "i < j and i != k"
   ]
  },
  {
   "cell_type": "code",
   "execution_count": 17,
   "metadata": {},
   "outputs": [
    {
     "data": {
      "text/plain": [
       "True"
      ]
     },
     "execution_count": 17,
     "metadata": {},
     "output_type": "execute_result"
    }
   ],
   "source": [
    "# Logical OR              or\n",
    "\n",
    "i < j and i != k"
   ]
  },
  {
   "cell_type": "markdown",
   "metadata": {},
   "source": [
    "## Short-circuit evaluation\n",
    "- diadic operators create compound boolean expressions\n",
    "- the first value can determine if the compound expressions finished evaluation"
   ]
  },
  {
   "cell_type": "markdown",
   "metadata": {},
   "source": [
    "### short-circuit [and]\n",
    "- both operands must be True for True\n",
    "- only one operand must be False for False"
   ]
  },
  {
   "cell_type": "code",
   "execution_count": 38,
   "metadata": {},
   "outputs": [
    {
     "data": {
      "text/plain": [
       "True"
      ]
     },
     "execution_count": 38,
     "metadata": {},
     "output_type": "execute_result"
    }
   ],
   "source": [
    "# short-circuit       and\n",
    "\n",
    "True and True"
   ]
  },
  {
   "cell_type": "code",
   "execution_count": 36,
   "metadata": {},
   "outputs": [
    {
     "data": {
      "text/plain": [
       "False"
      ]
     },
     "execution_count": 36,
     "metadata": {},
     "output_type": "execute_result"
    }
   ],
   "source": [
    "# short-circuit       and\n",
    "\n",
    "True and False"
   ]
  },
  {
   "cell_type": "code",
   "execution_count": 37,
   "metadata": {},
   "outputs": [
    {
     "data": {
      "text/plain": [
       "False"
      ]
     },
     "execution_count": 37,
     "metadata": {},
     "output_type": "execute_result"
    }
   ],
   "source": [
    "# short-circuit       and\n",
    "\n",
    "False and True"
   ]
  },
  {
   "cell_type": "markdown",
   "metadata": {},
   "source": [
    "### short-circuit [or]\n",
    "- only one operand must be True for True"
   ]
  },
  {
   "cell_type": "code",
   "execution_count": 35,
   "metadata": {},
   "outputs": [
    {
     "data": {
      "text/plain": [
       "True"
      ]
     },
     "execution_count": 35,
     "metadata": {},
     "output_type": "execute_result"
    }
   ],
   "source": [
    "# short-circuit       or\n",
    "\n",
    "True or False"
   ]
  },
  {
   "cell_type": "code",
   "execution_count": 39,
   "metadata": {},
   "outputs": [
    {
     "data": {
      "text/plain": [
       "True"
      ]
     },
     "execution_count": 39,
     "metadata": {},
     "output_type": "execute_result"
    }
   ],
   "source": [
    "# short-circuit       or\n",
    "\n",
    "False or True"
   ]
  },
  {
   "cell_type": "markdown",
   "metadata": {},
   "source": [
    "## In Python -  numbers will yeild True in these expressions"
   ]
  },
  {
   "cell_type": "markdown",
   "metadata": {},
   "source": [
    "### Numbers yield true - and - short circuit\n",
    "- AND short circuit yields LAST true value - yields boolean literal"
   ]
  },
  {
   "cell_type": "code",
   "execution_count": 22,
   "metadata": {},
   "outputs": [
    {
     "name": "stdout",
     "output_type": "stream",
     "text": [
      "3.14\n"
     ]
    }
   ],
   "source": [
    "i = 2.718\n",
    "\n",
    "j = 3.14\n",
    "\n",
    "print(i and j)    # j is returned - short circuit evaluation - numbers are true\n",
    "                  # both literals - treated as boolean values - must be evaluated\n",
    "                  # j - literal value returned as true"
   ]
  },
  {
   "cell_type": "code",
   "execution_count": 28,
   "metadata": {},
   "outputs": [
    {
     "name": "stdout",
     "output_type": "stream",
     "text": [
      "True\n",
      "False\n",
      "False\n",
      "True\n",
      "2.718\n",
      "False\n",
      "False\n",
      "False\n"
     ]
    }
   ],
   "source": [
    "# yields the number as boolean value\n",
    "# AND short circuit yields LAST true value - yields boolean literal\n",
    "\n",
    "print(i and True)\n",
    "print(i and not True)\n",
    "\n",
    "print(i and False)\n",
    "print(i and not False)\n",
    "\n",
    "print(True and i)\n",
    "print(True and not i)\n",
    "\n",
    "print(False and i)\n",
    "print(False and not i)"
   ]
  },
  {
   "cell_type": "markdown",
   "metadata": {},
   "source": [
    "### Numbers yield true - or - short circuit\n",
    "- OR short circuit yields FIRST true value - yields boolean literal"
   ]
  },
  {
   "cell_type": "code",
   "execution_count": 21,
   "metadata": {},
   "outputs": [
    {
     "name": "stdout",
     "output_type": "stream",
     "text": [
      "2.718\n"
     ]
    }
   ],
   "source": [
    "i = 2.718\n",
    "\n",
    "j = 3.14\n",
    "\n",
    "print(i or j)    # i is returned - short circuit evaluation - numbers are true\n",
    "                 # i - literal value returned as true"
   ]
  },
  {
   "cell_type": "code",
   "execution_count": 27,
   "metadata": {},
   "outputs": [
    {
     "name": "stdout",
     "output_type": "stream",
     "text": [
      "2.718\n",
      "2.718\n",
      "2.718\n",
      "2.718\n",
      "True\n",
      "True\n",
      "2.718\n",
      "False\n"
     ]
    }
   ],
   "source": [
    "# yields the number as boolean value\n",
    "# OR short circuit yields FIRST true value - yields boolean literal\n",
    "\n",
    "print(i or True)\n",
    "print(i or not True)\n",
    "\n",
    "print(i or False)\n",
    "print(i or not False)\n",
    "\n",
    "print(True or i)\n",
    "print(True or not i)\n",
    "\n",
    "print(False or i)\n",
    "print(False or not i)"
   ]
  },
  {
   "cell_type": "markdown",
   "metadata": {},
   "source": [
    "### Numbers yield true - not - negation operator"
   ]
  },
  {
   "cell_type": "code",
   "execution_count": 24,
   "metadata": {},
   "outputs": [
    {
     "name": "stdout",
     "output_type": "stream",
     "text": [
      "False\n"
     ]
    }
   ],
   "source": [
    "i = 2.718\n",
    "\n",
    "j = 3.14\n",
    "\n",
    "print(not j)    # not j - literal value returned as false"
   ]
  },
  {
   "cell_type": "markdown",
   "metadata": {},
   "source": [
    "## Membership Operators\n",
    "boolean test for 'string' value membership in a sequence\n",
    "- strings\n",
    "- lists\n",
    "- tuples.\n",
    "\n",
    "#### both operands must be 'strings'\n",
    "#### comparing 'strings' is 'CASE' 'sensitive'"
   ]
  },
  {
   "cell_type": "markdown",
   "metadata": {},
   "source": [
    "## in"
   ]
  },
  {
   "cell_type": "code",
   "execution_count": 39,
   "metadata": {},
   "outputs": [
    {
     "data": {
      "text/plain": [
       "True"
      ]
     },
     "execution_count": 39,
     "metadata": {},
     "output_type": "execute_result"
    }
   ],
   "source": [
    "'s' in 'string'"
   ]
  },
  {
   "cell_type": "code",
   "execution_count": 41,
   "metadata": {},
   "outputs": [
    {
     "data": {
      "text/plain": [
       "False"
      ]
     },
     "execution_count": 41,
     "metadata": {},
     "output_type": "execute_result"
    }
   ],
   "source": [
    "'s' in 'string'.upper()"
   ]
  },
  {
   "cell_type": "code",
   "execution_count": 44,
   "metadata": {},
   "outputs": [
    {
     "data": {
      "text/plain": [
       "True"
      ]
     },
     "execution_count": 44,
     "metadata": {},
     "output_type": "execute_result"
    }
   ],
   "source": [
    "effects = 'Bowtie, screwdriver, fez'\n",
    "\n",
    "'bowtie'.capitalize() in effects"
   ]
  },
  {
   "cell_type": "markdown",
   "metadata": {},
   "source": [
    "## not in"
   ]
  },
  {
   "cell_type": "code",
   "execution_count": 40,
   "metadata": {},
   "outputs": [
    {
     "data": {
      "text/plain": [
       "False"
      ]
     },
     "execution_count": 40,
     "metadata": {},
     "output_type": "execute_result"
    }
   ],
   "source": [
    "'s' not in 'string'"
   ]
  },
  {
   "cell_type": "code",
   "execution_count": 42,
   "metadata": {},
   "outputs": [
    {
     "data": {
      "text/plain": [
       "True"
      ]
     },
     "execution_count": 42,
     "metadata": {},
     "output_type": "execute_result"
    }
   ],
   "source": [
    "'s' not in 'string'.upper()"
   ]
  },
  {
   "cell_type": "code",
   "execution_count": 45,
   "metadata": {},
   "outputs": [
    {
     "data": {
      "text/plain": [
       "False"
      ]
     },
     "execution_count": 45,
     "metadata": {},
     "output_type": "execute_result"
    }
   ],
   "source": [
    "effects = ['bowtie','screwdriver','fez']\n",
    "\n",
    "'bowtie' not in effects"
   ]
  },
  {
   "cell_type": "markdown",
   "metadata": {},
   "source": [
    "## 'string'.methods() to remove case error"
   ]
  },
  {
   "cell_type": "code",
   "execution_count": 51,
   "metadata": {},
   "outputs": [
    {
     "data": {
      "text/plain": [
       "True"
      ]
     },
     "execution_count": 51,
     "metadata": {},
     "output_type": "execute_result"
    }
   ],
   "source": [
    "effects = 'bowtie' + 'screwdriver' + 'fez'      # list - has no .lower() method\n",
    "\n",
    "searchItem = 'BOWTIE'\n",
    "\n",
    "searchItem.lower() in effects.lower()"
   ]
  },
  {
   "cell_type": "code",
   "execution_count": 54,
   "metadata": {},
   "outputs": [
    {
     "data": {
      "text/plain": [
       "True"
      ]
     },
     "execution_count": 54,
     "metadata": {},
     "output_type": "execute_result"
    }
   ],
   "source": [
    "effects = ['bowtie' , 'screwdriver' , 'fez']      # list - has no .lower() method\n",
    "\n",
    "searchItem = 'BOWTIE'\n",
    "\n",
    "searchItem.lower() in effects                     # no .lower() on list variable"
   ]
  },
  {
   "cell_type": "markdown",
   "metadata": {},
   "source": [
    "## input() membership test"
   ]
  },
  {
   "cell_type": "code",
   "execution_count": 61,
   "metadata": {},
   "outputs": [
    {
     "name": "stdout",
     "output_type": "stream",
     "text": [
      "Search for item in list: tie\n"
     ]
    },
    {
     "data": {
      "text/plain": [
       "True"
      ]
     },
     "execution_count": 61,
     "metadata": {},
     "output_type": "execute_result"
    }
   ],
   "source": [
    "effects = 'bowtie' + 'screwdriver' + 'fez'        # list - has no .lower() method\n",
    "\n",
    "testValue = input('Search for item in list: ')\n",
    "\n",
    "\n",
    "testValue.lower() in effects                      # if input - 'tie' --> True - searches 'string' sequence"
   ]
  },
  {
   "cell_type": "code",
   "execution_count": 62,
   "metadata": {},
   "outputs": [
    {
     "name": "stdout",
     "output_type": "stream",
     "text": [
      "Search for item in list: tie\n"
     ]
    },
    {
     "data": {
      "text/plain": [
       "False"
      ]
     },
     "execution_count": 62,
     "metadata": {},
     "output_type": "execute_result"
    }
   ],
   "source": [
    "effects = ['bowtie' , 'screwdriver' , 'fez']      # list - has no .lower() method\n",
    "\n",
    "testValue = input('Search for item in list: ')\n",
    "\n",
    "\n",
    "testValue.lower() in effects                      # if input - 'tie' --> False - searches list sequence\n",
    "                                                  # 'string' element - must be exact match"
   ]
  },
  {
   "cell_type": "markdown",
   "metadata": {},
   "source": [
    "## input() add to variable\n",
    "## membership test"
   ]
  },
  {
   "cell_type": "code",
   "execution_count": 64,
   "metadata": {},
   "outputs": [
    {
     "name": "stdout",
     "output_type": "stream",
     "text": [
      "Enter value to add to string: tardis\n",
      "Enter value to search string for: TARDIS\n"
     ]
    },
    {
     "data": {
      "text/plain": [
       "True"
      ]
     },
     "execution_count": 64,
     "metadata": {},
     "output_type": "execute_result"
    }
   ],
   "source": [
    "effects = 'bowtie' + 'screwdriver' + 'fez'               # list - has no .lower() method\n",
    "\n",
    "\n",
    "valueAdd = input('Enter value to add to string: ')\n",
    "\n",
    "effects += ' ' + valueAdd\n",
    "\n",
    "\n",
    "valueSearch = input('Enter value to search string for: ')\n",
    "\n",
    "\n",
    "valueSearch.lower() in effects"
   ]
  },
  {
   "cell_type": "markdown",
   "metadata": {},
   "source": [
    "## Identity Operators\n",
    "- compare test of memory location of objects"
   ]
  },
  {
   "cell_type": "markdown",
   "metadata": {},
   "source": [
    "## is"
   ]
  },
  {
   "cell_type": "code",
   "execution_count": null,
   "metadata": {},
   "outputs": [],
   "source": []
  },
  {
   "cell_type": "markdown",
   "metadata": {},
   "source": [
    "## is not"
   ]
  },
  {
   "cell_type": "code",
   "execution_count": null,
   "metadata": {},
   "outputs": [],
   "source": []
  },
  {
   "cell_type": "markdown",
   "metadata": {},
   "source": [
    "# Conditional execution\n",
    "\n",
    "#### if statement\n",
    "- control of flow (to change behavior of program accordingly)\n",
    "- check for condition test\n",
    "- perform group of statements, if condition test is met\n",
    "<br/>\n",
    "\n",
    "#### elif statement\n",
    "- perform secondary, tertiary etc group of statements\n",
    "if previous condition test is NOT met\n",
    "secondary, tertiary etc statement is met\n",
    "<br/>\n",
    "\n",
    "#### if - else statement\n",
    "- force execution of group of statements if first test is False\n",
    "<br/>\n",
    "\n",
    "#### pass statement\n",
    "- pass - or do nothing if condition is true"
   ]
  },
  {
   "cell_type": "markdown",
   "metadata": {},
   "source": [
    "# if - statement\n",
    "- check for condition test\n",
    "- perform group of statements, if condition test is met"
   ]
  },
  {
   "cell_type": "code",
   "execution_count": 40,
   "metadata": {},
   "outputs": [
    {
     "name": "stdout",
     "output_type": "stream",
     "text": [
      "if statement executed\n"
     ]
    }
   ],
   "source": [
    "# if - statement\n",
    "\n",
    "if True:                                  # boolean expression is condition test\n",
    "       \n",
    "        print('if statement executed')    \n",
    "                                          # if value is True  - group of statements are executed\n",
    "                                          # if value is False - group of statements are skipped\n"
   ]
  },
  {
   "cell_type": "code",
   "execution_count": 48,
   "metadata": {},
   "outputs": [],
   "source": [
    "# if - statement\n",
    "\n",
    "if False:                                 # boolean expression is condition test\n",
    "       \n",
    "        print('if statement executed')    \n",
    "                                          # if value is True  - group of statements are executed\n",
    "                                          # if value is False - group of statements are skipped\n"
   ]
  },
  {
   "cell_type": "markdown",
   "metadata": {},
   "source": [
    "## [conditional execution]\n",
    "- at most N statements or N-1"
   ]
  },
  {
   "cell_type": "markdown",
   "metadata": {},
   "source": [
    "#### if - seperate condition\n",
    "#### if- seperate condition"
   ]
  },
  {
   "cell_type": "code",
   "execution_count": 51,
   "metadata": {},
   "outputs": [
    {
     "name": "stdout",
     "output_type": "stream",
     "text": [
      "2nd if statement executed\n"
     ]
    }
   ],
   "source": [
    "if False:\n",
    "    print('1st if statement executed')\n",
    "    \n",
    "if True:\n",
    "    print('2nd if statement executed')\n",
    "\n",
    "if False:\n",
    "    print('3rd if statement executed')"
   ]
  },
  {
   "cell_type": "markdown",
   "metadata": {},
   "source": [
    "# if - else - statement\n",
    "- check for condition test\n",
    "- perform group of statements, if condition test is met\n",
    "- at least 1 statement is executed if conditions are not met"
   ]
  },
  {
   "cell_type": "code",
   "execution_count": 48,
   "metadata": {},
   "outputs": [],
   "source": [
    "# if-else - statement\n",
    "\n",
    "if True:                                  # boolean expression is condition test\n",
    "    print('1st if statement executed')\n",
    "                                          # if value is True  - group of statements are executed\n",
    "else:\n",
    "    print('2nd if statement executed')\n",
    "                                          # if value is False - group of statements are skipped"
   ]
  },
  {
   "cell_type": "code",
   "execution_count": 49,
   "metadata": {},
   "outputs": [
    {
     "name": "stdout",
     "output_type": "stream",
     "text": [
      "2nd if statement executed\n"
     ]
    }
   ],
   "source": [
    "# if-else - statement\n",
    "\n",
    "if False:                                  # boolean expression is condition test\n",
    "    print('1st if statement executed')\n",
    "                                           # if value is True  - group of statements are executed\n",
    "else:\n",
    "    print('2nd if statement executed')\n",
    "                                           # if value is False - group of statements are skipped"
   ]
  },
  {
   "cell_type": "markdown",
   "metadata": {},
   "source": [
    "## [alternative execution]\n",
    "- at least N statments\n",
    "- at least 1 possibility is executed in conditional\n",
    "- alternative conditions are called branches"
   ]
  },
  {
   "cell_type": "markdown",
   "metadata": {},
   "source": [
    "#### if - condition A\n",
    "#### else - condition B"
   ]
  },
  {
   "cell_type": "code",
   "execution_count": 45,
   "metadata": {},
   "outputs": [
    {
     "name": "stdout",
     "output_type": "stream",
     "text": [
      "1st if statement executed\n"
     ]
    }
   ],
   "source": [
    "if True:\n",
    "    print('1st if statement executed')\n",
    "    \n",
    "else:\n",
    "    print('2nd if statement executed')\n"
   ]
  },
  {
   "cell_type": "code",
   "execution_count": 46,
   "metadata": {},
   "outputs": [
    {
     "name": "stdout",
     "output_type": "stream",
     "text": [
      "2nd if statement executed\n"
     ]
    }
   ],
   "source": [
    "if False:\n",
    "    print('1st if statement executed')\n",
    "    \n",
    "else:\n",
    "    print('2nd if statement executed')\n"
   ]
  },
  {
   "cell_type": "markdown",
   "metadata": {},
   "source": [
    "# if - elif - statement\n",
    "- check for condition test\n",
    "- perform group of statements, if condition test is met\n",
    "- in chain of conditions - only 1 code block is executed"
   ]
  },
  {
   "cell_type": "code",
   "execution_count": 56,
   "metadata": {},
   "outputs": [
    {
     "name": "stdout",
     "output_type": "stream",
     "text": [
      "2nd if statement executed\n"
     ]
    }
   ],
   "source": [
    "# if-elif - statement\n",
    "\n",
    "if False:                                  # boolean expression is condition test\n",
    "    print('1st if statement executed')\n",
    "                                           # if value is False - group of statements are skipped\n",
    "elif True:\n",
    "    print('2nd if statement executed')\n",
    "                                           # if value is True  - group of statements are executed"
   ]
  },
  {
   "cell_type": "code",
   "execution_count": 58,
   "metadata": {},
   "outputs": [
    {
     "name": "stdout",
     "output_type": "stream",
     "text": [
      "1st if statement executed\n"
     ]
    }
   ],
   "source": [
    "# if-elif - statement\n",
    "\n",
    "if True:                                  # boolean expression is condition test\n",
    "    print('1st if statement executed')\n",
    "                                          # if value is True  - group of statements are executed\n",
    "elif True:\n",
    "    print('2nd if statement executed')\n",
    "                                          # if prior conditional in chain is True - group of statements are skipped"
   ]
  },
  {
   "cell_type": "markdown",
   "metadata": {},
   "source": [
    "## [chained execution]\n",
    "- at most N statements or N-1\n",
    "- for more than 2 possibilities\n",
    "- or more than 1 specific condition"
   ]
  },
  {
   "cell_type": "markdown",
   "metadata": {},
   "source": [
    "#### if - condition A\n",
    "#### elif - condition B\n",
    "#### elif - condition C"
   ]
  },
  {
   "cell_type": "code",
   "execution_count": 61,
   "metadata": {},
   "outputs": [
    {
     "name": "stdout",
     "output_type": "stream",
     "text": [
      "2nd elif statement executed\n"
     ]
    }
   ],
   "source": [
    "if False:\n",
    "    print('1st elif statement executed')\n",
    "    \n",
    "elif True:\n",
    "    print('2nd elif statement executed')\n",
    "\n",
    "elif True:\n",
    "    print('3rd elif statement executed')"
   ]
  },
  {
   "cell_type": "code",
   "execution_count": 62,
   "metadata": {},
   "outputs": [
    {
     "name": "stdout",
     "output_type": "stream",
     "text": [
      "3rd elif statement executed\n"
     ]
    }
   ],
   "source": [
    "if False:\n",
    "    print('1st elif statement executed')\n",
    "    \n",
    "elif False:\n",
    "    print('2nd elif statement executed')\n",
    "\n",
    "elif True:\n",
    "    print('3rd elif statement executed')"
   ]
  },
  {
   "cell_type": "markdown",
   "metadata": {},
   "source": [
    "# if - elif - else - statement\n",
    "- check for condition test\n",
    "- perform group of statements, if condition test is met\n",
    "- in chain of conditions - only 1 code block is executed"
   ]
  },
  {
   "cell_type": "code",
   "execution_count": 69,
   "metadata": {},
   "outputs": [
    {
     "name": "stdout",
     "output_type": "stream",
     "text": [
      "3rd if statement executed\n"
     ]
    }
   ],
   "source": [
    "# if-elif-else - statement\n",
    "\n",
    "if False:                                  # boolean expression is condition test\n",
    "    print('1st if statement executed')\n",
    "                                           # if value is False - group of statements are skipped\n",
    "elif False:\n",
    "    print('2nd if statement executed')\n",
    "                                           # if value is True  - group of statements are executed\n",
    "else:\n",
    "    print('3rd if statement executed')\n",
    "                                           # if value is True  - group of statements are executed"
   ]
  },
  {
   "cell_type": "markdown",
   "metadata": {},
   "source": [
    "## [chained - alternative execution]\n",
    "- at least N statments\n",
    "- for more than 2 possibilities\n",
    "- or more than 1 specific condition\n",
    "<br/> <br/>\n",
    "- at least 1 possibility is executed in conditional\n",
    "- alternative conditions are called branches"
   ]
  },
  {
   "cell_type": "markdown",
   "metadata": {},
   "source": [
    "#### if - condition A\n",
    "#### elif - condition B\n",
    "#### elif - condition C\n",
    "#### else - condition D"
   ]
  },
  {
   "cell_type": "code",
   "execution_count": 68,
   "metadata": {},
   "outputs": [
    {
     "name": "stdout",
     "output_type": "stream",
     "text": [
      "3rd elif statement executed\n"
     ]
    }
   ],
   "source": [
    "if False:\n",
    "    print('1st elif statement executed')\n",
    "    \n",
    "elif False:\n",
    "    print('2nd elif statement executed')\n",
    "\n",
    "else:\n",
    "    print('3rd elif statement executed')"
   ]
  },
  {
   "cell_type": "code",
   "execution_count": 66,
   "metadata": {},
   "outputs": [
    {
     "name": "stdout",
     "output_type": "stream",
     "text": [
      "4th elif statement executed\n"
     ]
    }
   ],
   "source": [
    "if False:\n",
    "    print('1st elif statement executed')\n",
    "    \n",
    "elif False:\n",
    "    print('2nd elif statement executed')\n",
    "    \n",
    "elif False:\n",
    "    print('3rd elif statement executed')\n",
    "\n",
    "else:\n",
    "    print('4th elif statement executed')"
   ]
  },
  {
   "cell_type": "markdown",
   "metadata": {},
   "source": [
    "#  Nested execution\n",
    "\n",
    "- check for condition test\n",
    "- perform group of statements, if condition test is met\n",
    "\n",
    "<br/>\n",
    "\n",
    "     - condition test within branch of origional"
   ]
  },
  {
   "cell_type": "code",
   "execution_count": 79,
   "metadata": {},
   "outputs": [],
   "source": [
    "# if     - condition A1\n",
    "#\tif   - condition B1"
   ]
  },
  {
   "cell_type": "code",
   "execution_count": 76,
   "metadata": {},
   "outputs": [
    {
     "name": "stdout",
     "output_type": "stream",
     "text": [
      "if statement executed: 1st branch\n",
      "If statement executed: 1st branch of nested conditional\n"
     ]
    }
   ],
   "source": [
    "# nested - if - statement\n",
    "\n",
    "if True:                                  # boolean expression is condition test\n",
    "    print('if statement executed: 1st branch')    \n",
    "                                          # if value is True  - group of statements are executed\n",
    "                                          # if value is False - group of statements are skipped\n",
    "    if True:\n",
    "        print('If statement executed: 1st branch of nested conditional')\n",
    "        \n",
    "    else:\n",
    "        pass\n",
    "\n",
    "else:\n",
    "    print('Else statement executed: 2nd branch')"
   ]
  },
  {
   "cell_type": "code",
   "execution_count": 71,
   "metadata": {},
   "outputs": [
    {
     "name": "stdout",
     "output_type": "stream",
     "text": [
      "Else statement executed: 2nd branch\n",
      "If statement executed: 1st branch of nested conditional\n"
     ]
    }
   ],
   "source": [
    "# nested - if - statement\n",
    "\n",
    "if False:                                  # boolean expression is condition test\n",
    "        print('if statement executed')    \n",
    "                                          # if value is True  - group of statements are executed\n",
    "                                          # if value is False - group of statements are skipped\n",
    "else:\n",
    "    print('Else statement executed: 2nd branch')\n",
    "    \n",
    "    \n",
    "    if True:\n",
    "        print('If statement executed: 1st branch of nested conditional')\n",
    "        \n",
    "    else:\n",
    "        pass"
   ]
  },
  {
   "cell_type": "markdown",
   "metadata": {},
   "source": [
    "### [nested - conditional execution]"
   ]
  },
  {
   "cell_type": "code",
   "execution_count": 79,
   "metadata": {},
   "outputs": [],
   "source": [
    "# if     - condition A1\n",
    "#\tif   - condition B1"
   ]
  },
  {
   "cell_type": "markdown",
   "metadata": {},
   "source": [
    "### [nested - alternative execution]"
   ]
  },
  {
   "cell_type": "code",
   "execution_count": 77,
   "metadata": {},
   "outputs": [],
   "source": [
    "# if     - condition A1\n",
    "# \tif   - condition B1\n",
    "# \telse - condition B2"
   ]
  },
  {
   "cell_type": "markdown",
   "metadata": {},
   "source": [
    "### [nested - chained execution]"
   ]
  },
  {
   "cell_type": "code",
   "execution_count": 78,
   "metadata": {},
   "outputs": [],
   "source": [
    "# if     - condition A1\n",
    "# \tif   - condition B1\n",
    "# \telif - condition B2\n",
    "# \telif - condition B3"
   ]
  },
  {
   "cell_type": "markdown",
   "metadata": {},
   "source": [
    "### [nested - chained-alternative execution]"
   ]
  },
  {
   "cell_type": "code",
   "execution_count": null,
   "metadata": {},
   "outputs": [],
   "source": [
    "# if     - condition A1\n",
    "# \tif   - condition B1\n",
    "# \telif - condition B2\n",
    "# \telif - condition B3\n",
    "# \telse - condition B4"
   ]
  },
  {
   "cell_type": "markdown",
   "metadata": {},
   "source": [
    "## Nested conditionals are legel - but can make source code hard to read\n",
    "## Logical operators can simplify nested conditional statements\n"
   ]
  },
  {
   "cell_type": "code",
   "execution_count": 80,
   "metadata": {},
   "outputs": [
    {
     "name": "stdout",
     "output_type": "stream",
     "text": [
      "1 is a positive number\n",
      "&\n",
      "1 is less than 10\n"
     ]
    }
   ],
   "source": [
    "## Nested conditionals are legel - but can make source code hard to read\n",
    "## Logical operators can simplify nested conditional statements\n",
    "\n",
    "a = 1\n",
    "\n",
    "if 0 < a:\n",
    "\n",
    "    if a < 10:\n",
    "        print(a,'is a positive number')\n",
    "        print('&')\n",
    "        print(a,'is less than 10')\n",
    "        \n",
    "#Print statement is only executed after passing outer conditional & nested conditional\n",
    "#Simplify with logical operator - complex boolean expression - one conditional"
   ]
  },
  {
   "cell_type": "code",
   "execution_count": 81,
   "metadata": {},
   "outputs": [
    {
     "name": "stdout",
     "output_type": "stream",
     "text": [
      "1 is a positive number\n",
      "&\n",
      "1 is less than 10\n"
     ]
    }
   ],
   "source": [
    "## lOGICAL OPERATOR simplification\n",
    "\n",
    "a = 1\n",
    "\n",
    "if 0 < a and a < 10:\n",
    "        print(a,'is a positive number')\n",
    "        print('&')\n",
    "        print(a,'is less than 10')"
   ]
  },
  {
   "cell_type": "markdown",
   "metadata": {},
   "source": [
    "## Use cases"
   ]
  },
  {
   "cell_type": "code",
   "execution_count": null,
   "metadata": {},
   "outputs": [],
   "source": []
  },
  {
   "cell_type": "markdown",
   "metadata": {},
   "source": [
    "# try - except - statement\n",
    "- attempt to perform code block\n",
    "- if try code block fails\n",
    "- except code block statements executed"
   ]
  },
  {
   "cell_type": "code",
   "execution_count": 48,
   "metadata": {},
   "outputs": [],
   "source": [
    "# if-else - statement\n",
    "\n",
    "if True:                                  # boolean expression is condition test\n",
    "    print('1st if statement executed')\n",
    "                                          # if value is True  - group of statements are executed\n",
    "else:\n",
    "    print('2nd if statement executed')\n",
    "                                          # if value is False - group of statements are skipped"
   ]
  },
  {
   "cell_type": "code",
   "execution_count": null,
   "metadata": {},
   "outputs": [],
   "source": []
  },
  {
   "cell_type": "code",
   "execution_count": null,
   "metadata": {},
   "outputs": [],
   "source": []
  },
  {
   "cell_type": "code",
   "execution_count": null,
   "metadata": {},
   "outputs": [],
   "source": []
  },
  {
   "cell_type": "code",
   "execution_count": null,
   "metadata": {},
   "outputs": [],
   "source": []
  },
  {
   "cell_type": "markdown",
   "metadata": {},
   "source": [
    "## Conditional, Function, & Iterative definitions\n",
    "- conditional statements\n",
    "- function definitions\n",
    "- iteration loops\n",
    "\n",
    "### all have the same format\n",
    "\n",
    "#### header, followed by set of conditions or rules (boolean expression), then semicologn :\n",
    "- if, elif, else\n",
    "- boolean expression\n",
    "- : semicologn\n",
    "\n",
    "#### folowed by compound statement (codeblock)\n",
    "- body of multiple statements"
   ]
  },
  {
   "cell_type": "markdown",
   "metadata": {},
   "source": [
    "### Python requires atleast 1 statement in a compound statement(code block)"
   ]
  },
  {
   "cell_type": "code",
   "execution_count": 13,
   "metadata": {},
   "outputs": [
    {
     "ename": "SyntaxError",
     "evalue": "unexpected EOF while parsing (<ipython-input-13-ba900c8888fd>, line 4)",
     "output_type": "error",
     "traceback": [
      "\u001b[1;36m  File \u001b[1;32m\"<ipython-input-13-ba900c8888fd>\"\u001b[1;36m, line \u001b[1;32m4\u001b[0m\n\u001b[1;33m    #No statement in compount statement (code block)\u001b[0m\n\u001b[1;37m                                                    ^\u001b[0m\n\u001b[1;31mSyntaxError\u001b[0m\u001b[1;31m:\u001b[0m unexpected EOF while parsing\n"
     ]
    }
   ],
   "source": [
    "##Results in error\n",
    "\n",
    "if True:\n",
    "    #No statement in compount statement (code block)"
   ]
  },
  {
   "cell_type": "markdown",
   "metadata": {},
   "source": [
    "## Pass\n",
    "- no codeblock is needed in conditional if pass is used\n",
    "- can have a condition with no action"
   ]
  },
  {
   "cell_type": "code",
   "execution_count": 59,
   "metadata": {},
   "outputs": [],
   "source": [
    "##Results in no action\n",
    "\n",
    "if True:\n",
    "    pass\n",
    "    #No statement in compount statement (code block)"
   ]
  },
  {
   "cell_type": "markdown",
   "metadata": {},
   "source": [
    "### Python shell - interpreter expects a blank line at the end of compound statements (code blocks)"
   ]
  },
  {
   "cell_type": "code",
   "execution_count": 10,
   "metadata": {},
   "outputs": [],
   "source": [
    "# >>>if True:\n",
    "# ...    print()\n",
    "# ...\n",
    "# #next statement in sequential execution\n",
    "# print()"
   ]
  },
  {
   "cell_type": "markdown",
   "metadata": {},
   "source": [
    "### Jupyter notebooks - does not require a blank line at the end of compound statement (code block)"
   ]
  },
  {
   "cell_type": "code",
   "execution_count": 11,
   "metadata": {},
   "outputs": [
    {
     "name": "stdout",
     "output_type": "stream",
     "text": [
      "Run\n"
     ]
    }
   ],
   "source": [
    "if True:\n",
    "    print('Run')"
   ]
  },
  {
   "cell_type": "markdown",
   "metadata": {},
   "source": [
    "### Python shell or Jupyter notebooks - do not parse white space unless it is to dileneate\n",
    "- compound statements (code blocks)"
   ]
  },
  {
   "cell_type": "code",
   "execution_count": 42,
   "metadata": {},
   "outputs": [
    {
     "name": "stdout",
     "output_type": "stream",
     "text": [
      "True\n"
     ]
    }
   ],
   "source": [
    "if True:\n",
    "    print('True')    # space after statement\n",
    "    \n",
    "        # whitespace above and below line\n",
    "        \n",
    "        #Code comment follows additional 4 spaces from where current block statements begin\n",
    "\n",
    "#White space does not matter unless it involves statments"
   ]
  },
  {
   "cell_type": "markdown",
   "metadata": {},
   "source": [
    "## White space to dilineate code blocks is [4 spaces] TAB IS NOT NORMALLY 4 SPACES\n",
    "## Jupyter notebooks - [TAB = 4 spaces]"
   ]
  },
  {
   "cell_type": "code",
   "execution_count": 15,
   "metadata": {},
   "outputs": [
    {
     "ename": "IndentationError",
     "evalue": "unexpected indent (<ipython-input-15-8e63488fbcf9>, line 3)",
     "output_type": "error",
     "traceback": [
      "\u001b[1;36m  File \u001b[1;32m\"<ipython-input-15-8e63488fbcf9>\"\u001b[1;36m, line \u001b[1;32m3\u001b[0m\n\u001b[1;33m    print('string')           # space must be used to properly indent code blocks\u001b[0m\n\u001b[1;37m    ^\u001b[0m\n\u001b[1;31mIndentationError\u001b[0m\u001b[1;31m:\u001b[0m unexpected indent\n"
     ]
    }
   ],
   "source": [
    "##Results in error\n",
    "\n",
    "  print('string')           # space must be used to properly indent code blocks\n",
    "                            # IndentationError: unexpected indent"
   ]
  },
  {
   "cell_type": "code",
   "execution_count": null,
   "metadata": {},
   "outputs": [],
   "source": []
  },
  {
   "cell_type": "code",
   "execution_count": null,
   "metadata": {},
   "outputs": [],
   "source": []
  },
  {
   "cell_type": "markdown",
   "metadata": {},
   "source": [
    "## **Boolean Flag**\n",
    "** [not](booleanConditional) \n",
    "** [True] - until (booleanConditional) is met\n",
    "          - searching/waiting for (booleanConditional) to become [True] to make overal conditional [False] - end conditional\n",
    "                x = 4\n",
    "                not (x <= 0)\n",
    "                \n",
    "[False][False] => [True] until (x <= 0)\n",
    "once (x <= 0)  => [False]"
   ]
  },
  {
   "cell_type": "code",
   "execution_count": null,
   "metadata": {},
   "outputs": [],
   "source": [
    "# not (x > y) # used to count x up until > y\n",
    "# is true if x > y is false; that is, if x is less than or equal to y"
   ]
  },
  {
   "cell_type": "code",
   "execution_count": null,
   "metadata": {},
   "outputs": [],
   "source": [
    "# not (x < y) # used to count x down until > y"
   ]
  }
 ],
 "metadata": {
  "kernelspec": {
   "display_name": "Python 3",
   "language": "python",
   "name": "python3"
  },
  "language_info": {
   "codemirror_mode": {
    "name": "ipython",
    "version": 3
   },
   "file_extension": ".py",
   "mimetype": "text/x-python",
   "name": "python",
   "nbconvert_exporter": "python",
   "pygments_lexer": "ipython3",
   "version": "3.7.0"
  }
 },
 "nbformat": 4,
 "nbformat_minor": 2
}
