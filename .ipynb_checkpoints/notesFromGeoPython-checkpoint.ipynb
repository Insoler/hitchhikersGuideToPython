{
 "cells": [
  {
   "cell_type": "code",
   "execution_count": 4,
   "metadata": {},
   "outputs": [
    {
     "name": "stdout",
     "output_type": "stream",
     "text": [
      "Enter a new number: 8\n"
     ]
    }
   ],
   "source": [
    "# error handling if default input is wrong\n",
    "\n",
    "def scoreCount(inputVariable):\n",
    "    \n",
    "    try:\n",
    "        inputVariable = int(inputVariable)\n",
    "        if inputVariable > 0 and inputVariable < 1:\n",
    "            print('low')\n",
    "    except:\n",
    "        inputVariable = input('Enter a new number: ')\n",
    "        \n",
    "scoreCount('number')"
   ]
  },
  {
   "cell_type": "code",
   "execution_count": 23,
   "metadata": {},
   "outputs": [
    {
     "name": "stdout",
     "output_type": "stream",
     "text": [
      "[1, 2, 3]\n",
      "[1, 2, 3]\n",
      "[3]\n",
      "[3]\n"
     ]
    }
   ],
   "source": [
    "listA = [1,2,3]\n",
    "\n",
    "print(listA)\n",
    "\n",
    "\n",
    "listAalias = listA\n",
    "\n",
    "print(listAalias)\n",
    "\n",
    "\n",
    "\n",
    "del listA[0], listAalias[0]                      # listA & listAalias are the same list\n",
    "\n",
    "print(listA)\n",
    "\n",
    "print(listAalias)"
   ]
  },
  {
   "cell_type": "code",
   "execution_count": 24,
   "metadata": {},
   "outputs": [
    {
     "name": "stdout",
     "output_type": "stream",
     "text": [
      "[1, 2, 3]\n",
      "[1, 2, 3]\n",
      "[2]\n"
     ]
    }
   ],
   "source": [
    "listA = [1,2,3]\n",
    "\n",
    "print(listA)\n",
    "\n",
    "\n",
    "newListACopy = list(listA)                     # list(listName) - creates a copy of a list - newListACopy is a new list\n",
    "\n",
    "print(newListACopy)\n",
    "\n",
    "\n",
    "del newListACopy[0], newListACopy[1]\n",
    "\n",
    "print(newListACopy)"
   ]
  },
  {
   "cell_type": "code",
   "execution_count": 14,
   "metadata": {},
   "outputs": [
    {
     "name": "stdout",
     "output_type": "stream",
     "text": [
      "3.141592653589793\n",
      "2.0\n"
     ]
    }
   ],
   "source": [
    "import math as ma\n",
    "\n",
    "print(ma.pi)\n",
    "\n",
    "\n",
    "from math import sqrt as ssss\n",
    "\n",
    "print(ssss(4))"
   ]
  },
  {
   "cell_type": "code",
   "execution_count": 9,
   "metadata": {},
   "outputs": [
    {
     "name": "stdout",
     "output_type": "stream",
     "text": [
      "1764\n"
     ]
    }
   ],
   "source": [
    "def functionMultiply(inputVariable):\n",
    "\n",
    "        return inputVariable * inputVariable\n",
    "\n",
    "print(functionMultiply(inputVariable = 42))   # can put default value in - if parameter variable name is known"
   ]
  },
  {
   "cell_type": "code",
   "execution_count": 7,
   "metadata": {},
   "outputs": [
    {
     "name": "stdout",
     "output_type": "stream",
     "text": [
      "9.8596\n"
     ]
    }
   ],
   "source": [
    "def functionMultiply(inputVariable = 3.14):\n",
    "\n",
    "        return inputVariable * inputVariable\n",
    "        \n",
    "        \n",
    "print(functionMultiply())"
   ]
  }
 ],
 "metadata": {
  "kernelspec": {
   "display_name": "Python 3",
   "language": "python",
   "name": "python3"
  },
  "language_info": {
   "codemirror_mode": {
    "name": "ipython",
    "version": 3
   },
   "file_extension": ".py",
   "mimetype": "text/x-python",
   "name": "python",
   "nbconvert_exporter": "python",
   "pygments_lexer": "ipython3",
   "version": "3.7.0"
  }
 },
 "nbformat": 4,
 "nbformat_minor": 2
}
