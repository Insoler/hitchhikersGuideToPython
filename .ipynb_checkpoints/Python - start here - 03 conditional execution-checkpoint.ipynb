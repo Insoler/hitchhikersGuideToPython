{
 "cells": [
  {
   "cell_type": "markdown",
   "metadata": {},
   "source": [
    "# `Python`: Start Here\n",
    "## Conditional execution\n",
    " \n",
    " <img src=\"pythonLogo.png\" height=\"20%\" width=\"20%\"/>"
   ]
  },
  {
   "cell_type": "markdown",
   "metadata": {},
   "source": [
    "## Boolean values\n",
    "- represent True or False"
   ]
  },
  {
   "cell_type": "code",
   "execution_count": 2,
   "metadata": {},
   "outputs": [
    {
     "data": {
      "text/plain": [
       "True"
      ]
     },
     "execution_count": 2,
     "metadata": {},
     "output_type": "execute_result"
    }
   ],
   "source": [
    "True"
   ]
  },
  {
   "cell_type": "code",
   "execution_count": 3,
   "metadata": {},
   "outputs": [
    {
     "data": {
      "text/plain": [
       "False"
      ]
     },
     "execution_count": 3,
     "metadata": {},
     "output_type": "execute_result"
    }
   ],
   "source": [
    "False"
   ]
  },
  {
   "cell_type": "code",
   "execution_count": 5,
   "metadata": {},
   "outputs": [
    {
     "name": "stdout",
     "output_type": "stream",
     "text": [
      "True\n"
     ]
    }
   ],
   "source": [
    "escapeVelocityAchieved = True\n",
    "\n",
    "print(escapeVelocityAchieved)"
   ]
  },
  {
   "cell_type": "code",
   "execution_count": 8,
   "metadata": {},
   "outputs": [
    {
     "name": "stdout",
     "output_type": "stream",
     "text": [
      "<class 'bool'>\n"
     ]
    }
   ],
   "source": [
    "print(type(False))"
   ]
  },
  {
   "cell_type": "markdown",
   "metadata": {},
   "source": [
    "## Boolean 'String' Methods\n",
    "- return boolean value (True or False) for 'string'"
   ]
  },
  {
   "cell_type": "markdown",
   "metadata": {},
   "source": [
    "#### isalpha()\n",
    "#### islower()\n",
    "#### isupper()\n",
    "#### istitle()\n",
    "#### startswith('string')\n",
    "#### isalnum()\n",
    "#### isdigit()"
   ]
  },
  {
   "cell_type": "markdown",
   "metadata": {},
   "source": [
    "### isalpha()"
   ]
  },
  {
   "cell_type": "code",
   "execution_count": 35,
   "metadata": {},
   "outputs": [
    {
     "name": "stdout",
     "output_type": "stream",
     "text": [
      "True\n",
      "False\n"
     ]
    }
   ],
   "source": [
    "stringAlphabetical = 'alphabetical'\n",
    "\n",
    "stringBooleanTest = stringAlphabetical.isalpha()\n",
    "\n",
    "print(stringBooleanTest)\n",
    "\n",
    "\n",
    "\n",
    "stringBooleanTest = 'Are spaces [and/or] punctuation Alphabetical?'.isalpha()\n",
    "print(stringBooleanTest)"
   ]
  },
  {
   "cell_type": "markdown",
   "metadata": {},
   "source": [
    "### islower ()"
   ]
  },
  {
   "cell_type": "code",
   "execution_count": 7,
   "metadata": {},
   "outputs": [
    {
     "name": "stdout",
     "output_type": "stream",
     "text": [
      "False\n"
     ]
    }
   ],
   "source": [
    "stringAlphabetical = 'Alphabetical'\n",
    "\n",
    "stringBooleanTest = stringAlphabetical.islower()\n",
    "\n",
    "print(stringBooleanTest)"
   ]
  },
  {
   "cell_type": "markdown",
   "metadata": {},
   "source": [
    "### isupper()"
   ]
  },
  {
   "cell_type": "code",
   "execution_count": 9,
   "metadata": {},
   "outputs": [
    {
     "name": "stdout",
     "output_type": "stream",
     "text": [
      "True\n"
     ]
    }
   ],
   "source": [
    "stringAlphabetical = 'ALPHABETICAL'\n",
    "\n",
    "stringBooleanTest = stringAlphabetical.isupper()\n",
    "\n",
    "print(stringBooleanTest)"
   ]
  },
  {
   "cell_type": "markdown",
   "metadata": {},
   "source": [
    "### istitle()"
   ]
  },
  {
   "cell_type": "code",
   "execution_count": 13,
   "metadata": {},
   "outputs": [
    {
     "name": "stdout",
     "output_type": "stream",
     "text": [
      "True\n"
     ]
    }
   ],
   "source": [
    "stringAlphabetical = 'His Dark Materials'\n",
    "\n",
    "stringBooleanTest = stringAlphabetical.istitle()\n",
    "\n",
    "print(stringBooleanTest)"
   ]
  },
  {
   "cell_type": "markdown",
   "metadata": {},
   "source": [
    "### .startswith('string')"
   ]
  },
  {
   "cell_type": "code",
   "execution_count": 16,
   "metadata": {},
   "outputs": [
    {
     "name": "stdout",
     "output_type": "stream",
     "text": [
      "True\n"
     ]
    }
   ],
   "source": [
    "stringAlphabetical = 'Bowtie'\n",
    "\n",
    "stringBooleanTest = stringAlphabetical.startswith('B')\n",
    "\n",
    "print(stringBooleanTest)"
   ]
  },
  {
   "cell_type": "markdown",
   "metadata": {},
   "source": [
    "### isalnum()"
   ]
  },
  {
   "cell_type": "code",
   "execution_count": 23,
   "metadata": {},
   "outputs": [
    {
     "name": "stdout",
     "output_type": "stream",
     "text": [
      "True\n",
      "True\n",
      "True\n",
      "True\n"
     ]
    }
   ],
   "source": [
    "stringAlphabeticalA = 'AlphaNumerical010101'\n",
    "\n",
    "stringBooleanTestA = stringAlphabetical.isalnum()\n",
    "\n",
    "print(stringBooleanTest)\n",
    "\n",
    "\n",
    "\n",
    "stringAlphabeticalB = 'a'\n",
    "\n",
    "stringBooleanTestB = stringAlphabetical.isalnum()\n",
    "\n",
    "print(stringBooleanTest)\n",
    "\n",
    "\n",
    "\n",
    "stringAlphabeticalB = '!@#'\n",
    "\n",
    "stringBooleanTestB = stringAlphabetical.isalnum()\n",
    "\n",
    "print(stringBooleanTest)\n",
    "\n",
    "\n",
    "\n",
    "stringAlphabeticalB = '1'\n",
    "\n",
    "stringBooleanTestB = stringAlphabetical.isalnum()\n",
    "\n",
    "print(stringBooleanTest)"
   ]
  },
  {
   "cell_type": "markdown",
   "metadata": {},
   "source": [
    "### isdigit()"
   ]
  },
  {
   "cell_type": "code",
   "execution_count": 26,
   "metadata": {},
   "outputs": [
    {
     "name": "stdout",
     "output_type": "stream",
     "text": [
      "True\n"
     ]
    }
   ],
   "source": [
    "stringDigit = '42'                               # must be a 'string' number\n",
    "\n",
    "stringBooleanTest = stringDigit.isdigit()\n",
    "\n",
    "print(stringBooleanTest)"
   ]
  },
  {
   "cell_type": "markdown",
   "metadata": {},
   "source": [
    "## LOOPS INVOLVING 'string'.methods()"
   ]
  },
  {
   "cell_type": "code",
   "execution_count": 36,
   "metadata": {},
   "outputs": [
    {
     "name": "stdout",
     "output_type": "stream",
     "text": [
      "Enter a word: A\n",
      "A\n"
     ]
    }
   ],
   "source": [
    "# BOOLEAN FLAG\n",
    "\n",
    "findWord = False\n",
    "\n",
    "while not findWord:\n",
    "    \n",
    "    enterWord = input('Enter a word: ')\n",
    "    \n",
    "    if enterWord.isalpha():\n",
    "        findWord = True\n",
    "        \n",
    "    else:\n",
    "        print('Enter a word only')\n",
    "    \n",
    "    print(enterWord)"
   ]
  },
  {
   "cell_type": "code",
   "execution_count": null,
   "metadata": {},
   "outputs": [],
   "source": []
  },
  {
   "cell_type": "code",
   "execution_count": null,
   "metadata": {},
   "outputs": [],
   "source": []
  },
  {
   "cell_type": "code",
   "execution_count": null,
   "metadata": {},
   "outputs": [],
   "source": []
  },
  {
   "cell_type": "code",
   "execution_count": null,
   "metadata": {},
   "outputs": [],
   "source": []
  },
  {
   "cell_type": "markdown",
   "metadata": {},
   "source": [
    "## Comparison Operators\n",
    "- also called relational operators\n",
    "- perform a comparison of values\n",
    "and decide if the relation among them is True of False\n",
    "- Return a value of True or False"
   ]
  },
  {
   "cell_type": "code",
   "execution_count": 21,
   "metadata": {},
   "outputs": [],
   "source": [
    "x = 2.718\n",
    "\n",
    "y = 3.14"
   ]
  },
  {
   "cell_type": "code",
   "execution_count": 22,
   "metadata": {},
   "outputs": [
    {
     "data": {
      "text/plain": [
       "False"
      ]
     },
     "execution_count": 22,
     "metadata": {},
     "output_type": "execute_result"
    }
   ],
   "source": [
    "# Equal to             ==\n",
    "\n",
    "x == y"
   ]
  },
  {
   "cell_type": "code",
   "execution_count": 23,
   "metadata": {},
   "outputs": [
    {
     "data": {
      "text/plain": [
       "True"
      ]
     },
     "execution_count": 23,
     "metadata": {},
     "output_type": "execute_result"
    }
   ],
   "source": [
    "# NOT equal to         !=\n",
    "\n",
    "i != j"
   ]
  },
  {
   "cell_type": "code",
   "execution_count": 24,
   "metadata": {},
   "outputs": [
    {
     "data": {
      "text/plain": [
       "False"
      ]
     },
     "execution_count": 24,
     "metadata": {},
     "output_type": "execute_result"
    }
   ],
   "source": [
    "# Greater or equal to  >=\n",
    "\n",
    "i >= j"
   ]
  },
  {
   "cell_type": "code",
   "execution_count": 25,
   "metadata": {},
   "outputs": [
    {
     "data": {
      "text/plain": [
       "False"
      ]
     },
     "execution_count": 25,
     "metadata": {},
     "output_type": "execute_result"
    }
   ],
   "source": [
    "# Greater than         >\n",
    "\n",
    "i > j"
   ]
  },
  {
   "cell_type": "code",
   "execution_count": 26,
   "metadata": {},
   "outputs": [
    {
     "data": {
      "text/plain": [
       "True"
      ]
     },
     "execution_count": 26,
     "metadata": {},
     "output_type": "execute_result"
    }
   ],
   "source": [
    "# Less or equal to     <=\n",
    "\n",
    "i <= j"
   ]
  },
  {
   "cell_type": "code",
   "execution_count": 27,
   "metadata": {},
   "outputs": [
    {
     "data": {
      "text/plain": [
       "True"
      ]
     },
     "execution_count": 27,
     "metadata": {},
     "output_type": "execute_result"
    }
   ],
   "source": [
    "# Less than            <\n",
    "\n",
    "i < j"
   ]
  },
  {
   "cell_type": "markdown",
   "metadata": {},
   "source": [
    "## Boolean expressions - expressions which evaluate to True or False\n",
    "- like expressions involving groups (types) of basic forms of data (values - constants & literals)\n",
    "- involve basic forms of data (types) but evalutate and produce a - boolean value (True/False)\n",
    "- use comparison operators to yield boolean value - do not change values of variables or constants"
   ]
  },
  {
   "cell_type": "markdown",
   "metadata": {},
   "source": [
    "## Logical Operators\n",
    "- perform mathematical computations"
   ]
  },
  {
   "cell_type": "markdown",
   "metadata": {},
   "source": [
    "## and"
   ]
  },
  {
   "cell_type": "code",
   "execution_count": null,
   "metadata": {},
   "outputs": [],
   "source": []
  },
  {
   "cell_type": "markdown",
   "metadata": {},
   "source": [
    "## or"
   ]
  },
  {
   "cell_type": "code",
   "execution_count": null,
   "metadata": {},
   "outputs": [],
   "source": []
  },
  {
   "cell_type": "markdown",
   "metadata": {},
   "source": [
    "## not"
   ]
  },
  {
   "cell_type": "code",
   "execution_count": null,
   "metadata": {},
   "outputs": [],
   "source": []
  },
  {
   "cell_type": "markdown",
   "metadata": {},
   "source": [
    "### using any logical operator with operand(s) creates a compound expression\n"
   ]
  },
  {
   "cell_type": "markdown",
   "metadata": {},
   "source": [
    "## monadic operator (operates on single operand)   - [not]"
   ]
  },
  {
   "cell_type": "code",
   "execution_count": null,
   "metadata": {},
   "outputs": [],
   "source": []
  },
  {
   "cell_type": "markdown",
   "metadata": {},
   "source": [
    "## diadic operator (operates on miltiple operands) - [and] [or]"
   ]
  },
  {
   "cell_type": "code",
   "execution_count": null,
   "metadata": {},
   "outputs": [],
   "source": []
  },
  {
   "cell_type": "markdown",
   "metadata": {},
   "source": [
    "## Logical expressions - complex boolean expressions\n",
    "- use logical operators to compare boolean expressions"
   ]
  },
  {
   "cell_type": "markdown",
   "metadata": {},
   "source": [
    "## Membership Operators\n",
    "boolean test for 'string' value membership in a sequence\n",
    "- strings\n",
    "- lists\n",
    "- tuples.\n",
    "\n",
    "#### both operands must be 'strings'\n",
    "#### comparing 'strings' is 'CASE' 'sensitive'"
   ]
  },
  {
   "cell_type": "markdown",
   "metadata": {},
   "source": [
    "## in"
   ]
  },
  {
   "cell_type": "code",
   "execution_count": 39,
   "metadata": {},
   "outputs": [
    {
     "data": {
      "text/plain": [
       "True"
      ]
     },
     "execution_count": 39,
     "metadata": {},
     "output_type": "execute_result"
    }
   ],
   "source": [
    "'s' in 'string'"
   ]
  },
  {
   "cell_type": "code",
   "execution_count": 41,
   "metadata": {},
   "outputs": [
    {
     "data": {
      "text/plain": [
       "False"
      ]
     },
     "execution_count": 41,
     "metadata": {},
     "output_type": "execute_result"
    }
   ],
   "source": [
    "'s' in 'string'.upper()"
   ]
  },
  {
   "cell_type": "code",
   "execution_count": 44,
   "metadata": {},
   "outputs": [
    {
     "data": {
      "text/plain": [
       "True"
      ]
     },
     "execution_count": 44,
     "metadata": {},
     "output_type": "execute_result"
    }
   ],
   "source": [
    "effects = 'Bowtie, screwdriver, fez'\n",
    "\n",
    "'bowtie'.capitalize() in effects"
   ]
  },
  {
   "cell_type": "markdown",
   "metadata": {},
   "source": [
    "## not in"
   ]
  },
  {
   "cell_type": "code",
   "execution_count": 40,
   "metadata": {},
   "outputs": [
    {
     "data": {
      "text/plain": [
       "False"
      ]
     },
     "execution_count": 40,
     "metadata": {},
     "output_type": "execute_result"
    }
   ],
   "source": [
    "'s' not in 'string'"
   ]
  },
  {
   "cell_type": "code",
   "execution_count": 42,
   "metadata": {},
   "outputs": [
    {
     "data": {
      "text/plain": [
       "True"
      ]
     },
     "execution_count": 42,
     "metadata": {},
     "output_type": "execute_result"
    }
   ],
   "source": [
    "'s' not in 'string'.upper()"
   ]
  },
  {
   "cell_type": "code",
   "execution_count": 45,
   "metadata": {},
   "outputs": [
    {
     "data": {
      "text/plain": [
       "False"
      ]
     },
     "execution_count": 45,
     "metadata": {},
     "output_type": "execute_result"
    }
   ],
   "source": [
    "effects = ['bowtie','screwdriver','fez']\n",
    "\n",
    "'bowtie' not in effects"
   ]
  },
  {
   "cell_type": "markdown",
   "metadata": {},
   "source": [
    "## 'string'.methods() to remove case error"
   ]
  },
  {
   "cell_type": "code",
   "execution_count": 51,
   "metadata": {},
   "outputs": [
    {
     "data": {
      "text/plain": [
       "True"
      ]
     },
     "execution_count": 51,
     "metadata": {},
     "output_type": "execute_result"
    }
   ],
   "source": [
    "effects = 'bowtie' + 'screwdriver' + 'fez'      # list - has no .lower() method\n",
    "\n",
    "searchItem = 'BOWTIE'\n",
    "\n",
    "searchItem.lower() in effects.lower()"
   ]
  },
  {
   "cell_type": "code",
   "execution_count": 54,
   "metadata": {},
   "outputs": [
    {
     "data": {
      "text/plain": [
       "True"
      ]
     },
     "execution_count": 54,
     "metadata": {},
     "output_type": "execute_result"
    }
   ],
   "source": [
    "effects = ['bowtie' , 'screwdriver' , 'fez']      # list - has no .lower() method\n",
    "\n",
    "searchItem = 'BOWTIE'\n",
    "\n",
    "searchItem.lower() in effects                     # no .lower() on list variable"
   ]
  },
  {
   "cell_type": "markdown",
   "metadata": {},
   "source": [
    "## input() membership test"
   ]
  },
  {
   "cell_type": "code",
   "execution_count": 61,
   "metadata": {},
   "outputs": [
    {
     "name": "stdout",
     "output_type": "stream",
     "text": [
      "Search for item in list: tie\n"
     ]
    },
    {
     "data": {
      "text/plain": [
       "True"
      ]
     },
     "execution_count": 61,
     "metadata": {},
     "output_type": "execute_result"
    }
   ],
   "source": [
    "effects = 'bowtie' + 'screwdriver' + 'fez'        # list - has no .lower() method\n",
    "\n",
    "testValue = input('Search for item in list: ')\n",
    "\n",
    "\n",
    "testValue.lower() in effects                      # if input - 'tie' --> True - searches 'string' sequence"
   ]
  },
  {
   "cell_type": "code",
   "execution_count": 62,
   "metadata": {},
   "outputs": [
    {
     "name": "stdout",
     "output_type": "stream",
     "text": [
      "Search for item in list: tie\n"
     ]
    },
    {
     "data": {
      "text/plain": [
       "False"
      ]
     },
     "execution_count": 62,
     "metadata": {},
     "output_type": "execute_result"
    }
   ],
   "source": [
    "effects = ['bowtie' , 'screwdriver' , 'fez']      # list - has no .lower() method\n",
    "\n",
    "testValue = input('Search for item in list: ')\n",
    "\n",
    "\n",
    "testValue.lower() in effects                      # if input - 'tie' --> False - searches list sequence\n",
    "                                                  # 'string' element - must be exact match"
   ]
  },
  {
   "cell_type": "markdown",
   "metadata": {},
   "source": [
    "## input() add to variable\n",
    "## membership test"
   ]
  },
  {
   "cell_type": "code",
   "execution_count": 64,
   "metadata": {},
   "outputs": [
    {
     "name": "stdout",
     "output_type": "stream",
     "text": [
      "Enter value to add to string: tardis\n",
      "Enter value to search string for: TARDIS\n"
     ]
    },
    {
     "data": {
      "text/plain": [
       "True"
      ]
     },
     "execution_count": 64,
     "metadata": {},
     "output_type": "execute_result"
    }
   ],
   "source": [
    "effects = 'bowtie' + 'screwdriver' + 'fez'               # list - has no .lower() method\n",
    "\n",
    "\n",
    "valueAdd = input('Enter value to add to string: ')\n",
    "\n",
    "effects += ' ' + valueAdd\n",
    "\n",
    "\n",
    "valueSearch = input('Enter value to search string for: ')\n",
    "\n",
    "\n",
    "valueSearch.lower() in effects"
   ]
  },
  {
   "cell_type": "markdown",
   "metadata": {},
   "source": [
    "## Identity Operators\n",
    "- compare test of memory location of objects"
   ]
  },
  {
   "cell_type": "markdown",
   "metadata": {},
   "source": [
    "## is"
   ]
  },
  {
   "cell_type": "markdown",
   "metadata": {},
   "source": [
    "## is not"
   ]
  },
  {
   "cell_type": "code",
   "execution_count": null,
   "metadata": {},
   "outputs": [],
   "source": []
  },
  {
   "cell_type": "markdown",
   "metadata": {},
   "source": [
    "## **Boolean Flag**\n",
    "** [not](booleanConditional) \n",
    "** [True] - until (booleanConditional) is met\n",
    "          - searching/waiting for (booleanConditional) to become [True] to make overal conditional [False] - end conditional\n",
    "                x = 4\n",
    "                not (x <= 0)\n",
    "                \n",
    "[False][False] => [True] until (x <= 0)\n",
    "once (x <= 0)  => [False]"
   ]
  },
  {
   "cell_type": "code",
   "execution_count": null,
   "metadata": {},
   "outputs": [],
   "source": []
  },
  {
   "cell_type": "code",
   "execution_count": null,
   "metadata": {},
   "outputs": [],
   "source": []
  },
  {
   "cell_type": "code",
   "execution_count": null,
   "metadata": {},
   "outputs": [],
   "source": []
  },
  {
   "cell_type": "code",
   "execution_count": null,
   "metadata": {},
   "outputs": [],
   "source": []
  },
  {
   "cell_type": "markdown",
   "metadata": {},
   "source": [
    "## conditional, iterative, function definitions all have the same format\n",
    "header, followed by set of conditions or rules, then semicologn :\n",
    "folowed by compound statement, codeblock, body of multiple statements"
   ]
  },
  {
   "cell_type": "markdown",
   "metadata": {},
   "source": [
    "### Python shell - interpreter expects a blank line at the end of compound statements (code blocks)"
   ]
  },
  {
   "cell_type": "code",
   "execution_count": 10,
   "metadata": {},
   "outputs": [],
   "source": [
    "# >>>if True:\n",
    "# ...    print()\n",
    "# ...\n",
    "# #next statement in sequential execution\n",
    "# print()"
   ]
  },
  {
   "cell_type": "markdown",
   "metadata": {},
   "source": [
    "### Jupyter notebooks - does not require a blank line at the end of compound statement (code block)"
   ]
  },
  {
   "cell_type": "code",
   "execution_count": 11,
   "metadata": {},
   "outputs": [
    {
     "name": "stdout",
     "output_type": "stream",
     "text": [
      "Run\n"
     ]
    }
   ],
   "source": [
    "if True:\n",
    "    print('Run')"
   ]
  },
  {
   "cell_type": "markdown",
   "metadata": {},
   "source": [
    "### Python shell or Jupyter notebooks - do not parse white space unless it is to dileneate\n",
    "- compound statements (code blocks)"
   ]
  },
  {
   "cell_type": "markdown",
   "metadata": {},
   "source": [
    "### Compound Statements\n",
    "In Python, compound statements (code blocks) are\n",
    "- conditional statements\n",
    "- function definitions\n",
    "- iteration loops"
   ]
  },
  {
   "cell_type": "code",
   "execution_count": 12,
   "metadata": {},
   "outputs": [
    {
     "name": "stdout",
     "output_type": "stream",
     "text": [
      "True\n"
     ]
    }
   ],
   "source": [
    "if True:\n",
    "    print('True')\n",
    "    \n",
    "        #Code comment follows additional 4 spaces from where current block statements begin\n",
    "\n",
    "#White space does not matter unless it involves statments"
   ]
  },
  {
   "cell_type": "markdown",
   "metadata": {},
   "source": [
    "### White space to dilineate code blocks is [4 spaces] TAB IS NOT NORMALLY 4 SPACES\n",
    "### Jupyter notebooks - [TAB = 4 spaces]"
   ]
  },
  {
   "cell_type": "code",
   "execution_count": 15,
   "metadata": {},
   "outputs": [
    {
     "ename": "IndentationError",
     "evalue": "unexpected indent (<ipython-input-15-8e63488fbcf9>, line 3)",
     "output_type": "error",
     "traceback": [
      "\u001b[1;36m  File \u001b[1;32m\"<ipython-input-15-8e63488fbcf9>\"\u001b[1;36m, line \u001b[1;32m3\u001b[0m\n\u001b[1;33m    print('string')           # space must be used to properly indent code blocks\u001b[0m\n\u001b[1;37m    ^\u001b[0m\n\u001b[1;31mIndentationError\u001b[0m\u001b[1;31m:\u001b[0m unexpected indent\n"
     ]
    }
   ],
   "source": [
    "##Results in error\n",
    "\n",
    "  print('string')           # space must be used to properly indent code blocks\n",
    "                            # IndentationError: unexpected indent"
   ]
  },
  {
   "cell_type": "markdown",
   "metadata": {},
   "source": [
    "### Python requires atleast 1 statement in a compound statement(code block)"
   ]
  },
  {
   "cell_type": "code",
   "execution_count": 13,
   "metadata": {},
   "outputs": [
    {
     "ename": "SyntaxError",
     "evalue": "unexpected EOF while parsing (<ipython-input-13-ba900c8888fd>, line 4)",
     "output_type": "error",
     "traceback": [
      "\u001b[1;36m  File \u001b[1;32m\"<ipython-input-13-ba900c8888fd>\"\u001b[1;36m, line \u001b[1;32m4\u001b[0m\n\u001b[1;33m    #No statement in compount statement (code block)\u001b[0m\n\u001b[1;37m                                                    ^\u001b[0m\n\u001b[1;31mSyntaxError\u001b[0m\u001b[1;31m:\u001b[0m unexpected EOF while parsing\n"
     ]
    }
   ],
   "source": [
    "##Results in error\n",
    "\n",
    "if True:\n",
    "    #No statement in compount statement (code block)"
   ]
  },
  {
   "cell_type": "code",
   "execution_count": null,
   "metadata": {},
   "outputs": [],
   "source": []
  },
  {
   "cell_type": "code",
   "execution_count": null,
   "metadata": {},
   "outputs": [],
   "source": []
  },
  {
   "cell_type": "code",
   "execution_count": null,
   "metadata": {},
   "outputs": [],
   "source": []
  },
  {
   "cell_type": "code",
   "execution_count": null,
   "metadata": {},
   "outputs": [],
   "source": []
  },
  {
   "cell_type": "markdown",
   "metadata": {},
   "source": [
    "## [conditional execution]\n",
    "- at most N statements or N-1"
   ]
  },
  {
   "cell_type": "markdown",
   "metadata": {},
   "source": [
    "#### if - seperate condition\n",
    "#### if- seperate condition"
   ]
  },
  {
   "cell_type": "markdown",
   "metadata": {},
   "source": [
    "## [alternative execution]\n",
    "-at least N statments\n",
    "-at least 1 possibility is executed in conditional\n",
    "-alternative conditions are called branches"
   ]
  },
  {
   "cell_type": "markdown",
   "metadata": {},
   "source": [
    "#### if - condition A\n",
    "#### else - condition B"
   ]
  },
  {
   "cell_type": "markdown",
   "metadata": {},
   "source": [
    "## [chained execution]\n",
    "-for more than 2 possibilities\n",
    "-or more than 1 specific condition"
   ]
  },
  {
   "cell_type": "markdown",
   "metadata": {},
   "source": [
    "#### if - condition A\n",
    "#### elif - condition B\n",
    "#### elif - condition C"
   ]
  },
  {
   "cell_type": "markdown",
   "metadata": {},
   "source": [
    "## [chained - alternative execution]\n",
    "-for more than 2 possibilities\n",
    "-or more than 1 specific condition"
   ]
  },
  {
   "cell_type": "markdown",
   "metadata": {},
   "source": [
    "#### if - condition A\n",
    "#### elif - condition B\n",
    "#### elif - condition C\n",
    "#### else - condition D"
   ]
  },
  {
   "cell_type": "markdown",
   "metadata": {},
   "source": [
    "## [nested] conditionals"
   ]
  },
  {
   "cell_type": "code",
   "execution_count": null,
   "metadata": {},
   "outputs": [],
   "source": [
    "# if     - condition A\n",
    "#\tif   - condition A"
   ]
  },
  {
   "cell_type": "code",
   "execution_count": null,
   "metadata": {},
   "outputs": [],
   "source": [
    "# if     - condition A\n",
    "# \tif   - condition A\n",
    "# \telse - condition B"
   ]
  },
  {
   "cell_type": "code",
   "execution_count": null,
   "metadata": {},
   "outputs": [],
   "source": [
    "# if     - condition A\n",
    "# \tif   - condition A\n",
    "# \telif - condition B\n",
    "# \telif - condition C"
   ]
  },
  {
   "cell_type": "code",
   "execution_count": null,
   "metadata": {},
   "outputs": [],
   "source": [
    "# if     - condition A\n",
    "# \tif   - condition A\n",
    "# \telif - condition B\n",
    "# \telif - condition C\n",
    "# \telse - condition D"
   ]
  }
 ],
 "metadata": {
  "kernelspec": {
   "display_name": "Python 3",
   "language": "python",
   "name": "python3"
  },
  "language_info": {
   "codemirror_mode": {
    "name": "ipython",
    "version": 3
   },
   "file_extension": ".py",
   "mimetype": "text/x-python",
   "name": "python",
   "nbconvert_exporter": "python",
   "pygments_lexer": "ipython3",
   "version": "3.7.0"
  }
 },
 "nbformat": 4,
 "nbformat_minor": 2
}
