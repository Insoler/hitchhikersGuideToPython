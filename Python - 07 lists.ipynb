{
 "cells": [
  {
   "cell_type": "markdown",
   "metadata": {},
   "source": [
    "# `Python`\n",
    "## Lists\n",
    " \n",
    " <img src=\"pythonLogo.png\" height=\"20%\" width=\"20%\"/>"
   ]
  },
  {
   "cell_type": "markdown",
   "metadata": {},
   "source": [
    "# lists are a type of `data-structure`\n",
    "## `collections`\n",
    "`multi-value` variables that can `hold more` than a `single value` \n"
   ]
  },
  {
   "cell_type": "markdown",
   "metadata": {},
   "source": [
    "- sequence of `values (types)`\n",
    "- like a 'string' is a sequence of characters\n",
    "- a list is a `sequence of values` called `elements` or items"
   ]
  },
  {
   "cell_type": "markdown",
   "metadata": {},
   "source": [
    "## `lists` are enclosed inside [ ]"
   ]
  },
  {
   "cell_type": "code",
   "execution_count": 2,
   "metadata": {},
   "outputs": [
    {
     "data": {
      "text/plain": [
       "[]"
      ]
     },
     "execution_count": 2,
     "metadata": {},
     "output_type": "execute_result"
    }
   ],
   "source": [
    "# an empty list literal\n",
    "\n",
    "[]\n"
   ]
  },
  {
   "cell_type": "code",
   "execution_count": 1,
   "metadata": {},
   "outputs": [
    {
     "data": {
      "text/plain": [
       "[]"
      ]
     },
     "execution_count": 1,
     "metadata": {},
     "output_type": "execute_result"
    }
   ],
   "source": [
    "# an empty list instantiation\n",
    "\n",
    "list()\n"
   ]
  },
  {
   "cell_type": "code",
   "execution_count": 7,
   "metadata": {},
   "outputs": [
    {
     "data": {
      "text/plain": [
       "['string', 'word', 'a sentence string']"
      ]
     },
     "execution_count": 7,
     "metadata": {},
     "output_type": "execute_result"
    }
   ],
   "source": [
    "['string','word','a sentence string']\n"
   ]
  },
  {
   "cell_type": "code",
   "execution_count": 8,
   "metadata": {},
   "outputs": [
    {
     "data": {
      "text/plain": [
       "[3, 6, 9, 36, 42]"
      ]
     },
     "execution_count": 8,
     "metadata": {},
     "output_type": "execute_result"
    }
   ],
   "source": [
    "[3,6,9,36,42]\n"
   ]
  },
  {
   "cell_type": "code",
   "execution_count": 9,
   "metadata": {},
   "outputs": [
    {
     "data": {
      "text/plain": [
       "[2.718, 3.14]"
      ]
     },
     "execution_count": 9,
     "metadata": {},
     "output_type": "execute_result"
    }
   ],
   "source": [
    "[2.718,3.14]\n"
   ]
  },
  {
   "cell_type": "code",
   "execution_count": 10,
   "metadata": {},
   "outputs": [
    {
     "name": "stdout",
     "output_type": "stream",
     "text": [
      "[2.718, 3.14]\n"
     ]
    }
   ],
   "source": [
    "print([2.718,3.14])\n"
   ]
  },
  {
   "cell_type": "markdown",
   "metadata": {},
   "source": [
    "# `lists` can contain `different types` `(objects)` & `other lists`"
   ]
  },
  {
   "cell_type": "markdown",
   "metadata": {},
   "source": [
    "### comma seperated sequence of objects (called elements) of different types\n",
    "### enclosed in square brackets"
   ]
  },
  {
   "cell_type": "code",
   "execution_count": 2,
   "metadata": {},
   "outputs": [
    {
     "name": "stdout",
     "output_type": "stream",
     "text": [
      "List type: <class 'list'>\n",
      "\n",
      "['tesla', 'maxwell', 'einstein', 'newton']\n"
     ]
    }
   ],
   "source": [
    "####\n",
    "# list - 'strings'\n",
    "\n",
    "newtonName = 'newton'\n",
    "\n",
    "listStrings = ['tesla','maxwell','einstein',newtonName]\n",
    "\n",
    "print('List type:',type(listStrings))\n",
    "print()\n",
    "\n",
    "print(listStrings)"
   ]
  },
  {
   "cell_type": "code",
   "execution_count": 3,
   "metadata": {},
   "outputs": [
    {
     "name": "stdout",
     "output_type": "stream",
     "text": [
      "List type: <class 'list'>\n",
      "\n",
      "[42, 3.14, 2.718]\n"
     ]
    }
   ],
   "source": [
    "####\n",
    "# list - numbers\n",
    "\n",
    "PI = 3.14\n",
    "\n",
    "listNumbers = [42,PI,2.718,]\n",
    "\n",
    "print('List type:',type(listNumbers))\n",
    "print()\n",
    "\n",
    "print(listNumbers)"
   ]
  },
  {
   "cell_type": "code",
   "execution_count": 4,
   "metadata": {},
   "outputs": [
    {
     "name": "stdout",
     "output_type": "stream",
     "text": [
      "List type: <class 'list'>\n",
      "\n",
      "[42, 3.14, 'newton', 'maxwell', 'tesla']\n"
     ]
    }
   ],
   "source": [
    "####\n",
    "# list - mixed values\n",
    "\n",
    "mixedValues = [42,PI,newtonName,'maxwell','tesla']\n",
    "\n",
    "print('List type:',type(mixedValues))\n",
    "print()\n",
    "\n",
    "print(mixedValues)"
   ]
  },
  {
   "cell_type": "code",
   "execution_count": 5,
   "metadata": {},
   "outputs": [
    {
     "name": "stdout",
     "output_type": "stream",
     "text": [
      "<class 'int'>\n",
      "<class 'float'>\n",
      "<class 'str'>\n",
      "<class 'str'>\n",
      "<class 'str'>\n"
     ]
    }
   ],
   "source": [
    "for listItem in mixedValues:\n",
    "    print(type(listItem))"
   ]
  },
  {
   "cell_type": "markdown",
   "metadata": {},
   "source": [
    "## `nested lists`\n",
    "- lists contained within another list"
   ]
  },
  {
   "cell_type": "code",
   "execution_count": 6,
   "metadata": {},
   "outputs": [
    {
     "name": "stdout",
     "output_type": "stream",
     "text": [
      "[['tesla', 'maxwell', 'einstein', 'newton'], [42, 3.14, 2.718], [42, 3.14, 'newton', 'maxwell', 'tesla']]\n",
      "\n",
      "[['tesla', 'maxwell', 'einstein', 'newton'], [42, 3.14, 2.718]]\n"
     ]
    }
   ],
   "source": [
    "# lists can contain various types\n",
    "# lists can also contain other lists\n",
    "\n",
    "listWithLists = [listStrings,listNumbers,mixedValues]\n",
    "\n",
    "print(listWithLists)\n",
    "print()\n",
    "\n",
    "print(listWithLists[:-1])  # prints list 'string'[:-1] - print() s to last [index] not included"
   ]
  },
  {
   "cell_type": "code",
   "execution_count": 7,
   "metadata": {},
   "outputs": [
    {
     "name": "stdout",
     "output_type": "stream",
     "text": [
      "[['tesla', 'maxwell', 'einstein', 'newton'], [42, 3.14, 2.718], [42, 3.14, 'newton', 'maxwell', 'tesla']]\n"
     ]
    }
   ],
   "source": [
    "print(listWithLists)"
   ]
  },
  {
   "cell_type": "markdown",
   "metadata": {},
   "source": [
    "## `Accessing list elements` (items) \n",
    "- list[ ] with the bracket operator [ ] and an index as the argument\n",
    "- [index] must be int - not float \n",
    "- can be int expression\n",
    "- list[index] same as 'string'[index]"
   ]
  },
  {
   "cell_type": "markdown",
   "metadata": {},
   "source": [
    "#### `list mapping` - the relationship between `[indices]` and `elements` (items)"
   ]
  },
  {
   "cell_type": "code",
   "execution_count": 5,
   "metadata": {
    "scrolled": true
   },
   "outputs": [
    {
     "name": "stdout",
     "output_type": "stream",
     "text": [
      "['NOAA-19', 'GOES-14', 'GOES-15', 'GOES-16']\n",
      "\n",
      "GOES-16\n",
      "\n",
      "GOES-16\n"
     ]
    }
   ],
   "source": [
    "satellites = ['NOAA-19','GOES-14','GOES-15','GOES-16']\n",
    "\n",
    "print(satellites)\n",
    "print()\n",
    "\n",
    "print(satellites[3])\n",
    "print()\n",
    "\n",
    "print(['NOAA-19','GOES-14','GOES-15','GOES-16'][3])"
   ]
  },
  {
   "cell_type": "markdown",
   "metadata": {},
   "source": [
    "## list `[indices]` MUST be `int` not float"
   ]
  },
  {
   "cell_type": "code",
   "execution_count": 15,
   "metadata": {},
   "outputs": [],
   "source": [
    "# TypeError: list indices must be integers or slices, not float\n",
    "\n",
    "satellites = ['NOAA-19','GOES-14','GOES-15','GOES-16']\n",
    "\n",
    "#print(satellites[0.0])"
   ]
  },
  {
   "cell_type": "markdown",
   "metadata": {},
   "source": [
    "## Attempting to `access` or `reassign` an `index` that is `not in range` will result in error"
   ]
  },
  {
   "cell_type": "code",
   "execution_count": 7,
   "metadata": {},
   "outputs": [],
   "source": [
    "# IndexError: list index out of range\n",
    "\n",
    "satellites = ['NOAA-19','GOES-14','GOES-15','GOES-16']\n",
    "\n",
    "#satellites[4]"
   ]
  },
  {
   "cell_type": "code",
   "execution_count": 9,
   "metadata": {},
   "outputs": [],
   "source": [
    "# IndexError: list assignment index out of range\n",
    "\n",
    "satellites = ['NOAA-19','GOES-14','GOES-15','GOES-16']\n",
    "\n",
    "# satellites[7] = '**NEW ENTRY**'"
   ]
  },
  {
   "cell_type": "markdown",
   "metadata": {},
   "source": [
    "## `Negative [index]` values `count backwards` from `end of list`"
   ]
  },
  {
   "cell_type": "code",
   "execution_count": 19,
   "metadata": {},
   "outputs": [
    {
     "name": "stdout",
     "output_type": "stream",
     "text": [
      "['NOAA-19', 'GOES-14', 'GOES-15', 'GOES-16']\n",
      "GOES-16\n",
      "GOES-15\n",
      "GOES-14\n",
      "NOAA-19\n"
     ]
    }
   ],
   "source": [
    "satellites = ['NOAA-19','GOES-14','GOES-15','GOES-16']\n",
    "\n",
    "print(satellites)\n",
    "\n",
    "print(satellites[-1])\n",
    "\n",
    "print(satellites[-2])\n",
    "\n",
    "print(satellites[-3])\n",
    "\n",
    "print(satellites[-4])"
   ]
  },
  {
   "cell_type": "code",
   "execution_count": 16,
   "metadata": {},
   "outputs": [
    {
     "name": "stdout",
     "output_type": "stream",
     "text": [
      "GOES-16 GOES-15 GOES-14 NOAA-19\n"
     ]
    }
   ],
   "source": [
    "print(satellites[-1],satellites[-2],satellites[-3],satellites[-4])"
   ]
  },
  {
   "cell_type": "code",
   "execution_count": 13,
   "metadata": {},
   "outputs": [
    {
     "name": "stdout",
     "output_type": "stream",
     "text": [
      "GOES-16\n"
     ]
    }
   ],
   "source": [
    "print(['NOAA-19','GOES-14','GOES-15','GOES-16'][-1])"
   ]
  },
  {
   "cell_type": "markdown",
   "metadata": {},
   "source": [
    "## Any `integer expression` can be used as an `[index]`"
   ]
  },
  {
   "cell_type": "code",
   "execution_count": 22,
   "metadata": {},
   "outputs": [
    {
     "name": "stdout",
     "output_type": "stream",
     "text": [
      "GOES-14\n",
      "GOES-14\n",
      "\n",
      "GOES-16 GOES-15 GOES-14 NOAA-19\n"
     ]
    }
   ],
   "source": [
    "# integer expression [index] access\n",
    "\n",
    "satellites = ['NOAA-19','GOES-14','GOES-15','GOES-16']\n",
    "\n",
    "print(satellites[0+1])\n",
    "print(satellites[1**3])\n",
    "print()"
   ]
  },
  {
   "cell_type": "markdown",
   "metadata": {},
   "source": [
    "# `lists are mutable`\n",
    "\n",
    "### `mutable`\n",
    "CAN be modified\n",
    "\n",
    "#### `[element,element]`  or  `list()`\n",
    "- is an `object` - evaluates to a value\n",
    "\n",
    "#### `list[index]`\n",
    "- `returns a value` from sequence\n",
    "\n",
    "- list[index] selections can be changed (mutable)\n",
    "- lists elements(items) can be changed or reordered"
   ]
  },
  {
   "cell_type": "markdown",
   "metadata": {},
   "source": [
    "### `list[index]` CAN be used to `change` the `elements` in the `list`\n",
    "\n",
    "- unlike 'string'[index] selections"
   ]
  },
  {
   "cell_type": "markdown",
   "metadata": {},
   "source": [
    "#### list[index] --> returns element as a value\n",
    "#### list[index] = newValue --> element selector reassignment using bracket operators on the left side of an assignment statement\n",
    "#### identifies which element to be reassigned (overwritten) or edited (added to)"
   ]
  },
  {
   "cell_type": "code",
   "execution_count": 23,
   "metadata": {},
   "outputs": [
    {
     "name": "stdout",
     "output_type": "stream",
     "text": [
      "['NOAA-19', 'GOES-14', 'GOES-15', 'GOES-16']\n",
      "\n",
      "['RapidEye', 'WorldView-4', 'GOES-15', 'GOES-16']\n"
     ]
    }
   ],
   "source": [
    "# Reassign mutable list element a new value\n",
    "\n",
    "satellites = ['NOAA-19','GOES-14','GOES-15','GOES-16']\n",
    "\n",
    "print(satellites)\n",
    "print()\n",
    "    \n",
    "satellites[0] = 'RapidEye'\n",
    "satellites[1] = 'WorldView-4'\n",
    "\n",
    "print(satellites)"
   ]
  },
  {
   "cell_type": "code",
   "execution_count": 59,
   "metadata": {},
   "outputs": [
    {
     "name": "stdout",
     "output_type": "stream",
     "text": [
      "[0.01, 0.02, 0.03, 0.04]\n"
     ]
    }
   ],
   "source": [
    "listNumbers = [1,2,3,4]\n",
    "\n",
    "for i in range(4):\n",
    "    \n",
    "    listNumbers[i] = listNumbers[i]/100\n",
    "print(listNumbers)"
   ]
  },
  {
   "cell_type": "markdown",
   "metadata": {},
   "source": [
    "## accessing `nested lists`"
   ]
  },
  {
   "cell_type": "code",
   "execution_count": 13,
   "metadata": {},
   "outputs": [
    {
     "name": "stdout",
     "output_type": "stream",
     "text": [
      "['blue crabs', 'rock fish', 'striped bass', ['Mcintosh River', 'Breton Bay']]\n"
     ]
    }
   ],
   "source": [
    "localWildLife = ['blue crabs','rock fish','striped bass',['Mcintosh River','Breton Bay']]\n",
    "\n",
    "print(localWildLife)"
   ]
  },
  {
   "cell_type": "code",
   "execution_count": 12,
   "metadata": {},
   "outputs": [
    {
     "data": {
      "text/plain": [
       "'Breton Bay'"
      ]
     },
     "execution_count": 12,
     "metadata": {},
     "output_type": "execute_result"
    }
   ],
   "source": [
    "####\n",
    "# access an element within a nested list\n",
    "\n",
    "localWildLife[3][1]"
   ]
  },
  {
   "cell_type": "markdown",
   "metadata": {},
   "source": [
    "## 'string' `in` list\n",
    "### in boolean works with lists\n",
    "- like 'strings'"
   ]
  },
  {
   "cell_type": "code",
   "execution_count": 24,
   "metadata": {},
   "outputs": [
    {
     "data": {
      "text/plain": [
       "False"
      ]
     },
     "execution_count": 24,
     "metadata": {},
     "output_type": "execute_result"
    }
   ],
   "source": [
    "satellites = ['NOAA-19','GOES-14','GOES-15','GOES-16']\n",
    "\n",
    "'RapidEye' in satellites"
   ]
  },
  {
   "cell_type": "code",
   "execution_count": 25,
   "metadata": {},
   "outputs": [
    {
     "data": {
      "text/plain": [
       "True"
      ]
     },
     "execution_count": 25,
     "metadata": {},
     "output_type": "execute_result"
    }
   ],
   "source": [
    "satellites = ['NOAA-19','GOES-14','GOES-15','GOES-16']\n",
    "\n",
    "'NOAA-19' in satellites"
   ]
  },
  {
   "cell_type": "markdown",
   "metadata": {},
   "source": [
    "## Traversing lists"
   ]
  },
  {
   "cell_type": "markdown",
   "metadata": {},
   "source": [
    "### For loop"
   ]
  },
  {
   "cell_type": "code",
   "execution_count": 30,
   "metadata": {},
   "outputs": [
    {
     "name": "stdout",
     "output_type": "stream",
     "text": [
      "NOAA-19\n",
      "GOES-15\n",
      "GeoEye-1\n",
      "WorldView-4\n"
     ]
    }
   ],
   "source": [
    "# For loop - list traversal\n",
    "\n",
    "satellites = ['NOAA-19','GOES-15','GeoEye-1','WorldView-4']\n",
    "\n",
    "for currentSatellite in satellites:\n",
    "    \n",
    "    print(currentSatellite)"
   ]
  },
  {
   "cell_type": "markdown",
   "metadata": {},
   "source": [
    "## An iterator variable - counting variable or iterator\n",
    "- is needed to access [indices]\n",
    "- or to reassign values to [indices]"
   ]
  },
  {
   "cell_type": "markdown",
   "metadata": {},
   "source": [
    "### For loop - counting variable"
   ]
  },
  {
   "cell_type": "code",
   "execution_count": 34,
   "metadata": {},
   "outputs": [
    {
     "name": "stdout",
     "output_type": "stream",
     "text": [
      "['NOAA-19 **STRING ADDED**', 'GOES-15 **STRING ADDED**', 'GeoEye-1 **STRING ADDED**', 'WorldView-4 **STRING ADDED**']\n"
     ]
    }
   ],
   "source": [
    "# For loop - counting variable - list traversal\n",
    "\n",
    "satellites = ['NOAA-19','GOES-15','GeoEye-1','WorldView-4']\n",
    "\n",
    "\n",
    "count = 0\n",
    "\n",
    "for currentSatellite in satellites:\n",
    "    \n",
    "    satellites[count] = satellites[count] + ' **STRING ADDED**'\n",
    "    \n",
    "    count += 1\n",
    "    \n",
    "print(satellites)"
   ]
  },
  {
   "cell_type": "markdown",
   "metadata": {},
   "source": [
    "### For i in range(stop index) loop - iterator variable\n",
    "- iterator is a variable For iterator in range()\n",
    "- range returns list of [indices] (integer values) - can be int (constant), variable, expression, function ( len(list) )\n",
    "- range(N) - length --> N - last [index] --> N-1\n",
    "- range() - range integer is not included \n",
    " \n",
    " for i in range(4)\n",
    " - for iterator ( i < 4 ) --> range(4)\n",
    " - same as i=0; i < 4; i++"
   ]
  },
  {
   "cell_type": "code",
   "execution_count": 62,
   "metadata": {},
   "outputs": [
    {
     "name": "stdout",
     "output_type": "stream",
     "text": [
      "range(0, 4)\n"
     ]
    }
   ],
   "source": [
    "print(range(4))"
   ]
  },
  {
   "cell_type": "code",
   "execution_count": 35,
   "metadata": {},
   "outputs": [
    {
     "name": "stdout",
     "output_type": "stream",
     "text": [
      "0\n",
      "1\n",
      "2\n",
      "3\n"
     ]
    }
   ],
   "source": [
    "for iterator in range(4):\n",
    "    print(iterator)"
   ]
  },
  {
   "cell_type": "code",
   "execution_count": 47,
   "metadata": {},
   "outputs": [
    {
     "name": "stdout",
     "output_type": "stream",
     "text": [
      "['NOAA-19 **STRING ADDED** index 0', 'GOES-15 **STRING ADDED** index 1', 'GeoEye-1 **STRING ADDED** index 2', 'WorldView-4 **STRING ADDED** index 3']\n"
     ]
    }
   ],
   "source": [
    "# For i in range() loop - iterator variable - list traversal\n",
    "# add to current element\n",
    "\n",
    "#                 0          1       2              3         # len(satellites)    --> 4\n",
    "satellites = ['NOAA-19','GOES-15','GeoEye-1','WorldView-4']   # satellites [index] --> 0 1 2 3\n",
    "\n",
    "\n",
    "for i in range(len(satellites)):                              # iterator - i\n",
    "                                                              # range - len(satellites)\n",
    "    satellites[i] = satellites[i] + ' **STRING ADDED** index ' + str(i)\n",
    "\n",
    "print(satellites)"
   ]
  },
  {
   "cell_type": "code",
   "execution_count": 51,
   "metadata": {},
   "outputs": [
    {
     "name": "stdout",
     "output_type": "stream",
     "text": [
      "['**STRING OVERWRITE**  at index 0', '**STRING OVERWRITE**  at index 1', '**STRING OVERWRITE**  at index 2', '**STRING OVERWRITE**  at index 3']\n"
     ]
    }
   ],
   "source": [
    "# For i in range() loop - iterator variable - list traversal\n",
    "# overwrite current element\n",
    "\n",
    "#                 0          1       2              3         # len(satellites)    --> 4\n",
    "satellites = ['NOAA-19','GOES-15','GeoEye-1','WorldView-4']   # satellites [index] --> 0 1 2 3\n",
    "\n",
    "\n",
    "for i in range(len(satellites)):                              # iterator - i\n",
    "                                                              # range - len(satellites)\n",
    "    satellites[i] = '**STRING OVERWRITE**  at index ' + str(i)\n",
    "\n",
    "print(satellites)"
   ]
  },
  {
   "cell_type": "code",
   "execution_count": 60,
   "metadata": {},
   "outputs": [
    {
     "name": "stdout",
     "output_type": "stream",
     "text": [
      "[0.01, 0.02, 0.03, 0.04]\n"
     ]
    }
   ],
   "source": [
    "# For i in range() loop - iterator variable - list traversal\n",
    "# use current [index] in expression to assign new value to [index]\n",
    "# numbers\n",
    "\n",
    "\n",
    "listNumbers = [1,2,3,4]\n",
    "\n",
    "for i in range(4):\n",
    "    \n",
    "    listNumbers[i] = listNumbers[i]/100\n",
    "print(listNumbers)"
   ]
  },
  {
   "cell_type": "markdown",
   "metadata": {},
   "source": [
    "### For i in range(start, stop, step) loop - iterator variable\n",
    "#### iterator is a variable For iterator in range(start, stop, step)\n",
    "#### range returns list of [indices] (integer values) - can be int (constant), variable, expression, function ( len(list) )<br/>\n",
    "- range(START, stop, step) - begin  --> START index - first[index]  --> START index\n",
    "- range(start,STOP, step)  - length --> STOP index  - last [index]  --> STOP  index-1 (STOP integer is not included)\n",
    "- range(start, stop, step) - step   --> STEP index  - skip [index]  --> STEP  index - iterator variable takes step index value  every succeding iteration\n"
   ]
  },
  {
   "cell_type": "code",
   "execution_count": 1,
   "metadata": {},
   "outputs": [
    {
     "data": {
      "text/plain": [
       "range(0, 5)"
      ]
     },
     "execution_count": 1,
     "metadata": {},
     "output_type": "execute_result"
    }
   ],
   "source": [
    "range(15)"
   ]
  },
  {
   "cell_type": "markdown",
   "metadata": {},
   "source": [
    "### list can take argument - range() \n",
    "- returns list with rang(stop) \n",
    "- default first element - 0\n",
    "- stop-1 as final element"
   ]
  },
  {
   "cell_type": "code",
   "execution_count": 23,
   "metadata": {},
   "outputs": [
    {
     "data": {
      "text/plain": [
       "range(2, 15)"
      ]
     },
     "execution_count": 23,
     "metadata": {},
     "output_type": "execute_result"
    }
   ],
   "source": [
    "range(2,15)"
   ]
  },
  {
   "cell_type": "code",
   "execution_count": 14,
   "metadata": {},
   "outputs": [
    {
     "data": {
      "text/plain": [
       "[2, 3, 4, 5, 6, 7, 8, 9, 10, 11, 12, 13, 14]"
      ]
     },
     "execution_count": 14,
     "metadata": {},
     "output_type": "execute_result"
    }
   ],
   "source": [
    "# a list of range [2,15)\n",
    "\n",
    "list(range(2,15))"
   ]
  },
  {
   "cell_type": "code",
   "execution_count": 15,
   "metadata": {},
   "outputs": [
    {
     "data": {
      "text/plain": [
       "[2, 5, 8, 11, 14]"
      ]
     },
     "execution_count": 15,
     "metadata": {},
     "output_type": "execute_result"
    }
   ],
   "source": [
    "# a list of range [2,15) - skip 3\n",
    "\n",
    "list(range(2,15,3))"
   ]
  },
  {
   "cell_type": "code",
   "execution_count": 17,
   "metadata": {},
   "outputs": [
    {
     "name": "stdout",
     "output_type": "stream",
     "text": [
      "0\n",
      "1\n",
      "2\n",
      "3\n",
      "4\n",
      "5\n",
      "6\n",
      "7\n",
      "8\n",
      "9\n"
     ]
    }
   ],
   "source": [
    "for iterator in range(10):\n",
    "    print(iterator)"
   ]
  },
  {
   "cell_type": "code",
   "execution_count": 21,
   "metadata": {},
   "outputs": [
    {
     "name": "stdout",
     "output_type": "stream",
     "text": [
      "7\n",
      "8\n",
      "9\n"
     ]
    }
   ],
   "source": [
    "for iterator in range(7,10):\n",
    "    print(iterator)"
   ]
  },
  {
   "cell_type": "code",
   "execution_count": 20,
   "metadata": {},
   "outputs": [
    {
     "name": "stdout",
     "output_type": "stream",
     "text": [
      "2\n",
      "5\n",
      "8\n"
     ]
    }
   ],
   "source": [
    "for iterator in range(2,10,3):\n",
    "    print(iterator)"
   ]
  },
  {
   "cell_type": "markdown",
   "metadata": {},
   "source": [
    "## List is considered True - if populated with elements\n",
    "## List is considered False - is empty [ ]\n",
    "\n",
    "- When used as condition in Loop header"
   ]
  },
  {
   "cell_type": "code",
   "execution_count": 52,
   "metadata": {},
   "outputs": [],
   "source": [
    "# empty list - in loop header - loop is not executed\n",
    "\n",
    "for iterator in []:       # loop never executes\n",
    "    \n",
    "    print(iterator)"
   ]
  },
  {
   "cell_type": "code",
   "execution_count": 2,
   "metadata": {},
   "outputs": [
    {
     "data": {
      "text/plain": [
       "False"
      ]
     },
     "execution_count": 2,
     "metadata": {},
     "output_type": "execute_result"
    }
   ],
   "source": [
    "####\n",
    "# Empty list is False\n",
    "# List with values is False\n",
    "# List as boolean condition in loop header is True\n",
    "\n",
    "[] == True"
   ]
  },
  {
   "cell_type": "code",
   "execution_count": 53,
   "metadata": {},
   "outputs": [
    {
     "name": "stdout",
     "output_type": "stream",
     "text": [
      "False\n",
      "\n"
     ]
    }
   ],
   "source": [
    "####\n",
    "listExampleEmpty = []\n",
    "\n",
    "print(listExampleEmpty  == True)    # list without value - False\n",
    "print()\n",
    "\n",
    "\n",
    "while listExampleEmpty:\n",
    "    print('While loop executed')\n",
    "    break"
   ]
  },
  {
   "cell_type": "code",
   "execution_count": 54,
   "metadata": {},
   "outputs": [
    {
     "name": "stdout",
     "output_type": "stream",
     "text": [
      "False\n",
      "\n",
      "While loop executed\n"
     ]
    }
   ],
   "source": [
    "####\n",
    "listExample = ['element','item']\n",
    "\n",
    "print(listExample  == True)          # list with value - still false - but True in header for loop condition\n",
    "print()\n",
    "\n",
    "\n",
    "while listExample:\n",
    "    print('While loop executed')\n",
    "    break"
   ]
  },
  {
   "cell_type": "markdown",
   "metadata": {},
   "source": [
    "### Nested lists - count as 1 element in list\n"
   ]
  },
  {
   "cell_type": "code",
   "execution_count": 55,
   "metadata": {},
   "outputs": [
    {
     "data": {
      "text/plain": [
       "4"
      ]
     },
     "execution_count": 55,
     "metadata": {},
     "output_type": "execute_result"
    }
   ],
   "source": [
    "# Nested lists - count as 1 element in list\n",
    "\n",
    "listMixed = ['guitar',0,3.14,True]\n",
    "\n",
    "listContainingLists = ['string', 42, 3.14, listMixed]\n",
    "\n",
    "\n",
    "len(listContainingLists)"
   ]
  },
  {
   "cell_type": "markdown",
   "metadata": {},
   "source": [
    "### For loop - iterator variable - directly access [indices] value through iterator\n",
    "- [index] value - CAN NOT be changed\n",
    "- value in iterator variable can be changed"
   ]
  },
  {
   "cell_type": "code",
   "execution_count": 33,
   "metadata": {},
   "outputs": [
    {
     "name": "stdout",
     "output_type": "stream",
     "text": [
      "OVERWRITE\n",
      "OVERWRITE\n",
      "OVERWRITE\n",
      "OVERWRITE\n",
      "['NOAA-19', 'GOES-15', 'GeoEye-1', 'WorldView-4']\n"
     ]
    }
   ],
   "source": [
    "# For loop - list traversal\n",
    "\n",
    "satellites = ['NOAA-19','GOES-15','GeoEye-1','WorldView-4']\n",
    "\n",
    "for currentSatellite in satellites:\n",
    "    \n",
    "    currentSatellite = 'OVERWRITE'\n",
    "    print(currentSatellite)\n",
    "    \n",
    "print(satellites)"
   ]
  },
  {
   "cell_type": "markdown",
   "metadata": {},
   "source": [
    "## List operators"
   ]
  },
  {
   "cell_type": "markdown",
   "metadata": {},
   "source": [
    "### + operator - concatenates lists"
   ]
  },
  {
   "cell_type": "code",
   "execution_count": 63,
   "metadata": {},
   "outputs": [
    {
     "name": "stdout",
     "output_type": "stream",
     "text": [
      "['string', 42, 3.14, ['guitar', 0, 3.14, True], 'NOAA-19', 'GOES-15', 'GeoEye-1', 'WorldView-4']\n"
     ]
    }
   ],
   "source": [
    "# concatenate lists\n",
    "\n",
    "listContainingLists = ['string',42,3.14,listMixed]\n",
    "\n",
    "satellites = ['NOAA-19','GOES-15','GeoEye-1','WorldView-4']\n",
    "\n",
    "\n",
    "mondoList = listContainingLists + satellites\n",
    "\n",
    "print(mondoList)"
   ]
  },
  {
   "cell_type": "markdown",
   "metadata": {},
   "source": [
    "### * operator - repeates elements of list in new list"
   ]
  },
  {
   "cell_type": "code",
   "execution_count": 65,
   "metadata": {},
   "outputs": [
    {
     "name": "stdout",
     "output_type": "stream",
     "text": [
      "[42, 'string', 42, 'string', 42, 'string', 42, 'string']\n"
     ]
    }
   ],
   "source": [
    "# * operator repeats elements within list in new list value\n",
    "\n",
    "simpleList = [42,'string']\n",
    "\n",
    "multipleList = simpleList * 4        # repeats simpleList 4x in a new list\n",
    "\n",
    "\n",
    "print(multipleList)"
   ]
  },
  {
   "cell_type": "markdown",
   "metadata": {},
   "source": [
    "### [ : ] Slice operator"
   ]
  },
  {
   "cell_type": "code",
   "execution_count": 67,
   "metadata": {},
   "outputs": [],
   "source": [
    "### [ : ] slice operator with lists"
   ]
  },
  {
   "cell_type": "code",
   "execution_count": 68,
   "metadata": {},
   "outputs": [],
   "source": [
    "satellites = ['NOAA-19','GOES-15','GeoEye-1','WorldView-4']"
   ]
  },
  {
   "cell_type": "code",
   "execution_count": 69,
   "metadata": {},
   "outputs": [
    {
     "name": "stdout",
     "output_type": "stream",
     "text": [
      "['GOES-15', 'GeoEye-1']\n"
     ]
    }
   ],
   "source": [
    "# [index] [start:end] - end not included\n",
    "\n",
    "print(satellites[1:3])\n"
   ]
  },
  {
   "cell_type": "code",
   "execution_count": 70,
   "metadata": {},
   "outputs": [
    {
     "name": "stdout",
     "output_type": "stream",
     "text": [
      "['NOAA-19', 'GOES-15']\n"
     ]
    }
   ],
   "source": [
    "# [index] [:end] - begin at 0 - end not included\n",
    "\n",
    "print(satellites[:2])\n"
   ]
  },
  {
   "cell_type": "code",
   "execution_count": 71,
   "metadata": {},
   "outputs": [
    {
     "name": "stdout",
     "output_type": "stream",
     "text": [
      "['GOES-15', 'GeoEye-1', 'WorldView-4']\n"
     ]
    }
   ],
   "source": [
    "# [index] [:end] - begin at 2 - proceed until end - END INCLUDED\n",
    "\n",
    "print(satellites[1:])\n"
   ]
  },
  {
   "cell_type": "code",
   "execution_count": 72,
   "metadata": {},
   "outputs": [
    {
     "name": "stdout",
     "output_type": "stream",
     "text": [
      "['NOAA-19', 'GOES-15', 'GeoEye-1', 'WorldView-4']\n"
     ]
    }
   ],
   "source": [
    "print(satellites[:])\n"
   ]
  },
  {
   "cell_type": "markdown",
   "metadata": {},
   "source": [
    "## Operations can\n",
    "- ### modify <br/>\n",
    "or\n",
    "- ### create <br/>\n",
    "new lists"
   ]
  },
  {
   "cell_type": "markdown",
   "metadata": {},
   "source": [
    "### The distinction between\n",
    "### modifying lists\n",
    "&\n",
    "### creating new lists"
   ]
  },
  {
   "cell_type": "code",
   "execution_count": 266,
   "metadata": {},
   "outputs": [
    {
     "data": {
      "text/plain": [
       "False"
      ]
     },
     "execution_count": 266,
     "metadata": {},
     "output_type": "execute_result"
    }
   ],
   "source": [
    "# list[index] accesses list\n",
    "# used in an expression as value on right side of =\n",
    "# creates new \n",
    "\n",
    "listExampleA = ['bowtie','fez','screwdriver']\n",
    "\n",
    "listExampleB = listExampleA + ['The Doctor','The Master']\n",
    "\n",
    "listExampleA is listExampleB"
   ]
  },
  {
   "cell_type": "markdown",
   "metadata": {},
   "source": [
    "## Objects & Values"
   ]
  },
  {
   "cell_type": "markdown",
   "metadata": {},
   "source": [
    "### variables - that point to the same value\n",
    "\n",
    "- refer to the same object\n",
    "\n",
    "variableA <br/>\n",
    "----------------> 'bowtie' <br/>\n",
    "variableB"
   ]
  },
  {
   "cell_type": "markdown",
   "metadata": {},
   "source": [
    "### variables - that point to different values\n",
    "- refer to different objects with the - same value\n",
    "\n",
    "variableA ----> 'bowtie' <br/>\n",
    "variableB ----> 'bowtie'"
   ]
  },
  {
   "cell_type": "code",
   "execution_count": 250,
   "metadata": {},
   "outputs": [],
   "source": [
    "# Python creates 1 object - both variables refer to it\n",
    "\n",
    "variableA = 'bowtie'\n",
    "\n",
    "variableB = 'bowtie'"
   ]
  },
  {
   "cell_type": "markdown",
   "metadata": {},
   "source": [
    "## `is` operator\n",
    "- boolean operator\n",
    "- checks if two variables refer to the same object/"
   ]
  },
  {
   "cell_type": "code",
   "execution_count": 243,
   "metadata": {},
   "outputs": [
    {
     "data": {
      "text/plain": [
       "True"
      ]
     },
     "execution_count": 243,
     "metadata": {},
     "output_type": "execute_result"
    }
   ],
   "source": [
    "variableA is variableB\n"
   ]
  },
  {
   "cell_type": "markdown",
   "metadata": {},
   "source": [
    "#### lists are different objects\n",
    "- two lists are different"
   ]
  },
  {
   "cell_type": "code",
   "execution_count": 245,
   "metadata": {},
   "outputs": [],
   "source": [
    "listA = ['bowtie','fez','screwdriver']\n",
    "\n",
    "listB = ['bowtie','fez','screwdriver']"
   ]
  },
  {
   "cell_type": "markdown",
   "metadata": {},
   "source": [
    "#### 2 equivalent lists\n",
    "- of same value\n",
    "\n",
    "#### but not equivalent\n",
    "- different objects"
   ]
  },
  {
   "cell_type": "code",
   "execution_count": 248,
   "metadata": {},
   "outputs": [
    {
     "data": {
      "text/plain": [
       "False"
      ]
     },
     "execution_count": 248,
     "metadata": {},
     "output_type": "execute_result"
    }
   ],
   "source": [
    "# False - lists are different objects\n",
    "\n",
    "listA is listB"
   ]
  },
  {
   "cell_type": "markdown",
   "metadata": {},
   "source": [
    "#### Equivalent\n",
    "- same value\n",
    "- different object - but not identical\n",
    "\n",
    "#### Identical\n",
    "- equivalent\n",
    "- same object - identical"
   ]
  },
  {
   "cell_type": "markdown",
   "metadata": {},
   "source": [
    "## Objects\n",
    "#### have value\n",
    "\n",
    "#### `['string','word','char']`\n",
    "- an object with value: ['string','word','char']\n",
    "\n",
    "#### `listA = ['string','word','char']`\n",
    "- an object with value: ['string','word','char']\n"
   ]
  },
  {
   "cell_type": "markdown",
   "metadata": {},
   "source": [
    "## Aliasing\n",
    "- if a variableA refers to an object\n",
    "- & is assigned to another variableB\n",
    "\n",
    "### variableA & variableB\n",
    "- have the same value"
   ]
  },
  {
   "cell_type": "markdown",
   "metadata": {},
   "source": [
    "## Reference\n",
    "- association of a variable with an object\n",
    "\n",
    "### There can be more than 1 reference to the same object\n",
    "\n",
    "### An object with more than 1 reference\n",
    "- has more than 1 name\n",
    "#### so it is called Aliased"
   ]
  },
  {
   "cell_type": "code",
   "execution_count": 3,
   "metadata": {},
   "outputs": [
    {
     "name": "stdout",
     "output_type": "stream",
     "text": [
      "['**ADDED INPUT**', 2, 3, 4]\n",
      "['**ADDED INPUT**', 2, 3, 4]\n"
     ]
    }
   ],
   "source": [
    "x = [1,2,3,4]\n",
    "\n",
    "y = x\n",
    "\n",
    "y[0] = '**ADDED INPUT**'\n",
    "\n",
    "print(x)\n",
    "print(y)"
   ]
  },
  {
   "cell_type": "code",
   "execution_count": 4,
   "metadata": {},
   "outputs": [
    {
     "name": "stdout",
     "output_type": "stream",
     "text": [
      "[1, 2, 3, 4]\n",
      "['**ADDED INPUT**', 2, 3, 4]\n"
     ]
    }
   ],
   "source": [
    "x = [1,2,3,4]\n",
    "\n",
    "y = list(x)\n",
    "\n",
    "y = x[:]\n",
    "\n",
    "y[0] = '**ADDED INPUT**'\n",
    "\n",
    "print(x)\n",
    "print(y)"
   ]
  },
  {
   "cell_type": "code",
   "execution_count": 6,
   "metadata": {},
   "outputs": [],
   "source": [
    "# Aliasing\n",
    "\n",
    "variableA = ['bowtie','fez','screwdriver']\n",
    "\n",
    "variableB = variableA"
   ]
  },
  {
   "cell_type": "code",
   "execution_count": 7,
   "metadata": {},
   "outputs": [
    {
     "data": {
      "text/plain": [
       "True"
      ]
     },
     "execution_count": 7,
     "metadata": {},
     "output_type": "execute_result"
    }
   ],
   "source": [
    "# is comparison yeilds True\n",
    "\n",
    "variableA is variableB"
   ]
  },
  {
   "cell_type": "markdown",
   "metadata": {},
   "source": [
    "### Aliased objects\n",
    "#### if 1 object is changed\n",
    "- and the object is mutable\n",
    "- all objects of the same reference are affected"
   ]
  },
  {
   "cell_type": "code",
   "execution_count": 10,
   "metadata": {},
   "outputs": [
    {
     "name": "stdout",
     "output_type": "stream",
     "text": [
      "['bowtie', 'fez', 'screwdriver', 'TARDIS', 'TARDIS']\n",
      "['bowtie', 'fez', 'screwdriver', 'TARDIS', 'TARDIS']\n"
     ]
    }
   ],
   "source": [
    "variableA.append('TARDIS')\n",
    "\n",
    "print(variableB)\n",
    "\n",
    "print(variableA)"
   ]
  },
  {
   "cell_type": "markdown",
   "metadata": {},
   "source": [
    "## Aliasing objects\n",
    "- is considered 'error prone'"
   ]
  },
  {
   "cell_type": "markdown",
   "metadata": {},
   "source": [
    "# avoid aliasing by assigning the value of a list"
   ]
  },
  {
   "cell_type": "markdown",
   "metadata": {},
   "source": [
    "# `list()`"
   ]
  },
  {
   "cell_type": "code",
   "execution_count": 12,
   "metadata": {},
   "outputs": [],
   "source": [
    "variableA = ['bowtie','fez','screwdriver']\n",
    "\n",
    "variableB = list(variableA)"
   ]
  },
  {
   "cell_type": "code",
   "execution_count": 13,
   "metadata": {
    "scrolled": true
   },
   "outputs": [
    {
     "name": "stdout",
     "output_type": "stream",
     "text": [
      "['bowtie', 'fez', 'screwdriver']\n",
      "['bowtie', 'fez', 'screwdriver', 'TARDIS']\n"
     ]
    }
   ],
   "source": [
    "variableA.append('TARDIS')\n",
    "\n",
    "print(variableB)\n",
    "\n",
    "print(variableA)"
   ]
  },
  {
   "cell_type": "markdown",
   "metadata": {},
   "source": [
    "# `listName[:]`"
   ]
  },
  {
   "cell_type": "code",
   "execution_count": 14,
   "metadata": {},
   "outputs": [],
   "source": [
    "variableA = ['bowtie','fez','screwdriver']\n",
    "\n",
    "variableB = variableA[:]"
   ]
  },
  {
   "cell_type": "code",
   "execution_count": 15,
   "metadata": {},
   "outputs": [
    {
     "name": "stdout",
     "output_type": "stream",
     "text": [
      "['bowtie', 'fez', 'screwdriver']\n",
      "['bowtie', 'fez', 'screwdriver', 'TARDIS']\n"
     ]
    }
   ],
   "source": [
    "variableA.append('TARDIS')\n",
    "\n",
    "print(variableB)\n",
    "\n",
    "print(variableA)"
   ]
  },
  {
   "cell_type": "markdown",
   "metadata": {},
   "source": [
    "# Lists are mutable\n",
    "- 'strings' do not have this capability\n",
    "### list[start:stop] - index slicing - can be used to assign new values"
   ]
  },
  {
   "cell_type": "code",
   "execution_count": 73,
   "metadata": {},
   "outputs": [
    {
     "name": "stdout",
     "output_type": "stream",
     "text": [
      "['**ADDED ITEM 1**', '**ADDED ITEM 2**', 'GeoEye-1', 'WorldView-4']\n"
     ]
    }
   ],
   "source": [
    "# [START:END] - replace specific elements - deletes elements [START:END] - end not included\n",
    "# any amount of new elements can be added\n",
    "\n",
    "satellites = ['NOAA-19','GOES-15','GeoEye-1','WorldView-4']\n",
    "\n",
    "satellites[0:2] = ['**ADDED ITEM 1**', '**ADDED ITEM 2**']\n",
    "\n",
    "\n",
    "print(satellites)"
   ]
  },
  {
   "cell_type": "code",
   "execution_count": 74,
   "metadata": {},
   "outputs": [
    {
     "name": "stdout",
     "output_type": "stream",
     "text": [
      "['**ADDED ITEM 1**', '**ADDED ITEM 2**', '**ADDED ITEM 3**', 'GOES-15', 'GeoEye-1', 'WorldView-4']\n"
     ]
    }
   ],
   "source": [
    "# [START:END] - replace specific elements - deletes elements [START:END] - end not included\n",
    "# any amount of new elements can be added\n",
    "\n",
    "satellites = ['NOAA-19','GOES-15','GeoEye-1','WorldView-4']\n",
    "\n",
    "satellites[0:1] = ['**ADDED ITEM 1**', '**ADDED ITEM 2**','**ADDED ITEM 3**']\n",
    "\n",
    "\n",
    "print(satellites)"
   ]
  },
  {
   "cell_type": "code",
   "execution_count": 77,
   "metadata": {},
   "outputs": [
    {
     "name": "stdout",
     "output_type": "stream",
     "text": [
      "['NOAA-19', '**ADDED ITEM 1**']\n"
     ]
    }
   ],
   "source": [
    "# [START:] - replaces at START and deletes any elements after\n",
    "\n",
    "satellites = ['NOAA-19','GOES-15','GeoEye-1','WorldView-4']\n",
    "\n",
    "satellites[1:] = ['**ADDED ITEM 1**']\n",
    "\n",
    "print(satellites)"
   ]
  },
  {
   "cell_type": "code",
   "execution_count": 78,
   "metadata": {},
   "outputs": [
    {
     "name": "stdout",
     "output_type": "stream",
     "text": [
      "['**ADDED ITEM 1**', 'GeoEye-1', 'WorldView-4']\n"
     ]
    }
   ],
   "source": [
    "# [:END] - replaces before END and deletes any elements before\n",
    "\n",
    "satellites = ['NOAA-19','GOES-15','GeoEye-1','WorldView-4']\n",
    "\n",
    "satellites[:2] = ['**ADDED ITEM 1**']\n",
    "\n",
    "print(satellites)"
   ]
  },
  {
   "cell_type": "code",
   "execution_count": 79,
   "metadata": {},
   "outputs": [
    {
     "name": "stdout",
     "output_type": "stream",
     "text": [
      "['**ADDED ITEM 1**']\n"
     ]
    }
   ],
   "source": [
    "# replace entire list\n",
    "\n",
    "satellites = ['NOAA-19','GOES-15','GeoEye-1','WorldView-4']\n",
    "\n",
    "satellites[:] = ['**ADDED ITEM 1**']\n",
    "\n",
    "print(satellites)"
   ]
  },
  {
   "cell_type": "markdown",
   "metadata": {},
   "source": [
    "## List methods"
   ]
  },
  {
   "cell_type": "markdown",
   "metadata": {},
   "source": [
    "## `.append()`\n",
    "- takes values or another list as an argument\n",
    "- adds to the end of the list - starting after the last [index]"
   ]
  },
  {
   "cell_type": "code",
   "execution_count": 2,
   "metadata": {},
   "outputs": [
    {
     "name": "stdout",
     "output_type": "stream",
     "text": [
      "[0]\n"
     ]
    }
   ],
   "source": [
    "####\n",
    "# list must be defined before appended or used\n",
    "\n",
    "newList = []              # or newList = list()\n",
    "newList.append(0)\n",
    "\n",
    "print(newList)"
   ]
  },
  {
   "cell_type": "code",
   "execution_count": 88,
   "metadata": {},
   "outputs": [
    {
     "name": "stdout",
     "output_type": "stream",
     "text": [
      "[1, 2, 'three', 'four']\n",
      "\n",
      "[1, 2, 'three', 'four', '3005']\n"
     ]
    }
   ],
   "source": [
    "origionalList = [1,2,'three','four']\n",
    "\n",
    "print(origionalList)\n",
    "print()\n",
    "\n",
    "\n",
    "# .append() origionalList with another list or value\n",
    "\n",
    "origionalList.append('3005')\n",
    "\n",
    "print(origionalList)"
   ]
  },
  {
   "cell_type": "code",
   "execution_count": 87,
   "metadata": {},
   "outputs": [
    {
     "name": "stdout",
     "output_type": "stream",
     "text": [
      "[1, 2, 'three', 'four']\n",
      "\n",
      "[1, 2, 'three', 'four', ['coffee', 'espresso', 'americano']]\n"
     ]
    }
   ],
   "source": [
    "origionalList = [1,2,'three','four']\n",
    "\n",
    "print(origionalList)\n",
    "print()\n",
    "\n",
    "\n",
    "# .append() origionalList with another list or value\n",
    "# list added as LIST VALUE to origionalList\n",
    "\n",
    "listCoffee = ['coffee','espresso','americano']\n",
    "\n",
    "origionalList.append(listCoffee)\n",
    "\n",
    "print(origionalList)"
   ]
  },
  {
   "cell_type": "markdown",
   "metadata": {},
   "source": [
    "## `.insert()`\n",
    "- select index to insert element\n",
    "- shifts elements after insertion point foward 1 index\n",
    "- increases list length by 1"
   ]
  },
  {
   "cell_type": "code",
   "execution_count": 16,
   "metadata": {},
   "outputs": [
    {
     "name": "stdout",
     "output_type": "stream",
     "text": [
      "['R2D2', 'C3P0']\n",
      "['R2D2', 'BB8']\n",
      "['R2D2', 'C3P0', 'BB8']\n"
     ]
    }
   ],
   "source": [
    "####\n",
    "# .insert() takes on the [index] selected - & pushes everything infront of it - 1 [index] foward\n",
    "# listItem[index] replaces items vs .insert() adds an item in current selection [index] & pushes the rest foward\n",
    "\n",
    "listOfItems = ['R2D2','C3P0']\n",
    "\n",
    "print(listOfItems)\n",
    "\n",
    "\n",
    "listOfItems[1] = 'BB8'\n",
    "\n",
    "print(listOfItems)\n",
    "\n",
    "\n",
    "listOfItems.insert(1,'C3P0')\n",
    "\n",
    "print(listOfItems)"
   ]
  },
  {
   "cell_type": "code",
   "execution_count": 17,
   "metadata": {},
   "outputs": [
    {
     "name": "stdout",
     "output_type": "stream",
     "text": [
      "['R2D2', 'C3P0', 'BB8', 'Hal9000']\n"
     ]
    }
   ],
   "source": [
    "# .inser() can select any index out of range - & will append to the end of list\n",
    "\n",
    "listOfItems.insert(20000000,'Hal9000')\n",
    "\n",
    "print(listOfItems)"
   ]
  },
  {
   "cell_type": "code",
   "execution_count": 14,
   "metadata": {},
   "outputs": [
    {
     "name": "stdout",
     "output_type": "stream",
     "text": [
      "['pen', 'pencil', 'ruler']\n",
      "Index 1: pen\n",
      "Index 2: pencil\n",
      "Index 3: ruler\n",
      "\n",
      "['pen', 'pencil sharpener', 'pencil', 'ruler']\n",
      "Index 1: pen\n",
      "Index 2: pencil sharpener\n",
      "Index 3: pencil\n",
      "Index 4: ruler\n",
      "\n"
     ]
    }
   ],
   "source": [
    "####\n",
    "# previous [index] in list is [index + 1] when item is .insert() ed at that [index]\n",
    "\n",
    "listUtensils = ['pen','pencil','ruler']\n",
    "\n",
    "print(listUtensils)\n",
    "print('Index 1:',listUtensils[0])\n",
    "print('Index 2:',listUtensils[1])\n",
    "print('Index 3:',listUtensils[2])\n",
    "print()\n",
    "\n",
    "\n",
    "listUtensils.insert(1,'pencil sharpener')\n",
    "\n",
    "print(listUtensils)\n",
    "print('Index 1:',listUtensils[0])\n",
    "print('Index 2:',listUtensils[1])\n",
    "print('Index 3:',listUtensils[2])\n",
    "print('Index 4:',listUtensils[3])\n",
    "print()"
   ]
  },
  {
   "cell_type": "code",
   "execution_count": null,
   "metadata": {},
   "outputs": [],
   "source": [
    "####\n",
    "# [index] of .insert(INDEX,item) does not matter - for out of [index]\n",
    "# if greater than the current length of the list - .insert() will default to the end of list\n",
    "# same as .append()\n",
    "\n",
    "tree_list = [\"oak\"]\n",
    "print(\"tree_list before =\", tree_list)\n",
    "\n",
    "tree_list.insert(232332,\"pine\")                # .insert(INDEX,item) can take a number greater than index size of list\n",
    "print(\"tree_list after  =\", tree_list)\n"
   ]
  },
  {
   "cell_type": "markdown",
   "metadata": {},
   "source": [
    "## `.extend()`\n",
    "- takes list as an argument\n",
    "- appends (adds) to the end of the list - starting after the last [index]\n",
    "- list argument is unmodified"
   ]
  },
  {
   "cell_type": "code",
   "execution_count": 1,
   "metadata": {},
   "outputs": [
    {
     "name": "stdout",
     "output_type": "stream",
     "text": [
      "[1, 2, 'three', 'four']\n",
      "\n",
      "[1, 2, 'three', 'four', 'coffee', 'espresso', 'americano']\n"
     ]
    }
   ],
   "source": [
    "origionalList = [1,2,'three','four']\n",
    "\n",
    "print(origionalList)\n",
    "print()\n",
    "\n",
    "\n",
    "# .extend() origionalList with another list or value\n",
    "# list added as INDIVIDUAL ELEMENTS to origionalList\n",
    "\n",
    "listCoffee = ['coffee','espresso','americano']\n",
    "\n",
    "origionalList.extend(listCoffee)\n",
    "\n",
    "print(origionalList)"
   ]
  },
  {
   "cell_type": "code",
   "execution_count": 2,
   "metadata": {},
   "outputs": [
    {
     "name": "stdout",
     "output_type": "stream",
     "text": [
      "[1, 2, 'three', 'four', 'coffee', 'espresso', 'americano', 'coffee', 'espresso', 'americano']\n"
     ]
    }
   ],
   "source": [
    "# if .extend() is in a different cell - every additional run will add .extend() argument to list.extend()\n",
    "# if list instantiation is in same cell - additional runs will keep adding only initial .extend()\n",
    "\n",
    "origionalList.extend(listCoffee)\n",
    "\n",
    "print(origionalList)"
   ]
  },
  {
   "cell_type": "code",
   "execution_count": 3,
   "metadata": {},
   "outputs": [
    {
     "name": "stdout",
     "output_type": "stream",
     "text": [
      "[1, 2, 'bowtie', 'screwdriver', 'T', 'A', 'R', 'D', 'I', 'S']\n"
     ]
    }
   ],
   "source": [
    "####\n",
    "# .extend() - adds sequence of values to the end of current list\n",
    "# a 'string' will be added as sequence of characters\n",
    "\n",
    "listExample = [1,2,'bowtie','screwdriver']\n",
    "\n",
    "listExample.extend('TARDIS')               # .extend() - argument is passed as a sequence into individual elements\n",
    "\n",
    "print(listExample)"
   ]
  },
  {
   "cell_type": "code",
   "execution_count": 4,
   "metadata": {},
   "outputs": [
    {
     "name": "stdout",
     "output_type": "stream",
     "text": [
      "[1, 2, 'bowtie', 'screwdriver']\n"
     ]
    }
   ],
   "source": [
    "####\n",
    "# .extend() - adds sequence of values to the end of current list\n",
    "# a 'string' will be added as sequence of characters\n",
    "\n",
    "listExample = [1,2,'bowtie','screwdriver']\n",
    "\n",
    "# listExample.extend(22)                           # TypeError: 'int' object is not iterable\n",
    "                                                   # argument must be a sequence - 'string' or list\n",
    "                                                   # .extend() - argument is passed as a sequence into individual elements\n",
    "print(listExample)"
   ]
  },
  {
   "cell_type": "markdown",
   "metadata": {},
   "source": [
    "## `.sort()`\n",
    "- arranges elements of list from low to high"
   ]
  },
  {
   "cell_type": "code",
   "execution_count": 97,
   "metadata": {},
   "outputs": [
    {
     "name": "stdout",
     "output_type": "stream",
     "text": [
      "['alpha', 'beta', 'delta', 'epsilon', 'gamma']\n"
     ]
    }
   ],
   "source": [
    "listStrings = ['alpha','beta','gamma','delta','epsilon']\n",
    "\n",
    "listStrings.sort()\n",
    "\n",
    "\n",
    "print(listStrings)"
   ]
  },
  {
   "cell_type": "code",
   "execution_count": 98,
   "metadata": {},
   "outputs": [
    {
     "name": "stdout",
     "output_type": "stream",
     "text": [
      "[1, 2, 3, 4, 5]\n"
     ]
    }
   ],
   "source": [
    "listNumbers = [5,1,3,4,2]\n",
    "\n",
    "listNumbers.sort()\n",
    "\n",
    "\n",
    "print(listNumbers)"
   ]
  },
  {
   "cell_type": "code",
   "execution_count": 99,
   "metadata": {},
   "outputs": [],
   "source": [
    "# .sort() - required elements to be the same type\n",
    "\n",
    "\n",
    "listNumbers = [1,2,3,4,'five']\n",
    "\n",
    "# listNumbers.sort()                   # TypeError: '<' not supported between instances of 'str' and 'int'"
   ]
  },
  {
   "cell_type": "markdown",
   "metadata": {},
   "source": [
    "## `sorted(LIST)`\n",
    "- RETURNS arranged elements of list from low to high"
   ]
  },
  {
   "cell_type": "code",
   "execution_count": 4,
   "metadata": {},
   "outputs": [
    {
     "name": "stdout",
     "output_type": "stream",
     "text": [
      "game_points: [3, 14, 0, 8, 21, 1, 3, 8]\n",
      "sorted_points: [0, 1, 3, 3, 8, 8, 14, 21]\n"
     ]
    }
   ],
   "source": [
    "# [ ] review and run example\n",
    "numbers = [3, 14, 0, 8, 21, 1, 3, 8]\n",
    "\n",
    "# use sorted()\n",
    "sortedNumbers = sorted(numbers)\n",
    "\n",
    "print(\"game_points:\", numbers)\n",
    "print(\"sorted_points:\", sortedNumbers)"
   ]
  },
  {
   "cell_type": "code",
   "execution_count": null,
   "metadata": {},
   "outputs": [],
   "source": []
  },
  {
   "cell_type": "code",
   "execution_count": null,
   "metadata": {},
   "outputs": [],
   "source": []
  },
  {
   "cell_type": "code",
   "execution_count": null,
   "metadata": {},
   "outputs": [],
   "source": []
  },
  {
   "cell_type": "markdown",
   "metadata": {},
   "source": [
    "### .reverse()"
   ]
  },
  {
   "cell_type": "code",
   "execution_count": null,
   "metadata": {},
   "outputs": [],
   "source": [
    "# [ ] review and run example\n",
    "\n",
    "cities_1 = [\"Dubai\", \"Mexico City\", \"São Paulo\", \"Hyderabad\"]\n",
    "\n",
    "\n",
    "print(\"regular\", cities_1)\n",
    "\n",
    "cities_1.reverse()\n",
    "\n",
    "print(\"reversed\", cities_1)"
   ]
  },
  {
   "cell_type": "code",
   "execution_count": null,
   "metadata": {},
   "outputs": [],
   "source": [
    "# [ ] review and run example\n",
    "# create a list of  numbers by casting a range\n",
    "\n",
    "count_list = list(range(21))\n",
    "print(\"before list\", count_list)\n",
    "\n",
    "# and reverse\n",
    "count_list.reverse()\n",
    "print(\"after list\", count_list)"
   ]
  },
  {
   "cell_type": "code",
   "execution_count": null,
   "metadata": {},
   "outputs": [],
   "source": [
    "# [ ] review and run example\n",
    "\n",
    "all_num = [0, 1, 2, 3, 4, 5, 6, 7, 8, 9, 10, 20, 30, 40, 50, 60, 70, 80, 90, 100]\n",
    "\n",
    "\n",
    "print(\"regular list\",all_num, \"\\n\")\n",
    "\n",
    "all_num.reverse()\n",
    "\n",
    "print(\"reverse list\",all_num, \"\\n\")\n",
    "\n",
    "\n",
    "num_len = len(all_num)\n",
    "\n",
    "print(\"Three Multiple\")\n",
    "for num in all_num:\n",
    "    \n",
    "#    print(num)\n",
    " #   print(num/3)\n",
    "  #  print(int(num/3))\n",
    "   # print()\n",
    "    \n",
    "    if num/3 == int(num/3):    # checks that 3 divides into number with no remainder\n",
    "                               # if num%3 == 0 - also checks for 3 divided into number without remainder\n",
    "        print(num)\n",
    "#        print()\n",
    "    else:\n",
    "        pass\n",
    "    "
   ]
  },
  {
   "cell_type": "code",
   "execution_count": null,
   "metadata": {},
   "outputs": [],
   "source": [
    "# [ ] Create two lists: fours & more_fours containing multiples of four from 4 to 44\n",
    "# [ ] combine and print so that the output is mirrored [44, 40,...8, 4, 4, 8, ...40, 44]\n",
    "\n",
    "fours = []\n",
    "moreFours = []\n",
    "\n",
    "for iterator in range(4,45,4):\n",
    "    \n",
    "    fours.append(iterator)              # creates 2 lists containing multiples 4 - [4,44]\n",
    "    moreFours.append(iterator)\n",
    "    \n",
    "moreFours.reverse()                     # .reverse() 1 identical list\n",
    "\n",
    "fours.extend(moreFours)                 # add reversed list to non-reversed list - mirror effect\n",
    "\n",
    "print(fours)"
   ]
  },
  {
   "cell_type": "markdown",
   "metadata": {},
   "source": [
    "## list methods return - None --> null methods"
   ]
  },
  {
   "cell_type": "code",
   "execution_count": 84,
   "metadata": {},
   "outputs": [
    {
     "name": "stdout",
     "output_type": "stream",
     "text": [
      "None\n"
     ]
    }
   ],
   "source": [
    "origionalList = [1,2,'three','four']\n",
    "\n",
    "listCoffee = ['coffee','espresso','americano']\n",
    "\n",
    "\n",
    "print(origionalList.append('**ELEMENT ADDED**'))"
   ]
  },
  {
   "cell_type": "markdown",
   "metadata": {},
   "source": [
    "## `.pop()`\n",
    "- takes an [index] as an argument\n",
    "- deletes selected [index]\n",
    "- returns value of deleted [index]\n",
    "- if no argument is supplied --> deletes the last [index]"
   ]
  },
  {
   "cell_type": "code",
   "execution_count": 105,
   "metadata": {},
   "outputs": [
    {
     "name": "stdout",
     "output_type": "stream",
     "text": [
      "['first element', 'second element', 'third element']\n",
      "\n",
      "second element\n",
      "['first element', 'third element']\n"
     ]
    }
   ],
   "source": [
    "listElements = ['first element','second element','third element']\n",
    "\n",
    "print(listElements)\n",
    "print()\n",
    "\n",
    "\n",
    "poppedItem = listElements.pop(1)\n",
    "\n",
    "print(poppedItem)\n",
    "print(listElements)"
   ]
  },
  {
   "cell_type": "code",
   "execution_count": 106,
   "metadata": {},
   "outputs": [
    {
     "name": "stdout",
     "output_type": "stream",
     "text": [
      "['first element', 'second element', 'third element']\n",
      "\n",
      "third element\n",
      "['first element', 'second element']\n"
     ]
    }
   ],
   "source": [
    "listElements = ['first element','second element','third element']\n",
    "\n",
    "print(listElements)\n",
    "print()\n",
    "\n",
    "\n",
    "poppedItem = listElements.pop()\n",
    "\n",
    "print(poppedItem)\n",
    "print(listElements)"
   ]
  },
  {
   "cell_type": "markdown",
   "metadata": {},
   "source": [
    "## `delete`"
   ]
  },
  {
   "cell_type": "markdown",
   "metadata": {},
   "source": [
    "## `del` list[index]\n",
    "- keyword del --> followed by list[index]\n",
    "- deletes selected element\n",
    "- shifts elements after backwards 1 index"
   ]
  },
  {
   "cell_type": "code",
   "execution_count": 107,
   "metadata": {},
   "outputs": [
    {
     "name": "stdout",
     "output_type": "stream",
     "text": [
      "['first element', 'second element', 'third element']\n",
      "\n",
      "['second element', 'third element']\n"
     ]
    }
   ],
   "source": [
    "listElements = ['first element','second element','third element']\n",
    "\n",
    "print(listElements)\n",
    "print()\n",
    "\n",
    "\n",
    "del listElements[0]                     # del list[index]\n",
    "\n",
    "print(listElements)"
   ]
  },
  {
   "cell_type": "code",
   "execution_count": 27,
   "metadata": {},
   "outputs": [
    {
     "name": "stdout",
     "output_type": "stream",
     "text": [
      "['isuzu', 'toyota', 'jeep', 'subaru']\n",
      "['isuzu', 'toyota', 'subaru']\n"
     ]
    }
   ],
   "source": [
    "####\n",
    "# del command - deletes [index] selected - no [index] before it affected - [index] after shift back [INDEX - 1]\n",
    "\n",
    "#          0       1       2       3\n",
    "cars = ['isuzu','toyota','jeep','subaru']\n",
    "\n",
    "print(cars)\n",
    "\n",
    "\n",
    "del cars[2]\n",
    "\n",
    "# after del cars[2]\n",
    "#           0       1        2\n",
    "# cars = ['isuzu','toyota',subaru']\n",
    "\n",
    "print(cars)"
   ]
  },
  {
   "cell_type": "code",
   "execution_count": 37,
   "metadata": {},
   "outputs": [
    {
     "name": "stdout",
     "output_type": "stream",
     "text": [
      "['car', 'motorcycle', 'bicycle']\n"
     ]
    }
   ],
   "source": [
    "####\n",
    "# del will keep deleting each time cell is run - unless list is reinitialized in same cell or after del\n",
    "\n",
    "vehicles = ['car','motorcycle','bicycle']\n",
    "print(vehicles)"
   ]
  },
  {
   "cell_type": "code",
   "execution_count": 39,
   "metadata": {},
   "outputs": [
    {
     "name": "stdout",
     "output_type": "stream",
     "text": [
      "['bicycle']\n"
     ]
    }
   ],
   "source": [
    "####\n",
    "# del will keep deleting each time cell is run - unless list is reinitialized in same cell or after del\n",
    "\n",
    "del vehicles[0]\n",
    "print(vehicles)"
   ]
  },
  {
   "cell_type": "markdown",
   "metadata": {},
   "source": [
    "## `del list[START:STOP]`\n",
    "- slice - list[start:stop]\n",
    "- deleted selected slice"
   ]
  },
  {
   "cell_type": "code",
   "execution_count": 134,
   "metadata": {},
   "outputs": [
    {
     "name": "stdout",
     "output_type": "stream",
     "text": [
      "['first element', 'second element', 'third element']\n",
      "\n",
      "['first element']\n"
     ]
    }
   ],
   "source": [
    "listElements = ['first element','second element','third element']\n",
    "\n",
    "print(listElements)\n",
    "print()\n",
    "\n",
    "\n",
    "del listElements[1:3]                     # del list[start:stop]\n",
    "\n",
    "print(listElements)"
   ]
  },
  {
   "cell_type": "markdown",
   "metadata": {},
   "source": [
    "## `del list[START:STOP:STEP]`\n",
    "- slice - list[start:stop]\n",
    "- deleted selected slice"
   ]
  },
  {
   "cell_type": "code",
   "execution_count": 25,
   "metadata": {},
   "outputs": [
    {
     "name": "stdout",
     "output_type": "stream",
     "text": [
      "['first element', 'second element', 'third element', 'fourth element', 'fifth element', 'sixth element', 'seventh element']\n",
      "\n",
      "['first element', 'third element', 'fifth element', 'seventh element']\n"
     ]
    }
   ],
   "source": [
    "listElements = ['first element','second element','third element','fourth element','fifth element','sixth element','seventh element']\n",
    "\n",
    "print(listElements)\n",
    "print()\n",
    "\n",
    "\n",
    "del listElements[1::2]                     # del list[start:stop]\n",
    "\n",
    "print(listElements)"
   ]
  },
  {
   "cell_type": "markdown",
   "metadata": {},
   "source": [
    "## `.remove()`\n",
    "- list.remove(element) takes a value as an argument\n",
    "- deletes selected value\n",
    "- if list [index] is not known --> can be used to delete specific value\n",
    "- return value of remove is None"
   ]
  },
  {
   "cell_type": "code",
   "execution_count": 127,
   "metadata": {},
   "outputs": [
    {
     "name": "stdout",
     "output_type": "stream",
     "text": [
      "['first element', 'second element', 'third element']\n",
      "\n",
      "['second element', 'third element']\n"
     ]
    }
   ],
   "source": [
    "listElements = ['first element','second element','third element']\n",
    "\n",
    "print(listElements)\n",
    "print()\n",
    "\n",
    "\n",
    "listElements.remove('first element')           # list.remove(element)\n",
    "\n",
    "print(listElements)"
   ]
  },
  {
   "cell_type": "code",
   "execution_count": 129,
   "metadata": {},
   "outputs": [
    {
     "name": "stdout",
     "output_type": "stream",
     "text": [
      "None\n"
     ]
    }
   ],
   "source": [
    "# .remove() returns None\n",
    "\n",
    "listElements = ['first element','second element','third element']\n",
    "\n",
    "print(listElements.remove('third element'))"
   ]
  },
  {
   "cell_type": "code",
   "execution_count": null,
   "metadata": {},
   "outputs": [],
   "source": [
    "# .remove(item) - produces error - if item is not in list - or if no argument is supplied\n",
    "\n",
    "#cars.remove('model 3')          # ValueError: list.remove(x): x not in list"
   ]
  },
  {
   "cell_type": "code",
   "execution_count": null,
   "metadata": {},
   "outputs": [],
   "source": [
    "# .remove(item) - produces error - if item is not in list - or if no argument is supplied\n",
    "\n",
    "#cars.remove()                   # TypeError: remove() takes exactly one argument (0 given)"
   ]
  },
  {
   "cell_type": "markdown",
   "metadata": {},
   "source": [
    "## `remove` vs `del`"
   ]
  },
  {
   "cell_type": "code",
   "execution_count": 43,
   "metadata": {},
   "outputs": [
    {
     "name": "stdout",
     "output_type": "stream",
     "text": [
      "['model y', 'r1t', 'forester', 'gladiator']\n",
      "['model y', 'r1t', 'gladiator']\n",
      "['model y', 'r1t']\n"
     ]
    }
   ],
   "source": [
    "# .remove(item) vs. .delete()\n",
    "\n",
    "# .remove(item) - removes specific item\n",
    "# del - deletes a specific - list[index]\n",
    "\n",
    "\n",
    "cars = ['model y','r1t','forester','gladiator']\n",
    "print(cars)\n",
    "\n",
    "\n",
    "cars.remove('forester')\n",
    "\n",
    "print(cars)\n",
    "\n",
    "\n",
    "del cars[2]\n",
    "\n",
    "print(cars)"
   ]
  },
  {
   "cell_type": "markdown",
   "metadata": {},
   "source": [
    "## List functions"
   ]
  },
  {
   "cell_type": "markdown",
   "metadata": {},
   "source": [
    "- list functions allow computations to be performed without writing a specific loop for that task"
   ]
  },
  {
   "cell_type": "code",
   "execution_count": 140,
   "metadata": {},
   "outputs": [],
   "source": [
    "listExampleString = ['fez','bowtie','screwdriver']\n",
    "\n",
    "listExampleNumber = [42, 2.718, 3.14]"
   ]
  },
  {
   "cell_type": "markdown",
   "metadata": {},
   "source": [
    "## `len()`"
   ]
  },
  {
   "cell_type": "code",
   "execution_count": 137,
   "metadata": {},
   "outputs": [
    {
     "data": {
      "text/plain": [
       "3"
      ]
     },
     "execution_count": 137,
     "metadata": {},
     "output_type": "execute_result"
    }
   ],
   "source": [
    "len(listExampleString)\n"
   ]
  },
  {
   "cell_type": "markdown",
   "metadata": {},
   "source": [
    "## `max()`"
   ]
  },
  {
   "cell_type": "code",
   "execution_count": 144,
   "metadata": {
    "scrolled": true
   },
   "outputs": [
    {
     "data": {
      "text/plain": [
       "'screwdriver'"
      ]
     },
     "execution_count": 144,
     "metadata": {},
     "output_type": "execute_result"
    }
   ],
   "source": [
    "max(listExampleString)          # 'string' max - lowercase latter in alphabet - higher\n"
   ]
  },
  {
   "cell_type": "code",
   "execution_count": 145,
   "metadata": {
    "scrolled": true
   },
   "outputs": [
    {
     "data": {
      "text/plain": [
       "42"
      ]
     },
     "execution_count": 145,
     "metadata": {},
     "output_type": "execute_result"
    }
   ],
   "source": [
    "max(listExampleNumber)"
   ]
  },
  {
   "cell_type": "markdown",
   "metadata": {},
   "source": [
    "## `min()`"
   ]
  },
  {
   "cell_type": "code",
   "execution_count": 148,
   "metadata": {},
   "outputs": [
    {
     "data": {
      "text/plain": [
       "'bowtie'"
      ]
     },
     "execution_count": 148,
     "metadata": {},
     "output_type": "execute_result"
    }
   ],
   "source": [
    "min(listExampleString)           # 'string' min - lowercase earlier in alphabet - lower\n"
   ]
  },
  {
   "cell_type": "code",
   "execution_count": 147,
   "metadata": {},
   "outputs": [
    {
     "data": {
      "text/plain": [
       "2.718"
      ]
     },
     "execution_count": 147,
     "metadata": {},
     "output_type": "execute_result"
    }
   ],
   "source": [
    "min(listExampleNumber)\n"
   ]
  },
  {
   "cell_type": "markdown",
   "metadata": {},
   "source": [
    "## `sum()`"
   ]
  },
  {
   "cell_type": "code",
   "execution_count": 151,
   "metadata": {},
   "outputs": [
    {
     "data": {
      "text/plain": [
       "47.858000000000004"
      ]
     },
     "execution_count": 151,
     "metadata": {},
     "output_type": "execute_result"
    }
   ],
   "source": [
    "sum(listExampleNumber)           # sum() - does not concatenate 'strings'"
   ]
  },
  {
   "cell_type": "markdown",
   "metadata": {},
   "source": [
    "## `sum() does not cancatenate 'string' elements in lists()"
   ]
  },
  {
   "cell_type": "code",
   "execution_count": 1,
   "metadata": {},
   "outputs": [],
   "source": [
    "# sum() - does not concatenate 'strings'\n",
    "\n",
    "# sum(listExampleString)          # TypeError: unsupported operand type(s) for +: 'int' and 'str'\n"
   ]
  },
  {
   "cell_type": "markdown",
   "metadata": {},
   "source": [
    "## While loop - counter, total, average\n",
    "### Storing total in 1 variable - updating with each iteration\n",
    "- if input group is large - more efficient on memory - 1 value in memory\n",
    "- BUT requires 2 variables for any average"
   ]
  },
  {
   "cell_type": "code",
   "execution_count": 155,
   "metadata": {},
   "outputs": [
    {
     "name": "stdout",
     "output_type": "stream",
     "text": [
      "Enter a number to add [q to quit]: 1\n",
      "Enter a number to add [q to quit]: 2\n",
      "Enter a number to add [q to quit]: 3\n",
      "Enter a number to add [q to quit]: q\n",
      "The average of 6.0 is 2.0\n"
     ]
    }
   ],
   "source": [
    "# while loop - add input numbers and return average\n",
    "\n",
    "count = 0\n",
    "total = 0\n",
    "average = 0\n",
    "\n",
    "while True:\n",
    "    \n",
    "    inputNumber = input('Enter a number to add [q to quit]: ')    # convert input after check for 'q' - quit\n",
    "    \n",
    "    if inputNumber.lower() == 'q':\n",
    "        break\n",
    "    \n",
    "    total += float(inputNumber)                                   # convert input 'string' to float for mathematival operations\n",
    "    \n",
    "    count += 1                                                    # update count variable\n",
    "\n",
    "average = total/count\n",
    "\n",
    "print('The average of',total,'is',average)\n",
    "    "
   ]
  },
  {
   "cell_type": "markdown",
   "metadata": {},
   "source": [
    "## While loop - list(), sum(list), len(list), average\n",
    "### Storing values in a list() - appending with each iteration\n",
    "- if input group is large - less efficient on memory - storing many values in memory\n",
    "- REQUIRES extra bit of memory for every number - scales with amount of elements"
   ]
  },
  {
   "cell_type": "code",
   "execution_count": 160,
   "metadata": {},
   "outputs": [
    {
     "name": "stdout",
     "output_type": "stream",
     "text": [
      "Enter a number [q to quit]: 1\n",
      "Enter a number [q to quit]: 2\n",
      "Enter a number [q to quit]: 3\n",
      "Enter a number [q to quit]: q\n",
      "The sum of [1.0, 2.0, 3.0] is 6.0 and the average is 2.0\n"
     ]
    }
   ],
   "source": [
    "# while loop - add user input numbers to list and perform mathematical operations\n",
    "\n",
    "\n",
    "listOfNumbers = []\n",
    "\n",
    "while True:\n",
    "    \n",
    "    inputNumber = input('Enter a number [q to quit]: ')\n",
    "    \n",
    "    if inputNumber.lower() == 'q':\n",
    "        break\n",
    "    \n",
    "    listOfNumbers.append(float(inputNumber))\n",
    "    \n",
    "    \n",
    "print('The sum of',listOfNumbers,'is',sum(listOfNumbers),'and the average is',sum(listOfNumbers)/len(listOfNumbers))"
   ]
  },
  {
   "cell_type": "markdown",
   "metadata": {},
   "source": [
    "## Lists & 'strings'"
   ]
  },
  {
   "cell_type": "markdown",
   "metadata": {},
   "source": [
    "## `.list()`\n",
    "- list.() splits a 'string' by characters into a list\n",
    "- returns a list containing individual characters within a 'string' with their own [indices]\n",
    "\n",
    "#### lists are sequences of values\n",
    "#### 'strings' are sequences of characters\n",
    "\n",
    "#### .list() return characters from a 'string' as a sequence of values"
   ]
  },
  {
   "cell_type": "code",
   "execution_count": 164,
   "metadata": {},
   "outputs": [
    {
     "name": "stdout",
     "output_type": "stream",
     "text": [
      "['o', 'n', 'o', 'm', 'a', 't', 'o', 'p', 'o', 'e', 'i', 'a']\n"
     ]
    }
   ],
   "source": [
    "stringExample = 'onomatopoeia'\n",
    "\n",
    "listFromString = list(stringExample)\n",
    "\n",
    "print(listFromString)"
   ]
  },
  {
   "cell_type": "code",
   "execution_count": 173,
   "metadata": {},
   "outputs": [
    {
     "name": "stdout",
     "output_type": "stream",
     "text": [
      "['A', 'l', 'l', ' ', 't', 'h', 'a', 't', ' ', 'i', 's', ' ', 'g', 'o', 'l', 'd', ' ', 'd', 'o', 'e', 's', ' ', 'n', 'o', 't', ' ', 'g', 'l', 'i', 't', 't', 'e', 'r']\n"
     ]
    }
   ],
   "source": [
    "stringExample = 'All that is gold does not glitter'\n",
    "listFromString = list(stringExample)\n",
    "\n",
    "print(listFromString)"
   ]
  },
  {
   "cell_type": "code",
   "execution_count": null,
   "metadata": {},
   "outputs": [],
   "source": [
    "####\n",
    "# list(input) - cast a 'string' to a list\n",
    "\n",
    "listExample = list('string of characters') # list.extend('string') - 'string' is cas as sequence to individual [index] elements\n",
    "\n",
    "print(listExample)"
   ]
  },
  {
   "cell_type": "code",
   "execution_count": null,
   "metadata": {},
   "outputs": [],
   "source": [
    "####\n",
    "# list.extend('string') - 'string' is cas as sequence to individual [index] elements\n",
    "\n",
    "\n",
    "listExample = []\n",
    "\n",
    "listExample.extend('string')\n",
    "\n",
    "print(listExample)"
   ]
  },
  {
   "cell_type": "code",
   "execution_count": null,
   "metadata": {},
   "outputs": [],
   "source": [
    "list('string')"
   ]
  },
  {
   "cell_type": "code",
   "execution_count": null,
   "metadata": {},
   "outputs": [],
   "source": []
  },
  {
   "cell_type": "markdown",
   "metadata": {},
   "source": [
    "## `.split()`\n",
    "- .split() - splits a 'string' into individual words in 'string' by whitespace\n",
    "- returns a list containing individual words within a 'string' with their own [indices]"
   ]
  },
  {
   "cell_type": "code",
   "execution_count": 174,
   "metadata": {},
   "outputs": [
    {
     "name": "stdout",
     "output_type": "stream",
     "text": [
      "['All', 'that', 'is', 'gold', 'does', 'not', 'glitter,', 'Not', 'all', 'those', 'who', 'wander', 'are', 'lost']\n"
     ]
    }
   ],
   "source": [
    "stringExample = 'All\\tthat is gold does not glitter,\\nNot all those who wander are lost'  # ' ' [\\t] [\\n] separate words\n",
    "stringSplit = stringExample.split()\n",
    "\n",
    "print(stringSplit)"
   ]
  },
  {
   "cell_type": "markdown",
   "metadata": {},
   "source": [
    "## `.split()` - delimiter\n",
    "- .split() - can take an argument called delimiter\n",
    "- delimiter - specifies characters to use as word boundaries - default is whitespace - ' ' [\\t] [\\n]"
   ]
  },
  {
   "cell_type": "code",
   "execution_count": 202,
   "metadata": {},
   "outputs": [
    {
     "name": "stdout",
     "output_type": "stream",
     "text": [
      "['bowtie', 'fez', 'screwdriver']\n"
     ]
    }
   ],
   "source": [
    "effectsString = 'bowtie-fez-screwdriver'\n",
    "\n",
    "effectsList = effectsString.split('-')\n",
    "\n",
    "print(effectsList)"
   ]
  },
  {
   "cell_type": "code",
   "execution_count": 198,
   "metadata": {},
   "outputs": [
    {
     "name": "stdout",
     "output_type": "stream",
     "text": [
      "['All\\tthat is gold does not glitter', '\\nNot all those who wander are lost']\n"
     ]
    }
   ],
   "source": [
    "stringExample = 'All\\tthat is gold does not glitter,\\nNot all those who wander are lost'\n",
    "\n",
    "delimiter = ','\n",
    "\n",
    "stringSplitDelimiter = stringExample.split(delimiter)\n",
    "\n",
    "print(stringSplitDelimiter)"
   ]
  },
  {
   "cell_type": "code",
   "execution_count": 5,
   "metadata": {},
   "outputs": [
    {
     "name": "stdout",
     "output_type": "stream",
     "text": [
      "['Python', 'uses', 'spaces', 'for', 'indentation']\n"
     ]
    }
   ],
   "source": [
    "####\n",
    "# .split(argument) - argument is deleted and used to seperate words\n",
    "\n",
    "# [ ] review and run example\n",
    "\n",
    "code_tip = \"PythonARGUMENTusesARGUMENTspacesARGUMENTforARGUMENTindentation\"\n",
    "tip_words = code_tip.split('ARGUMENT')\n",
    "\n",
    "print(tip_words)"
   ]
  },
  {
   "cell_type": "markdown",
   "metadata": {},
   "source": [
    "## difference between `list()` & `split()`"
   ]
  },
  {
   "cell_type": "code",
   "execution_count": null,
   "metadata": {},
   "outputs": [],
   "source": [
    "####\n",
    "# list('string')   - convert 'string' to list of characters\n",
    "# 'string'.split() - converts string to list of words\n",
    "\n",
    "print(list('Always test your code'))\n",
    "print('Always test your code'.split())"
   ]
  },
  {
   "cell_type": "markdown",
   "metadata": {},
   "source": [
    "## `.join()` - delimiter method\n",
    "- .join() is the opposite of .split()\n",
    "- concatenates elements of a list as a 'string'\n",
    "- delimiter is the object that the method is invoked from"
   ]
  },
  {
   "cell_type": "code",
   "execution_count": 211,
   "metadata": {},
   "outputs": [
    {
     "name": "stdout",
     "output_type": "stream",
     "text": [
      "Bowties are cool\n"
     ]
    }
   ],
   "source": [
    "# if delimiter is '' - no whitespace is added\n",
    "\n",
    "listOfStrings = ['Bowties', 'are', 'cool']\n",
    "\n",
    "newStringFromList = ' '.join(listOfStrings)            # 'string' argument - ' ' - as a delimiter adds space\n",
    "\n",
    "print(newStringFromList)"
   ]
  },
  {
   "cell_type": "code",
   "execution_count": 208,
   "metadata": {},
   "outputs": [
    {
     "name": "stdout",
     "output_type": "stream",
     "text": [
      "Bowtiesarecool\n"
     ]
    }
   ],
   "source": [
    "# if delimiter is '' - no whitespace is added\n",
    "\n",
    "listOfStrings = ['Bowties', 'are', 'cool']\n",
    "\n",
    "delimiter = ''\n",
    "\n",
    "newStringFromList = delimiter.join(listOfStrings)       # 'string' argument - '' - creates string without space\n",
    "\n",
    "print(newStringFromList)"
   ]
  },
  {
   "cell_type": "code",
   "execution_count": 214,
   "metadata": {},
   "outputs": [
    {
     "name": "stdout",
     "output_type": "stream",
     "text": [
      "Bowties are cool\n"
     ]
    }
   ],
   "source": [
    "# if delimiter is variable - ' ' - whitespace IS added\n",
    "\n",
    "listOfStrings = ['Bowties', 'are', 'cool']\n",
    "\n",
    "delimiter = ' '\n",
    "\n",
    "newStringFromList = delimiter.join(listOfStrings)        # 'string' argument - ' ' - as a delimiter adds space\n",
    "\n",
    "print(newStringFromList)"
   ]
  },
  {
   "cell_type": "code",
   "execution_count": 215,
   "metadata": {},
   "outputs": [
    {
     "name": "stdout",
     "output_type": "stream",
     "text": [
      "Bowties****are****cool\n"
     ]
    }
   ],
   "source": [
    "# if delimiter is ' ' - whitespace IS added\n",
    "\n",
    "listOfStrings = ['Bowties', 'are', 'cool']\n",
    "\n",
    "delimiter = '****'\n",
    "\n",
    "newStringFromList = delimiter.join(listOfStrings)        # 'string' argument - ' ' - as a delimiter adds space\n",
    "\n",
    "print(newStringFromList)"
   ]
  },
  {
   "cell_type": "markdown",
   "metadata": {},
   "source": [
    "## `cloning lists()`"
   ]
  },
  {
   "cell_type": "code",
   "execution_count": 1,
   "metadata": {},
   "outputs": [
    {
     "name": "stdout",
     "output_type": "stream",
     "text": [
      "[1, 2, 3, 4]\n",
      "[1, 2, 3, 4]\n",
      "[1, 2, 3, 4, '**added element**']\n",
      "[1, 2, 3, 4, '**added element**']\n"
     ]
    }
   ],
   "source": [
    "listAlpha = [1,2,3,4]\n",
    "\n",
    "listBeta = listAlpha\n",
    "\n",
    "\n",
    "print(listAlpha)\n",
    "\n",
    "print(listBeta)\n",
    "\n",
    "\n",
    "listAlpha.append('**added element**')\n",
    "\n",
    "print(listAlpha)\n",
    "\n",
    "print(listBeta)"
   ]
  },
  {
   "cell_type": "code",
   "execution_count": 2,
   "metadata": {},
   "outputs": [
    {
     "name": "stdout",
     "output_type": "stream",
     "text": [
      "[1, 2, 3, 4]\n",
      "[1, 2, 3, 4]\n",
      "[1, 2, 3, 4, '**added element**']\n",
      "[1, 2, 3, 4]\n"
     ]
    }
   ],
   "source": [
    "listAlpha = [1,2,3,4]\n",
    "\n",
    "listBeta = list(listAlpha)\n",
    "\n",
    "\n",
    "print(listAlpha)\n",
    "\n",
    "print(listBeta)\n",
    "\n",
    "\n",
    "listAlpha.append('**added element**')\n",
    "\n",
    "print(listAlpha)\n",
    "\n",
    "print(listBeta)"
   ]
  },
  {
   "cell_type": "markdown",
   "metadata": {},
   "source": [
    "## Parsing lines"
   ]
  },
  {
   "cell_type": "markdown",
   "metadata": {},
   "source": [
    "### To perform a computation or perform manipulation of selected parts of lines\n",
    "### A file can be split into words\n",
    "- the lines and the individual words or lines parsed to perform more specific tasks"
   ]
  },
  {
   "cell_type": "code",
   "execution_count": 240,
   "metadata": {},
   "outputs": [
    {
     "name": "stdout",
     "output_type": "stream",
     "text": [
      "Sat\n",
      "Fri\n",
      "Fri\n",
      "Fri\n",
      "Fri\n",
      "Fri\n",
      "Fri\n",
      "Fri\n",
      "Fri\n",
      "Fri\n",
      "Fri\n",
      "Fri\n",
      "Fri\n",
      "Fri\n",
      "Fri\n",
      "Fri\n",
      "Fri\n",
      "Fri\n",
      "Fri\n",
      "Fri\n",
      "Fri\n",
      "Thu\n",
      "Thu\n",
      "Thu\n",
      "Thu\n",
      "Thu\n",
      "Thu\n"
     ]
    }
   ],
   "source": [
    "textFile = open('mbox-short.txt','r')            # for loop will also iterate through lines with - handle\n",
    "\n",
    "textFileContent = textFile.readlines()\n",
    "\n",
    "\n",
    "for line in textFileContent:\n",
    "        \n",
    "    # line = line.strip()                         # .strip() whitespace\n",
    "\n",
    "    if not line.startswith('From '):              # must be 'From ' with a ' ' after 'From'\n",
    "        continue                                  # 'From:' also is in text file\n",
    "        \n",
    "    lineList = line.strip().split()               # .strip() whitespace & .split() line into list of words\n",
    "    \n",
    "    print(lineList[2])                            # each line - split by words - in a list\n",
    "    \n",
    "    "
   ]
  },
  {
   "cell_type": "code",
   "execution_count": 237,
   "metadata": {
    "scrolled": true
   },
   "outputs": [
    {
     "name": "stdout",
     "output_type": "stream",
     "text": [
      "['From', 'stephen.marquard@uct.ac.za', 'Sat', 'Jan', '5', '09:14:16', '2008']\n",
      "['From:', 'stephen.marquard@uct.ac.za']\n",
      "['From', 'louis@media.berkeley.edu', 'Fri', 'Jan', '4', '18:10:48', '2008']\n",
      "['From:', 'louis@media.berkeley.edu']\n",
      "['From', 'zqian@umich.edu', 'Fri', 'Jan', '4', '16:10:39', '2008']\n",
      "['From:', 'zqian@umich.edu']\n",
      "['From', 'rjlowe@iupui.edu', 'Fri', 'Jan', '4', '15:46:24', '2008']\n",
      "['From:', 'rjlowe@iupui.edu']\n",
      "['From', 'zqian@umich.edu', 'Fri', 'Jan', '4', '15:03:18', '2008']\n",
      "['From:', 'zqian@umich.edu']\n",
      "['From', 'rjlowe@iupui.edu', 'Fri', 'Jan', '4', '14:50:18', '2008']\n",
      "['From:', 'rjlowe@iupui.edu']\n",
      "['From', 'cwen@iupui.edu', 'Fri', 'Jan', '4', '11:37:30', '2008']\n",
      "['From:', 'cwen@iupui.edu']\n",
      "['From', 'cwen@iupui.edu', 'Fri', 'Jan', '4', '11:35:08', '2008']\n",
      "['From:', 'cwen@iupui.edu']\n",
      "['From', 'gsilver@umich.edu', 'Fri', 'Jan', '4', '11:12:37', '2008']\n",
      "['From:', 'gsilver@umich.edu']\n",
      "['From', 'gsilver@umich.edu', 'Fri', 'Jan', '4', '11:11:52', '2008']\n",
      "['From:', 'gsilver@umich.edu']\n",
      "['From', 'zqian@umich.edu', 'Fri', 'Jan', '4', '11:11:03', '2008']\n",
      "['From:', 'zqian@umich.edu']\n",
      "['From', 'gsilver@umich.edu', 'Fri', 'Jan', '4', '11:10:22', '2008']\n",
      "['From:', 'gsilver@umich.edu']\n",
      "['From', 'wagnermr@iupui.edu', 'Fri', 'Jan', '4', '10:38:42', '2008']\n",
      "['From:', 'wagnermr@iupui.edu']\n",
      "['From', 'zqian@umich.edu', 'Fri', 'Jan', '4', '10:17:43', '2008']\n",
      "['From:', 'zqian@umich.edu']\n",
      "['From', 'antranig@caret.cam.ac.uk', 'Fri', 'Jan', '4', '10:04:14', '2008']\n",
      "['From:', 'antranig@caret.cam.ac.uk']\n",
      "['From', 'gopal.ramasammycook@gmail.com', 'Fri', 'Jan', '4', '09:05:31', '2008']\n",
      "['From:', 'gopal.ramasammycook@gmail.com']\n",
      "['From', 'david.horwitz@uct.ac.za', 'Fri', 'Jan', '4', '07:02:32', '2008']\n",
      "['From:', 'david.horwitz@uct.ac.za']\n",
      "['From', 'david.horwitz@uct.ac.za', 'Fri', 'Jan', '4', '06:08:27', '2008']\n",
      "['From:', 'david.horwitz@uct.ac.za']\n",
      "['From', 'david.horwitz@uct.ac.za', 'Fri', 'Jan', '4', '04:49:08', '2008']\n",
      "['From:', 'david.horwitz@uct.ac.za']\n",
      "['From', 'david.horwitz@uct.ac.za', 'Fri', 'Jan', '4', '04:33:44', '2008']\n",
      "['From:', 'david.horwitz@uct.ac.za']\n",
      "['From', 'stephen.marquard@uct.ac.za', 'Fri', 'Jan', '4', '04:07:34', '2008']\n",
      "['From:', 'stephen.marquard@uct.ac.za']\n",
      "['From', 'louis@media.berkeley.edu', 'Thu', 'Jan', '3', '19:51:21', '2008']\n",
      "['From:', 'louis@media.berkeley.edu']\n",
      "['From', 'louis@media.berkeley.edu', 'Thu', 'Jan', '3', '17:18:23', '2008']\n",
      "['From:', 'louis@media.berkeley.edu']\n",
      "['From', 'ray@media.berkeley.edu', 'Thu', 'Jan', '3', '17:07:00', '2008']\n",
      "['From:', 'ray@media.berkeley.edu']\n",
      "['From', 'cwen@iupui.edu', 'Thu', 'Jan', '3', '16:34:40', '2008']\n",
      "['From:', 'cwen@iupui.edu']\n",
      "['From', 'cwen@iupui.edu', 'Thu', 'Jan', '3', '16:29:07', '2008']\n",
      "['From:', 'cwen@iupui.edu']\n",
      "['From', 'cwen@iupui.edu', 'Thu', 'Jan', '3', '16:23:48', '2008']\n",
      "['From:', 'cwen@iupui.edu']\n"
     ]
    }
   ],
   "source": [
    "####\n",
    "# error .startswith('From') \n",
    "\n",
    "textFile = open('mbox-short.txt','r')\n",
    "\n",
    "textFileContent = textFile.readlines()\n",
    "\n",
    "\n",
    "for line in textFileContent:\n",
    "        \n",
    "    # line = line.strip()                         # .strip() whitespace\n",
    "\n",
    "    if not line.startswith('From'):              # must be 'From ' with a ' ' after 'From'\n",
    "        continue                                  # 'From:' also is in text file\n",
    "        \n",
    "    lineList = line.strip().split()               # .strip() whitespace & .split() line into list of words\n",
    "    \n",
    "    print(lineList)                            # each line - split by words - in a list\n",
    "    \n",
    "    "
   ]
  },
  {
   "cell_type": "code",
   "execution_count": null,
   "metadata": {},
   "outputs": [],
   "source": []
  },
  {
   "cell_type": "code",
   "execution_count": null,
   "metadata": {},
   "outputs": [],
   "source": []
  },
  {
   "cell_type": "code",
   "execution_count": null,
   "metadata": {},
   "outputs": [],
   "source": []
  },
  {
   "cell_type": "code",
   "execution_count": null,
   "metadata": {},
   "outputs": [],
   "source": []
  },
  {
   "cell_type": "markdown",
   "metadata": {},
   "source": [
    "# use cases"
   ]
  },
  {
   "cell_type": "code",
   "execution_count": null,
   "metadata": {},
   "outputs": [],
   "source": [
    "# for list traverse - access but not edit\n",
    "\n",
    "\n",
    "listExample = [1,2,3]\n",
    "\n",
    "for element in listExample:\n",
    "    \n",
    "    print(element)"
   ]
  },
  {
   "cell_type": "code",
   "execution_count": null,
   "metadata": {},
   "outputs": [],
   "source": [
    "# while list - populate\n",
    "\n",
    "\n",
    "listExample = []\n",
    "\n",
    "while True:\n",
    "\n",
    "    inputPopulate = input('Enter list elements: ')\n",
    "\n",
    "    if inputPopulate.lower() == 'q':\n",
    "        break\n",
    "    \n",
    "    listExample.append(inputPopulate)    "
   ]
  },
  {
   "cell_type": "code",
   "execution_count": null,
   "metadata": {},
   "outputs": [],
   "source": [
    "# while list - unpopulate\n",
    "\n",
    "\n",
    "listExample = [1,2,3]\n",
    "\n",
    "while listExample:\n",
    "    \n",
    "    print(listExample)\n",
    "    \n",
    "    listExample.pop()\n"
   ]
  },
  {
   "cell_type": "code",
   "execution_count": null,
   "metadata": {},
   "outputs": [],
   "source": [
    "# for iterator in list - traverse - access & edit\n",
    "\n",
    "\n",
    "listExample = [1,2,3]\n",
    "\n",
    "count = 0\n",
    "\n",
    "for element in listExample:\n",
    "    \n",
    "    listExample[count] = element+1\n",
    "    print(listExample[count])\n",
    "    \n",
    "    count+=1"
   ]
  },
  {
   "cell_type": "code",
   "execution_count": null,
   "metadata": {},
   "outputs": [],
   "source": [
    "#for element in range - traverse - access & edit\n",
    "\n",
    "\n",
    "listExample = [1,2,3]\n",
    "\n",
    "for element in range(len(listExample)):\n",
    "                     \n",
    "    listExample[element] = listExample[element]+1\n",
    "    print(listExample[element])"
   ]
  },
  {
   "cell_type": "code",
   "execution_count": null,
   "metadata": {},
   "outputs": [],
   "source": [
    "# .extend() takes - iterable argument - 'string' or list\n",
    "# returns sequence as individual elements in a list\n",
    "# 'string' - returns individual sequence of characters as list\n",
    "# list - returns individual sequence of elements as list\n",
    "\n",
    "#.''join() - concatenates elements of list\n",
    "\n",
    "listExample = ['many']\n",
    "\n",
    "stringExample = 'words in a sentence'\n",
    "\n",
    "listExample.extend(stringExample.split())\n",
    "\n",
    "print(listExample)\n",
    "\n",
    "newString = ' '.join(listExample)\n",
    "\n",
    "print(newString)"
   ]
  },
  {
   "cell_type": "code",
   "execution_count": null,
   "metadata": {},
   "outputs": [],
   "source": [
    "listExample = ['many']\n",
    "\n",
    "stringExample = 'words in a sentence'\n",
    "\n",
    "listExample.extend(stringExample)        # .extend() - extend takes argument of a sequence - list or 'string'\n",
    "                                         # sequence is read in to list as seperate elements in sequence\n",
    "print(listExample)                       # list    - [index] for each element\n",
    "                                         #'string' - [index] for each character"
   ]
  },
  {
   "cell_type": "code",
   "execution_count": null,
   "metadata": {},
   "outputs": [],
   "source": [
    "#### list parameter default value\n",
    "\n",
    "# [ ] review and run example\n",
    "# city_search function has a default list of cities to search\n",
    "def city_search(search_item, cities = [\"New York\", \"Shanghai\", \"Munich\", \"Tokyo\"] ):\n",
    "    \n",
    "    for city in cities:\n",
    "        if city.lower() == search_item.lower():\n",
    "            return True\n",
    "        else:\n",
    "            # go to the next item\n",
    "            pass\n",
    "    # no more items in list\n",
    "    return False\n",
    "\n",
    "# a list of cities\n",
    "visited_cities = [\"New York\", \"Shanghai\", \"Munich\", \"Tokyo\", \"Dubai\", \"Mexico City\", \"São Paulo\", \"Hyderabad\"]\n",
    "\n",
    "search = input(\"enter a city visited: \")\n",
    "\n",
    "# Search the default city list\n",
    "print(search, \"in default cities is\", city_search(search))\n",
    "\n",
    "# search the list visited_cities using 2nd argument\n",
    "print(search, \"in visitied_cites list is\", city_search(search,visited_cities))"
   ]
  },
  {
   "cell_type": "code",
   "execution_count": null,
   "metadata": {},
   "outputs": [],
   "source": [
    "#### midpoint list iteration\n",
    "\n",
    "listCalendar = ['atumnal equinox','spring equinox','fall','Solstice','summer']\n",
    "\n",
    "midPoint = int(len(listCalendar)/2)\n",
    "\n",
    "for element in range(midPoint):                        # range(midPoint,len(listCalendar)) - print second half of list\n",
    "                                                       # returns list of range(N) - N integers - [0-(N-1)]\n",
    "    print(listCalendar[element])"
   ]
  },
  {
   "cell_type": "code",
   "execution_count": null,
   "metadata": {},
   "outputs": [],
   "source": [
    "# [ ] using range(x) multiply the numbers 1 through 7\n",
    "# 1x2x3x4x5x6x7 = 5040\n",
    "\n",
    "####\n",
    "# using just rang(stop)\n",
    "\n",
    "\n",
    "x = 8                                             # must have range(7) - for 7 iterations - [0-6] == [0-7)\n",
    "multiplier = [1,2,3,4,5,6,7]\n",
    "total = 1                                         # total = 1 - set to 1 so a numerical value is not multiplied by 0\n",
    "\n",
    "for iterator in range(7):\n",
    "\n",
    "    total *= multiplier[iterator]\n",
    "    \n",
    "    print(total)"
   ]
  },
  {
   "cell_type": "code",
   "execution_count": null,
   "metadata": {},
   "outputs": [],
   "source": [
    "# [ ] using range(x) multiply the numbers 1 through 7\n",
    "# 1x2x3x4x5x6x7 = 5040\n",
    "\n",
    "x = 8                                             # must have range(8) - for 7 iterations - [0-7] == [0-8)\n",
    "multiplier = 1\n",
    "\n",
    "for iterator in range(1,8):                       # multiplier = 1 - set to 1 so a numerical value is not multiplied by 0\n",
    "\n",
    "    multiplier *= iterator\n",
    "    \n",
    "    print(multiplier)"
   ]
  },
  {
   "cell_type": "code",
   "execution_count": null,
   "metadata": {},
   "outputs": [],
   "source": [
    "# [ ] using range(start,stop), .append() the numbers 5 to 15 to the list: five_fifteen\n",
    "# [ ] print list five_fifteen\n",
    "\n",
    "fiveFifteen = []\n",
    "\n",
    "for number in range(5,16):\n",
    "    \n",
    "    fiveFifteen.append(number)\n",
    "    \n",
    "print(fiveFifteen)"
   ]
  },
  {
   "cell_type": "code",
   "execution_count": null,
   "metadata": {},
   "outputs": [],
   "source": [
    "# [ ] review and run example casting range to list\n",
    "\n",
    "odd_list = list(range(1,20,2))\n",
    "print(odd_list)"
   ]
  },
  {
   "cell_type": "code",
   "execution_count": null,
   "metadata": {},
   "outputs": [],
   "source": []
  },
  {
   "cell_type": "code",
   "execution_count": null,
   "metadata": {},
   "outputs": [],
   "source": []
  },
  {
   "cell_type": "markdown",
   "metadata": {},
   "source": [
    "## List arguments\n",
    "- in a function - lists can be passed as arguments\n",
    "\n",
    "#### the parameter is a second reference (alias)\n",
    "#### to the list passed as an argument (the caller)"
   ]
  },
  {
   "cell_type": "code",
   "execution_count": 4,
   "metadata": {},
   "outputs": [
    {
     "name": "stdout",
     "output_type": "stream",
     "text": [
      "[2, 3]\n"
     ]
    }
   ],
   "source": [
    "def loseFirstElementReturn(listInput):\n",
    "    \n",
    "    return listInput[1:]            # RETURNS slice of the origional list\n",
    "                                    \n",
    "    #listInput = listInput[1:]      # reassigns origional variable to the new list slice\n",
    "                                    # this is not automatically returned\n",
    "\n",
    "listNumbers = [1,2,3]\n",
    "\n",
    "firstItemGone = loseFirstElementReturn(listNumbers)\n",
    "\n",
    "print(firstItemGone)"
   ]
  },
  {
   "cell_type": "code",
   "execution_count": 262,
   "metadata": {},
   "outputs": [
    {
     "name": "stdout",
     "output_type": "stream",
     "text": [
      "['bowtie', 'fez', 'screwdriver', ' - The Doctor']\n"
     ]
    }
   ],
   "source": [
    "# .append() modifies existing list\n",
    "\n",
    "def appendAuthor(listInput,authorName):\n",
    "    \n",
    "    listInput.append(authorName)\n",
    "    \n",
    "    \n",
    "    \n",
    "listExample = ['bowtie','fez','screwdriver']\n",
    "\n",
    "appendAuthor(listExample,' - The Doctor')\n",
    "\n",
    "\n",
    "print(listExample)"
   ]
  },
  {
   "cell_type": "code",
   "execution_count": 40,
   "metadata": {},
   "outputs": [
    {
     "name": "stdout",
     "output_type": "stream",
     "text": [
      "False\n",
      "True\n"
     ]
    }
   ],
   "source": [
    "####\n",
    "# empty list - [] is False\n",
    "\n",
    "emptyList = []                    # empty list - [] - is false\n",
    "                                  # emptyList - variable value is False\n",
    "print(emptyList == True)\n",
    "\n",
    "print(emptyList != 'True')"
   ]
  },
  {
   "cell_type": "code",
   "execution_count": 41,
   "metadata": {},
   "outputs": [
    {
     "name": "stdout",
     "output_type": "stream",
     "text": [
      "gladiator popped\t, list is now: ['model y', 'r1t', 'forester']\n",
      "forester popped\t, list is now: ['model y', 'r1t']\n",
      "r1t popped\t, list is now: ['model y']\n",
      "model y popped\t, list is now: []\n"
     ]
    }
   ],
   "source": [
    "####\n",
    "# values in list - True\n",
    "# empty list - False\n",
    "\n",
    "\n",
    "cars = ['model y','r1t','forester','gladiator']\n",
    "\n",
    "while cars:\n",
    "    print(cars.pop(),'popped\\t, list is now:',cars)"
   ]
  },
  {
   "cell_type": "code",
   "execution_count": 42,
   "metadata": {},
   "outputs": [
    {
     "name": "stdout",
     "output_type": "stream",
     "text": [
      "['model y', 'r1t', 'forester', 'gladiator']\n",
      "['model y', 'r1t', 'forester']\n"
     ]
    }
   ],
   "source": [
    "####\n",
    "# .remove(item) - removes specific item from list\n",
    "\n",
    "cars = ['model y','r1t','forester','gladiator']\n",
    "print(cars)\n",
    "\n",
    "cars.remove('gladiator')\n",
    "\n",
    "print(cars)"
   ]
  },
  {
   "cell_type": "code",
   "execution_count": null,
   "metadata": {},
   "outputs": [],
   "source": [
    "# if 'item' in list - remove\n",
    "\n",
    "carList = ['model y','r1t','forester','gladiator']\n",
    "\n",
    "if 'gladiator' in carList:\n",
    "    \n",
    "    carList.remove('gladiator')\n",
    "    \n",
    "print(carList)"
   ]
  },
  {
   "cell_type": "code",
   "execution_count": 44,
   "metadata": {},
   "outputs": [
    {
     "name": "stdout",
     "output_type": "stream",
     "text": [
      "['model y', 'r1t']\n"
     ]
    }
   ],
   "source": [
    "# while loop - remove\n",
    "\n",
    "carList = ['model y','r1t','forester','gladiator']\n",
    "\n",
    "\n",
    "while 'forester' in carList:\n",
    "    \n",
    "    carList.remove('forester')\n",
    "    \n",
    "print(cars)"
   ]
  },
  {
   "cell_type": "code",
   "execution_count": null,
   "metadata": {},
   "outputs": [],
   "source": []
  },
  {
   "cell_type": "code",
   "execution_count": null,
   "metadata": {},
   "outputs": [],
   "source": [
    "####\n",
    "# .read() & .readline() - return single 'string'\n",
    "# .readlines()          - returns list of 'strings' for each line\n",
    "\n",
    "# when for loop iterates through 'string' - each iterator represents only a character\n",
    "# when for loop iterates through list     - each iterator represents a whole line\n",
    "\n",
    "#.split() then seperates the line by whitespace - but .split will seperate a single character into a single [index] in list"
   ]
  },
  {
   "cell_type": "code",
   "execution_count": 176,
   "metadata": {},
   "outputs": [
    {
     "name": "stdout",
     "output_type": "stream",
     "text": [
      "Enter file name: romeo.txt\n",
      "['But soft what light through yonder window breaks\\n', 'It is the east and Juliet is the sun\\n', 'Arise fair sun and kill the envious moon\\n', 'Who is already sick and pale with grief\\n']\n",
      "\n",
      "['Arise', 'But', 'It', 'Juliet', 'Who', 'already', 'and', 'breaks', 'east', 'envious', 'fair', 'grief', 'is', 'kill', 'light', 'moon', 'pale', 'sick', 'soft', 'sun', 'the', 'through', 'what', 'window', 'with', 'yonder']\n"
     ]
    }
   ],
   "source": [
    "textFileName = input(\"Enter file name: \")\n",
    "\n",
    "try:\n",
    "    textFile = open(textFileName)\n",
    "    \n",
    "except:\n",
    "    print('Enter an existing file.')\n",
    "    \n",
    "textFileContent = textFile.readlines()\n",
    "print(textFileContent)\n",
    "print()\n",
    "\n",
    "mainList = []\n",
    "\n",
    "for line in textFileContent:\n",
    "    \n",
    "    listSearch = line.split()\n",
    "    \n",
    "    for word in listSearch:\n",
    "        if word in mainList:\n",
    "            continue\n",
    "        else:\n",
    "            mainList.append(word)\n",
    "        \n",
    "mainList.sort()\n",
    "print(mainList)"
   ]
  },
  {
   "cell_type": "code",
   "execution_count": 178,
   "metadata": {},
   "outputs": [
    {
     "name": "stdout",
     "output_type": "stream",
     "text": [
      "Enter filename: mbox-short.txt\n",
      "stephen.marquard@uct.ac.za\n",
      "louis@media.berkeley.edu\n",
      "zqian@umich.edu\n",
      "rjlowe@iupui.edu\n",
      "zqian@umich.edu\n",
      "rjlowe@iupui.edu\n",
      "cwen@iupui.edu\n",
      "cwen@iupui.edu\n",
      "gsilver@umich.edu\n",
      "gsilver@umich.edu\n",
      "zqian@umich.edu\n",
      "gsilver@umich.edu\n",
      "wagnermr@iupui.edu\n",
      "zqian@umich.edu\n",
      "antranig@caret.cam.ac.uk\n",
      "gopal.ramasammycook@gmail.com\n",
      "david.horwitz@uct.ac.za\n",
      "david.horwitz@uct.ac.za\n",
      "david.horwitz@uct.ac.za\n",
      "david.horwitz@uct.ac.za\n",
      "stephen.marquard@uct.ac.za\n",
      "louis@media.berkeley.edu\n",
      "louis@media.berkeley.edu\n",
      "ray@media.berkeley.edu\n",
      "cwen@iupui.edu\n",
      "cwen@iupui.edu\n",
      "cwen@iupui.edu\n",
      "There were 27 lines in the file with From as the first word\n"
     ]
    }
   ],
   "source": [
    "fileName = input('Enter filename: ')\n",
    "\n",
    "try:\n",
    "    textFile = open(fileName)\n",
    "except:\n",
    "    print('Enter a valid filename')\n",
    "    \n",
    "textFileContent = textFile.readlines()\n",
    "\n",
    "\n",
    "count = 0\n",
    "\n",
    "for line in textFileContent:\n",
    "    \n",
    "    if line.startswith('From '):                  # can also use guardian pattern - if line == '': continue\n",
    "                                                  # or                            - if len(line) < 0: continue\n",
    "                                                  # or                            - if splitLine = []: continue\n",
    "        splitLine = line.split()                  # or                            - if splitLine[0] != 'From ': continue\n",
    "        print(splitLine[1])\n",
    "        \n",
    "        count +=1\n",
    "        \n",
    "print('There were',count,'lines in the file with From as the first word')"
   ]
  },
  {
   "cell_type": "markdown",
   "metadata": {},
   "source": [
    "## for loop traverse - filter 'From ' - split line - split email by '@' - print domain"
   ]
  },
  {
   "cell_type": "code",
   "execution_count": 8,
   "metadata": {},
   "outputs": [
    {
     "name": "stdout",
     "output_type": "stream",
     "text": [
      "Enter filename: mbox-short.txt\n",
      "uct.ac.za\n",
      "media.berkeley.edu\n",
      "umich.edu\n",
      "iupui.edu\n",
      "umich.edu\n",
      "iupui.edu\n",
      "iupui.edu\n",
      "iupui.edu\n",
      "umich.edu\n",
      "umich.edu\n",
      "umich.edu\n",
      "umich.edu\n",
      "iupui.edu\n",
      "umich.edu\n",
      "caret.cam.ac.uk\n",
      "gmail.com\n",
      "uct.ac.za\n",
      "uct.ac.za\n",
      "uct.ac.za\n",
      "uct.ac.za\n",
      "uct.ac.za\n",
      "media.berkeley.edu\n",
      "media.berkeley.edu\n",
      "media.berkeley.edu\n",
      "iupui.edu\n",
      "iupui.edu\n",
      "iupui.edu\n"
     ]
    },
    {
     "ename": "NameError",
     "evalue": "name 'count' is not defined",
     "output_type": "error",
     "traceback": [
      "\u001b[1;31m---------------------------------------------------------------------------\u001b[0m",
      "\u001b[1;31mNameError\u001b[0m                                 Traceback (most recent call last)",
      "\u001b[1;32m<ipython-input-8-9b5d3bd06cc1>\u001b[0m in \u001b[0;36m<module>\u001b[1;34m\u001b[0m\n\u001b[0;32m     22\u001b[0m         \u001b[0mprint\u001b[0m\u001b[1;33m(\u001b[0m\u001b[0memailSplit\u001b[0m\u001b[1;33m[\u001b[0m\u001b[1;36m1\u001b[0m\u001b[1;33m]\u001b[0m\u001b[1;33m)\u001b[0m\u001b[1;33m\u001b[0m\u001b[1;33m\u001b[0m\u001b[0m\n\u001b[0;32m     23\u001b[0m \u001b[1;33m\u001b[0m\u001b[0m\n\u001b[1;32m---> 24\u001b[1;33m \u001b[0mprint\u001b[0m\u001b[1;33m(\u001b[0m\u001b[1;34m'There were'\u001b[0m\u001b[1;33m,\u001b[0m\u001b[0mcount\u001b[0m\u001b[1;33m,\u001b[0m\u001b[1;34m'lines in the file with From as the first word'\u001b[0m\u001b[1;33m)\u001b[0m\u001b[1;33m\u001b[0m\u001b[1;33m\u001b[0m\u001b[0m\n\u001b[0m",
      "\u001b[1;31mNameError\u001b[0m: name 'count' is not defined"
     ]
    }
   ],
   "source": [
    "# for loop traverse - filter 'From ' - split line - split email by '@' - print domain\n",
    "\n",
    "fileName = input('Enter filename: ')\n",
    "\n",
    "try:\n",
    "    textFile = open(fileName)\n",
    "except:\n",
    "    print('Enter a valid filename')\n",
    "    \n",
    "textFileContent = textFile.readlines()\n",
    "\n",
    "\n",
    "for line in textFileContent:\n",
    "    \n",
    "    if line.startswith('From '):                  # can also use guardian pattern - if line == '': continue\n",
    "                                                  # or                            - if len(line) < 0: continue\n",
    "                                                  # or                            - if splitLine = []: continue\n",
    "        splitLine = line.split()                  # or                            - if splitLine[0] != 'From ': continue\n",
    "\n",
    "        emailLine = splitLine[1]\n",
    "        \n",
    "        emailSplit = emailLine.split('@')\n",
    "        \n",
    "        \n",
    "        print(emailSplit[1])\n",
    "        \n",
    "print('There were',count,'lines in the file with From as the first word')"
   ]
  },
  {
   "cell_type": "code",
   "execution_count": 179,
   "metadata": {},
   "outputs": [],
   "source": [
    "textFile.close()"
   ]
  },
  {
   "cell_type": "code",
   "execution_count": 183,
   "metadata": {},
   "outputs": [
    {
     "name": "stdout",
     "output_type": "stream",
     "text": [
      "<_io.TextIOWrapper name='romeo.txt' mode='r' encoding='cp1252'>\n",
      "\n",
      "['B']\n",
      "['u']\n",
      "['t']\n",
      "[]\n",
      "['s']\n",
      "['o']\n",
      "['f']\n",
      "['t']\n",
      "[]\n",
      "['w']\n",
      "['h']\n",
      "['a']\n",
      "['t']\n",
      "[]\n",
      "['l']\n",
      "['i']\n",
      "['g']\n",
      "['h']\n",
      "['t']\n",
      "[]\n",
      "['t']\n",
      "['h']\n",
      "['r']\n",
      "['o']\n",
      "['u']\n",
      "['g']\n",
      "['h']\n",
      "[]\n",
      "['y']\n",
      "['o']\n",
      "['n']\n",
      "['d']\n",
      "['e']\n",
      "['r']\n",
      "[]\n",
      "['w']\n",
      "['i']\n",
      "['n']\n",
      "['d']\n",
      "['o']\n",
      "['w']\n",
      "[]\n",
      "['b']\n",
      "['r']\n",
      "['e']\n",
      "['a']\n",
      "['k']\n",
      "['s']\n",
      "[]\n",
      "['I']\n",
      "['t']\n",
      "[]\n",
      "['i']\n",
      "['s']\n",
      "[]\n",
      "['t']\n",
      "['h']\n",
      "['e']\n",
      "[]\n",
      "['e']\n",
      "['a']\n",
      "['s']\n",
      "['t']\n",
      "[]\n",
      "['a']\n",
      "['n']\n",
      "['d']\n",
      "[]\n",
      "['J']\n",
      "['u']\n",
      "['l']\n",
      "['i']\n",
      "['e']\n",
      "['t']\n",
      "[]\n",
      "['i']\n",
      "['s']\n",
      "[]\n",
      "['t']\n",
      "['h']\n",
      "['e']\n",
      "[]\n",
      "['s']\n",
      "['u']\n",
      "['n']\n",
      "[]\n",
      "['A']\n",
      "['r']\n",
      "['i']\n",
      "['s']\n",
      "['e']\n",
      "[]\n",
      "['f']\n",
      "['a']\n",
      "['i']\n",
      "['r']\n",
      "[]\n",
      "['s']\n",
      "['u']\n",
      "['n']\n",
      "[]\n",
      "['a']\n",
      "['n']\n",
      "['d']\n",
      "[]\n",
      "['k']\n",
      "['i']\n",
      "['l']\n",
      "['l']\n",
      "[]\n",
      "['t']\n",
      "['h']\n",
      "['e']\n",
      "[]\n",
      "['e']\n",
      "['n']\n",
      "['v']\n",
      "['i']\n",
      "['o']\n",
      "['u']\n",
      "['s']\n",
      "[]\n",
      "['m']\n",
      "['o']\n",
      "['o']\n",
      "['n']\n",
      "[]\n",
      "['W']\n",
      "['h']\n",
      "['o']\n",
      "[]\n",
      "['i']\n",
      "['s']\n",
      "[]\n",
      "['a']\n",
      "['l']\n",
      "['r']\n",
      "['e']\n",
      "['a']\n",
      "['d']\n",
      "['y']\n",
      "[]\n",
      "['s']\n",
      "['i']\n",
      "['c']\n",
      "['k']\n",
      "[]\n",
      "['a']\n",
      "['n']\n",
      "['d']\n",
      "[]\n",
      "['p']\n",
      "['a']\n",
      "['l']\n",
      "['e']\n",
      "[]\n",
      "['w']\n",
      "['i']\n",
      "['t']\n",
      "['h']\n",
      "[]\n",
      "['g']\n",
      "['r']\n",
      "['i']\n",
      "['e']\n",
      "['f']\n",
      "[]\n"
     ]
    }
   ],
   "source": [
    "textFile = open('romeo.txt','r')\n",
    "print(textFile)\n",
    "print()\n",
    "\n",
    "\n",
    "textFileContent = textFile.read()    # .read() - reads file and returns 1 massive 'string'\n",
    "\n",
    "for line in textFileContent:\n",
    "    \n",
    "    print(line.split())    # each line is just a letter - print(line) would print each letter individually"
   ]
  },
  {
   "cell_type": "code",
   "execution_count": 184,
   "metadata": {},
   "outputs": [],
   "source": [
    "textFile.close()"
   ]
  },
  {
   "cell_type": "code",
   "execution_count": 186,
   "metadata": {},
   "outputs": [
    {
     "name": "stdout",
     "output_type": "stream",
     "text": [
      "But soft what light through yonder window breaks\n",
      "\n",
      "\n",
      "['B']\n",
      "['u']\n",
      "['t']\n",
      "[]\n",
      "['s']\n",
      "['o']\n",
      "['f']\n",
      "['t']\n",
      "[]\n",
      "['w']\n",
      "['h']\n",
      "['a']\n",
      "['t']\n",
      "[]\n",
      "['l']\n",
      "['i']\n",
      "['g']\n",
      "['h']\n",
      "['t']\n",
      "[]\n",
      "['t']\n",
      "['h']\n",
      "['r']\n",
      "['o']\n",
      "['u']\n",
      "['g']\n",
      "['h']\n",
      "[]\n",
      "['y']\n",
      "['o']\n",
      "['n']\n",
      "['d']\n",
      "['e']\n",
      "['r']\n",
      "[]\n",
      "['w']\n",
      "['i']\n",
      "['n']\n",
      "['d']\n",
      "['o']\n",
      "['w']\n",
      "[]\n",
      "['b']\n",
      "['r']\n",
      "['e']\n",
      "['a']\n",
      "['k']\n",
      "['s']\n",
      "[]\n"
     ]
    }
   ],
   "source": [
    "textFile = open('romeo.txt','r')\n",
    "\n",
    "textFileContent = textFile.readline()    # .read() - reads file and returns 1st 'string'\n",
    "print(textFileContent)\n",
    "print()\n",
    "\n",
    "\n",
    "for line in textFileContent:\n",
    "    \n",
    "    print(line.split())                  # each line is just a letter - print(line) would print each letter individually"
   ]
  },
  {
   "cell_type": "code",
   "execution_count": 190,
   "metadata": {},
   "outputs": [],
   "source": [
    "textFile.close()"
   ]
  },
  {
   "cell_type": "code",
   "execution_count": 192,
   "metadata": {},
   "outputs": [
    {
     "name": "stdout",
     "output_type": "stream",
     "text": [
      "['But soft what light through yonder window breaks\\n', 'It is the east and Juliet is the sun\\n', 'Arise fair sun and kill the envious moon\\n', 'Who is already sick and pale with grief\\n']\n",
      "\n",
      "['But', 'soft', 'what', 'light', 'through', 'yonder', 'window', 'breaks']\n",
      "['It', 'is', 'the', 'east', 'and', 'Juliet', 'is', 'the', 'sun']\n",
      "['Arise', 'fair', 'sun', 'and', 'kill', 'the', 'envious', 'moon']\n",
      "['Who', 'is', 'already', 'sick', 'and', 'pale', 'with', 'grief']\n"
     ]
    }
   ],
   "source": [
    "textFile = open('romeo.txt','r')\n",
    "\n",
    "textFileContent = textFile.readlines()          # .readlines() - reads file as a - list - and seperates each [item] - by [\\n]\n",
    "print(textFileContent)\n",
    "print()\n",
    "\n",
    "\n",
    "#print(textFileContent)\n",
    "\n",
    "\n",
    "for line in textFileContent:\n",
    "    \n",
    "    print(line.split())                        # during iteration of - each line - line.split()\n",
    "                                                #- splits the words in line as [items] in a - list"
   ]
  },
  {
   "cell_type": "code",
   "execution_count": 193,
   "metadata": {},
   "outputs": [],
   "source": [
    "textFile.close()"
   ]
  },
  {
   "cell_type": "code",
   "execution_count": 2,
   "metadata": {},
   "outputs": [
    {
     "name": "stdout",
     "output_type": "stream",
     "text": [
      "['model 3', 'model y', 'r1tforester']\n",
      "['model', 'y']\n"
     ]
    }
   ],
   "source": [
    "listExample = ['model 3','model y', 'r1t' 'forester']\n",
    "\n",
    "print(listExample)\n",
    "\n",
    "print(listExample[1].split())"
   ]
  },
  {
   "cell_type": "code",
   "execution_count": null,
   "metadata": {},
   "outputs": [],
   "source": []
  },
  {
   "cell_type": "code",
   "execution_count": null,
   "metadata": {},
   "outputs": [],
   "source": []
  },
  {
   "cell_type": "code",
   "execution_count": null,
   "metadata": {},
   "outputs": [],
   "source": [
    "####\n",
    "# '' will be true no matter what is in 'string'\n",
    "\n",
    "'' in 'ABC123!@#'"
   ]
  },
  {
   "cell_type": "code",
   "execution_count": null,
   "metadata": {},
   "outputs": [],
   "source": [
    "# [ ] create and populate list called phone_letters then print it\n",
    "\n",
    "phoneLetters = [' ','','ABC','DEF','GHI','JKL','MNO','PQRS','TUV','WXYZ',]\n",
    "\n",
    "print(phoneLetters)"
   ]
  },
  {
   "cell_type": "code",
   "execution_count": null,
   "metadata": {},
   "outputs": [],
   "source": [
    "'1'.upper() # 'number' as a 'string' can use methods - will still pass through key conditional"
   ]
  },
  {
   "cell_type": "code",
   "execution_count": null,
   "metadata": {},
   "outputs": [],
   "source": [
    "def letterToNumber():\n",
    "    \n",
    "    letterSearch = input('Enter a letter, space, or enter: ')\n",
    "    \n",
    "#    if letterSearch.isdigit():\n",
    "#        print('Not found')\n",
    "\n",
    "    if letterSearch == ' ':\n",
    "        return 0\n",
    "    \n",
    "    elif letterSearch == '':\n",
    "        return 1\n",
    "    \n",
    "    else:\n",
    "        key = 0                     # 'number' as a 'string' can use methods - will still pass through key conditional\n",
    "                                    # also any other characters will pass and the print('Not found') will cover all cases\n",
    "        while key < 10:             # - that are not letters, ' ', or  ''\n",
    "            \n",
    "            if letterSearch.upper() in phoneLetters[key]:\n",
    "                return key\n",
    "            else:\n",
    "                key += 1                                     # add [1] to iteration variable to increase index\n",
    "\n",
    "    print('Not found')\n",
    "\n",
    "letterToNumber()"
   ]
  },
  {
   "cell_type": "markdown",
   "metadata": {},
   "source": [
    "# reverse a 'string'"
   ]
  },
  {
   "cell_type": "code",
   "execution_count": 3,
   "metadata": {},
   "outputs": [
    {
     "name": "stdout",
     "output_type": "stream",
     "text": [
      "Enter a string: alex\n",
      "['a', 'l', 'e', 'x']\n",
      "xela\n"
     ]
    }
   ],
   "source": [
    "# [ ] Challenge: write the code for \"reverse a string\"\n",
    "\n",
    "    \n",
    "inputString = input('Enter a string: ')\n",
    "\n",
    "stringList = []\n",
    "\n",
    "\n",
    "for letter in inputString:\n",
    "    \n",
    "    stringList.append(letter)\n",
    "    \n",
    "print(stringList)\n",
    "\n",
    "\n",
    "newString = ''\n",
    "count = 0\n",
    "\n",
    "while stringList:                  # count < len(stringList)   - also works\n",
    "                                   #for letter in stringList:  - does not work\n",
    "    newString += stringList.pop()  # stringList.pop() - deletes characters and iteration does not reach character length of list\n",
    "    \n",
    "print(newString)"
   ]
  }
 ],
 "metadata": {
  "kernelspec": {
   "display_name": "Python 3",
   "language": "python",
   "name": "python3"
  },
  "language_info": {
   "codemirror_mode": {
    "name": "ipython",
    "version": 3
   },
   "file_extension": ".py",
   "mimetype": "text/x-python",
   "name": "python",
   "nbconvert_exporter": "python",
   "pygments_lexer": "ipython3",
   "version": "3.7.0"
  }
 },
 "nbformat": 4,
 "nbformat_minor": 2
}
