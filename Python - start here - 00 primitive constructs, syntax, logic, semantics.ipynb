{
 "cells": [
  {
   "cell_type": "markdown",
   "metadata": {},
   "source": [
    "# `Python`: Start Here\n",
    "## primitive constructs, syntax, logic, semantics\n",
    " \n",
    " <img src=\"pythonLogo.png\" height=\"20%\" width=\"20%\"/>"
   ]
  },
  {
   "cell_type": "markdown",
   "metadata": {},
   "source": [
    "# Programs - Scripts\n",
    "a program is a sequence of instructions that proceed through a series of well-defined states, that are predictable, take input and produce output to perform a computation or action."
   ]
  },
  {
   "cell_type": "markdown",
   "metadata": {},
   "source": [
    "# Python\n",
    "- is a high-level interpreted language"
   ]
  },
  {
   "cell_type": "markdown",
   "metadata": {},
   "source": [
    "# High-level vs Low-level programming languages\n",
    "\n",
    "### High-level programming language (Source Code)\n",
    "- A language easy for humans to read & write\n",
    "- Source Code\n",
    "- Converted to machine-level language for a CPU to directly interpret\n",
    "\n",
    "### Low-level programming language (Machine Code)\n",
    "- A language at machine-level ready for a computer to directly interpret\n",
    "- Machine Code\n",
    "- Assembly language, Machine Language, Machine Code"
   ]
  },
  {
   "cell_type": "markdown",
   "metadata": {},
   "source": [
    "# Interpreted & Compiled computer languages\n",
    "\n",
    "### Interpreted languages\n",
    "- High-level programming languages\n",
    "- Called source code\n",
    "- Parsed sequentially, line by line\n",
    "- Executed directly by the interpreter\n",
    "\n",
    "### Compiled languages\n",
    "- Low-level programming languages\n",
    "- Called machine code\n",
    "- Compiled into machine code by a compiler\n",
    "- Executable file (Machine code) is created from compilation & ready to execute directly by the CPU"
   ]
  },
  {
   "cell_type": "markdown",
   "metadata": {},
   "source": [
    "## Using programming languages requires knowledge of the\n",
    "\n",
    "###  primitive constructs\n",
    " - \"spelling\" & \"vocabulary\" of a language\n",
    " - reserved words, built in functions, primitive constructs (types) relating to values of data\n",
    " \n",
    "### syntax\n",
    " - \"sentence structure\"\n",
    " - valid ways to use values & variables in expressions & commands\n",
    "\n",
    "### static semantics (logic)\n",
    " - \"paragraph structure\"\n",
    " \n",
    "### semantics.\n",
    " - \"meaning\" behind the \"paragraphs\"\n",
    " - intended function & value output of program\n",
    "\n",
    "<br/>"
   ]
  },
  {
   "cell_type": "markdown",
   "metadata": {},
   "source": [
    "# Values, Variables, & Expressions"
   ]
  },
  {
   "cell_type": "markdown",
   "metadata": {},
   "source": [
    "## Values\n",
    "- are the basic forms of data\n",
    "- represented as literals or constants"
   ]
  },
  {
   "cell_type": "code",
   "execution_count": 1,
   "metadata": {},
   "outputs": [],
   "source": [
    "# Character or Sequence of Characters - (Sentences/Alpha-numeric sequences of characters)"
   ]
  },
  {
   "cell_type": "code",
   "execution_count": 6,
   "metadata": {},
   "outputs": [
    {
     "data": {
      "text/plain": [
       "'a'"
      ]
     },
     "execution_count": 6,
     "metadata": {},
     "output_type": "execute_result"
    }
   ],
   "source": [
    "'a'"
   ]
  },
  {
   "cell_type": "code",
   "execution_count": 7,
   "metadata": {},
   "outputs": [
    {
     "data": {
      "text/plain": [
       "'word'"
      ]
     },
     "execution_count": 7,
     "metadata": {},
     "output_type": "execute_result"
    }
   ],
   "source": [
    "'word'"
   ]
  },
  {
   "cell_type": "code",
   "execution_count": 8,
   "metadata": {},
   "outputs": [
    {
     "data": {
      "text/plain": [
       "'This is a sentence.'"
      ]
     },
     "execution_count": 8,
     "metadata": {},
     "output_type": "execute_result"
    }
   ],
   "source": [
    "'This is a sentence.'"
   ]
  },
  {
   "cell_type": "code",
   "execution_count": null,
   "metadata": {},
   "outputs": [],
   "source": [
    "# Number Values (Constants)"
   ]
  },
  {
   "cell_type": "code",
   "execution_count": 9,
   "metadata": {},
   "outputs": [
    {
     "data": {
      "text/plain": [
       "42"
      ]
     },
     "execution_count": 9,
     "metadata": {},
     "output_type": "execute_result"
    }
   ],
   "source": [
    "42"
   ]
  },
  {
   "cell_type": "code",
   "execution_count": 10,
   "metadata": {},
   "outputs": [
    {
     "data": {
      "text/plain": [
       "3.14"
      ]
     },
     "execution_count": 10,
     "metadata": {},
     "output_type": "execute_result"
    }
   ],
   "source": [
    "3.14"
   ]
  },
  {
   "cell_type": "markdown",
   "metadata": {},
   "source": [
    "## Types\n",
    "groups these basic forms of data belong to\n",
    "\n",
    "- Strings\n",
    "- Integers\n",
    "- Floating point numbers\n",
    "- Boolean"
   ]
  },
  {
   "cell_type": "markdown",
   "metadata": {},
   "source": [
    "### type() - function\n",
    "returns the type of a value"
   ]
  },
  {
   "cell_type": "code",
   "execution_count": 3,
   "metadata": {},
   "outputs": [
    {
     "data": {
      "text/plain": [
       "int"
      ]
     },
     "execution_count": 3,
     "metadata": {},
     "output_type": "execute_result"
    }
   ],
   "source": [
    "type(42)"
   ]
  },
  {
   "cell_type": "code",
   "execution_count": 11,
   "metadata": {},
   "outputs": [
    {
     "name": "stdout",
     "output_type": "stream",
     "text": [
      "<class 'str'>\n"
     ]
    }
   ],
   "source": [
    "print(type('onomatopoeia'))"
   ]
  },
  {
   "cell_type": "markdown",
   "metadata": {},
   "source": [
    "## Strings\n",
    "Sequence of 1 or more characters"
   ]
  },
  {
   "cell_type": "markdown",
   "metadata": {},
   "source": [
    "### enclosed in ' ' or \" \"\n",
    "'strings' are enclosed in\n",
    "- ' '\n",
    "- \" \"\n",
    "\n",
    "##### pair must match"
   ]
  },
  {
   "cell_type": "code",
   "execution_count": 121,
   "metadata": {},
   "outputs": [],
   "source": [
    "# String ' ' or \" \" must match\n",
    "# 'String\"   # SyntaxError: EOL while scanning string literal"
   ]
  },
  {
   "cell_type": "code",
   "execution_count": 6,
   "metadata": {},
   "outputs": [
    {
     "data": {
      "text/plain": [
       "str"
      ]
     },
     "execution_count": 6,
     "metadata": {},
     "output_type": "execute_result"
    }
   ],
   "source": [
    "'A'                     # A string character"
   ]
  },
  {
   "cell_type": "code",
   "execution_count": 12,
   "metadata": {},
   "outputs": [
    {
     "data": {
      "text/plain": [
       "'Word'"
      ]
     },
     "execution_count": 12,
     "metadata": {},
     "output_type": "execute_result"
    }
   ],
   "source": [
    "'Word'                  # A string word"
   ]
  },
  {
   "cell_type": "code",
   "execution_count": 8,
   "metadata": {},
   "outputs": [
    {
     "data": {
      "text/plain": [
       "'This is still a string'"
      ]
     },
     "execution_count": 8,
     "metadata": {},
     "output_type": "execute_result"
    }
   ],
   "source": [
    "'This is a sentence'     # A string sentence\n",
    "\n",
    "\"This is still a string\""
   ]
  },
  {
   "cell_type": "code",
   "execution_count": 122,
   "metadata": {},
   "outputs": [
    {
     "data": {
      "text/plain": [
       "'42'"
      ]
     },
     "execution_count": 122,
     "metadata": {},
     "output_type": "execute_result"
    }
   ],
   "source": [
    "'42'                    # A string number"
   ]
  },
  {
   "cell_type": "code",
   "execution_count": 15,
   "metadata": {},
   "outputs": [
    {
     "data": {
      "text/plain": [
       "'R2D2'"
      ]
     },
     "execution_count": 15,
     "metadata": {},
     "output_type": "execute_result"
    }
   ],
   "source": [
    "'R2D2'                   # A string alphanumeric combination"
   ]
  },
  {
   "cell_type": "code",
   "execution_count": 7,
   "metadata": {},
   "outputs": [
    {
     "data": {
      "text/plain": [
       "str"
      ]
     },
     "execution_count": 7,
     "metadata": {},
     "output_type": "execute_result"
    }
   ],
   "source": [
    "type('A')"
   ]
  },
  {
   "cell_type": "code",
   "execution_count": 123,
   "metadata": {},
   "outputs": [
    {
     "data": {
      "text/plain": [
       "str"
      ]
     },
     "execution_count": 123,
     "metadata": {},
     "output_type": "execute_result"
    }
   ],
   "source": [
    "type('42')"
   ]
  },
  {
   "cell_type": "markdown",
   "metadata": {},
   "source": [
    "## Integers\n",
    "Represent\n",
    "- Natural numbers  (\"Counting numbers\": 1,2,3,4,5 ...)\n",
    "- Whole numbers    (0, & the natural numbers)\n",
    "- Integers         (0, positive natural numbers & thier corresponding negative numbers)"
   ]
  },
  {
   "cell_type": "code",
   "execution_count": 16,
   "metadata": {},
   "outputs": [
    {
     "data": {
      "text/plain": [
       "42"
      ]
     },
     "execution_count": 16,
     "metadata": {},
     "output_type": "execute_result"
    }
   ],
   "source": [
    "42"
   ]
  },
  {
   "cell_type": "code",
   "execution_count": 1,
   "metadata": {},
   "outputs": [
    {
     "data": {
      "text/plain": [
       "0"
      ]
     },
     "execution_count": 1,
     "metadata": {},
     "output_type": "execute_result"
    }
   ],
   "source": [
    "0"
   ]
  },
  {
   "cell_type": "code",
   "execution_count": 2,
   "metadata": {},
   "outputs": [
    {
     "data": {
      "text/plain": [
       "-100"
      ]
     },
     "execution_count": 2,
     "metadata": {},
     "output_type": "execute_result"
    }
   ],
   "source": [
    "-100"
   ]
  },
  {
   "cell_type": "markdown",
   "metadata": {},
   "source": [
    "## Floating point numbers\n",
    "Represent\n",
    "\n",
    "- Fractional numbers (rational numbers, irrational numbers, real numbers)\n",
    "- can represent integers also (as floating point numbers)"
   ]
  },
  {
   "cell_type": "code",
   "execution_count": 19,
   "metadata": {},
   "outputs": [
    {
     "data": {
      "text/plain": [
       "3.14"
      ]
     },
     "execution_count": 19,
     "metadata": {},
     "output_type": "execute_result"
    }
   ],
   "source": [
    "3.14"
   ]
  },
  {
   "cell_type": "code",
   "execution_count": 20,
   "metadata": {},
   "outputs": [
    {
     "data": {
      "text/plain": [
       "2.0"
      ]
     },
     "execution_count": 20,
     "metadata": {},
     "output_type": "execute_result"
    }
   ],
   "source": [
    "2.0"
   ]
  },
  {
   "cell_type": "markdown",
   "metadata": {},
   "source": [
    "## Boolean\n",
    "Represent truth values\n",
    "- True\n",
    "- False"
   ]
  },
  {
   "cell_type": "code",
   "execution_count": null,
   "metadata": {},
   "outputs": [],
   "source": [
    "True"
   ]
  },
  {
   "cell_type": "code",
   "execution_count": null,
   "metadata": {},
   "outputs": [],
   "source": [
    "False"
   ]
  },
  {
   "cell_type": "markdown",
   "metadata": {},
   "source": [
    "## Variables\n",
    "- names bound to location in memory of literals or constants (fundamental representations of data)\n",
    "- variables are symbols & their data are symbolized"
   ]
  },
  {
   "cell_type": "code",
   "execution_count": null,
   "metadata": {},
   "outputs": [],
   "source": [
    "x = 42"
   ]
  },
  {
   "cell_type": "markdown",
   "metadata": {},
   "source": [
    "### assigning variables\n",
    "- variables are assigned values using = operator\n",
    "- variableName = valueLiteral\n",
    "- assignment expression - assigns variable a value"
   ]
  },
  {
   "cell_type": "code",
   "execution_count": null,
   "metadata": {},
   "outputs": [],
   "source": [
    "approximationOfPI = 3.14"
   ]
  },
  {
   "cell_type": "code",
   "execution_count": 131,
   "metadata": {},
   "outputs": [],
   "source": [
    "name = 'Alexander'"
   ]
  },
  {
   "cell_type": "markdown",
   "metadata": {},
   "source": [
    "### variables - symbolic representation of literals (constants)\n",
    "variables & literals they are bound to\n",
    "- have the same value"
   ]
  },
  {
   "cell_type": "code",
   "execution_count": 132,
   "metadata": {},
   "outputs": [
    {
     "name": "stdout",
     "output_type": "stream",
     "text": [
      "Alexander\n",
      "Alexander\n"
     ]
    }
   ],
   "source": [
    "print('Alexander')\n",
    "print(name)"
   ]
  },
  {
   "cell_type": "markdown",
   "metadata": {},
   "source": [
    "### naming variables\n",
    "begin with \n",
    "- _\n",
    "- uppercase letter\n",
    "- lowercase letter\n",
    "\n",
    "can include\n",
    "- numbers\n",
    "- _\n",
    "- uppercase letter\n",
    "- lowercase letter"
   ]
  },
  {
   "cell_type": "code",
   "execution_count": 124,
   "metadata": {},
   "outputs": [],
   "source": [
    "alphaNumeric1234 = 'string'"
   ]
  },
  {
   "cell_type": "code",
   "execution_count": 125,
   "metadata": {},
   "outputs": [],
   "source": [
    "ALPHANumeric1234 = 'string'"
   ]
  },
  {
   "cell_type": "code",
   "execution_count": 126,
   "metadata": {},
   "outputs": [],
   "source": [
    "_alphaNumeric1234 = 'string'"
   ]
  },
  {
   "cell_type": "code",
   "execution_count": 128,
   "metadata": {},
   "outputs": [],
   "source": [
    "# 1234alphaNumeric = 'string'   # SyntaxError: invalid syntax"
   ]
  },
  {
   "cell_type": "markdown",
   "metadata": {},
   "source": [
    "### reassigning variables\n",
    "variables can be reassigned new values"
   ]
  },
  {
   "cell_type": "code",
   "execution_count": 135,
   "metadata": {},
   "outputs": [
    {
     "name": "stdout",
     "output_type": "stream",
     "text": [
      "36\n",
      "2.718\n"
     ]
    }
   ],
   "source": [
    "valueNumber = 36                   # valueNumber instantiated and assigned 36 - assignment expression\n",
    "\n",
    "print(valueNumber)\n",
    "\n",
    "\n",
    "valueNumber = 2.718                # valueNumber reassigned new float value\n",
    "\n",
    "print(valueNumber)"
   ]
  },
  {
   "cell_type": "markdown",
   "metadata": {},
   "source": [
    "### reassigning variables - different types\n",
    "variables can be reassigned new values and change types"
   ]
  },
  {
   "cell_type": "code",
   "execution_count": 133,
   "metadata": {},
   "outputs": [
    {
     "name": "stdout",
     "output_type": "stream",
     "text": [
      "Thirty Six\n"
     ]
    }
   ],
   "source": [
    "valueNumber = 36                   # valueNumber instantiated and assigned 36 - assignment expression\n",
    "\n",
    "print(valueNumber)\n",
    "\n",
    "\n",
    "valueNumber = 'Thirty Six'         # valueNumber reassigned new 'string' value\n",
    "\n",
    "print(valueNumber)"
   ]
  },
  {
   "cell_type": "markdown",
   "metadata": {},
   "source": [
    "### multiple assignment expression\n",
    "multiple variables can be assigned simultaneously\n",
    "- separated by , comma"
   ]
  },
  {
   "cell_type": "code",
   "execution_count": 8,
   "metadata": {},
   "outputs": [
    {
     "name": "stdout",
     "output_type": "stream",
     "text": [
      "2.718 42.0 3.14\n"
     ]
    }
   ],
   "source": [
    "x, y, z = 2.718, 42.0, 3.14\n",
    "\n",
    "print(x, y, z)"
   ]
  },
  {
   "cell_type": "markdown",
   "metadata": {},
   "source": [
    "### assignment expression - multiple types\n",
    "multiple variables can be assigned simultaneously\n",
    "- values can be expressions"
   ]
  },
  {
   "cell_type": "code",
   "execution_count": 13,
   "metadata": {},
   "outputs": [
    {
     "name": "stdout",
     "output_type": "stream",
     "text": [
      "string value 42 3.14\n"
     ]
    }
   ],
   "source": [
    "i, j, k = 'string ' + 'value', 40 + 2, 3.14\n",
    "\n",
    "print(i, j, k)"
   ]
  },
  {
   "cell_type": "markdown",
   "metadata": {},
   "source": [
    "## Operands\n",
    "- Values\n",
    "<br/> &\n",
    "- Variables"
   ]
  },
  {
   "cell_type": "code",
   "execution_count": null,
   "metadata": {},
   "outputs": [],
   "source": [
    "# values - literals or constants (fundamental representations of data)"
   ]
  },
  {
   "cell_type": "code",
   "execution_count": null,
   "metadata": {},
   "outputs": [],
   "source": [
    "42"
   ]
  },
  {
   "cell_type": "code",
   "execution_count": null,
   "metadata": {},
   "outputs": [],
   "source": [
    "3.14"
   ]
  },
  {
   "cell_type": "code",
   "execution_count": null,
   "metadata": {},
   "outputs": [],
   "source": [
    "# variables - names bound to location in memory of literals or constants"
   ]
  },
  {
   "cell_type": "code",
   "execution_count": null,
   "metadata": {},
   "outputs": [],
   "source": [
    "x = 42"
   ]
  },
  {
   "cell_type": "code",
   "execution_count": null,
   "metadata": {},
   "outputs": [],
   "source": [
    "studentID = 54226312"
   ]
  },
  {
   "cell_type": "code",
   "execution_count": null,
   "metadata": {},
   "outputs": [],
   "source": [
    "name = Alexander"
   ]
  },
  {
   "cell_type": "markdown",
   "metadata": {},
   "source": [
    "## Operators\n",
    "- symbols that represent computations\n",
    "- used in combination with values & variables yield a new value"
   ]
  },
  {
   "cell_type": "markdown",
   "metadata": {},
   "source": [
    "#### Assignment Operator =\n",
    "- assign values to variables"
   ]
  },
  {
   "cell_type": "code",
   "execution_count": 12,
   "metadata": {},
   "outputs": [],
   "source": [
    "variableA = 3.14"
   ]
  },
  {
   "cell_type": "code",
   "execution_count": null,
   "metadata": {},
   "outputs": [],
   "source": [
    "nameOfStudent = 'Alex'"
   ]
  },
  {
   "cell_type": "code",
   "execution_count": 13,
   "metadata": {},
   "outputs": [],
   "source": [
    "newtonsFirstLaw = 'Every object will remain at rest or in uniform motion unless acted on by a net force.'"
   ]
  },
  {
   "cell_type": "markdown",
   "metadata": {},
   "source": [
    "## String Operators\n",
    "- manipulate strings"
   ]
  },
  {
   "cell_type": "markdown",
   "metadata": {},
   "source": [
    "### concatenation operator +"
   ]
  },
  {
   "cell_type": "code",
   "execution_count": 16,
   "metadata": {},
   "outputs": [
    {
     "data": {
      "text/plain": [
       "'Alexander'"
      ]
     },
     "execution_count": 16,
     "metadata": {},
     "output_type": "execute_result"
    }
   ],
   "source": [
    "# Concatenation operator +\n",
    "# will produce a combination of 'strings' exactly as they are inside ''\n",
    "\n",
    "'Alex' + 'ander'"
   ]
  },
  {
   "cell_type": "code",
   "execution_count": 27,
   "metadata": {},
   "outputs": [
    {
     "name": "stdout",
     "output_type": "stream",
     "text": [
      "Force = mass * acceleration\n"
     ]
    }
   ],
   "source": [
    "# ' ' space is added inside the 'string ' + 'literals' --> 'string literals'\n",
    "# - between + concatenation operators\n",
    "\n",
    "newtonsSecondLaw = 'Force' + ' = ' + 'mass * ' + 'acceleration'\n",
    "\n",
    "print(newtonsSecondLaw)"
   ]
  },
  {
   "cell_type": "code",
   "execution_count": 28,
   "metadata": {},
   "outputs": [
    {
     "name": "stdout",
     "output_type": "stream",
     "text": [
      "R2D2\n"
     ]
    }
   ],
   "source": [
    "alphaNumeric = 'R' + '2' + 'D2'\n",
    "\n",
    "print(alphaNumeric)"
   ]
  },
  {
   "cell_type": "markdown",
   "metadata": {},
   "source": [
    "### 'strings' must be combined with 'string's\n",
    "- can not be combined with numbers or other types\n",
    "\n"
   ]
  },
  {
   "cell_type": "code",
   "execution_count": 37,
   "metadata": {},
   "outputs": [],
   "source": [
    "# TypeError: unsupported operand type(s) for +: 'int' and 'str'\n",
    "\n",
    "# 42 + 'string'"
   ]
  },
  {
   "cell_type": "code",
   "execution_count": 36,
   "metadata": {},
   "outputs": [],
   "source": [
    "# TypeError: unsupported operand type(s) for +: 'float' and 'str'\n",
    "\n",
    "# 2.718 + 'string'"
   ]
  },
  {
   "cell_type": "code",
   "execution_count": 35,
   "metadata": {},
   "outputs": [],
   "source": [
    "# TypeError: unsupported operand type(s) for +: 'bool' and 'str'\n",
    "\n",
    "# True + 'string'"
   ]
  },
  {
   "cell_type": "markdown",
   "metadata": {},
   "source": [
    "### replication operator *"
   ]
  },
  {
   "cell_type": "code",
   "execution_count": 57,
   "metadata": {},
   "outputs": [
    {
     "data": {
      "text/plain": [
       "'echoechoechoechoechoecho'"
      ]
     },
     "execution_count": 57,
     "metadata": {},
     "output_type": "execute_result"
    }
   ],
   "source": [
    "# Replication operator +\n",
    "# will replicate 'string' * [N] times\n",
    "\n",
    "'echo' * 6"
   ]
  },
  {
   "cell_type": "code",
   "execution_count": 58,
   "metadata": {},
   "outputs": [
    {
     "data": {
      "text/plain": [
       "'hellohellohellohellohellohellohellohellohellohellohellohellohellohellohellohellohellohellohellohellohellohellohellohellohellohellohellohellohellohellohellohellohellohellohellohello'"
      ]
     },
     "execution_count": 58,
     "metadata": {},
     "output_type": "execute_result"
    }
   ],
   "source": [
    "36 * 'hello'"
   ]
  },
  {
   "cell_type": "markdown",
   "metadata": {},
   "source": [
    "#### replication operator * - integer argument\n",
    "- must take [int] as argument\n",
    "- can not take a [float]"
   ]
  },
  {
   "cell_type": "code",
   "execution_count": 50,
   "metadata": {},
   "outputs": [],
   "source": [
    "# TypeError: can't multiply sequence by non-int of type 'float'\n",
    "\n",
    "# 2.718 * 'echo'"
   ]
  },
  {
   "cell_type": "markdown",
   "metadata": {},
   "source": [
    "#### replication operator * - precedence\n",
    "- follows order of operations\n",
    "- does not work on multiple concatenation of 'string's\n",
    "- only next in order of operations"
   ]
  },
  {
   "cell_type": "code",
   "execution_count": 42,
   "metadata": {},
   "outputs": [
    {
     "data": {
      "text/plain": [
       "'Alexanderrrrrrrrrrrrrrrrrrrrrrrrrrrrrrrrrrrrrrrrrr'"
      ]
     },
     "execution_count": 42,
     "metadata": {},
     "output_type": "execute_result"
    }
   ],
   "source": [
    "'Alexande' + 'r' * 42"
   ]
  },
  {
   "cell_type": "code",
   "execution_count": 45,
   "metadata": {},
   "outputs": [
    {
     "data": {
      "text/plain": [
       "'AlexandeAlexander'"
      ]
     },
     "execution_count": 45,
     "metadata": {},
     "output_type": "execute_result"
    }
   ],
   "source": [
    "2 * 'Alexande' + 'r'"
   ]
  },
  {
   "cell_type": "markdown",
   "metadata": {},
   "source": [
    "#### Mathematical operators & 'strings'\n",
    "- only mathematical operator that works with 'string'\n",
    "- only expression where a number (integer or float) works with 'string'"
   ]
  },
  {
   "cell_type": "code",
   "execution_count": 65,
   "metadata": {},
   "outputs": [],
   "source": [
    "# ***DOES NOT WORK***\n",
    "\n",
    "integerOrFloat = 42.00\n",
    "\n",
    "#integerOrFloat ** 'str'        # TypeError: unsupported operand type(s) for ** or pow(): 'float' and 'str'\n",
    "\n",
    "#integerOrFloat +  'str'        # TypeError: unsupported operand type(s) for +: 'float' and 'str'\n",
    "\n",
    "#integerOrFloat /  'str'        # TypeError: unsupported operand type(s) for /: 'float' and 'str'\n",
    "\n",
    "#integerOrFloat // 'str'        # TypeError: unsupported operand type(s) for //: 'float' and 'str'\n",
    "\n",
    "#integerOrFloat %  'str'        # TypeError: unsupported operand type(s) for %: 'float' and 'str'\n",
    "\n",
    "#integerOrFloat +  'str'        # TypeError: unsupported operand type(s) for +: 'float' and 'str'\n",
    "\n",
    "#integerOrFloat -  'str'        # TypeError: unsupported operand type(s) for -: 'float' and 'str'"
   ]
  },
  {
   "cell_type": "markdown",
   "metadata": {},
   "source": [
    "## Mathematical Operators\n",
    "- perform arithmetic computations"
   ]
  },
  {
   "cell_type": "markdown",
   "metadata": {},
   "source": [
    "## Operator Precedence\n",
    "- (P)arenthesis\n",
    "- (E)xponents\n",
    "- (M)ultiplication\n",
    "- (A)ddition\n",
    "- (S)ubtraction"
   ]
  },
  {
   "cell_type": "code",
   "execution_count": null,
   "metadata": {},
   "outputs": [],
   "source": [
    "# ()\n",
    "# **\n",
    "# *\n",
    "# /\n",
    "# +\n",
    "# -\n",
    "\n",
    "# //\n",
    "# %"
   ]
  },
  {
   "cell_type": "code",
   "execution_count": null,
   "metadata": {},
   "outputs": [],
   "source": [
    "# Parenthesis             ()"
   ]
  },
  {
   "cell_type": "code",
   "execution_count": null,
   "metadata": {},
   "outputs": [],
   "source": [
    "# Exponentiation          **"
   ]
  },
  {
   "cell_type": "code",
   "execution_count": null,
   "metadata": {},
   "outputs": [],
   "source": [
    "# Multiplication          *"
   ]
  },
  {
   "cell_type": "code",
   "execution_count": null,
   "metadata": {},
   "outputs": [],
   "source": [
    "# Division                /"
   ]
  },
  {
   "cell_type": "code",
   "execution_count": null,
   "metadata": {},
   "outputs": [],
   "source": [
    "# Addition                +"
   ]
  },
  {
   "cell_type": "code",
   "execution_count": null,
   "metadata": {},
   "outputs": [],
   "source": [
    "# Subtraction             -"
   ]
  },
  {
   "cell_type": "markdown",
   "metadata": {},
   "source": [
    "## Values produced are \n",
    "- integers \n",
    "- unless combined with floating point numbers"
   ]
  },
  {
   "cell_type": "code",
   "execution_count": 67,
   "metadata": {},
   "outputs": [],
   "source": [
    "x = 3\n",
    "y = 6"
   ]
  },
  {
   "cell_type": "code",
   "execution_count": 70,
   "metadata": {},
   "outputs": [
    {
     "data": {
      "text/plain": [
       "33"
      ]
     },
     "execution_count": 70,
     "metadata": {},
     "output_type": "execute_result"
    }
   ],
   "source": [
    "# Parenthesis             ()\n",
    "\n",
    "(x ** x) + y              # (3)^3 + 6\n",
    "                          #   27  + 6 = 33"
   ]
  },
  {
   "cell_type": "code",
   "execution_count": 71,
   "metadata": {},
   "outputs": [
    {
     "data": {
      "text/plain": [
       "729"
      ]
     },
     "execution_count": 71,
     "metadata": {},
     "output_type": "execute_result"
    }
   ],
   "source": [
    "# Exponentiation          **\n",
    "\n",
    "x ** y"
   ]
  },
  {
   "cell_type": "code",
   "execution_count": 72,
   "metadata": {},
   "outputs": [
    {
     "data": {
      "text/plain": [
       "18"
      ]
     },
     "execution_count": 72,
     "metadata": {},
     "output_type": "execute_result"
    }
   ],
   "source": [
    "# Multiplication          *\n",
    "\n",
    "x * y"
   ]
  },
  {
   "cell_type": "code",
   "execution_count": 73,
   "metadata": {},
   "outputs": [
    {
     "data": {
      "text/plain": [
       "9"
      ]
     },
     "execution_count": 73,
     "metadata": {},
     "output_type": "execute_result"
    }
   ],
   "source": [
    "# Addition                +\n",
    "\n",
    "x + y"
   ]
  },
  {
   "cell_type": "code",
   "execution_count": 74,
   "metadata": {},
   "outputs": [
    {
     "data": {
      "text/plain": [
       "-3"
      ]
     },
     "execution_count": 74,
     "metadata": {},
     "output_type": "execute_result"
    }
   ],
   "source": [
    "# Subtraction             -\n",
    "\n",
    "x - y"
   ]
  },
  {
   "cell_type": "markdown",
   "metadata": {},
   "source": [
    "#### floored division truncates value\n",
    "- converts to integer\n",
    "- removes the remainer after the decimal place"
   ]
  },
  {
   "cell_type": "code",
   "execution_count": 77,
   "metadata": {},
   "outputs": [
    {
     "data": {
      "text/plain": [
       "1"
      ]
     },
     "execution_count": 77,
     "metadata": {},
     "output_type": "execute_result"
    }
   ],
   "source": [
    "# Floored Division        //\n",
    "\n",
    "4 // 3"
   ]
  },
  {
   "cell_type": "code",
   "execution_count": 78,
   "metadata": {},
   "outputs": [
    {
     "data": {
      "text/plain": [
       "1.3333333333333333"
      ]
     },
     "execution_count": 78,
     "metadata": {},
     "output_type": "execute_result"
    }
   ],
   "source": [
    "4/3"
   ]
  },
  {
   "cell_type": "markdown",
   "metadata": {},
   "source": [
    "#### if there is only a decimal remainder\n",
    "- value becomes 0"
   ]
  },
  {
   "cell_type": "code",
   "execution_count": 79,
   "metadata": {},
   "outputs": [
    {
     "data": {
      "text/plain": [
       "0"
      ]
     },
     "execution_count": 79,
     "metadata": {},
     "output_type": "execute_result"
    }
   ],
   "source": [
    "# 3/4 produces only a decimal remainder\n",
    "# floored division retians 0 as the value\n",
    "\n",
    "3//4"
   ]
  },
  {
   "cell_type": "code",
   "execution_count": 82,
   "metadata": {},
   "outputs": [
    {
     "data": {
      "text/plain": [
       "0.75"
      ]
     },
     "execution_count": 82,
     "metadata": {},
     "output_type": "execute_result"
    }
   ],
   "source": [
    "# 3/4 produces only a decimal remainder\n",
    "\n",
    "3/4"
   ]
  },
  {
   "cell_type": "markdown",
   "metadata": {},
   "source": [
    "#### modulus % division\n",
    "- returns the value of the remainder\n",
    "- after divisor is evenly divided into divisor"
   ]
  },
  {
   "cell_type": "code",
   "execution_count": 87,
   "metadata": {},
   "outputs": [
    {
     "data": {
      "text/plain": [
       "0"
      ]
     },
     "execution_count": 87,
     "metadata": {},
     "output_type": "execute_result"
    }
   ],
   "source": [
    "# Modulus Division        %\n",
    "# dividend - 6\n",
    "# divisor  - 3\n",
    "\n",
    "# 6/3 = 2.0\n",
    "# remainder is 0\n",
    "\n",
    "6 % 3"
   ]
  },
  {
   "cell_type": "code",
   "execution_count": 91,
   "metadata": {},
   "outputs": [
    {
     "data": {
      "text/plain": [
       "2"
      ]
     },
     "execution_count": 91,
     "metadata": {},
     "output_type": "execute_result"
    }
   ],
   "source": [
    "# Modulus Division        %\n",
    "# dividend - 20\n",
    "# divisor  - 3\n",
    "\n",
    "# 3*6 = 18 - [20 -18 = 2]\n",
    "# remainder is 2\n",
    "\n",
    "20 % 3"
   ]
  },
  {
   "cell_type": "markdown",
   "metadata": {},
   "source": [
    "#### modulus % - can be used to check if a number is divisible by another"
   ]
  },
  {
   "cell_type": "code",
   "execution_count": 35,
   "metadata": {},
   "outputs": [
    {
     "data": {
      "text/plain": [
       "0"
      ]
     },
     "execution_count": 35,
     "metadata": {},
     "output_type": "execute_result"
    }
   ],
   "source": [
    "# 4 is evenly divided by 2 - with no remainder\n",
    "\n",
    "# Modulus Division        %\n",
    "# dividend - 4\n",
    "# divisor  - 2\n",
    "\n",
    "# 4 / 2 = 2.0 --> [4 - 4 = 0]\n",
    "# remainder is [0]\n",
    "\n",
    "\n",
    "4%2"
   ]
  },
  {
   "cell_type": "code",
   "execution_count": 45,
   "metadata": {},
   "outputs": [
    {
     "data": {
      "text/plain": [
       "1"
      ]
     },
     "execution_count": 45,
     "metadata": {},
     "output_type": "execute_result"
    }
   ],
   "source": [
    "# 3 is not evenly divided by 2 - has remainder\n",
    "\n",
    "# Modulus Division        %\n",
    "# dividend - 3\n",
    "# divisor  - 2\n",
    "\n",
    "# 3 / 2 = 1 --> [3 - 2 = 1]\n",
    "# remainder is [1]\n",
    "\n",
    "\n",
    "3%2"
   ]
  },
  {
   "cell_type": "markdown",
   "metadata": {},
   "source": [
    "#### modulus % - can be used to remove base ten places before decimal"
   ]
  },
  {
   "cell_type": "markdown",
   "metadata": {},
   "source": [
    "#### modulus % 10 - yields remainder - no digits before the decimal"
   ]
  },
  {
   "cell_type": "code",
   "execution_count": 97,
   "metadata": {},
   "outputs": [
    {
     "data": {
      "text/plain": [
       "0.4346356"
      ]
     },
     "execution_count": 97,
     "metadata": {},
     "output_type": "execute_result"
    }
   ],
   "source": [
    "# Modulus Division        %\n",
    "# dividend - 24.4346356\n",
    "# divisor  - 1\n",
    "\n",
    "# 24.4346356 / 1 = 24 - [24.4346356 - 24 = 0.4346356]\n",
    "# remainder is [0.4346356]\n",
    "\n",
    "\n",
    "24.4346356 % 1"
   ]
  },
  {
   "cell_type": "markdown",
   "metadata": {},
   "source": [
    "#### modulus % 10 - yields right most digit"
   ]
  },
  {
   "cell_type": "code",
   "execution_count": 98,
   "metadata": {},
   "outputs": [
    {
     "data": {
      "text/plain": [
       "4.4346356"
      ]
     },
     "execution_count": 98,
     "metadata": {},
     "output_type": "execute_result"
    }
   ],
   "source": [
    "# Modulus Division        %\n",
    "# dividend - 24.4346356\n",
    "# divisor  - 10\n",
    "\n",
    "# 24.4346356 / 10 = 2 - [24.4346356 - 20 = 4.4346356]\n",
    "# remainder is [4.4346356]\n",
    "\n",
    "\n",
    "24.4346356 % 10"
   ]
  },
  {
   "cell_type": "markdown",
   "metadata": {},
   "source": [
    "#### modulus % 10 - yields last two right most digits"
   ]
  },
  {
   "cell_type": "code",
   "execution_count": 49,
   "metadata": {},
   "outputs": [
    {
     "data": {
      "text/plain": [
       "24.434635600000547"
      ]
     },
     "execution_count": 49,
     "metadata": {},
     "output_type": "execute_result"
    }
   ],
   "source": [
    "# Modulus Division        %\n",
    "# dividend - 24.4346356\n",
    "# divisor  - 10\n",
    "\n",
    "# 24.4346356 / 10 = 2 - [24.4346356 - 20 = 4.4346356]\n",
    "# remainder is [4.4346356]\n",
    "\n",
    "\n",
    "9924.4346356 % 100"
   ]
  },
  {
   "cell_type": "markdown",
   "metadata": {},
   "source": [
    "## Values produced are \n",
    "- floating point numbers"
   ]
  },
  {
   "cell_type": "markdown",
   "metadata": {},
   "source": [
    "### division automatically produces a floating point number\n",
    "- to represent rational numbers"
   ]
  },
  {
   "cell_type": "code",
   "execution_count": 75,
   "metadata": {},
   "outputs": [
    {
     "data": {
      "text/plain": [
       "0.5"
      ]
     },
     "execution_count": 75,
     "metadata": {},
     "output_type": "execute_result"
    }
   ],
   "source": [
    "# Division                /\n",
    "\n",
    "x / y"
   ]
  },
  {
   "cell_type": "code",
   "execution_count": 83,
   "metadata": {},
   "outputs": [
    {
     "data": {
      "text/plain": [
       "2.0"
      ]
     },
     "execution_count": 83,
     "metadata": {},
     "output_type": "execute_result"
    }
   ],
   "source": [
    "4/2"
   ]
  },
  {
   "cell_type": "markdown",
   "metadata": {},
   "source": [
    "# Operands\n",
    "- values    (liters or constants)\n",
    "- variables (symbolic representation of value) - name bound to location in memory of value"
   ]
  },
  {
   "cell_type": "markdown",
   "metadata": {},
   "source": [
    "## Statements\n",
    "basic units of code:\n",
    "\n",
    "- Definitions\n",
    "  - assignment statements\n",
    "  - expressions\n",
    "\n",
    "<br/>\n",
    "\n",
    "- Commands\n",
    "  - print() function"
   ]
  },
  {
   "cell_type": "markdown",
   "metadata": {},
   "source": [
    "#### Executed\n",
    "- directly in interactive mode\n",
    "- sequentially if source code is run as a program (script)"
   ]
  },
  {
   "cell_type": "markdown",
   "metadata": {},
   "source": [
    "## Assignment (statement)\n",
    "- assignment expression"
   ]
  },
  {
   "cell_type": "markdown",
   "metadata": {},
   "source": [
    "### assignment statement ="
   ]
  },
  {
   "cell_type": "code",
   "execution_count": 117,
   "metadata": {},
   "outputs": [
    {
     "name": "stdout",
     "output_type": "stream",
     "text": [
      "3.14\n"
     ]
    }
   ],
   "source": [
    "PI = 3.14\n",
    "\n",
    "print(PI)"
   ]
  },
  {
   "cell_type": "markdown",
   "metadata": {},
   "source": [
    "# Expression (statement)\n",
    "any combination of:\n",
    "### Operators\n",
    "&\n",
    "### Operands \n",
    "    - values\n",
    "    - variables\n",
    "    \n",
    "#### evaluated to yield a value"
   ]
  },
  {
   "cell_type": "markdown",
   "metadata": {},
   "source": [
    "### string concatenation expression +"
   ]
  },
  {
   "cell_type": "code",
   "execution_count": 118,
   "metadata": {},
   "outputs": [
    {
     "name": "stdout",
     "output_type": "stream",
     "text": [
      "Words to the song\n"
     ]
    }
   ],
   "source": [
    "lyricLine = 'Words' + ' to the ' + 'song'\n",
    "\n",
    "print(lyricLine)"
   ]
  },
  {
   "cell_type": "markdown",
   "metadata": {},
   "source": [
    "### mathematical expression ( ), **, *, /, +, - (PEMDAS)"
   ]
  },
  {
   "cell_type": "code",
   "execution_count": 119,
   "metadata": {},
   "outputs": [
    {
     "name": "stdout",
     "output_type": "stream",
     "text": [
      "1760\n"
     ]
    }
   ],
   "source": [
    "answer = 32 * 55\n",
    "\n",
    "print(answer)"
   ]
  },
  {
   "cell_type": "markdown",
   "metadata": {},
   "source": [
    "## # comments\n",
    "- # followed by any characters\n",
    "- not interpreted and left as comment"
   ]
  },
  {
   "cell_type": "code",
   "execution_count": 2,
   "metadata": {},
   "outputs": [
    {
     "name": "stdout",
     "output_type": "stream",
     "text": [
      "This script has comments\n"
     ]
    }
   ],
   "source": [
    "# comments can have thier own line\n",
    "\n",
    "print('This script has comments')        # can follow a line\n",
    "\n",
    "\n",
    "# print('This statement is visible')     # can be used to 'comment' out code - so it is not executed"
   ]
  }
 ],
 "metadata": {
  "kernelspec": {
   "display_name": "Python 3",
   "language": "python",
   "name": "python3"
  },
  "language_info": {
   "codemirror_mode": {
    "name": "ipython",
    "version": 3
   },
   "file_extension": ".py",
   "mimetype": "text/x-python",
   "name": "python",
   "nbconvert_exporter": "python",
   "pygments_lexer": "ipython3",
   "version": "3.7.0"
  }
 },
 "nbformat": 4,
 "nbformat_minor": 2
}
